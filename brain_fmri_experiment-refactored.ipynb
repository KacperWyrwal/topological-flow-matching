{
 "cells": [
  {
   "cell_type": "code",
   "execution_count": null,
   "id": "69aeba7b",
   "metadata": {},
   "outputs": [],
   "source": [
    "import torch \n",
    "import os\n",
    "import math\n",
    "import numpy as np\n",
    "import ot \n",
    "import plotly.express as px\n",
    "import scipy\n",
    "from torch_ema import ExponentialMovingAverage\n",
    "from matplotlib import pyplot as plt\n",
    "from matplotlib import cm\n",
    "from tqdm import tqdm\n",
    "from abc import ABC, abstractmethod\n",
    "from matplotlib.colors import Normalize\n",
    "from matplotlib.collections import LineCollection\n",
    "from geomloss import SamplesLoss\n",
    "from collections import defaultdict\n",
    "import sklearn\n",
    "import pandas as pd\n",
    "\n",
    "\n",
    "torch.set_default_dtype(torch.float64)\n",
    "device = torch.device(\"cuda\" if torch.cuda.is_available() else \"cpu\")\n",
    "torch.set_default_device(device)"
   ]
  },
  {
   "cell_type": "markdown",
   "id": "53824a85",
   "metadata": {},
   "source": [
    "## Utils"
   ]
  },
  {
   "cell_type": "code",
   "execution_count": null,
   "id": "800e8d01",
   "metadata": {},
   "outputs": [],
   "source": [
    "def sample_moons(shape: torch.Size, *, noise_std: float = 0.05) -> torch.Tensor:\n",
    "    \"\"\"\n",
    "    Generate samples from the two moons dataset.\n",
    "\n",
    "    Args:\n",
    "        shape (torch.Size): The desired output shape (excluding the last dimension, which will be 2).\n",
    "        noise_std (float, optional): Standard deviation of Gaussian noise added to the data. Default is 0.05.\n",
    "\n",
    "    Returns:\n",
    "        torch.Tensor: Samples from the two moons dataset with shape (*shape, 2).\n",
    "    \"\"\"\n",
    "    n = math.prod(shape)\n",
    "\n",
    "    x0 = sklearn.datasets.make_moons(n_samples=n, noise=noise_std)[0]\n",
    "    x0 = torch.as_tensor(x0)\n",
    "    x0 = x0 - torch.tensor([0.5, 0.25])\n",
    "\n",
    "    x0 = x0.reshape(*shape, -1)\n",
    "    return x0 \n",
    "\n",
    "\n",
    "def sample_eight_gaussians(shape: torch.Size, *, radius: float = 2.0, noise_std: float = 0.2) -> torch.Tensor:\n",
    "    \"\"\"\n",
    "    Generate samples from a mixture of eight 2D Gaussians arranged in a circle.\n",
    "\n",
    "    Args:\n",
    "        shape (torch.Size): The desired output shape (excluding the last dimension, which will be 2).\n",
    "        radius (float, optional): The radius of the circle on which the Gaussian centers are placed. Default is 2.0.\n",
    "        noise_std (float, optional): Standard deviation of each Gaussian. Default is 0.2.\n",
    "\n",
    "    Returns:\n",
    "        torch.Tensor: Samples from the eight Gaussians dataset with shape (*shape, 2).\n",
    "    \"\"\"\n",
    "    n = math.prod(shape)\n",
    "\n",
    "    angles = np.linspace(0, 2 * np.pi, 8, endpoint=False)\n",
    "    centers = np.column_stack([np.cos(angles), np.sin(angles)]) * radius\n",
    "    x1 = sklearn.datasets.make_blobs(\n",
    "        n_samples=n, \n",
    "        centers=centers, \n",
    "        cluster_std=noise_std, \n",
    "    )[0]\n",
    "    x1 = torch.as_tensor(x1)\n",
    "\n",
    "    x1 = x1.reshape(*shape, -1)\n",
    "    return x1\n",
    "\n",
    "\n",
    "class Moons(torch.distributions.Distribution):\n",
    "    \"\"\"\n",
    "    A PyTorch Distribution representing the two moons dataset.\n",
    "\n",
    "    Args:\n",
    "        noise_std (float, optional): Standard deviation of Gaussian noise added to the data. Default is 0.05.\n",
    "\n",
    "    Methods:\n",
    "        sample(shape): Generate samples from the two moons dataset with the specified shape.\n",
    "    \"\"\"\n",
    "\n",
    "    def __init__(self, noise_std: float = 0.05) -> None:\n",
    "        super().__init__(validate_args=False)\n",
    "        self.noise_std = noise_std\n",
    "\n",
    "    def sample(self, shape) -> torch.Tensor: \n",
    "        \"\"\"\n",
    "        Generate samples from the two moons dataset.\n",
    "\n",
    "        Args:\n",
    "            shape: The desired output shape (excluding the last dimension, which will be 2).\n",
    "\n",
    "        Returns:\n",
    "            torch.Tensor: Samples from the two moons dataset with shape (*shape, 2).\n",
    "        \"\"\"\n",
    "        return sample_moons(shape, noise_std=self.noise_std)\n",
    "\n",
    "\n",
    "class EightGaussians(torch.distributions.Distribution):\n",
    "    \"\"\"\n",
    "    A PyTorch Distribution representing a mixture of eight Gaussians arranged in a circle.\n",
    "\n",
    "    Args:\n",
    "        radius (float, optional): The radius of the circle on which the Gaussian centers are placed. Default is 2.0.\n",
    "        noise_std (float, optional): Standard deviation of each Gaussian. Default is 0.2.\n",
    "\n",
    "    Methods:\n",
    "        sample(shape): Generate samples from the eight Gaussians dataset with the specified shape.\n",
    "    \"\"\"\n",
    "\n",
    "    def __init__(self, radius: float = 2.0, noise_std: float = 0.2) -> None:\n",
    "        super().__init__(validate_args=False)\n",
    "        self.radius = radius \n",
    "        self.noise_std = noise_std\n",
    "\n",
    "    def sample(self, shape) -> torch.Tensor:\n",
    "        \"\"\"\n",
    "        Generate samples from the eight Gaussians dataset.\n",
    "\n",
    "        Args:\n",
    "            shape: The desired output shape (excluding the last dimension, which will be 2).\n",
    "\n",
    "        Returns:\n",
    "            torch.Tensor: Samples from the eight Gaussians dataset with shape (*shape, 2).\n",
    "        \"\"\"\n",
    "        return sample_eight_gaussians(shape, radius=self.radius, noise_std=self.noise_std)\n",
    "\n",
    "\n",
    "def torch_divmod(n: torch.Tensor, d: int) -> tuple[torch.Tensor, torch.Tensor]:\n",
    "    \"\"\"\n",
    "    Equivalent to divmod for tensors. TODO If implemented nicely in pytorch, could submit a PR. \n",
    "\n",
    "    parameters:\n",
    "        n: torch.Tensor, shape [...]\n",
    "        d: int\n",
    "\n",
    "    returns:\n",
    "        tuple of tensors, shape [...]\n",
    "    \"\"\"\n",
    "    return n // d, n % d\n",
    "\n",
    "\n",
    "def joint_multinomial(distribution: torch.Tensor, num_samples: int, replacement: bool = True) -> tuple[torch.Tensor, torch.Tensor]:\n",
    "    \"\"\"\n",
    "    Sample from a joint categorical distribution.\n",
    "\n",
    "    parameters:\n",
    "        distribution: torch.Tensor, shape (N, M)\n",
    "        num_samples: int, number of samples to draw\n",
    "        replacement: bool, whether to sample with replacement\n",
    "\n",
    "    returns:\n",
    "        torch.Tensor, shape (num_samples, 2)\n",
    "    \"\"\"\n",
    "    n, _ = distribution.shape\n",
    "    res = torch.multinomial(distribution.flatten(), num_samples, replacement=replacement)\n",
    "    res_i, res_j = torch_divmod(res, n)\n",
    "    return res_i, res_j\n",
    "\n",
    "\n",
    "def as_tensors(*args, dtype: torch.dtype | None = None, device: torch.device | None = None) -> tuple[torch.Tensor, ...]:\n",
    "    \"\"\"\n",
    "    Convert all arguments to tensors.\n",
    "    \"\"\"\n",
    "    return tuple(torch.as_tensor(arg, dtype=dtype, device=device) for arg in args)\n",
    "\n",
    "\n",
    "class PossiblyDegenerateNormal(torch.distributions.Normal):\n",
    "    \"\"\"\n",
    "    A Normal distribution that allows for degenerate cases where the scale (standard deviation) is zero.\n",
    "\n",
    "    This class extends torch.distributions.Normal to handle the case where the scale parameter is zero,\n",
    "    i.e., the distribution becomes a Dirac delta at the mean (loc). In such cases:\n",
    "      - log_prob returns 0 if value == loc, -inf otherwise.\n",
    "      - cdf returns 1 if value >= loc, 0 otherwise.\n",
    "      - icdf always returns loc.\n",
    "\n",
    "    Args:\n",
    "        loc (torch.Tensor | float): Mean of the distribution.\n",
    "        scale (torch.Tensor | float): Standard deviation (can be zero).\n",
    "        validate_args (bool | None): Whether to validate input arguments.\n",
    "\n",
    "    Attributes:\n",
    "        is_degenerate (bool or torch.Tensor): Indicates if the distribution is degenerate (scale == 0).\n",
    "    \"\"\"\n",
    "\n",
    "    arg_constraints = {\n",
    "        \"loc\": torch.distributions.constraints.real, \n",
    "        \"scale\": torch.distributions.constraints.greater_than_eq(0.0),\n",
    "    }\n",
    "\n",
    "    # TODO support is still given as Real()\n",
    "\n",
    "    def __init__(\n",
    "        self, \n",
    "        loc: torch.Tensor | float, \n",
    "        scale: torch.Tensor | float, \n",
    "        validate_args: bool | None = None, \n",
    "    ) -> None:\n",
    "        super().__init__(loc=loc, scale=scale, validate_args=validate_args)\n",
    "        self.is_degenerate = scale == 0.0\n",
    "\n",
    "    def log_prob(self, value: torch.Tensor) -> torch.Tensor:\n",
    "        \"\"\"\n",
    "        Computes the log probability of the given value under the distribution.\n",
    "\n",
    "        For degenerate cases (scale == 0), returns 0 if value == loc, -inf otherwise.\n",
    "        \"\"\"\n",
    "        log_prob_if_nondegenerate = super().log_prob(value)\n",
    "        log_prob_if_degenerate = torch.where(\n",
    "            self.loc == value, # This broadcasts in the same way as super().log_prob\n",
    "            0.0, \n",
    "            -torch.inf,\n",
    "        )\n",
    "        return torch.where(\n",
    "            self.is_degenerate,\n",
    "            log_prob_if_degenerate, \n",
    "            log_prob_if_nondegenerate,\n",
    "        )\n",
    "\n",
    "    def cdf(self, value: torch.Tensor) -> torch.Tensor:\n",
    "        \"\"\"\n",
    "        Computes the cumulative distribution function at the given value.\n",
    "\n",
    "        For degenerate cases (scale == 0), returns 1 if value >= loc, 0 otherwise.\n",
    "        \"\"\"\n",
    "        cdf_if_nondegenerate = super().cdf(value)\n",
    "        cdf_if_degenerate = torch.where(\n",
    "            self.loc <= value, \n",
    "            1.0,\n",
    "            0.0,\n",
    "        )\n",
    "        return torch.where(\n",
    "            self.is_degenerate,\n",
    "            cdf_if_degenerate, \n",
    "            cdf_if_nondegenerate,\n",
    "        ) \n",
    "\n",
    "    def icdf(self, value: torch.Tensor) -> torch.Tensor:\n",
    "        \"\"\"\n",
    "        Computes the inverse cumulative distribution function at the given value.\n",
    "\n",
    "        For degenerate cases (scale == 0), always returns loc.\n",
    "        \"\"\"\n",
    "        icdf_if_nondegenerate = super().icdf(value)\n",
    "        icdf_if_degenerate = self.loc\n",
    "        return torch.where(\n",
    "            self.is_degenerate,\n",
    "            icdf_if_degenerate, \n",
    "            icdf_if_nondegenerate,\n",
    "        )"
   ]
  },
  {
   "cell_type": "markdown",
   "id": "37c1c0cc",
   "metadata": {},
   "source": [
    "## SDEs and SDE solvers"
   ]
  },
  {
   "cell_type": "code",
   "execution_count": null,
   "id": "abd4b6fd",
   "metadata": {},
   "outputs": [],
   "source": [
    "class SDE(ABC):\n",
    "    \"\"\"\n",
    "    Base class for Diagonalizable SDEs. \n",
    "    \"\"\"\n",
    "    def __init__(self, dim: int, *, device: torch.device | None = None):\n",
    "        self._dim = dim \n",
    "        self.device = device \n",
    "\n",
    "    def to(self, device: torch.device | None = None) -> \"SDE\":\n",
    "        if device is not None:\n",
    "            self.device = device \n",
    "        return self \n",
    "\n",
    "    @property\n",
    "    def dim(self) -> int:\n",
    "        return self._dim\n",
    "\n",
    "    \n",
    "    @abstractmethod\n",
    "    def drift(\n",
    "        self, \n",
    "        t: torch.Tensor,\n",
    "        x: torch.Tensor,\n",
    "    ) -> torch.Tensor:\n",
    "        pass \n",
    "\n",
    "    @abstractmethod\n",
    "    def diffusion(\n",
    "        self, \n",
    "        t: torch.Tensor,\n",
    "        x: torch.Tensor,\n",
    "    ) -> torch.Tensor:\n",
    "        pass \n",
    "\n",
    "    @abstractmethod\n",
    "    def transition(\n",
    "        self, \n",
    "        t0: torch.Tensor, \n",
    "        t1: torch.Tensor,\n",
    "    ) -> torch.Tensor:\n",
    "        pass\n",
    "\n",
    "    def _mean(self, t: torch.Tensor) -> torch.Tensor:\n",
    "        raise NotImplementedError(\"Unconditional mean not implemented for this SDE.\") \n",
    "\n",
    "    @abstractmethod\n",
    "    def _mean_with_initial_condition(\n",
    "        self, \n",
    "        t: torch.Tensor, \n",
    "        *, \n",
    "        t0: torch.Tensor | None = None,\n",
    "        x0: torch.Tensor | None = None,\n",
    "    ) -> torch.Tensor:\n",
    "        pass \n",
    "\n",
    "    @abstractmethod\n",
    "    def _mean_with_initial_and_final_condition(\n",
    "        self, \n",
    "        t: torch.Tensor, \n",
    "        *, \n",
    "        t0: torch.Tensor | None = None,\n",
    "        x0: torch.Tensor | None = None,\n",
    "        t1: torch.Tensor | None = None,\n",
    "        x1: torch.Tensor | None = None,\n",
    "    ) -> torch.Tensor:\n",
    "        pass \n",
    "\n",
    "    def mean(\n",
    "        self, \n",
    "        t: torch.Tensor, \n",
    "        *,\n",
    "        t0: torch.Tensor | None = None, \n",
    "        x0: torch.Tensor | None = None,\n",
    "        t1: torch.Tensor | None = None,\n",
    "        x1: torch.Tensor | None = None,\n",
    "    ) -> torch.Tensor:\n",
    "        \"\"\"\n",
    "        Returns the mean of the SDE at time t. May be conditioned on initial and/or final conditions. \n",
    "        If t0 and t1 are True, then t0 = 0 and t1 = 1. \n",
    "\n",
    "        parameters: \n",
    "            t (torch.Tensor): [...] Times.\n",
    "            t0 (torch.Tensor): [...] Start times.\n",
    "            x0 (torch.Tensor): [..., D] Initial value.\n",
    "            t1 (torch.Tensor): [...] End times.\n",
    "\n",
    "        returns: \n",
    "            torch.Tensor: [..., D] Mean.\n",
    "        \"\"\"\n",
    "        if x0 is not None and x1 is not None:\n",
    "            if t0 is None:\n",
    "                t0 = t.new_zeros(t.shape) # [...]\n",
    "            if t1 is None:\n",
    "                t1 = t.new_ones(t.shape) # [...]\n",
    "            return self._mean_with_initial_and_final_condition(t=t, t0=t0, x0=x0, t1=t1, x1=x1)\n",
    "        elif x0 is not None:\n",
    "            if t0 is None:\n",
    "                t0 = t.new_zeros(t.shape) # [...]\n",
    "            return self._mean_with_initial_condition(t=t, t0=t0, x0=x0)\n",
    "        else:\n",
    "            return self._mean(t)\n",
    "\n",
    "    def _variance(\n",
    "        self, \n",
    "        t: torch.Tensor, \n",
    "    ) -> torch.Tensor:\n",
    "        raise NotImplementedError(\"Unconditional variance not implemented for this SDE.\") \n",
    "\n",
    "    @abstractmethod\n",
    "    def _variance_with_initial_condition(\n",
    "        self, \n",
    "        t: torch.Tensor, \n",
    "        *, \n",
    "        t0: torch.Tensor | None = None,\n",
    "    ) -> torch.Tensor:\n",
    "        pass \n",
    "\n",
    "    def _variance_with_initial_and_final_condition(\n",
    "        self, \n",
    "        t: torch.Tensor, \n",
    "        *, \n",
    "        t0: torch.Tensor | None = None, \n",
    "        t1: torch.Tensor | None = None,\n",
    "    ) -> torch.Tensor:\n",
    "        pass \n",
    "\n",
    "    def variance(\n",
    "        self, \n",
    "        t: torch.Tensor, \n",
    "        *, \n",
    "        t0: torch.Tensor | bool | None = None, \n",
    "        t1: torch.Tensor | bool | None = None,\n",
    "    ) -> torch.Tensor:\n",
    "        \"\"\"\n",
    "        Returns the variance of the SDE at time t. May be conditioned on initial and/or final conditions. \n",
    "        If t0 and t1 are True, then t0 = 0 and t1 = 1. \n",
    "\n",
    "        parameters: \n",
    "            t (torch.Tensor): [...] Times.\n",
    "            t0 (torch.Tensor): [...] Start times.\n",
    "            t1 (torch.Tensor): [...] End times.\n",
    "        \n",
    "        returns: \n",
    "            torch.Tensor: [..., D] Variance.\n",
    "        \"\"\"\n",
    "        # Set times to default values \n",
    "        if t0 is True:\n",
    "            t0 = t.new_zeros(t.shape) # [...]\n",
    "        if t1 is True:\n",
    "            t1 = t.new_ones(t.shape) # [...]\n",
    "\n",
    "        # Get variance assuming stochastic dimension\n",
    "        if t0 is not None and t1 is not None:\n",
    "            res = self._variance_with_initial_and_final_condition(t=t, t0=t0, t1=t1)\n",
    "        elif t0 is not None:\n",
    "            res = self._variance_with_initial_condition(t=t, t0=t0)\n",
    "        else:\n",
    "            res = self._variance(t)\n",
    "\n",
    "        return res\n",
    "\n",
    "    def _covariance(\n",
    "        self, \n",
    "        s: torch.Tensor,\n",
    "        t: torch.Tensor,\n",
    "    ) -> torch.Tensor:\n",
    "        raise NotImplementedError(\"Unconditional covariance not implemented for this SDE.\") \n",
    "\n",
    "    def _covariance_with_initial_condition(\n",
    "        self, \n",
    "        s: torch.Tensor, \n",
    "        t: torch.Tensor, \n",
    "        *, \n",
    "        t0: torch.Tensor | None = None,\n",
    "    ) -> torch.Tensor:\n",
    "        \"\"\"\n",
    "        Returns the covariance of the SDE between times s and t conditioned on being at x0 at time t0. \n",
    "\n",
    "        parameters: \n",
    "            s (torch.Tensor): [...] Start times.\n",
    "            t (torch.Tensor): [...] End times.\n",
    "            t0 (torch.Tensor): [...] Conditioning times.\n",
    "        returns: \n",
    "            torch.Tensor: [..., D] Diagonal of the (diagonal) covariance matrix.\n",
    "        \"\"\"\n",
    "        r = torch.minimum(s, t)\n",
    "        return self.transition(t0=r, t1=t) * self.variance(t=r, t0=t0) * self.transition(t0=r, t1=s)\n",
    "\n",
    "    def _covariance_with_initial_and_final_condition(\n",
    "        self, \n",
    "        s: torch.Tensor,\n",
    "        t: torch.Tensor,\n",
    "        *, \n",
    "        t0: torch.Tensor | None = None,\n",
    "        t1: torch.Tensor | None = None,\n",
    "    ) -> torch.Tensor:\n",
    "        # This could be implemented already here by conditioning of Gaussian processes, but is not needed for now. \n",
    "        raise NotImplementedError(\"Unconditional covariance not implemented yet. Can be implemented by the Gaussian process conditioning rule.\") \n",
    "\n",
    "    def covariance(\n",
    "        self, \n",
    "        s: torch.Tensor, \n",
    "        t: torch.Tensor, \n",
    "        *, \n",
    "        t0: torch.Tensor | bool | None = None, \n",
    "        t1: torch.Tensor | bool | None = None,\n",
    "    ) -> torch.Tensor:\n",
    "        if (t0 is True or t0 is not None) and (t1 is True or t1 is not None):\n",
    "            return self._covariance_with_initial_and_final_condition(s=s, t=t, t0=t0, t1=t1)\n",
    "        elif (t0 is True or t0 is not None):\n",
    "            return self._covariance_with_initial_condition(s=s, t=t, t0=t0)\n",
    "        else: \n",
    "            return self._covariance(s=s, t=t)\n",
    "\n",
    "    @abstractmethod\n",
    "    def marginal_distribution(\n",
    "        self, \n",
    "        t: torch.Tensor,\n",
    "        t0: torch.Tensor | None = None, \n",
    "        x0: torch.Tensor | None = None,\n",
    "        t1: torch.Tensor | None = None,\n",
    "        x1: torch.Tensor | None = None,\n",
    "    ) -> torch.Tensor:\n",
    "        \"\"\"\n",
    "        Returns the marginal distribution of the SDE at time t. May be conditioned on initial and/or final conditions. \n",
    "        If t0 and t1 are True, then t0 = 0 and t1 = 1. \n",
    "\n",
    "        parameters: \n",
    "            t (torch.Tensor): [...] Times.\n",
    "            t0 (torch.Tensor): [...] Start times.\n",
    "            x0 (torch.Tensor): [..., D] Initial value.\n",
    "            t1 (torch.Tensor): [...] End times.\n",
    "            x1 (torch.Tensor): [..., D] Target value.\n",
    "\n",
    "        returns: \n",
    "            torch.Tensor: [..., D] Marginal distribution at time t. \n",
    "        \"\"\"\n",
    "\n",
    "\n",
    "class DiagonalizableSDE(SDE):\n",
    "\n",
    "    @abstractmethod\n",
    "    def transform(self, x: torch.Tensor) -> torch.Tensor:\n",
    "        \"\"\"\n",
    "        Returns the transform of the SDE---i.e. x in eigencoordinates.\n",
    "\n",
    "        parameters: \n",
    "            x (torch.Tensor): [..., D] Initial value.\n",
    "\n",
    "        returns: \n",
    "            torch.Tensor: [..., D] Transform of the SDE.\n",
    "        \"\"\"\n",
    "\n",
    "    @abstractmethod\n",
    "    def inverse_transform(self, x: torch.Tensor) -> torch.Tensor:\n",
    "        \"\"\"\n",
    "        Transforms the points from eigencoordinates to the original coordinates. \n",
    "\n",
    "        parameters: \n",
    "            x (torch.Tensor): [..., D] Points in eigencoordinates.\n",
    "\n",
    "        returns: \n",
    "            torch.Tensor: [..., D] Points in original coordinates.\n",
    "        \"\"\"\n",
    "        pass\n",
    "\n",
    "    def _variance_with_initial_and_final_condition(self, t: torch.Tensor, *, t0: torch.Tensor | None = None, t1: torch.Tensor | None = None) -> torch.Tensor:\n",
    "        \"\"\"\n",
    "        Returns the variance of the SDE at time t, conditioned on being zero variance at time t0 and t1.\n",
    "\n",
    "        parameters: \n",
    "            t (torch.Tensor): [...] Times.\n",
    "            t0 (torch.Tensor): [...] Conditioning times.\n",
    "            t1 (torch.Tensor): [...] Conditioning times.\n",
    "\n",
    "        returns: \n",
    "            torch.Tensor: [..., D] Diagonal of the conditional variance of the SDE.\n",
    "        \"\"\"\n",
    "        sigmatt_given_t0 = self.variance(t=t, t0=t0)\n",
    "        sigmat1t_given_t0 = self.covariance(s=t, t=t1, t0=t0)\n",
    "        sigmat1t1_given_t0 = self.variance(t=t1, t0=t0)\n",
    "        \n",
    "        sigmatt_given_t0t1 = sigmatt_given_t0 - sigmat1t_given_t0.square() / sigmat1t1_given_t0\n",
    "\n",
    "        return sigmatt_given_t0t1\n",
    "\n",
    "    def marginal_distribution(\n",
    "        self, \n",
    "        t: torch.Tensor,\n",
    "        t0: torch.Tensor | None = None, \n",
    "        x0: torch.Tensor | None = None,\n",
    "        t1: torch.Tensor | None = None,\n",
    "        x1: torch.Tensor | None = None,\n",
    "    ) -> torch.Tensor:\n",
    "        \"\"\"\n",
    "        Returns the marginal distribution of the SDE at time t. May be conditioned on initial and/or final conditions. \n",
    "        If t0 and t1 are True, then t0 = 0 and t1 = 1. \n",
    "\n",
    "        parameters: \n",
    "            t (torch.Tensor): [...] Times.\n",
    "            t0 (torch.Tensor): [...] Start times.\n",
    "            x0 (torch.Tensor): [..., D] Initial value.\n",
    "            t1 (torch.Tensor): [...] End times.\n",
    "            x1 (torch.Tensor): [..., D] Target value.\n",
    "\n",
    "        returns: \n",
    "            torch.Tensor: [..., D] Marginal distribution at time t. \n",
    "        \"\"\"\n",
    "        if x0 is not None and t0 is None:\n",
    "            t0 = t.new_zeros(t.shape) # [...]\n",
    "        if x1 is not None and t1 is None:\n",
    "            t1 = t.new_ones(t.shape) # [...]\n",
    "\n",
    "        mean = self.mean(t=t, t0=t0, x0=x0, t1=t1, x1=x1)\n",
    "        variance = self.variance(t=t, t0=t0, t1=t1)\n",
    "        normal = PossiblyDegenerateNormal(loc=mean, scale=variance.sqrt())\n",
    "        return torch.distributions.Independent(normal, reinterpreted_batch_ndims=1)\n",
    "\n",
    "\n",
    "class OUDiagonalizableSDE(DiagonalizableSDE):\n",
    "    def __init__(self, alpha_diagonal: torch.Tensor, gamma_diagonal: torch.Tensor, device: torch.device | None = None):\n",
    "        \"\"\"\n",
    "        Creates the diagonal OU SDE.\n",
    "\n",
    "        ..math:: \n",
    "            dX_t = \\alpha X_t dt + \\gamma dW_t\n",
    "\n",
    "        parameters: \n",
    "            alpha_diagonal (torch.Tensor): [D] Vector representing the diagonal of the (diagonal)drift matrix alpha.\n",
    "            gamma_diagonal (torch.Tensor): [D] Vector representing the diagonal of the (diagonal) diffusion matrix gamma.\n",
    "        \"\"\"\n",
    "        dim = alpha_diagonal.shape[0]\n",
    "        super().__init__(dim=dim, device=device)\n",
    "        self.alpha_diagonal = alpha_diagonal.to(device)\n",
    "        self.gamma_diagonal = gamma_diagonal.to(device)\n",
    "\n",
    "    def to(self, device: torch.device) -> \"OUDiagonalizableSDE\":\n",
    "        super().to(device)\n",
    "        self.alpha_diagonal = self.alpha_diagonal.to(device)\n",
    "        self.gamma_diagonal = self.gamma_diagonal.to(device)\n",
    "        return self \n",
    "\n",
    "    def drift(self, t: torch.Tensor | None = None, x: torch.Tensor | None = None) -> torch.Tensor:\n",
    "        \"\"\"\n",
    "        Returns the drift of the SDE. \n",
    "\n",
    "        parameters: \n",
    "            t (torch.Tensor): [...] Times.\n",
    "            x (torch.Tensor): [..., D] Initial value.\n",
    "\n",
    "        returns: \n",
    "            torch.Tensor: [..., D] Drift of the SDE.\n",
    "        \"\"\"\n",
    "        return self.alpha_diagonal * x\n",
    "\n",
    "    def diffusion(self, t: torch.Tensor | None = None, x: torch.Tensor | None = None) -> torch.Tensor:\n",
    "        \"\"\"\n",
    "        Returns the diffusion of the SDE. \n",
    "\n",
    "        parameters: \n",
    "            t (torch.Tensor): [...] Times.\n",
    "\n",
    "        returns: \n",
    "            torch.Tensor: [D] Diffusion of the SDE.\n",
    "        \"\"\"\n",
    "        return self.gamma_diagonal\n",
    "\n",
    "    def transition(self, t0: torch.Tensor, t1: torch.Tensor) -> torch.Tensor:\n",
    "        \"\"\"\n",
    "        Returns a vector representing the transition matrix, which is itself a diagonal matrix. \n",
    "\n",
    "        parameters: \n",
    "            t0 (torch.Tensor): [...] Start times.\n",
    "            t1 (torch.Tensor): [...] End times.\n",
    "\n",
    "        returns: \n",
    "            torch.Tensor: [..., D] Diagonal of the transition matrix.\n",
    "        \"\"\"\n",
    "        delta = t1 - t0 # [...]\n",
    "        return torch.exp(torch.einsum(\"d, ... -> ...d\", self.alpha_diagonal, delta))\n",
    "\n",
    "\n",
    "    def _variance_with_initial_condition_over_gamma_squared(\n",
    "        self, \n",
    "        t: torch.Tensor, \n",
    "        *, \n",
    "        t0: torch.Tensor | None = None,\n",
    "        min_alpha_nonzero: float = 1e-8,\n",
    "    ) -> torch.Tensor:\n",
    "        \"\"\"\n",
    "        Returns the variance of the SDE at time t, conditioned on being zero-variance at time t0.\n",
    "\n",
    "        parameters: \n",
    "            t (torch.Tensor): [...] Times.\n",
    "            t0 (torch.Tensor): [...] Conditioning times.\n",
    "\n",
    "        returns: \n",
    "            torch.Tensor: [..., D] Diagonal of the variance of the SDE.\n",
    "        \"\"\"\n",
    "        variance_if_alpha_zero = (t - t0).unsqueeze(-1) # [..., 1]\n",
    "        variance_if_alpha_nonzero = (\n",
    "            (self.transition(t0=t0, t1=t).square() - 1) / (2 * self.alpha_diagonal)\n",
    "        ) # [..., D]\n",
    "        return torch.where(self.alpha_diagonal.abs() < min_alpha_nonzero, variance_if_alpha_zero, variance_if_alpha_nonzero) # [..., D]\n",
    "\n",
    "\n",
    "    def _covariance_with_initial_condition_over_gamma_squared(\n",
    "        self, \n",
    "        s: torch.Tensor, \n",
    "        t: torch.Tensor, \n",
    "        *, \n",
    "        t0: torch.Tensor | None = None,\n",
    "        min_alpha_nonzero: float = 1e-8,\n",
    "    ) -> torch.Tensor:\n",
    "        \"\"\"\n",
    "        Returns the covariance of the SDE between times s and t conditioned on being at x0 at time t0. \n",
    "\n",
    "        parameters: \n",
    "            s (torch.Tensor): [...] Start times.\n",
    "            t (torch.Tensor): [...] End times.\n",
    "            t0 (torch.Tensor): [...] Conditioning times.\n",
    "        returns: \n",
    "            torch.Tensor: [..., D] Diagonal of the (diagonal) covariance matrix.\n",
    "        \"\"\"\n",
    "        r = torch.minimum(s, t)\n",
    "        return (\n",
    "            self.transition(t0=r, t1=t) \n",
    "            * self._variance_with_initial_condition_over_gamma_squared(t=r, t0=t0, min_alpha_nonzero=min_alpha_nonzero) \n",
    "            * self.transition(t0=r, t1=s)\n",
    "        )\n",
    "\n",
    "    def _variance_with_initial_condition(\n",
    "        self, \n",
    "        t: torch.Tensor, \n",
    "        *, \n",
    "        t0: torch.Tensor | None = None,\n",
    "        min_alpha_nonzero: float = 1e-8\n",
    "    ) -> torch.Tensor:\n",
    "        \"\"\"\n",
    "        Returns the variance of the SDE at time t, conditioned on being zero-variance at time t0.\n",
    "\n",
    "        parameters: \n",
    "            t (torch.Tensor): [...] Times.\n",
    "            t0 (torch.Tensor): [...] Conditioning times.\n",
    "\n",
    "        returns: \n",
    "            torch.Tensor: [..., D] Diagonal of the variance of the SDE.\n",
    "        \"\"\"\n",
    "        return self.gamma_diagonal.square() * self._variance_with_initial_condition_over_gamma_squared(t=t, t0=t0, min_alpha_nonzero=min_alpha_nonzero)\n",
    "\n",
    "    def _mean_with_initial_condition(self, t: torch.Tensor, t0: torch.Tensor | None = None, x0: torch.Tensor | None = None) -> torch.Tensor:\n",
    "        \"\"\"\n",
    "        Returns the mean of the SDE conditioned on being at x0 at time t0.\n",
    "        \n",
    "        parameters: \n",
    "            t (torch.Tensor): [...] Times.\n",
    "            t0 (torch.Tensor): [...] Start times.\n",
    "            x0 (torch.Tensor): [..., D] Initial value.\n",
    "\n",
    "        returns: \n",
    "            torch.Tensor: [..., D] Mean of the SDE.\n",
    "        \"\"\"\n",
    "        return self.transition(t0=t0, t1=t) * x0 # [..., D] * [..., D] -> [..., D]\n",
    "\n",
    "    def _mean_with_initial_and_final_condition(self, t: torch.Tensor, t0: torch.Tensor | None = None, x0: torch.Tensor | None = None, t1: torch.Tensor | None = None, x1: torch.Tensor | None = None) -> torch.Tensor:\n",
    "        \"\"\"\n",
    "        Returns the mean of the SDE conditioned on being at x0 at time t0 and x1 at time t1. \n",
    "\n",
    "        parameters: \n",
    "            t (torch.Tensor): [...] End times.\n",
    "            t0 (torch.Tensor): [...] Start times.\n",
    "            x0 (torch.Tensor): [..., D] Initial value.\n",
    "            t1 (torch.Tensor): [...] End times.\n",
    "            x1 (torch.Tensor): [..., D] Target value.\n",
    "\n",
    "        returns: \n",
    "            torch.Tensor: [..., D] Conditional mean of the SDE.\n",
    "        \"\"\"\n",
    "        m_t = self._mean_with_initial_condition(t=t, t0=t0, x0=x0)\n",
    "        m_t1 = self._mean_with_initial_condition(t=t1, t0=t0, x0=x0)\n",
    "        sigma_t1t_over_gamma_squared = self._covariance_with_initial_condition_over_gamma_squared(s=t, t=t1, t0=t0) # FIXME This should be symmetric but is antisymmetric\n",
    "        sigma_t1t1_over_gamma_squared = self._variance_with_initial_condition_over_gamma_squared(t=t1, t0=t0)\n",
    "        return m_t + sigma_t1t_over_gamma_squared / sigma_t1t1_over_gamma_squared * (x1 - m_t1)\n",
    "     \n",
    "\n",
    "class PossiblyDegenerateOUDiagonalizableSDE(OUDiagonalizableSDE):\n",
    "    \"\"\"\n",
    "    Extension of OUDiagonalizableSDE that handles the possibility of degenerate (zero) diffusion coefficients.\n",
    "\n",
    "    If any entry in gamma_diagonal is zero, the corresponding variance and covariance entries are set to zero,\n",
    "    effectively treating those dimensions as deterministic.\n",
    "\n",
    "    Attributes:\n",
    "        is_degenerate (torch.Tensor): Boolean tensor indicating which dimensions are degenerate (gamma_diagonal == 0).\n",
    "    \"\"\"\n",
    "\n",
    "    def __init__(self, alpha_diagonal: torch.Tensor, gamma_diagonal: torch.Tensor, device: torch.device | None = None):\n",
    "        \"\"\"\n",
    "        Initializes the PossiblyDegenerateOUDiagonalizableSDE.\n",
    "\n",
    "        Args:\n",
    "            alpha_diagonal (torch.Tensor): Diagonal elements of the drift matrix.\n",
    "            gamma_diagonal (torch.Tensor): Diagonal elements of the diffusion matrix.\n",
    "            device (torch.device, optional): Device to use for tensors.\n",
    "        \"\"\"\n",
    "        super().__init__(alpha_diagonal, gamma_diagonal, device)\n",
    "        self.is_degenerate = self.gamma_diagonal == 0.0\n",
    "\n",
    "    def variance(self, t: torch.Tensor, *, t0: torch.Tensor | bool | None = None, t1: torch.Tensor | bool | None = None) -> torch.Tensor:\n",
    "        \"\"\"\n",
    "        Returns the variance of the SDE at time t, setting variance to zero for degenerate dimensions.\n",
    "\n",
    "        Args:\n",
    "            t (torch.Tensor): Times at which to evaluate the variance.\n",
    "            t0 (torch.Tensor | bool | None, optional): Initial times or condition.\n",
    "            t1 (torch.Tensor | bool | None, optional): Final times or condition.\n",
    "\n",
    "        Returns:\n",
    "            torch.Tensor: Variance tensor with zeros in degenerate dimensions.\n",
    "        \"\"\"\n",
    "        return torch.where(\n",
    "            self.is_degenerate, \n",
    "            0.0, \n",
    "            super().variance(t=t, t0=t0, t1=t1),\n",
    "        )\n",
    "\n",
    "    def covariance(self, s: torch.Tensor, t: torch.Tensor, *, t0: torch.Tensor | bool | None = None, t1: torch.Tensor | bool | None = None) -> torch.Tensor:\n",
    "        \"\"\"\n",
    "        Returns the covariance of the SDE between times s and t, setting covariance to zero for degenerate dimensions.\n",
    "\n",
    "        Args:\n",
    "            s (torch.Tensor): Start times.\n",
    "            t (torch.Tensor): End times.\n",
    "            t0 (torch.Tensor | bool | None, optional): Initial times or condition.\n",
    "            t1 (torch.Tensor | bool | None, optional): Final times or condition.\n",
    "\n",
    "        Returns:\n",
    "            torch.Tensor: Covariance tensor with zeros in degenerate dimensions.\n",
    "        \"\"\"\n",
    "        return torch.where(\n",
    "            self.is_degenerate, \n",
    "            0.0, \n",
    "            super().covariance(s=s, t=t, t0=t0, t1=t1),\n",
    "        )\n",
    "\n",
    "\n",
    "class HeatBMTSDE(PossiblyDegenerateOUDiagonalizableSDE):\n",
    "    def __init__(self, L: torch.Tensor, c: torch.Tensor, sigma: torch.Tensor, device: torch.device | None = None, q_brownian_motion: bool = False, alpha: float | None = None):\n",
    "        \"\"\"\n",
    "        Creates the heat BM SDE:\n",
    "\n",
    "        ..math:: \n",
    "            dX_t = -cLX_t dt + \\sigma dW_t\n",
    "\n",
    "        parameters: \n",
    "            L (torch.Tensor): [D, D] Matrix representing the Laplacian.\n",
    "            c (torch.Tensor): [] Scalar greater than or equal to 0.\n",
    "            sigma (torch.Tensor): [] Scalar diffusion coefficient.\n",
    "        \"\"\"\n",
    "        L = torch.as_tensor(L, device=device)\n",
    "        c = torch.as_tensor(c, device=device)\n",
    "        sigma = torch.as_tensor(sigma, device=device)\n",
    "        \n",
    "        eigenvalues, eigenvectors = torch.linalg.eigh(L)\n",
    "        alpha_diagonal = -c * eigenvalues\n",
    "        if q_brownian_motion:\n",
    "            alpha = alpha or (L.shape[0] / 2.0 + 1.0) # TODO Add a better default. Alpha must be greater that dim / 2 though\n",
    "            Q_diagonal = (torch.ones_like(eigenvalues) - eigenvalues).pow(-alpha)\n",
    "            gamma_diagonal = sigma * Q_diagonal.sqrt()\n",
    "        else:\n",
    "            gamma_diagonal = sigma * torch.ones_like(eigenvalues) # TODO Add a Q-Brownian motion option. If true, multiply by sqrt(eigenvalues)\n",
    "        \n",
    "        super().__init__(alpha_diagonal=alpha_diagonal, gamma_diagonal=gamma_diagonal, device=device)\n",
    "        self.eigenvalues = eigenvalues.to(device)\n",
    "        self.eigenvectors = eigenvectors.to(device)\n",
    "\n",
    "    def to(self, device: torch.device) -> \"HeatBMTSDE\":\n",
    "        super().to(device)\n",
    "        self.eigenvalues = self.eigenvalues.to(device)\n",
    "        self.eigenvectors = self.eigenvectors.to(device)\n",
    "        return self \n",
    "\n",
    "    def transform(self, x: torch.Tensor) -> torch.Tensor:\n",
    "        \"\"\"\n",
    "        Returns the transform of the SDE -- i.e. x in eigencoordinates.\n",
    "\n",
    "        parameters: \n",
    "            x (torch.Tensor): [..., D] Initial value.\n",
    "\n",
    "        returns: \n",
    "            torch.Tensor: [..., D] Transform of the SDE.\n",
    "        \"\"\"\n",
    "        return torch.einsum(\"ij, ...j -> ...i\", self.eigenvectors.mT, x) # [D, D] * [..., D] -> [..., D]\n",
    "\n",
    "    def inverse_transform(self, x: torch.Tensor) -> torch.Tensor:\n",
    "        \"\"\"\n",
    "        Returns the inverse transform of the SDE. \n",
    "\n",
    "        parameters: \n",
    "            x (torch.Tensor): [..., D] Initial value.\n",
    "\n",
    "        returns: \n",
    "            torch.Tensor: [..., D] Inverse transform of the SDE.\n",
    "        \"\"\"\n",
    "        return torch.einsum(\"ij, ...j -> ...i\", self.eigenvectors, x) # [D, D] * [..., D] -> [..., D]\n",
    "\n",
    "\n",
    "class UniformTimesteps:\n",
    "    \"\"\"\n",
    "    UniformTimesteps generates a sequence of uniformly spaced timesteps between 0 and 1 (inclusive),\n",
    "    with an optional initial value t0 for the first timestep. It also provides the uniform delta t\n",
    "    between steps and supports moving the tensors to a specified device.\n",
    "\n",
    "    Attributes:\n",
    "        n (int): Number of intervals (number of timesteps is n+1).\n",
    "        t (torch.Tensor): 1D tensor of shape (n+1,) containing the timesteps.\n",
    "        dt (torch.Tensor): 1D tensor of shape (n,) containing the uniform time differences between steps.\n",
    "        device (torch.device or None): The device on which the tensors are stored.\n",
    "\n",
    "    Methods:\n",
    "        to(device): Moves the tensors to the specified device.\n",
    "    \"\"\"\n",
    "    def __init__(self, n: int, device: torch.device | None = None, dtype: torch.dtype | None = None, t0: float | None = 1e-4):\n",
    "        \"\"\"\n",
    "        Initializes the UniformTimesteps object.\n",
    "\n",
    "        Args:\n",
    "            n (int): Number of intervals (must be greater than 1).\n",
    "            device (torch.device, optional): Device to store the tensors on.\n",
    "            dtype (torch.dtype, optional): Data type of the tensors.\n",
    "            t0 (float, optional): Initial value for the first timestep. If None, defaults to 1e-4.\n",
    "        \"\"\"\n",
    "        assert n > 1, \"Number of timesteps must be greater than 1\"\n",
    "        self.n = n\n",
    "        self.t = torch.linspace(0, 1, n + 1, dtype=dtype, device=device)\n",
    "        if t0 is not None:\n",
    "            self.t[0] = t0\n",
    "        \n",
    "        self.dt = torch.full((n, ), 1.0 / n, dtype=dtype, device=device)\n",
    "        self.device = device \n",
    "    \n",
    "    def to(self, device: torch.device | None = None) -> \"UniformTimesteps\":\n",
    "        \"\"\"\n",
    "        Moves the timestep and delta tensors to the specified device.\n",
    "\n",
    "        Args:\n",
    "            device (torch.device, optional): The device to move the tensors to.\n",
    "\n",
    "        Returns:\n",
    "            UniformTimesteps: self, with tensors moved to the specified device.\n",
    "        \"\"\"\n",
    "        if device is not None:\n",
    "            self.t = self.t.to(device)\n",
    "            self.dt = self.dt.to(device)\n",
    "            self.device = device\n",
    "        return self "
   ]
  },
  {
   "cell_type": "markdown",
   "id": "40bfa3ca",
   "metadata": {},
   "source": [
    "## Controls"
   ]
  },
  {
   "cell_type": "code",
   "execution_count": null,
   "id": "4105fc97",
   "metadata": {},
   "outputs": [],
   "source": [
    "def _bridge_control_generic(\n",
    "    sde: SDE, \n",
    "    t: torch.Tensor, \n",
    "    x: torch.Tensor, \n",
    "    *, \n",
    "    t1: torch.Tensor | None = None, \n",
    "    x1: torch.Tensor,\n",
    ") -> torch.Tensor:\n",
    "    \"\"\"\n",
    "    Returns the control for the bridge of the SDE at time t and position x needed to reach x1 at time t1. \n",
    "\n",
    "    parameters: \n",
    "        sde (SDE): The SDE to create the bridge control for.\n",
    "        t (torch.Tensor): [...] Current times.\n",
    "        x (torch.Tensor): [..., D] Current values.\n",
    "        t1 (torch.Tensor): [...] Target times.\n",
    "        x1 (torch.Tensor): [..., D] Target values.\n",
    "\n",
    "    returns: \n",
    "        torch.Tensor: [..., D] Control.\n",
    "    \"\"\"\n",
    "    if t1 is None:\n",
    "        t1 = x1.new_ones(x1.shape[:-1]) # [...]\n",
    "    score = sde.transition(t0=t, t1=t1) * (x1 - sde.mean(t0=t, x0=x, t=t1)) / sde.variance(t0=t, t=t1)\n",
    "    return sde.diffusion(t=t).square() * score\n",
    "\n",
    "\n",
    "def _bridge_control_ou(\n",
    "    sde: OUDiagonalizableSDE, \n",
    "    t: torch.Tensor, \n",
    "    x: torch.Tensor, \n",
    "    *, \n",
    "    t1: torch.Tensor | None = None, \n",
    "    x1: torch.Tensor,\n",
    ") -> torch.Tensor:\n",
    "    \"\"\"\n",
    "    Returns the control for the bridge of the Ornstein-Uhlenbeck (OU) SDE at time t and position x,\n",
    "    needed to reach x1 at time t1. Works in the ODE case (zero-noise) as well.\n",
    "\n",
    "    Parameters:\n",
    "        sde (OUDiagonalizableSDE): The OU SDE to create the bridge control for.\n",
    "        t (torch.Tensor): Current times. Shape: [...]\n",
    "        x (torch.Tensor): Current values. Shape: [..., D]\n",
    "        t1 (torch.Tensor, optional): Target times. Shape: [...]. If None, should be provided by caller.\n",
    "        x1 (torch.Tensor): Target values. Shape: [..., D]\n",
    "\n",
    "    Returns:\n",
    "        torch.Tensor: The control tensor of shape [..., D].\n",
    "    \"\"\"\n",
    "    return (\n",
    "        sde.transition(t0=t, t1=t1) \n",
    "        * (x1 - sde.mean(t0=t, x0=x, t=t1)) \n",
    "        / sde._variance_with_initial_condition_over_gamma_squared(t0=t, t=t1)\n",
    "    )\n",
    "\n",
    "\n",
    "def bridge_control(\n",
    "    sde: SDE, \n",
    "    t: torch.Tensor, \n",
    "    x: torch.Tensor, \n",
    "    *, \n",
    "    t1: torch.Tensor | None = None, \n",
    "    x1: torch.Tensor,\n",
    ") -> torch.Tensor:\n",
    "    \"\"\"\n",
    "    Returns the control for the bridge of the SDE at time t and position x needed to reach x1 at time t1. \n",
    "\n",
    "    parameters: \n",
    "        sde (SDE): The SDE to create the bridge control for.\n",
    "        t (torch.Tensor): [...] Current times.\n",
    "        x (torch.Tensor): [..., D] Current values.\n",
    "        t1 (torch.Tensor): [...] Target times.\n",
    "        x1 (torch.Tensor): [..., D] Target values.\n",
    "\n",
    "    returns: \n",
    "        torch.Tensor: [..., D] Control.\n",
    "    \"\"\"\n",
    "    if t1 is None:\n",
    "        t1 = x1.new_ones(x1.shape[:-1]) # [...]\n",
    "\n",
    "    if isinstance(sde, OUDiagonalizableSDE):\n",
    "        return _bridge_control_ou(sde=sde, t=t, x=x, t1=t1, x1=x1)\n",
    "    else:\n",
    "        return _bridge_control_generic(sde=sde, t=t, x=x, t1=t1, x1=x1)\n",
    "\n",
    "\n",
    "class Control:\n",
    "    \"\"\"\n",
    "    Abstract base class for control policies in SDEs.\n",
    "\n",
    "    This class defines the interface for control policies, which compute a control signal\n",
    "    at a given time and state. Subclasses should implement the `control` method.\n",
    "\n",
    "    Attributes:\n",
    "        device (torch.device or None): The device on which the control operates.\n",
    "    \"\"\"\n",
    "    def __init__(self, device: torch.device | None = None):\n",
    "        \"\"\"\n",
    "        Initializes the Control object.\n",
    "\n",
    "        Parameters:\n",
    "            device (torch.device, optional): The device to use for computations.\n",
    "        \"\"\"\n",
    "        self.device = None\n",
    "\n",
    "    def to(self, device: torch.device) -> \"Control\":\n",
    "        \"\"\"\n",
    "        Moves the control to the specified device.\n",
    "\n",
    "        Parameters:\n",
    "            device (torch.device): The device to move the control to.\n",
    "\n",
    "        Returns:\n",
    "            Control: self\n",
    "        \"\"\"\n",
    "        self.device = device \n",
    "        return self \n",
    "\n",
    "    @abstractmethod\n",
    "    def control(self, t: torch.Tensor, x: torch.Tensor, **kwargs) -> torch.Tensor:\n",
    "        \"\"\"\n",
    "        Computes the control at time t and position x.\n",
    "\n",
    "        Parameters:\n",
    "            t (torch.Tensor): Current times. Shape: [...]\n",
    "            x (torch.Tensor): Current values. Shape: [..., D]\n",
    "            **kwargs: Additional keyword arguments.\n",
    "\n",
    "        Returns:\n",
    "            torch.Tensor: The control tensor of shape [..., D].\n",
    "        \"\"\"\n",
    "        pass \n",
    "\n",
    "    def __call__(self, t: torch.Tensor, x: torch.Tensor, **kwargs) -> torch.Tensor:\n",
    "        \"\"\"\n",
    "        Returns the control at time t and position x. \n",
    "\n",
    "        Parameters: \n",
    "            t (torch.Tensor): [...] times.\n",
    "            x (torch.Tensor): [..., D] values.\n",
    "\n",
    "        Returns: \n",
    "            torch.Tensor: [..., D] Control.\n",
    "        \"\"\"\n",
    "        return self.control(t=t, x=x, **kwargs)\n",
    "\n",
    "\n",
    "class ZeroControl(Control):\n",
    "    def control(self, t: torch.Tensor, x: torch.Tensor) -> torch.Tensor:\n",
    "        return x.new_zeros(x.shape) # [..., D]\n",
    "\n",
    "\n",
    "class BridgeControl(Control):\n",
    "    def __init__(self, sde: SDE, x1: torch.Tensor, t1: torch.Tensor | None = None, device: torch.device | None = None): \n",
    "        \"\"\"\n",
    "        Creates the bridge control for the SDE conditioned on being at x1 at time t1. \n",
    "\n",
    "        parameters: \n",
    "            sde (SDE): The SDE to create the bridge control for.\n",
    "            x1 (torch.Tensor): [..., D] Target value.\n",
    "            t1 (torch.Tensor): [...] End times.\n",
    "        \"\"\"\n",
    "        super().__init__(device=device)\n",
    "        self.sde = sde.to(device)\n",
    "        x1 = x1.to(device)\n",
    "        self._x1 = None\n",
    "        self._t1 = None\n",
    "        self.condition(x1=x1, t1=t1)\n",
    "\n",
    "    def to(self, device: torch.device) -> \"BridgeControl\":\n",
    "        super().to(device)\n",
    "        self.sde = self.sde.to(device)\n",
    "        self._x1 = self._x1.to(device)\n",
    "        self._t1 = self._t1.to(device)\n",
    "        return self \n",
    "\n",
    "    def condition(self, x1: torch.Tensor, t1: torch.Tensor | None = None) -> \"BridgeControl\":\n",
    "        \"\"\"\n",
    "        Conditions the bridge on being at x1 at time t1. \n",
    "\n",
    "        parameters: \n",
    "            x1 (torch.Tensor): [..., D] Target value.\n",
    "            t1 (torch.Tensor): [...] End times.\n",
    "\n",
    "        returns: \n",
    "            BridgeControl: The bridge control.\n",
    "        \"\"\"\n",
    "        if t1 is None:\n",
    "            t1 = x1.new_ones(x1.shape[:-1]) # [...]\n",
    "        self._x1 = x1\n",
    "        self._t1 = t1\n",
    "        return self\n",
    "\n",
    "    def control(self, t: torch.Tensor, x: torch.Tensor) -> torch.Tensor:\n",
    "        \"\"\"\n",
    "        Returns the control for the bridge at time t and position x. \n",
    "\n",
    "        parameters: \n",
    "            t (torch.Tensor): [...] times.\n",
    "            x (torch.Tensor): [..., D] values.\n",
    "\n",
    "        returns: \n",
    "            torch.Tensor: [..., D] Control.\n",
    "        \"\"\"\n",
    "        return bridge_control(sde=self.sde, t=t, x=x, t1=self._t1, x1=self._x1)\n",
    "\n",
    "\n",
    "class ModelControl(Control):\n",
    "    \"\"\"\n",
    "    Control class that wraps a PyTorch model to provide control for SDEs.\n",
    "\n",
    "    Parameters:\n",
    "        model (torch.nn.Module): The neural network model to use for control.\n",
    "        device (torch.device | None): The device to run the model on.\n",
    "    \"\"\"\n",
    "    def __init__(self, model: torch.nn.Module):\n",
    "        super().__init__(device=model.device)\n",
    "        self.model = model\n",
    "\n",
    "    def to(self, device: torch.device | None = None) -> \"ModelControl\":\n",
    "        \"\"\"\n",
    "        Moves the model and control to the specified device.\n",
    "\n",
    "        Parameters:\n",
    "            device (torch.device | None): The device to move to.\n",
    "\n",
    "        Returns:\n",
    "            ModelControl: self\n",
    "        \"\"\"\n",
    "        super().to(device)\n",
    "        self.model = self.model.to(device)\n",
    "        return self \n",
    "\n",
    "    def __call__(self, t: torch.Tensor, x: torch.Tensor) -> torch.Tensor:\n",
    "        \"\"\"\n",
    "        Calls the underlying model with time and state.\n",
    "\n",
    "        Parameters:\n",
    "            t (torch.Tensor): Time tensor.\n",
    "            x (torch.Tensor): State tensor.\n",
    "\n",
    "        Returns:\n",
    "            torch.Tensor: Output of the model.\n",
    "        \"\"\"\n",
    "        return self.model(t, x)\n"
   ]
  },
  {
   "cell_type": "markdown",
   "id": "a0ed57f0",
   "metadata": {},
   "source": [
    "## SDE solvers"
   ]
  },
  {
   "cell_type": "code",
   "execution_count": null,
   "id": "af9582e8",
   "metadata": {},
   "outputs": [],
   "source": [
    "class SDESolver(ABC):\n",
    "    def __init__(self, sde: SDE) -> None:\n",
    "        self.sde = sde \n",
    "\n",
    "    @abstractmethod\n",
    "    def pushforward(self, x0: torch.Tensor, *, control: Control | None = None) -> torch.Tensor:\n",
    "        \"\"\"\n",
    "        Push x0 along the SDE to time 1.\n",
    "\n",
    "        parameters: \n",
    "            x0 (torch.Tensor): [..., D] Initial value.\n",
    "            control (Control): Control object.\n",
    "\n",
    "        returns: \n",
    "            torch.Tensor: [..., D] Terminal value.\n",
    "        \"\"\"\n",
    "\n",
    "    @abstractmethod\n",
    "    def sample_path(self, x0: torch.Tensor, *, control: Control | None = None) -> tuple[torch.Tensor, torch.Tensor]:\n",
    "        \"\"\"\n",
    "        Samples a path from the SDE.\n",
    "\n",
    "        parameters: \n",
    "            x0 (torch.Tensor): [..., D] Initial value.\n",
    "            control (Control): Control object.\n",
    "\n",
    "        returns: \n",
    "            tuple[torch.Tensor, torch.Tensor]: [..., T, D] Path and [T] Time.\n",
    "        \"\"\"\n",
    "\n",
    "\n",
    "class EulerMaruyamaSolver(SDESolver):\n",
    "    def __init__(self, sde: SDE, n: int, timesteps: str = \"uniform\"):\n",
    "        # TODO Consider whether to move the SDE into sample_path.\n",
    "        super().__init__()\n",
    "        self.sde = sde\n",
    "\n",
    "        if timesteps == \"uniform\":\n",
    "            self.timesteps = UniformTimesteps(n)\n",
    "        else:\n",
    "            raise ValueError(f\"Invalid timesteps: {timesteps}\")\n",
    "\n",
    "    def dx(self, dt: torch.Tensor, t: torch.Tensor, x: torch.Tensor, *, control: Control) -> torch.Tensor:\n",
    "        \"\"\"\n",
    "        Returns the change in the SDE. \n",
    "\n",
    "        parameters: \n",
    "            dt (torch.Tensor): [] Duration of the timestep.\n",
    "            t (torch.Tensor): [] Time.\n",
    "            x (torch.Tensor): [..., D] Initial value.\n",
    "            control (Control): Control object.\n",
    "\n",
    "        returns: \n",
    "            torch.Tensor: [..., D] Change in the SDE.\n",
    "        \"\"\"\n",
    "        t = t.expand(x.shape[:-1])\n",
    "        drift = self.sde.drift(t=t, x=x) + control(t=t, x=x)\n",
    "        diffusion = self.sde.diffusion(t=t, x=x)\n",
    "        return drift * dt + diffusion * torch.sqrt(dt) * torch.randn_like(x)\n",
    "\n",
    "    def pushforward(self, x0: torch.Tensor, *, control: Control | None = None) -> torch.Tensor:\n",
    "        \"\"\"\n",
    "        Push x0 along the SDE to time 1.\n",
    "\n",
    "        parameters: \n",
    "            x0 (torch.Tensor): [..., D] Initial value.\n",
    "            control (Control): Control object.\n",
    "\n",
    "        returns: \n",
    "            torch.Tensor: [..., D] Terminal value.\n",
    "        \"\"\"\n",
    "        x0 = self.sde.transform(x0)\n",
    "\n",
    "        if control is None:\n",
    "            control = ZeroControl()\n",
    "\n",
    "        ts = self.timesteps.t\n",
    "        dts = self.timesteps.dt\n",
    "\n",
    "        x = x0\n",
    "        for t, dt in zip(ts[:-1], dts):\n",
    "            x = x + self.dx(dt=dt, t=t, x=x, control=control)\n",
    "\n",
    "        x = self.sde.inverse_transform(x)\n",
    "        return x \n",
    "\n",
    "    def sample_path(self, x0: torch.Tensor, *, control: Control | None = None) -> tuple[torch.Tensor, torch.Tensor]:\n",
    "        \"\"\"\n",
    "        Samples a path from the SDE.\n",
    "\n",
    "        parameters: \n",
    "            x0 (torch.Tensor): [..., D] Initial value.\n",
    "            control (Control): Control object.\n",
    "\n",
    "        returns: \n",
    "            tuple[torch.Tensor, torch.Tensor]: [..., T, D] Path and [T] Time.\n",
    "        \"\"\"\n",
    "        x0 = self.sde.transform(x0)\n",
    "\n",
    "        # normal sample \n",
    "        if control is None:\n",
    "            control = ZeroControl()\n",
    "\n",
    "        ts = self.timesteps.t\n",
    "        dts = self.timesteps.dt\n",
    "\n",
    "        x = x0\n",
    "        xs = [x]\n",
    "        for t, dt in zip(ts[:-1], dts):\n",
    "            x = x + self.dx(dt=dt, t=t, x=x, control=control)\n",
    "            xs.append(x)\n",
    "        xs = torch.stack(xs, dim=-2)\n",
    "        \n",
    "\n",
    "        # inverse trasform\n",
    "        xs = self.sde.inverse_transform(xs)\n",
    "\n",
    "        return xs, ts"
   ]
  },
  {
   "cell_type": "markdown",
   "id": "214e65c2",
   "metadata": {},
   "source": [
    "## Optimal Transport"
   ]
  },
  {
   "cell_type": "code",
   "execution_count": null,
   "id": "cf5b94c3",
   "metadata": {},
   "outputs": [],
   "source": [
    "class OTSolver: \n",
    "    \"\"\"\n",
    "    Optimal Transport Solver for SDEs.\n",
    "\n",
    "    This class computes the optimal transport plan between two distributions\n",
    "    using the cost induced by a given SDE. It supports optional normalization\n",
    "    of the variance and regularization via epsilon. Also supports ODEs. \n",
    "\n",
    "    Args:\n",
    "        sde (SDE): The stochastic differential equation object providing mean and variance.\n",
    "        epsilon (float, optional): Regularization parameter for entropic regularization. Default is 0.0.\n",
    "        normalize_variance (bool, optional): Whether to normalize the variance for numerical stability. Default is True.\n",
    "\n",
    "    Attributes:\n",
    "        sde (SDE): The SDE object.\n",
    "        possibly_scaled_std (torch.Tensor): The (possibly normalized) standard deviation tensor.\n",
    "        epsilon (float): The (possibly scaled) regularization parameter.\n",
    "    \"\"\"\n",
    "\n",
    "    def __init__(self, sde: SDE, *, epsilon: float = 0.0, normalize_variance: bool = True):\n",
    "        self.sde = sde\n",
    "        \n",
    "        variance_1_given_0 = sde.variance(t=torch.tensor(1.0), t0=torch.tensor(0.0))\n",
    "\n",
    "        variance_1_given_0_is_degenerate = variance_1_given_0 == 0.0\n",
    "\n",
    "        if normalize_variance is False:\n",
    "            scale_epsilon = 0.0\n",
    "            possibly_scaled_variance_nondegenerate = variance_1_given_0\n",
    "        else:\n",
    "            scale_epsilon = torch.prod(\n",
    "                variance_1_given_0[~variance_1_given_0_is_degenerate]\n",
    "            ).pow(1 / sde.dim).detach().cpu().item()\n",
    "            possibly_scaled_variance_nondegenerate = variance_1_given_0 / scale_epsilon\n",
    "        \n",
    "        self.possibly_scaled_std: torch.Tensor = torch.where(\n",
    "            variance_1_given_0_is_degenerate, \n",
    "            1.0, \n",
    "            possibly_scaled_variance_nondegenerate,\n",
    "        ).square()\n",
    "        self.epsilon: float = epsilon * scale_epsilon\n",
    "\n",
    "    def cost(self, x0: torch.Tensor, x1: torch.Tensor) -> torch.Tensor:\n",
    "        \"\"\"\n",
    "        Returns the cost matrix between x0 and x1.\n",
    "\n",
    "        parameters: \n",
    "            x0 (torch.Tensor): [..., N, D] Initial value.\n",
    "            x1 (torch.Tensor): [..., M, D] Target value.\n",
    "\n",
    "        returns: \n",
    "            torch.Tensor: [..., N, M] Cost matrix.\n",
    "        \"\"\"\n",
    "        assert x0.ndim >= 2, \"x0 must have at least 2 dimensions\"\n",
    "        assert x1.ndim >= 2, \"x1 must have at least 2 dimensions\"\n",
    "\n",
    "        # Expand x0 and x1 for broadcasting\n",
    "        # x0_expanded: [..., N, 1, D]\n",
    "        # x1_expanded: [..., 1, M, D]\n",
    "        x0_expanded = x0.unsqueeze(-2)  # [..., N, 1, D]\n",
    "        x1_expanded = x1.unsqueeze(-3)  # [..., 1, M, D]\n",
    "\n",
    "        # Compute cost for each pair (n, m)\n",
    "        # Use the same cost as in self.cost, but vectorized\n",
    "        t0 = x0.new_zeros(x0.shape[:-2] + (x0.shape[-2], 1))  # [..., N, 1]\n",
    "        t1 = x1.new_ones(x0.shape[:-2] + (1, x1.shape[-2]))   # [..., 1, M]\n",
    "        # mean: [..., N, 1, D]\n",
    "        mean = self.sde.mean(t0=t0, x0=x0_expanded, t=t1)\n",
    "        # normed_variance: [D]\n",
    "        z = (x1_expanded - mean) / self.possibly_scaled_std  # ([..., 1, M, D] - [..., N, 1, D]) / [D] -> [..., N, M, D]\n",
    "        cost = torch.linalg.vector_norm(z, ord=2, dim=-1)  # [..., N, M]\n",
    "        return cost\n",
    "\n",
    "    def solve(\n",
    "        self, \n",
    "        x0: torch.Tensor, \n",
    "        x1: torch.Tensor, \n",
    "        method: str = \"sinkhorn\",\n",
    "        num_iter_max: int = 1000,\n",
    "        stop_threshold: float = 1e-9,\n",
    "        verbose: bool = False,\n",
    "        log: bool = False,\n",
    "        warn: bool = True,\n",
    "    ) -> torch.Tensor:\n",
    "        \"\"\"\n",
    "        Returns the optimal transport plan between x0 and x1.\n",
    "\n",
    "        parameters: \n",
    "            x0 (torch.Tensor): [..., N, D] Initial value.\n",
    "            x1 (torch.Tensor): [..., M, D] Target value.\n",
    "\n",
    "        returns: \n",
    "            torch.Tensor: [..., N, M] Optimal transport plan.\n",
    "        \"\"\"\n",
    "        assert x0.ndim >= 2, \"x0 must have 2 dimensions\"\n",
    "        assert x1.ndim >= 2, \"x1 must have 2 dimensions\"\n",
    "\n",
    "        cost_matrix = self.cost(x0, x1)\n",
    "        px0 = x0.new_ones(x0.shape[0]) / x0.shape[0]\n",
    "        px1 = x1.new_ones(x1.shape[0]) / x1.shape[0]\n",
    "\n",
    "        # convert to numpy\n",
    "        cost_matrix = cost_matrix.detach().cpu().numpy()\n",
    "        px0 = px0.detach().cpu().numpy()\n",
    "        px1 = px1.detach().cpu().numpy()\n",
    "        epsilon = self.epsilon\n",
    "\n",
    "\n",
    "        if epsilon == 0.0:\n",
    "            optimal_plan = ot.emd(\n",
    "                a=px0, \n",
    "                b=px1, \n",
    "                M=cost_matrix, \n",
    "                log=log,\n",
    "            )\n",
    "        else:\n",
    "            optimal_plan = ot.sinkhorn(\n",
    "                a=px0, \n",
    "                b=px1, \n",
    "                M=cost_matrix, \n",
    "                reg=epsilon, \n",
    "                method=method,\n",
    "                num_iter_max=num_iter_max, \n",
    "                stop_threshold=stop_threshold, \n",
    "                verbose=verbose, \n",
    "                log=log, \n",
    "                warn=warn\n",
    "            )\n",
    "\n",
    "        return torch.as_tensor(optimal_plan, device=x0.device, dtype=x0.dtype)\n",
    "\n",
    "    @property\n",
    "    def is_exact(self) -> bool:\n",
    "        \"\"\"\n",
    "        Returns True if the optimal transport is computed exactly (i.e., epsilon == 0.0),\n",
    "        otherwise returns False (entropic regularization is used).\n",
    "        \"\"\"\n",
    "        return self.epsilon == 0.0"
   ]
  },
  {
   "cell_type": "markdown",
   "id": "5835cf10",
   "metadata": {},
   "source": [
    "## Data utils"
   ]
  },
  {
   "cell_type": "code",
   "execution_count": null,
   "id": "420531c9",
   "metadata": {},
   "outputs": [],
   "source": [
    "class TimeSampler(ABC):\n",
    "    \"\"\"\n",
    "    Abstract class for time samplers.\n",
    "    \"\"\"\n",
    "\n",
    "    def __init__(self, device: torch.device | None = None, dtype: torch.dtype | None = None):\n",
    "        self.device = device\n",
    "        self.dtype = dtype\n",
    "\n",
    "    def to(self, device: torch.device) -> \"TimeSampler\":\n",
    "        self.device = device\n",
    "        return self\n",
    "\n",
    "    @abstractmethod\n",
    "    def sample(self, shape: torch.Size) -> torch.Tensor:\n",
    "        pass\n",
    "\n",
    "\n",
    "class UniformTimeSampler(TimeSampler):\n",
    "    def sample(self, shape: torch.Size) -> torch.Tensor:\n",
    "        return torch.rand(shape, device=self.device, dtype=self.dtype)\n",
    "\n",
    "\n",
    "class DiscreteTimeSampler(TimeSampler):\n",
    "    def __init__(self, timesteps: UniformTimesteps, device: torch.device | None = None, dtype: torch.dtype | None = None):\n",
    "        super().__init__(device, dtype)\n",
    "        self.timesteps = timesteps\n",
    "\n",
    "    def sample(self, shape: torch.Size) -> torch.Tensor:\n",
    "        indices = torch.randint(0, self.timesteps.n - 1, shape, device=self.device, dtype=self.dtype)\n",
    "        return self.timesteps.t[indices]\n",
    "\n",
    "\n",
    "class BetaTimeSampler(TimeSampler):\n",
    "    def __init__(self, device: torch.device | None = None, dtype: torch.dtype | None = None):\n",
    "        super().__init__(device, dtype)\n",
    "        self.distribution = torch.distributions.Beta(0.5, 0.5)\n",
    "\n",
    "    def sample(self, shape: torch.Size) -> torch.Tensor:\n",
    "        return self.distribution.sample(shape).to(device=self.device, dtype=self.dtype)\n",
    "\n",
    "\n",
    "class MatchingDataset(torch.utils.data.Dataset):\n",
    "    def __init__(self) -> None:\n",
    "        super().__init__()\n",
    "\n",
    "    @abstractmethod\n",
    "    def __getitem__(self, idx: tuple[torch.Tensor, torch.Tensor]) -> tuple[torch.Tensor, torch.Tensor, torch.Tensor]:\n",
    "        \"\"\"\n",
    "        returns:\n",
    "            t: torch.Tensor, shape [...]\n",
    "            x0: torch.Tensor, shape [..., D]\n",
    "            x1: torch.Tensor, shape [..., D]\n",
    "        \"\"\"\n",
    "\n",
    "    def __len__(self) -> int:\n",
    "        raise NotImplementedError(\"Length of MatchingDataset is not defined.\")\n",
    "\n",
    "\n",
    "class MatchingTensorDataset(MatchingDataset):\n",
    "    def __init__(self, x0: torch.Tensor, x1: torch.Tensor, time_sampler: UniformTimeSampler | None = None):\n",
    "        super().__init__()\n",
    "        self.x0 = x0\n",
    "        self.x1 = x1\n",
    "        self.time_sampler = time_sampler or UniformTimeSampler(device=x0.device, dtype=x0.dtype)\n",
    "    \n",
    "    def __getitem__(self, idx: tuple[torch.Tensor, torch.Tensor]) -> tuple[torch.Tensor, torch.Tensor, torch.Tensor]:\n",
    "        \"\"\"\n",
    "        returns:\n",
    "            t: torch.Tensor, shape [...]\n",
    "            x0: torch.Tensor, shape [..., D]\n",
    "            x1: torch.Tensor, shape [..., D]\n",
    "        \"\"\"\n",
    "        x0_idx, x1_idx = idx\n",
    "        shape = x0_idx.shape\n",
    "        x0 = self.x0[x0_idx]\n",
    "        x1 = self.x1[x1_idx]\n",
    "        t = self.time_sampler.sample(shape)\n",
    "        return t, x0, x1\n",
    "\n",
    "\n",
    "class MatchingDistributionDataset(MatchingDataset):\n",
    "\n",
    "    def __init__(\n",
    "        self, \n",
    "        x0_distribution: torch.distributions.Distribution, \n",
    "        x1_distribution: torch.distributions.Distribution, \n",
    "        time_sampler: UniformTimeSampler | None = None\n",
    "    ) -> None:\n",
    "        super().__init__()\n",
    "        self.x0_distribution = x0_distribution\n",
    "        self.x1_distribution = x1_distribution\n",
    "        self.time_sampler = time_sampler or UniformTimeSampler()\n",
    "\n",
    "    def __getitem__(self, idx: tuple[torch.Tensor, torch.Tensor]) -> tuple[torch.Tensor, torch.Tensor, torch.Tensor]:\n",
    "        \"\"\"\n",
    "        returns:\n",
    "            t: torch.Tensor, shape [...]\n",
    "            x0: torch.Tensor, shape [..., D]\n",
    "            x1: torch.Tensor, shape [..., D]\n",
    "        \"\"\"\n",
    "        x0_idx, x1_idx = idx \n",
    "        shape = x0_idx.shape\n",
    "        x0 = self.x0_distribution.sample(shape)\n",
    "        x1 = self.x1_distribution.sample(shape)\n",
    "        t = self.time_sampler.sample(shape)\n",
    "        return t, x0, x1\n",
    "        \n",
    "\n",
    "class OTBatchSampler(torch.utils.data.Sampler):\n",
    "    def __init__(self, dataset: MatchingDataset, ot_solver: OTSolver, batch_size: int, num_batches: int, *, batchwise_ot: bool = False):\n",
    "        super().__init__()\n",
    "        self.dataset = dataset\n",
    "        self.batchwise_ot = batchwise_ot\n",
    "        self.ot_solver = ot_solver \n",
    "        self.batch_size = batch_size\n",
    "        self.num_batches = num_batches\n",
    "\n",
    "        if self.batchwise_ot is True or isinstance(dataset, MatchingDistributionDataset):\n",
    "            self.ot_plan = None\n",
    "        else:\n",
    "            self.ot_plan = self.ot_solver.solve(self.dataset.x0, self.dataset.x1)\n",
    "\n",
    "    def _resample_from_ot_plan(self, x0: torch.Tensor, x1: torch.Tensor):\n",
    "        ot_plan = self.ot_plan or self.ot_solver.solve(x0, x1)\n",
    "        x0_idx, x1_idx = joint_multinomial(ot_plan, num_samples=self.batch_size)\n",
    "        return x0[x0_idx], x1[x1_idx]\n",
    "\n",
    "    def _sample_batch__matching_distribution_dataset(self):        \n",
    "        dataset: MatchingDistributionDataset = self.dataset \n",
    "        x0 = dataset.x0_distribution.sample((self.batch_size,))\n",
    "        x1 = dataset.x1_distribution.sample((self.batch_size,))\n",
    "        return self._resample_from_ot_plan(x0, x1)\n",
    "\n",
    "    def _sample_batch__matching_tensor_dataset(self):\n",
    "        dataset: MatchingTensorDataset = self.dataset\n",
    "        if self.batchwise_ot is False:\n",
    "            x0, x1 = dataset.x0, dataset.x1\n",
    "        else:\n",
    "            x0 = dataset.x0[torch.randint(0, dataset.x0.shape[0], (self.batch_size, ))]\n",
    "            x1 = dataset.x1[torch.randint(0, dataset.x1.shape[0], (self.batch_size, ))]\n",
    "        return self._resample_from_ot_plan(x0, x1)\n",
    "\n",
    "    def __iter__(self):\n",
    "        # Pick the right batch sampling method, TODO maybe move to init \n",
    "        if isinstance(self.dataset, MatchingDistributionDataset):\n",
    "            sample_batch_fn = self._sample_batch__matching_distribution_dataset\n",
    "        elif isinstance(self.dataset, MatchingTensorDataset):\n",
    "            sample_batch_fn = self._sample_batch__matching_tensor_dataset\n",
    "        else:\n",
    "            raise ValueError\n",
    "        for _ in range(len(self)):\n",
    "            x0, x1 = sample_batch_fn()\n",
    "            t = self.dataset.time_sampler.sample(x0.shape[:-1])\n",
    "            yield t, x0, x1\n",
    "\n",
    "    def __len__(self) -> int:\n",
    "        return self.num_batches\n",
    "\n",
    "\n",
    "class MatchingDataLoader:\n",
    "    def __init__(self, dataset: MatchingDataset, batch_sampler: OTBatchSampler):\n",
    "        self.dataset = dataset\n",
    "        self.batch_sampler = batch_sampler\n",
    "\n",
    "    def __iter__(self):\n",
    "        for batch in self.batch_sampler:\n",
    "            yield batch\n",
    "\n",
    "    def __len__(self) -> int:\n",
    "        return len(self.batch_sampler)"
   ]
  },
  {
   "cell_type": "markdown",
   "id": "888a0753",
   "metadata": {},
   "source": [
    "## Datasets"
   ]
  },
  {
   "cell_type": "code",
   "execution_count": null,
   "id": "edc4b398",
   "metadata": {},
   "outputs": [],
   "source": [
    "def download_brain_regions_centroids(data_dir: str = './datasets/brain_signals/'):\n",
    "    csv_url = \"https://bitbucket.org/dpat/tools/raw/master/REF/ATLASES/HCP-MMP1_UniqueRegionList.csv\"\n",
    "    brain_regions_centroids_df = pd.read_csv(\n",
    "        csv_url, \n",
    "        usecols=[\"x-cog\", \"y-cog\", \"z-cog\"],\n",
    "        dtype={\"x-cog\": float, \"y-cog\": float, \"z-cog\": float},\n",
    "    ).rename(columns={\"x-cog\": \"x\", \"y-cog\": \"y\", \"z-cog\": \"z\"})\n",
    "    brain_regions_centroids_df.to_csv(os.path.join(data_dir, \"brain_regions_centroids.csv\"), index=False)\n",
    "\n",
    "\n",
    "def load_brain_regions_centroids(data_dir: str = './datasets/brain_signals/'):\n",
    "    return pd.read_csv(os.path.join(data_dir, \"brain_regions_centroids.csv\"))\n",
    "\n",
    "\n",
    "def plot_brain_signal_3d(signal: torch.Tensor | None = None, width: int = 500, height: int = 500, marker_size: int = 5):\n",
    "    df = load_brain_regions_centroids()\n",
    "    if signal is not None:\n",
    "        df = df.assign(signal=signal.detach().cpu().numpy())\n",
    "        fig = px.scatter_3d(df, x='x', y='y', z='z', color='signal')\n",
    "    else:\n",
    "        fig = px.scatter_3d(df, x='x', y='y', z='z')\n",
    "    fig.update_traces(marker_size=marker_size)\n",
    "    fig.update_layout(width=width, height=height)\n",
    "    fig.show()\n",
    "    return fig \n",
    "\n",
    "\n",
    "def plot_brain_signal_2d(signal: torch.Tensor | None = None, width: int = 400, height: int = 400, marker_size: int = 6):\n",
    "    df = load_brain_regions_centroids()\n",
    "    if signal is not None:\n",
    "        df = df.assign(signal=signal.detach().cpu().numpy())\n",
    "        fig = px.scatter(df, x='x', y='y', color='signal')\n",
    "    else:\n",
    "        fig = px.scatter(df, x='x', y='y')\n",
    "    fig.update_traces(marker_size=marker_size)\n",
    "    fig.update_layout(width=width, height=height)\n",
    "    fig.show()\n",
    "    return fig \n",
    "\n",
    "\n",
    "def load_brain_data() -> tuple[torch.Tensor, torch.Tensor, torch.Tensor, torch.Tensor, torch.Tensor, torch.Tensor, torch.Tensor]:\n",
    "    \"\"\"\n",
    "    Loads the brain data from the .mat files and splits it into training and test sets.\n",
    "    Returns:\n",
    "        x0: [N, D] Training samples from the aligned dataset.\n",
    "        x1: [N, D] Training samples from the liberal dataset.\n",
    "        x0_train: [N_train, D] Training samples from the aligned dataset.\n",
    "        x0_test: [N_test, D] Test samples from the aligned dataset.\n",
    "        x1_train: [N_train, D] Training samples from the liberal dataset.\n",
    "        x1_test: [N_test, D] Test samples from the liberal dataset.\n",
    "    \"\"\"\n",
    "    laplacian = scipy.io.loadmat('./datasets/brain_signals/lap.mat')['L']\n",
    "\n",
    "    x1 = scipy.io.loadmat('./datasets/brain_signals/aligned.mat')['Xa'].T\n",
    "    x0 = scipy.io.loadmat('./datasets/brain_signals/liberal.mat')['Xl'].T\n",
    "\n",
    "    # Split data into training and test sets\n",
    "    num_train = int(0.8 * x0.shape[0])\n",
    "    num_test = x0.shape[0] - num_train\n",
    "    x = np.arange(x0.shape[0])\n",
    "    random_perm = np.random.permutation(x)\n",
    "    train_ids, test_ids = random_perm[:num_train], random_perm[num_train:]\n",
    "    x0_train, x0_test = x0[train_ids], x0[test_ids]\n",
    "    x1_train, x1_test = x1[train_ids], x1[test_ids]\n",
    "    return laplacian, x0, x1, x0_train, x0_test, x1_train, x1_test"
   ]
  },
  {
   "cell_type": "markdown",
   "id": "37d72c79",
   "metadata": {},
   "source": [
    "## Models"
   ]
  },
  {
   "cell_type": "code",
   "execution_count": null,
   "id": "23bb4da2",
   "metadata": {},
   "outputs": [],
   "source": [
    "def timestep_embedding(\n",
    "    timesteps: torch.Tensor,\n",
    "    dim: int,\n",
    "    max_period: int = 10000\n",
    ") -> torch.Tensor:\n",
    "    \"\"\"\n",
    "    Create sinusoidal timestep embeddings.\n",
    "\n",
    "    parameters: \n",
    "        timesteps: [...]\n",
    "        dim: int\n",
    "        max_period: int\n",
    "\n",
    "    returns:\n",
    "        embedding: [..., dim]\n",
    "    \"\"\"\n",
    "    dim_over_2, dim_mod_2 = divmod(dim, 2)\n",
    "    freqs = torch.exp(\n",
    "        -math.log(max_period) * torch.arange(0, dim_over_2, device=timesteps.device, dtype=timesteps.dtype) \n",
    "        / dim_over_2\n",
    "    ) # [D/2]\n",
    "    args = timesteps.unsqueeze(-1) * freqs.unsqueeze(0) # [..., 1] * [1, D/2] = [..., D/2]\n",
    "    embedding = torch.cat([torch.cos(args), torch.sin(args)], dim=-1) # [..., D]\n",
    "\n",
    "    if dim_mod_2 == 1:\n",
    "        zero_column = embedding.new_zeros(embedding.shape[0], 1)\n",
    "        embedding = torch.cat([embedding, zero_column], dim=-1)\n",
    "    return embedding\n",
    "\n",
    "\n",
    "class SiLU(torch.nn.Module):\n",
    "    def forward(self, x):\n",
    "        return x * torch.sigmoid(x)\n",
    "\n",
    "\n",
    "class FCs(torch.nn.Module):\n",
    "    \"\"\"\n",
    "    Fully connected feedforward neural network with configurable number of layers.\n",
    "    \"\"\"\n",
    "    def __init__(\n",
    "        self,\n",
    "        dim_in: int,\n",
    "        dim_hid: int,\n",
    "        dim_out: int,\n",
    "        num_layers: int = 2\n",
    "    ) -> None:\n",
    "        \"\"\"\n",
    "        Fully connected feedforward neural network with configurable number of layers.\n",
    "\n",
    "        Args:\n",
    "            dim_in (int): Input feature dimension.\n",
    "            dim_hid (int): Hidden layer dimension.\n",
    "            dim_out (int): Output feature dimension.\n",
    "            num_layers (int, optional): Total number of layers (including input and output layers). Default is 2.\n",
    "        \"\"\"\n",
    "        super(FCs, self).__init__()\n",
    "        self.model = torch.nn.Sequential()\n",
    "        self.model.add_module('fc_in', torch.nn.Linear(dim_in, dim_hid))\n",
    "        self.model.add_module('relu_in', torch.nn.ReLU())\n",
    "        for i in range(num_layers - 2):\n",
    "            self.model.add_module(f'fc_{i}', torch.nn.Linear(dim_hid, dim_hid))\n",
    "            self.model.add_module(f'relu_{i}', torch.nn.ReLU())\n",
    "        self.model.add_module('fc_out', torch.nn.Linear(dim_hid, dim_out))\n",
    "\n",
    "    def forward(self, x: torch.Tensor) -> torch.Tensor:\n",
    "        return self.model(x)\n",
    "\n",
    "\n",
    "class ResNet_FC(torch.nn.Module):\n",
    "    \"\"\"\n",
    "    A fully connected network with an initial linear layer followed by a sequence of residual blocks.\n",
    "    Each residual block consists of several linear layers with SiLU activations.\n",
    "    \"\"\"\n",
    "\n",
    "    def __init__(self, data_dim: int, hidden_dim: int, num_res_blocks: int) -> None:\n",
    "        \"\"\"\n",
    "        Initialize the ResNet_FC module.\n",
    "\n",
    "        Args:\n",
    "            data_dim (int): Input feature dimension.\n",
    "            hidden_dim (int): Hidden layer dimension for all residual blocks.\n",
    "            num_res_blocks (int): Number of residual blocks.\n",
    "        \"\"\"\n",
    "        super().__init__()\n",
    "        self.hidden_dim: int = hidden_dim\n",
    "        self.map: torch.nn.Linear = torch.nn.Linear(data_dim, hidden_dim)\n",
    "        self.res_blocks: torch.nn.ModuleList = torch.nn.ModuleList(\n",
    "            [self.build_res_block() for _ in range(num_res_blocks)]\n",
    "        )\n",
    "\n",
    "    def build_linear(self, in_features: int, out_features: int) -> torch.nn.Linear:\n",
    "        \"\"\"\n",
    "        Build a linear layer.\n",
    "\n",
    "        Args:\n",
    "            in_features (int): Number of input features.\n",
    "            out_features (int): Number of output features.\n",
    "\n",
    "        Returns:\n",
    "            torch.nn.Linear: Linear layer.\n",
    "        \"\"\"\n",
    "        return torch.nn.Linear(in_features, out_features)\n",
    "\n",
    "    def build_res_block(self) -> torch.nn.Sequential:\n",
    "        \"\"\"\n",
    "        Build a residual block consisting of several linear layers and SiLU activations.\n",
    "\n",
    "        Returns:\n",
    "            torch.nn.Sequential: Sequential container of layers forming a residual block.\n",
    "        \"\"\"\n",
    "        hid: int = self.hidden_dim\n",
    "        layers: list[torch.nn.Module] = []\n",
    "        widths: list[int] = [hid] * 4\n",
    "        for i in range(len(widths) - 1):\n",
    "            layers.append(self.build_linear(widths[i], widths[i + 1]))\n",
    "            layers.append(SiLU())\n",
    "        return torch.nn.Sequential(*layers)\n",
    "\n",
    "    def forward(self, x: torch.Tensor) -> torch.Tensor:\n",
    "        \"\"\"\n",
    "        Forward pass through the network.\n",
    "\n",
    "        Args:\n",
    "            x (torch.Tensor): Input tensor of shape (batch_size, data_dim).\n",
    "\n",
    "        Returns:\n",
    "            torch.Tensor: Output tensor after passing through the network.\n",
    "        \"\"\"\n",
    "        h = self.map(x)\n",
    "        for res_block in self.res_blocks:\n",
    "            h = (h + res_block(h)) / np.sqrt(2)\n",
    "        return h\n",
    "\n",
    "class TimestepBlock(torch.nn.Module):\n",
    "    \"\"\"\n",
    "    Any module where forward() takes timestep embeddings as a second argument.\n",
    "    \"\"\"\n",
    "\n",
    "    @abstractmethod\n",
    "    def forward(self, x: torch.Tensor, emb: torch.Tensor) -> torch.Tensor:\n",
    "        \"\"\"\n",
    "        Apply the module to `x` given `emb` timestep embeddings.\n",
    "        \"\"\"\n",
    "\n",
    "class TimestepEmbedSequential(torch.nn.Sequential, TimestepBlock):\n",
    "    \"\"\"\n",
    "    A sequential module that passes timestep embeddings to the children that\n",
    "    support it as an extra input.\n",
    "    \"\"\"\n",
    "\n",
    "    def forward(self, x: torch.Tensor, emb: torch.Tensor) -> torch.Tensor:\n",
    "        for layer in self:\n",
    "            if isinstance(layer, TimestepBlock):\n",
    "                x = layer(x, emb)\n",
    "            else:\n",
    "                x = layer(x)\n",
    "        return x\n",
    "\n",
    "\n",
    "class SparseGCNLayer(torch.nn.Module):\n",
    "    def __init__(\n",
    "        self,\n",
    "        in_channels: int,\n",
    "        out_channels: int,\n",
    "        conv_order: int,\n",
    "        laplacian: torch.Tensor,\n",
    "        *, \n",
    "        aggr_norm: bool = False,\n",
    "        initialization: str = \"xavier_uniform\",\n",
    "    ) -> None:\n",
    "        assert initialization in [\"xavier_uniform\", \"xavier_normal\"]\n",
    "\n",
    "        super().__init__()        \n",
    "\n",
    "        self.K = conv_order # K in pytorch geometric\n",
    "        self.L = laplacian\n",
    "        self.aggr_norm = aggr_norm\n",
    "\n",
    "        self.W = torch.nn.Parameter(\n",
    "            torch.empty(in_channels, out_channels, self.K + 1)\n",
    "        )\n",
    "        torch.nn.init.xavier_uniform_(self.W, gain=math.sqrt(2)) # Maybe add option xavier_normal_\n",
    "\n",
    "        # precompute normalization inverse \n",
    "        self.deg_inv = torch.sparse.sum(self.L, dim=1).to_dense().reciprocal_()\n",
    "        self.deg_inv[~torch.isfinite(self.deg_inv)] = 0.0\n",
    "\n",
    "\n",
    "    def _normalize(self, x: torch.Tensor) -> torch.Tensor:\n",
    "        \"\"\"\n",
    "        Normalize the aggregation by the neighborhood size.\n",
    "\n",
    "        Args:\n",
    "            x (torch.Tensor): Input tensor.\n",
    "\n",
    "        Returns:\n",
    "            torch.Tensor: Normalized tensor.\n",
    "        \"\"\"\n",
    "        x = torch.einsum(\"i,ij->ij \", self.deg_inv, x)\n",
    "        x[~torch.isfinite(x)] = 0.0\n",
    "        return x\n",
    "\n",
    "    \"\"\"\n",
    "    TODO \n",
    "    \"\"\"\n",
    "\n",
    "\n",
    "class GCNLayer(torch.nn.Module):\n",
    "    \"\"\"\n",
    "    Graph Convolutional Network (GCN) Layer with Chebyshev polynomial support.\n",
    "\n",
    "    Args:\n",
    "        in_channels (int): Number of input channels/features.\n",
    "        out_channels (int): Number of output channels/features.\n",
    "        conv_order (int): Order of the Chebyshev polynomial (number of hops).\n",
    "        laplacian (torch.Tensor): Laplacian or adjacency matrix.\n",
    "        aggr_norm (bool, optional): Whether to normalize aggregation. Default is False.\n",
    "        update_func (str or None, optional): Activation function to use after aggregation.\n",
    "            Options: \"sigmoid\", \"relu\", \"id\", or None. Default is None.\n",
    "        initialization (str, optional): Weight initialization method.\n",
    "            Options: \"xavier_uniform\", \"xavier_normal\". Default is \"xavier_uniform\".\n",
    "    \"\"\"\n",
    "\n",
    "    def __init__(\n",
    "        self,\n",
    "        in_channels: int,\n",
    "        out_channels: int,\n",
    "        conv_order: int,\n",
    "        laplacian: torch.Tensor,\n",
    "        *, \n",
    "        aggr_norm: bool = False,\n",
    "        update_func: str | None = None,\n",
    "        initialization: str = \"xavier_uniform\",\n",
    "    ) -> None:\n",
    "        super().__init__()\n",
    "\n",
    "        self.in_channels: int = in_channels\n",
    "        self.out_channels: int = out_channels\n",
    "        self.conv_order: int = conv_order\n",
    "        self.laplacian: torch.Tensor = laplacian\n",
    "        self.aggr_norm: bool = aggr_norm\n",
    "        self.update_func: str | None = update_func\n",
    "        self.initialization: str = initialization\n",
    "        assert initialization in [\"xavier_uniform\", \"xavier_normal\"]\n",
    "\n",
    "        self.weight: torch.nn.Parameter = torch.nn.Parameter(\n",
    "            torch.Tensor(\n",
    "                self.in_channels,\n",
    "                self.out_channels,\n",
    "                1 + self.conv_order,\n",
    "            )\n",
    "        )\n",
    "\n",
    "        self.reset_parameters()\n",
    "\n",
    "    def reset_parameters(self, gain: float = 1.414) -> None:\n",
    "        \"\"\"\n",
    "        Reset the parameters of the layer using the specified initialization.\n",
    "\n",
    "        Args:\n",
    "            gain (float, optional): Gain value for initialization. Default is 1.414.\n",
    "        \"\"\"\n",
    "        if self.initialization == \"xavier_uniform\":\n",
    "            torch.nn.init.xavier_uniform_(self.weight, gain=gain)\n",
    "        elif self.initialization == \"xavier_normal\":\n",
    "            torch.nn.init.xavier_normal_(self.weight, gain=gain)\n",
    "\n",
    "    def aggr_norm_func(self, conv_operator: torch.Tensor, x: torch.Tensor) -> torch.Tensor:\n",
    "        \"\"\"\n",
    "        Normalize the aggregation by the neighborhood size.\n",
    "\n",
    "        Args:\n",
    "            conv_operator (torch.Tensor): The convolution operator (adjacency or Laplacian matrix).\n",
    "            x (torch.Tensor): Input tensor.\n",
    "\n",
    "        Returns:\n",
    "            torch.Tensor: Normalized tensor.\n",
    "        \"\"\"\n",
    "        neighborhood_size = torch.sum(conv_operator.to_dense(), dim=1)\n",
    "        neighborhood_size_inv = 1 / neighborhood_size\n",
    "        neighborhood_size_inv[~(torch.isfinite(neighborhood_size_inv))] = 0\n",
    "\n",
    "        x = torch.einsum(\"i,ij->ij \", neighborhood_size_inv, x)\n",
    "        x[~torch.isfinite(x)] = 0\n",
    "        return x\n",
    "\n",
    "    def update(self, x: torch.Tensor) -> torch.Tensor | None:\n",
    "        \"\"\"\n",
    "        Apply the update (activation) function to the input.\n",
    "\n",
    "        Args:\n",
    "            x (torch.Tensor): Input tensor.\n",
    "\n",
    "        Returns:\n",
    "            torch.Tensor or None: Activated tensor or None if update_func is not recognized.\n",
    "        \"\"\"\n",
    "        if self.update_func == \"sigmoid\":\n",
    "            return torch.sigmoid(x)\n",
    "        if self.update_func == \"relu\":\n",
    "            return torch.nn.functional.relu(x)\n",
    "        if self.update_func == \"id\":\n",
    "            return x\n",
    "        return None\n",
    "\n",
    "    def chebyshev_conv(\n",
    "        self,\n",
    "        conv_operator: torch.Tensor,\n",
    "        conv_order: int,\n",
    "        x: torch.Tensor\n",
    "    ) -> torch.Tensor:\n",
    "        \"\"\"\n",
    "        Perform Chebyshev polynomial convolution.\n",
    "\n",
    "        Args:\n",
    "            conv_operator (torch.Tensor): The convolution operator (adjacency or Laplacian matrix).\n",
    "            conv_order (int): Order of the Chebyshev polynomial.\n",
    "            x (torch.Tensor): Input tensor of shape (num_simplices, num_channels).\n",
    "\n",
    "        Returns:\n",
    "            torch.Tensor: Tensor of shape (num_simplices, num_channels, conv_order).\n",
    "        \"\"\"\n",
    "        num_simplices, num_channels = x.shape\n",
    "        X = torch.empty(size=(num_simplices, num_channels, conv_order))\n",
    "        X[:, :, 0] = torch.mm(conv_operator, x)\n",
    "        for k in range(1, conv_order):\n",
    "            X[:, :, k] = torch.mm(conv_operator, X[:, :, k - 1])\n",
    "            if self.aggr_norm:\n",
    "                X[:, :, k] = self.aggr_norm_func(conv_operator, X[:, :, k])\n",
    "\n",
    "        return X\n",
    "\n",
    "    def forward(self, x: torch.Tensor) -> torch.Tensor:\n",
    "        \"\"\"\n",
    "        Forward pass of the GCN layer.\n",
    "\n",
    "        Args:\n",
    "            x (torch.Tensor): Input tensor of shape (num_simplices, in_channels).\n",
    "\n",
    "        Returns:\n",
    "            torch.Tensor: Output tensor of shape (num_simplices, out_channels).\n",
    "        \"\"\"\n",
    "        num_simplices, _ = x.shape\n",
    "        x_identity = torch.unsqueeze(x, 2)\n",
    "\n",
    "        if self.conv_order > 0:\n",
    "            x = self.chebyshev_conv(self.laplacian, self.conv_order, x)\n",
    "            x = torch.cat((x_identity, x), 2)\n",
    "\n",
    "        y = torch.einsum(\"nik,iok->no\", x, self.weight)\n",
    "\n",
    "        return y # Maybe have relu and sigmoid as update function options\n",
    "\n",
    "\n",
    "class GCNBlock(torch.nn.Module):\n",
    "    \"\"\"\n",
    "    Graph Convolutional Network (GCN) module composed of multiple GCNLayer layers.\n",
    "\n",
    "    Args:\n",
    "        in_channels (int): Number of input features per node.\n",
    "        hidden_channels (int): Number of hidden units in each hidden GCN layer.\n",
    "        laplacian (torch.Tensor): Laplacian matrix or convolution operator.\n",
    "        conv_order (int, optional): Order of the Chebyshev polynomial convolution. Default is 1.\n",
    "        aggr_norm (bool, optional): Whether to apply aggregation normalization. Default is False.\n",
    "        update_func (Optional[str], optional): Update function to use in GCNLayer ('relu', 'id', etc.). Default is None.\n",
    "        n_layers (int, optional): Number of GCN layers. Default is 2.\n",
    "    \"\"\"\n",
    "    def __init__(\n",
    "        self,\n",
    "        in_channels: int,\n",
    "        hidden_channels: int,\n",
    "        laplacian: torch.Tensor,\n",
    "        *,\n",
    "        conv_order: int = 1,\n",
    "        aggr_norm: bool = False,\n",
    "        update_func: str = None,\n",
    "        n_layers: int = 2,\n",
    "    ) -> None:\n",
    "        super().__init__()\n",
    "        self.layers: torch.nn.ModuleList = torch.nn.ModuleList(\n",
    "            [   \n",
    "                GCNLayer(\n",
    "                    in_channels=in_channels,\n",
    "                    out_channels=hidden_channels,\n",
    "                    conv_order=conv_order, \n",
    "                    laplacian=laplacian,\n",
    "                )\n",
    "            ]\n",
    "        )\n",
    "\n",
    "        for i in range(n_layers - 1):\n",
    "            if i == n_layers - 2: \n",
    "                out_channels = 1\n",
    "                layer_update_func = 'id'\n",
    "            else: \n",
    "                out_channels = hidden_channels\n",
    "                layer_update_func = 'relu'\n",
    "            self.layers.append(\n",
    "                GCNLayer(\n",
    "                    in_channels=hidden_channels,\n",
    "                    out_channels=out_channels,\n",
    "                    conv_order=conv_order,\n",
    "                    laplacian=laplacian,\n",
    "                    aggr_norm=aggr_norm,\n",
    "                    update_func=layer_update_func,\n",
    "                )\n",
    "            )\n",
    "            \n",
    "    def forward(self, x: torch.Tensor) -> torch.Tensor:\n",
    "        \"\"\"\n",
    "        Forward pass through the GCN.\n",
    "\n",
    "        Args:\n",
    "            x (torch.Tensor): Input tensor of shape (num_nodes, in_channels).\n",
    "\n",
    "        Returns:\n",
    "            torch.Tensor: Output tensor after passing through all GCN layers.\n",
    "        \"\"\"\n",
    "        for layer in self.layers:\n",
    "            x = layer(x)\n",
    "        return x\n",
    "\n",
    "\n",
    "class GCN(torch.nn.Module):\n",
    "    \"\"\"\n",
    "    Network using a combination of GCN and ResNet_FC modules with time embedding.\n",
    "\n",
    "    Args:\n",
    "        laplacian (torch.Tensor): Laplacian matrix of the graph (shape: [N, N]).\n",
    "        hidden_dim (int, optional): Number of hidden units in each layer. Default is 256.\n",
    "        time_embed_dim (int, optional): Dimensionality of the time embedding. Default is 128.\n",
    "    \"\"\"\n",
    "    def __init__(\n",
    "        self,\n",
    "        laplacian: torch.Tensor,\n",
    "        hidden_dim: int = 256,\n",
    "        time_embed_dim: int = 128\n",
    "    ) -> None:\n",
    "        super().__init__()\n",
    "        data_dim: int = laplacian.shape[-1]\n",
    "\n",
    "        self.time_embed_dim: int = time_embed_dim\n",
    "        hid: int = hidden_dim\n",
    "\n",
    "        self.t_module: torch.nn.Sequential = torch.nn.Sequential(\n",
    "            torch.nn.Linear(self.time_embed_dim, hid),\n",
    "            SiLU(),\n",
    "            torch.nn.Linear(hid, hid),\n",
    "        )\n",
    "\n",
    "        self.x_module1: GCN = GCNBlock(\n",
    "            in_channels=1,\n",
    "            hidden_channels=hidden_dim,\n",
    "            n_layers=2,\n",
    "            laplacian=laplacian\n",
    "        )\n",
    "        self.x_module2: ResNet_FC = ResNet_FC(\n",
    "            data_dim,\n",
    "            hidden_dim,\n",
    "            num_res_blocks=0\n",
    "        )\n",
    "\n",
    "        self.out_module: torch.nn.Sequential = torch.nn.Sequential(\n",
    "            torch.nn.Linear(hid, hid),\n",
    "            SiLU(),\n",
    "            torch.nn.Linear(hid, data_dim),\n",
    "        )\n",
    "\n",
    "    @property\n",
    "    def inner_dtype(self) -> torch.dtype:\n",
    "        \"\"\"\n",
    "        Get the dtype used by the torso of the model.\n",
    "\n",
    "        Returns:\n",
    "            torch.dtype: The dtype of the model's parameters.\n",
    "        \"\"\"\n",
    "        # Note: input_blocks is not defined in this class; this property may need to be updated.\n",
    "        return next(self.input_blocks.parameters()).dtype\n",
    "\n",
    "    def forward(self, t: torch.Tensor, x: torch.Tensor) -> torch.Tensor:\n",
    "        \"\"\"\n",
    "        Forward pass of the GCNPolicy.\n",
    "\n",
    "        Args:\n",
    "            t (torch.Tensor): 1-D tensor of timesteps.\n",
    "            x (torch.Tensor): Input tensor of shape [N, C, ...].\n",
    "\n",
    "        Returns:\n",
    "            torch.Tensor: Output tensor after processing through the network.\n",
    "        \"\"\"\n",
    "        # Ensure t has shape [T]\n",
    "        if len(t.shape) == 0:\n",
    "            t = t[None]\n",
    "\n",
    "        t_emb: torch.Tensor = timestep_embedding(t, self.time_embed_dim)\n",
    "        t_out: torch.Tensor = self.t_module(t_emb)\n",
    "\n",
    "        x = x.unsqueeze(-1)  # Add feature dimension for GCN\n",
    "        x_out = torch.empty_like(x)\n",
    "        for i in range(x.shape[0]):\n",
    "            x_out[i] = self.x_module1(x[i])\n",
    "\n",
    "        x_out = x_out.squeeze(-1)\n",
    "        x_out = self.x_module2(x_out)\n",
    "        out = self.out_module(x_out + t_out)\n",
    "\n",
    "        return out\n",
    "\n",
    "\n",
    "class ResidualNN(torch.nn.Module):\n",
    "    \"\"\"\n",
    "    Residual Neural Network module for time-dependent input.\n",
    "\n",
    "    Args:\n",
    "        data_dim (int): Dimensionality of the input data.\n",
    "        hidden_dim (int, optional): Number of hidden units in each layer. Default is 256.\n",
    "        time_embed_dim (int, optional): Dimensionality of the time embedding. Default is 128.\n",
    "        num_res_block (int, optional): Number of residual blocks in the ResNet_FC module. Default is 1.\n",
    "    \"\"\"\n",
    "    def __init__(\n",
    "        self, \n",
    "        data_dim: int, \n",
    "        hidden_dim: int = 256, \n",
    "        time_embed_dim: int = 128, \n",
    "        num_res_block: int = 1\n",
    "    ) -> None:\n",
    "        super().__init__()\n",
    "\n",
    "        self.time_embed_dim = time_embed_dim\n",
    "        hid = hidden_dim\n",
    "\n",
    "        self.t_module = torch.nn.Sequential(\n",
    "            torch.nn.Linear(self.time_embed_dim, hid),\n",
    "            SiLU(),\n",
    "            torch.nn.Linear(hid, hid),\n",
    "        )\n",
    "\n",
    "        self.x_module = ResNet_FC(data_dim, hidden_dim, num_res_blocks=num_res_block)\n",
    "\n",
    "        self.out_module = torch.nn.Sequential(\n",
    "            torch.nn.Linear(hid, hid),\n",
    "            SiLU(),\n",
    "            torch.nn.Linear(hid, data_dim),\n",
    "        )\n",
    "\n",
    "    def forward(self, t: torch.Tensor, x: torch.Tensor) -> torch.Tensor:\n",
    "        \"\"\"\n",
    "        Forward pass of the ResidualNN.\n",
    "\n",
    "        Args:\n",
    "            t (torch.Tensor): 1-D tensor of timesteps.\n",
    "            x (torch.Tensor): Input tensor of shape [N x C x ...].\n",
    "\n",
    "        Returns:\n",
    "            torch.Tensor: Output tensor after processing through the network.\n",
    "        \"\"\"\n",
    "        t = torch.atleast_1d(t)\n",
    "\n",
    "        t_emb = timestep_embedding(timesteps=t, dim=self.time_embed_dim)\n",
    "        t_out = self.t_module(t_emb)\n",
    "        x_out = self.x_module(x)\n",
    "        out = self.out_module(x_out + t_out)\n",
    "        return out\n",
    "\n",
    "\n",
    "class MLP(torch.nn.Module):\n",
    "    def __init__(self, dim: int, hidden_dim: int = 10):\n",
    "        super().__init__()\n",
    "        self.dim = dim\n",
    "        self.nn = torch.nn.Sequential(\n",
    "            torch.nn.Linear(1, hidden_dim),\n",
    "            torch.nn.ReLU(),\n",
    "            torch.nn.Linear(hidden_dim, hidden_dim),\n",
    "            torch.nn.ReLU(),\n",
    "            torch.nn.Linear(hidden_dim, dim),\n",
    "        )\n",
    "\n",
    "    def __call__(self, t: torch.Tensor) -> torch.Tensor:\n",
    "        return self.nn(t.unsqueeze(-1))\n",
    "\n",
    "\n",
    "class ResidualMLP(torch.nn.Module):\n",
    "    def __init__(self, dim: int, hidden_dim: int = 64, num_layers: int = 3):\n",
    "        super().__init__()\n",
    "        self.dim = dim\n",
    "        self.hidden_dim = hidden_dim\n",
    "        self.num_layers = num_layers\n",
    "\n",
    "        # Input layer: now takes both t and x as input\n",
    "        self.input_layer = torch.nn.Linear(1 + dim, hidden_dim)\n",
    "\n",
    "        # Hidden layers\n",
    "        self.hidden_layers = torch.nn.ModuleList()\n",
    "        for _ in range(num_layers - 1):\n",
    "            self.hidden_layers.append(torch.nn.Linear(hidden_dim, hidden_dim))\n",
    "\n",
    "        # Output layer\n",
    "        self.output_layer = torch.nn.Linear(hidden_dim, dim)\n",
    "\n",
    "        self.activation = torch.nn.ReLU()\n",
    "\n",
    "    def forward(self, t: torch.Tensor, x: torch.Tensor) -> torch.Tensor:\n",
    "        # Concatenate t and x along the last dimension\n",
    "        t = t.unsqueeze(-1) if t.ndim == x.ndim - 1 else t\n",
    "        inp = torch.cat([t, x], dim=-1)\n",
    "        out = self.input_layer(inp)\n",
    "        for layer in self.hidden_layers:\n",
    "            residual = out\n",
    "            out = self.activation(out)\n",
    "            out = layer(out)\n",
    "            out = out + residual  # Residual connection\n",
    "        out = self.activation(out)\n",
    "        out = self.output_layer(out)\n",
    "        return out"
   ]
  },
  {
   "cell_type": "markdown",
   "id": "baf9c868",
   "metadata": {},
   "source": [
    "# 2d Linear Gaussian bridge example"
   ]
  },
  {
   "cell_type": "code",
   "execution_count": 10,
   "id": "e7a8734f",
   "metadata": {},
   "outputs": [],
   "source": [
    "dim = 2\n",
    "L = torch.eye(dim)\n",
    "c = 2.0\n",
    "sigma = 0.0\n",
    "n = 1000\n",
    "\n",
    "sde = HeatBMTSDE(L=L, c=c, sigma=sigma)\n",
    "sde_solver = EulerMaruyamaSolver(sde=sde, n=n)\n",
    "\n",
    "delta_x = torch.tensor([3.0, 0.0])\n",
    "x0 = torch.tensor([-1.0, -1.0]) + delta_x\n",
    "x1 = torch.tensor([1.0, 1.0]) + delta_x\n",
    "\n",
    "# Sample 100 paths from x0 to x1\n",
    "x0s = x0.expand(100, 2)\n",
    "x1s = x1.expand(100, 2)\n",
    "control = BridgeControl(sde=sde, x1=x1s)\n",
    "xts, ts = sde_solver.sample_path(x0s, control=control)\n",
    "xts = sde.inverse_transform(xts)\n",
    "xmids = sde.marginal_distribution(t=torch.tensor(0.8), x0=x0, x1=x1).sample((100,))"
   ]
  },
  {
   "cell_type": "code",
   "execution_count": 11,
   "id": "2bf85b03",
   "metadata": {},
   "outputs": [
    {
     "data": {
      "image/png": "[encoded data removed]",
      "text/plain": [
       "<Figure size 800x600 with 2 Axes>"
      ]
     },
     "metadata": {},
     "output_type": "display_data"
    }
   ],
   "source": [
    "# Assume xts shape: [N, T, D] or [T, D] if single batch\n",
    "xts_np = xts.detach().cpu().numpy()\n",
    "ts_np = ts.detach().cpu().numpy()\n",
    "\n",
    "# Ensure shape is [N, T, D]\n",
    "if xts_np.ndim == 2:\n",
    "    xts_np = xts_np[None, ...]  # [1, T, D]\n",
    "\n",
    "N, T, D = xts_np.shape\n",
    "assert D == 2, \"D must be 2 for 2D plotting\"\n",
    "\n",
    "# Prepare segments for LineCollection: each path is (T, 2), segments are (T-1, 2, 2)\n",
    "segments = []\n",
    "colors = []\n",
    "norm = plt.Normalize(ts_np.min(), ts_np.max())\n",
    "# Use a blue-to-red colormap\n",
    "cmap = plt.get_cmap('coolwarm')  # blue (low) to red (high)\n",
    "\n",
    "# Use a single alpha value for all lines\n",
    "global_alpha = 0.1\n",
    "\n",
    "for i in range(N):\n",
    "    points = xts_np[i, :, :2]\n",
    "    segs = np.stack([points[:-1], points[1:]], axis=1)  # (T-1, 2, 2)\n",
    "    segments.append(segs)\n",
    "    # Color for each segment (time-varying colormap, fixed alpha)\n",
    "    t_mid = (ts_np[:-1] + ts_np[1:]) / 2\n",
    "    seg_colors = cmap(norm(t_mid))\n",
    "    seg_colors[:, -1] = global_alpha  # Set the same alpha for all segments\n",
    "    colors.append(seg_colors)\n",
    "\n",
    "# Concatenate all segments and colors\n",
    "all_segments = np.concatenate(segments, axis=0)\n",
    "all_colors = np.concatenate(colors, axis=0)\n",
    "\n",
    "fig, ax = plt.subplots(figsize=(8, 6))\n",
    "lc = LineCollection(all_segments, colors=all_colors, linewidths=1)\n",
    "ax.add_collection(lc)\n",
    "\n",
    "# Add scatterplot of xmids, black markers\n",
    "xmids_np = xmids.detach().cpu().numpy()\n",
    "x1s_np = xts_np[..., -1, :]\n",
    "ax.scatter(xmids_np[:, 0], xmids_np[:, 1], color='k', marker='o', s=20, label='xmids')\n",
    "ax.scatter(x1s_np[:, 0], x1s_np[:, 1], color='r', marker='o', s=20, label='x1s')\n",
    "\n",
    "# Set axis limits\n",
    "all_x = xts_np[..., 0].ravel()\n",
    "all_y = xts_np[..., 1].ravel()\n",
    "ax.set_xlim(all_x.min(), all_x.max())\n",
    "ax.set_ylim(all_y.min(), all_y.max())\n",
    "\n",
    "ax.set_xlabel('x[0]')\n",
    "ax.set_ylabel('x[1]')\n",
    "ax.set_title('Sample Paths with Time-varying Color (Blue to Red, Fixed Alpha)')\n",
    "\n",
    "# Colorbar for time\n",
    "sm = plt.cm.ScalarMappable(cmap=cmap, norm=norm)\n",
    "sm.set_array([])\n",
    "cbar = plt.colorbar(sm, ax=ax, label='Time')\n",
    "plt.show()\n"
   ]
  },
  {
   "cell_type": "markdown",
   "id": "9771f7cd",
   "metadata": {},
   "source": [
    "# Optimal Transport Cost"
   ]
  },
  {
   "cell_type": "code",
   "execution_count": 12,
   "id": "83f060ad",
   "metadata": {},
   "outputs": [
    {
     "data": {
      "image/png": "[encoded data removed]",
      "text/plain": [
       "<Figure size 800x700 with 2 Axes>"
      ]
     },
     "metadata": {},
     "output_type": "display_data"
    }
   ],
   "source": [
    "# Solve entropic OT problem between a centred Gaussian and a mixture of three Gaussians\n",
    "dim = 2\n",
    "L = torch.eye(dim)\n",
    "c = 0.5\n",
    "sigma = 0.0\n",
    "\n",
    "sde = HeatBMTSDE(L=L, c=c, sigma=sigma)\n",
    "ot_solver = OTSolver(sde=sde, epsilon=0.0)\n",
    "# ot_solver = EntropicOTSolver(sde=sde, normalize_variance=False)\n",
    "\n",
    "\n",
    "x0 = torch.tensor([3.0, 0.0])\n",
    "# Create a grid of y points and evaluate the cost from x0 to them using cost_matrix\n",
    "\n",
    "# Define grid limits and resolution\n",
    "y_min, y_max, n_grid = -5.0, 5.0, 50\n",
    "y1 = torch.linspace(y_min, y_max, n_grid)\n",
    "y2 = torch.linspace(y_min, y_max, n_grid)\n",
    "y1g, y2g = torch.meshgrid(y1, y2, indexing='xy')\n",
    "y_grid = torch.stack([y1g, y2g], dim=-1)\n",
    "\n",
    "# Evaluate cost from x0 to each y in the grid using cost_matrix\n",
    "costs = ot_solver.cost(x0.reshape(-1, 2), y_grid.reshape(-1, 2)).reshape(y_grid.shape[:-1])\n",
    "\n",
    "\n",
    "# Plot the cost as a heatmap\n",
    "plt.figure(figsize=(8, 7))\n",
    "plt.imshow(costs.cpu(), extent=[y_min, y_max, y_min, y_max], cmap='viridis')\n",
    "plt.colorbar(label='Cost')\n",
    "plt.xlabel('y1')\n",
    "plt.ylabel('y2')\n",
    "plt.title('Cost from x0 to y_grid')\n",
    "plt.show()"
   ]
  },
  {
   "cell_type": "markdown",
   "id": "b3b2f5e2",
   "metadata": {},
   "source": [
    "# Optimal transfer plan and the induced linear flow"
   ]
  },
  {
   "cell_type": "code",
   "execution_count": 13,
   "id": "206c4f7c",
   "metadata": {},
   "outputs": [
    {
     "data": {
      "image/png": "[encoded data removed]",
      "text/plain": [
       "<Figure size 600x500 with 2 Axes>"
      ]
     },
     "metadata": {},
     "output_type": "display_data"
    },
    {
     "data": {
      "image/png": "[encoded data removed]",
      "text/plain": [
       "<Figure size 800x700 with 2 Axes>"
      ]
     },
     "metadata": {},
     "output_type": "display_data"
    }
   ],
   "source": [
    "delta_mu = torch.tensor([3.0, 0.0])\n",
    "\n",
    "mu0, sigma0 = torch.zeros(2) + delta_mu, torch.eye(2) * 0.3\n",
    "R0 = torch.distributions.MultivariateNormal(loc=mu0, covariance_matrix=sigma0)\n",
    "\n",
    "r = 2.0\n",
    "mu11, sigma11 = torch.tensor([0.0, 2.0]) * r + delta_mu, torch.eye(2) * 0.1\n",
    "mu12, sigma12 = torch.tensor([-1.5, -1.0]) * r + delta_mu, torch.eye(2) * 0.1\n",
    "mu13, sigma13 = torch.tensor([1.5, -1.0]) * r + delta_mu, torch.eye(2) * 0.1\n",
    "component_distribution = torch.distributions.MultivariateNormal(\n",
    "    loc=torch.stack([mu11, mu12, mu13], dim=0), \n",
    "    covariance_matrix=torch.stack([sigma11, sigma12, sigma13], dim=0)\n",
    ")\n",
    "mixture_distribution = torch.distributions.Categorical(probs=torch.tensor([1/3, 1/3, 1/3]))\n",
    "R1 = torch.distributions.MixtureSameFamily(\n",
    "    mixture_distribution=mixture_distribution, \n",
    "    component_distribution=component_distribution\n",
    ")\n",
    "\n",
    "n_samples = 100\n",
    "x0 = R0.sample((n_samples,))\n",
    "x1 = R1.sample((n_samples,))\n",
    "\n",
    "ot_plan = ot_solver.solve(x0, x1)\n",
    "\n",
    "\n",
    "plt.figure(figsize=(6, 5))\n",
    "plt.imshow(ot_plan.cpu(), aspect='auto', cmap='viridis')\n",
    "plt.colorbar(label='OT Plan Value')\n",
    "plt.title('Optimal Transport Plan Heatmap')\n",
    "plt.xlabel('Target Sample Index')\n",
    "plt.ylabel('Source Sample Index')\n",
    "plt.show()\n",
    "\n",
    "\n",
    "\n",
    "# Ensure x0, x1, and ot_plan are on CPU and convert to numpy arrays\n",
    "x0_np = x0.cpu().numpy() if hasattr(x0, \"cpu\") else x0.numpy()\n",
    "x1_np = x1.cpu().numpy() if hasattr(x1, \"cpu\") else x1.numpy()\n",
    "ot_plan_np = ot_plan.cpu().numpy() if hasattr(ot_plan, \"cpu\") else ot_plan.numpy()\n",
    "\n",
    "# (Assume x0_np, x1_np, ot_plan_np are already CPU NumPy arrays.)\n",
    "n = x0_np.shape[0]\n",
    "\n",
    "plt.figure(figsize=(8, 7))\n",
    "ax = plt.gca()\n",
    "ax.scatter(x0_np[:, 0], x0_np[:, 1],\n",
    "           color='blue', label='Source', alpha=0.7)\n",
    "ax.scatter(x1_np[:, 0], x1_np[:, 1],\n",
    "           color='red',  label='Target', alpha=0.7)\n",
    "\n",
    "# parameters\n",
    "max_plan = ot_plan_np.max()\n",
    "threshold = 0.01 * max_plan\n",
    "\n",
    "cmap = plt.get_cmap('coolwarm')\n",
    "norm = Normalize(vmin=0, vmax=1)\n",
    "\n",
    "segments = []\n",
    "colors = []\n",
    "widths = []\n",
    "\n",
    "# how many sub‐segments per arrow\n",
    "n_sub = 10\n",
    "\n",
    "for i in range(n):\n",
    "    for j in range(n):\n",
    "        w = ot_plan_np[i, j]\n",
    "        if w <= threshold:\n",
    "            continue\n",
    "\n",
    "        start = x0_np[i]\n",
    "        end = x1_np[j]\n",
    "        # generate equally‐spaced points along the line\n",
    "        pts = np.linspace(start, end, n_sub + 1)\n",
    "\n",
    "        # line thickness & overall alpha from flow magnitude\n",
    "        flow = w / max_plan\n",
    "        lw = 0.5 + 2.5 * flow\n",
    "        alpha = flow * 0.3\n",
    "\n",
    "        # build each tiny segment\n",
    "        for k in range(n_sub):\n",
    "            seg_t = [pts[k], pts[k + 1]]\n",
    "            t = k / n_sub  # 0 at source, 1 at target\n",
    "            # pick color from cmap and inject our α\n",
    "            r, g, b, _ = cmap(norm(t))\n",
    "            colors.append((r, g, b, alpha))\n",
    "            widths.append(lw)\n",
    "            segments.append(seg_t)\n",
    "\n",
    "# assemble the LineCollection\n",
    "lc = LineCollection(segments,\n",
    "                    colors=colors,\n",
    "                    linewidths=widths,\n",
    "                    zorder=0)\n",
    "ax.add_collection(lc)\n",
    "\n",
    "# add colorbar for “time” scale\n",
    "sm = cm.ScalarMappable(norm=norm, cmap=cmap)\n",
    "sm.set_array(np.linspace(0, 1, 100))   # dummy array\n",
    "cbar = plt.colorbar(sm, ax=ax, fraction=0.046, pad=0.04)\n",
    "cbar.set_label('Implicit Time (0=Source, 1=Target)')\n",
    "\n",
    "ax.set(title='Probability Flow Induced by Entropic OT Plan',\n",
    "       xlabel='x', ylabel='y')\n",
    "ax.legend()\n",
    "ax.grid(True)\n",
    "plt.tight_layout()\n",
    "plt.show()\n"
   ]
  },
  {
   "cell_type": "markdown",
   "id": "7f74787f",
   "metadata": {},
   "source": [
    "# Synthetic Experiments"
   ]
  },
  {
   "cell_type": "markdown",
   "id": "410f8c74",
   "metadata": {},
   "source": [
    "## Models"
   ]
  },
  {
   "cell_type": "code",
   "execution_count": null,
   "id": "70c52fb8",
   "metadata": {},
   "outputs": [],
   "source": []
  },
  {
   "cell_type": "markdown",
   "id": "de51c13e",
   "metadata": {},
   "source": [
    "## Training and Evaluation"
   ]
  },
  {
   "cell_type": "code",
   "execution_count": null,
   "id": "33aebdd4",
   "metadata": {},
   "outputs": [],
   "source": [
    "# Settings from Schrodinger bridge matching paper \n",
    "EMA_DECAY = 0.99 \n",
    "ADAMW_LR = 1e-4\n",
    "WASSERSTEIN_DISTANCE_BLUR = 0.05\n",
    "\n",
    "\n",
    "\n",
    "def make_optimizer(model: torch.nn.Module, *, lr: float = ADAMW_LR) -> torch.optim.Optimizer:\n",
    "    return torch.optim.AdamW(model.parameters(), lr=ADAMW_LR)\n",
    "\n",
    "\n",
    "def make_ema(model: torch.nn.Module, *, decay: float = EMA_DECAY) -> ExponentialMovingAverage:\n",
    "    return ExponentialMovingAverage(model.parameters(), decay=decay)\n",
    "\n",
    "\n",
    "def make_objective() -> torch.nn.Module:\n",
    "    return torch.nn.MSELoss()\n",
    "\n",
    "\n",
    "def make_sde_solver(sde: SDE) -> SDESolver:\n",
    "    raise NotImplementedError\n",
    "    # Need to refactor so that SDE solvers take TimeSteps as an argument\n",
    "    return EulerMaruyamaSolver(sde=sde)\n",
    "\n",
    "\n",
    "def wasserstein_distance(x0: torch.Tensor, x1: torch.Tensor, *, p: int = 1, blur: float = WASSERSTEIN_DISTANCE_BLUR) -> float:\n",
    "    if p == 1:\n",
    "        return SamplesLoss(loss=\"sinkhorn\", p=1, blur=blur)(x0, x1)\n",
    "    if p == 2: \n",
    "        return SamplesLoss(loss=\"sinkhorn\", p=2, blur=blur)(x0, x1).sqrt() \n",
    "    raise ValueError(f\"We only use Wasserstein-1 and Wasserstein-2 distances for model evaluation, not {p}.\")\n",
    "\n",
    "\n",
    "def train(\n",
    "    *, \n",
    "    sde: SDE,\n",
    "    model: torch.nn.Module, \n",
    "    data_loader: MatchingDataLoader, \n",
    "    optimizer: torch.optim.Optimizer, \n",
    "    ema: ExponentialMovingAverage, \n",
    "    objective: torch.nn.Module, \n",
    ") -> float:\n",
    "    epoch_loss = 0.0\n",
    "    for t, x0, x1 in data_loader: # TODO Move t from data_loader into the training loop\n",
    "        # sample xt, compute targets and predictions\n",
    "        with torch.inference_mode():\n",
    "            x = sde.marginal_distribution(t=t, x0=x0, x1=x1).sample()\n",
    "            ut = bridge_control(sde=sde, t=t, x=x, x1=x1)\n",
    "        ut_preds = model(t, x)\n",
    "        loss = objective(ut, ut_preds)\n",
    "\n",
    "        # Generic backprop step\n",
    "        optimizer.zero_grad()\n",
    "        loss.backward()\n",
    "        optimizer.step()\n",
    "        ema.update()\n",
    "\n",
    "        # Bookkeeping\n",
    "        epoch_loss += loss.detach().item() \n",
    "\n",
    "    average_loss = epoch_loss / data_loader.epoch_size # TODO extract this into dataloader as .epoch_size\n",
    "    return average_loss \n",
    "\n",
    "\n",
    "@torch.inference_mode()\n",
    "def evaluate(\n",
    "    *, \n",
    "    sde_solver: SDESolver, \n",
    "    model: torch.nn.Module, \n",
    "    data_loader: MatchingDataLoader, \n",
    "    ema: ExponentialMovingAverage, \n",
    ") -> dict[str, float]:\n",
    "    control = ModelControl(model)\n",
    "\n",
    "    W1 = 0.0\n",
    "    W2 = 0.0\n",
    "\n",
    "    for x0, x1 in data_loader:\n",
    "        x1_pred = sde_solver.pushforward(x0=x0, control=control)\n",
    "        W1 += wasserstein_distance(x0=x1_pred, x1=x1, p=1).item()\n",
    "        W2 += wasserstein_distance(x0=x1_pred, x1=x1, p=2).item()\n",
    "    \n",
    "    W1 /= data_loader.num_batches\n",
    "    W2 /= data_loader.num_batches\n",
    "\n",
    "    return {'W1': W1, 'W2': W2}\n",
    "\n",
    "\n",
    "def fit(\n",
    "    sde: SDE,\n",
    "    model: torch.nn.Module, \n",
    "    train_data_loader: MatchingDataLoader, \n",
    "    eval_data_loader: MatchingDataLoader,\n",
    "    *, \n",
    "    num_epochs: int,\n",
    "    sde_solver: SDESolver | None = None, \n",
    "    optimizer: torch.optim.Optimizer | None = None, \n",
    "    ema: ExponentialMovingAverage | None = None, \n",
    "    objective: torch.nn.Module | None = None, \n",
    ") -> dict[str, torch.Tensor]:\n",
    "    if optimizer is None: optimizer = make_optimizer(model)\n",
    "    if ema is None: ema = make_ema(model)\n",
    "    if objective is None: objective = make_objective()\n",
    "\n",
    "    sde_solver = SDESolver(sde)\n",
    "\n",
    "    history = defaultdict(list)\n",
    "\n",
    "    pbar = tqdm.trange(num_epochs, desc=\"Epochs\")\n",
    "    for epoch in pbar:\n",
    "        # Training step\n",
    "        avg_loss = train(\n",
    "            sde_solver=sde_solver,\n",
    "            model=model,\n",
    "            data_loader=train_data_loader,\n",
    "            optimizer=optimizer,\n",
    "            ema=ema,\n",
    "            objective=objective,\n",
    "        )\n",
    "        # Evaluation step\n",
    "        metrics = evaluate(\n",
    "            sde_solver=sde_solver,\n",
    "            model=model,\n",
    "            data_loader=eval_data_loader,\n",
    "            ema=ema,\n",
    "        )\n",
    "\n",
    "        # Bookkeeping \n",
    "        metrics[\"loss\"] = avg_loss\n",
    "        for k, v in metrics.items():\n",
    "            history[k].append(v)\n",
    "        \n",
    "        # Update progress bar\n",
    "        pbar.set_postfix(metrics)\n",
    "\n",
    "    return history\n",
    "\n",
    "\n"
   ]
  },
  {
   "cell_type": "markdown",
   "id": "6c1ea67f",
   "metadata": {},
   "source": [
    "## Simple 2d example"
   ]
  },
  {
   "cell_type": "code",
   "execution_count": 16,
   "id": "836ef311",
   "metadata": {},
   "outputs": [
    {
     "data": {
      "application/vnd.plotly.v1+json": {
       "config": {
        "plotlyServerURL": "https://plot.ly"
       },
       "data": [
        {
         "hovertemplate": "x=%{x}<br>y=%{y}<br>time=%{marker.color}<extra></extra>",
         "legendgroup": "",
         "marker": {
          "color": {
           "bdata": "AAAAAAAAAAAAAAAAAAAAAAAAAAAAAAAAAAAAAAAAAAAAAAAAAAAAAAAAAAAAAAAAAAAAAAAAAAAAAAAAAAAAAAAAAAAAAAAAAAAAAAAAAAAAAAAAAAAAAAAAAAAAAAAAAAAAAAAAAAAAAAAAAAAAAAAAAAAAAAAAAAAAAAAAAAAAAAAAAAAAAAAAAAAAAAAAAAAAAAAAAAAAAAAAAAAAAAAAAAAAAAAAAAAAAAAAAAAAAAAAAAAAAAAAAAAAAAAAAAAAAAAAAAAAAAAAAAAAAAAAAAAAAAAAAAAAAAAAAAAAAAAAAAAAAAAAAAAAAAAAAAAAAAAAAAAAAAAAAAAAAAAAAAAAAAAAAAAAAAAAAAAAAAAAAAAAAAAAAAAAAAAAAAAAAAAAAAAAAAAAAAAAAAAAAAAAAAAAAAAAAAAAAAAAAAAAAAAAAAAAAAAAAAAAAAAAAAAAAAAAAAAAAAAAAAAAAAAAAAAAAAAAAAAAAAAAAAAAAAAAAAAAAAAAAAAAAAAAAAAAAAAAAAAAAAAAAAAAAAAAAAAAAAAAAAAAAAAAAAAAAAAAAAAAAAAAAAAAAAAAAAAAAAAAAAAAAAAAAAAAAAAAAAAAAAAAAAAAAAAAAAAAAAAAAAAAAAAAAAAAAAAAAAAAAAAAAAAAAAAAAAAAAAAAAAAAAAAAAAAAAAAAAAAAAAAAAAAAAAAAAAAAAAAAAAAAAAAAAAAAAAAAAAAAAAAAAAAAAAAAAAAAAAAAAAAAAAAAAAAAAAAAAAAAAAAAAAAAAAAAAAAAAAAAAAAAAAAAAAAAAAAAAAAAAAAAAAAAAAAAAAAAAAAAAAAAAAAAAAAAAAAAAAAAAAAAAAAAAAAAAAAAAAAAAAAAAAAAAAAAAAAAAAAAAAAAAAAAAAAAAAAAAAAAAAAAAAAAAAAAAAAAAAAAAAAAAAAAAAAAAAAAAAAAAAAAAAAAAAAAAAAAAAAAAAAAAAAAAAAAAAAAAAAAAAAAAAAAAAAAAAAAAAAAAAAAAAAAAAAAAAAAAAAAAAAAAAAAAAAAAAAAAAAAAAAAAAAAAAAAAAAAAAAAAAAAAAAAAAAAAAAAAAAAAAAAAAAAAAAAAAAAAAAAAAAAAAAAAAAAAAAAAAAAAAAAAAAAAAAAAAAAAAAAAAAAAAAAAAAAAAAAAAAAAAAAAAAAAAAAAAAAAAAAAAAAAAAAAAAAAAAAAAAAAAAAAAAAAAAAAAAAAAAAAAAAAAAAAAAAAAAAAAAAAAAAAAAAAAAAAAAAAAAAAAAAAAAAAAAAAAAAAAAAAAAAAAAAAAAAAAAAAAAAAAAAAAAAAAAAAAAAAAAAAAAAAAEBAQEBAQEBAQEBAQEBAQEBAQEBAQEBAQEBAQEBAQEBAQEBAQEBAQEBAQEBAQEBAQEBAQEBAQEBAQEBAQEBAQEBAQEBAQEBAQEBAQEBAQEBAQEBAQEBAQEBAQEBAQEBAQEBAQEBAQEBAQEBAQEBAQEBAQEBAQEBAQEBAQEBAQEBAQEBAQEBAQEBAQEBAQEBAQEBAQEBAQEBAQEBAQEBAQEBAQEBAQEBAQEBAQEBAQEBAQEBAQEBAQEBAQEBAQEBAQEBAQEBAQEBAQEBAQEBAQEBAQEBAQEBAQEBAQEBAQEBAQEBAQEBAQEBAQEBAQEBAQEBAQEBAQEBAQEBAQEBAQEBAQEBAQEBAQEBAQEBAQEBAQEBAQEBAQEBAQEBAQEBAQEBAQEBAQEBAQEBAQEBAQEBAQEBAQEBAQEBAQEBAQEBAQEBAQEBAQEBAQEBAQEBAQEBAQEBAQEBAQEBAQEBAQEBAQEBAQEBAQEBAQEBAQEBAQEBAQEBAQEBAQEBAQEBAQEBAQEBAQEBAQEBAQEBAQEBAQEBAQEBAQEBAQEBAQEBAQEBAQEBAQEBAQEBAQEBAQEBAQEBAQEBAQEBAQEBAQEBAQEBAQEBAQEBAQEBAQEBAQEBAQEBAQEBAQEBAQEBAQEBAQEBAQEBAQEBAQEBAQEBAQEBAQEBAQEBAQEBAQEBAQEBAQEBAQEBAQEBAQEBAQEBAQEBAQEBAQEBAQEBAQEBAQEBAQEBAQEBAQEBAQEBAQEBAQEBAQEBAQEBAQEBAQEBAQEBAQEBAQEBAQEBAQEBAQEBAQEBAQEBAQEBAQEBAQEBAQEBAQEBAQEBAQEBAQEBAQEBAQEBAQEBAQEBAQEBAQEBAQEBAQEBAQEBAQEBAQEBAQEBAQEBAQEBAQEBAQEBAQEBAQEBAQEBAQEBAQEBAQEBAQEBAQEBAQEBAQEBAQEBAQEBAQEBAQEBAQEBAQEBAQEBAQEBAQEBAQEBAQEBAQEBAQEBAQEBAQEBAQEBAQEBAQEBAQEBAQEBAQEBAQEBAQEBAQEBAQEBAQEBAQEBAQEBAQEBAQEBAQEBAQEBAQEBAQEBAQEBAQEBAQEBAQEBAQEBAQEBAQEBAQEBAQEBAQEBAQEBAQEBAQEBAQEBAQEBAQEBAQEBAQEBAQEBAQEBAQEBAQEBAQEBAQEBAQEBAQEBAQEBAQEBAQEBAQEBAQEBAQEBAQEBAQEBAQEBAQEBAQEBAQEBAQEBAQEBAQEBAQEBAQEBAQEBAQEBAQEBAQEBAQEBAQEBAQEBAQEBAQEBAQEBAQEBAQEBAQEBAQEBAQEBAQEBAQEBAQEBAQEBAQEBAQEBAQE=",
           "dtype": "i1"
          },
          "coloraxis": "coloraxis",
          "symbol": "circle"
         },
         "mode": "markers",
         "name": "",
         "showlegend": false,
         "type": "scattergl",
         "x": {
          "bdata": "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",
          "dtype": "f8"
         },
         "xaxis": "x",
         "y": {
          "bdata": "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",
          "dtype": "f8"
         },
         "yaxis": "y"
        }
       ],
       "layout": {
        "coloraxis": {
         "colorbar": {
          "title": {
           "text": "time"
          }
         },
         "colorscale": [
          [
           0,
           "#0d0887"
          ],
          [
           0.1111111111111111,
           "#46039f"
          ],
          [
           0.2222222222222222,
           "#7201a8"
          ],
          [
           0.3333333333333333,
           "#9c179e"
          ],
          [
           0.4444444444444444,
           "#bd3786"
          ],
          [
           0.5555555555555556,
           "#d8576b"
          ],
          [
           0.6666666666666666,
           "#ed7953"
          ],
          [
           0.7777777777777778,
           "#fb9f3a"
          ],
          [
           0.8888888888888888,
           "#fdca26"
          ],
          [
           1,
           "#f0f921"
          ]
         ]
        },
        "legend": {
         "tracegroupgap": 0
        },
        "margin": {
         "t": 60
        },
        "template": {
         "data": {
          "bar": [
           {
            "error_x": {
             "color": "#2a3f5f"
            },
            "error_y": {
             "color": "#2a3f5f"
            },
            "marker": {
             "line": {
              "color": "#E5ECF6",
              "width": 0.5
             },
             "pattern": {
              "fillmode": "overlay",
              "size": 10,
              "solidity": 0.2
             }
            },
            "type": "bar"
           }
          ],
          "barpolar": [
           {
            "marker": {
             "line": {
              "color": "#E5ECF6",
              "width": 0.5
             },
             "pattern": {
              "fillmode": "overlay",
              "size": 10,
              "solidity": 0.2
             }
            },
            "type": "barpolar"
           }
          ],
          "carpet": [
           {
            "aaxis": {
             "endlinecolor": "#2a3f5f",
             "gridcolor": "white",
             "linecolor": "white",
             "minorgridcolor": "white",
             "startlinecolor": "#2a3f5f"
            },
            "baxis": {
             "endlinecolor": "#2a3f5f",
             "gridcolor": "white",
             "linecolor": "white",
             "minorgridcolor": "white",
             "startlinecolor": "#2a3f5f"
            },
            "type": "carpet"
           }
          ],
          "choropleth": [
           {
            "colorbar": {
             "outlinewidth": 0,
             "ticks": ""
            },
            "type": "choropleth"
           }
          ],
          "contour": [
           {
            "colorbar": {
             "outlinewidth": 0,
             "ticks": ""
            },
            "colorscale": [
             [
              0,
              "#0d0887"
             ],
             [
              0.1111111111111111,
              "#46039f"
             ],
             [
              0.2222222222222222,
              "#7201a8"
             ],
             [
              0.3333333333333333,
              "#9c179e"
             ],
             [
              0.4444444444444444,
              "#bd3786"
             ],
             [
              0.5555555555555556,
              "#d8576b"
             ],
             [
              0.6666666666666666,
              "#ed7953"
             ],
             [
              0.7777777777777778,
              "#fb9f3a"
             ],
             [
              0.8888888888888888,
              "#fdca26"
             ],
             [
              1,
              "#f0f921"
             ]
            ],
            "type": "contour"
           }
          ],
          "contourcarpet": [
           {
            "colorbar": {
             "outlinewidth": 0,
             "ticks": ""
            },
            "type": "contourcarpet"
           }
          ],
          "heatmap": [
           {
            "colorbar": {
             "outlinewidth": 0,
             "ticks": ""
            },
            "colorscale": [
             [
              0,
              "#0d0887"
             ],
             [
              0.1111111111111111,
              "#46039f"
             ],
             [
              0.2222222222222222,
              "#7201a8"
             ],
             [
              0.3333333333333333,
              "#9c179e"
             ],
             [
              0.4444444444444444,
              "#bd3786"
             ],
             [
              0.5555555555555556,
              "#d8576b"
             ],
             [
              0.6666666666666666,
              "#ed7953"
             ],
             [
              0.7777777777777778,
              "#fb9f3a"
             ],
             [
              0.8888888888888888,
              "#fdca26"
             ],
             [
              1,
              "#f0f921"
             ]
            ],
            "type": "heatmap"
           }
          ],
          "histogram": [
           {
            "marker": {
             "pattern": {
              "fillmode": "overlay",
              "size": 10,
              "solidity": 0.2
             }
            },
            "type": "histogram"
           }
          ],
          "histogram2d": [
           {
            "colorbar": {
             "outlinewidth": 0,
             "ticks": ""
            },
            "colorscale": [
             [
              0,
              "#0d0887"
             ],
             [
              0.1111111111111111,
              "#46039f"
             ],
             [
              0.2222222222222222,
              "#7201a8"
             ],
             [
              0.3333333333333333,
              "#9c179e"
             ],
             [
              0.4444444444444444,
              "#bd3786"
             ],
             [
              0.5555555555555556,
              "#d8576b"
             ],
             [
              0.6666666666666666,
              "#ed7953"
             ],
             [
              0.7777777777777778,
              "#fb9f3a"
             ],
             [
              0.8888888888888888,
              "#fdca26"
             ],
             [
              1,
              "#f0f921"
             ]
            ],
            "type": "histogram2d"
           }
          ],
          "histogram2dcontour": [
           {
            "colorbar": {
             "outlinewidth": 0,
             "ticks": ""
            },
            "colorscale": [
             [
              0,
              "#0d0887"
             ],
             [
              0.1111111111111111,
              "#46039f"
             ],
             [
              0.2222222222222222,
              "#7201a8"
             ],
             [
              0.3333333333333333,
              "#9c179e"
             ],
             [
              0.4444444444444444,
              "#bd3786"
             ],
             [
              0.5555555555555556,
              "#d8576b"
             ],
             [
              0.6666666666666666,
              "#ed7953"
             ],
             [
              0.7777777777777778,
              "#fb9f3a"
             ],
             [
              0.8888888888888888,
              "#fdca26"
             ],
             [
              1,
              "#f0f921"
             ]
            ],
            "type": "histogram2dcontour"
           }
          ],
          "mesh3d": [
           {
            "colorbar": {
             "outlinewidth": 0,
             "ticks": ""
            },
            "type": "mesh3d"
           }
          ],
          "parcoords": [
           {
            "line": {
             "colorbar": {
              "outlinewidth": 0,
              "ticks": ""
             }
            },
            "type": "parcoords"
           }
          ],
          "pie": [
           {
            "automargin": true,
            "type": "pie"
           }
          ],
          "scatter": [
           {
            "fillpattern": {
             "fillmode": "overlay",
             "size": 10,
             "solidity": 0.2
            },
            "type": "scatter"
           }
          ],
          "scatter3d": [
           {
            "line": {
             "colorbar": {
              "outlinewidth": 0,
              "ticks": ""
             }
            },
            "marker": {
             "colorbar": {
              "outlinewidth": 0,
              "ticks": ""
             }
            },
            "type": "scatter3d"
           }
          ],
          "scattercarpet": [
           {
            "marker": {
             "colorbar": {
              "outlinewidth": 0,
              "ticks": ""
             }
            },
            "type": "scattercarpet"
           }
          ],
          "scattergeo": [
           {
            "marker": {
             "colorbar": {
              "outlinewidth": 0,
              "ticks": ""
             }
            },
            "type": "scattergeo"
           }
          ],
          "scattergl": [
           {
            "marker": {
             "colorbar": {
              "outlinewidth": 0,
              "ticks": ""
             }
            },
            "type": "scattergl"
           }
          ],
          "scattermap": [
           {
            "marker": {
             "colorbar": {
              "outlinewidth": 0,
              "ticks": ""
             }
            },
            "type": "scattermap"
           }
          ],
          "scattermapbox": [
           {
            "marker": {
             "colorbar": {
              "outlinewidth": 0,
              "ticks": ""
             }
            },
            "type": "scattermapbox"
           }
          ],
          "scatterpolar": [
           {
            "marker": {
             "colorbar": {
              "outlinewidth": 0,
              "ticks": ""
             }
            },
            "type": "scatterpolar"
           }
          ],
          "scatterpolargl": [
           {
            "marker": {
             "colorbar": {
              "outlinewidth": 0,
              "ticks": ""
             }
            },
            "type": "scatterpolargl"
           }
          ],
          "scatterternary": [
           {
            "marker": {
             "colorbar": {
              "outlinewidth": 0,
              "ticks": ""
             }
            },
            "type": "scatterternary"
           }
          ],
          "surface": [
           {
            "colorbar": {
             "outlinewidth": 0,
             "ticks": ""
            },
            "colorscale": [
             [
              0,
              "#0d0887"
             ],
             [
              0.1111111111111111,
              "#46039f"
             ],
             [
              0.2222222222222222,
              "#7201a8"
             ],
             [
              0.3333333333333333,
              "#9c179e"
             ],
             [
              0.4444444444444444,
              "#bd3786"
             ],
             [
              0.5555555555555556,
              "#d8576b"
             ],
             [
              0.6666666666666666,
              "#ed7953"
             ],
             [
              0.7777777777777778,
              "#fb9f3a"
             ],
             [
              0.8888888888888888,
              "#fdca26"
             ],
             [
              1,
              "#f0f921"
             ]
            ],
            "type": "surface"
           }
          ],
          "table": [
           {
            "cells": {
             "fill": {
              "color": "#EBF0F8"
             },
             "line": {
              "color": "white"
             }
            },
            "header": {
             "fill": {
              "color": "#C8D4E3"
             },
             "line": {
              "color": "white"
             }
            },
            "type": "table"
           }
          ]
         },
         "layout": {
          "annotationdefaults": {
           "arrowcolor": "#2a3f5f",
           "arrowhead": 0,
           "arrowwidth": 1
          },
          "autotypenumbers": "strict",
          "coloraxis": {
           "colorbar": {
            "outlinewidth": 0,
            "ticks": ""
           }
          },
          "colorscale": {
           "diverging": [
            [
             0,
             "#8e0152"
            ],
            [
             0.1,
             "#c51b7d"
            ],
            [
             0.2,
             "#de77ae"
            ],
            [
             0.3,
             "#f1b6da"
            ],
            [
             0.4,
             "#fde0ef"
            ],
            [
             0.5,
             "#f7f7f7"
            ],
            [
             0.6,
             "#e6f5d0"
            ],
            [
             0.7,
             "#b8e186"
            ],
            [
             0.8,
             "#7fbc41"
            ],
            [
             0.9,
             "#4d9221"
            ],
            [
             1,
             "#276419"
            ]
           ],
           "sequential": [
            [
             0,
             "#0d0887"
            ],
            [
             0.1111111111111111,
             "#46039f"
            ],
            [
             0.2222222222222222,
             "#7201a8"
            ],
            [
             0.3333333333333333,
             "#9c179e"
            ],
            [
             0.4444444444444444,
             "#bd3786"
            ],
            [
             0.5555555555555556,
             "#d8576b"
            ],
            [
             0.6666666666666666,
             "#ed7953"
            ],
            [
             0.7777777777777778,
             "#fb9f3a"
            ],
            [
             0.8888888888888888,
             "#fdca26"
            ],
            [
             1,
             "#f0f921"
            ]
           ],
           "sequentialminus": [
            [
             0,
             "#0d0887"
            ],
            [
             0.1111111111111111,
             "#46039f"
            ],
            [
             0.2222222222222222,
             "#7201a8"
            ],
            [
             0.3333333333333333,
             "#9c179e"
            ],
            [
             0.4444444444444444,
             "#bd3786"
            ],
            [
             0.5555555555555556,
             "#d8576b"
            ],
            [
             0.6666666666666666,
             "#ed7953"
            ],
            [
             0.7777777777777778,
             "#fb9f3a"
            ],
            [
             0.8888888888888888,
             "#fdca26"
            ],
            [
             1,
             "#f0f921"
            ]
           ]
          },
          "colorway": [
           "#636efa",
           "#EF553B",
           "#00cc96",
           "#ab63fa",
           "#FFA15A",
           "#19d3f3",
           "#FF6692",
           "#B6E880",
           "#FF97FF",
           "#FECB52"
          ],
          "font": {
           "color": "#2a3f5f"
          },
          "geo": {
           "bgcolor": "white",
           "lakecolor": "white",
           "landcolor": "#E5ECF6",
           "showlakes": true,
           "showland": true,
           "subunitcolor": "white"
          },
          "hoverlabel": {
           "align": "left"
          },
          "hovermode": "closest",
          "mapbox": {
           "style": "light"
          },
          "paper_bgcolor": "white",
          "plot_bgcolor": "#E5ECF6",
          "polar": {
           "angularaxis": {
            "gridcolor": "white",
            "linecolor": "white",
            "ticks": ""
           },
           "bgcolor": "#E5ECF6",
           "radialaxis": {
            "gridcolor": "white",
            "linecolor": "white",
            "ticks": ""
           }
          },
          "scene": {
           "xaxis": {
            "backgroundcolor": "#E5ECF6",
            "gridcolor": "white",
            "gridwidth": 2,
            "linecolor": "white",
            "showbackground": true,
            "ticks": "",
            "zerolinecolor": "white"
           },
           "yaxis": {
            "backgroundcolor": "#E5ECF6",
            "gridcolor": "white",
            "gridwidth": 2,
            "linecolor": "white",
            "showbackground": true,
            "ticks": "",
            "zerolinecolor": "white"
           },
           "zaxis": {
            "backgroundcolor": "#E5ECF6",
            "gridcolor": "white",
            "gridwidth": 2,
            "linecolor": "white",
            "showbackground": true,
            "ticks": "",
            "zerolinecolor": "white"
           }
          },
          "shapedefaults": {
           "line": {
            "color": "#2a3f5f"
           }
          },
          "ternary": {
           "aaxis": {
            "gridcolor": "white",
            "linecolor": "white",
            "ticks": ""
           },
           "baxis": {
            "gridcolor": "white",
            "linecolor": "white",
            "ticks": ""
           },
           "bgcolor": "#E5ECF6",
           "caxis": {
            "gridcolor": "white",
            "linecolor": "white",
            "ticks": ""
           }
          },
          "title": {
           "x": 0.05
          },
          "xaxis": {
           "automargin": true,
           "gridcolor": "white",
           "linecolor": "white",
           "ticks": "",
           "title": {
            "standoff": 15
           },
           "zerolinecolor": "white",
           "zerolinewidth": 2
          },
          "yaxis": {
           "automargin": true,
           "gridcolor": "white",
           "linecolor": "white",
           "ticks": "",
           "title": {
            "standoff": 15
           },
           "zerolinecolor": "white",
           "zerolinewidth": 2
          }
         }
        },
        "xaxis": {
         "anchor": "y",
         "domain": [
          0,
          1
         ],
         "title": {
          "text": "x"
         }
        },
        "yaxis": {
         "anchor": "x",
         "domain": [
          0,
          1
         ],
         "title": {
          "text": "y"
         }
        }
       }
      }
     },
     "metadata": {},
     "output_type": "display_data"
    }
   ],
   "source": [
    "n = 1000\n",
    "x0 = Moons().sample((n,))\n",
    "x1 = EightGaussians().sample((n,))\n",
    "df_x0 = pd.DataFrame(\n",
    "    {\n",
    "        'x': x0[:, 0], \n",
    "        'y': x0[:, 1],\n",
    "        'time': 0,\n",
    "    }\n",
    ")\n",
    "df_x1 = pd.DataFrame(\n",
    "    {\n",
    "        'x': x1[:, 0], \n",
    "        'y': x1[:, 1],\n",
    "        'time': 1,\n",
    "    }\n",
    ")\n",
    "df = pd.concat([df_x0, df_x1])\n",
    "\n",
    "px.scatter(df, x='x', y='y', color='time')"
   ]
  },
  {
   "cell_type": "code",
   "execution_count": 41,
   "id": "4271736b",
   "metadata": {},
   "outputs": [
    {
     "name": "stderr",
     "output_type": "stream",
     "text": [
      "Epochs: 100%|██████████| 500/500 [08:28<00:00,  1.02s/it, avg_loss=0.0676]\n"
     ]
    },
    {
     "data": {
      "image/png": "[encoded data removed]",
      "text/plain": [
       "<Figure size 800x400 with 1 Axes>"
      ]
     },
     "metadata": {},
     "output_type": "display_data"
    }
   ],
   "source": [
    "sigma = 0.0\n",
    "c = 2.0\n",
    "\n",
    "A = torch.tensor([\n",
    "    [0.0, 1.0],\n",
    "    [1.0, 0.0],\n",
    "])\n",
    "D = torch.diag_embed(\n",
    "    torch.sum(A, dim=-1),\n",
    ")\n",
    "L = D - A\n",
    "\n",
    "sde = HeatBMTSDE(L=L, c=c, sigma=sigma)\n",
    "\n",
    "# ot_solver = EntropicOTSolver(sde=sde, normalize_variance=True)\n",
    "ot_solver = OTSolver(sde=sde, epsilon=0.0)\n",
    "# time_sampler = BetaTimeSampler()\n",
    "time_sampler = DiscreteTimeSampler(timesteps=UniformTimesteps(n=1000))\n",
    "x0_distribution = EightGaussians()\n",
    "x1_distribution = Moons() \n",
    "# time_sampler = UniformTimeSampler()\n",
    "dataset = MatchingDistributionDataset(\n",
    "    x0_distribution, \n",
    "    x1_distribution, \n",
    "    time_sampler=time_sampler,\n",
    ")\n",
    "\n",
    "model = ResidualNN(data_dim=2)\n",
    "\n",
    "\n",
    "batch_size = 512\n",
    "num_batches = 20 * 512 // batch_size\n",
    "num_epochs = 10000 // num_batches\n",
    "\n",
    "per_batch_losses = train(\n",
    "    sde, ot_solver, model, dataset, \n",
    "    num_epochs=num_epochs, batch_size=batch_size, num_batches=num_batches, \n",
    "    lr=0.0001, use_ema=False,\n",
    ")\n",
    "\n",
    "\n",
    "# Plot per-batch loss after training\n",
    "plt.figure(figsize=(8, 4))\n",
    "plt.plot(per_batch_losses, label=\"Per-batch loss\")\n",
    "plt.xlabel(\"Batch\")\n",
    "plt.ylabel(\"Loss\")\n",
    "plt.title(\"Per-batch Loss During Training\")\n",
    "plt.legend()\n",
    "plt.tight_layout()\n",
    "plt.show()"
   ]
  },
  {
   "cell_type": "code",
   "execution_count": 42,
   "id": "aa9b43ea",
   "metadata": {},
   "outputs": [
    {
     "data": {
      "image/png": "[encoded data removed]",
      "text/plain": [
       "<Figure size 800x600 with 2 Axes>"
      ]
     },
     "metadata": {},
     "output_type": "display_data"
    }
   ],
   "source": [
    "with torch.inference_mode():\n",
    "    model_control = ModelControl(model=model)\n",
    "    sde_solver = EulerMaruyamaSolver(sde=sde, n=1000)\n",
    "    n = 1024\n",
    "    x0s_test = x0_distribution.sample((n,))\n",
    "    x1s_test = x1_distribution.sample((n,))\n",
    "\n",
    "    xts, ts = sde_solver.sample_path(x0s_test, control=model_control)\n",
    "\n",
    "\n",
    "# Assume xts shape: [N, T, D] or [T, D] if single batch\n",
    "xts_np = xts.detach().cpu().numpy()\n",
    "ts_np = ts.detach().cpu().numpy()\n",
    "\n",
    "# Ensure shape is [N, T, D]\n",
    "if xts_np.ndim == 2:\n",
    "    xts_np = xts_np[None, ...]  # [1, T, D]\n",
    "\n",
    "N, T, D = xts_np.shape\n",
    "assert D == 2, \"D must be 2 for 2D plotting\"\n",
    "\n",
    "# Prepare segments for LineCollection: each path is (T, 2), segments are (T-1, 2, 2)\n",
    "segments = []\n",
    "colors = []\n",
    "norm = plt.Normalize(ts_np.min(), ts_np.max())\n",
    "# Use a blue-to-red colormap\n",
    "cmap = plt.get_cmap('coolwarm')  # blue (low) to red (high)\n",
    "\n",
    "# Use a single alpha value for all lines\n",
    "global_alpha = 0.02\n",
    "\n",
    "for i in range(N):\n",
    "    points = xts_np[i, :, :2]\n",
    "    segs = np.stack([points[:-1], points[1:]], axis=1)  # (T-1, 2, 2)\n",
    "    segments.append(segs)\n",
    "    # Color for each segment (time-varying colormap, fixed alpha)\n",
    "    t_mid = (ts_np[:-1] + ts_np[1:]) / 2\n",
    "    seg_colors = cmap(norm(t_mid))\n",
    "    seg_colors[:, -1] = global_alpha  # Set the same alpha for all segments\n",
    "    colors.append(seg_colors)\n",
    "\n",
    "# Concatenate all segments and colors\n",
    "all_segments = np.concatenate(segments, axis=0)\n",
    "all_colors = np.concatenate(colors, axis=0)\n",
    "\n",
    "fig, ax = plt.subplots(figsize=(8, 6))\n",
    "lc = LineCollection(all_segments, colors=all_colors, linewidths=1)\n",
    "ax.add_collection(lc)\n",
    "\n",
    "# Add scatterplot of xmids, black markers\n",
    "x0s_test_np = x0s_test.detach().cpu().numpy()\n",
    "x1s_test_np = x1s_test.detach().cpu().numpy()\n",
    "x1s_pred_np = xts_np[:, -1]\n",
    "ax.scatter(x0s_test_np[:, 0], x0s_test_np[:, 1], color='blue', marker='o', s=10, alpha=0.3, label='R0')\n",
    "ax.scatter(x1s_test_np[:, 0], x1s_test_np[:, 1], color='red', marker='o', s=10, alpha=0.3, label='R1')\n",
    "ax.scatter(x1s_pred_np[:, 0], x1s_pred_np[:, 1], color='green', marker='o', s=10, alpha=0.3, label='Transported R0')\n",
    "ax.legend(loc='upper right')\n",
    "\n",
    "\n",
    "# Set axis limits\n",
    "all_x = xts_np[..., 0].ravel()\n",
    "all_y = xts_np[..., 1].ravel()\n",
    "ax.set_xlim(all_x.min(), all_x.max())\n",
    "ax.set_ylim(all_y.min(), all_y.max())\n",
    "\n",
    "ax.set_xlabel('x[0]')\n",
    "ax.set_ylabel('x[1]')\n",
    "ax.set_title('Sample Paths')\n",
    "\n",
    "# Colorbar for time\n",
    "sm = plt.cm.ScalarMappable(cmap=cmap, norm=norm)\n",
    "sm.set_array([])\n",
    "cbar = plt.colorbar(sm, ax=ax, label='Time')\n",
    "plt.show()\n"
   ]
  },
  {
   "cell_type": "markdown",
   "id": "edcc09a9",
   "metadata": {},
   "source": [
    "# Brain Connectome Experiment"
   ]
  },
  {
   "cell_type": "markdown",
   "id": "de5b2234",
   "metadata": {},
   "source": [
    "## Data download"
   ]
  },
  {
   "cell_type": "code",
   "execution_count": null,
   "id": "02656d6f",
   "metadata": {},
   "outputs": [],
   "source": []
  },
  {
   "cell_type": "markdown",
   "id": "e97ed56f",
   "metadata": {},
   "source": [
    "## Modelling"
   ]
  },
  {
   "cell_type": "code",
   "execution_count": 48,
   "id": "062ca6e6",
   "metadata": {},
   "outputs": [],
   "source": [
    "L, x0, x1, x0_train, x0_test, x1_train, x1_test = as_tensors(*load_brain_data())"
   ]
  },
  {
   "cell_type": "code",
   "execution_count": 57,
   "id": "9e5212fd",
   "metadata": {},
   "outputs": [
    {
     "data": {
      "text/plain": [
       "(tensor(-3.4276), tensor(-4.3403))"
      ]
     },
     "execution_count": 57,
     "metadata": {},
     "output_type": "execute_result"
    }
   ],
   "source": [
    "x0.min(), x1.min()"
   ]
  },
  {
   "cell_type": "code",
   "execution_count": null,
   "id": "3d07c12f",
   "metadata": {},
   "outputs": [
    {
     "name": "stderr",
     "output_type": "stream",
     "text": [
      "Epochs:   0%|          | 0/125 [00:00<?, ?it/s]"
     ]
    },
    {
     "ename": "",
     "evalue": "",
     "output_type": "error",
     "traceback": [
      "\u001b[1;31mThe Kernel crashed while executing code in the current cell or a previous cell. \n",
      "\u001b[1;31mPlease review the code in the cell(s) to identify a possible cause of the failure. \n",
      "\u001b[1;31mClick <a href='https://aka.ms/vscodeJupyterKernelCrash'>here</a> for more info. \n",
      "\u001b[1;31mView Jupyter <a href='command:jupyter.viewOutput'>log</a> for further details."
     ]
    }
   ],
   "source": [
    "c = 2.0\n",
    "sigma = 0.0\n",
    "sde = HeatBMTSDE(L=L, c=c, sigma=sigma)\n",
    "ot_solver = OTSolver(sde=sde, normalize_variance=False, epsilon=0.0)\n",
    "model = ResidualNN(data_dim=x0.shape[-1])\n",
    "num_timesteps = 1000\n",
    "time_sampler = DiscreteTimeSampler(UniformTimesteps(num_timesteps))\n",
    "dataset = MatchingTensorDataset(\n",
    "    x0=x0_train, \n",
    "    x1=x1_train, \n",
    "    time_sampler=time_sampler,\n",
    ")\n",
    "\n",
    "batch_size = 64\n",
    "num_batches = 20 * 512 // batch_size\n",
    "num_epochs = 20000 // num_batches \n",
    "lr = 0.0001\n",
    "batchwise_ot = True\n",
    "\n",
    "training_losses = train(\n",
    "    sde=sde, \n",
    "    ot_solver=ot_solver, \n",
    "    model=model, \n",
    "    dataset=dataset, \n",
    "    num_epochs=num_epochs, \n",
    "    batch_size=batch_size, \n",
    "    num_batches=num_batches, \n",
    "    lr=lr, \n",
    "    batchwise_ot=batchwise_ot,\n",
    ")\n",
    "px.line(training_losses)"
   ]
  },
  {
   "cell_type": "code",
   "execution_count": null,
   "id": "25bb5c68",
   "metadata": {},
   "outputs": [
    {
     "name": "stdout",
     "output_type": "stream",
     "text": [
      "Wasserstein-1 distance: 21.9974\n",
      "Wasserstein-2 distance: 15.6121\n"
     ]
    },
    {
     "data": {
      "application/vnd.plotly.v1+json": {
       "config": {
        "plotlyServerURL": "https://plot.ly"
       },
       "data": [
        {
         "hovertemplate": "x=%{x}<br>y=%{y}<br>signal=%{marker.color}<extra></extra>",
         "legendgroup": "",
         "marker": {
          "color": {
           "bdata": "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",
           "dtype": "f8"
          },
          "coloraxis": "coloraxis",
          "size": 6,
          "symbol": "circle"
         },
         "mode": "markers",
         "name": "",
         "orientation": "v",
         "showlegend": false,
         "type": "scatter",
         "x": {
          "bdata": "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",
          "dtype": "f8"
         },
         "xaxis": "x",
         "y": {
          "bdata": "2zAKgseRREDO/kC5bXNNQF1Q3zKnPUZAnglNEksIRkCgbwuW6lBEQD4IAfkSrERA0ZFc/kPySUCnH9RFCl9aQKW8VkJ30FlAwvhp3Ju1XUC/Q1GgT2VfQI/ecB+5K19AvK302mzMQECGj4gpkaZVQJsAw/LnnUpAbvjddMu4Q0AvpS4Zx8RJQIrlllZDclFAN6lorP1pRUApkq8EUq5DQAlP6PUnx0ZAwoanV8p2SEAcBvNXyMJLQJPfopOlf1lAQtE8gEWbU0C8dmnDYddhQPt3feasCVNAyO4CJQWMUkAiwr8IGiNNQPmHLT2aA1BA4sluZvTcUECKHCJuTpdaQEkPQ6uTgVFAN6lorP0MVUDnOo20VGNUQKFJYkm5+lRAnGnC9pMIVkDFWKZfIglYQL7e/fFeOVNA+G9enPidW0DcgxCQL6JfQD3TS4xlS1JAW9B7YwhxYEB8Yp0qX0RgQE65wrtcSVBAEJVGzOzZSUDhQbPr3pJTQKX5Y1qbY1FA/pjWprFzTkCiJvp8lGVNQIUn9PqT/VhAuXAgJAssV0AAAAAAAEBaQHtoHyv4+1tAUKkSZW+rW0BoIQGjyzVgQEFEatrFE19Amz3QCozdYEAWGLK6VQNiQEPjiSDOmmFAu9IyUu/JZED7XdiaLQNlQDxM++b+3mNAtvepKjTKZUB8Q+GzdQBmQBeARulSkGNAuCBbli/QYUCFe2XeKlVjQFA5Jot7g2ZAoYFYNnN+ZECL/PohNqJlQNLEO8AT8mdA58b0hKVkYUCuZMdGoKdhQB6Jl6dzEGNAccgG0kVbY0CSIcfWs8xlQLA8SE8RhWBATbwDPGkwYUDE6o8wDOtfQI4hADj2uGJAFZD2P8DlY0Bmn8coT3VjQAA8okL1j2RAsTOFzusbZkB4RIXqZohlQJ+Sc2IP+2ZA54nnbAF0ZkCG5GTi1j5nQHJvfsNEa2dACU59IPmcZUD/WfPjLzRjQFg5tMj2fGNAyH2rdeJGYkBM4NbdPLJRQGt+/KVFcV5AFoTyPo4mYEC06Qjg5u1iQML51LFKZl9AKji8ICJqXEC8V61M+P5ZQK5KIvsgaltAX3mQniJBWkD7rZ0oCYdWQEg0gSIWdldAF35wPnVYXkB2bATi9T5gQPorZK6MXGFAm1Wfqy0OYUChurn421tgQDvGFRdH0GJAcCU7NgJ3YUDQCgxZXQZgQBMKEXAIH2BAtyVywRlQXkD9Fp0stTNZQLd6TnrfwFVAJLTlXIrqXED2twTgn6hXQJRnXg67pVlAjL0XX7TDUUAAcOzZczBdQA3k2eVbn2FAd4NorWgJWUDdQIF38jZcQAuz0M5pq1ZA6UmZ1NC1VkAvppnudeNeQP0VMlcGildAij+KOnPFVkAEyxEyEDhhQKkvSzs1l15Akj1CzZCzU0CJB5RNuRdaQMQHdvwXSVpAk6gXfJrqVEDxETElkotQQNv7VBUa+k5AxVkRNdHqU0CwV1hwPwxPQOoI4GbxIEtAOzWXGwyLSkA8M8FwriNEQGt+/KVFUlNAZmmn5nK9S0DPoQxVMedGQJkOnZ53ullAvM0bJ4V3VkAlA0AVN4RRQP+z5sdfpk5AOEw0SMFtSEDboswGmdRDQAuZK4NqlFJALBA9KZMgUEDBO/n02IpWQOHtQQjIF0hAXynLEMfkTEB9JCU9DBlCQFH6Qsh5e0hAArwFEhSZUkB319mQf3ZSQGA7GLFPLVZAmwDD8ue6UkAps0EmmWFiQBqlS/+S5WNATwRxHk4lYUDCwHPv4WtcQGlXIeUnhFtAxXHg1XIaY0CKHY1DfbFnQPcDHhjAJWVA/Uy9bhH7XkBINlfNc7BbQKCKG7eY11hARRFSt7MSWkCBI4EGm4hdQCxi2GFMWVlAuFonLscSX0CUap+OR3xjQEqyDkfXUGRAZ5jaUgdFRkCkb9I0KOBPQOUoQBTMoEhAsOWV623HR0C4zVSIR8pEQEbPLXQl5ERANZpcjIH5SUDNPLmmQC9bQDfDDfj8dlpA94+F6BDKXkCoqtBALPJfQN8ZbVUS/F9A3c8pyM9KQkAYtJCA0RtXQC6rsBngDExA0Xe3skQzRUAFjC5vDplLQCbGMv0SyFJAa5+Oxww2SEAcJET5gpZGQAAAAAAAMEZAuOS4Uzr6SED27LlMTepMQBcuq7AZXVpAOQ1RhT9UVkC/f/PiRL1hQCTQYFPnglJAZacf1EVmVEAWinQ/p5hNQCo4vCAiklBAt32P+utPUUBr9GqA0u5ZQJRL4xdeoVJATwRxHk42VUDutDUiGLFUQKSl8naEsVVAVyO70jIOVUDURnU6kFtWQIVBmUaTYVNA+3Q8ZqB0W0DqXbwftxVfQOfEHtrHLVJAcLTjht9lYEDHZHH/kXVgQDDzHfzEHFBA81fIXBlGSkArEhPU8KhTQO9VKxN+Z1FAE2ba/pWdT0D9pNqn4xlNQJs3TgrzE1pA93e2R2/TV0BqF9NM92ZaQBHDDmPSh1xAoUj3cwo9XECtM74vLppgQIARNGYSnF5A+U1hpQISYUAQdLSqJS9iQCOimLwBlGFAij+KOnOGZEAlH7sLFJtkQA+22O0zoGNAaVVLOsrTZUDIPzOID5hlQA+dnnfjq2NA21Axzl8+YkCu2F92T9JjQMhe7/74p2ZAXK5+bBIbZUB0XmOXKB1mQIPg8e1dN2hAtOVciqskYkCmnC/23iliQJbLRud8KGNAMsueBDbEY0CnI4CbRVFmQCkg7X8A5WBAjnkdcUjkYUDEfHkBdq1gQJVjsrh/d2NAhzQqcLKXZEAgDDz3nuhjQA5JLZRM6WRA18OXiaJYZkCM2v0qwBhmQMi1oWKcnGdAi/uPTIcWZkCkNJvHYZdnQOQSRx4Ij2dA17/rM+eXZUBinSrfsxRjQLSTwVFy1GNAgPPixFdFYkAc0T3rGq9RQBy1wvS9El9ASKZDp2fcYECTq1j8pr1iQKoPJO8czl9AwOeHEcLbXECE8GjjiMlaQDRKl/4l+VtAeUDZlCtIWkAAcsKE0YNXQA/QfTmzgFhAxjL9EvG0XkAcYVERp0lgQEAxsmSOq2FA2zS214L9YED1TC8xlqtgQCKJXkax3mJAoWXdPxatYUDNj7+0KGBgQGFREaeTsmBAcQSpFDunXkCt9xvtuNFZQAAeUaG6XVVAXRjpRe3cXEDgnXx6bNVXQBQ98DFY+1lAhq+vdal2U0C536Eo0E1dQFvSUQ5m02FAexFtx9TkWkDpRe1+FUZcQAAAAAAAIFdAqI/AH35sVkBnDkktlEtfQAPtDikGhlhALqpFRDGCWEC7RzZXTYJhQKaYg6CjbV9AL4hITbspVUCNuAA0SvJaQKFq9GqAZFpAw2Fp4EdWVkCmfXN/9UVSQEZEMXkDL1BALSeh9IWTVEDT3AphNVpRQHO7l/vkRlBA2JyDZ0KlTEDudygK9HdIQODXSBKEw1NAO1ESEmmfTEAvNNdppGNIQIzyzMthblpATrfsEP8VWEBuisdFtRJTQGtlwi/1jVBAF4OHad/OTEArhUAucZpFQBFvnX+7TFJAM9yAzw87UECiCRSxiOlWQF6iemtgw0pA6uqOxTZ7T0BbCd0lcYZFQJD11OqrvUpAgZVDi2wnUkD8qlyo/KtSQDofniXIc1VAA0NWt3r0U0BFoPoHkfthQK5mnfF9jGNArMQ8K2lYYUCZEHNJ1dVcQJoIG55eBVxA3nU25B88Y0BhFto5TW1nQIpVgzA3jGVA+YGrPIHkXkBfevtz0fBbQIFdTZ6yd1lAopxoVyHxW0AWFXE6yWFdQIkmUMQij1lAuDzWjAzKXkAdzCbAsD9jQKqezD96JmRA",
          "dtype": "f8"
         },
         "yaxis": "y"
        }
       ],
       "layout": {
        "coloraxis": {
         "colorbar": {
          "title": {
           "text": "signal"
          }
         },
         "colorscale": [
          [
           0,
           "#0d0887"
          ],
          [
           0.1111111111111111,
           "#46039f"
          ],
          [
           0.2222222222222222,
           "#7201a8"
          ],
          [
           0.3333333333333333,
           "#9c179e"
          ],
          [
           0.4444444444444444,
           "#bd3786"
          ],
          [
           0.5555555555555556,
           "#d8576b"
          ],
          [
           0.6666666666666666,
           "#ed7953"
          ],
          [
           0.7777777777777778,
           "#fb9f3a"
          ],
          [
           0.8888888888888888,
           "#fdca26"
          ],
          [
           1,
           "#f0f921"
          ]
         ]
        },
        "height": 400,
        "legend": {
         "tracegroupgap": 0
        },
        "margin": {
         "t": 60
        },
        "template": {
         "data": {
          "bar": [
           {
            "error_x": {
             "color": "#2a3f5f"
            },
            "error_y": {
             "color": "#2a3f5f"
            },
            "marker": {
             "line": {
              "color": "#E5ECF6",
              "width": 0.5
             },
             "pattern": {
              "fillmode": "overlay",
              "size": 10,
              "solidity": 0.2
             }
            },
            "type": "bar"
           }
          ],
          "barpolar": [
           {
            "marker": {
             "line": {
              "color": "#E5ECF6",
              "width": 0.5
             },
             "pattern": {
              "fillmode": "overlay",
              "size": 10,
              "solidity": 0.2
             }
            },
            "type": "barpolar"
           }
          ],
          "carpet": [
           {
            "aaxis": {
             "endlinecolor": "#2a3f5f",
             "gridcolor": "white",
             "linecolor": "white",
             "minorgridcolor": "white",
             "startlinecolor": "#2a3f5f"
            },
            "baxis": {
             "endlinecolor": "#2a3f5f",
             "gridcolor": "white",
             "linecolor": "white",
             "minorgridcolor": "white",
             "startlinecolor": "#2a3f5f"
            },
            "type": "carpet"
           }
          ],
          "choropleth": [
           {
            "colorbar": {
             "outlinewidth": 0,
             "ticks": ""
            },
            "type": "choropleth"
           }
          ],
          "contour": [
           {
            "colorbar": {
             "outlinewidth": 0,
             "ticks": ""
            },
            "colorscale": [
             [
              0,
              "#0d0887"
             ],
             [
              0.1111111111111111,
              "#46039f"
             ],
             [
              0.2222222222222222,
              "#7201a8"
             ],
             [
              0.3333333333333333,
              "#9c179e"
             ],
             [
              0.4444444444444444,
              "#bd3786"
             ],
             [
              0.5555555555555556,
              "#d8576b"
             ],
             [
              0.6666666666666666,
              "#ed7953"
             ],
             [
              0.7777777777777778,
              "#fb9f3a"
             ],
             [
              0.8888888888888888,
              "#fdca26"
             ],
             [
              1,
              "#f0f921"
             ]
            ],
            "type": "contour"
           }
          ],
          "contourcarpet": [
           {
            "colorbar": {
             "outlinewidth": 0,
             "ticks": ""
            },
            "type": "contourcarpet"
           }
          ],
          "heatmap": [
           {
            "colorbar": {
             "outlinewidth": 0,
             "ticks": ""
            },
            "colorscale": [
             [
              0,
              "#0d0887"
             ],
             [
              0.1111111111111111,
              "#46039f"
             ],
             [
              0.2222222222222222,
              "#7201a8"
             ],
             [
              0.3333333333333333,
              "#9c179e"
             ],
             [
              0.4444444444444444,
              "#bd3786"
             ],
             [
              0.5555555555555556,
              "#d8576b"
             ],
             [
              0.6666666666666666,
              "#ed7953"
             ],
             [
              0.7777777777777778,
              "#fb9f3a"
             ],
             [
              0.8888888888888888,
              "#fdca26"
             ],
             [
              1,
              "#f0f921"
             ]
            ],
            "type": "heatmap"
           }
          ],
          "histogram": [
           {
            "marker": {
             "pattern": {
              "fillmode": "overlay",
              "size": 10,
              "solidity": 0.2
             }
            },
            "type": "histogram"
           }
          ],
          "histogram2d": [
           {
            "colorbar": {
             "outlinewidth": 0,
             "ticks": ""
            },
            "colorscale": [
             [
              0,
              "#0d0887"
             ],
             [
              0.1111111111111111,
              "#46039f"
             ],
             [
              0.2222222222222222,
              "#7201a8"
             ],
             [
              0.3333333333333333,
              "#9c179e"
             ],
             [
              0.4444444444444444,
              "#bd3786"
             ],
             [
              0.5555555555555556,
              "#d8576b"
             ],
             [
              0.6666666666666666,
              "#ed7953"
             ],
             [
              0.7777777777777778,
              "#fb9f3a"
             ],
             [
              0.8888888888888888,
              "#fdca26"
             ],
             [
              1,
              "#f0f921"
             ]
            ],
            "type": "histogram2d"
           }
          ],
          "histogram2dcontour": [
           {
            "colorbar": {
             "outlinewidth": 0,
             "ticks": ""
            },
            "colorscale": [
             [
              0,
              "#0d0887"
             ],
             [
              0.1111111111111111,
              "#46039f"
             ],
             [
              0.2222222222222222,
              "#7201a8"
             ],
             [
              0.3333333333333333,
              "#9c179e"
             ],
             [
              0.4444444444444444,
              "#bd3786"
             ],
             [
              0.5555555555555556,
              "#d8576b"
             ],
             [
              0.6666666666666666,
              "#ed7953"
             ],
             [
              0.7777777777777778,
              "#fb9f3a"
             ],
             [
              0.8888888888888888,
              "#fdca26"
             ],
             [
              1,
              "#f0f921"
             ]
            ],
            "type": "histogram2dcontour"
           }
          ],
          "mesh3d": [
           {
            "colorbar": {
             "outlinewidth": 0,
             "ticks": ""
            },
            "type": "mesh3d"
           }
          ],
          "parcoords": [
           {
            "line": {
             "colorbar": {
              "outlinewidth": 0,
              "ticks": ""
             }
            },
            "type": "parcoords"
           }
          ],
          "pie": [
           {
            "automargin": true,
            "type": "pie"
           }
          ],
          "scatter": [
           {
            "fillpattern": {
             "fillmode": "overlay",
             "size": 10,
             "solidity": 0.2
            },
            "type": "scatter"
           }
          ],
          "scatter3d": [
           {
            "line": {
             "colorbar": {
              "outlinewidth": 0,
              "ticks": ""
             }
            },
            "marker": {
             "colorbar": {
              "outlinewidth": 0,
              "ticks": ""
             }
            },
            "type": "scatter3d"
           }
          ],
          "scattercarpet": [
           {
            "marker": {
             "colorbar": {
              "outlinewidth": 0,
              "ticks": ""
             }
            },
            "type": "scattercarpet"
           }
          ],
          "scattergeo": [
           {
            "marker": {
             "colorbar": {
              "outlinewidth": 0,
              "ticks": ""
             }
            },
            "type": "scattergeo"
           }
          ],
          "scattergl": [
           {
            "marker": {
             "colorbar": {
              "outlinewidth": 0,
              "ticks": ""
             }
            },
            "type": "scattergl"
           }
          ],
          "scattermap": [
           {
            "marker": {
             "colorbar": {
              "outlinewidth": 0,
              "ticks": ""
             }
            },
            "type": "scattermap"
           }
          ],
          "scattermapbox": [
           {
            "marker": {
             "colorbar": {
              "outlinewidth": 0,
              "ticks": ""
             }
            },
            "type": "scattermapbox"
           }
          ],
          "scatterpolar": [
           {
            "marker": {
             "colorbar": {
              "outlinewidth": 0,
              "ticks": ""
             }
            },
            "type": "scatterpolar"
           }
          ],
          "scatterpolargl": [
           {
            "marker": {
             "colorbar": {
              "outlinewidth": 0,
              "ticks": ""
             }
            },
            "type": "scatterpolargl"
           }
          ],
          "scatterternary": [
           {
            "marker": {
             "colorbar": {
              "outlinewidth": 0,
              "ticks": ""
             }
            },
            "type": "scatterternary"
           }
          ],
          "surface": [
           {
            "colorbar": {
             "outlinewidth": 0,
             "ticks": ""
            },
            "colorscale": [
             [
              0,
              "#0d0887"
             ],
             [
              0.1111111111111111,
              "#46039f"
             ],
             [
              0.2222222222222222,
              "#7201a8"
             ],
             [
              0.3333333333333333,
              "#9c179e"
             ],
             [
              0.4444444444444444,
              "#bd3786"
             ],
             [
              0.5555555555555556,
              "#d8576b"
             ],
             [
              0.6666666666666666,
              "#ed7953"
             ],
             [
              0.7777777777777778,
              "#fb9f3a"
             ],
             [
              0.8888888888888888,
              "#fdca26"
             ],
             [
              1,
              "#f0f921"
             ]
            ],
            "type": "surface"
           }
          ],
          "table": [
           {
            "cells": {
             "fill": {
              "color": "#EBF0F8"
             },
             "line": {
              "color": "white"
             }
            },
            "header": {
             "fill": {
              "color": "#C8D4E3"
             },
             "line": {
              "color": "white"
             }
            },
            "type": "table"
           }
          ]
         },
         "layout": {
          "annotationdefaults": {
           "arrowcolor": "#2a3f5f",
           "arrowhead": 0,
           "arrowwidth": 1
          },
          "autotypenumbers": "strict",
          "coloraxis": {
           "colorbar": {
            "outlinewidth": 0,
            "ticks": ""
           }
          },
          "colorscale": {
           "diverging": [
            [
             0,
             "#8e0152"
            ],
            [
             0.1,
             "#c51b7d"
            ],
            [
             0.2,
             "#de77ae"
            ],
            [
             0.3,
             "#f1b6da"
            ],
            [
             0.4,
             "#fde0ef"
            ],
            [
             0.5,
             "#f7f7f7"
            ],
            [
             0.6,
             "#e6f5d0"
            ],
            [
             0.7,
             "#b8e186"
            ],
            [
             0.8,
             "#7fbc41"
            ],
            [
             0.9,
             "#4d9221"
            ],
            [
             1,
             "#276419"
            ]
           ],
           "sequential": [
            [
             0,
             "#0d0887"
            ],
            [
             0.1111111111111111,
             "#46039f"
            ],
            [
             0.2222222222222222,
             "#7201a8"
            ],
            [
             0.3333333333333333,
             "#9c179e"
            ],
            [
             0.4444444444444444,
             "#bd3786"
            ],
            [
             0.5555555555555556,
             "#d8576b"
            ],
            [
             0.6666666666666666,
             "#ed7953"
            ],
            [
             0.7777777777777778,
             "#fb9f3a"
            ],
            [
             0.8888888888888888,
             "#fdca26"
            ],
            [
             1,
             "#f0f921"
            ]
           ],
           "sequentialminus": [
            [
             0,
             "#0d0887"
            ],
            [
             0.1111111111111111,
             "#46039f"
            ],
            [
             0.2222222222222222,
             "#7201a8"
            ],
            [
             0.3333333333333333,
             "#9c179e"
            ],
            [
             0.4444444444444444,
             "#bd3786"
            ],
            [
             0.5555555555555556,
             "#d8576b"
            ],
            [
             0.6666666666666666,
             "#ed7953"
            ],
            [
             0.7777777777777778,
             "#fb9f3a"
            ],
            [
             0.8888888888888888,
             "#fdca26"
            ],
            [
             1,
             "#f0f921"
            ]
           ]
          },
          "colorway": [
           "#636efa",
           "#EF553B",
           "#00cc96",
           "#ab63fa",
           "#FFA15A",
           "#19d3f3",
           "#FF6692",
           "#B6E880",
           "#FF97FF",
           "#FECB52"
          ],
          "font": {
           "color": "#2a3f5f"
          },
          "geo": {
           "bgcolor": "white",
           "lakecolor": "white",
           "landcolor": "#E5ECF6",
           "showlakes": true,
           "showland": true,
           "subunitcolor": "white"
          },
          "hoverlabel": {
           "align": "left"
          },
          "hovermode": "closest",
          "mapbox": {
           "style": "light"
          },
          "paper_bgcolor": "white",
          "plot_bgcolor": "#E5ECF6",
          "polar": {
           "angularaxis": {
            "gridcolor": "white",
            "linecolor": "white",
            "ticks": ""
           },
           "bgcolor": "#E5ECF6",
           "radialaxis": {
            "gridcolor": "white",
            "linecolor": "white",
            "ticks": ""
           }
          },
          "scene": {
           "xaxis": {
            "backgroundcolor": "#E5ECF6",
            "gridcolor": "white",
            "gridwidth": 2,
            "linecolor": "white",
            "showbackground": true,
            "ticks": "",
            "zerolinecolor": "white"
           },
           "yaxis": {
            "backgroundcolor": "#E5ECF6",
            "gridcolor": "white",
            "gridwidth": 2,
            "linecolor": "white",
            "showbackground": true,
            "ticks": "",
            "zerolinecolor": "white"
           },
           "zaxis": {
            "backgroundcolor": "#E5ECF6",
            "gridcolor": "white",
            "gridwidth": 2,
            "linecolor": "white",
            "showbackground": true,
            "ticks": "",
            "zerolinecolor": "white"
           }
          },
          "shapedefaults": {
           "line": {
            "color": "#2a3f5f"
           }
          },
          "ternary": {
           "aaxis": {
            "gridcolor": "white",
            "linecolor": "white",
            "ticks": ""
           },
           "baxis": {
            "gridcolor": "white",
            "linecolor": "white",
            "ticks": ""
           },
           "bgcolor": "#E5ECF6",
           "caxis": {
            "gridcolor": "white",
            "linecolor": "white",
            "ticks": ""
           }
          },
          "title": {
           "x": 0.05
          },
          "xaxis": {
           "automargin": true,
           "gridcolor": "white",
           "linecolor": "white",
           "ticks": "",
           "title": {
            "standoff": 15
           },
           "zerolinecolor": "white",
           "zerolinewidth": 2
          },
          "yaxis": {
           "automargin": true,
           "gridcolor": "white",
           "linecolor": "white",
           "ticks": "",
           "title": {
            "standoff": 15
           },
           "zerolinecolor": "white",
           "zerolinewidth": 2
          }
         }
        },
        "width": 400,
        "xaxis": {
         "anchor": "y",
         "domain": [
          0,
          1
         ],
         "title": {
          "text": "x"
         }
        },
        "yaxis": {
         "anchor": "x",
         "domain": [
          0,
          1
         ],
         "title": {
          "text": "y"
         }
        }
       }
      }
     },
     "metadata": {},
     "output_type": "display_data"
    },
    {
     "data": {
      "application/vnd.plotly.v1+json": {
       "config": {
        "plotlyServerURL": "https://plot.ly"
       },
       "data": [
        {
         "hovertemplate": "x=%{x}<br>y=%{y}<br>signal=%{marker.color}<extra></extra>",
         "legendgroup": "",
         "marker": {
          "color": {
           "bdata": "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",
           "dtype": "f8"
          },
          "coloraxis": "coloraxis",
          "size": 6,
          "symbol": "circle"
         },
         "mode": "markers",
         "name": "",
         "orientation": "v",
         "showlegend": false,
         "type": "scatter",
         "x": {
          "bdata": "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",
          "dtype": "f8"
         },
         "xaxis": "x",
         "y": {
          "bdata": "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",
          "dtype": "f8"
         },
         "yaxis": "y"
        }
       ],
       "layout": {
        "coloraxis": {
         "colorbar": {
          "title": {
           "text": "signal"
          }
         },
         "colorscale": [
          [
           0,
           "#0d0887"
          ],
          [
           0.1111111111111111,
           "#46039f"
          ],
          [
           0.2222222222222222,
           "#7201a8"
          ],
          [
           0.3333333333333333,
           "#9c179e"
          ],
          [
           0.4444444444444444,
           "#bd3786"
          ],
          [
           0.5555555555555556,
           "#d8576b"
          ],
          [
           0.6666666666666666,
           "#ed7953"
          ],
          [
           0.7777777777777778,
           "#fb9f3a"
          ],
          [
           0.8888888888888888,
           "#fdca26"
          ],
          [
           1,
           "#f0f921"
          ]
         ]
        },
        "height": 400,
        "legend": {
         "tracegroupgap": 0
        },
        "margin": {
         "t": 60
        },
        "template": {
         "data": {
          "bar": [
           {
            "error_x": {
             "color": "#2a3f5f"
            },
            "error_y": {
             "color": "#2a3f5f"
            },
            "marker": {
             "line": {
              "color": "#E5ECF6",
              "width": 0.5
             },
             "pattern": {
              "fillmode": "overlay",
              "size": 10,
              "solidity": 0.2
             }
            },
            "type": "bar"
           }
          ],
          "barpolar": [
           {
            "marker": {
             "line": {
              "color": "#E5ECF6",
              "width": 0.5
             },
             "pattern": {
              "fillmode": "overlay",
              "size": 10,
              "solidity": 0.2
             }
            },
            "type": "barpolar"
           }
          ],
          "carpet": [
           {
            "aaxis": {
             "endlinecolor": "#2a3f5f",
             "gridcolor": "white",
             "linecolor": "white",
             "minorgridcolor": "white",
             "startlinecolor": "#2a3f5f"
            },
            "baxis": {
             "endlinecolor": "#2a3f5f",
             "gridcolor": "white",
             "linecolor": "white",
             "minorgridcolor": "white",
             "startlinecolor": "#2a3f5f"
            },
            "type": "carpet"
           }
          ],
          "choropleth": [
           {
            "colorbar": {
             "outlinewidth": 0,
             "ticks": ""
            },
            "type": "choropleth"
           }
          ],
          "contour": [
           {
            "colorbar": {
             "outlinewidth": 0,
             "ticks": ""
            },
            "colorscale": [
             [
              0,
              "#0d0887"
             ],
             [
              0.1111111111111111,
              "#46039f"
             ],
             [
              0.2222222222222222,
              "#7201a8"
             ],
             [
              0.3333333333333333,
              "#9c179e"
             ],
             [
              0.4444444444444444,
              "#bd3786"
             ],
             [
              0.5555555555555556,
              "#d8576b"
             ],
             [
              0.6666666666666666,
              "#ed7953"
             ],
             [
              0.7777777777777778,
              "#fb9f3a"
             ],
             [
              0.8888888888888888,
              "#fdca26"
             ],
             [
              1,
              "#f0f921"
             ]
            ],
            "type": "contour"
           }
          ],
          "contourcarpet": [
           {
            "colorbar": {
             "outlinewidth": 0,
             "ticks": ""
            },
            "type": "contourcarpet"
           }
          ],
          "heatmap": [
           {
            "colorbar": {
             "outlinewidth": 0,
             "ticks": ""
            },
            "colorscale": [
             [
              0,
              "#0d0887"
             ],
             [
              0.1111111111111111,
              "#46039f"
             ],
             [
              0.2222222222222222,
              "#7201a8"
             ],
             [
              0.3333333333333333,
              "#9c179e"
             ],
             [
              0.4444444444444444,
              "#bd3786"
             ],
             [
              0.5555555555555556,
              "#d8576b"
             ],
             [
              0.6666666666666666,
              "#ed7953"
             ],
             [
              0.7777777777777778,
              "#fb9f3a"
             ],
             [
              0.8888888888888888,
              "#fdca26"
             ],
             [
              1,
              "#f0f921"
             ]
            ],
            "type": "heatmap"
           }
          ],
          "histogram": [
           {
            "marker": {
             "pattern": {
              "fillmode": "overlay",
              "size": 10,
              "solidity": 0.2
             }
            },
            "type": "histogram"
           }
          ],
          "histogram2d": [
           {
            "colorbar": {
             "outlinewidth": 0,
             "ticks": ""
            },
            "colorscale": [
             [
              0,
              "#0d0887"
             ],
             [
              0.1111111111111111,
              "#46039f"
             ],
             [
              0.2222222222222222,
              "#7201a8"
             ],
             [
              0.3333333333333333,
              "#9c179e"
             ],
             [
              0.4444444444444444,
              "#bd3786"
             ],
             [
              0.5555555555555556,
              "#d8576b"
             ],
             [
              0.6666666666666666,
              "#ed7953"
             ],
             [
              0.7777777777777778,
              "#fb9f3a"
             ],
             [
              0.8888888888888888,
              "#fdca26"
             ],
             [
              1,
              "#f0f921"
             ]
            ],
            "type": "histogram2d"
           }
          ],
          "histogram2dcontour": [
           {
            "colorbar": {
             "outlinewidth": 0,
             "ticks": ""
            },
            "colorscale": [
             [
              0,
              "#0d0887"
             ],
             [
              0.1111111111111111,
              "#46039f"
             ],
             [
              0.2222222222222222,
              "#7201a8"
             ],
             [
              0.3333333333333333,
              "#9c179e"
             ],
             [
              0.4444444444444444,
              "#bd3786"
             ],
             [
              0.5555555555555556,
              "#d8576b"
             ],
             [
              0.6666666666666666,
              "#ed7953"
             ],
             [
              0.7777777777777778,
              "#fb9f3a"
             ],
             [
              0.8888888888888888,
              "#fdca26"
             ],
             [
              1,
              "#f0f921"
             ]
            ],
            "type": "histogram2dcontour"
           }
          ],
          "mesh3d": [
           {
            "colorbar": {
             "outlinewidth": 0,
             "ticks": ""
            },
            "type": "mesh3d"
           }
          ],
          "parcoords": [
           {
            "line": {
             "colorbar": {
              "outlinewidth": 0,
              "ticks": ""
             }
            },
            "type": "parcoords"
           }
          ],
          "pie": [
           {
            "automargin": true,
            "type": "pie"
           }
          ],
          "scatter": [
           {
            "fillpattern": {
             "fillmode": "overlay",
             "size": 10,
             "solidity": 0.2
            },
            "type": "scatter"
           }
          ],
          "scatter3d": [
           {
            "line": {
             "colorbar": {
              "outlinewidth": 0,
              "ticks": ""
             }
            },
            "marker": {
             "colorbar": {
              "outlinewidth": 0,
              "ticks": ""
             }
            },
            "type": "scatter3d"
           }
          ],
          "scattercarpet": [
           {
            "marker": {
             "colorbar": {
              "outlinewidth": 0,
              "ticks": ""
             }
            },
            "type": "scattercarpet"
           }
          ],
          "scattergeo": [
           {
            "marker": {
             "colorbar": {
              "outlinewidth": 0,
              "ticks": ""
             }
            },
            "type": "scattergeo"
           }
          ],
          "scattergl": [
           {
            "marker": {
             "colorbar": {
              "outlinewidth": 0,
              "ticks": ""
             }
            },
            "type": "scattergl"
           }
          ],
          "scattermap": [
           {
            "marker": {
             "colorbar": {
              "outlinewidth": 0,
              "ticks": ""
             }
            },
            "type": "scattermap"
           }
          ],
          "scattermapbox": [
           {
            "marker": {
             "colorbar": {
              "outlinewidth": 0,
              "ticks": ""
             }
            },
            "type": "scattermapbox"
           }
          ],
          "scatterpolar": [
           {
            "marker": {
             "colorbar": {
              "outlinewidth": 0,
              "ticks": ""
             }
            },
            "type": "scatterpolar"
           }
          ],
          "scatterpolargl": [
           {
            "marker": {
             "colorbar": {
              "outlinewidth": 0,
              "ticks": ""
             }
            },
            "type": "scatterpolargl"
           }
          ],
          "scatterternary": [
           {
            "marker": {
             "colorbar": {
              "outlinewidth": 0,
              "ticks": ""
             }
            },
            "type": "scatterternary"
           }
          ],
          "surface": [
           {
            "colorbar": {
             "outlinewidth": 0,
             "ticks": ""
            },
            "colorscale": [
             [
              0,
              "#0d0887"
             ],
             [
              0.1111111111111111,
              "#46039f"
             ],
             [
              0.2222222222222222,
              "#7201a8"
             ],
             [
              0.3333333333333333,
              "#9c179e"
             ],
             [
              0.4444444444444444,
              "#bd3786"
             ],
             [
              0.5555555555555556,
              "#d8576b"
             ],
             [
              0.6666666666666666,
              "#ed7953"
             ],
             [
              0.7777777777777778,
              "#fb9f3a"
             ],
             [
              0.8888888888888888,
              "#fdca26"
             ],
             [
              1,
              "#f0f921"
             ]
            ],
            "type": "surface"
           }
          ],
          "table": [
           {
            "cells": {
             "fill": {
              "color": "#EBF0F8"
             },
             "line": {
              "color": "white"
             }
            },
            "header": {
             "fill": {
              "color": "#C8D4E3"
             },
             "line": {
              "color": "white"
             }
            },
            "type": "table"
           }
          ]
         },
         "layout": {
          "annotationdefaults": {
           "arrowcolor": "#2a3f5f",
           "arrowhead": 0,
           "arrowwidth": 1
          },
          "autotypenumbers": "strict",
          "coloraxis": {
           "colorbar": {
            "outlinewidth": 0,
            "ticks": ""
           }
          },
          "colorscale": {
           "diverging": [
            [
             0,
             "#8e0152"
            ],
            [
             0.1,
             "#c51b7d"
            ],
            [
             0.2,
             "#de77ae"
            ],
            [
             0.3,
             "#f1b6da"
            ],
            [
             0.4,
             "#fde0ef"
            ],
            [
             0.5,
             "#f7f7f7"
            ],
            [
             0.6,
             "#e6f5d0"
            ],
            [
             0.7,
             "#b8e186"
            ],
            [
             0.8,
             "#7fbc41"
            ],
            [
             0.9,
             "#4d9221"
            ],
            [
             1,
             "#276419"
            ]
           ],
           "sequential": [
            [
             0,
             "#0d0887"
            ],
            [
             0.1111111111111111,
             "#46039f"
            ],
            [
             0.2222222222222222,
             "#7201a8"
            ],
            [
             0.3333333333333333,
             "#9c179e"
            ],
            [
             0.4444444444444444,
             "#bd3786"
            ],
            [
             0.5555555555555556,
             "#d8576b"
            ],
            [
             0.6666666666666666,
             "#ed7953"
            ],
            [
             0.7777777777777778,
             "#fb9f3a"
            ],
            [
             0.8888888888888888,
             "#fdca26"
            ],
            [
             1,
             "#f0f921"
            ]
           ],
           "sequentialminus": [
            [
             0,
             "#0d0887"
            ],
            [
             0.1111111111111111,
             "#46039f"
            ],
            [
             0.2222222222222222,
             "#7201a8"
            ],
            [
             0.3333333333333333,
             "#9c179e"
            ],
            [
             0.4444444444444444,
             "#bd3786"
            ],
            [
             0.5555555555555556,
             "#d8576b"
            ],
            [
             0.6666666666666666,
             "#ed7953"
            ],
            [
             0.7777777777777778,
             "#fb9f3a"
            ],
            [
             0.8888888888888888,
             "#fdca26"
            ],
            [
             1,
             "#f0f921"
            ]
           ]
          },
          "colorway": [
           "#636efa",
           "#EF553B",
           "#00cc96",
           "#ab63fa",
           "#FFA15A",
           "#19d3f3",
           "#FF6692",
           "#B6E880",
           "#FF97FF",
           "#FECB52"
          ],
          "font": {
           "color": "#2a3f5f"
          },
          "geo": {
           "bgcolor": "white",
           "lakecolor": "white",
           "landcolor": "#E5ECF6",
           "showlakes": true,
           "showland": true,
           "subunitcolor": "white"
          },
          "hoverlabel": {
           "align": "left"
          },
          "hovermode": "closest",
          "mapbox": {
           "style": "light"
          },
          "paper_bgcolor": "white",
          "plot_bgcolor": "#E5ECF6",
          "polar": {
           "angularaxis": {
            "gridcolor": "white",
            "linecolor": "white",
            "ticks": ""
           },
           "bgcolor": "#E5ECF6",
           "radialaxis": {
            "gridcolor": "white",
            "linecolor": "white",
            "ticks": ""
           }
          },
          "scene": {
           "xaxis": {
            "backgroundcolor": "#E5ECF6",
            "gridcolor": "white",
            "gridwidth": 2,
            "linecolor": "white",
            "showbackground": true,
            "ticks": "",
            "zerolinecolor": "white"
           },
           "yaxis": {
            "backgroundcolor": "#E5ECF6",
            "gridcolor": "white",
            "gridwidth": 2,
            "linecolor": "white",
            "showbackground": true,
            "ticks": "",
            "zerolinecolor": "white"
           },
           "zaxis": {
            "backgroundcolor": "#E5ECF6",
            "gridcolor": "white",
            "gridwidth": 2,
            "linecolor": "white",
            "showbackground": true,
            "ticks": "",
            "zerolinecolor": "white"
           }
          },
          "shapedefaults": {
           "line": {
            "color": "#2a3f5f"
           }
          },
          "ternary": {
           "aaxis": {
            "gridcolor": "white",
            "linecolor": "white",
            "ticks": ""
           },
           "baxis": {
            "gridcolor": "white",
            "linecolor": "white",
            "ticks": ""
           },
           "bgcolor": "#E5ECF6",
           "caxis": {
            "gridcolor": "white",
            "linecolor": "white",
            "ticks": ""
           }
          },
          "title": {
           "x": 0.05
          },
          "xaxis": {
           "automargin": true,
           "gridcolor": "white",
           "linecolor": "white",
           "ticks": "",
           "title": {
            "standoff": 15
           },
           "zerolinecolor": "white",
           "zerolinewidth": 2
          },
          "yaxis": {
           "automargin": true,
           "gridcolor": "white",
           "linecolor": "white",
           "ticks": "",
           "title": {
            "standoff": 15
           },
           "zerolinecolor": "white",
           "zerolinewidth": 2
          }
         }
        },
        "width": 400,
        "xaxis": {
         "anchor": "y",
         "domain": [
          0,
          1
         ],
         "title": {
          "text": "x"
         }
        },
        "yaxis": {
         "anchor": "x",
         "domain": [
          0,
          1
         ],
         "title": {
          "text": "y"
         }
        }
       }
      }
     },
     "metadata": {},
     "output_type": "display_data"
    },
    {
     "data": {
      "application/vnd.plotly.v1+json": {
       "config": {
        "plotlyServerURL": "https://plot.ly"
       },
       "data": [
        {
         "hovertemplate": "x=%{x}<br>y=%{y}<br>signal=%{marker.color}<extra></extra>",
         "legendgroup": "",
         "marker": {
          "color": {
           "bdata": "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",
           "dtype": "f8"
          },
          "coloraxis": "coloraxis",
          "size": 6,
          "symbol": "circle"
         },
         "mode": "markers",
         "name": "",
         "orientation": "v",
         "showlegend": false,
         "type": "scatter",
         "x": {
          "bdata": "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",
          "dtype": "f8"
         },
         "xaxis": "x",
         "y": {
          "bdata": "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",
          "dtype": "f8"
         },
         "yaxis": "y"
        }
       ],
       "layout": {
        "coloraxis": {
         "colorbar": {
          "title": {
           "text": "signal"
          }
         },
         "colorscale": [
          [
           0,
           "#0d0887"
          ],
          [
           0.1111111111111111,
           "#46039f"
          ],
          [
           0.2222222222222222,
           "#7201a8"
          ],
          [
           0.3333333333333333,
           "#9c179e"
          ],
          [
           0.4444444444444444,
           "#bd3786"
          ],
          [
           0.5555555555555556,
           "#d8576b"
          ],
          [
           0.6666666666666666,
           "#ed7953"
          ],
          [
           0.7777777777777778,
           "#fb9f3a"
          ],
          [
           0.8888888888888888,
           "#fdca26"
          ],
          [
           1,
           "#f0f921"
          ]
         ]
        },
        "height": 400,
        "legend": {
         "tracegroupgap": 0
        },
        "margin": {
         "t": 60
        },
        "template": {
         "data": {
          "bar": [
           {
            "error_x": {
             "color": "#2a3f5f"
            },
            "error_y": {
             "color": "#2a3f5f"
            },
            "marker": {
             "line": {
              "color": "#E5ECF6",
              "width": 0.5
             },
             "pattern": {
              "fillmode": "overlay",
              "size": 10,
              "solidity": 0.2
             }
            },
            "type": "bar"
           }
          ],
          "barpolar": [
           {
            "marker": {
             "line": {
              "color": "#E5ECF6",
              "width": 0.5
             },
             "pattern": {
              "fillmode": "overlay",
              "size": 10,
              "solidity": 0.2
             }
            },
            "type": "barpolar"
           }
          ],
          "carpet": [
           {
            "aaxis": {
             "endlinecolor": "#2a3f5f",
             "gridcolor": "white",
             "linecolor": "white",
             "minorgridcolor": "white",
             "startlinecolor": "#2a3f5f"
            },
            "baxis": {
             "endlinecolor": "#2a3f5f",
             "gridcolor": "white",
             "linecolor": "white",
             "minorgridcolor": "white",
             "startlinecolor": "#2a3f5f"
            },
            "type": "carpet"
           }
          ],
          "choropleth": [
           {
            "colorbar": {
             "outlinewidth": 0,
             "ticks": ""
            },
            "type": "choropleth"
           }
          ],
          "contour": [
           {
            "colorbar": {
             "outlinewidth": 0,
             "ticks": ""
            },
            "colorscale": [
             [
              0,
              "#0d0887"
             ],
             [
              0.1111111111111111,
              "#46039f"
             ],
             [
              0.2222222222222222,
              "#7201a8"
             ],
             [
              0.3333333333333333,
              "#9c179e"
             ],
             [
              0.4444444444444444,
              "#bd3786"
             ],
             [
              0.5555555555555556,
              "#d8576b"
             ],
             [
              0.6666666666666666,
              "#ed7953"
             ],
             [
              0.7777777777777778,
              "#fb9f3a"
             ],
             [
              0.8888888888888888,
              "#fdca26"
             ],
             [
              1,
              "#f0f921"
             ]
            ],
            "type": "contour"
           }
          ],
          "contourcarpet": [
           {
            "colorbar": {
             "outlinewidth": 0,
             "ticks": ""
            },
            "type": "contourcarpet"
           }
          ],
          "heatmap": [
           {
            "colorbar": {
             "outlinewidth": 0,
             "ticks": ""
            },
            "colorscale": [
             [
              0,
              "#0d0887"
             ],
             [
              0.1111111111111111,
              "#46039f"
             ],
             [
              0.2222222222222222,
              "#7201a8"
             ],
             [
              0.3333333333333333,
              "#9c179e"
             ],
             [
              0.4444444444444444,
              "#bd3786"
             ],
             [
              0.5555555555555556,
              "#d8576b"
             ],
             [
              0.6666666666666666,
              "#ed7953"
             ],
             [
              0.7777777777777778,
              "#fb9f3a"
             ],
             [
              0.8888888888888888,
              "#fdca26"
             ],
             [
              1,
              "#f0f921"
             ]
            ],
            "type": "heatmap"
           }
          ],
          "histogram": [
           {
            "marker": {
             "pattern": {
              "fillmode": "overlay",
              "size": 10,
              "solidity": 0.2
             }
            },
            "type": "histogram"
           }
          ],
          "histogram2d": [
           {
            "colorbar": {
             "outlinewidth": 0,
             "ticks": ""
            },
            "colorscale": [
             [
              0,
              "#0d0887"
             ],
             [
              0.1111111111111111,
              "#46039f"
             ],
             [
              0.2222222222222222,
              "#7201a8"
             ],
             [
              0.3333333333333333,
              "#9c179e"
             ],
             [
              0.4444444444444444,
              "#bd3786"
             ],
             [
              0.5555555555555556,
              "#d8576b"
             ],
             [
              0.6666666666666666,
              "#ed7953"
             ],
             [
              0.7777777777777778,
              "#fb9f3a"
             ],
             [
              0.8888888888888888,
              "#fdca26"
             ],
             [
              1,
              "#f0f921"
             ]
            ],
            "type": "histogram2d"
           }
          ],
          "histogram2dcontour": [
           {
            "colorbar": {
             "outlinewidth": 0,
             "ticks": ""
            },
            "colorscale": [
             [
              0,
              "#0d0887"
             ],
             [
              0.1111111111111111,
              "#46039f"
             ],
             [
              0.2222222222222222,
              "#7201a8"
             ],
             [
              0.3333333333333333,
              "#9c179e"
             ],
             [
              0.4444444444444444,
              "#bd3786"
             ],
             [
              0.5555555555555556,
              "#d8576b"
             ],
             [
              0.6666666666666666,
              "#ed7953"
             ],
             [
              0.7777777777777778,
              "#fb9f3a"
             ],
             [
              0.8888888888888888,
              "#fdca26"
             ],
             [
              1,
              "#f0f921"
             ]
            ],
            "type": "histogram2dcontour"
           }
          ],
          "mesh3d": [
           {
            "colorbar": {
             "outlinewidth": 0,
             "ticks": ""
            },
            "type": "mesh3d"
           }
          ],
          "parcoords": [
           {
            "line": {
             "colorbar": {
              "outlinewidth": 0,
              "ticks": ""
             }
            },
            "type": "parcoords"
           }
          ],
          "pie": [
           {
            "automargin": true,
            "type": "pie"
           }
          ],
          "scatter": [
           {
            "fillpattern": {
             "fillmode": "overlay",
             "size": 10,
             "solidity": 0.2
            },
            "type": "scatter"
           }
          ],
          "scatter3d": [
           {
            "line": {
             "colorbar": {
              "outlinewidth": 0,
              "ticks": ""
             }
            },
            "marker": {
             "colorbar": {
              "outlinewidth": 0,
              "ticks": ""
             }
            },
            "type": "scatter3d"
           }
          ],
          "scattercarpet": [
           {
            "marker": {
             "colorbar": {
              "outlinewidth": 0,
              "ticks": ""
             }
            },
            "type": "scattercarpet"
           }
          ],
          "scattergeo": [
           {
            "marker": {
             "colorbar": {
              "outlinewidth": 0,
              "ticks": ""
             }
            },
            "type": "scattergeo"
           }
          ],
          "scattergl": [
           {
            "marker": {
             "colorbar": {
              "outlinewidth": 0,
              "ticks": ""
             }
            },
            "type": "scattergl"
           }
          ],
          "scattermap": [
           {
            "marker": {
             "colorbar": {
              "outlinewidth": 0,
              "ticks": ""
             }
            },
            "type": "scattermap"
           }
          ],
          "scattermapbox": [
           {
            "marker": {
             "colorbar": {
              "outlinewidth": 0,
              "ticks": ""
             }
            },
            "type": "scattermapbox"
           }
          ],
          "scatterpolar": [
           {
            "marker": {
             "colorbar": {
              "outlinewidth": 0,
              "ticks": ""
             }
            },
            "type": "scatterpolar"
           }
          ],
          "scatterpolargl": [
           {
            "marker": {
             "colorbar": {
              "outlinewidth": 0,
              "ticks": ""
             }
            },
            "type": "scatterpolargl"
           }
          ],
          "scatterternary": [
           {
            "marker": {
             "colorbar": {
              "outlinewidth": 0,
              "ticks": ""
             }
            },
            "type": "scatterternary"
           }
          ],
          "surface": [
           {
            "colorbar": {
             "outlinewidth": 0,
             "ticks": ""
            },
            "colorscale": [
             [
              0,
              "#0d0887"
             ],
             [
              0.1111111111111111,
              "#46039f"
             ],
             [
              0.2222222222222222,
              "#7201a8"
             ],
             [
              0.3333333333333333,
              "#9c179e"
             ],
             [
              0.4444444444444444,
              "#bd3786"
             ],
             [
              0.5555555555555556,
              "#d8576b"
             ],
             [
              0.6666666666666666,
              "#ed7953"
             ],
             [
              0.7777777777777778,
              "#fb9f3a"
             ],
             [
              0.8888888888888888,
              "#fdca26"
             ],
             [
              1,
              "#f0f921"
             ]
            ],
            "type": "surface"
           }
          ],
          "table": [
           {
            "cells": {
             "fill": {
              "color": "#EBF0F8"
             },
             "line": {
              "color": "white"
             }
            },
            "header": {
             "fill": {
              "color": "#C8D4E3"
             },
             "line": {
              "color": "white"
             }
            },
            "type": "table"
           }
          ]
         },
         "layout": {
          "annotationdefaults": {
           "arrowcolor": "#2a3f5f",
           "arrowhead": 0,
           "arrowwidth": 1
          },
          "autotypenumbers": "strict",
          "coloraxis": {
           "colorbar": {
            "outlinewidth": 0,
            "ticks": ""
           }
          },
          "colorscale": {
           "diverging": [
            [
             0,
             "#8e0152"
            ],
            [
             0.1,
             "#c51b7d"
            ],
            [
             0.2,
             "#de77ae"
            ],
            [
             0.3,
             "#f1b6da"
            ],
            [
             0.4,
             "#fde0ef"
            ],
            [
             0.5,
             "#f7f7f7"
            ],
            [
             0.6,
             "#e6f5d0"
            ],
            [
             0.7,
             "#b8e186"
            ],
            [
             0.8,
             "#7fbc41"
            ],
            [
             0.9,
             "#4d9221"
            ],
            [
             1,
             "#276419"
            ]
           ],
           "sequential": [
            [
             0,
             "#0d0887"
            ],
            [
             0.1111111111111111,
             "#46039f"
            ],
            [
             0.2222222222222222,
             "#7201a8"
            ],
            [
             0.3333333333333333,
             "#9c179e"
            ],
            [
             0.4444444444444444,
             "#bd3786"
            ],
            [
             0.5555555555555556,
             "#d8576b"
            ],
            [
             0.6666666666666666,
             "#ed7953"
            ],
            [
             0.7777777777777778,
             "#fb9f3a"
            ],
            [
             0.8888888888888888,
             "#fdca26"
            ],
            [
             1,
             "#f0f921"
            ]
           ],
           "sequentialminus": [
            [
             0,
             "#0d0887"
            ],
            [
             0.1111111111111111,
             "#46039f"
            ],
            [
             0.2222222222222222,
             "#7201a8"
            ],
            [
             0.3333333333333333,
             "#9c179e"
            ],
            [
             0.4444444444444444,
             "#bd3786"
            ],
            [
             0.5555555555555556,
             "#d8576b"
            ],
            [
             0.6666666666666666,
             "#ed7953"
            ],
            [
             0.7777777777777778,
             "#fb9f3a"
            ],
            [
             0.8888888888888888,
             "#fdca26"
            ],
            [
             1,
             "#f0f921"
            ]
           ]
          },
          "colorway": [
           "#636efa",
           "#EF553B",
           "#00cc96",
           "#ab63fa",
           "#FFA15A",
           "#19d3f3",
           "#FF6692",
           "#B6E880",
           "#FF97FF",
           "#FECB52"
          ],
          "font": {
           "color": "#2a3f5f"
          },
          "geo": {
           "bgcolor": "white",
           "lakecolor": "white",
           "landcolor": "#E5ECF6",
           "showlakes": true,
           "showland": true,
           "subunitcolor": "white"
          },
          "hoverlabel": {
           "align": "left"
          },
          "hovermode": "closest",
          "mapbox": {
           "style": "light"
          },
          "paper_bgcolor": "white",
          "plot_bgcolor": "#E5ECF6",
          "polar": {
           "angularaxis": {
            "gridcolor": "white",
            "linecolor": "white",
            "ticks": ""
           },
           "bgcolor": "#E5ECF6",
           "radialaxis": {
            "gridcolor": "white",
            "linecolor": "white",
            "ticks": ""
           }
          },
          "scene": {
           "xaxis": {
            "backgroundcolor": "#E5ECF6",
            "gridcolor": "white",
            "gridwidth": 2,
            "linecolor": "white",
            "showbackground": true,
            "ticks": "",
            "zerolinecolor": "white"
           },
           "yaxis": {
            "backgroundcolor": "#E5ECF6",
            "gridcolor": "white",
            "gridwidth": 2,
            "linecolor": "white",
            "showbackground": true,
            "ticks": "",
            "zerolinecolor": "white"
           },
           "zaxis": {
            "backgroundcolor": "#E5ECF6",
            "gridcolor": "white",
            "gridwidth": 2,
            "linecolor": "white",
            "showbackground": true,
            "ticks": "",
            "zerolinecolor": "white"
           }
          },
          "shapedefaults": {
           "line": {
            "color": "#2a3f5f"
           }
          },
          "ternary": {
           "aaxis": {
            "gridcolor": "white",
            "linecolor": "white",
            "ticks": ""
           },
           "baxis": {
            "gridcolor": "white",
            "linecolor": "white",
            "ticks": ""
           },
           "bgcolor": "#E5ECF6",
           "caxis": {
            "gridcolor": "white",
            "linecolor": "white",
            "ticks": ""
           }
          },
          "title": {
           "x": 0.05
          },
          "xaxis": {
           "automargin": true,
           "gridcolor": "white",
           "linecolor": "white",
           "ticks": "",
           "title": {
            "standoff": 15
           },
           "zerolinecolor": "white",
           "zerolinewidth": 2
          },
          "yaxis": {
           "automargin": true,
           "gridcolor": "white",
           "linecolor": "white",
           "ticks": "",
           "title": {
            "standoff": 15
           },
           "zerolinecolor": "white",
           "zerolinewidth": 2
          }
         }
        },
        "width": 400,
        "xaxis": {
         "anchor": "y",
         "domain": [
          0,
          1
         ],
         "title": {
          "text": "x"
         }
        },
        "yaxis": {
         "anchor": "x",
         "domain": [
          0,
          1
         ],
         "title": {
          "text": "y"
         }
        }
       }
      }
     },
     "metadata": {},
     "output_type": "display_data"
    }
   ],
   "source": [
    "sde_solver = EulerMaruyamaSolver(sde=sde, n=num_timesteps)\n",
    "with torch.no_grad():\n",
    "    x0_test_pred = sde_solver.sample_from_terminal(x0=x0_test, control=ModelControl(model))\n",
    "    test_w1 = wasserstein_distance(x0_test_pred, x1_test, p=1)\n",
    "    test_w2 = wasserstein_distance(x0_test_pred, x1_test, p=2)\n",
    "\n",
    "print(f\"Wasserstein-1 distance: {test_w1:.4f}\")\n",
    "print(f\"Wasserstein-2 distance: {test_w2:.4f}\")\n",
    "\n",
    "plot_brain_signal_2d(x0_test[0]);\n",
    "plot_brain_signal_2d(x0_test_pred[0]);\n",
    "plot_brain_signal_2d(x1_test[0]);"
   ]
  },
  {
   "cell_type": "code",
   "execution_count": 50,
   "id": "df371189",
   "metadata": {},
   "outputs": [
    {
     "data": {
      "text/plain": [
       "tensor(18.4981)"
      ]
     },
     "execution_count": 50,
     "metadata": {},
     "output_type": "execute_result"
    }
   ],
   "source": [
    "wasserstein_distance(x0_train, x1_train)"
   ]
  }
 ],
 "metadata": {
  "kernelspec": {
   "display_name": "topological-flow-matching",
   "language": "python",
   "name": "python3"
  },
  "language_info": {
   "codemirror_mode": {
    "name": "ipython",
    "version": 3
   },
   "file_extension": ".py",
   "mimetype": "text/x-python",
   "name": "python",
   "nbconvert_exporter": "python",
   "pygments_lexer": "ipython3",
   "version": "3.10.16"
  }
 },
 "nbformat": 4,
 "nbformat_minor": 5
}
