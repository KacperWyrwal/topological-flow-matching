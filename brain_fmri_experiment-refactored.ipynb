{
 "cells": [
  {
   "cell_type": "code",
   "execution_count": 32,
   "id": "69aeba7b",
   "metadata": {},
   "outputs": [],
   "source": [
    "import torch \n",
    "import os\n",
    "import math\n",
    "import numpy as np\n",
    "import ot \n",
    "import plotly.express as px\n",
    "import scipy\n",
    "from torch_ema import ExponentialMovingAverage\n",
    "from matplotlib import pyplot as plt\n",
    "from matplotlib import cm\n",
    "import tqdm \n",
    "from abc import ABC, abstractmethod\n",
    "from matplotlib.colors import Normalize\n",
    "from matplotlib.collections import LineCollection\n",
    "from geomloss import SamplesLoss\n",
    "from collections import defaultdict\n",
    "import sklearn\n",
    "import pandas as pd\n",
    "\n",
    "\n",
    "torch.set_default_dtype(torch.float64)\n",
    "device = torch.device(\"cuda\" if torch.cuda.is_available() else \"cpu\")\n",
    "torch.set_default_device(device)"
   ]
  },
  {
   "cell_type": "markdown",
   "id": "53824a85",
   "metadata": {},
   "source": [
    "## Utils"
   ]
  },
  {
   "cell_type": "code",
   "execution_count": 3,
   "id": "800e8d01",
   "metadata": {},
   "outputs": [],
   "source": [
    "def sample_moons(shape: torch.Size, *, noise_std: float = 0.05) -> torch.Tensor:\n",
    "    \"\"\"\n",
    "    Generate samples from the two moons dataset.\n",
    "\n",
    "    Args:\n",
    "        shape (torch.Size): The desired output shape (excluding the last dimension, which will be 2).\n",
    "        noise_std (float, optional): Standard deviation of Gaussian noise added to the data. Default is 0.05.\n",
    "\n",
    "    Returns:\n",
    "        torch.Tensor: Samples from the two moons dataset with shape (*shape, 2).\n",
    "    \"\"\"\n",
    "    n = math.prod(shape)\n",
    "\n",
    "    x0 = sklearn.datasets.make_moons(n_samples=n, noise=noise_std)[0]\n",
    "    x0 = torch.as_tensor(x0)\n",
    "    x0 = x0 - torch.tensor([0.5, 0.25])\n",
    "\n",
    "    x0 = x0.reshape(*shape, -1)\n",
    "    return x0 \n",
    "\n",
    "\n",
    "def sample_eight_gaussians(shape: torch.Size, *, radius: float = 2.0, noise_std: float = 0.2) -> torch.Tensor:\n",
    "    \"\"\"\n",
    "    Generate samples from a mixture of eight 2D Gaussians arranged in a circle.\n",
    "\n",
    "    Args:\n",
    "        shape (torch.Size): The desired output shape (excluding the last dimension, which will be 2).\n",
    "        radius (float, optional): The radius of the circle on which the Gaussian centers are placed. Default is 2.0.\n",
    "        noise_std (float, optional): Standard deviation of each Gaussian. Default is 0.2.\n",
    "\n",
    "    Returns:\n",
    "        torch.Tensor: Samples from the eight Gaussians dataset with shape (*shape, 2).\n",
    "    \"\"\"\n",
    "    n = math.prod(shape)\n",
    "\n",
    "    angles = np.linspace(0, 2 * np.pi, 8, endpoint=False)\n",
    "    centers = np.column_stack([np.cos(angles), np.sin(angles)]) * radius\n",
    "    x1 = sklearn.datasets.make_blobs(\n",
    "        n_samples=n, \n",
    "        centers=centers, \n",
    "        cluster_std=noise_std, \n",
    "    )[0]\n",
    "    x1 = torch.as_tensor(x1)\n",
    "\n",
    "    x1 = x1.reshape(*shape, -1)\n",
    "    return x1\n",
    "\n",
    "\n",
    "class Moons(torch.distributions.Distribution):\n",
    "    \"\"\"\n",
    "    A PyTorch Distribution representing the two moons dataset.\n",
    "\n",
    "    Args:\n",
    "        noise_std (float, optional): Standard deviation of Gaussian noise added to the data. Default is 0.05.\n",
    "\n",
    "    Methods:\n",
    "        sample(shape): Generate samples from the two moons dataset with the specified shape.\n",
    "    \"\"\"\n",
    "\n",
    "    def __init__(self, noise_std: float = 0.05) -> None:\n",
    "        super().__init__(validate_args=False)\n",
    "        self.noise_std = noise_std\n",
    "\n",
    "    def sample(self, shape) -> torch.Tensor: \n",
    "        \"\"\"\n",
    "        Generate samples from the two moons dataset.\n",
    "\n",
    "        Args:\n",
    "            shape: The desired output shape (excluding the last dimension, which will be 2).\n",
    "\n",
    "        Returns:\n",
    "            torch.Tensor: Samples from the two moons dataset with shape (*shape, 2).\n",
    "        \"\"\"\n",
    "        return sample_moons(shape, noise_std=self.noise_std)\n",
    "\n",
    "\n",
    "class EightGaussians(torch.distributions.Distribution):\n",
    "    \"\"\"\n",
    "    A PyTorch Distribution representing a mixture of eight Gaussians arranged in a circle.\n",
    "\n",
    "    Args:\n",
    "        radius (float, optional): The radius of the circle on which the Gaussian centers are placed. Default is 2.0.\n",
    "        noise_std (float, optional): Standard deviation of each Gaussian. Default is 0.2.\n",
    "\n",
    "    Methods:\n",
    "        sample(shape): Generate samples from the eight Gaussians dataset with the specified shape.\n",
    "    \"\"\"\n",
    "\n",
    "    def __init__(self, radius: float = 2.0, noise_std: float = 0.2) -> None:\n",
    "        super().__init__(validate_args=False)\n",
    "        self.radius = radius \n",
    "        self.noise_std = noise_std\n",
    "\n",
    "    def sample(self, shape) -> torch.Tensor:\n",
    "        \"\"\"\n",
    "        Generate samples from the eight Gaussians dataset.\n",
    "\n",
    "        Args:\n",
    "            shape: The desired output shape (excluding the last dimension, which will be 2).\n",
    "\n",
    "        Returns:\n",
    "            torch.Tensor: Samples from the eight Gaussians dataset with shape (*shape, 2).\n",
    "        \"\"\"\n",
    "        return sample_eight_gaussians(shape, radius=self.radius, noise_std=self.noise_std)\n",
    "\n",
    "\n",
    "def torch_divmod(n: torch.Tensor, d: int) -> tuple[torch.Tensor, torch.Tensor]:\n",
    "    \"\"\"\n",
    "    Equivalent to divmod for tensors. TODO If implemented nicely in pytorch, could submit a PR. \n",
    "\n",
    "    parameters:\n",
    "        n: torch.Tensor, shape [...]\n",
    "        d: int\n",
    "\n",
    "    returns:\n",
    "        tuple of tensors, shape [...]\n",
    "    \"\"\"\n",
    "    return n // d, n % d\n",
    "\n",
    "\n",
    "def joint_multinomial(distribution: torch.Tensor, num_samples: int, replacement: bool = True) -> tuple[torch.Tensor, torch.Tensor]:\n",
    "    \"\"\"\n",
    "    Sample from a joint categorical distribution.\n",
    "\n",
    "    parameters:\n",
    "        distribution: torch.Tensor, shape (N, M)\n",
    "        num_samples: int, number of samples to draw\n",
    "        replacement: bool, whether to sample with replacement\n",
    "\n",
    "    returns:\n",
    "        torch.Tensor, shape (num_samples, 2)\n",
    "    \"\"\"\n",
    "    n, _ = distribution.shape\n",
    "    res = torch.multinomial(distribution.flatten(), num_samples, replacement=replacement)\n",
    "    res_i, res_j = torch_divmod(res, n)\n",
    "    return res_i, res_j\n",
    "\n",
    "\n",
    "def as_tensors(*args, dtype: torch.dtype | None = None, device: torch.device | None = None) -> tuple[torch.Tensor, ...]:\n",
    "    \"\"\"\n",
    "    Convert all arguments to tensors.\n",
    "    \"\"\"\n",
    "    return tuple(torch.as_tensor(arg, dtype=dtype, device=device) for arg in args)\n",
    "\n",
    "\n",
    "class PossiblyDegenerateNormal(torch.distributions.Normal):\n",
    "    \"\"\"\n",
    "    A Normal distribution that allows for degenerate cases where the scale (standard deviation) is zero.\n",
    "\n",
    "    This class extends torch.distributions.Normal to handle the case where the scale parameter is zero,\n",
    "    i.e., the distribution becomes a Dirac delta at the mean (loc). In such cases:\n",
    "      - log_prob returns 0 if value == loc, -inf otherwise.\n",
    "      - cdf returns 1 if value >= loc, 0 otherwise.\n",
    "      - icdf always returns loc.\n",
    "\n",
    "    Args:\n",
    "        loc (torch.Tensor | float): Mean of the distribution.\n",
    "        scale (torch.Tensor | float): Standard deviation (can be zero).\n",
    "        validate_args (bool | None): Whether to validate input arguments.\n",
    "\n",
    "    Attributes:\n",
    "        is_degenerate (bool or torch.Tensor): Indicates if the distribution is degenerate (scale == 0).\n",
    "    \"\"\"\n",
    "\n",
    "    arg_constraints = {\n",
    "        \"loc\": torch.distributions.constraints.real, \n",
    "        \"scale\": torch.distributions.constraints.greater_than_eq(0.0),\n",
    "    }\n",
    "\n",
    "    # TODO support is still given as Real()\n",
    "\n",
    "    def __init__(\n",
    "        self, \n",
    "        loc: torch.Tensor | float, \n",
    "        scale: torch.Tensor | float, \n",
    "        validate_args: bool | None = None, \n",
    "    ) -> None:\n",
    "        super().__init__(loc=loc, scale=scale, validate_args=validate_args)\n",
    "        self.is_degenerate = scale == 0.0\n",
    "\n",
    "    def log_prob(self, value: torch.Tensor) -> torch.Tensor:\n",
    "        \"\"\"\n",
    "        Computes the log probability of the given value under the distribution.\n",
    "\n",
    "        For degenerate cases (scale == 0), returns 0 if value == loc, -inf otherwise.\n",
    "        \"\"\"\n",
    "        log_prob_if_nondegenerate = super().log_prob(value)\n",
    "        log_prob_if_degenerate = torch.where(\n",
    "            self.loc == value, # This broadcasts in the same way as super().log_prob\n",
    "            0.0, \n",
    "            -torch.inf,\n",
    "        )\n",
    "        return torch.where(\n",
    "            self.is_degenerate,\n",
    "            log_prob_if_degenerate, \n",
    "            log_prob_if_nondegenerate,\n",
    "        )\n",
    "\n",
    "    def cdf(self, value: torch.Tensor) -> torch.Tensor:\n",
    "        \"\"\"\n",
    "        Computes the cumulative distribution function at the given value.\n",
    "\n",
    "        For degenerate cases (scale == 0), returns 1 if value >= loc, 0 otherwise.\n",
    "        \"\"\"\n",
    "        cdf_if_nondegenerate = super().cdf(value)\n",
    "        cdf_if_degenerate = torch.where(\n",
    "            self.loc <= value, \n",
    "            1.0,\n",
    "            0.0,\n",
    "        )\n",
    "        return torch.where(\n",
    "            self.is_degenerate,\n",
    "            cdf_if_degenerate, \n",
    "            cdf_if_nondegenerate,\n",
    "        ) \n",
    "\n",
    "    def icdf(self, value: torch.Tensor) -> torch.Tensor:\n",
    "        \"\"\"\n",
    "        Computes the inverse cumulative distribution function at the given value.\n",
    "\n",
    "        For degenerate cases (scale == 0), always returns loc.\n",
    "        \"\"\"\n",
    "        icdf_if_nondegenerate = super().icdf(value)\n",
    "        icdf_if_degenerate = self.loc\n",
    "        return torch.where(\n",
    "            self.is_degenerate,\n",
    "            icdf_if_degenerate, \n",
    "            icdf_if_nondegenerate,\n",
    "        )"
   ]
  },
  {
   "cell_type": "markdown",
   "id": "37c1c0cc",
   "metadata": {},
   "source": [
    "## SDEs and SDE solvers"
   ]
  },
  {
   "cell_type": "code",
   "execution_count": 17,
   "id": "abd4b6fd",
   "metadata": {},
   "outputs": [],
   "source": [
    "class SDE(ABC):\n",
    "    \"\"\"\n",
    "    Base class for Diagonalizable SDEs. \n",
    "    \"\"\"\n",
    "    def __init__(self, dim: int, *, device: torch.device | None = None):\n",
    "        self._dim = dim \n",
    "        self.device = device \n",
    "\n",
    "    def to(self, device: torch.device | None = None) -> \"SDE\":\n",
    "        if device is not None:\n",
    "            self.device = device \n",
    "        return self \n",
    "\n",
    "    @property\n",
    "    def dim(self) -> int:\n",
    "        return self._dim\n",
    "\n",
    "    \n",
    "    @abstractmethod\n",
    "    def drift(\n",
    "        self, \n",
    "        t: torch.Tensor,\n",
    "        x: torch.Tensor,\n",
    "    ) -> torch.Tensor:\n",
    "        pass \n",
    "\n",
    "    @abstractmethod\n",
    "    def diffusion(\n",
    "        self, \n",
    "        t: torch.Tensor,\n",
    "        x: torch.Tensor,\n",
    "    ) -> torch.Tensor:\n",
    "        pass \n",
    "\n",
    "    @abstractmethod\n",
    "    def transition(\n",
    "        self, \n",
    "        t0: torch.Tensor, \n",
    "        t1: torch.Tensor,\n",
    "    ) -> torch.Tensor:\n",
    "        pass\n",
    "\n",
    "    def _mean(self, t: torch.Tensor) -> torch.Tensor:\n",
    "        raise NotImplementedError(\"Unconditional mean not implemented for this SDE.\") \n",
    "\n",
    "    @abstractmethod\n",
    "    def _mean_with_initial_condition(\n",
    "        self, \n",
    "        t: torch.Tensor, \n",
    "        *, \n",
    "        t0: torch.Tensor | None = None,\n",
    "        x0: torch.Tensor | None = None,\n",
    "    ) -> torch.Tensor:\n",
    "        pass \n",
    "\n",
    "    @abstractmethod\n",
    "    def _mean_with_initial_and_final_condition(\n",
    "        self, \n",
    "        t: torch.Tensor, \n",
    "        *, \n",
    "        t0: torch.Tensor | None = None,\n",
    "        x0: torch.Tensor | None = None,\n",
    "        t1: torch.Tensor | None = None,\n",
    "        x1: torch.Tensor | None = None,\n",
    "    ) -> torch.Tensor:\n",
    "        pass \n",
    "\n",
    "    def mean(\n",
    "        self, \n",
    "        t: torch.Tensor, \n",
    "        *,\n",
    "        t0: torch.Tensor | None = None, \n",
    "        x0: torch.Tensor | None = None,\n",
    "        t1: torch.Tensor | None = None,\n",
    "        x1: torch.Tensor | None = None,\n",
    "    ) -> torch.Tensor:\n",
    "        \"\"\"\n",
    "        Returns the mean of the SDE at time t. May be conditioned on initial and/or final conditions. \n",
    "        If t0 and t1 are True, then t0 = 0 and t1 = 1. \n",
    "\n",
    "        parameters: \n",
    "            t (torch.Tensor): [...] Times.\n",
    "            t0 (torch.Tensor): [...] Start times.\n",
    "            x0 (torch.Tensor): [..., D] Initial value.\n",
    "            t1 (torch.Tensor): [...] End times.\n",
    "\n",
    "        returns: \n",
    "            torch.Tensor: [..., D] Mean.\n",
    "        \"\"\"\n",
    "        if x0 is not None and x1 is not None:\n",
    "            if t0 is None:\n",
    "                t0 = t.new_zeros(t.shape) # [...]\n",
    "            if t1 is None:\n",
    "                t1 = t.new_ones(t.shape) # [...]\n",
    "            return self._mean_with_initial_and_final_condition(t=t, t0=t0, x0=x0, t1=t1, x1=x1)\n",
    "        elif x0 is not None:\n",
    "            if t0 is None:\n",
    "                t0 = t.new_zeros(t.shape) # [...]\n",
    "            return self._mean_with_initial_condition(t=t, t0=t0, x0=x0)\n",
    "        else:\n",
    "            return self._mean(t)\n",
    "\n",
    "    def _variance(\n",
    "        self, \n",
    "        t: torch.Tensor, \n",
    "    ) -> torch.Tensor:\n",
    "        raise NotImplementedError(\"Unconditional variance not implemented for this SDE.\") \n",
    "\n",
    "    @abstractmethod\n",
    "    def _variance_with_initial_condition(\n",
    "        self, \n",
    "        t: torch.Tensor, \n",
    "        *, \n",
    "        t0: torch.Tensor | None = None,\n",
    "    ) -> torch.Tensor:\n",
    "        pass \n",
    "\n",
    "    def _variance_with_initial_and_final_condition(\n",
    "        self, \n",
    "        t: torch.Tensor, \n",
    "        *, \n",
    "        t0: torch.Tensor | None = None, \n",
    "        t1: torch.Tensor | None = None,\n",
    "    ) -> torch.Tensor:\n",
    "        pass \n",
    "\n",
    "    def variance(\n",
    "        self, \n",
    "        t: torch.Tensor, \n",
    "        *, \n",
    "        t0: torch.Tensor | bool | None = None, \n",
    "        t1: torch.Tensor | bool | None = None,\n",
    "    ) -> torch.Tensor:\n",
    "        \"\"\"\n",
    "        Returns the variance of the SDE at time t. May be conditioned on initial and/or final conditions. \n",
    "        If t0 and t1 are True, then t0 = 0 and t1 = 1. \n",
    "\n",
    "        parameters: \n",
    "            t (torch.Tensor): [...] Times.\n",
    "            t0 (torch.Tensor): [...] Start times.\n",
    "            t1 (torch.Tensor): [...] End times.\n",
    "        \n",
    "        returns: \n",
    "            torch.Tensor: [..., D] Variance.\n",
    "        \"\"\"\n",
    "        # Set times to default values \n",
    "        if t0 is True:\n",
    "            t0 = t.new_zeros(t.shape) # [...]\n",
    "        if t1 is True:\n",
    "            t1 = t.new_ones(t.shape) # [...]\n",
    "\n",
    "        # Get variance assuming stochastic dimension\n",
    "        if t0 is not None and t1 is not None:\n",
    "            res = self._variance_with_initial_and_final_condition(t=t, t0=t0, t1=t1)\n",
    "        elif t0 is not None:\n",
    "            res = self._variance_with_initial_condition(t=t, t0=t0)\n",
    "        else:\n",
    "            res = self._variance(t)\n",
    "\n",
    "        return res\n",
    "\n",
    "    def _covariance(\n",
    "        self, \n",
    "        s: torch.Tensor,\n",
    "        t: torch.Tensor,\n",
    "    ) -> torch.Tensor:\n",
    "        raise NotImplementedError(\"Unconditional covariance not implemented for this SDE.\") \n",
    "\n",
    "    def _covariance_with_initial_condition(\n",
    "        self, \n",
    "        s: torch.Tensor, \n",
    "        t: torch.Tensor, \n",
    "        *, \n",
    "        t0: torch.Tensor | None = None,\n",
    "    ) -> torch.Tensor:\n",
    "        \"\"\"\n",
    "        Returns the covariance of the SDE between times s and t conditioned on being at x0 at time t0. \n",
    "\n",
    "        parameters: \n",
    "            s (torch.Tensor): [...] Start times.\n",
    "            t (torch.Tensor): [...] End times.\n",
    "            t0 (torch.Tensor): [...] Conditioning times.\n",
    "        returns: \n",
    "            torch.Tensor: [..., D] Diagonal of the (diagonal) covariance matrix.\n",
    "        \"\"\"\n",
    "        r = torch.minimum(s, t)\n",
    "        return self.transition(t0=r, t1=t) * self.variance(t=r, t0=t0) * self.transition(t0=r, t1=s)\n",
    "\n",
    "    def _covariance_with_initial_and_final_condition(\n",
    "        self, \n",
    "        s: torch.Tensor,\n",
    "        t: torch.Tensor,\n",
    "        *, \n",
    "        t0: torch.Tensor | None = None,\n",
    "        t1: torch.Tensor | None = None,\n",
    "    ) -> torch.Tensor:\n",
    "        # This could be implemented already here by conditioning of Gaussian processes, but is not needed for now. \n",
    "        raise NotImplementedError(\"Unconditional covariance not implemented yet. Can be implemented by the Gaussian process conditioning rule.\") \n",
    "\n",
    "    def covariance(\n",
    "        self, \n",
    "        s: torch.Tensor, \n",
    "        t: torch.Tensor, \n",
    "        *, \n",
    "        t0: torch.Tensor | bool | None = None, \n",
    "        t1: torch.Tensor | bool | None = None,\n",
    "    ) -> torch.Tensor:\n",
    "        if (t0 is True or t0 is not None) and (t1 is True or t1 is not None):\n",
    "            return self._covariance_with_initial_and_final_condition(s=s, t=t, t0=t0, t1=t1)\n",
    "        elif (t0 is True or t0 is not None):\n",
    "            return self._covariance_with_initial_condition(s=s, t=t, t0=t0)\n",
    "        else: \n",
    "            return self._covariance(s=s, t=t)\n",
    "\n",
    "    @abstractmethod\n",
    "    def marginal_distribution(\n",
    "        self, \n",
    "        t: torch.Tensor,\n",
    "        t0: torch.Tensor | None = None, \n",
    "        x0: torch.Tensor | None = None,\n",
    "        t1: torch.Tensor | None = None,\n",
    "        x1: torch.Tensor | None = None,\n",
    "    ) -> torch.Tensor:\n",
    "        \"\"\"\n",
    "        Returns the marginal distribution of the SDE at time t. May be conditioned on initial and/or final conditions. \n",
    "        If t0 and t1 are True, then t0 = 0 and t1 = 1. \n",
    "\n",
    "        parameters: \n",
    "            t (torch.Tensor): [...] Times.\n",
    "            t0 (torch.Tensor): [...] Start times.\n",
    "            x0 (torch.Tensor): [..., D] Initial value.\n",
    "            t1 (torch.Tensor): [...] End times.\n",
    "            x1 (torch.Tensor): [..., D] Target value.\n",
    "\n",
    "        returns: \n",
    "            torch.Tensor: [..., D] Marginal distribution at time t. \n",
    "        \"\"\"\n",
    "\n",
    "\n",
    "class DiagonalizableSDE(SDE):\n",
    "\n",
    "    @abstractmethod\n",
    "    def transform(self, x: torch.Tensor) -> torch.Tensor:\n",
    "        \"\"\"\n",
    "        Returns the transform of the SDE---i.e. x in eigencoordinates.\n",
    "\n",
    "        parameters: \n",
    "            x (torch.Tensor): [..., D] Initial value.\n",
    "\n",
    "        returns: \n",
    "            torch.Tensor: [..., D] Transform of the SDE.\n",
    "        \"\"\"\n",
    "\n",
    "    @abstractmethod\n",
    "    def inverse_transform(self, x: torch.Tensor) -> torch.Tensor:\n",
    "        \"\"\"\n",
    "        Transforms the points from eigencoordinates to the original coordinates. \n",
    "\n",
    "        parameters: \n",
    "            x (torch.Tensor): [..., D] Points in eigencoordinates.\n",
    "\n",
    "        returns: \n",
    "            torch.Tensor: [..., D] Points in original coordinates.\n",
    "        \"\"\"\n",
    "        pass\n",
    "\n",
    "    def _variance_with_initial_and_final_condition(self, t: torch.Tensor, *, t0: torch.Tensor | None = None, t1: torch.Tensor | None = None) -> torch.Tensor:\n",
    "        \"\"\"\n",
    "        Returns the variance of the SDE at time t, conditioned on being zero variance at time t0 and t1.\n",
    "\n",
    "        parameters: \n",
    "            t (torch.Tensor): [...] Times.\n",
    "            t0 (torch.Tensor): [...] Conditioning times.\n",
    "            t1 (torch.Tensor): [...] Conditioning times.\n",
    "\n",
    "        returns: \n",
    "            torch.Tensor: [..., D] Diagonal of the conditional variance of the SDE.\n",
    "        \"\"\"\n",
    "        sigmatt_given_t0 = self.variance(t=t, t0=t0)\n",
    "        sigmat1t_given_t0 = self.covariance(s=t, t=t1, t0=t0)\n",
    "        sigmat1t1_given_t0 = self.variance(t=t1, t0=t0)\n",
    "        \n",
    "        sigmatt_given_t0t1 = sigmatt_given_t0 - sigmat1t_given_t0.square() / sigmat1t1_given_t0\n",
    "\n",
    "        return sigmatt_given_t0t1\n",
    "\n",
    "    def marginal_distribution(\n",
    "        self, \n",
    "        t: torch.Tensor,\n",
    "        t0: torch.Tensor | None = None, \n",
    "        x0: torch.Tensor | None = None,\n",
    "        t1: torch.Tensor | None = None,\n",
    "        x1: torch.Tensor | None = None,\n",
    "    ) -> torch.Tensor:\n",
    "        \"\"\"\n",
    "        Returns the marginal distribution of the SDE at time t. May be conditioned on initial and/or final conditions. \n",
    "        If t0 and t1 are True, then t0 = 0 and t1 = 1. \n",
    "\n",
    "        parameters: \n",
    "            t (torch.Tensor): [...] Times.\n",
    "            t0 (torch.Tensor): [...] Start times.\n",
    "            x0 (torch.Tensor): [..., D] Initial value.\n",
    "            t1 (torch.Tensor): [...] End times.\n",
    "            x1 (torch.Tensor): [..., D] Target value.\n",
    "\n",
    "        returns: \n",
    "            torch.Tensor: [..., D] Marginal distribution at time t. \n",
    "        \"\"\"\n",
    "        if x0 is not None and t0 is None:\n",
    "            t0 = t.new_zeros(t.shape) # [...]\n",
    "        if x1 is not None and t1 is None:\n",
    "            t1 = t.new_ones(t.shape) # [...]\n",
    "\n",
    "        mean = self.mean(t=t, t0=t0, x0=x0, t1=t1, x1=x1)\n",
    "        variance = self.variance(t=t, t0=t0, t1=t1)\n",
    "        normal = PossiblyDegenerateNormal(loc=mean, scale=variance.sqrt())\n",
    "        return torch.distributions.Independent(normal, reinterpreted_batch_ndims=1)\n",
    "\n",
    "\n",
    "class OUDiagonalizableSDE(DiagonalizableSDE):\n",
    "    def __init__(self, alpha_diagonal: torch.Tensor, gamma_diagonal: torch.Tensor, device: torch.device | None = None):\n",
    "        \"\"\"\n",
    "        Creates the diagonal OU SDE.\n",
    "\n",
    "        ..math:: \n",
    "            dX_t = \\alpha X_t dt + \\gamma dW_t\n",
    "\n",
    "        parameters: \n",
    "            alpha_diagonal (torch.Tensor): [D] Vector representing the diagonal of the (diagonal)drift matrix alpha.\n",
    "            gamma_diagonal (torch.Tensor): [D] Vector representing the diagonal of the (diagonal) diffusion matrix gamma.\n",
    "        \"\"\"\n",
    "        dim = alpha_diagonal.shape[0]\n",
    "        super().__init__(dim=dim, device=device)\n",
    "        self.alpha_diagonal = alpha_diagonal.to(device)\n",
    "        self.gamma_diagonal = gamma_diagonal.to(device)\n",
    "\n",
    "    def to(self, device: torch.device) -> \"OUDiagonalizableSDE\":\n",
    "        super().to(device)\n",
    "        self.alpha_diagonal = self.alpha_diagonal.to(device)\n",
    "        self.gamma_diagonal = self.gamma_diagonal.to(device)\n",
    "        return self \n",
    "\n",
    "    def drift(self, t: torch.Tensor | None = None, x: torch.Tensor | None = None) -> torch.Tensor:\n",
    "        \"\"\"\n",
    "        Returns the drift of the SDE. \n",
    "\n",
    "        parameters: \n",
    "            t (torch.Tensor): [...] Times.\n",
    "            x (torch.Tensor): [..., D] Initial value.\n",
    "\n",
    "        returns: \n",
    "            torch.Tensor: [..., D] Drift of the SDE.\n",
    "        \"\"\"\n",
    "        return self.alpha_diagonal * x\n",
    "\n",
    "    def diffusion(self, t: torch.Tensor | None = None, x: torch.Tensor | None = None) -> torch.Tensor:\n",
    "        \"\"\"\n",
    "        Returns the diffusion of the SDE. \n",
    "\n",
    "        parameters: \n",
    "            t (torch.Tensor): [...] Times.\n",
    "\n",
    "        returns: \n",
    "            torch.Tensor: [D] Diffusion of the SDE.\n",
    "        \"\"\"\n",
    "        return self.gamma_diagonal\n",
    "\n",
    "    def transition(self, t0: torch.Tensor, t1: torch.Tensor) -> torch.Tensor:\n",
    "        \"\"\"\n",
    "        Returns a vector representing the transition matrix, which is itself a diagonal matrix. \n",
    "\n",
    "        parameters: \n",
    "            t0 (torch.Tensor): [...] Start times.\n",
    "            t1 (torch.Tensor): [...] End times.\n",
    "\n",
    "        returns: \n",
    "            torch.Tensor: [..., D] Diagonal of the transition matrix.\n",
    "        \"\"\"\n",
    "        delta = t1 - t0 # [...]\n",
    "        return torch.exp(torch.einsum(\"d, ... -> ...d\", self.alpha_diagonal, delta))\n",
    "\n",
    "\n",
    "    def _variance_with_initial_condition_over_gamma_squared(\n",
    "        self, \n",
    "        t: torch.Tensor, \n",
    "        *, \n",
    "        t0: torch.Tensor | None = None,\n",
    "        min_alpha_nonzero: float = 1e-8,\n",
    "    ) -> torch.Tensor:\n",
    "        \"\"\"\n",
    "        Returns the variance of the SDE at time t, conditioned on being zero-variance at time t0.\n",
    "\n",
    "        parameters: \n",
    "            t (torch.Tensor): [...] Times.\n",
    "            t0 (torch.Tensor): [...] Conditioning times.\n",
    "\n",
    "        returns: \n",
    "            torch.Tensor: [..., D] Diagonal of the variance of the SDE.\n",
    "        \"\"\"\n",
    "        variance_if_alpha_zero = (t - t0).unsqueeze(-1) # [..., 1]\n",
    "        variance_if_alpha_nonzero = (\n",
    "            (self.transition(t0=t0, t1=t).square() - 1) / (2 * self.alpha_diagonal)\n",
    "        ) # [..., D]\n",
    "        return torch.where(self.alpha_diagonal.abs() < min_alpha_nonzero, variance_if_alpha_zero, variance_if_alpha_nonzero) # [..., D]\n",
    "\n",
    "\n",
    "    def _covariance_with_initial_condition_over_gamma_squared(\n",
    "        self, \n",
    "        s: torch.Tensor, \n",
    "        t: torch.Tensor, \n",
    "        *, \n",
    "        t0: torch.Tensor | None = None,\n",
    "        min_alpha_nonzero: float = 1e-8,\n",
    "    ) -> torch.Tensor:\n",
    "        \"\"\"\n",
    "        Returns the covariance of the SDE between times s and t conditioned on being at x0 at time t0. \n",
    "\n",
    "        parameters: \n",
    "            s (torch.Tensor): [...] Start times.\n",
    "            t (torch.Tensor): [...] End times.\n",
    "            t0 (torch.Tensor): [...] Conditioning times.\n",
    "        returns: \n",
    "            torch.Tensor: [..., D] Diagonal of the (diagonal) covariance matrix.\n",
    "        \"\"\"\n",
    "        r = torch.minimum(s, t)\n",
    "        return (\n",
    "            self.transition(t0=r, t1=t) \n",
    "            * self._variance_with_initial_condition_over_gamma_squared(t=r, t0=t0, min_alpha_nonzero=min_alpha_nonzero) \n",
    "            * self.transition(t0=r, t1=s)\n",
    "        )\n",
    "\n",
    "    def _variance_with_initial_condition(\n",
    "        self, \n",
    "        t: torch.Tensor, \n",
    "        *, \n",
    "        t0: torch.Tensor | None = None,\n",
    "        min_alpha_nonzero: float = 1e-8\n",
    "    ) -> torch.Tensor:\n",
    "        \"\"\"\n",
    "        Returns the variance of the SDE at time t, conditioned on being zero-variance at time t0.\n",
    "\n",
    "        parameters: \n",
    "            t (torch.Tensor): [...] Times.\n",
    "            t0 (torch.Tensor): [...] Conditioning times.\n",
    "\n",
    "        returns: \n",
    "            torch.Tensor: [..., D] Diagonal of the variance of the SDE.\n",
    "        \"\"\"\n",
    "        return self.gamma_diagonal.square() * self._variance_with_initial_condition_over_gamma_squared(t=t, t0=t0, min_alpha_nonzero=min_alpha_nonzero)\n",
    "\n",
    "    def _mean_with_initial_condition(self, t: torch.Tensor, t0: torch.Tensor | None = None, x0: torch.Tensor | None = None) -> torch.Tensor:\n",
    "        \"\"\"\n",
    "        Returns the mean of the SDE conditioned on being at x0 at time t0.\n",
    "        \n",
    "        parameters: \n",
    "            t (torch.Tensor): [...] Times.\n",
    "            t0 (torch.Tensor): [...] Start times.\n",
    "            x0 (torch.Tensor): [..., D] Initial value.\n",
    "\n",
    "        returns: \n",
    "            torch.Tensor: [..., D] Mean of the SDE.\n",
    "        \"\"\"\n",
    "        return self.transition(t0=t0, t1=t) * x0 # [..., D] * [..., D] -> [..., D]\n",
    "\n",
    "    def _mean_with_initial_and_final_condition(self, t: torch.Tensor, t0: torch.Tensor | None = None, x0: torch.Tensor | None = None, t1: torch.Tensor | None = None, x1: torch.Tensor | None = None) -> torch.Tensor:\n",
    "        \"\"\"\n",
    "        Returns the mean of the SDE conditioned on being at x0 at time t0 and x1 at time t1. \n",
    "\n",
    "        parameters: \n",
    "            t (torch.Tensor): [...] End times.\n",
    "            t0 (torch.Tensor): [...] Start times.\n",
    "            x0 (torch.Tensor): [..., D] Initial value.\n",
    "            t1 (torch.Tensor): [...] End times.\n",
    "            x1 (torch.Tensor): [..., D] Target value.\n",
    "\n",
    "        returns: \n",
    "            torch.Tensor: [..., D] Conditional mean of the SDE.\n",
    "        \"\"\"\n",
    "        m_t = self._mean_with_initial_condition(t=t, t0=t0, x0=x0)\n",
    "        m_t1 = self._mean_with_initial_condition(t=t1, t0=t0, x0=x0)\n",
    "        sigma_t1t_over_gamma_squared = self._covariance_with_initial_condition_over_gamma_squared(s=t, t=t1, t0=t0) # FIXME This should be symmetric but is antisymmetric\n",
    "        sigma_t1t1_over_gamma_squared = self._variance_with_initial_condition_over_gamma_squared(t=t1, t0=t0)\n",
    "        return m_t + sigma_t1t_over_gamma_squared / sigma_t1t1_over_gamma_squared * (x1 - m_t1)\n",
    "     \n",
    "\n",
    "class PossiblyDegenerateOUDiagonalizableSDE(OUDiagonalizableSDE):\n",
    "    \"\"\"\n",
    "    Extension of OUDiagonalizableSDE that handles the possibility of degenerate (zero) diffusion coefficients.\n",
    "\n",
    "    If any entry in gamma_diagonal is zero, the corresponding variance and covariance entries are set to zero,\n",
    "    effectively treating those dimensions as deterministic.\n",
    "\n",
    "    Attributes:\n",
    "        is_degenerate (torch.Tensor): Boolean tensor indicating which dimensions are degenerate (gamma_diagonal == 0).\n",
    "    \"\"\"\n",
    "\n",
    "    def __init__(self, alpha_diagonal: torch.Tensor, gamma_diagonal: torch.Tensor, device: torch.device | None = None):\n",
    "        \"\"\"\n",
    "        Initializes the PossiblyDegenerateOUDiagonalizableSDE.\n",
    "\n",
    "        Args:\n",
    "            alpha_diagonal (torch.Tensor): Diagonal elements of the drift matrix.\n",
    "            gamma_diagonal (torch.Tensor): Diagonal elements of the diffusion matrix.\n",
    "            device (torch.device, optional): Device to use for tensors.\n",
    "        \"\"\"\n",
    "        super().__init__(alpha_diagonal, gamma_diagonal, device)\n",
    "        self.is_degenerate = self.gamma_diagonal == 0.0\n",
    "\n",
    "    def variance(self, t: torch.Tensor, *, t0: torch.Tensor | bool | None = None, t1: torch.Tensor | bool | None = None) -> torch.Tensor:\n",
    "        \"\"\"\n",
    "        Returns the variance of the SDE at time t, setting variance to zero for degenerate dimensions.\n",
    "\n",
    "        Args:\n",
    "            t (torch.Tensor): Times at which to evaluate the variance.\n",
    "            t0 (torch.Tensor | bool | None, optional): Initial times or condition.\n",
    "            t1 (torch.Tensor | bool | None, optional): Final times or condition.\n",
    "\n",
    "        Returns:\n",
    "            torch.Tensor: Variance tensor with zeros in degenerate dimensions.\n",
    "        \"\"\"\n",
    "        return torch.where(\n",
    "            self.is_degenerate, \n",
    "            0.0, \n",
    "            super().variance(t=t, t0=t0, t1=t1),\n",
    "        )\n",
    "\n",
    "    def covariance(self, s: torch.Tensor, t: torch.Tensor, *, t0: torch.Tensor | bool | None = None, t1: torch.Tensor | bool | None = None) -> torch.Tensor:\n",
    "        \"\"\"\n",
    "        Returns the covariance of the SDE between times s and t, setting covariance to zero for degenerate dimensions.\n",
    "\n",
    "        Args:\n",
    "            s (torch.Tensor): Start times.\n",
    "            t (torch.Tensor): End times.\n",
    "            t0 (torch.Tensor | bool | None, optional): Initial times or condition.\n",
    "            t1 (torch.Tensor | bool | None, optional): Final times or condition.\n",
    "\n",
    "        Returns:\n",
    "            torch.Tensor: Covariance tensor with zeros in degenerate dimensions.\n",
    "        \"\"\"\n",
    "        return torch.where(\n",
    "            self.is_degenerate, \n",
    "            0.0, \n",
    "            super().covariance(s=s, t=t, t0=t0, t1=t1),\n",
    "        )\n",
    "\n",
    "\n",
    "class HeatBMTSDE(PossiblyDegenerateOUDiagonalizableSDE):\n",
    "    def __init__(self, L: torch.Tensor, c: torch.Tensor, sigma: torch.Tensor, device: torch.device | None = None, q_brownian_motion: bool = False, alpha: float | None = None):\n",
    "        \"\"\"\n",
    "        Creates the heat BM SDE:\n",
    "\n",
    "        ..math:: \n",
    "            dX_t = -cLX_t dt + \\sigma dW_t\n",
    "\n",
    "        parameters: \n",
    "            L (torch.Tensor): [D, D] Matrix representing the Laplacian.\n",
    "            c (torch.Tensor): [] Scalar greater than or equal to 0.\n",
    "            sigma (torch.Tensor): [] Scalar diffusion coefficient.\n",
    "        \"\"\"\n",
    "        L = torch.as_tensor(L, device=device)\n",
    "        c = torch.as_tensor(c, device=device)\n",
    "        sigma = torch.as_tensor(sigma, device=device)\n",
    "        \n",
    "        eigenvalues, eigenvectors = torch.linalg.eigh(L)\n",
    "        alpha_diagonal = -c * eigenvalues\n",
    "        if q_brownian_motion:\n",
    "            alpha = alpha or (L.shape[0] / 2.0 + 1.0) # TODO Add a better default. Alpha must be greater that dim / 2 though\n",
    "            Q_diagonal = (torch.ones_like(eigenvalues) - eigenvalues).pow(-alpha)\n",
    "            gamma_diagonal = sigma * Q_diagonal.sqrt()\n",
    "        else:\n",
    "            gamma_diagonal = sigma * torch.ones_like(eigenvalues) # TODO Add a Q-Brownian motion option. If true, multiply by sqrt(eigenvalues)\n",
    "        \n",
    "        super().__init__(alpha_diagonal=alpha_diagonal, gamma_diagonal=gamma_diagonal, device=device)\n",
    "        self.eigenvalues = eigenvalues.to(device)\n",
    "        self.eigenvectors = eigenvectors.to(device)\n",
    "\n",
    "    def to(self, device: torch.device) -> \"HeatBMTSDE\":\n",
    "        super().to(device)\n",
    "        self.eigenvalues = self.eigenvalues.to(device)\n",
    "        self.eigenvectors = self.eigenvectors.to(device)\n",
    "        return self \n",
    "\n",
    "    def transform(self, x: torch.Tensor) -> torch.Tensor:\n",
    "        \"\"\"\n",
    "        Returns the transform of the SDE -- i.e. x in eigencoordinates.\n",
    "\n",
    "        parameters: \n",
    "            x (torch.Tensor): [..., D] Initial value.\n",
    "\n",
    "        returns: \n",
    "            torch.Tensor: [..., D] Transform of the SDE.\n",
    "        \"\"\"\n",
    "        return torch.einsum(\"ij, ...j -> ...i\", self.eigenvectors.mT, x) # [D, D] * [..., D] -> [..., D]\n",
    "\n",
    "    def inverse_transform(self, x: torch.Tensor) -> torch.Tensor:\n",
    "        \"\"\"\n",
    "        Returns the inverse transform of the SDE. \n",
    "\n",
    "        parameters: \n",
    "            x (torch.Tensor): [..., D] Initial value.\n",
    "\n",
    "        returns: \n",
    "            torch.Tensor: [..., D] Inverse transform of the SDE.\n",
    "        \"\"\"\n",
    "        return torch.einsum(\"ij, ...j -> ...i\", self.eigenvectors, x) # [D, D] * [..., D] -> [..., D]\n",
    "\n",
    "\n",
    "class TimeSteps:\n",
    "    # TODO For a more advanced SDE solver, this might need to be an iterator\n",
    "\n",
    "    def __init__(self, t: torch.Tensor, dt: torch.Tensor) -> None:\n",
    "        assert t.dtype == dt.dtype, \"t and dt should have the same dtype\"\n",
    "        assert t.device == dt.device, \"t and dt should be on the same device\"\n",
    "        self._t = t\n",
    "        self._dt = dt\n",
    "\n",
    "    @property\n",
    "    def t(self) -> torch.Tensor:\n",
    "        return self._t\n",
    "\n",
    "    @property\n",
    "    def dt(self) -> torch.Tensor:\n",
    "        return self._dt\n",
    "\n",
    "    @property\n",
    "    def device(self) -> torch.device:\n",
    "        return self.t.device\n",
    "\n",
    "    @property\n",
    "    def dtype(self) -> torch.dtype:\n",
    "        return self.t.dtype\n",
    "\n",
    "\n",
    "class UniformTimeSteps(TimeSteps):\n",
    "    \"\"\"\n",
    "    UniformTimesteps generates a sequence of uniformly spaced timesteps between 0 and 1 (inclusive),\n",
    "    with an optional initial value t0 for the first timestep. It also provides the uniform delta t\n",
    "    between steps. \n",
    "\n",
    "    Attributes:\n",
    "        n (int): Number of intervals (number of timesteps is n+1).\n",
    "        t (torch.Tensor): 1D tensor of shape (n+1,) containing the timesteps.\n",
    "        dt (torch.Tensor): 1D tensor of shape (n,) containing the uniform time differences between steps.\n",
    "        device (torch.device or None): The device on which the tensors are stored.\n",
    "\n",
    "    Methods:\n",
    "        to(device): Moves the tensors to the specified device.\n",
    "    \"\"\"\n",
    "    def __init__(self, n: int, *, t0: float = 1e-4, device: torch.device | None = None, dtype: torch.dtype | None = None):\n",
    "        \"\"\"\n",
    "        Initializes the UniformTimesteps object.\n",
    "\n",
    "        Args:\n",
    "            n (int): Number of intervals (must be greater than 0).\n",
    "            device (torch.device, optional): Device to store the tensors on.\n",
    "            dtype (torch.dtype, optional): Data type of the tensors.\n",
    "            t0 (float, optional): Initial value for the first timestep. If None, defaults to 1e-4.\n",
    "        \"\"\"\n",
    "        assert n > 0, \"Number of timesteps must be greater than 0\"\n",
    "\n",
    "        t = torch.linspace(0, 1, n + 1, dtype=dtype, device=device)\n",
    "        t[0] = t0\n",
    "        \n",
    "        dt = torch.full((n, ), 1.0 / n, dtype=dtype, device=device)\n",
    "\n",
    "        super().__init__(t=t, dt=dt)"
   ]
  },
  {
   "cell_type": "markdown",
   "id": "40bfa3ca",
   "metadata": {},
   "source": [
    "## Controls"
   ]
  },
  {
   "cell_type": "code",
   "execution_count": null,
   "id": "4105fc97",
   "metadata": {},
   "outputs": [],
   "source": [
    "def _bridge_control_generic(\n",
    "    sde: SDE, \n",
    "    t: torch.Tensor, \n",
    "    x: torch.Tensor, \n",
    "    *, \n",
    "    t1: torch.Tensor | None = None, \n",
    "    x1: torch.Tensor,\n",
    ") -> torch.Tensor:\n",
    "    \"\"\"\n",
    "    Returns the control for the bridge of the SDE at time t and position x needed to reach x1 at time t1. \n",
    "\n",
    "    parameters: \n",
    "        sde (SDE): The SDE to create the bridge control for.\n",
    "        t (torch.Tensor): [...] Current times.\n",
    "        x (torch.Tensor): [..., D] Current values.\n",
    "        t1 (torch.Tensor): [...] Target times.\n",
    "        x1 (torch.Tensor): [..., D] Target values.\n",
    "\n",
    "    returns: \n",
    "        torch.Tensor: [..., D] Control.\n",
    "    \"\"\"\n",
    "    if t1 is None:\n",
    "        t1 = x1.new_ones(x1.shape[:-1]) # [...]\n",
    "    score = sde.transition(t0=t, t1=t1) * (x1 - sde.mean(t0=t, x0=x, t=t1)) / sde.variance(t0=t, t=t1)\n",
    "    return sde.diffusion(t=t).square() * score\n",
    "\n",
    "\n",
    "def _bridge_control_ou(\n",
    "    sde: OUDiagonalizableSDE, \n",
    "    t: torch.Tensor, \n",
    "    x: torch.Tensor, \n",
    "    *, \n",
    "    t1: torch.Tensor | None = None, \n",
    "    x1: torch.Tensor,\n",
    ") -> torch.Tensor:\n",
    "    \"\"\"\n",
    "    Returns the control for the bridge of the Ornstein-Uhlenbeck (OU) SDE at time t and position x,\n",
    "    needed to reach x1 at time t1. Works in the ODE case (zero-noise) as well.\n",
    "\n",
    "    Parameters:\n",
    "        sde (OUDiagonalizableSDE): The OU SDE to create the bridge control for.\n",
    "        t (torch.Tensor): Current times. Shape: [...]\n",
    "        x (torch.Tensor): Current values. Shape: [..., D]\n",
    "        t1 (torch.Tensor, optional): Target times. Shape: [...]. If None, should be provided by caller.\n",
    "        x1 (torch.Tensor): Target values. Shape: [..., D]\n",
    "\n",
    "    Returns:\n",
    "        torch.Tensor: The control tensor of shape [..., D].\n",
    "    \"\"\"\n",
    "    return (\n",
    "        sde.transition(t0=t, t1=t1) \n",
    "        * (x1 - sde.mean(t0=t, x0=x, t=t1)) \n",
    "        / sde._variance_with_initial_condition_over_gamma_squared(t0=t, t=t1)\n",
    "    )\n",
    "\n",
    "\n",
    "def bridge_control(\n",
    "    sde: SDE, \n",
    "    t: torch.Tensor, \n",
    "    x: torch.Tensor, \n",
    "    *, \n",
    "    t1: torch.Tensor | None = None, \n",
    "    x1: torch.Tensor,\n",
    ") -> torch.Tensor:\n",
    "    \"\"\"\n",
    "    Returns the control for the bridge of the SDE at time t and position x needed to reach x1 at time t1. \n",
    "\n",
    "    parameters: \n",
    "        sde (SDE): The SDE to create the bridge control for.\n",
    "        t (torch.Tensor): [...] Current times.\n",
    "        x (torch.Tensor): [..., D] Current values.\n",
    "        t1 (torch.Tensor): [...] Target times.\n",
    "        x1 (torch.Tensor): [..., D] Target values.\n",
    "\n",
    "    returns: \n",
    "        torch.Tensor: [..., D] Control.\n",
    "    \"\"\"\n",
    "    if t1 is None:\n",
    "        t1 = x1.new_ones(x1.shape[:-1]) # [...]\n",
    "\n",
    "    if isinstance(sde, OUDiagonalizableSDE):\n",
    "        return _bridge_control_ou(sde=sde, t=t, x=x, t1=t1, x1=x1)\n",
    "    else:\n",
    "        return _bridge_control_generic(sde=sde, t=t, x=x, t1=t1, x1=x1)\n",
    "\n",
    "\n",
    "class Control:\n",
    "    \"\"\"\n",
    "    Abstract base class for control policies in SDEs.\n",
    "\n",
    "    This class defines the interface for control policies, which compute a control signal\n",
    "    at a given time and state. Subclasses should implement the `control` method.\n",
    "\n",
    "    Attributes:\n",
    "        device (torch.device or None): The device on which the control operates.\n",
    "    \"\"\"\n",
    "    def __init__(self, device: torch.device | None = None):\n",
    "        \"\"\"\n",
    "        Initializes the Control object.\n",
    "\n",
    "        Parameters:\n",
    "            device (torch.device, optional): The device to use for computations.\n",
    "        \"\"\"\n",
    "        self.device = None\n",
    "\n",
    "    def to(self, device: torch.device) -> \"Control\":\n",
    "        \"\"\"\n",
    "        Moves the control to the specified device.\n",
    "\n",
    "        Parameters:\n",
    "            device (torch.device): The device to move the control to.\n",
    "\n",
    "        Returns:\n",
    "            Control: self\n",
    "        \"\"\"\n",
    "        self.device = device \n",
    "        return self \n",
    "\n",
    "    @abstractmethod\n",
    "    def control(self, t: torch.Tensor, x: torch.Tensor, **kwargs) -> torch.Tensor:\n",
    "        \"\"\"\n",
    "        Computes the control at time t and position x.\n",
    "\n",
    "        Parameters:\n",
    "            t (torch.Tensor): Current times. Shape: [...]\n",
    "            x (torch.Tensor): Current values. Shape: [..., D]\n",
    "            **kwargs: Additional keyword arguments.\n",
    "\n",
    "        Returns:\n",
    "            torch.Tensor: The control tensor of shape [..., D].\n",
    "        \"\"\"\n",
    "        pass \n",
    "\n",
    "    def __call__(self, t: torch.Tensor, x: torch.Tensor, **kwargs) -> torch.Tensor:\n",
    "        \"\"\"\n",
    "        Returns the control at time t and position x. \n",
    "\n",
    "        Parameters: \n",
    "            t (torch.Tensor): [...] times.\n",
    "            x (torch.Tensor): [..., D] values.\n",
    "\n",
    "        Returns: \n",
    "            torch.Tensor: [..., D] Control.\n",
    "        \"\"\"\n",
    "        return self.control(t=t, x=x, **kwargs)\n",
    "\n",
    "\n",
    "class ZeroControl(Control):\n",
    "    def control(self, t: torch.Tensor, x: torch.Tensor) -> torch.Tensor:\n",
    "        return x.new_zeros(x.shape) # [..., D]\n",
    "\n",
    "\n",
    "class BridgeControl(Control):\n",
    "    def __init__(self, sde: SDE, x1: torch.Tensor, t1: torch.Tensor | None = None, device: torch.device | None = None): \n",
    "        \"\"\"\n",
    "        Creates the bridge control for the SDE conditioned on being at x1 at time t1. \n",
    "\n",
    "        parameters: \n",
    "            sde (SDE): The SDE to create the bridge control for.\n",
    "            x1 (torch.Tensor): [..., D] Target value.\n",
    "            t1 (torch.Tensor): [...] End times.\n",
    "        \"\"\"\n",
    "        super().__init__(device=device)\n",
    "        self.sde = sde.to(device)\n",
    "        x1 = x1.to(device)\n",
    "        self._x1 = None\n",
    "        self._t1 = None\n",
    "        self.condition(x1=x1, t1=t1)\n",
    "\n",
    "    def to(self, device: torch.device) -> \"BridgeControl\":\n",
    "        super().to(device)\n",
    "        self.sde = self.sde.to(device)\n",
    "        self._x1 = self._x1.to(device)\n",
    "        self._t1 = self._t1.to(device)\n",
    "        return self \n",
    "\n",
    "    def condition(self, x1: torch.Tensor, t1: torch.Tensor | None = None) -> \"BridgeControl\":\n",
    "        \"\"\"\n",
    "        Conditions the bridge on being at x1 at time t1. \n",
    "\n",
    "        parameters: \n",
    "            x1 (torch.Tensor): [..., D] Target value.\n",
    "            t1 (torch.Tensor): [...] End times.\n",
    "\n",
    "        returns: \n",
    "            BridgeControl: The bridge control.\n",
    "        \"\"\"\n",
    "        if t1 is None:\n",
    "            t1 = x1.new_ones(x1.shape[:-1]) # [...]\n",
    "        self._x1 = x1\n",
    "        self._t1 = t1\n",
    "        return self\n",
    "\n",
    "    def control(self, t: torch.Tensor, x: torch.Tensor) -> torch.Tensor:\n",
    "        \"\"\"\n",
    "        Returns the control for the bridge at time t and position x. \n",
    "\n",
    "        parameters: \n",
    "            t (torch.Tensor): [...] times.\n",
    "            x (torch.Tensor): [..., D] values.\n",
    "\n",
    "        returns: \n",
    "            torch.Tensor: [..., D] Control.\n",
    "        \"\"\"\n",
    "        return bridge_control(sde=self.sde, t=t, x=x, t1=self._t1, x1=self._x1)\n",
    "\n",
    "\n",
    "class ModelControl(Control):\n",
    "    \"\"\"\n",
    "    Control class that wraps a PyTorch model to provide control for SDEs.\n",
    "\n",
    "    Parameters:\n",
    "        model (torch.nn.Module): The neural network model to use for control.\n",
    "        device (torch.device | None): The device to run the model on.\n",
    "    \"\"\"\n",
    "    def __init__(self, model: torch.nn.Module):\n",
    "        super().__init__()\n",
    "        self.model = model \n",
    "\n",
    "    def __call__(self, t: torch.Tensor, x: torch.Tensor) -> torch.Tensor:\n",
    "        \"\"\"\n",
    "        Calls the underlying model with time and state.\n",
    "\n",
    "        Parameters:\n",
    "            t (torch.Tensor): Time tensor.\n",
    "            x (torch.Tensor): State tensor.\n",
    "\n",
    "        Returns:\n",
    "            torch.Tensor: Output of the model.\n",
    "        \"\"\"\n",
    "        return self.model(t, x)\n"
   ]
  },
  {
   "cell_type": "markdown",
   "id": "a0ed57f0",
   "metadata": {},
   "source": [
    "## SDE solvers"
   ]
  },
  {
   "cell_type": "code",
   "execution_count": 15,
   "id": "af9582e8",
   "metadata": {},
   "outputs": [],
   "source": [
    "class SDESolver(ABC):\n",
    "    def __init__(self, sde: SDE) -> None:\n",
    "        self.sde = sde \n",
    "\n",
    "    @abstractmethod\n",
    "    def pushforward(self, x0: torch.Tensor, *, control: Control | None = None) -> torch.Tensor:\n",
    "        \"\"\"\n",
    "        Push x0 along the SDE to time 1.\n",
    "\n",
    "        parameters: \n",
    "            x0 (torch.Tensor): [..., D] Initial value.\n",
    "            control (Control): Control object.\n",
    "\n",
    "        returns: \n",
    "            torch.Tensor: [..., D] Terminal value.\n",
    "        \"\"\"\n",
    "\n",
    "    @abstractmethod\n",
    "    def sample_path(self, x0: torch.Tensor, *, control: Control | None = None) -> tuple[torch.Tensor, torch.Tensor]:\n",
    "        \"\"\"\n",
    "        Samples a path from the SDE.\n",
    "\n",
    "        parameters: \n",
    "            x0 (torch.Tensor): [..., D] Initial value.\n",
    "            control (Control): Control object.\n",
    "\n",
    "        returns: \n",
    "            tuple[torch.Tensor, torch.Tensor]: [..., T, D] Path and [T] Time.\n",
    "        \"\"\"\n",
    "\n",
    "\n",
    "class EulerMaruyamaSolver(SDESolver):\n",
    "    def __init__(self, sde: SDE, *, timesteps: TimeSteps):\n",
    "        # TODO Maybe move the SDE into sample_path.\n",
    "        super().__init__(sde=sde)\n",
    "        self.timesteps = timesteps\n",
    "\n",
    "    def dx(self, dt: torch.Tensor, t: torch.Tensor, x: torch.Tensor, *, control: Control) -> torch.Tensor:\n",
    "        \"\"\"\n",
    "        Returns the change in the SDE. \n",
    "\n",
    "        parameters: \n",
    "            dt (torch.Tensor): [] Duration of the timestep.\n",
    "            t (torch.Tensor): [] Time.\n",
    "            x (torch.Tensor): [..., D] Initial value.\n",
    "            control (Control): Control object.\n",
    "\n",
    "        returns: \n",
    "            torch.Tensor: [..., D] Change in the SDE.\n",
    "        \"\"\"\n",
    "        t = t.expand(x.shape[:-1])\n",
    "        drift = self.sde.drift(t=t, x=x) + control(t=t, x=x)\n",
    "        diffusion = self.sde.diffusion(t=t, x=x)\n",
    "        return drift * dt + diffusion * torch.sqrt(dt) * torch.randn_like(x)\n",
    "\n",
    "    def pushforward(self, x0: torch.Tensor, *, control: Control | None = None) -> torch.Tensor:\n",
    "        \"\"\"\n",
    "        Push x0 along the SDE to time 1.\n",
    "\n",
    "        parameters: \n",
    "            x0 (torch.Tensor): [..., D] Initial value.\n",
    "            control (Control): Control object.\n",
    "\n",
    "        returns: \n",
    "            torch.Tensor: [..., D] Terminal value.\n",
    "        \"\"\"\n",
    "        x0 = self.sde.transform(x0)\n",
    "\n",
    "        if control is None:\n",
    "            control = ZeroControl()\n",
    "\n",
    "        ts = self.timesteps.t\n",
    "        dts = self.timesteps.dt\n",
    "\n",
    "        x = x0\n",
    "        for t, dt in zip(ts[:-1], dts):\n",
    "            x = x + self.dx(dt=dt, t=t, x=x, control=control)\n",
    "\n",
    "        x = self.sde.inverse_transform(x)\n",
    "        return x \n",
    "\n",
    "    def sample_path(self, x0: torch.Tensor, *, control: Control | None = None) -> tuple[torch.Tensor, torch.Tensor]:\n",
    "        \"\"\"\n",
    "        Samples a path from the SDE.\n",
    "\n",
    "        parameters: \n",
    "            x0 (torch.Tensor): [..., D] Initial value.\n",
    "            control (Control): Control object.\n",
    "\n",
    "        returns: \n",
    "            tuple[torch.Tensor, torch.Tensor]: [..., T, D] Path and [T] Time.\n",
    "        \"\"\"\n",
    "        x0 = self.sde.transform(x0)\n",
    "\n",
    "        # normal sample \n",
    "        if control is None:\n",
    "            control = ZeroControl()\n",
    "\n",
    "        ts = self.timesteps.t\n",
    "        dts = self.timesteps.dt\n",
    "\n",
    "        x = x0\n",
    "        xs = [x]\n",
    "        for t, dt in zip(ts[:-1], dts):\n",
    "            x = x + self.dx(dt=dt, t=t, x=x, control=control)\n",
    "            xs.append(x)\n",
    "        xs = torch.stack(xs, dim=-2)\n",
    "        \n",
    "\n",
    "        # inverse trasform\n",
    "        xs = self.sde.inverse_transform(xs)\n",
    "\n",
    "        return xs, ts"
   ]
  },
  {
   "cell_type": "markdown",
   "id": "214e65c2",
   "metadata": {},
   "source": [
    "## Optimal Transport"
   ]
  },
  {
   "cell_type": "code",
   "execution_count": 9,
   "id": "cf5b94c3",
   "metadata": {},
   "outputs": [],
   "source": [
    "class OTSolver: \n",
    "    \"\"\"\n",
    "    Optimal Transport Solver for SDEs.\n",
    "\n",
    "    This class computes the optimal transport plan between two distributions\n",
    "    using the cost induced by a given SDE. It supports optional normalization\n",
    "    of the variance and regularization via epsilon. Also supports ODEs. \n",
    "\n",
    "    Args:\n",
    "        sde (SDE): The stochastic differential equation object providing mean and variance.\n",
    "        epsilon (float, optional): Regularization parameter for entropic regularization. Default is 0.0.\n",
    "        normalize_variance (bool, optional): Whether to normalize the variance for numerical stability. Default is True.\n",
    "\n",
    "    Attributes:\n",
    "        sde (SDE): The SDE object.\n",
    "        possibly_scaled_std (torch.Tensor): The (possibly normalized) standard deviation tensor.\n",
    "        epsilon (float): The (possibly scaled) regularization parameter.\n",
    "    \"\"\"\n",
    "\n",
    "    def __init__(self, sde: SDE, *, epsilon: float = 0.0, normalize_variance: bool = True):\n",
    "        self.sde = sde\n",
    "        \n",
    "        variance_1_given_0 = sde.variance(t=torch.tensor(1.0), t0=torch.tensor(0.0))\n",
    "\n",
    "        variance_1_given_0_is_degenerate = variance_1_given_0 == 0.0\n",
    "\n",
    "        if normalize_variance is False:\n",
    "            scale_epsilon = 0.0\n",
    "            possibly_scaled_variance_nondegenerate = variance_1_given_0\n",
    "        else:\n",
    "            scale_epsilon = torch.prod(\n",
    "                variance_1_given_0[~variance_1_given_0_is_degenerate]\n",
    "            ).pow(1 / sde.dim).detach().cpu().item()\n",
    "            possibly_scaled_variance_nondegenerate = variance_1_given_0 / scale_epsilon\n",
    "        \n",
    "        self.possibly_scaled_std: torch.Tensor = torch.where(\n",
    "            variance_1_given_0_is_degenerate, \n",
    "            1.0, \n",
    "            possibly_scaled_variance_nondegenerate,\n",
    "        ).square()\n",
    "        self.epsilon: float = epsilon * scale_epsilon\n",
    "\n",
    "    def cost(self, x0: torch.Tensor, x1: torch.Tensor) -> torch.Tensor:\n",
    "        \"\"\"\n",
    "        Returns the cost matrix between x0 and x1.\n",
    "\n",
    "        parameters: \n",
    "            x0 (torch.Tensor): [..., N, D] Initial value.\n",
    "            x1 (torch.Tensor): [..., M, D] Target value.\n",
    "\n",
    "        returns: \n",
    "            torch.Tensor: [..., N, M] Cost matrix.\n",
    "        \"\"\"\n",
    "        assert x0.ndim >= 2, \"x0 must have at least 2 dimensions\"\n",
    "        assert x1.ndim >= 2, \"x1 must have at least 2 dimensions\"\n",
    "\n",
    "        # Expand x0 and x1 for broadcasting\n",
    "        # x0_expanded: [..., N, 1, D]\n",
    "        # x1_expanded: [..., 1, M, D]\n",
    "        x0_expanded = x0.unsqueeze(-2)  # [..., N, 1, D]\n",
    "        x1_expanded = x1.unsqueeze(-3)  # [..., 1, M, D]\n",
    "\n",
    "        # Compute cost for each pair (n, m)\n",
    "        # Use the same cost as in self.cost, but vectorized\n",
    "        t0 = x0.new_zeros(x0.shape[:-2] + (x0.shape[-2], 1))  # [..., N, 1]\n",
    "        t1 = x1.new_ones(x0.shape[:-2] + (1, x1.shape[-2]))   # [..., 1, M]\n",
    "        # mean: [..., N, 1, D]\n",
    "        mean = self.sde.mean(t0=t0, x0=x0_expanded, t=t1)\n",
    "        # normed_variance: [D]\n",
    "        z = (x1_expanded - mean) / self.possibly_scaled_std  # ([..., 1, M, D] - [..., N, 1, D]) / [D] -> [..., N, M, D]\n",
    "        cost = torch.linalg.vector_norm(z, ord=2, dim=-1)  # [..., N, M]\n",
    "        return cost\n",
    "\n",
    "    def solve(\n",
    "        self, \n",
    "        x0: torch.Tensor, \n",
    "        x1: torch.Tensor, \n",
    "        method: str = \"sinkhorn\",\n",
    "        num_iter_max: int = 1000,\n",
    "        stop_threshold: float = 1e-9,\n",
    "        verbose: bool = False,\n",
    "        log: bool = False,\n",
    "        warn: bool = True,\n",
    "    ) -> torch.Tensor:\n",
    "        \"\"\"\n",
    "        Returns the optimal transport plan between x0 and x1.\n",
    "\n",
    "        parameters: \n",
    "            x0 (torch.Tensor): [..., N, D] Initial value.\n",
    "            x1 (torch.Tensor): [..., M, D] Target value.\n",
    "\n",
    "        returns: \n",
    "            torch.Tensor: [..., N, M] Optimal transport plan.\n",
    "        \"\"\"\n",
    "        assert x0.ndim >= 2, \"x0 must have 2 dimensions\"\n",
    "        assert x1.ndim >= 2, \"x1 must have 2 dimensions\"\n",
    "\n",
    "        cost_matrix = self.cost(x0, x1)\n",
    "        px0 = x0.new_ones(x0.shape[0]) / x0.shape[0]\n",
    "        px1 = x1.new_ones(x1.shape[0]) / x1.shape[0]\n",
    "\n",
    "        # convert to numpy\n",
    "        cost_matrix = cost_matrix.detach().cpu().numpy()\n",
    "        px0 = px0.detach().cpu().numpy()\n",
    "        px1 = px1.detach().cpu().numpy()\n",
    "        epsilon = self.epsilon\n",
    "\n",
    "        # TODO Maybe extract into separate private methods\n",
    "        if epsilon == 0.0:\n",
    "            optimal_plan = ot.emd(\n",
    "                a=px0, \n",
    "                b=px1, \n",
    "                M=cost_matrix, \n",
    "                log=log,\n",
    "            )\n",
    "        else:\n",
    "            optimal_plan = ot.sinkhorn(\n",
    "                a=px0, \n",
    "                b=px1, \n",
    "                M=cost_matrix, \n",
    "                reg=epsilon, \n",
    "                method=method,\n",
    "                num_iter_max=num_iter_max, \n",
    "                stop_threshold=stop_threshold, \n",
    "                verbose=verbose, \n",
    "                log=log, \n",
    "                warn=warn\n",
    "            )\n",
    "\n",
    "        return torch.as_tensor(optimal_plan, device=x0.device, dtype=x0.dtype)\n",
    "\n",
    "    @property\n",
    "    def is_exact(self) -> bool:\n",
    "        \"\"\"\n",
    "        Returns True if the optimal transport is computed exactly (i.e., epsilon == 0.0),\n",
    "        otherwise returns False (entropic regularization is used).\n",
    "        \"\"\"\n",
    "        return self.epsilon == 0.0"
   ]
  },
  {
   "cell_type": "markdown",
   "id": "5835cf10",
   "metadata": {},
   "source": [
    "## Data utils"
   ]
  },
  {
   "cell_type": "code",
   "execution_count": 49,
   "id": "420531c9",
   "metadata": {},
   "outputs": [],
   "source": [
    "class TimeSampler(ABC):\n",
    "    \"\"\"\n",
    "    Abstract class for time samplers.\n",
    "    \"\"\"\n",
    "\n",
    "    def __init__(self, device: torch.device | None = None, dtype: torch.dtype | None = None):\n",
    "        self.device = device\n",
    "        self.dtype = dtype\n",
    "\n",
    "    @abstractmethod\n",
    "    def sample(self, shape: torch.Size) -> torch.Tensor:\n",
    "        pass\n",
    "\n",
    "\n",
    "class UniformTimeSampler(TimeSampler):\n",
    "    def sample(self, shape: torch.Size) -> torch.Tensor:\n",
    "        return torch.rand(shape, device=self.device, dtype=self.dtype)\n",
    "\n",
    "\n",
    "class DiscreteTimeSampler(TimeSampler):\n",
    "    def __init__(self, timesteps: TimeSteps):\n",
    "        device = timesteps.device \n",
    "        dtype = timesteps.dtype \n",
    "        super().__init__(device, dtype)\n",
    "        self.timesteps = timesteps\n",
    "\n",
    "    def sample(self, shape: torch.Size) -> torch.Tensor:\n",
    "        # Exclude the last time step\n",
    "        indices = torch.randint(0, self.timesteps.t.shape[-1] - 1, shape, device=self.device)\n",
    "        return self.timesteps.t[indices]\n",
    "\n",
    "\n",
    "class MatchingDataset(torch.utils.data.Dataset):\n",
    "    def __init__(self) -> None:\n",
    "        super().__init__()\n",
    "\n",
    "    @abstractmethod\n",
    "    def __getitem__(self, idx: tuple[torch.Tensor, torch.Tensor]) -> tuple[torch.Tensor, torch.Tensor]:\n",
    "        \"\"\"\n",
    "        returns:\n",
    "            x0: torch.Tensor, shape [..., D]\n",
    "            x1: torch.Tensor, shape [..., D]\n",
    "        \"\"\"\n",
    "\n",
    "    def __len__(self) -> int:\n",
    "        raise NotImplementedError(\"Length of MatchingDataset is not defined.\")\n",
    "\n",
    "\n",
    "class MatchingTensorDataset(MatchingDataset):\n",
    "    def __init__(self, x0: torch.Tensor, x1: torch.Tensor):\n",
    "        super().__init__()\n",
    "        self.x0 = x0\n",
    "        self.x1 = x1\n",
    "    \n",
    "    def __getitem__(self, idx: tuple[torch.Tensor, torch.Tensor]) -> tuple[torch.Tensor, torch.Tensor, torch.Tensor]:\n",
    "        \"\"\"\n",
    "        returns:\n",
    "            t: torch.Tensor, shape [...]\n",
    "            x0: torch.Tensor, shape [..., D]\n",
    "            x1: torch.Tensor, shape [..., D]\n",
    "        \"\"\"\n",
    "        x0_idx, x1_idx = idx\n",
    "        x0 = self.x0[x0_idx]\n",
    "        x1 = self.x1[x1_idx]\n",
    "        return x0, x1\n",
    "\n",
    "\n",
    "class MatchingDistributionDataset(MatchingDataset):\n",
    "    def __init__(\n",
    "        self, \n",
    "        x0_distribution: torch.distributions.Distribution, \n",
    "        x1_distribution: torch.distributions.Distribution, \n",
    "    ) -> None:\n",
    "        super().__init__()\n",
    "        self.x0_distribution = x0_distribution\n",
    "        self.x1_distribution = x1_distribution\n",
    "\n",
    "    def __getitem__(self, idx: tuple[torch.Tensor, torch.Tensor]) -> tuple[torch.Tensor, torch.Tensor, torch.Tensor]:\n",
    "        \"\"\"\n",
    "        returns:\n",
    "            t: torch.Tensor, shape [...]\n",
    "            x0: torch.Tensor, shape [..., D]\n",
    "            x1: torch.Tensor, shape [..., D]\n",
    "        \"\"\"\n",
    "        shape = idx[0].shape\n",
    "        x0 = self.x0_distribution.sample(shape)\n",
    "        x1 = self.x1_distribution.sample(shape)\n",
    "        return x0, x1\n",
    "        \n",
    "\n",
    "class OTBatchSampler(torch.utils.data.Sampler):\n",
    "    def __init__(self, dataset: MatchingDataset, ot_solver: OTSolver, batch_size: int, num_batches: int, *, batchwise_ot: bool = False):\n",
    "        super().__init__()\n",
    "        self.dataset = dataset\n",
    "        self.batchwise_ot = batchwise_ot\n",
    "        self.ot_solver = ot_solver \n",
    "        self.batch_size = batch_size\n",
    "        self.num_batches = num_batches\n",
    "\n",
    "        # Have to do batchwise OT computation, since new batch is sampled at every iteration\n",
    "        if isinstance(dataset, MatchingDistributionDataset):\n",
    "            self.batchwise_ot = True\n",
    "        \n",
    "        # Precompute ot_plan not batchwise\n",
    "        if self.batchwise_ot is False:\n",
    "            self.ot_plan = self.ot_solver.solve(self.dataset.x0, self.dataset.x1)\n",
    "        else:\n",
    "            self.ot_plan = None\n",
    "\n",
    "        # Preset batch sampling function based on the dataset \n",
    "        if isinstance(self.dataset, MatchingDistributionDataset):\n",
    "            self._sample_batch_fn = self._sample_batch__matching_distribution_dataset\n",
    "        elif isinstance(self.dataset, MatchingTensorDataset):\n",
    "            self._sample_batch_fn = self._sample_batch__matching_tensor_dataset\n",
    "        else:\n",
    "            raise NotImplementedError(f\"Not implemented for dataset of type {type(dataset)}\")\n",
    "\n",
    "\n",
    "    def _resample_from_ot_plan(self, x0: torch.Tensor, x1: torch.Tensor):\n",
    "        if self.batchwise_ot is True: \n",
    "            ot_plan = self.ot_solver.solve(x0, x1) \n",
    "        else:\n",
    "            ot_plan = self.ot_plan \n",
    "        x0_idx, x1_idx = joint_multinomial(ot_plan, num_samples=self.batch_size)\n",
    "        return x0[x0_idx], x1[x1_idx]\n",
    "\n",
    "    def _sample_batch__matching_distribution_dataset(self):        \n",
    "        dataset: MatchingDistributionDataset = self.dataset \n",
    "\n",
    "        x0 = dataset.x0_distribution.sample((self.batch_size,))\n",
    "        x1 = dataset.x1_distribution.sample((self.batch_size,))\n",
    "        return self._resample_from_ot_plan(x0, x1)\n",
    "\n",
    "    def _sample_batch__matching_tensor_dataset(self):\n",
    "        dataset: MatchingTensorDataset = self.dataset\n",
    "\n",
    "        if self.batchwise_ot is False:\n",
    "            x0, x1 = dataset.x0, dataset.x1\n",
    "        else:\n",
    "            x0 = dataset.x0[torch.randint(0, dataset.x0.shape[0], (self.batch_size, ))]\n",
    "            x1 = dataset.x1[torch.randint(0, dataset.x1.shape[0], (self.batch_size, ))]\n",
    "        return self._resample_from_ot_plan(x0, x1)\n",
    "\n",
    "    def __iter__(self):\n",
    "        for _ in range(len(self)):\n",
    "            yield self._sample_batch_fn()\n",
    "\n",
    "    def __len__(self) -> int:\n",
    "        return self.num_batches\n",
    "\n",
    "\n",
    "class MatchingDataLoader:\n",
    "    def __init__(self, dataset: MatchingDataset, batch_sampler: OTBatchSampler):\n",
    "        # TODO Maybe move some arguments from batch_sampler to MatchingDataLoader; however, that would slightly go against the DataLoader interface\n",
    "        self.dataset = dataset\n",
    "        self.batch_sampler = batch_sampler\n",
    "\n",
    "    def __iter__(self):\n",
    "        yield from self.batch_sampler\n",
    "\n",
    "    def __len__(self) -> int:\n",
    "        return self.batch_sampler.batch_size * self.batch_sampler.num_batches\n",
    "\n",
    "    @property\n",
    "    def batch_size(self) -> int:\n",
    "        return self.batch_sampler.batch_size"
   ]
  },
  {
   "cell_type": "markdown",
   "id": "888a0753",
   "metadata": {},
   "source": [
    "## Datasets"
   ]
  },
  {
   "cell_type": "code",
   "execution_count": 11,
   "id": "edc4b398",
   "metadata": {},
   "outputs": [],
   "source": [
    "def download_brain_regions_centroids(data_dir: str = './datasets/brain_signals/'):\n",
    "    csv_url = \"https://bitbucket.org/dpat/tools/raw/master/REF/ATLASES/HCP-MMP1_UniqueRegionList.csv\"\n",
    "    brain_regions_centroids_df = pd.read_csv(\n",
    "        csv_url, \n",
    "        usecols=[\"x-cog\", \"y-cog\", \"z-cog\"],\n",
    "        dtype={\"x-cog\": float, \"y-cog\": float, \"z-cog\": float},\n",
    "    ).rename(columns={\"x-cog\": \"x\", \"y-cog\": \"y\", \"z-cog\": \"z\"})\n",
    "    brain_regions_centroids_df.to_csv(os.path.join(data_dir, \"brain_regions_centroids.csv\"), index=False)\n",
    "\n",
    "\n",
    "def load_brain_regions_centroids(data_dir: str = './datasets/brain_signals/'):\n",
    "    return pd.read_csv(os.path.join(data_dir, \"brain_regions_centroids.csv\"))\n",
    "\n",
    "\n",
    "def plot_brain_signal_3d(signal: torch.Tensor | None = None, width: int = 500, height: int = 500, marker_size: int = 5):\n",
    "    df = load_brain_regions_centroids()\n",
    "    if signal is not None:\n",
    "        df = df.assign(signal=signal.detach().cpu().numpy())\n",
    "        fig = px.scatter_3d(df, x='x', y='y', z='z', color='signal')\n",
    "    else:\n",
    "        fig = px.scatter_3d(df, x='x', y='y', z='z')\n",
    "    fig.update_traces(marker_size=marker_size)\n",
    "    fig.update_layout(width=width, height=height)\n",
    "    fig.show()\n",
    "    return fig \n",
    "\n",
    "\n",
    "def plot_brain_signal_2d(signal: torch.Tensor | None = None, width: int = 400, height: int = 400, marker_size: int = 6):\n",
    "    df = load_brain_regions_centroids()\n",
    "    if signal is not None:\n",
    "        df = df.assign(signal=signal.detach().cpu().numpy())\n",
    "        fig = px.scatter(df, x='x', y='y', color='signal')\n",
    "    else:\n",
    "        fig = px.scatter(df, x='x', y='y')\n",
    "    fig.update_traces(marker_size=marker_size)\n",
    "    fig.update_layout(width=width, height=height)\n",
    "    fig.show()\n",
    "    return fig \n",
    "\n",
    "\n",
    "def load_brain_data() -> tuple[torch.Tensor, torch.Tensor, torch.Tensor, torch.Tensor, torch.Tensor, torch.Tensor, torch.Tensor]:\n",
    "    \"\"\"\n",
    "    Loads the brain data from the .mat files and splits it into training and test sets.\n",
    "    Returns:\n",
    "        x0: [N, D] Training samples from the aligned dataset.\n",
    "        x1: [N, D] Training samples from the liberal dataset.\n",
    "        x0_train: [N_train, D] Training samples from the aligned dataset.\n",
    "        x0_test: [N_test, D] Test samples from the aligned dataset.\n",
    "        x1_train: [N_train, D] Training samples from the liberal dataset.\n",
    "        x1_test: [N_test, D] Test samples from the liberal dataset.\n",
    "    \"\"\"\n",
    "    laplacian = scipy.io.loadmat('./datasets/brain_signals/lap.mat')['L']\n",
    "\n",
    "    x1 = scipy.io.loadmat('./datasets/brain_signals/aligned.mat')['Xa'].T\n",
    "    x0 = scipy.io.loadmat('./datasets/brain_signals/liberal.mat')['Xl'].T\n",
    "\n",
    "    # Split data into training and test sets\n",
    "    num_train = int(0.8 * x0.shape[0])\n",
    "    num_test = x0.shape[0] - num_train\n",
    "    x = np.arange(x0.shape[0])\n",
    "    random_perm = np.random.permutation(x)\n",
    "    train_ids, test_ids = random_perm[:num_train], random_perm[num_train:]\n",
    "    x0_train, x0_test = x0[train_ids], x0[test_ids]\n",
    "    x1_train, x1_test = x1[train_ids], x1[test_ids]\n",
    "    return laplacian, x0, x1, x0_train, x0_test, x1_train, x1_test"
   ]
  },
  {
   "cell_type": "markdown",
   "id": "37d72c79",
   "metadata": {},
   "source": [
    "## Models"
   ]
  },
  {
   "cell_type": "code",
   "execution_count": null,
   "id": "23bb4da2",
   "metadata": {},
   "outputs": [],
   "source": [
    "def timestep_embedding(\n",
    "    timesteps: torch.Tensor,\n",
    "    dim: int,\n",
    "    max_period: int = 10000\n",
    ") -> torch.Tensor:\n",
    "    \"\"\"\n",
    "    Create sinusoidal timestep embeddings.\n",
    "\n",
    "    parameters: \n",
    "        timesteps: [...]\n",
    "        dim: int\n",
    "        max_period: int\n",
    "\n",
    "    returns:\n",
    "        embedding: [..., dim]\n",
    "    \"\"\"\n",
    "    dim_over_2, dim_mod_2 = divmod(dim, 2)\n",
    "    freqs = torch.exp(\n",
    "        -math.log(max_period) * torch.arange(0, dim_over_2, device=timesteps.device, dtype=timesteps.dtype) \n",
    "        / dim_over_2\n",
    "    ) # [D/2]\n",
    "    args = timesteps.unsqueeze(-1) * freqs.unsqueeze(0) # [..., 1] * [1, D/2] = [..., D/2]\n",
    "    embedding = torch.cat([torch.cos(args), torch.sin(args)], dim=-1) # [..., D]\n",
    "\n",
    "    if dim_mod_2 == 1:\n",
    "        zero_column = embedding.new_zeros(embedding.shape[0], 1)\n",
    "        embedding = torch.cat([embedding, zero_column], dim=-1)\n",
    "    return embedding\n",
    "\n",
    "\n",
    "class FCs(torch.nn.Module):\n",
    "    \"\"\"\n",
    "    Fully connected feedforward neural network with configurable number of layers.\n",
    "    \"\"\"\n",
    "    def __init__(\n",
    "        self,\n",
    "        dim_in: int,\n",
    "        dim_hid: int,\n",
    "        dim_out: int,\n",
    "        num_layers: int = 2\n",
    "    ) -> None:\n",
    "        \"\"\"\n",
    "        Fully connected feedforward neural network with configurable number of layers.\n",
    "\n",
    "        Args:\n",
    "            dim_in (int): Input feature dimension.\n",
    "            dim_hid (int): Hidden layer dimension.\n",
    "            dim_out (int): Output feature dimension.\n",
    "            num_layers (int, optional): Total number of layers (including input and output layers). Default is 2.\n",
    "        \"\"\"\n",
    "        super(FCs, self).__init__()\n",
    "        self.model = torch.nn.Sequential()\n",
    "        self.model.add_module('fc_in', torch.nn.Linear(dim_in, dim_hid))\n",
    "        self.model.add_module('relu_in', torch.nn.ReLU())\n",
    "        for i in range(num_layers - 2):\n",
    "            self.model.add_module(f'fc_{i}', torch.nn.Linear(dim_hid, dim_hid))\n",
    "            self.model.add_module(f'relu_{i}', torch.nn.ReLU())\n",
    "        self.model.add_module('fc_out', torch.nn.Linear(dim_hid, dim_out))\n",
    "\n",
    "    def forward(self, x: torch.Tensor) -> torch.Tensor:\n",
    "        return self.model(x)\n",
    "\n",
    "\n",
    "class ResNet_FC(torch.nn.Module):\n",
    "    \"\"\"\n",
    "    A fully connected network with an initial linear layer followed by a sequence of residual blocks.\n",
    "    Each residual block consists of several linear layers with SiLU activations.\n",
    "    \"\"\"\n",
    "\n",
    "    def __init__(self, data_dim: int, hidden_dim: int, num_res_blocks: int) -> None:\n",
    "        \"\"\"\n",
    "        Initialize the ResNet_FC module.\n",
    "\n",
    "        Args:\n",
    "            data_dim (int): Input feature dimension.\n",
    "            hidden_dim (int): Hidden layer dimension for all residual blocks.\n",
    "            num_res_blocks (int): Number of residual blocks.\n",
    "        \"\"\"\n",
    "        super().__init__()\n",
    "        self.hidden_dim: int = hidden_dim\n",
    "        self.map: torch.nn.Linear = torch.nn.Linear(data_dim, hidden_dim)\n",
    "        self.res_blocks: torch.nn.ModuleList = torch.nn.ModuleList(\n",
    "            [self.build_res_block() for _ in range(num_res_blocks)]\n",
    "        )\n",
    "\n",
    "    def build_res_block(self) -> torch.nn.Sequential:\n",
    "        \"\"\"\n",
    "        Build a residual block consisting of several linear layers and SiLU activations.\n",
    "\n",
    "        Returns:\n",
    "            torch.nn.Sequential: Sequential container of layers forming a residual block.\n",
    "        \"\"\"\n",
    "        hid: int = self.hidden_dim\n",
    "        layers: list[torch.nn.Module] = []\n",
    "        widths: list[int] = [hid] * 4\n",
    "        for i in range(len(widths) - 1):\n",
    "            layers.append(torch.nn.Linear(widths[i], widths[i + 1]))\n",
    "            layers.append(torch.nn.SiLU())\n",
    "        return torch.nn.Sequential(*layers)\n",
    "\n",
    "    def forward(self, x: torch.Tensor) -> torch.Tensor:\n",
    "        \"\"\"\n",
    "        Forward pass through the network.\n",
    "\n",
    "        Args:\n",
    "            x (torch.Tensor): Input tensor of shape (batch_size, data_dim).\n",
    "\n",
    "        Returns:\n",
    "            torch.Tensor: Output tensor after passing through the network.\n",
    "        \"\"\"\n",
    "        h = self.map(x)\n",
    "        for res_block in self.res_blocks:\n",
    "            h = (h + res_block(h)) / np.sqrt(2)\n",
    "        return h\n",
    "\n",
    "class TimestepBlock(torch.nn.Module):\n",
    "    \"\"\"\n",
    "    Any module where forward() takes timestep embeddings as a second argument.\n",
    "    \"\"\"\n",
    "\n",
    "    @abstractmethod\n",
    "    def forward(self, x: torch.Tensor, emb: torch.Tensor) -> torch.Tensor:\n",
    "        \"\"\"\n",
    "        Apply the module to `x` given `emb` timestep embeddings.\n",
    "        \"\"\"\n",
    "\n",
    "class TimestepEmbedSequential(torch.nn.Sequential, TimestepBlock):\n",
    "    \"\"\"\n",
    "    A sequential module that passes timestep embeddings to the children that\n",
    "    support it as an extra input.\n",
    "    \"\"\"\n",
    "\n",
    "    def forward(self, x: torch.Tensor, emb: torch.Tensor) -> torch.Tensor:\n",
    "        for layer in self:\n",
    "            if isinstance(layer, TimestepBlock):\n",
    "                x = layer(x, emb)\n",
    "            else:\n",
    "                x = layer(x)\n",
    "        return x\n",
    "\n",
    "\n",
    "class SparseGCNLayer(torch.nn.Module):\n",
    "    def __init__(\n",
    "        self,\n",
    "        in_channels: int,\n",
    "        out_channels: int,\n",
    "        conv_order: int,\n",
    "        laplacian: torch.Tensor,\n",
    "        *, \n",
    "        aggr_norm: bool = False,\n",
    "        initialization: str = \"xavier_uniform\",\n",
    "    ) -> None:\n",
    "        assert initialization in [\"xavier_uniform\", \"xavier_normal\"]\n",
    "\n",
    "        super().__init__()        \n",
    "\n",
    "        self.K = conv_order # K in pytorch geometric\n",
    "        self.L = laplacian\n",
    "        self.aggr_norm = aggr_norm\n",
    "\n",
    "        self.W = torch.nn.Parameter(\n",
    "            torch.empty(in_channels, out_channels, self.K + 1)\n",
    "        )\n",
    "        torch.nn.init.xavier_uniform_(self.W, gain=math.sqrt(2)) # Maybe add option xavier_normal_\n",
    "\n",
    "        # precompute normalization inverse \n",
    "        self.deg_inv = torch.sparse.sum(self.L, dim=1).to_dense().reciprocal_()\n",
    "        self.deg_inv[~torch.isfinite(self.deg_inv)] = 0.0\n",
    "\n",
    "\n",
    "    def _normalize(self, x: torch.Tensor) -> torch.Tensor:\n",
    "        \"\"\"\n",
    "        Normalize the aggregation by the neighborhood size.\n",
    "\n",
    "        Args:\n",
    "            x (torch.Tensor): Input tensor.\n",
    "\n",
    "        Returns:\n",
    "            torch.Tensor: Normalized tensor.\n",
    "        \"\"\"\n",
    "        x = torch.einsum(\"i,ij->ij \", self.deg_inv, x)\n",
    "        x[~torch.isfinite(x)] = 0.0\n",
    "        return x\n",
    "\n",
    "    \"\"\"\n",
    "    TODO \n",
    "    \"\"\"\n",
    "\n",
    "\n",
    "class GCNLayer(torch.nn.Module):\n",
    "    \"\"\"\n",
    "    Graph Convolutional Network (GCN) Layer with Chebyshev polynomial support.\n",
    "\n",
    "    Args:\n",
    "        in_channels (int): Number of input channels/features.\n",
    "        out_channels (int): Number of output channels/features.\n",
    "        conv_order (int): Order of the Chebyshev polynomial (number of hops).\n",
    "        laplacian (torch.Tensor): Laplacian or adjacency matrix.\n",
    "        aggr_norm (bool, optional): Whether to normalize aggregation. Default is False.\n",
    "        update_func (str or None, optional): Activation function to use after aggregation.\n",
    "            Options: \"sigmoid\", \"relu\", \"id\", or None. Default is None.\n",
    "        initialization (str, optional): Weight initialization method.\n",
    "            Options: \"xavier_uniform\", \"xavier_normal\". Default is \"xavier_uniform\".\n",
    "    \"\"\"\n",
    "\n",
    "    def __init__(\n",
    "        self,\n",
    "        in_channels: int,\n",
    "        out_channels: int,\n",
    "        conv_order: int,\n",
    "        laplacian: torch.Tensor,\n",
    "        *, \n",
    "        aggr_norm: bool = False,\n",
    "        update_func: str | None = None,\n",
    "        initialization: str = \"xavier_uniform\",\n",
    "    ) -> None:\n",
    "        super().__init__()\n",
    "\n",
    "        self.in_channels: int = in_channels\n",
    "        self.out_channels: int = out_channels\n",
    "        self.conv_order: int = conv_order\n",
    "        self.laplacian: torch.Tensor = laplacian\n",
    "        self.aggr_norm: bool = aggr_norm\n",
    "        self.update_func: str | None = update_func\n",
    "        self.initialization: str = initialization\n",
    "        assert initialization in [\"xavier_uniform\", \"xavier_normal\"]\n",
    "\n",
    "        self.weight: torch.nn.Parameter = torch.nn.Parameter(\n",
    "            torch.Tensor(\n",
    "                self.in_channels,\n",
    "                self.out_channels,\n",
    "                1 + self.conv_order,\n",
    "            )\n",
    "        )\n",
    "\n",
    "        self.reset_parameters()\n",
    "\n",
    "    def reset_parameters(self, gain: float = 1.414) -> None:\n",
    "        \"\"\"\n",
    "        Reset the parameters of the layer using the specified initialization.\n",
    "\n",
    "        Args:\n",
    "            gain (float, optional): Gain value for initialization. Default is 1.414.\n",
    "        \"\"\"\n",
    "        if self.initialization == \"xavier_uniform\":\n",
    "            torch.nn.init.xavier_uniform_(self.weight, gain=gain)\n",
    "        elif self.initialization == \"xavier_normal\":\n",
    "            torch.nn.init.xavier_normal_(self.weight, gain=gain)\n",
    "\n",
    "    def aggr_norm_func(self, conv_operator: torch.Tensor, x: torch.Tensor) -> torch.Tensor:\n",
    "        \"\"\"\n",
    "        Normalize the aggregation by the neighborhood size.\n",
    "\n",
    "        Args:\n",
    "            conv_operator (torch.Tensor): The convolution operator (adjacency or Laplacian matrix).\n",
    "            x (torch.Tensor): Input tensor.\n",
    "\n",
    "        Returns:\n",
    "            torch.Tensor: Normalized tensor.\n",
    "        \"\"\"\n",
    "        neighborhood_size = torch.sum(conv_operator.to_dense(), dim=1)\n",
    "        neighborhood_size_inv = 1 / neighborhood_size\n",
    "        neighborhood_size_inv[~(torch.isfinite(neighborhood_size_inv))] = 0\n",
    "\n",
    "        x = torch.einsum(\"i,ij->ij \", neighborhood_size_inv, x)\n",
    "        x[~torch.isfinite(x)] = 0\n",
    "        return x\n",
    "\n",
    "    def update(self, x: torch.Tensor) -> torch.Tensor | None:\n",
    "        \"\"\"\n",
    "        Apply the update (activation) function to the input.\n",
    "\n",
    "        Args:\n",
    "            x (torch.Tensor): Input tensor.\n",
    "\n",
    "        Returns:\n",
    "            torch.Tensor or None: Activated tensor or None if update_func is not recognized.\n",
    "        \"\"\"\n",
    "        if self.update_func == \"sigmoid\":\n",
    "            return torch.sigmoid(x)\n",
    "        if self.update_func == \"relu\":\n",
    "            return torch.nn.functional.relu(x)\n",
    "        if self.update_func == \"id\":\n",
    "            return x\n",
    "        return None\n",
    "\n",
    "    def chebyshev_conv(\n",
    "        self,\n",
    "        conv_operator: torch.Tensor,\n",
    "        conv_order: int,\n",
    "        x: torch.Tensor\n",
    "    ) -> torch.Tensor:\n",
    "        \"\"\"\n",
    "        Perform Chebyshev polynomial convolution.\n",
    "\n",
    "        Args:\n",
    "            conv_operator (torch.Tensor): The convolution operator (adjacency or Laplacian matrix).\n",
    "            conv_order (int): Order of the Chebyshev polynomial.\n",
    "            x (torch.Tensor): Input tensor of shape (num_simplices, num_channels).\n",
    "\n",
    "        Returns:\n",
    "            torch.Tensor: Tensor of shape (num_simplices, num_channels, conv_order).\n",
    "        \"\"\"\n",
    "        num_simplices, num_channels = x.shape\n",
    "        X = torch.empty(size=(num_simplices, num_channels, conv_order))\n",
    "        X[:, :, 0] = torch.mm(conv_operator, x)\n",
    "        for k in range(1, conv_order):\n",
    "            X[:, :, k] = torch.mm(conv_operator, X[:, :, k - 1])\n",
    "            if self.aggr_norm:\n",
    "                X[:, :, k] = self.aggr_norm_func(conv_operator, X[:, :, k])\n",
    "\n",
    "        return X\n",
    "\n",
    "    def forward(self, x: torch.Tensor) -> torch.Tensor:\n",
    "        \"\"\"\n",
    "        Forward pass of the GCN layer.\n",
    "\n",
    "        Args:\n",
    "            x (torch.Tensor): Input tensor of shape (num_simplices, in_channels).\n",
    "\n",
    "        Returns:\n",
    "            torch.Tensor: Output tensor of shape (num_simplices, out_channels).\n",
    "        \"\"\"\n",
    "        num_simplices, _ = x.shape\n",
    "        x_identity = torch.unsqueeze(x, 2)\n",
    "\n",
    "        if self.conv_order > 0:\n",
    "            x = self.chebyshev_conv(self.laplacian, self.conv_order, x)\n",
    "            x = torch.cat((x_identity, x), 2)\n",
    "\n",
    "        y = torch.einsum(\"nik,iok->no\", x, self.weight)\n",
    "\n",
    "        return y # Maybe have relu and sigmoid as update function options\n",
    "\n",
    "\n",
    "class GCNBlock(torch.nn.Module):\n",
    "    \"\"\"\n",
    "    Graph Convolutional Network (GCN) module composed of multiple GCNLayer layers.\n",
    "\n",
    "    Args:\n",
    "        in_channels (int): Number of input features per node.\n",
    "        hidden_channels (int): Number of hidden units in each hidden GCN layer.\n",
    "        laplacian (torch.Tensor): Laplacian matrix or convolution operator.\n",
    "        conv_order (int, optional): Order of the Chebyshev polynomial convolution. Default is 1.\n",
    "        aggr_norm (bool, optional): Whether to apply aggregation normalization. Default is False.\n",
    "        update_func (Optional[str], optional): Update function to use in GCNLayer ('relu', 'id', etc.). Default is None.\n",
    "        n_layers (int, optional): Number of GCN layers. Default is 2.\n",
    "    \"\"\"\n",
    "    def __init__(\n",
    "        self,\n",
    "        in_channels: int,\n",
    "        hidden_channels: int,\n",
    "        laplacian: torch.Tensor,\n",
    "        *,\n",
    "        conv_order: int = 1,\n",
    "        aggr_norm: bool = False,\n",
    "        update_func: str = None,\n",
    "        n_layers: int = 2,\n",
    "    ) -> None:\n",
    "        super().__init__()\n",
    "        self.layers: torch.nn.ModuleList = torch.nn.ModuleList(\n",
    "            [   \n",
    "                GCNLayer(\n",
    "                    in_channels=in_channels,\n",
    "                    out_channels=hidden_channels,\n",
    "                    conv_order=conv_order, \n",
    "                    laplacian=laplacian,\n",
    "                )\n",
    "            ]\n",
    "        )\n",
    "\n",
    "        for i in range(n_layers - 1):\n",
    "            if i == n_layers - 2: \n",
    "                out_channels = 1\n",
    "                layer_update_func = 'id'\n",
    "            else: \n",
    "                out_channels = hidden_channels\n",
    "                layer_update_func = 'relu'\n",
    "            self.layers.append(\n",
    "                GCNLayer(\n",
    "                    in_channels=hidden_channels,\n",
    "                    out_channels=out_channels,\n",
    "                    conv_order=conv_order,\n",
    "                    laplacian=laplacian,\n",
    "                    aggr_norm=aggr_norm,\n",
    "                    update_func=layer_update_func,\n",
    "                )\n",
    "            )\n",
    "            \n",
    "    def forward(self, x: torch.Tensor) -> torch.Tensor:\n",
    "        \"\"\"\n",
    "        Forward pass through the GCN.\n",
    "\n",
    "        Args:\n",
    "            x (torch.Tensor): Input tensor of shape (num_nodes, in_channels).\n",
    "\n",
    "        Returns:\n",
    "            torch.Tensor: Output tensor after passing through all GCN layers.\n",
    "        \"\"\"\n",
    "        for layer in self.layers:\n",
    "            x = layer(x)\n",
    "        return x\n",
    "\n",
    "\n",
    "class GCN(torch.nn.Module):\n",
    "    \"\"\"\n",
    "    Network using a combination of GCN and ResNet_FC modules with time embedding.\n",
    "\n",
    "    Args:\n",
    "        laplacian (torch.Tensor): Laplacian matrix of the graph (shape: [N, N]).\n",
    "        hidden_dim (int, optional): Number of hidden units in each layer. Default is 256.\n",
    "        time_embed_dim (int, optional): Dimensionality of the time embedding. Default is 128.\n",
    "    \"\"\"\n",
    "    def __init__(\n",
    "        self,\n",
    "        laplacian: torch.Tensor,\n",
    "        hidden_dim: int = 256,\n",
    "        time_embed_dim: int = 128\n",
    "    ) -> None:\n",
    "        super().__init__()\n",
    "        data_dim: int = laplacian.shape[-1]\n",
    "\n",
    "        self.time_embed_dim: int = time_embed_dim\n",
    "        hid: int = hidden_dim\n",
    "\n",
    "        self.t_module: torch.nn.Sequential = torch.nn.Sequential(\n",
    "            torch.nn.Linear(self.time_embed_dim, hid),\n",
    "            torch.nn.SiLU(),\n",
    "            torch.nn.Linear(hid, hid),\n",
    "        )\n",
    "\n",
    "        self.x_module1: GCN = GCNBlock(\n",
    "            in_channels=1,\n",
    "            hidden_channels=hidden_dim,\n",
    "            n_layers=2,\n",
    "            laplacian=laplacian\n",
    "        )\n",
    "        self.x_module2: ResNet_FC = ResNet_FC(\n",
    "            data_dim,\n",
    "            hidden_dim,\n",
    "            num_res_blocks=0\n",
    "        )\n",
    "\n",
    "        self.out_module: torch.nn.Sequential = torch.nn.Sequential(\n",
    "            torch.nn.Linear(hid, hid),\n",
    "            torch.nn.SiLU(),\n",
    "            torch.nn.Linear(hid, data_dim),\n",
    "        )\n",
    "\n",
    "    @property\n",
    "    def inner_dtype(self) -> torch.dtype:\n",
    "        \"\"\"\n",
    "        Get the dtype used by the torso of the model.\n",
    "\n",
    "        Returns:\n",
    "            torch.dtype: The dtype of the model's parameters.\n",
    "        \"\"\"\n",
    "        # Note: input_blocks is not defined in this class; this property may need to be updated.\n",
    "        return next(self.input_blocks.parameters()).dtype\n",
    "\n",
    "    def forward(self, t: torch.Tensor, x: torch.Tensor) -> torch.Tensor:\n",
    "        \"\"\"\n",
    "        Forward pass of the GCNPolicy.\n",
    "\n",
    "        Args:\n",
    "            t (torch.Tensor): 1-D tensor of timesteps.\n",
    "            x (torch.Tensor): Input tensor of shape [N, C, ...].\n",
    "\n",
    "        Returns:\n",
    "            torch.Tensor: Output tensor after processing through the network.\n",
    "        \"\"\"\n",
    "        # Ensure t has shape [T]\n",
    "        if len(t.shape) == 0:\n",
    "            t = t[None]\n",
    "\n",
    "        t_emb: torch.Tensor = timestep_embedding(t, self.time_embed_dim)\n",
    "        t_out: torch.Tensor = self.t_module(t_emb)\n",
    "\n",
    "        x = x.unsqueeze(-1)  # Add feature dimension for GCN\n",
    "        x_out = torch.empty_like(x)\n",
    "        for i in range(x.shape[0]):\n",
    "            x_out[i] = self.x_module1(x[i])\n",
    "\n",
    "        x_out = x_out.squeeze(-1)\n",
    "        x_out = self.x_module2(x_out)\n",
    "        out = self.out_module(x_out + t_out)\n",
    "\n",
    "        return out\n",
    "\n",
    "\n",
    "class ResidualNN(torch.nn.Module):\n",
    "    \"\"\"\n",
    "    Residual Neural Network module for time-dependent input.\n",
    "\n",
    "    Args:\n",
    "        data_dim (int): Dimensionality of the input data.\n",
    "        hidden_dim (int, optional): Number of hidden units in each layer. Default is 256.\n",
    "        time_embed_dim (int, optional): Dimensionality of the time embedding. Default is 128.\n",
    "        num_res_block (int, optional): Number of residual blocks in the ResNet_FC module. Default is 1.\n",
    "    \"\"\"\n",
    "    def __init__(\n",
    "        self, \n",
    "        data_dim: int, \n",
    "        hidden_dim: int = 256, \n",
    "        time_embed_dim: int = 128, \n",
    "        num_res_block: int = 1\n",
    "    ) -> None:\n",
    "        super().__init__()\n",
    "\n",
    "        self.time_embed_dim = time_embed_dim\n",
    "        hid = hidden_dim\n",
    "\n",
    "        self.t_module = torch.nn.Sequential(\n",
    "            torch.nn.Linear(self.time_embed_dim, hid),\n",
    "            torch.nn.SiLU(),\n",
    "            torch.nn.Linear(hid, hid),\n",
    "        )\n",
    "\n",
    "        self.x_module = ResNet_FC(data_dim, hidden_dim, num_res_blocks=num_res_block)\n",
    "\n",
    "        self.out_module = torch.nn.Sequential(\n",
    "            torch.nn.Linear(hid, hid),\n",
    "            torch.nn.SiLU(),\n",
    "            torch.nn.Linear(hid, data_dim),\n",
    "        )\n",
    "\n",
    "    def forward(self, t: torch.Tensor, x: torch.Tensor) -> torch.Tensor:\n",
    "        \"\"\"\n",
    "        Forward pass of the ResidualNN.\n",
    "\n",
    "        Args:\n",
    "            t (torch.Tensor): 1-D tensor of timesteps.\n",
    "            x (torch.Tensor): Input tensor of shape [N x C x ...].\n",
    "\n",
    "        Returns:\n",
    "            torch.Tensor: Output tensor after processing through the network.\n",
    "        \"\"\"\n",
    "        t = torch.atleast_1d(t)\n",
    "\n",
    "        t_emb = timestep_embedding(timesteps=t, dim=self.time_embed_dim)\n",
    "        t_out = self.t_module(t_emb)\n",
    "        x_out = self.x_module(x)\n",
    "        out = self.out_module(x_out + t_out)\n",
    "        return out"
   ]
  },
  {
   "cell_type": "markdown",
   "id": "86b3ec98",
   "metadata": {},
   "source": [
    "## Training and Evaluation"
   ]
  },
  {
   "cell_type": "code",
   "execution_count": 54,
   "id": "8e1e791d",
   "metadata": {},
   "outputs": [],
   "source": [
    "# Settings from Schrodinger bridge matching paper \n",
    "EMA_DECAY = 0.99 \n",
    "ADAMW_LR = 1e-4\n",
    "WASSERSTEIN_DISTANCE_BLUR = 0.05\n",
    "\n",
    "# \n",
    "EULER_MARUYAMA_NUM_STEPS = 1000\n",
    "DISCRETE_TIME_SAMPLER_NUM_STEPS = 1000\n",
    "\n",
    "\n",
    "\n",
    "def make_optimizer(model: torch.nn.Module, *, lr: float = ADAMW_LR) -> torch.optim.Optimizer:\n",
    "    return torch.optim.AdamW(model.parameters(), lr=ADAMW_LR)\n",
    "\n",
    "\n",
    "def make_ema(model: torch.nn.Module, *, decay: float = EMA_DECAY) -> ExponentialMovingAverage:\n",
    "    return ExponentialMovingAverage(model.parameters(), decay=decay)\n",
    "\n",
    "\n",
    "def make_objective() -> torch.nn.Module:\n",
    "    return torch.nn.MSELoss()\n",
    "\n",
    "\n",
    "def make_sde_solver(sde: SDE, *, num_steps: int = EULER_MARUYAMA_NUM_STEPS) -> SDESolver:\n",
    "    timesteps = UniformTimeSteps(n=num_steps)\n",
    "    return EulerMaruyamaSolver(sde=sde, timesteps=timesteps) \n",
    "\n",
    "\n",
    "def make_time_sampler(*, num_steps: int = DISCRETE_TIME_SAMPLER_NUM_STEPS) -> TimeSampler:\n",
    "    timesteps = UniformTimeSteps(n=num_steps)\n",
    "    return DiscreteTimeSampler(timesteps=timesteps)\n",
    "\n",
    "\n",
    "def wasserstein_distance(x0: torch.Tensor, x1: torch.Tensor, *, p: int = 1, blur: float = WASSERSTEIN_DISTANCE_BLUR) -> float:\n",
    "    if p == 1:\n",
    "        return SamplesLoss(loss=\"sinkhorn\", p=1, blur=blur)(x0, x1)\n",
    "    if p == 2: \n",
    "        return SamplesLoss(loss=\"sinkhorn\", p=2, blur=blur)(x0, x1).sqrt() \n",
    "    raise ValueError(f\"We only use Wasserstein-1 and Wasserstein-2 distances for model evaluation, not {p}.\")\n",
    "\n",
    "\n",
    "def train(\n",
    "    *, \n",
    "    sde: SDE,\n",
    "    model: torch.nn.Module, \n",
    "    data_loader: MatchingDataLoader, \n",
    "    time_sampler: TimeSampler, \n",
    "    optimizer: torch.optim.Optimizer, \n",
    "    ema: ExponentialMovingAverage, \n",
    "    objective: torch.nn.Module, \n",
    ") -> float:\n",
    "    epoch_loss = 0.0\n",
    "    for x0, x1 in data_loader: # TODO Move t from data_loader into the training loop\n",
    "        # sample xt, compute targets and predictions\n",
    "        t = time_sampler.sample((data_loader.batch_size, ))\n",
    "        x = sde.marginal_distribution(t=t, x0=x0, x1=x1).sample()\n",
    "        ut = bridge_control(sde=sde, t=t, x=x, x1=x1)\n",
    "        ut_preds = model(t, x)\n",
    "        loss = objective(ut, ut_preds)\n",
    "\n",
    "        # Generic backprop step\n",
    "        optimizer.zero_grad()\n",
    "        loss.backward()\n",
    "        optimizer.step()\n",
    "        ema.update()\n",
    "\n",
    "        # Bookkeeping\n",
    "        epoch_loss += loss.detach().item() \n",
    "\n",
    "    average_loss = epoch_loss / len(data_loader) # TODO extract this into dataloader as .epoch_size\n",
    "    return average_loss \n",
    "\n",
    "\n",
    "@torch.inference_mode()\n",
    "def evaluate(\n",
    "    *, \n",
    "    sde_solver: SDESolver, \n",
    "    model: torch.nn.Module, \n",
    "    data_loader: MatchingDataLoader, \n",
    "    ema: ExponentialMovingAverage, \n",
    ") -> dict[str, float]:\n",
    "    control = ModelControl(model)\n",
    "\n",
    "    W1 = 0.0\n",
    "    W2 = 0.0\n",
    "\n",
    "    for x0, x1 in data_loader:\n",
    "        x1_pred = sde_solver.pushforward(x0=x0, control=control)\n",
    "        W1 += wasserstein_distance(x0=x1_pred, x1=x1, p=1).item()\n",
    "        W2 += wasserstein_distance(x0=x1_pred, x1=x1, p=2).item()\n",
    "    \n",
    "    W1 /= data_loader.num_batches\n",
    "    W2 /= data_loader.num_batches\n",
    "\n",
    "    return {'W1': W1, 'W2': W2}\n",
    "\n",
    "\n",
    "def fit(\n",
    "    sde: SDE,\n",
    "    model: torch.nn.Module, \n",
    "    train_data_loader: MatchingDataLoader, \n",
    "    *, \n",
    "    num_epochs: int,\n",
    "    time_sampler: TimeSampler | None = None, \n",
    "    sde_solver: SDESolver | None = None, \n",
    "    optimizer: torch.optim.Optimizer | None = None, \n",
    "    ema: ExponentialMovingAverage | None = None, \n",
    "    objective: torch.nn.Module | None = None, \n",
    "    eval_data_loader: MatchingDataLoader | None = None,\n",
    ") -> dict[str, torch.Tensor]:\n",
    "    # TODO Maybe make these non-default and move outside, though probably later since this is convenient in a notebook\n",
    "    if optimizer is None: optimizer = make_optimizer(model)\n",
    "    if ema is None: ema = make_ema(model)\n",
    "    if objective is None: objective = make_objective()\n",
    "    if sde_solver is None: sde_solver = make_sde_solver(sde)\n",
    "    if time_sampler is None: time_sampler = make_time_sampler()\n",
    "\n",
    "\n",
    "    history = defaultdict(list)\n",
    "\n",
    "    pbar = tqdm.trange(num_epochs, desc=\"Epochs\")\n",
    "    for epoch in pbar:\n",
    "        # Training step\n",
    "        avg_loss = train(\n",
    "            sde=sde, \n",
    "            model=model,\n",
    "            data_loader=train_data_loader,\n",
    "            optimizer=optimizer,\n",
    "            ema=ema,\n",
    "            objective=objective,\n",
    "            time_sampler=time_sampler,\n",
    "        )\n",
    "        # Evaluation step\n",
    "        if eval_data_loader is not None:\n",
    "            metrics = evaluate(\n",
    "                sde_solver=sde_solver,\n",
    "                model=model,\n",
    "                data_loader=eval_data_loader,\n",
    "                ema=ema,\n",
    "            )\n",
    "        else:\n",
    "            metrics = {}\n",
    "\n",
    "        # Bookkeeping \n",
    "        metrics[\"loss\"] = avg_loss\n",
    "        for k, v in metrics.items():\n",
    "            history[k].append(v)\n",
    "        \n",
    "        # Update progress bar\n",
    "        pbar.set_postfix(metrics)\n",
    "\n",
    "    return history"
   ]
  },
  {
   "cell_type": "markdown",
   "id": "baf9c868",
   "metadata": {},
   "source": [
    "# 2d Linear Gaussian bridge example"
   ]
  },
  {
   "cell_type": "code",
   "execution_count": 33,
   "id": "e7a8734f",
   "metadata": {},
   "outputs": [],
   "source": [
    "dim = 2\n",
    "L = torch.eye(dim)\n",
    "c = 2.0\n",
    "sigma = 0.0\n",
    "n = 1000\n",
    "\n",
    "sde = HeatBMTSDE(L=L, c=c, sigma=sigma)\n",
    "sde_solver = make_sde_solver(sde)\n",
    "\n",
    "delta_x = torch.tensor([3.0, 0.0])\n",
    "x0 = torch.tensor([-1.0, -1.0]) + delta_x\n",
    "x1 = torch.tensor([1.0, 1.0]) + delta_x\n",
    "\n",
    "# Sample 100 paths from x0 to x1\n",
    "x0s = x0.expand(100, 2)\n",
    "x1s = x1.expand(100, 2)\n",
    "control = BridgeControl(sde=sde, x1=x1s)\n",
    "xts, ts = sde_solver.sample_path(x0s, control=control)\n",
    "xmids = sde.marginal_distribution(t=torch.tensor(0.8), x0=x0, x1=x1).sample((100,))"
   ]
  },
  {
   "cell_type": "code",
   "execution_count": 24,
   "id": "2bf85b03",
   "metadata": {},
   "outputs": [
    {
     "data": {
      "image/png": "[encoded data removed]",
      "text/plain": [
       "<Figure size 800x600 with 2 Axes>"
      ]
     },
     "metadata": {},
     "output_type": "display_data"
    }
   ],
   "source": [
    "# Assume xts shape: [N, T, D] or [T, D] if single batch\n",
    "xts_np = xts.detach().cpu().numpy()\n",
    "ts_np = ts.detach().cpu().numpy()\n",
    "\n",
    "# Ensure shape is [N, T, D]\n",
    "if xts_np.ndim == 2:\n",
    "    xts_np = xts_np[None, ...]  # [1, T, D]\n",
    "\n",
    "N, T, D = xts_np.shape\n",
    "assert D == 2, \"D must be 2 for 2D plotting\"\n",
    "\n",
    "# Prepare segments for LineCollection: each path is (T, 2), segments are (T-1, 2, 2)\n",
    "segments = []\n",
    "colors = []\n",
    "norm = plt.Normalize(ts_np.min(), ts_np.max())\n",
    "# Use a blue-to-red colormap\n",
    "cmap = plt.get_cmap('coolwarm')  # blue (low) to red (high)\n",
    "\n",
    "# Use a single alpha value for all lines\n",
    "global_alpha = 0.1\n",
    "\n",
    "for i in range(N):\n",
    "    points = xts_np[i, :, :2]\n",
    "    segs = np.stack([points[:-1], points[1:]], axis=1)  # (T-1, 2, 2)\n",
    "    segments.append(segs)\n",
    "    # Color for each segment (time-varying colormap, fixed alpha)\n",
    "    t_mid = (ts_np[:-1] + ts_np[1:]) / 2\n",
    "    seg_colors = cmap(norm(t_mid))\n",
    "    seg_colors[:, -1] = global_alpha  # Set the same alpha for all segments\n",
    "    colors.append(seg_colors)\n",
    "\n",
    "# Concatenate all segments and colors\n",
    "all_segments = np.concatenate(segments, axis=0)\n",
    "all_colors = np.concatenate(colors, axis=0)\n",
    "\n",
    "fig, ax = plt.subplots(figsize=(8, 6))\n",
    "lc = LineCollection(all_segments, colors=all_colors, linewidths=1)\n",
    "ax.add_collection(lc)\n",
    "\n",
    "# Add scatterplot of xmids, black markers\n",
    "xmids_np = xmids.detach().cpu().numpy()\n",
    "x1s_np = xts_np[..., -1, :]\n",
    "ax.scatter(xmids_np[:, 0], xmids_np[:, 1], color='k', marker='o', s=20, label='xmids')\n",
    "ax.scatter(x1s_np[:, 0], x1s_np[:, 1], color='r', marker='o', s=20, label='x1s')\n",
    "\n",
    "# Set axis limits\n",
    "all_x = xts_np[..., 0].ravel()\n",
    "all_y = xts_np[..., 1].ravel()\n",
    "ax.set_xlim(all_x.min(), all_x.max())\n",
    "ax.set_ylim(all_y.min(), all_y.max())\n",
    "\n",
    "ax.set_xlabel('x[0]')\n",
    "ax.set_ylabel('x[1]')\n",
    "ax.set_title('Sample Paths with Time-varying Color (Blue to Red, Fixed Alpha)')\n",
    "\n",
    "# Colorbar for time\n",
    "sm = plt.cm.ScalarMappable(cmap=cmap, norm=norm)\n",
    "sm.set_array([])\n",
    "cbar = plt.colorbar(sm, ax=ax, label='Time')\n",
    "plt.show()\n"
   ]
  },
  {
   "cell_type": "markdown",
   "id": "9771f7cd",
   "metadata": {},
   "source": [
    "# Optimal Transport Cost"
   ]
  },
  {
   "cell_type": "code",
   "execution_count": 25,
   "id": "83f060ad",
   "metadata": {},
   "outputs": [
    {
     "data": {
      "image/png": "[encoded data removed]",
      "text/plain": [
       "<Figure size 800x700 with 2 Axes>"
      ]
     },
     "metadata": {},
     "output_type": "display_data"
    }
   ],
   "source": [
    "# Solve entropic OT problem between a centred Gaussian and a mixture of three Gaussians\n",
    "dim = 2\n",
    "L = torch.eye(dim)\n",
    "c = 0.5\n",
    "sigma = 0.0\n",
    "\n",
    "sde = HeatBMTSDE(L=L, c=c, sigma=sigma)\n",
    "ot_solver = OTSolver(sde=sde, epsilon=0.0)\n",
    "# ot_solver = EntropicOTSolver(sde=sde, normalize_variance=False)\n",
    "\n",
    "\n",
    "x0 = torch.tensor([3.0, 0.0])\n",
    "# Create a grid of y points and evaluate the cost from x0 to them using cost_matrix\n",
    "\n",
    "# Define grid limits and resolution\n",
    "y_min, y_max, n_grid = -5.0, 5.0, 50\n",
    "y1 = torch.linspace(y_min, y_max, n_grid)\n",
    "y2 = torch.linspace(y_min, y_max, n_grid)\n",
    "y1g, y2g = torch.meshgrid(y1, y2, indexing='xy')\n",
    "y_grid = torch.stack([y1g, y2g], dim=-1)\n",
    "\n",
    "# Evaluate cost from x0 to each y in the grid using cost_matrix\n",
    "costs = ot_solver.cost(x0.reshape(-1, 2), y_grid.reshape(-1, 2)).reshape(y_grid.shape[:-1])\n",
    "\n",
    "\n",
    "# Plot the cost as a heatmap\n",
    "plt.figure(figsize=(8, 7))\n",
    "plt.imshow(costs.cpu(), extent=[y_min, y_max, y_min, y_max], cmap='viridis')\n",
    "plt.colorbar(label='Cost')\n",
    "plt.xlabel('y1')\n",
    "plt.ylabel('y2')\n",
    "plt.title('Cost from x0 to y_grid')\n",
    "plt.show()"
   ]
  },
  {
   "cell_type": "markdown",
   "id": "b3b2f5e2",
   "metadata": {},
   "source": [
    "# Optimal transfer plan and the induced linear flow"
   ]
  },
  {
   "cell_type": "code",
   "execution_count": 26,
   "id": "206c4f7c",
   "metadata": {},
   "outputs": [
    {
     "data": {
      "image/png": "[encoded data removed]",
      "text/plain": [
       "<Figure size 600x500 with 2 Axes>"
      ]
     },
     "metadata": {},
     "output_type": "display_data"
    },
    {
     "data": {
      "image/png": "[encoded data removed]",
      "text/plain": [
       "<Figure size 800x700 with 2 Axes>"
      ]
     },
     "metadata": {},
     "output_type": "display_data"
    }
   ],
   "source": [
    "delta_mu = torch.tensor([3.0, 0.0])\n",
    "\n",
    "mu0, sigma0 = torch.zeros(2) + delta_mu, torch.eye(2) * 0.3\n",
    "R0 = torch.distributions.MultivariateNormal(loc=mu0, covariance_matrix=sigma0)\n",
    "\n",
    "r = 2.0\n",
    "mu11, sigma11 = torch.tensor([0.0, 2.0]) * r + delta_mu, torch.eye(2) * 0.1\n",
    "mu12, sigma12 = torch.tensor([-1.5, -1.0]) * r + delta_mu, torch.eye(2) * 0.1\n",
    "mu13, sigma13 = torch.tensor([1.5, -1.0]) * r + delta_mu, torch.eye(2) * 0.1\n",
    "component_distribution = torch.distributions.MultivariateNormal(\n",
    "    loc=torch.stack([mu11, mu12, mu13], dim=0), \n",
    "    covariance_matrix=torch.stack([sigma11, sigma12, sigma13], dim=0)\n",
    ")\n",
    "mixture_distribution = torch.distributions.Categorical(probs=torch.tensor([1/3, 1/3, 1/3]))\n",
    "R1 = torch.distributions.MixtureSameFamily(\n",
    "    mixture_distribution=mixture_distribution, \n",
    "    component_distribution=component_distribution\n",
    ")\n",
    "\n",
    "n_samples = 100\n",
    "x0 = R0.sample((n_samples,))\n",
    "x1 = R1.sample((n_samples,))\n",
    "\n",
    "ot_plan = ot_solver.solve(x0, x1)\n",
    "\n",
    "\n",
    "plt.figure(figsize=(6, 5))\n",
    "plt.imshow(ot_plan.cpu(), aspect='auto', cmap='viridis')\n",
    "plt.colorbar(label='OT Plan Value')\n",
    "plt.title('Optimal Transport Plan Heatmap')\n",
    "plt.xlabel('Target Sample Index')\n",
    "plt.ylabel('Source Sample Index')\n",
    "plt.show()\n",
    "\n",
    "\n",
    "\n",
    "# Ensure x0, x1, and ot_plan are on CPU and convert to numpy arrays\n",
    "x0_np = x0.cpu().numpy() if hasattr(x0, \"cpu\") else x0.numpy()\n",
    "x1_np = x1.cpu().numpy() if hasattr(x1, \"cpu\") else x1.numpy()\n",
    "ot_plan_np = ot_plan.cpu().numpy() if hasattr(ot_plan, \"cpu\") else ot_plan.numpy()\n",
    "\n",
    "# (Assume x0_np, x1_np, ot_plan_np are already CPU NumPy arrays.)\n",
    "n = x0_np.shape[0]\n",
    "\n",
    "plt.figure(figsize=(8, 7))\n",
    "ax = plt.gca()\n",
    "ax.scatter(x0_np[:, 0], x0_np[:, 1],\n",
    "           color='blue', label='Source', alpha=0.7)\n",
    "ax.scatter(x1_np[:, 0], x1_np[:, 1],\n",
    "           color='red',  label='Target', alpha=0.7)\n",
    "\n",
    "# parameters\n",
    "max_plan = ot_plan_np.max()\n",
    "threshold = 0.01 * max_plan\n",
    "\n",
    "cmap = plt.get_cmap('coolwarm')\n",
    "norm = Normalize(vmin=0, vmax=1)\n",
    "\n",
    "segments = []\n",
    "colors = []\n",
    "widths = []\n",
    "\n",
    "# how many sub‐segments per arrow\n",
    "n_sub = 10\n",
    "\n",
    "for i in range(n):\n",
    "    for j in range(n):\n",
    "        w = ot_plan_np[i, j]\n",
    "        if w <= threshold:\n",
    "            continue\n",
    "\n",
    "        start = x0_np[i]\n",
    "        end = x1_np[j]\n",
    "        # generate equally‐spaced points along the line\n",
    "        pts = np.linspace(start, end, n_sub + 1)\n",
    "\n",
    "        # line thickness & overall alpha from flow magnitude\n",
    "        flow = w / max_plan\n",
    "        lw = 0.5 + 2.5 * flow\n",
    "        alpha = flow * 0.3\n",
    "\n",
    "        # build each tiny segment\n",
    "        for k in range(n_sub):\n",
    "            seg_t = [pts[k], pts[k + 1]]\n",
    "            t = k / n_sub  # 0 at source, 1 at target\n",
    "            # pick color from cmap and inject our α\n",
    "            r, g, b, _ = cmap(norm(t))\n",
    "            colors.append((r, g, b, alpha))\n",
    "            widths.append(lw)\n",
    "            segments.append(seg_t)\n",
    "\n",
    "# assemble the LineCollection\n",
    "lc = LineCollection(segments,\n",
    "                    colors=colors,\n",
    "                    linewidths=widths,\n",
    "                    zorder=0)\n",
    "ax.add_collection(lc)\n",
    "\n",
    "# add colorbar for “time” scale\n",
    "sm = cm.ScalarMappable(norm=norm, cmap=cmap)\n",
    "sm.set_array(np.linspace(0, 1, 100))   # dummy array\n",
    "cbar = plt.colorbar(sm, ax=ax, fraction=0.046, pad=0.04)\n",
    "cbar.set_label('Implicit Time (0=Source, 1=Target)')\n",
    "\n",
    "ax.set(title='Probability Flow Induced by Entropic OT Plan',\n",
    "       xlabel='x', ylabel='y')\n",
    "ax.legend()\n",
    "ax.grid(True)\n",
    "plt.tight_layout()\n",
    "plt.show()\n"
   ]
  },
  {
   "cell_type": "markdown",
   "id": "7f74787f",
   "metadata": {},
   "source": [
    "# Synthetic Experiments"
   ]
  },
  {
   "cell_type": "markdown",
   "id": "6c1ea67f",
   "metadata": {},
   "source": [
    "## Simple 2d example"
   ]
  },
  {
   "cell_type": "code",
   "execution_count": 28,
   "id": "836ef311",
   "metadata": {},
   "outputs": [
    {
     "data": {
      "application/vnd.plotly.v1+json": {
       "config": {
        "plotlyServerURL": "https://plot.ly"
       },
       "data": [
        {
         "hovertemplate": "x=%{x}<br>y=%{y}<br>time=%{marker.color}<extra></extra>",
         "legendgroup": "",
         "marker": {
          "color": {
           "bdata": "AAAAAAAAAAAAAAAAAAAAAAAAAAAAAAAAAAAAAAAAAAAAAAAAAAAAAAAAAAAAAAAAAAAAAAAAAAAAAAAAAAAAAAAAAAAAAAAAAAAAAAAAAAAAAAAAAAAAAAAAAAAAAAAAAAAAAAAAAAAAAAAAAAAAAAAAAAAAAAAAAAAAAAAAAAAAAAAAAAAAAAAAAAAAAAAAAAAAAAAAAAAAAAAAAAAAAAAAAAAAAAAAAAAAAAAAAAAAAAAAAAAAAAAAAAAAAAAAAAAAAAAAAAAAAAAAAAAAAAAAAAAAAAAAAAAAAAAAAAAAAAAAAAAAAAAAAAAAAAAAAAAAAAAAAAAAAAAAAAAAAAAAAAAAAAAAAAAAAAAAAAAAAAAAAAAAAAAAAAAAAAAAAAAAAAAAAAAAAAAAAAAAAAAAAAAAAAAAAAAAAAAAAAAAAAAAAAAAAAAAAAAAAAAAAAAAAAAAAAAAAAAAAAAAAAAAAAAAAAAAAAAAAAAAAAAAAAAAAAAAAAAAAAAAAAAAAAAAAAAAAAAAAAAAAAAAAAAAAAAAAAAAAAAAAAAAAAAAAAAAAAAAAAAAAAAAAAAAAAAAAAAAAAAAAAAAAAAAAAAAAAAAAAAAAAAAAAAAAAAAAAAAAAAAAAAAAAAAAAAAAAAAAAAAAAAAAAAAAAAAAAAAAAAAAAAAAAAAAAAAAAAAAAAAAAAAAAAAAAAAAAAAAAAAAAAAAAAAAAAAAAAAAAAAAAAAAAAAAAAAAAAAAAAAAAAAAAAAAAAAAAAAAAAAAAAAAAAAAAAAAAAAAAAAAAAAAAAAAAAAAAAAAAAAAAAAAAAAAAAAAAAAAAAAAAAAAAAAAAAAAAAAAAAAAAAAAAAAAAAAAAAAAAAAAAAAAAAAAAAAAAAAAAAAAAAAAAAAAAAAAAAAAAAAAAAAAAAAAAAAAAAAAAAAAAAAAAAAAAAAAAAAAAAAAAAAAAAAAAAAAAAAAAAAAAAAAAAAAAAAAAAAAAAAAAAAAAAAAAAAAAAAAAAAAAAAAAAAAAAAAAAAAAAAAAAAAAAAAAAAAAAAAAAAAAAAAAAAAAAAAAAAAAAAAAAAAAAAAAAAAAAAAAAAAAAAAAAAAAAAAAAAAAAAAAAAAAAAAAAAAAAAAAAAAAAAAAAAAAAAAAAAAAAAAAAAAAAAAAAAAAAAAAAAAAAAAAAAAAAAAAAAAAAAAAAAAAAAAAAAAAAAAAAAAAAAAAAAAAAAAAAAAAAAAAAAAAAAAAAAAAAAAAAAAAAAAAAAAAAAAAAAAAAAAAAAAAAAAAAAAAAAAAAAAAAAAAAAAAAAAAAAAAAAAAAAAAAAAAAAAAAAAAAAAAAAAAEBAQEBAQEBAQEBAQEBAQEBAQEBAQEBAQEBAQEBAQEBAQEBAQEBAQEBAQEBAQEBAQEBAQEBAQEBAQEBAQEBAQEBAQEBAQEBAQEBAQEBAQEBAQEBAQEBAQEBAQEBAQEBAQEBAQEBAQEBAQEBAQEBAQEBAQEBAQEBAQEBAQEBAQEBAQEBAQEBAQEBAQEBAQEBAQEBAQEBAQEBAQEBAQEBAQEBAQEBAQEBAQEBAQEBAQEBAQEBAQEBAQEBAQEBAQEBAQEBAQEBAQEBAQEBAQEBAQEBAQEBAQEBAQEBAQEBAQEBAQEBAQEBAQEBAQEBAQEBAQEBAQEBAQEBAQEBAQEBAQEBAQEBAQEBAQEBAQEBAQEBAQEBAQEBAQEBAQEBAQEBAQEBAQEBAQEBAQEBAQEBAQEBAQEBAQEBAQEBAQEBAQEBAQEBAQEBAQEBAQEBAQEBAQEBAQEBAQEBAQEBAQEBAQEBAQEBAQEBAQEBAQEBAQEBAQEBAQEBAQEBAQEBAQEBAQEBAQEBAQEBAQEBAQEBAQEBAQEBAQEBAQEBAQEBAQEBAQEBAQEBAQEBAQEBAQEBAQEBAQEBAQEBAQEBAQEBAQEBAQEBAQEBAQEBAQEBAQEBAQEBAQEBAQEBAQEBAQEBAQEBAQEBAQEBAQEBAQEBAQEBAQEBAQEBAQEBAQEBAQEBAQEBAQEBAQEBAQEBAQEBAQEBAQEBAQEBAQEBAQEBAQEBAQEBAQEBAQEBAQEBAQEBAQEBAQEBAQEBAQEBAQEBAQEBAQEBAQEBAQEBAQEBAQEBAQEBAQEBAQEBAQEBAQEBAQEBAQEBAQEBAQEBAQEBAQEBAQEBAQEBAQEBAQEBAQEBAQEBAQEBAQEBAQEBAQEBAQEBAQEBAQEBAQEBAQEBAQEBAQEBAQEBAQEBAQEBAQEBAQEBAQEBAQEBAQEBAQEBAQEBAQEBAQEBAQEBAQEBAQEBAQEBAQEBAQEBAQEBAQEBAQEBAQEBAQEBAQEBAQEBAQEBAQEBAQEBAQEBAQEBAQEBAQEBAQEBAQEBAQEBAQEBAQEBAQEBAQEBAQEBAQEBAQEBAQEBAQEBAQEBAQEBAQEBAQEBAQEBAQEBAQEBAQEBAQEBAQEBAQEBAQEBAQEBAQEBAQEBAQEBAQEBAQEBAQEBAQEBAQEBAQEBAQEBAQEBAQEBAQEBAQEBAQEBAQEBAQEBAQEBAQEBAQEBAQEBAQEBAQEBAQEBAQEBAQEBAQEBAQEBAQEBAQEBAQEBAQEBAQEBAQEBAQEBAQEBAQEBAQEBAQEBAQEBAQEBAQEBAQEBAQEBAQEBAQEBAQEBAQEBAQEBAQEBAQE=",
           "dtype": "i1"
          },
          "coloraxis": "coloraxis",
          "symbol": "circle"
         },
         "mode": "markers",
         "name": "",
         "showlegend": false,
         "type": "scattergl",
         "x": {
          "bdata": "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",
          "dtype": "f8"
         },
         "xaxis": "x",
         "y": {
          "bdata": "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",
          "dtype": "f8"
         },
         "yaxis": "y"
        }
       ],
       "layout": {
        "coloraxis": {
         "colorbar": {
          "title": {
           "text": "time"
          }
         },
         "colorscale": [
          [
           0,
           "#0d0887"
          ],
          [
           0.1111111111111111,
           "#46039f"
          ],
          [
           0.2222222222222222,
           "#7201a8"
          ],
          [
           0.3333333333333333,
           "#9c179e"
          ],
          [
           0.4444444444444444,
           "#bd3786"
          ],
          [
           0.5555555555555556,
           "#d8576b"
          ],
          [
           0.6666666666666666,
           "#ed7953"
          ],
          [
           0.7777777777777778,
           "#fb9f3a"
          ],
          [
           0.8888888888888888,
           "#fdca26"
          ],
          [
           1,
           "#f0f921"
          ]
         ]
        },
        "legend": {
         "tracegroupgap": 0
        },
        "margin": {
         "t": 60
        },
        "template": {
         "data": {
          "bar": [
           {
            "error_x": {
             "color": "#2a3f5f"
            },
            "error_y": {
             "color": "#2a3f5f"
            },
            "marker": {
             "line": {
              "color": "#E5ECF6",
              "width": 0.5
             },
             "pattern": {
              "fillmode": "overlay",
              "size": 10,
              "solidity": 0.2
             }
            },
            "type": "bar"
           }
          ],
          "barpolar": [
           {
            "marker": {
             "line": {
              "color": "#E5ECF6",
              "width": 0.5
             },
             "pattern": {
              "fillmode": "overlay",
              "size": 10,
              "solidity": 0.2
             }
            },
            "type": "barpolar"
           }
          ],
          "carpet": [
           {
            "aaxis": {
             "endlinecolor": "#2a3f5f",
             "gridcolor": "white",
             "linecolor": "white",
             "minorgridcolor": "white",
             "startlinecolor": "#2a3f5f"
            },
            "baxis": {
             "endlinecolor": "#2a3f5f",
             "gridcolor": "white",
             "linecolor": "white",
             "minorgridcolor": "white",
             "startlinecolor": "#2a3f5f"
            },
            "type": "carpet"
           }
          ],
          "choropleth": [
           {
            "colorbar": {
             "outlinewidth": 0,
             "ticks": ""
            },
            "type": "choropleth"
           }
          ],
          "contour": [
           {
            "colorbar": {
             "outlinewidth": 0,
             "ticks": ""
            },
            "colorscale": [
             [
              0,
              "#0d0887"
             ],
             [
              0.1111111111111111,
              "#46039f"
             ],
             [
              0.2222222222222222,
              "#7201a8"
             ],
             [
              0.3333333333333333,
              "#9c179e"
             ],
             [
              0.4444444444444444,
              "#bd3786"
             ],
             [
              0.5555555555555556,
              "#d8576b"
             ],
             [
              0.6666666666666666,
              "#ed7953"
             ],
             [
              0.7777777777777778,
              "#fb9f3a"
             ],
             [
              0.8888888888888888,
              "#fdca26"
             ],
             [
              1,
              "#f0f921"
             ]
            ],
            "type": "contour"
           }
          ],
          "contourcarpet": [
           {
            "colorbar": {
             "outlinewidth": 0,
             "ticks": ""
            },
            "type": "contourcarpet"
           }
          ],
          "heatmap": [
           {
            "colorbar": {
             "outlinewidth": 0,
             "ticks": ""
            },
            "colorscale": [
             [
              0,
              "#0d0887"
             ],
             [
              0.1111111111111111,
              "#46039f"
             ],
             [
              0.2222222222222222,
              "#7201a8"
             ],
             [
              0.3333333333333333,
              "#9c179e"
             ],
             [
              0.4444444444444444,
              "#bd3786"
             ],
             [
              0.5555555555555556,
              "#d8576b"
             ],
             [
              0.6666666666666666,
              "#ed7953"
             ],
             [
              0.7777777777777778,
              "#fb9f3a"
             ],
             [
              0.8888888888888888,
              "#fdca26"
             ],
             [
              1,
              "#f0f921"
             ]
            ],
            "type": "heatmap"
           }
          ],
          "histogram": [
           {
            "marker": {
             "pattern": {
              "fillmode": "overlay",
              "size": 10,
              "solidity": 0.2
             }
            },
            "type": "histogram"
           }
          ],
          "histogram2d": [
           {
            "colorbar": {
             "outlinewidth": 0,
             "ticks": ""
            },
            "colorscale": [
             [
              0,
              "#0d0887"
             ],
             [
              0.1111111111111111,
              "#46039f"
             ],
             [
              0.2222222222222222,
              "#7201a8"
             ],
             [
              0.3333333333333333,
              "#9c179e"
             ],
             [
              0.4444444444444444,
              "#bd3786"
             ],
             [
              0.5555555555555556,
              "#d8576b"
             ],
             [
              0.6666666666666666,
              "#ed7953"
             ],
             [
              0.7777777777777778,
              "#fb9f3a"
             ],
             [
              0.8888888888888888,
              "#fdca26"
             ],
             [
              1,
              "#f0f921"
             ]
            ],
            "type": "histogram2d"
           }
          ],
          "histogram2dcontour": [
           {
            "colorbar": {
             "outlinewidth": 0,
             "ticks": ""
            },
            "colorscale": [
             [
              0,
              "#0d0887"
             ],
             [
              0.1111111111111111,
              "#46039f"
             ],
             [
              0.2222222222222222,
              "#7201a8"
             ],
             [
              0.3333333333333333,
              "#9c179e"
             ],
             [
              0.4444444444444444,
              "#bd3786"
             ],
             [
              0.5555555555555556,
              "#d8576b"
             ],
             [
              0.6666666666666666,
              "#ed7953"
             ],
             [
              0.7777777777777778,
              "#fb9f3a"
             ],
             [
              0.8888888888888888,
              "#fdca26"
             ],
             [
              1,
              "#f0f921"
             ]
            ],
            "type": "histogram2dcontour"
           }
          ],
          "mesh3d": [
           {
            "colorbar": {
             "outlinewidth": 0,
             "ticks": ""
            },
            "type": "mesh3d"
           }
          ],
          "parcoords": [
           {
            "line": {
             "colorbar": {
              "outlinewidth": 0,
              "ticks": ""
             }
            },
            "type": "parcoords"
           }
          ],
          "pie": [
           {
            "automargin": true,
            "type": "pie"
           }
          ],
          "scatter": [
           {
            "fillpattern": {
             "fillmode": "overlay",
             "size": 10,
             "solidity": 0.2
            },
            "type": "scatter"
           }
          ],
          "scatter3d": [
           {
            "line": {
             "colorbar": {
              "outlinewidth": 0,
              "ticks": ""
             }
            },
            "marker": {
             "colorbar": {
              "outlinewidth": 0,
              "ticks": ""
             }
            },
            "type": "scatter3d"
           }
          ],
          "scattercarpet": [
           {
            "marker": {
             "colorbar": {
              "outlinewidth": 0,
              "ticks": ""
             }
            },
            "type": "scattercarpet"
           }
          ],
          "scattergeo": [
           {
            "marker": {
             "colorbar": {
              "outlinewidth": 0,
              "ticks": ""
             }
            },
            "type": "scattergeo"
           }
          ],
          "scattergl": [
           {
            "marker": {
             "colorbar": {
              "outlinewidth": 0,
              "ticks": ""
             }
            },
            "type": "scattergl"
           }
          ],
          "scattermap": [
           {
            "marker": {
             "colorbar": {
              "outlinewidth": 0,
              "ticks": ""
             }
            },
            "type": "scattermap"
           }
          ],
          "scattermapbox": [
           {
            "marker": {
             "colorbar": {
              "outlinewidth": 0,
              "ticks": ""
             }
            },
            "type": "scattermapbox"
           }
          ],
          "scatterpolar": [
           {
            "marker": {
             "colorbar": {
              "outlinewidth": 0,
              "ticks": ""
             }
            },
            "type": "scatterpolar"
           }
          ],
          "scatterpolargl": [
           {
            "marker": {
             "colorbar": {
              "outlinewidth": 0,
              "ticks": ""
             }
            },
            "type": "scatterpolargl"
           }
          ],
          "scatterternary": [
           {
            "marker": {
             "colorbar": {
              "outlinewidth": 0,
              "ticks": ""
             }
            },
            "type": "scatterternary"
           }
          ],
          "surface": [
           {
            "colorbar": {
             "outlinewidth": 0,
             "ticks": ""
            },
            "colorscale": [
             [
              0,
              "#0d0887"
             ],
             [
              0.1111111111111111,
              "#46039f"
             ],
             [
              0.2222222222222222,
              "#7201a8"
             ],
             [
              0.3333333333333333,
              "#9c179e"
             ],
             [
              0.4444444444444444,
              "#bd3786"
             ],
             [
              0.5555555555555556,
              "#d8576b"
             ],
             [
              0.6666666666666666,
              "#ed7953"
             ],
             [
              0.7777777777777778,
              "#fb9f3a"
             ],
             [
              0.8888888888888888,
              "#fdca26"
             ],
             [
              1,
              "#f0f921"
             ]
            ],
            "type": "surface"
           }
          ],
          "table": [
           {
            "cells": {
             "fill": {
              "color": "#EBF0F8"
             },
             "line": {
              "color": "white"
             }
            },
            "header": {
             "fill": {
              "color": "#C8D4E3"
             },
             "line": {
              "color": "white"
             }
            },
            "type": "table"
           }
          ]
         },
         "layout": {
          "annotationdefaults": {
           "arrowcolor": "#2a3f5f",
           "arrowhead": 0,
           "arrowwidth": 1
          },
          "autotypenumbers": "strict",
          "coloraxis": {
           "colorbar": {
            "outlinewidth": 0,
            "ticks": ""
           }
          },
          "colorscale": {
           "diverging": [
            [
             0,
             "#8e0152"
            ],
            [
             0.1,
             "#c51b7d"
            ],
            [
             0.2,
             "#de77ae"
            ],
            [
             0.3,
             "#f1b6da"
            ],
            [
             0.4,
             "#fde0ef"
            ],
            [
             0.5,
             "#f7f7f7"
            ],
            [
             0.6,
             "#e6f5d0"
            ],
            [
             0.7,
             "#b8e186"
            ],
            [
             0.8,
             "#7fbc41"
            ],
            [
             0.9,
             "#4d9221"
            ],
            [
             1,
             "#276419"
            ]
           ],
           "sequential": [
            [
             0,
             "#0d0887"
            ],
            [
             0.1111111111111111,
             "#46039f"
            ],
            [
             0.2222222222222222,
             "#7201a8"
            ],
            [
             0.3333333333333333,
             "#9c179e"
            ],
            [
             0.4444444444444444,
             "#bd3786"
            ],
            [
             0.5555555555555556,
             "#d8576b"
            ],
            [
             0.6666666666666666,
             "#ed7953"
            ],
            [
             0.7777777777777778,
             "#fb9f3a"
            ],
            [
             0.8888888888888888,
             "#fdca26"
            ],
            [
             1,
             "#f0f921"
            ]
           ],
           "sequentialminus": [
            [
             0,
             "#0d0887"
            ],
            [
             0.1111111111111111,
             "#46039f"
            ],
            [
             0.2222222222222222,
             "#7201a8"
            ],
            [
             0.3333333333333333,
             "#9c179e"
            ],
            [
             0.4444444444444444,
             "#bd3786"
            ],
            [
             0.5555555555555556,
             "#d8576b"
            ],
            [
             0.6666666666666666,
             "#ed7953"
            ],
            [
             0.7777777777777778,
             "#fb9f3a"
            ],
            [
             0.8888888888888888,
             "#fdca26"
            ],
            [
             1,
             "#f0f921"
            ]
           ]
          },
          "colorway": [
           "#636efa",
           "#EF553B",
           "#00cc96",
           "#ab63fa",
           "#FFA15A",
           "#19d3f3",
           "#FF6692",
           "#B6E880",
           "#FF97FF",
           "#FECB52"
          ],
          "font": {
           "color": "#2a3f5f"
          },
          "geo": {
           "bgcolor": "white",
           "lakecolor": "white",
           "landcolor": "#E5ECF6",
           "showlakes": true,
           "showland": true,
           "subunitcolor": "white"
          },
          "hoverlabel": {
           "align": "left"
          },
          "hovermode": "closest",
          "mapbox": {
           "style": "light"
          },
          "paper_bgcolor": "white",
          "plot_bgcolor": "#E5ECF6",
          "polar": {
           "angularaxis": {
            "gridcolor": "white",
            "linecolor": "white",
            "ticks": ""
           },
           "bgcolor": "#E5ECF6",
           "radialaxis": {
            "gridcolor": "white",
            "linecolor": "white",
            "ticks": ""
           }
          },
          "scene": {
           "xaxis": {
            "backgroundcolor": "#E5ECF6",
            "gridcolor": "white",
            "gridwidth": 2,
            "linecolor": "white",
            "showbackground": true,
            "ticks": "",
            "zerolinecolor": "white"
           },
           "yaxis": {
            "backgroundcolor": "#E5ECF6",
            "gridcolor": "white",
            "gridwidth": 2,
            "linecolor": "white",
            "showbackground": true,
            "ticks": "",
            "zerolinecolor": "white"
           },
           "zaxis": {
            "backgroundcolor": "#E5ECF6",
            "gridcolor": "white",
            "gridwidth": 2,
            "linecolor": "white",
            "showbackground": true,
            "ticks": "",
            "zerolinecolor": "white"
           }
          },
          "shapedefaults": {
           "line": {
            "color": "#2a3f5f"
           }
          },
          "ternary": {
           "aaxis": {
            "gridcolor": "white",
            "linecolor": "white",
            "ticks": ""
           },
           "baxis": {
            "gridcolor": "white",
            "linecolor": "white",
            "ticks": ""
           },
           "bgcolor": "#E5ECF6",
           "caxis": {
            "gridcolor": "white",
            "linecolor": "white",
            "ticks": ""
           }
          },
          "title": {
           "x": 0.05
          },
          "xaxis": {
           "automargin": true,
           "gridcolor": "white",
           "linecolor": "white",
           "ticks": "",
           "title": {
            "standoff": 15
           },
           "zerolinecolor": "white",
           "zerolinewidth": 2
          },
          "yaxis": {
           "automargin": true,
           "gridcolor": "white",
           "linecolor": "white",
           "ticks": "",
           "title": {
            "standoff": 15
           },
           "zerolinecolor": "white",
           "zerolinewidth": 2
          }
         }
        },
        "xaxis": {
         "anchor": "y",
         "domain": [
          0,
          1
         ],
         "title": {
          "text": "x"
         }
        },
        "yaxis": {
         "anchor": "x",
         "domain": [
          0,
          1
         ],
         "title": {
          "text": "y"
         }
        }
       }
      }
     },
     "metadata": {},
     "output_type": "display_data"
    }
   ],
   "source": [
    "n = 1000\n",
    "x0 = Moons().sample((n,))\n",
    "x1 = EightGaussians().sample((n,))\n",
    "df_x0 = pd.DataFrame(\n",
    "    {\n",
    "        'x': x0[:, 0], \n",
    "        'y': x0[:, 1],\n",
    "        'time': 0,\n",
    "    }\n",
    ")\n",
    "df_x1 = pd.DataFrame(\n",
    "    {\n",
    "        'x': x1[:, 0], \n",
    "        'y': x1[:, 1],\n",
    "        'time': 1,\n",
    "    }\n",
    ")\n",
    "df = pd.concat([df_x0, df_x1])\n",
    "\n",
    "px.scatter(df, x='x', y='y', color='time')"
   ]
  },
  {
   "cell_type": "code",
   "execution_count": 56,
   "id": "4271736b",
   "metadata": {},
   "outputs": [
    {
     "name": "stderr",
     "output_type": "stream",
     "text": [
      "Epochs: 100%|██████████| 50/50 [00:55<00:00,  1.11s/it, loss=0.000142]\n"
     ]
    },
    {
     "data": {
      "image/png": "[encoded data removed]",
      "text/plain": [
       "<Figure size 800x400 with 1 Axes>"
      ]
     },
     "metadata": {},
     "output_type": "display_data"
    }
   ],
   "source": [
    "sigma = 0.0\n",
    "c = 2.0\n",
    "A = torch.tensor([\n",
    "    [0.0, 1.0],\n",
    "    [1.0, 0.0],\n",
    "])\n",
    "D = torch.diag_embed(\n",
    "    torch.sum(A, dim=-1),\n",
    ")\n",
    "L = D - A\n",
    "sde = HeatBMTSDE(L=L, c=c, sigma=sigma)\n",
    "\n",
    "x0_distribution = EightGaussians()\n",
    "x1_distribution = Moons() \n",
    "dataset = MatchingDistributionDataset(\n",
    "    x0_distribution, \n",
    "    x1_distribution, \n",
    ")\n",
    "\n",
    "ot_solver = OTSolver(sde=sde, epsilon=0.0)\n",
    "batch_size = 512\n",
    "num_batches = 20 * 512 // batch_size\n",
    "batch_sampler = OTBatchSampler(\n",
    "    dataset=dataset, \n",
    "    ot_solver=ot_solver, \n",
    "    batch_size=batch_size, \n",
    "    num_batches=num_batches,\n",
    "    batchwise_ot=False, \n",
    ")\n",
    "train_data_loader = MatchingDataLoader(\n",
    "    dataset=dataset, \n",
    "    batch_sampler=batch_sampler,\n",
    ")\n",
    "\n",
    "model = ResidualNN(data_dim=2)\n",
    "\n",
    "num_epochs = 1000 // num_batches\n",
    "history = fit(\n",
    "    sde=sde, \n",
    "    model=model, \n",
    "    train_data_loader=train_data_loader, \n",
    "    num_epochs=num_epochs,\n",
    "\n",
    ")\n",
    "per_batch_losses = history['loss']\n",
    "\n",
    "\n",
    "# Plot per-batch loss after training\n",
    "plt.figure(figsize=(8, 4))\n",
    "plt.plot(per_batch_losses, label=\"Per-batch loss\")\n",
    "plt.xlabel(\"Batch\")\n",
    "plt.ylabel(\"Loss\")\n",
    "plt.title(\"Per-batch Loss During Training\")\n",
    "plt.legend()\n",
    "plt.tight_layout()\n",
    "plt.show()"
   ]
  },
  {
   "cell_type": "code",
   "execution_count": 57,
   "id": "aa9b43ea",
   "metadata": {},
   "outputs": [
    {
     "ename": "AttributeError",
     "evalue": "'ResidualNN' object has no attribute 'device'",
     "output_type": "error",
     "traceback": [
      "\u001b[0;31m---------------------------------------------------------------------------\u001b[0m",
      "\u001b[0;31mAttributeError\u001b[0m                            Traceback (most recent call last)",
      "Cell \u001b[0;32mIn[57], line 2\u001b[0m\n\u001b[1;32m      1\u001b[0m \u001b[38;5;28;01mwith\u001b[39;00m torch\u001b[38;5;241m.\u001b[39minference_mode():\n\u001b[0;32m----> 2\u001b[0m     model_control \u001b[38;5;241m=\u001b[39m \u001b[43mModelControl\u001b[49m\u001b[43m(\u001b[49m\u001b[43mmodel\u001b[49m\u001b[38;5;241;43m=\u001b[39;49m\u001b[43mmodel\u001b[49m\u001b[43m)\u001b[49m\n\u001b[1;32m      3\u001b[0m     sde_solver \u001b[38;5;241m=\u001b[39m EulerMaruyamaSolver(sde\u001b[38;5;241m=\u001b[39msde, n\u001b[38;5;241m=\u001b[39m\u001b[38;5;241m1000\u001b[39m)\n\u001b[1;32m      4\u001b[0m     n \u001b[38;5;241m=\u001b[39m \u001b[38;5;241m1024\u001b[39m\n",
      "Cell \u001b[0;32mIn[7], line 217\u001b[0m, in \u001b[0;36mModelControl.__init__\u001b[0;34m(self, model)\u001b[0m\n\u001b[1;32m    216\u001b[0m \u001b[38;5;28;01mdef\u001b[39;00m\u001b[38;5;250m \u001b[39m\u001b[38;5;21m__init__\u001b[39m(\u001b[38;5;28mself\u001b[39m, model: torch\u001b[38;5;241m.\u001b[39mnn\u001b[38;5;241m.\u001b[39mModule):\n\u001b[0;32m--> 217\u001b[0m     \u001b[38;5;28msuper\u001b[39m()\u001b[38;5;241m.\u001b[39m\u001b[38;5;21m__init__\u001b[39m(device\u001b[38;5;241m=\u001b[39m\u001b[43mmodel\u001b[49m\u001b[38;5;241;43m.\u001b[39;49m\u001b[43mdevice\u001b[49m)\n\u001b[1;32m    218\u001b[0m     \u001b[38;5;28mself\u001b[39m\u001b[38;5;241m.\u001b[39mmodel \u001b[38;5;241m=\u001b[39m model\n",
      "File \u001b[0;32m~/topological-flow-matching/topological-flow-matching/lib/python3.10/site-packages/torch/nn/modules/module.py:1940\u001b[0m, in \u001b[0;36mModule.__getattr__\u001b[0;34m(self, name)\u001b[0m\n\u001b[1;32m   1938\u001b[0m     \u001b[38;5;28;01mif\u001b[39;00m name \u001b[38;5;129;01min\u001b[39;00m modules:\n\u001b[1;32m   1939\u001b[0m         \u001b[38;5;28;01mreturn\u001b[39;00m modules[name]\n\u001b[0;32m-> 1940\u001b[0m \u001b[38;5;28;01mraise\u001b[39;00m \u001b[38;5;167;01mAttributeError\u001b[39;00m(\n\u001b[1;32m   1941\u001b[0m     \u001b[38;5;124mf\u001b[39m\u001b[38;5;124m\"\u001b[39m\u001b[38;5;124m'\u001b[39m\u001b[38;5;132;01m{\u001b[39;00m\u001b[38;5;28mtype\u001b[39m(\u001b[38;5;28mself\u001b[39m)\u001b[38;5;241m.\u001b[39m\u001b[38;5;18m__name__\u001b[39m\u001b[38;5;132;01m}\u001b[39;00m\u001b[38;5;124m'\u001b[39m\u001b[38;5;124m object has no attribute \u001b[39m\u001b[38;5;124m'\u001b[39m\u001b[38;5;132;01m{\u001b[39;00mname\u001b[38;5;132;01m}\u001b[39;00m\u001b[38;5;124m'\u001b[39m\u001b[38;5;124m\"\u001b[39m\n\u001b[1;32m   1942\u001b[0m )\n",
      "\u001b[0;31mAttributeError\u001b[0m: 'ResidualNN' object has no attribute 'device'"
     ]
    }
   ],
   "source": [
    "with torch.inference_mode():\n",
    "    model_control = ModelControl(model=model)\n",
    "    sde_solver = EulerMaruyamaSolver(sde=sde, n=1000)\n",
    "    n = 1024\n",
    "    x0s_test = x0_distribution.sample((n,))\n",
    "    x1s_test = x1_distribution.sample((n,))\n",
    "\n",
    "    xts, ts = sde_solver.sample_path(x0s_test, control=model_control)\n",
    "\n",
    "\n",
    "# Assume xts shape: [N, T, D] or [T, D] if single batch\n",
    "xts_np = xts.detach().cpu().numpy()\n",
    "ts_np = ts.detach().cpu().numpy()\n",
    "\n",
    "# Ensure shape is [N, T, D]\n",
    "if xts_np.ndim == 2:\n",
    "    xts_np = xts_np[None, ...]  # [1, T, D]\n",
    "\n",
    "N, T, D = xts_np.shape\n",
    "assert D == 2, \"D must be 2 for 2D plotting\"\n",
    "\n",
    "# Prepare segments for LineCollection: each path is (T, 2), segments are (T-1, 2, 2)\n",
    "segments = []\n",
    "colors = []\n",
    "norm = plt.Normalize(ts_np.min(), ts_np.max())\n",
    "# Use a blue-to-red colormap\n",
    "cmap = plt.get_cmap('coolwarm')  # blue (low) to red (high)\n",
    "\n",
    "# Use a single alpha value for all lines\n",
    "global_alpha = 0.02\n",
    "\n",
    "for i in range(N):\n",
    "    points = xts_np[i, :, :2]\n",
    "    segs = np.stack([points[:-1], points[1:]], axis=1)  # (T-1, 2, 2)\n",
    "    segments.append(segs)\n",
    "    # Color for each segment (time-varying colormap, fixed alpha)\n",
    "    t_mid = (ts_np[:-1] + ts_np[1:]) / 2\n",
    "    seg_colors = cmap(norm(t_mid))\n",
    "    seg_colors[:, -1] = global_alpha  # Set the same alpha for all segments\n",
    "    colors.append(seg_colors)\n",
    "\n",
    "# Concatenate all segments and colors\n",
    "all_segments = np.concatenate(segments, axis=0)\n",
    "all_colors = np.concatenate(colors, axis=0)\n",
    "\n",
    "fig, ax = plt.subplots(figsize=(8, 6))\n",
    "lc = LineCollection(all_segments, colors=all_colors, linewidths=1)\n",
    "ax.add_collection(lc)\n",
    "\n",
    "# Add scatterplot of xmids, black markers\n",
    "x0s_test_np = x0s_test.detach().cpu().numpy()\n",
    "x1s_test_np = x1s_test.detach().cpu().numpy()\n",
    "x1s_pred_np = xts_np[:, -1]\n",
    "ax.scatter(x0s_test_np[:, 0], x0s_test_np[:, 1], color='blue', marker='o', s=10, alpha=0.3, label='R0')\n",
    "ax.scatter(x1s_test_np[:, 0], x1s_test_np[:, 1], color='red', marker='o', s=10, alpha=0.3, label='R1')\n",
    "ax.scatter(x1s_pred_np[:, 0], x1s_pred_np[:, 1], color='green', marker='o', s=10, alpha=0.3, label='Transported R0')\n",
    "ax.legend(loc='upper right')\n",
    "\n",
    "\n",
    "# Set axis limits\n",
    "all_x = xts_np[..., 0].ravel()\n",
    "all_y = xts_np[..., 1].ravel()\n",
    "ax.set_xlim(all_x.min(), all_x.max())\n",
    "ax.set_ylim(all_y.min(), all_y.max())\n",
    "\n",
    "ax.set_xlabel('x[0]')\n",
    "ax.set_ylabel('x[1]')\n",
    "ax.set_title('Sample Paths')\n",
    "\n",
    "# Colorbar for time\n",
    "sm = plt.cm.ScalarMappable(cmap=cmap, norm=norm)\n",
    "sm.set_array([])\n",
    "cbar = plt.colorbar(sm, ax=ax, label='Time')\n",
    "plt.show()\n"
   ]
  },
  {
   "cell_type": "markdown",
   "id": "edcc09a9",
   "metadata": {},
   "source": [
    "# Brain Connectome Experiment"
   ]
  },
  {
   "cell_type": "markdown",
   "id": "de5b2234",
   "metadata": {},
   "source": [
    "## Data download"
   ]
  },
  {
   "cell_type": "code",
   "execution_count": null,
   "id": "02656d6f",
   "metadata": {},
   "outputs": [],
   "source": []
  },
  {
   "cell_type": "markdown",
   "id": "e97ed56f",
   "metadata": {},
   "source": [
    "## Modelling"
   ]
  },
  {
   "cell_type": "code",
   "execution_count": 48,
   "id": "062ca6e6",
   "metadata": {},
   "outputs": [],
   "source": [
    "L, x0, x1, x0_train, x0_test, x1_train, x1_test = as_tensors(*load_brain_data())"
   ]
  },
  {
   "cell_type": "code",
   "execution_count": 57,
   "id": "9e5212fd",
   "metadata": {},
   "outputs": [
    {
     "data": {
      "text/plain": [
       "(tensor(-3.4276), tensor(-4.3403))"
      ]
     },
     "execution_count": 57,
     "metadata": {},
     "output_type": "execute_result"
    }
   ],
   "source": [
    "x0.min(), x1.min()"
   ]
  },
  {
   "cell_type": "code",
   "execution_count": null,
   "id": "3d07c12f",
   "metadata": {},
   "outputs": [
    {
     "name": "stderr",
     "output_type": "stream",
     "text": [
      "Epochs:   0%|          | 0/125 [00:00<?, ?it/s]"
     ]
    },
    {
     "ename": "",
     "evalue": "",
     "output_type": "error",
     "traceback": [
      "\u001b[1;31mThe Kernel crashed while executing code in the current cell or a previous cell. \n",
      "\u001b[1;31mPlease review the code in the cell(s) to identify a possible cause of the failure. \n",
      "\u001b[1;31mClick <a href='https://aka.ms/vscodeJupyterKernelCrash'>here</a> for more info. \n",
      "\u001b[1;31mView Jupyter <a href='command:jupyter.viewOutput'>log</a> for further details."
     ]
    }
   ],
   "source": [
    "c = 2.0\n",
    "sigma = 0.0\n",
    "sde = HeatBMTSDE(L=L, c=c, sigma=sigma)\n",
    "ot_solver = OTSolver(sde=sde, normalize_variance=False, epsilon=0.0)\n",
    "model = ResidualNN(data_dim=x0.shape[-1])\n",
    "num_timesteps = 1000\n",
    "time_sampler = DiscreteTimeSampler(UniformTimesteps(num_timesteps))\n",
    "dataset = MatchingTensorDataset(\n",
    "    x0=x0_train, \n",
    "    x1=x1_train, \n",
    "    time_sampler=time_sampler,\n",
    ")\n",
    "\n",
    "batch_size = 64\n",
    "num_batches = 20 * 512 // batch_size\n",
    "num_epochs = 20000 // num_batches \n",
    "lr = 0.0001\n",
    "batchwise_ot = True\n",
    "\n",
    "training_losses = train(\n",
    "    sde=sde, \n",
    "    ot_solver=ot_solver, \n",
    "    model=model, \n",
    "    dataset=dataset, \n",
    "    num_epochs=num_epochs, \n",
    "    batch_size=batch_size, \n",
    "    num_batches=num_batches, \n",
    "    lr=lr, \n",
    "    batchwise_ot=batchwise_ot,\n",
    ")\n",
    "px.line(training_losses)"
   ]
  },
  {
   "cell_type": "code",
   "execution_count": null,
   "id": "25bb5c68",
   "metadata": {},
   "outputs": [
    {
     "name": "stdout",
     "output_type": "stream",
     "text": [
      "Wasserstein-1 distance: 21.9974\n",
      "Wasserstein-2 distance: 15.6121\n"
     ]
    },
    {
     "data": {
      "application/vnd.plotly.v1+json": {
       "config": {
        "plotlyServerURL": "https://plot.ly"
       },
       "data": [
        {
         "hovertemplate": "x=%{x}<br>y=%{y}<br>signal=%{marker.color}<extra></extra>",
         "legendgroup": "",
         "marker": {
          "color": {
           "bdata": "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",
           "dtype": "f8"
          },
          "coloraxis": "coloraxis",
          "size": 6,
          "symbol": "circle"
         },
         "mode": "markers",
         "name": "",
         "orientation": "v",
         "showlegend": false,
         "type": "scatter",
         "x": {
          "bdata": "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",
          "dtype": "f8"
         },
         "xaxis": "x",
         "y": {
          "bdata": "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",
          "dtype": "f8"
         },
         "yaxis": "y"
        }
       ],
       "layout": {
        "coloraxis": {
         "colorbar": {
          "title": {
           "text": "signal"
          }
         },
         "colorscale": [
          [
           0,
           "#0d0887"
          ],
          [
           0.1111111111111111,
           "#46039f"
          ],
          [
           0.2222222222222222,
           "#7201a8"
          ],
          [
           0.3333333333333333,
           "#9c179e"
          ],
          [
           0.4444444444444444,
           "#bd3786"
          ],
          [
           0.5555555555555556,
           "#d8576b"
          ],
          [
           0.6666666666666666,
           "#ed7953"
          ],
          [
           0.7777777777777778,
           "#fb9f3a"
          ],
          [
           0.8888888888888888,
           "#fdca26"
          ],
          [
           1,
           "#f0f921"
          ]
         ]
        },
        "height": 400,
        "legend": {
         "tracegroupgap": 0
        },
        "margin": {
         "t": 60
        },
        "template": {
         "data": {
          "bar": [
           {
            "error_x": {
             "color": "#2a3f5f"
            },
            "error_y": {
             "color": "#2a3f5f"
            },
            "marker": {
             "line": {
              "color": "#E5ECF6",
              "width": 0.5
             },
             "pattern": {
              "fillmode": "overlay",
              "size": 10,
              "solidity": 0.2
             }
            },
            "type": "bar"
           }
          ],
          "barpolar": [
           {
            "marker": {
             "line": {
              "color": "#E5ECF6",
              "width": 0.5
             },
             "pattern": {
              "fillmode": "overlay",
              "size": 10,
              "solidity": 0.2
             }
            },
            "type": "barpolar"
           }
          ],
          "carpet": [
           {
            "aaxis": {
             "endlinecolor": "#2a3f5f",
             "gridcolor": "white",
             "linecolor": "white",
             "minorgridcolor": "white",
             "startlinecolor": "#2a3f5f"
            },
            "baxis": {
             "endlinecolor": "#2a3f5f",
             "gridcolor": "white",
             "linecolor": "white",
             "minorgridcolor": "white",
             "startlinecolor": "#2a3f5f"
            },
            "type": "carpet"
           }
          ],
          "choropleth": [
           {
            "colorbar": {
             "outlinewidth": 0,
             "ticks": ""
            },
            "type": "choropleth"
           }
          ],
          "contour": [
           {
            "colorbar": {
             "outlinewidth": 0,
             "ticks": ""
            },
            "colorscale": [
             [
              0,
              "#0d0887"
             ],
             [
              0.1111111111111111,
              "#46039f"
             ],
             [
              0.2222222222222222,
              "#7201a8"
             ],
             [
              0.3333333333333333,
              "#9c179e"
             ],
             [
              0.4444444444444444,
              "#bd3786"
             ],
             [
              0.5555555555555556,
              "#d8576b"
             ],
             [
              0.6666666666666666,
              "#ed7953"
             ],
             [
              0.7777777777777778,
              "#fb9f3a"
             ],
             [
              0.8888888888888888,
              "#fdca26"
             ],
             [
              1,
              "#f0f921"
             ]
            ],
            "type": "contour"
           }
          ],
          "contourcarpet": [
           {
            "colorbar": {
             "outlinewidth": 0,
             "ticks": ""
            },
            "type": "contourcarpet"
           }
          ],
          "heatmap": [
           {
            "colorbar": {
             "outlinewidth": 0,
             "ticks": ""
            },
            "colorscale": [
             [
              0,
              "#0d0887"
             ],
             [
              0.1111111111111111,
              "#46039f"
             ],
             [
              0.2222222222222222,
              "#7201a8"
             ],
             [
              0.3333333333333333,
              "#9c179e"
             ],
             [
              0.4444444444444444,
              "#bd3786"
             ],
             [
              0.5555555555555556,
              "#d8576b"
             ],
             [
              0.6666666666666666,
              "#ed7953"
             ],
             [
              0.7777777777777778,
              "#fb9f3a"
             ],
             [
              0.8888888888888888,
              "#fdca26"
             ],
             [
              1,
              "#f0f921"
             ]
            ],
            "type": "heatmap"
           }
          ],
          "histogram": [
           {
            "marker": {
             "pattern": {
              "fillmode": "overlay",
              "size": 10,
              "solidity": 0.2
             }
            },
            "type": "histogram"
           }
          ],
          "histogram2d": [
           {
            "colorbar": {
             "outlinewidth": 0,
             "ticks": ""
            },
            "colorscale": [
             [
              0,
              "#0d0887"
             ],
             [
              0.1111111111111111,
              "#46039f"
             ],
             [
              0.2222222222222222,
              "#7201a8"
             ],
             [
              0.3333333333333333,
              "#9c179e"
             ],
             [
              0.4444444444444444,
              "#bd3786"
             ],
             [
              0.5555555555555556,
              "#d8576b"
             ],
             [
              0.6666666666666666,
              "#ed7953"
             ],
             [
              0.7777777777777778,
              "#fb9f3a"
             ],
             [
              0.8888888888888888,
              "#fdca26"
             ],
             [
              1,
              "#f0f921"
             ]
            ],
            "type": "histogram2d"
           }
          ],
          "histogram2dcontour": [
           {
            "colorbar": {
             "outlinewidth": 0,
             "ticks": ""
            },
            "colorscale": [
             [
              0,
              "#0d0887"
             ],
             [
              0.1111111111111111,
              "#46039f"
             ],
             [
              0.2222222222222222,
              "#7201a8"
             ],
             [
              0.3333333333333333,
              "#9c179e"
             ],
             [
              0.4444444444444444,
              "#bd3786"
             ],
             [
              0.5555555555555556,
              "#d8576b"
             ],
             [
              0.6666666666666666,
              "#ed7953"
             ],
             [
              0.7777777777777778,
              "#fb9f3a"
             ],
             [
              0.8888888888888888,
              "#fdca26"
             ],
             [
              1,
              "#f0f921"
             ]
            ],
            "type": "histogram2dcontour"
           }
          ],
          "mesh3d": [
           {
            "colorbar": {
             "outlinewidth": 0,
             "ticks": ""
            },
            "type": "mesh3d"
           }
          ],
          "parcoords": [
           {
            "line": {
             "colorbar": {
              "outlinewidth": 0,
              "ticks": ""
             }
            },
            "type": "parcoords"
           }
          ],
          "pie": [
           {
            "automargin": true,
            "type": "pie"
           }
          ],
          "scatter": [
           {
            "fillpattern": {
             "fillmode": "overlay",
             "size": 10,
             "solidity": 0.2
            },
            "type": "scatter"
           }
          ],
          "scatter3d": [
           {
            "line": {
             "colorbar": {
              "outlinewidth": 0,
              "ticks": ""
             }
            },
            "marker": {
             "colorbar": {
              "outlinewidth": 0,
              "ticks": ""
             }
            },
            "type": "scatter3d"
           }
          ],
          "scattercarpet": [
           {
            "marker": {
             "colorbar": {
              "outlinewidth": 0,
              "ticks": ""
             }
            },
            "type": "scattercarpet"
           }
          ],
          "scattergeo": [
           {
            "marker": {
             "colorbar": {
              "outlinewidth": 0,
              "ticks": ""
             }
            },
            "type": "scattergeo"
           }
          ],
          "scattergl": [
           {
            "marker": {
             "colorbar": {
              "outlinewidth": 0,
              "ticks": ""
             }
            },
            "type": "scattergl"
           }
          ],
          "scattermap": [
           {
            "marker": {
             "colorbar": {
              "outlinewidth": 0,
              "ticks": ""
             }
            },
            "type": "scattermap"
           }
          ],
          "scattermapbox": [
           {
            "marker": {
             "colorbar": {
              "outlinewidth": 0,
              "ticks": ""
             }
            },
            "type": "scattermapbox"
           }
          ],
          "scatterpolar": [
           {
            "marker": {
             "colorbar": {
              "outlinewidth": 0,
              "ticks": ""
             }
            },
            "type": "scatterpolar"
           }
          ],
          "scatterpolargl": [
           {
            "marker": {
             "colorbar": {
              "outlinewidth": 0,
              "ticks": ""
             }
            },
            "type": "scatterpolargl"
           }
          ],
          "scatterternary": [
           {
            "marker": {
             "colorbar": {
              "outlinewidth": 0,
              "ticks": ""
             }
            },
            "type": "scatterternary"
           }
          ],
          "surface": [
           {
            "colorbar": {
             "outlinewidth": 0,
             "ticks": ""
            },
            "colorscale": [
             [
              0,
              "#0d0887"
             ],
             [
              0.1111111111111111,
              "#46039f"
             ],
             [
              0.2222222222222222,
              "#7201a8"
             ],
             [
              0.3333333333333333,
              "#9c179e"
             ],
             [
              0.4444444444444444,
              "#bd3786"
             ],
             [
              0.5555555555555556,
              "#d8576b"
             ],
             [
              0.6666666666666666,
              "#ed7953"
             ],
             [
              0.7777777777777778,
              "#fb9f3a"
             ],
             [
              0.8888888888888888,
              "#fdca26"
             ],
             [
              1,
              "#f0f921"
             ]
            ],
            "type": "surface"
           }
          ],
          "table": [
           {
            "cells": {
             "fill": {
              "color": "#EBF0F8"
             },
             "line": {
              "color": "white"
             }
            },
            "header": {
             "fill": {
              "color": "#C8D4E3"
             },
             "line": {
              "color": "white"
             }
            },
            "type": "table"
           }
          ]
         },
         "layout": {
          "annotationdefaults": {
           "arrowcolor": "#2a3f5f",
           "arrowhead": 0,
           "arrowwidth": 1
          },
          "autotypenumbers": "strict",
          "coloraxis": {
           "colorbar": {
            "outlinewidth": 0,
            "ticks": ""
           }
          },
          "colorscale": {
           "diverging": [
            [
             0,
             "#8e0152"
            ],
            [
             0.1,
             "#c51b7d"
            ],
            [
             0.2,
             "#de77ae"
            ],
            [
             0.3,
             "#f1b6da"
            ],
            [
             0.4,
             "#fde0ef"
            ],
            [
             0.5,
             "#f7f7f7"
            ],
            [
             0.6,
             "#e6f5d0"
            ],
            [
             0.7,
             "#b8e186"
            ],
            [
             0.8,
             "#7fbc41"
            ],
            [
             0.9,
             "#4d9221"
            ],
            [
             1,
             "#276419"
            ]
           ],
           "sequential": [
            [
             0,
             "#0d0887"
            ],
            [
             0.1111111111111111,
             "#46039f"
            ],
            [
             0.2222222222222222,
             "#7201a8"
            ],
            [
             0.3333333333333333,
             "#9c179e"
            ],
            [
             0.4444444444444444,
             "#bd3786"
            ],
            [
             0.5555555555555556,
             "#d8576b"
            ],
            [
             0.6666666666666666,
             "#ed7953"
            ],
            [
             0.7777777777777778,
             "#fb9f3a"
            ],
            [
             0.8888888888888888,
             "#fdca26"
            ],
            [
             1,
             "#f0f921"
            ]
           ],
           "sequentialminus": [
            [
             0,
             "#0d0887"
            ],
            [
             0.1111111111111111,
             "#46039f"
            ],
            [
             0.2222222222222222,
             "#7201a8"
            ],
            [
             0.3333333333333333,
             "#9c179e"
            ],
            [
             0.4444444444444444,
             "#bd3786"
            ],
            [
             0.5555555555555556,
             "#d8576b"
            ],
            [
             0.6666666666666666,
             "#ed7953"
            ],
            [
             0.7777777777777778,
             "#fb9f3a"
            ],
            [
             0.8888888888888888,
             "#fdca26"
            ],
            [
             1,
             "#f0f921"
            ]
           ]
          },
          "colorway": [
           "#636efa",
           "#EF553B",
           "#00cc96",
           "#ab63fa",
           "#FFA15A",
           "#19d3f3",
           "#FF6692",
           "#B6E880",
           "#FF97FF",
           "#FECB52"
          ],
          "font": {
           "color": "#2a3f5f"
          },
          "geo": {
           "bgcolor": "white",
           "lakecolor": "white",
           "landcolor": "#E5ECF6",
           "showlakes": true,
           "showland": true,
           "subunitcolor": "white"
          },
          "hoverlabel": {
           "align": "left"
          },
          "hovermode": "closest",
          "mapbox": {
           "style": "light"
          },
          "paper_bgcolor": "white",
          "plot_bgcolor": "#E5ECF6",
          "polar": {
           "angularaxis": {
            "gridcolor": "white",
            "linecolor": "white",
            "ticks": ""
           },
           "bgcolor": "#E5ECF6",
           "radialaxis": {
            "gridcolor": "white",
            "linecolor": "white",
            "ticks": ""
           }
          },
          "scene": {
           "xaxis": {
            "backgroundcolor": "#E5ECF6",
            "gridcolor": "white",
            "gridwidth": 2,
            "linecolor": "white",
            "showbackground": true,
            "ticks": "",
            "zerolinecolor": "white"
           },
           "yaxis": {
            "backgroundcolor": "#E5ECF6",
            "gridcolor": "white",
            "gridwidth": 2,
            "linecolor": "white",
            "showbackground": true,
            "ticks": "",
            "zerolinecolor": "white"
           },
           "zaxis": {
            "backgroundcolor": "#E5ECF6",
            "gridcolor": "white",
            "gridwidth": 2,
            "linecolor": "white",
            "showbackground": true,
            "ticks": "",
            "zerolinecolor": "white"
           }
          },
          "shapedefaults": {
           "line": {
            "color": "#2a3f5f"
           }
          },
          "ternary": {
           "aaxis": {
            "gridcolor": "white",
            "linecolor": "white",
            "ticks": ""
           },
           "baxis": {
            "gridcolor": "white",
            "linecolor": "white",
            "ticks": ""
           },
           "bgcolor": "#E5ECF6",
           "caxis": {
            "gridcolor": "white",
            "linecolor": "white",
            "ticks": ""
           }
          },
          "title": {
           "x": 0.05
          },
          "xaxis": {
           "automargin": true,
           "gridcolor": "white",
           "linecolor": "white",
           "ticks": "",
           "title": {
            "standoff": 15
           },
           "zerolinecolor": "white",
           "zerolinewidth": 2
          },
          "yaxis": {
           "automargin": true,
           "gridcolor": "white",
           "linecolor": "white",
           "ticks": "",
           "title": {
            "standoff": 15
           },
           "zerolinecolor": "white",
           "zerolinewidth": 2
          }
         }
        },
        "width": 400,
        "xaxis": {
         "anchor": "y",
         "domain": [
          0,
          1
         ],
         "title": {
          "text": "x"
         }
        },
        "yaxis": {
         "anchor": "x",
         "domain": [
          0,
          1
         ],
         "title": {
          "text": "y"
         }
        }
       }
      }
     },
     "metadata": {},
     "output_type": "display_data"
    },
    {
     "data": {
      "application/vnd.plotly.v1+json": {
       "config": {
        "plotlyServerURL": "https://plot.ly"
       },
       "data": [
        {
         "hovertemplate": "x=%{x}<br>y=%{y}<br>signal=%{marker.color}<extra></extra>",
         "legendgroup": "",
         "marker": {
          "color": {
           "bdata": "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",
           "dtype": "f8"
          },
          "coloraxis": "coloraxis",
          "size": 6,
          "symbol": "circle"
         },
         "mode": "markers",
         "name": "",
         "orientation": "v",
         "showlegend": false,
         "type": "scatter",
         "x": {
          "bdata": "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",
          "dtype": "f8"
         },
         "xaxis": "x",
         "y": {
          "bdata": "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",
          "dtype": "f8"
         },
         "yaxis": "y"
        }
       ],
       "layout": {
        "coloraxis": {
         "colorbar": {
          "title": {
           "text": "signal"
          }
         },
         "colorscale": [
          [
           0,
           "#0d0887"
          ],
          [
           0.1111111111111111,
           "#46039f"
          ],
          [
           0.2222222222222222,
           "#7201a8"
          ],
          [
           0.3333333333333333,
           "#9c179e"
          ],
          [
           0.4444444444444444,
           "#bd3786"
          ],
          [
           0.5555555555555556,
           "#d8576b"
          ],
          [
           0.6666666666666666,
           "#ed7953"
          ],
          [
           0.7777777777777778,
           "#fb9f3a"
          ],
          [
           0.8888888888888888,
           "#fdca26"
          ],
          [
           1,
           "#f0f921"
          ]
         ]
        },
        "height": 400,
        "legend": {
         "tracegroupgap": 0
        },
        "margin": {
         "t": 60
        },
        "template": {
         "data": {
          "bar": [
           {
            "error_x": {
             "color": "#2a3f5f"
            },
            "error_y": {
             "color": "#2a3f5f"
            },
            "marker": {
             "line": {
              "color": "#E5ECF6",
              "width": 0.5
             },
             "pattern": {
              "fillmode": "overlay",
              "size": 10,
              "solidity": 0.2
             }
            },
            "type": "bar"
           }
          ],
          "barpolar": [
           {
            "marker": {
             "line": {
              "color": "#E5ECF6",
              "width": 0.5
             },
             "pattern": {
              "fillmode": "overlay",
              "size": 10,
              "solidity": 0.2
             }
            },
            "type": "barpolar"
           }
          ],
          "carpet": [
           {
            "aaxis": {
             "endlinecolor": "#2a3f5f",
             "gridcolor": "white",
             "linecolor": "white",
             "minorgridcolor": "white",
             "startlinecolor": "#2a3f5f"
            },
            "baxis": {
             "endlinecolor": "#2a3f5f",
             "gridcolor": "white",
             "linecolor": "white",
             "minorgridcolor": "white",
             "startlinecolor": "#2a3f5f"
            },
            "type": "carpet"
           }
          ],
          "choropleth": [
           {
            "colorbar": {
             "outlinewidth": 0,
             "ticks": ""
            },
            "type": "choropleth"
           }
          ],
          "contour": [
           {
            "colorbar": {
             "outlinewidth": 0,
             "ticks": ""
            },
            "colorscale": [
             [
              0,
              "#0d0887"
             ],
             [
              0.1111111111111111,
              "#46039f"
             ],
             [
              0.2222222222222222,
              "#7201a8"
             ],
             [
              0.3333333333333333,
              "#9c179e"
             ],
             [
              0.4444444444444444,
              "#bd3786"
             ],
             [
              0.5555555555555556,
              "#d8576b"
             ],
             [
              0.6666666666666666,
              "#ed7953"
             ],
             [
              0.7777777777777778,
              "#fb9f3a"
             ],
             [
              0.8888888888888888,
              "#fdca26"
             ],
             [
              1,
              "#f0f921"
             ]
            ],
            "type": "contour"
           }
          ],
          "contourcarpet": [
           {
            "colorbar": {
             "outlinewidth": 0,
             "ticks": ""
            },
            "type": "contourcarpet"
           }
          ],
          "heatmap": [
           {
            "colorbar": {
             "outlinewidth": 0,
             "ticks": ""
            },
            "colorscale": [
             [
              0,
              "#0d0887"
             ],
             [
              0.1111111111111111,
              "#46039f"
             ],
             [
              0.2222222222222222,
              "#7201a8"
             ],
             [
              0.3333333333333333,
              "#9c179e"
             ],
             [
              0.4444444444444444,
              "#bd3786"
             ],
             [
              0.5555555555555556,
              "#d8576b"
             ],
             [
              0.6666666666666666,
              "#ed7953"
             ],
             [
              0.7777777777777778,
              "#fb9f3a"
             ],
             [
              0.8888888888888888,
              "#fdca26"
             ],
             [
              1,
              "#f0f921"
             ]
            ],
            "type": "heatmap"
           }
          ],
          "histogram": [
           {
            "marker": {
             "pattern": {
              "fillmode": "overlay",
              "size": 10,
              "solidity": 0.2
             }
            },
            "type": "histogram"
           }
          ],
          "histogram2d": [
           {
            "colorbar": {
             "outlinewidth": 0,
             "ticks": ""
            },
            "colorscale": [
             [
              0,
              "#0d0887"
             ],
             [
              0.1111111111111111,
              "#46039f"
             ],
             [
              0.2222222222222222,
              "#7201a8"
             ],
             [
              0.3333333333333333,
              "#9c179e"
             ],
             [
              0.4444444444444444,
              "#bd3786"
             ],
             [
              0.5555555555555556,
              "#d8576b"
             ],
             [
              0.6666666666666666,
              "#ed7953"
             ],
             [
              0.7777777777777778,
              "#fb9f3a"
             ],
             [
              0.8888888888888888,
              "#fdca26"
             ],
             [
              1,
              "#f0f921"
             ]
            ],
            "type": "histogram2d"
           }
          ],
          "histogram2dcontour": [
           {
            "colorbar": {
             "outlinewidth": 0,
             "ticks": ""
            },
            "colorscale": [
             [
              0,
              "#0d0887"
             ],
             [
              0.1111111111111111,
              "#46039f"
             ],
             [
              0.2222222222222222,
              "#7201a8"
             ],
             [
              0.3333333333333333,
              "#9c179e"
             ],
             [
              0.4444444444444444,
              "#bd3786"
             ],
             [
              0.5555555555555556,
              "#d8576b"
             ],
             [
              0.6666666666666666,
              "#ed7953"
             ],
             [
              0.7777777777777778,
              "#fb9f3a"
             ],
             [
              0.8888888888888888,
              "#fdca26"
             ],
             [
              1,
              "#f0f921"
             ]
            ],
            "type": "histogram2dcontour"
           }
          ],
          "mesh3d": [
           {
            "colorbar": {
             "outlinewidth": 0,
             "ticks": ""
            },
            "type": "mesh3d"
           }
          ],
          "parcoords": [
           {
            "line": {
             "colorbar": {
              "outlinewidth": 0,
              "ticks": ""
             }
            },
            "type": "parcoords"
           }
          ],
          "pie": [
           {
            "automargin": true,
            "type": "pie"
           }
          ],
          "scatter": [
           {
            "fillpattern": {
             "fillmode": "overlay",
             "size": 10,
             "solidity": 0.2
            },
            "type": "scatter"
           }
          ],
          "scatter3d": [
           {
            "line": {
             "colorbar": {
              "outlinewidth": 0,
              "ticks": ""
             }
            },
            "marker": {
             "colorbar": {
              "outlinewidth": 0,
              "ticks": ""
             }
            },
            "type": "scatter3d"
           }
          ],
          "scattercarpet": [
           {
            "marker": {
             "colorbar": {
              "outlinewidth": 0,
              "ticks": ""
             }
            },
            "type": "scattercarpet"
           }
          ],
          "scattergeo": [
           {
            "marker": {
             "colorbar": {
              "outlinewidth": 0,
              "ticks": ""
             }
            },
            "type": "scattergeo"
           }
          ],
          "scattergl": [
           {
            "marker": {
             "colorbar": {
              "outlinewidth": 0,
              "ticks": ""
             }
            },
            "type": "scattergl"
           }
          ],
          "scattermap": [
           {
            "marker": {
             "colorbar": {
              "outlinewidth": 0,
              "ticks": ""
             }
            },
            "type": "scattermap"
           }
          ],
          "scattermapbox": [
           {
            "marker": {
             "colorbar": {
              "outlinewidth": 0,
              "ticks": ""
             }
            },
            "type": "scattermapbox"
           }
          ],
          "scatterpolar": [
           {
            "marker": {
             "colorbar": {
              "outlinewidth": 0,
              "ticks": ""
             }
            },
            "type": "scatterpolar"
           }
          ],
          "scatterpolargl": [
           {
            "marker": {
             "colorbar": {
              "outlinewidth": 0,
              "ticks": ""
             }
            },
            "type": "scatterpolargl"
           }
          ],
          "scatterternary": [
           {
            "marker": {
             "colorbar": {
              "outlinewidth": 0,
              "ticks": ""
             }
            },
            "type": "scatterternary"
           }
          ],
          "surface": [
           {
            "colorbar": {
             "outlinewidth": 0,
             "ticks": ""
            },
            "colorscale": [
             [
              0,
              "#0d0887"
             ],
             [
              0.1111111111111111,
              "#46039f"
             ],
             [
              0.2222222222222222,
              "#7201a8"
             ],
             [
              0.3333333333333333,
              "#9c179e"
             ],
             [
              0.4444444444444444,
              "#bd3786"
             ],
             [
              0.5555555555555556,
              "#d8576b"
             ],
             [
              0.6666666666666666,
              "#ed7953"
             ],
             [
              0.7777777777777778,
              "#fb9f3a"
             ],
             [
              0.8888888888888888,
              "#fdca26"
             ],
             [
              1,
              "#f0f921"
             ]
            ],
            "type": "surface"
           }
          ],
          "table": [
           {
            "cells": {
             "fill": {
              "color": "#EBF0F8"
             },
             "line": {
              "color": "white"
             }
            },
            "header": {
             "fill": {
              "color": "#C8D4E3"
             },
             "line": {
              "color": "white"
             }
            },
            "type": "table"
           }
          ]
         },
         "layout": {
          "annotationdefaults": {
           "arrowcolor": "#2a3f5f",
           "arrowhead": 0,
           "arrowwidth": 1
          },
          "autotypenumbers": "strict",
          "coloraxis": {
           "colorbar": {
            "outlinewidth": 0,
            "ticks": ""
           }
          },
          "colorscale": {
           "diverging": [
            [
             0,
             "#8e0152"
            ],
            [
             0.1,
             "#c51b7d"
            ],
            [
             0.2,
             "#de77ae"
            ],
            [
             0.3,
             "#f1b6da"
            ],
            [
             0.4,
             "#fde0ef"
            ],
            [
             0.5,
             "#f7f7f7"
            ],
            [
             0.6,
             "#e6f5d0"
            ],
            [
             0.7,
             "#b8e186"
            ],
            [
             0.8,
             "#7fbc41"
            ],
            [
             0.9,
             "#4d9221"
            ],
            [
             1,
             "#276419"
            ]
           ],
           "sequential": [
            [
             0,
             "#0d0887"
            ],
            [
             0.1111111111111111,
             "#46039f"
            ],
            [
             0.2222222222222222,
             "#7201a8"
            ],
            [
             0.3333333333333333,
             "#9c179e"
            ],
            [
             0.4444444444444444,
             "#bd3786"
            ],
            [
             0.5555555555555556,
             "#d8576b"
            ],
            [
             0.6666666666666666,
             "#ed7953"
            ],
            [
             0.7777777777777778,
             "#fb9f3a"
            ],
            [
             0.8888888888888888,
             "#fdca26"
            ],
            [
             1,
             "#f0f921"
            ]
           ],
           "sequentialminus": [
            [
             0,
             "#0d0887"
            ],
            [
             0.1111111111111111,
             "#46039f"
            ],
            [
             0.2222222222222222,
             "#7201a8"
            ],
            [
             0.3333333333333333,
             "#9c179e"
            ],
            [
             0.4444444444444444,
             "#bd3786"
            ],
            [
             0.5555555555555556,
             "#d8576b"
            ],
            [
             0.6666666666666666,
             "#ed7953"
            ],
            [
             0.7777777777777778,
             "#fb9f3a"
            ],
            [
             0.8888888888888888,
             "#fdca26"
            ],
            [
             1,
             "#f0f921"
            ]
           ]
          },
          "colorway": [
           "#636efa",
           "#EF553B",
           "#00cc96",
           "#ab63fa",
           "#FFA15A",
           "#19d3f3",
           "#FF6692",
           "#B6E880",
           "#FF97FF",
           "#FECB52"
          ],
          "font": {
           "color": "#2a3f5f"
          },
          "geo": {
           "bgcolor": "white",
           "lakecolor": "white",
           "landcolor": "#E5ECF6",
           "showlakes": true,
           "showland": true,
           "subunitcolor": "white"
          },
          "hoverlabel": {
           "align": "left"
          },
          "hovermode": "closest",
          "mapbox": {
           "style": "light"
          },
          "paper_bgcolor": "white",
          "plot_bgcolor": "#E5ECF6",
          "polar": {
           "angularaxis": {
            "gridcolor": "white",
            "linecolor": "white",
            "ticks": ""
           },
           "bgcolor": "#E5ECF6",
           "radialaxis": {
            "gridcolor": "white",
            "linecolor": "white",
            "ticks": ""
           }
          },
          "scene": {
           "xaxis": {
            "backgroundcolor": "#E5ECF6",
            "gridcolor": "white",
            "gridwidth": 2,
            "linecolor": "white",
            "showbackground": true,
            "ticks": "",
            "zerolinecolor": "white"
           },
           "yaxis": {
            "backgroundcolor": "#E5ECF6",
            "gridcolor": "white",
            "gridwidth": 2,
            "linecolor": "white",
            "showbackground": true,
            "ticks": "",
            "zerolinecolor": "white"
           },
           "zaxis": {
            "backgroundcolor": "#E5ECF6",
            "gridcolor": "white",
            "gridwidth": 2,
            "linecolor": "white",
            "showbackground": true,
            "ticks": "",
            "zerolinecolor": "white"
           }
          },
          "shapedefaults": {
           "line": {
            "color": "#2a3f5f"
           }
          },
          "ternary": {
           "aaxis": {
            "gridcolor": "white",
            "linecolor": "white",
            "ticks": ""
           },
           "baxis": {
            "gridcolor": "white",
            "linecolor": "white",
            "ticks": ""
           },
           "bgcolor": "#E5ECF6",
           "caxis": {
            "gridcolor": "white",
            "linecolor": "white",
            "ticks": ""
           }
          },
          "title": {
           "x": 0.05
          },
          "xaxis": {
           "automargin": true,
           "gridcolor": "white",
           "linecolor": "white",
           "ticks": "",
           "title": {
            "standoff": 15
           },
           "zerolinecolor": "white",
           "zerolinewidth": 2
          },
          "yaxis": {
           "automargin": true,
           "gridcolor": "white",
           "linecolor": "white",
           "ticks": "",
           "title": {
            "standoff": 15
           },
           "zerolinecolor": "white",
           "zerolinewidth": 2
          }
         }
        },
        "width": 400,
        "xaxis": {
         "anchor": "y",
         "domain": [
          0,
          1
         ],
         "title": {
          "text": "x"
         }
        },
        "yaxis": {
         "anchor": "x",
         "domain": [
          0,
          1
         ],
         "title": {
          "text": "y"
         }
        }
       }
      }
     },
     "metadata": {},
     "output_type": "display_data"
    },
    {
     "data": {
      "application/vnd.plotly.v1+json": {
       "config": {
        "plotlyServerURL": "https://plot.ly"
       },
       "data": [
        {
         "hovertemplate": "x=%{x}<br>y=%{y}<br>signal=%{marker.color}<extra></extra>",
         "legendgroup": "",
         "marker": {
          "color": {
           "bdata": "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",
           "dtype": "f8"
          },
          "coloraxis": "coloraxis",
          "size": 6,
          "symbol": "circle"
         },
         "mode": "markers",
         "name": "",
         "orientation": "v",
         "showlegend": false,
         "type": "scatter",
         "x": {
          "bdata": "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",
          "dtype": "f8"
         },
         "xaxis": "x",
         "y": {
          "bdata": "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",
          "dtype": "f8"
         },
         "yaxis": "y"
        }
       ],
       "layout": {
        "coloraxis": {
         "colorbar": {
          "title": {
           "text": "signal"
          }
         },
         "colorscale": [
          [
           0,
           "#0d0887"
          ],
          [
           0.1111111111111111,
           "#46039f"
          ],
          [
           0.2222222222222222,
           "#7201a8"
          ],
          [
           0.3333333333333333,
           "#9c179e"
          ],
          [
           0.4444444444444444,
           "#bd3786"
          ],
          [
           0.5555555555555556,
           "#d8576b"
          ],
          [
           0.6666666666666666,
           "#ed7953"
          ],
          [
           0.7777777777777778,
           "#fb9f3a"
          ],
          [
           0.8888888888888888,
           "#fdca26"
          ],
          [
           1,
           "#f0f921"
          ]
         ]
        },
        "height": 400,
        "legend": {
         "tracegroupgap": 0
        },
        "margin": {
         "t": 60
        },
        "template": {
         "data": {
          "bar": [
           {
            "error_x": {
             "color": "#2a3f5f"
            },
            "error_y": {
             "color": "#2a3f5f"
            },
            "marker": {
             "line": {
              "color": "#E5ECF6",
              "width": 0.5
             },
             "pattern": {
              "fillmode": "overlay",
              "size": 10,
              "solidity": 0.2
             }
            },
            "type": "bar"
           }
          ],
          "barpolar": [
           {
            "marker": {
             "line": {
              "color": "#E5ECF6",
              "width": 0.5
             },
             "pattern": {
              "fillmode": "overlay",
              "size": 10,
              "solidity": 0.2
             }
            },
            "type": "barpolar"
           }
          ],
          "carpet": [
           {
            "aaxis": {
             "endlinecolor": "#2a3f5f",
             "gridcolor": "white",
             "linecolor": "white",
             "minorgridcolor": "white",
             "startlinecolor": "#2a3f5f"
            },
            "baxis": {
             "endlinecolor": "#2a3f5f",
             "gridcolor": "white",
             "linecolor": "white",
             "minorgridcolor": "white",
             "startlinecolor": "#2a3f5f"
            },
            "type": "carpet"
           }
          ],
          "choropleth": [
           {
            "colorbar": {
             "outlinewidth": 0,
             "ticks": ""
            },
            "type": "choropleth"
           }
          ],
          "contour": [
           {
            "colorbar": {
             "outlinewidth": 0,
             "ticks": ""
            },
            "colorscale": [
             [
              0,
              "#0d0887"
             ],
             [
              0.1111111111111111,
              "#46039f"
             ],
             [
              0.2222222222222222,
              "#7201a8"
             ],
             [
              0.3333333333333333,
              "#9c179e"
             ],
             [
              0.4444444444444444,
              "#bd3786"
             ],
             [
              0.5555555555555556,
              "#d8576b"
             ],
             [
              0.6666666666666666,
              "#ed7953"
             ],
             [
              0.7777777777777778,
              "#fb9f3a"
             ],
             [
              0.8888888888888888,
              "#fdca26"
             ],
             [
              1,
              "#f0f921"
             ]
            ],
            "type": "contour"
           }
          ],
          "contourcarpet": [
           {
            "colorbar": {
             "outlinewidth": 0,
             "ticks": ""
            },
            "type": "contourcarpet"
           }
          ],
          "heatmap": [
           {
            "colorbar": {
             "outlinewidth": 0,
             "ticks": ""
            },
            "colorscale": [
             [
              0,
              "#0d0887"
             ],
             [
              0.1111111111111111,
              "#46039f"
             ],
             [
              0.2222222222222222,
              "#7201a8"
             ],
             [
              0.3333333333333333,
              "#9c179e"
             ],
             [
              0.4444444444444444,
              "#bd3786"
             ],
             [
              0.5555555555555556,
              "#d8576b"
             ],
             [
              0.6666666666666666,
              "#ed7953"
             ],
             [
              0.7777777777777778,
              "#fb9f3a"
             ],
             [
              0.8888888888888888,
              "#fdca26"
             ],
             [
              1,
              "#f0f921"
             ]
            ],
            "type": "heatmap"
           }
          ],
          "histogram": [
           {
            "marker": {
             "pattern": {
              "fillmode": "overlay",
              "size": 10,
              "solidity": 0.2
             }
            },
            "type": "histogram"
           }
          ],
          "histogram2d": [
           {
            "colorbar": {
             "outlinewidth": 0,
             "ticks": ""
            },
            "colorscale": [
             [
              0,
              "#0d0887"
             ],
             [
              0.1111111111111111,
              "#46039f"
             ],
             [
              0.2222222222222222,
              "#7201a8"
             ],
             [
              0.3333333333333333,
              "#9c179e"
             ],
             [
              0.4444444444444444,
              "#bd3786"
             ],
             [
              0.5555555555555556,
              "#d8576b"
             ],
             [
              0.6666666666666666,
              "#ed7953"
             ],
             [
              0.7777777777777778,
              "#fb9f3a"
             ],
             [
              0.8888888888888888,
              "#fdca26"
             ],
             [
              1,
              "#f0f921"
             ]
            ],
            "type": "histogram2d"
           }
          ],
          "histogram2dcontour": [
           {
            "colorbar": {
             "outlinewidth": 0,
             "ticks": ""
            },
            "colorscale": [
             [
              0,
              "#0d0887"
             ],
             [
              0.1111111111111111,
              "#46039f"
             ],
             [
              0.2222222222222222,
              "#7201a8"
             ],
             [
              0.3333333333333333,
              "#9c179e"
             ],
             [
              0.4444444444444444,
              "#bd3786"
             ],
             [
              0.5555555555555556,
              "#d8576b"
             ],
             [
              0.6666666666666666,
              "#ed7953"
             ],
             [
              0.7777777777777778,
              "#fb9f3a"
             ],
             [
              0.8888888888888888,
              "#fdca26"
             ],
             [
              1,
              "#f0f921"
             ]
            ],
            "type": "histogram2dcontour"
           }
          ],
          "mesh3d": [
           {
            "colorbar": {
             "outlinewidth": 0,
             "ticks": ""
            },
            "type": "mesh3d"
           }
          ],
          "parcoords": [
           {
            "line": {
             "colorbar": {
              "outlinewidth": 0,
              "ticks": ""
             }
            },
            "type": "parcoords"
           }
          ],
          "pie": [
           {
            "automargin": true,
            "type": "pie"
           }
          ],
          "scatter": [
           {
            "fillpattern": {
             "fillmode": "overlay",
             "size": 10,
             "solidity": 0.2
            },
            "type": "scatter"
           }
          ],
          "scatter3d": [
           {
            "line": {
             "colorbar": {
              "outlinewidth": 0,
              "ticks": ""
             }
            },
            "marker": {
             "colorbar": {
              "outlinewidth": 0,
              "ticks": ""
             }
            },
            "type": "scatter3d"
           }
          ],
          "scattercarpet": [
           {
            "marker": {
             "colorbar": {
              "outlinewidth": 0,
              "ticks": ""
             }
            },
            "type": "scattercarpet"
           }
          ],
          "scattergeo": [
           {
            "marker": {
             "colorbar": {
              "outlinewidth": 0,
              "ticks": ""
             }
            },
            "type": "scattergeo"
           }
          ],
          "scattergl": [
           {
            "marker": {
             "colorbar": {
              "outlinewidth": 0,
              "ticks": ""
             }
            },
            "type": "scattergl"
           }
          ],
          "scattermap": [
           {
            "marker": {
             "colorbar": {
              "outlinewidth": 0,
              "ticks": ""
             }
            },
            "type": "scattermap"
           }
          ],
          "scattermapbox": [
           {
            "marker": {
             "colorbar": {
              "outlinewidth": 0,
              "ticks": ""
             }
            },
            "type": "scattermapbox"
           }
          ],
          "scatterpolar": [
           {
            "marker": {
             "colorbar": {
              "outlinewidth": 0,
              "ticks": ""
             }
            },
            "type": "scatterpolar"
           }
          ],
          "scatterpolargl": [
           {
            "marker": {
             "colorbar": {
              "outlinewidth": 0,
              "ticks": ""
             }
            },
            "type": "scatterpolargl"
           }
          ],
          "scatterternary": [
           {
            "marker": {
             "colorbar": {
              "outlinewidth": 0,
              "ticks": ""
             }
            },
            "type": "scatterternary"
           }
          ],
          "surface": [
           {
            "colorbar": {
             "outlinewidth": 0,
             "ticks": ""
            },
            "colorscale": [
             [
              0,
              "#0d0887"
             ],
             [
              0.1111111111111111,
              "#46039f"
             ],
             [
              0.2222222222222222,
              "#7201a8"
             ],
             [
              0.3333333333333333,
              "#9c179e"
             ],
             [
              0.4444444444444444,
              "#bd3786"
             ],
             [
              0.5555555555555556,
              "#d8576b"
             ],
             [
              0.6666666666666666,
              "#ed7953"
             ],
             [
              0.7777777777777778,
              "#fb9f3a"
             ],
             [
              0.8888888888888888,
              "#fdca26"
             ],
             [
              1,
              "#f0f921"
             ]
            ],
            "type": "surface"
           }
          ],
          "table": [
           {
            "cells": {
             "fill": {
              "color": "#EBF0F8"
             },
             "line": {
              "color": "white"
             }
            },
            "header": {
             "fill": {
              "color": "#C8D4E3"
             },
             "line": {
              "color": "white"
             }
            },
            "type": "table"
           }
          ]
         },
         "layout": {
          "annotationdefaults": {
           "arrowcolor": "#2a3f5f",
           "arrowhead": 0,
           "arrowwidth": 1
          },
          "autotypenumbers": "strict",
          "coloraxis": {
           "colorbar": {
            "outlinewidth": 0,
            "ticks": ""
           }
          },
          "colorscale": {
           "diverging": [
            [
             0,
             "#8e0152"
            ],
            [
             0.1,
             "#c51b7d"
            ],
            [
             0.2,
             "#de77ae"
            ],
            [
             0.3,
             "#f1b6da"
            ],
            [
             0.4,
             "#fde0ef"
            ],
            [
             0.5,
             "#f7f7f7"
            ],
            [
             0.6,
             "#e6f5d0"
            ],
            [
             0.7,
             "#b8e186"
            ],
            [
             0.8,
             "#7fbc41"
            ],
            [
             0.9,
             "#4d9221"
            ],
            [
             1,
             "#276419"
            ]
           ],
           "sequential": [
            [
             0,
             "#0d0887"
            ],
            [
             0.1111111111111111,
             "#46039f"
            ],
            [
             0.2222222222222222,
             "#7201a8"
            ],
            [
             0.3333333333333333,
             "#9c179e"
            ],
            [
             0.4444444444444444,
             "#bd3786"
            ],
            [
             0.5555555555555556,
             "#d8576b"
            ],
            [
             0.6666666666666666,
             "#ed7953"
            ],
            [
             0.7777777777777778,
             "#fb9f3a"
            ],
            [
             0.8888888888888888,
             "#fdca26"
            ],
            [
             1,
             "#f0f921"
            ]
           ],
           "sequentialminus": [
            [
             0,
             "#0d0887"
            ],
            [
             0.1111111111111111,
             "#46039f"
            ],
            [
             0.2222222222222222,
             "#7201a8"
            ],
            [
             0.3333333333333333,
             "#9c179e"
            ],
            [
             0.4444444444444444,
             "#bd3786"
            ],
            [
             0.5555555555555556,
             "#d8576b"
            ],
            [
             0.6666666666666666,
             "#ed7953"
            ],
            [
             0.7777777777777778,
             "#fb9f3a"
            ],
            [
             0.8888888888888888,
             "#fdca26"
            ],
            [
             1,
             "#f0f921"
            ]
           ]
          },
          "colorway": [
           "#636efa",
           "#EF553B",
           "#00cc96",
           "#ab63fa",
           "#FFA15A",
           "#19d3f3",
           "#FF6692",
           "#B6E880",
           "#FF97FF",
           "#FECB52"
          ],
          "font": {
           "color": "#2a3f5f"
          },
          "geo": {
           "bgcolor": "white",
           "lakecolor": "white",
           "landcolor": "#E5ECF6",
           "showlakes": true,
           "showland": true,
           "subunitcolor": "white"
          },
          "hoverlabel": {
           "align": "left"
          },
          "hovermode": "closest",
          "mapbox": {
           "style": "light"
          },
          "paper_bgcolor": "white",
          "plot_bgcolor": "#E5ECF6",
          "polar": {
           "angularaxis": {
            "gridcolor": "white",
            "linecolor": "white",
            "ticks": ""
           },
           "bgcolor": "#E5ECF6",
           "radialaxis": {
            "gridcolor": "white",
            "linecolor": "white",
            "ticks": ""
           }
          },
          "scene": {
           "xaxis": {
            "backgroundcolor": "#E5ECF6",
            "gridcolor": "white",
            "gridwidth": 2,
            "linecolor": "white",
            "showbackground": true,
            "ticks": "",
            "zerolinecolor": "white"
           },
           "yaxis": {
            "backgroundcolor": "#E5ECF6",
            "gridcolor": "white",
            "gridwidth": 2,
            "linecolor": "white",
            "showbackground": true,
            "ticks": "",
            "zerolinecolor": "white"
           },
           "zaxis": {
            "backgroundcolor": "#E5ECF6",
            "gridcolor": "white",
            "gridwidth": 2,
            "linecolor": "white",
            "showbackground": true,
            "ticks": "",
            "zerolinecolor": "white"
           }
          },
          "shapedefaults": {
           "line": {
            "color": "#2a3f5f"
           }
          },
          "ternary": {
           "aaxis": {
            "gridcolor": "white",
            "linecolor": "white",
            "ticks": ""
           },
           "baxis": {
            "gridcolor": "white",
            "linecolor": "white",
            "ticks": ""
           },
           "bgcolor": "#E5ECF6",
           "caxis": {
            "gridcolor": "white",
            "linecolor": "white",
            "ticks": ""
           }
          },
          "title": {
           "x": 0.05
          },
          "xaxis": {
           "automargin": true,
           "gridcolor": "white",
           "linecolor": "white",
           "ticks": "",
           "title": {
            "standoff": 15
           },
           "zerolinecolor": "white",
           "zerolinewidth": 2
          },
          "yaxis": {
           "automargin": true,
           "gridcolor": "white",
           "linecolor": "white",
           "ticks": "",
           "title": {
            "standoff": 15
           },
           "zerolinecolor": "white",
           "zerolinewidth": 2
          }
         }
        },
        "width": 400,
        "xaxis": {
         "anchor": "y",
         "domain": [
          0,
          1
         ],
         "title": {
          "text": "x"
         }
        },
        "yaxis": {
         "anchor": "x",
         "domain": [
          0,
          1
         ],
         "title": {
          "text": "y"
         }
        }
       }
      }
     },
     "metadata": {},
     "output_type": "display_data"
    }
   ],
   "source": [
    "sde_solver = EulerMaruyamaSolver(sde=sde, n=num_timesteps)\n",
    "with torch.no_grad():\n",
    "    x0_test_pred = sde_solver.sample_from_terminal(x0=x0_test, control=ModelControl(model))\n",
    "    test_w1 = wasserstein_distance(x0_test_pred, x1_test, p=1)\n",
    "    test_w2 = wasserstein_distance(x0_test_pred, x1_test, p=2)\n",
    "\n",
    "print(f\"Wasserstein-1 distance: {test_w1:.4f}\")\n",
    "print(f\"Wasserstein-2 distance: {test_w2:.4f}\")\n",
    "\n",
    "plot_brain_signal_2d(x0_test[0]);\n",
    "plot_brain_signal_2d(x0_test_pred[0]);\n",
    "plot_brain_signal_2d(x1_test[0]);"
   ]
  },
  {
   "cell_type": "code",
   "execution_count": 50,
   "id": "df371189",
   "metadata": {},
   "outputs": [
    {
     "data": {
      "text/plain": [
       "tensor(18.4981)"
      ]
     },
     "execution_count": 50,
     "metadata": {},
     "output_type": "execute_result"
    }
   ],
   "source": [
    "wasserstein_distance(x0_train, x1_train)"
   ]
  }
 ],
 "metadata": {
  "kernelspec": {
   "display_name": "topological-flow-matching",
   "language": "python",
   "name": "python3"
  },
  "language_info": {
   "codemirror_mode": {
    "name": "ipython",
    "version": 3
   },
   "file_extension": ".py",
   "mimetype": "text/x-python",
   "name": "python",
   "nbconvert_exporter": "python",
   "pygments_lexer": "ipython3",
   "version": "3.10.16"
  }
 },
 "nbformat": 4,
 "nbformat_minor": 5
}
