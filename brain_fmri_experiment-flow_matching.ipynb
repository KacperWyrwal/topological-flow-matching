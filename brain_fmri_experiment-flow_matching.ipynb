{
 "cells": [
  {
   "cell_type": "code",
   "execution_count": 1,
   "id": "69aeba7b",
   "metadata": {},
   "outputs": [],
   "source": [
    "import torch \n",
    "import os\n",
    "import math\n",
    "import numpy as np\n",
    "import ot \n",
    "import plotly.express as px\n",
    "import scipy\n",
    "from torch_ema import ExponentialMovingAverage\n",
    "from matplotlib import pyplot as plt\n",
    "from matplotlib import cm\n",
    "from tqdm import tqdm\n",
    "from abc import ABC, abstractmethod\n",
    "from matplotlib.colors import Normalize\n",
    "from matplotlib.collections import LineCollection\n",
    "from geomloss import SamplesLoss\n",
    "import sklearn\n",
    "import pandas as pd\n",
    "\n",
    "\n",
    "torch.set_default_dtype(torch.float64)\n",
    "device = torch.device(\"cuda\" if torch.cuda.is_available() else \"cpu\")\n",
    "torch.set_default_device(device)"
   ]
  },
  {
   "cell_type": "markdown",
   "id": "53824a85",
   "metadata": {},
   "source": [
    "## Utils"
   ]
  },
  {
   "cell_type": "code",
   "execution_count": 2,
   "id": "7cc26e5c",
   "metadata": {},
   "outputs": [
    {
     "data": {
      "text/plain": [
       "24"
      ]
     },
     "execution_count": 2,
     "metadata": {},
     "output_type": "execute_result"
    }
   ],
   "source": [
    "math.prod(torch.Size((2, 3, 4)))"
   ]
  },
  {
   "cell_type": "code",
   "execution_count": 3,
   "id": "800e8d01",
   "metadata": {},
   "outputs": [],
   "source": [
    "def sample_moons(shape: torch.Size, *, noise_std: float = 0.05) -> torch.Tensor:\n",
    "    n = math.prod(shape)\n",
    "\n",
    "    x0 = sklearn.datasets.make_moons(n_samples=n, noise=noise_std)[0]\n",
    "    x0 = torch.as_tensor(x0)\n",
    "    x0 = x0 - torch.tensor([0.5, 0.25])\n",
    "\n",
    "    x0 = x0.reshape(*shape, -1)\n",
    "    return x0 \n",
    "\n",
    "\n",
    "def sample_eight_gaussians(shape: torch.Size, *, radius: float = 2.0, noise_std: float = 0.2) -> torch.Tensor:\n",
    "    n = math.prod(shape)\n",
    "\n",
    "    angles = np.linspace(0, 2 * np.pi, 8, endpoint=False)\n",
    "    centers = np.column_stack([np.cos(angles), np.sin(angles)]) * radius\n",
    "    x1 = sklearn.datasets.make_blobs(\n",
    "        n_samples=n, \n",
    "        centers=centers, \n",
    "        cluster_std=noise_std, \n",
    "    )[0]\n",
    "    x1 = torch.as_tensor(x1)\n",
    "\n",
    "    x1 = x1.reshape(*shape, -1)\n",
    "    return x1\n",
    "\n",
    "\n",
    "class Moons(torch.distributions.Distribution):\n",
    "\n",
    "    def __init__(self, noise_std: float = 0.05) -> None:\n",
    "        super().__init__(validate_args=False)\n",
    "        self.noise_std = noise_std\n",
    "\n",
    "    def sample(self, shape) -> torch.Tensor: \n",
    "        return sample_moons(shape, noise_std=self.noise_std)\n",
    "\n",
    "\n",
    "class EightGaussians(torch.distributions.Distribution):\n",
    "\n",
    "    def __init__(self, radius: float = 2.0, noise_std: float = 0.2) -> None:\n",
    "        super().__init__(validate_args=False)\n",
    "        self.radius = radius \n",
    "        self.noise_std = noise_std\n",
    "\n",
    "    def sample(self, shape) -> torch.Tensor:\n",
    "        return sample_eight_gaussians(shape, radius=self.radius, noise_std=self.noise_std)\n",
    "\n",
    "\n",
    "def torch_divmod(n: torch.Tensor, d: int) -> tuple[torch.Tensor, torch.Tensor]:\n",
    "    \"\"\"\n",
    "    Equivalent to divmod for tensors. TODO If implemented nicely in pytorch, could submit a PR. \n",
    "\n",
    "    parameters:\n",
    "        n: torch.Tensor, shape [...]\n",
    "        d: int\n",
    "\n",
    "    returns:\n",
    "        tuple of tensors, shape [...]\n",
    "    \"\"\"\n",
    "    return n // d, n % d\n",
    "\n",
    "\n",
    "def joint_multinomial(distribution: torch.Tensor, num_samples: int, replacement: bool = True) -> tuple[torch.Tensor, torch.Tensor]:\n",
    "    \"\"\"\n",
    "    Sample from a joint categorical distribution.\n",
    "\n",
    "    parameters:\n",
    "        distribution: torch.Tensor, shape (N, M)\n",
    "        num_samples: int, number of samples to draw\n",
    "        replacement: bool, whether to sample with replacement\n",
    "\n",
    "    returns:\n",
    "        torch.Tensor, shape (num_samples, 2)\n",
    "    \"\"\"\n",
    "    n, _ = distribution.shape\n",
    "    res = torch.multinomial(distribution.flatten(), num_samples, replacement=replacement)\n",
    "    res_i, res_j = torch_divmod(res, n)\n",
    "    return res_i, res_j\n",
    "\n",
    "\n",
    "def as_tensors(*args, dtype: torch.dtype | None = None, device: torch.device | None = None) -> tuple[torch.Tensor, ...]:\n",
    "    \"\"\"\n",
    "    Convert all arguments to tensors.\n",
    "    \"\"\"\n",
    "    return tuple(torch.as_tensor(arg, dtype=dtype, device=device) for arg in args)\n",
    "\n",
    "\n",
    "class PossiblyDegenerateNormal(torch.distributions.Normal):\n",
    "\n",
    "    arg_constraints = {\n",
    "        \"loc\": torch.distributions.constraints.real, \n",
    "        \"scale\": torch.distributions.constraints.greater_than_eq(0.0),\n",
    "    }\n",
    "\n",
    "    # TODO support is still given as Real()\n",
    "\n",
    "    def __init__(\n",
    "        self, \n",
    "        loc: torch.Tensor | float, \n",
    "        scale: torch.Tensor | float, \n",
    "        validate_args: bool | None = None, \n",
    "    ) -> None:\n",
    "        super().__init__(loc=loc, scale=scale, validate_args=validate_args)\n",
    "        self.is_degenerate = scale == 0.0\n",
    "\n",
    "    def log_prob(self, value: torch.Tensor) -> torch.Tensor:\n",
    "        log_prob_if_nondegenerate = super().log_prob(value)\n",
    "        log_prob_if_degenerate = torch.where(\n",
    "            self.loc == value, # This broadcasts in the same way as super().log_prob\n",
    "            0.0, \n",
    "            -torch.inf,\n",
    "        )\n",
    "        return torch.where(\n",
    "            self.is_degenerate,\n",
    "            log_prob_if_degenerate, \n",
    "            log_prob_if_nondegenerate,\n",
    "        )\n",
    "\n",
    "    def cdf(self, value: torch.Tensor) -> torch.Tensor:\n",
    "        cdf_if_nondegenerate = super().cdf(value)\n",
    "        cdf_if_degenerate = torch.where(\n",
    "            self.loc <= value, \n",
    "            1.0,\n",
    "            0.0,\n",
    "        )\n",
    "        return torch.where(\n",
    "            self.is_degenerate,\n",
    "            cdf_if_degenerate, \n",
    "            cdf_if_nondegenerate,\n",
    "        ) \n",
    "\n",
    "    def icdf(self, value: torch.Tensor) -> torch.Tensor:\n",
    "        icdf_if_nondegenerate = super().icdf(value)\n",
    "        icdf_if_degenerate = self.loc\n",
    "        return torch.where(\n",
    "            self.is_degenerate,\n",
    "            icdf_if_degenerate, \n",
    "            icdf_if_nondegenerate,\n",
    "        )"
   ]
  },
  {
   "cell_type": "markdown",
   "id": "37c1c0cc",
   "metadata": {},
   "source": [
    "## SDEs and SDE solvers"
   ]
  },
  {
   "cell_type": "code",
   "execution_count": 4,
   "id": "abd4b6fd",
   "metadata": {},
   "outputs": [],
   "source": [
    "class SDE(ABC):\n",
    "    \"\"\"\n",
    "    Base class for Diagonalizable SDEs. \n",
    "    \"\"\"\n",
    "    def __init__(self, dim: int, *, device: torch.device | None = None):\n",
    "        self._dim = dim \n",
    "        self.device = device \n",
    "\n",
    "    def to(self, device: torch.device | None = None) -> \"SDE\":\n",
    "        if device is not None:\n",
    "            self.device = device \n",
    "        return self \n",
    "\n",
    "    @property\n",
    "    def dim(self) -> int:\n",
    "        return self._dim\n",
    "\n",
    "    \n",
    "    @abstractmethod\n",
    "    def drift(\n",
    "        self, \n",
    "        t: torch.Tensor,\n",
    "        x: torch.Tensor,\n",
    "    ) -> torch.Tensor:\n",
    "        pass \n",
    "\n",
    "    @abstractmethod\n",
    "    def diffusion(\n",
    "        self, \n",
    "        t: torch.Tensor,\n",
    "        x: torch.Tensor,\n",
    "    ) -> torch.Tensor:\n",
    "        pass \n",
    "\n",
    "    @abstractmethod\n",
    "    def transition(\n",
    "        self, \n",
    "        t0: torch.Tensor, \n",
    "        t1: torch.Tensor,\n",
    "    ) -> torch.Tensor:\n",
    "        pass\n",
    "\n",
    "    def _mean(self, t: torch.Tensor) -> torch.Tensor:\n",
    "        raise NotImplementedError(\"Unconditional mean not implemented for this SDE.\") \n",
    "\n",
    "    @abstractmethod\n",
    "    def _mean_with_initial_condition(\n",
    "        self, \n",
    "        t: torch.Tensor, \n",
    "        *, \n",
    "        t0: torch.Tensor | None = None,\n",
    "        x0: torch.Tensor | None = None,\n",
    "    ) -> torch.Tensor:\n",
    "        pass \n",
    "\n",
    "    @abstractmethod\n",
    "    def _mean_with_initial_and_final_condition(\n",
    "        self, \n",
    "        t: torch.Tensor, \n",
    "        *, \n",
    "        t0: torch.Tensor | None = None,\n",
    "        x0: torch.Tensor | None = None,\n",
    "        t1: torch.Tensor | None = None,\n",
    "        x1: torch.Tensor | None = None,\n",
    "    ) -> torch.Tensor:\n",
    "        pass \n",
    "\n",
    "    def mean(\n",
    "        self, \n",
    "        t: torch.Tensor, \n",
    "        *,\n",
    "        t0: torch.Tensor | None = None, \n",
    "        x0: torch.Tensor | None = None,\n",
    "        t1: torch.Tensor | None = None,\n",
    "        x1: torch.Tensor | None = None,\n",
    "    ) -> torch.Tensor:\n",
    "        \"\"\"\n",
    "        Returns the mean of the SDE at time t. May be conditioned on initial and/or final conditions. \n",
    "        If t0 and t1 are True, then t0 = 0 and t1 = 1. \n",
    "\n",
    "        parameters: \n",
    "            t (torch.Tensor): [...] Times.\n",
    "            t0 (torch.Tensor): [...] Start times.\n",
    "            x0 (torch.Tensor): [..., D] Initial value.\n",
    "            t1 (torch.Tensor): [...] End times.\n",
    "\n",
    "        returns: \n",
    "            torch.Tensor: [..., D] Mean.\n",
    "        \"\"\"\n",
    "        if x0 is not None and x1 is not None:\n",
    "            if t0 is None:\n",
    "                t0 = t.new_zeros(t.shape) # [...]\n",
    "            if t1 is None:\n",
    "                t1 = t.new_ones(t.shape) # [...]\n",
    "            return self._mean_with_initial_and_final_condition(t=t, t0=t0, x0=x0, t1=t1, x1=x1)\n",
    "        elif x0 is not None:\n",
    "            if t0 is None:\n",
    "                t0 = t.new_zeros(t.shape) # [...]\n",
    "            return self._mean_with_initial_condition(t=t, t0=t0, x0=x0)\n",
    "        else:\n",
    "            return self._mean(t)\n",
    "\n",
    "    def _variance(\n",
    "        self, \n",
    "        t: torch.Tensor, \n",
    "    ) -> torch.Tensor:\n",
    "        raise NotImplementedError(\"Unconditional variance not implemented for this SDE.\") \n",
    "\n",
    "    @abstractmethod\n",
    "    def _variance_with_initial_condition(\n",
    "        self, \n",
    "        t: torch.Tensor, \n",
    "        *, \n",
    "        t0: torch.Tensor | None = None,\n",
    "    ) -> torch.Tensor:\n",
    "        pass \n",
    "\n",
    "    def _variance_with_initial_and_final_condition(\n",
    "        self, \n",
    "        t: torch.Tensor, \n",
    "        *, \n",
    "        t0: torch.Tensor | None = None, \n",
    "        t1: torch.Tensor | None = None,\n",
    "    ) -> torch.Tensor:\n",
    "        pass \n",
    "\n",
    "    def variance(\n",
    "        self, \n",
    "        t: torch.Tensor, \n",
    "        *, \n",
    "        t0: torch.Tensor | bool | None = None, \n",
    "        t1: torch.Tensor | bool | None = None,\n",
    "    ) -> torch.Tensor:\n",
    "        \"\"\"\n",
    "        Returns the variance of the SDE at time t. May be conditioned on initial and/or final conditions. \n",
    "        If t0 and t1 are True, then t0 = 0 and t1 = 1. \n",
    "\n",
    "        parameters: \n",
    "            t (torch.Tensor): [...] Times.\n",
    "            t0 (torch.Tensor): [...] Start times.\n",
    "            t1 (torch.Tensor): [...] End times.\n",
    "        \n",
    "        returns: \n",
    "            torch.Tensor: [..., D] Variance.\n",
    "        \"\"\"\n",
    "        # Set times to default values \n",
    "        if t0 is True:\n",
    "            t0 = t.new_zeros(t.shape) # [...]\n",
    "        if t1 is True:\n",
    "            t1 = t.new_ones(t.shape) # [...]\n",
    "\n",
    "        # Get variance assuming stochastic dimension\n",
    "        if t0 is not None and t1 is not None:\n",
    "            res = self._variance_with_initial_and_final_condition(t=t, t0=t0, t1=t1)\n",
    "        elif t0 is not None:\n",
    "            res = self._variance_with_initial_condition(t=t, t0=t0)\n",
    "        else:\n",
    "            res = self._variance(t)\n",
    "\n",
    "        return res\n",
    "\n",
    "    def _covariance(\n",
    "        self, \n",
    "        s: torch.Tensor,\n",
    "        t: torch.Tensor,\n",
    "    ) -> torch.Tensor:\n",
    "        raise NotImplementedError(\"Unconditional covariance not implemented for this SDE.\") \n",
    "\n",
    "    def _covariance_with_initial_condition(\n",
    "        self, \n",
    "        s: torch.Tensor, \n",
    "        t: torch.Tensor, \n",
    "        *, \n",
    "        t0: torch.Tensor | None = None,\n",
    "    ) -> torch.Tensor:\n",
    "        \"\"\"\n",
    "        Returns the covariance of the SDE between times s and t conditioned on being at x0 at time t0. \n",
    "\n",
    "        parameters: \n",
    "            s (torch.Tensor): [...] Start times.\n",
    "            t (torch.Tensor): [...] End times.\n",
    "            t0 (torch.Tensor): [...] Conditioning times.\n",
    "        returns: \n",
    "            torch.Tensor: [..., D] Diagonal of the (diagonal) covariance matrix.\n",
    "        \"\"\"\n",
    "        r = torch.minimum(s, t)\n",
    "        return self.transition(t0=r, t1=t) * self.variance(t=r, t0=t0) * self.transition(t0=r, t1=s)\n",
    "\n",
    "    def _covariance_with_initial_and_final_condition(\n",
    "        self, \n",
    "        s: torch.Tensor,\n",
    "        t: torch.Tensor,\n",
    "        *, \n",
    "        t0: torch.Tensor | None = None,\n",
    "        t1: torch.Tensor | None = None,\n",
    "    ) -> torch.Tensor:\n",
    "        # This could be implemented already here by conditioning of Gaussian processes, but is not needed for now. \n",
    "        raise NotImplementedError(\"Unconditional covariance not implemented yet. Can be implemented by the Gaussian process conditioning rule.\") \n",
    "\n",
    "    def covariance(\n",
    "        self, \n",
    "        s: torch.Tensor, \n",
    "        t: torch.Tensor, \n",
    "        *, \n",
    "        t0: torch.Tensor | bool | None = None, \n",
    "        t1: torch.Tensor | bool | None = None,\n",
    "    ) -> torch.Tensor:\n",
    "        if (t0 is True or t0 is not None) and (t1 is True or t1 is not None):\n",
    "            return self._covariance_with_initial_and_final_condition(s=s, t=t, t0=t0, t1=t1)\n",
    "        elif (t0 is True or t0 is not None):\n",
    "            return self._covariance_with_initial_condition(s=s, t=t, t0=t0)\n",
    "        else: \n",
    "            return self._covariance(s=s, t=t)\n",
    "\n",
    "    @abstractmethod\n",
    "    def marginal_distribution(\n",
    "        self, \n",
    "        t: torch.Tensor,\n",
    "        t0: torch.Tensor | None = None, \n",
    "        x0: torch.Tensor | None = None,\n",
    "        t1: torch.Tensor | None = None,\n",
    "        x1: torch.Tensor | None = None,\n",
    "    ) -> torch.Tensor:\n",
    "        \"\"\"\n",
    "        Returns the marginal distribution of the SDE at time t. May be conditioned on initial and/or final conditions. \n",
    "        If t0 and t1 are True, then t0 = 0 and t1 = 1. \n",
    "\n",
    "        parameters: \n",
    "            t (torch.Tensor): [...] Times.\n",
    "            t0 (torch.Tensor): [...] Start times.\n",
    "            x0 (torch.Tensor): [..., D] Initial value.\n",
    "            t1 (torch.Tensor): [...] End times.\n",
    "            x1 (torch.Tensor): [..., D] Target value.\n",
    "\n",
    "        returns: \n",
    "            torch.Tensor: [..., D] Marginal distribution at time t. \n",
    "        \"\"\"\n",
    "\n",
    "\n",
    "class DiagonalizableSDE(SDE):\n",
    "\n",
    "    @abstractmethod\n",
    "    def transform(self, x: torch.Tensor) -> torch.Tensor:\n",
    "        \"\"\"\n",
    "        Returns the transform of the SDE---i.e. x in eigencoordinates.\n",
    "\n",
    "        parameters: \n",
    "            x (torch.Tensor): [..., D] Initial value.\n",
    "\n",
    "        returns: \n",
    "            torch.Tensor: [..., D] Transform of the SDE.\n",
    "        \"\"\"\n",
    "\n",
    "    @abstractmethod\n",
    "    def inverse_transform(self, x: torch.Tensor) -> torch.Tensor:\n",
    "        \"\"\"\n",
    "        Transforms the points from eigencoordinates to the original coordinates. \n",
    "\n",
    "        parameters: \n",
    "            x (torch.Tensor): [..., D] Points in eigencoordinates.\n",
    "\n",
    "        returns: \n",
    "            torch.Tensor: [..., D] Points in original coordinates.\n",
    "        \"\"\"\n",
    "        pass\n",
    "\n",
    "    def _variance_with_initial_and_final_condition(self, t: torch.Tensor, *, t0: torch.Tensor | None = None, t1: torch.Tensor | None = None) -> torch.Tensor:\n",
    "        \"\"\"\n",
    "        Returns the variance of the SDE at time t, conditioned on being zero variance at time t0 and t1.\n",
    "\n",
    "        parameters: \n",
    "            t (torch.Tensor): [...] Times.\n",
    "            t0 (torch.Tensor): [...] Conditioning times.\n",
    "            t1 (torch.Tensor): [...] Conditioning times.\n",
    "\n",
    "        returns: \n",
    "            torch.Tensor: [..., D] Diagonal of the conditional variance of the SDE.\n",
    "        \"\"\"\n",
    "        sigmatt_given_t0 = self.variance(t=t, t0=t0)\n",
    "        sigmat1t_given_t0 = self.covariance(s=t, t=t1, t0=t0)\n",
    "        sigmat1t1_given_t0 = self.variance(t=t1, t0=t0)\n",
    "        \n",
    "        sigmatt_given_t0t1 = sigmatt_given_t0 - sigmat1t_given_t0.square() / sigmat1t1_given_t0\n",
    "\n",
    "        return sigmatt_given_t0t1\n",
    "\n",
    "    def marginal_distribution(\n",
    "        self, \n",
    "        t: torch.Tensor,\n",
    "        t0: torch.Tensor | None = None, \n",
    "        x0: torch.Tensor | None = None,\n",
    "        t1: torch.Tensor | None = None,\n",
    "        x1: torch.Tensor | None = None,\n",
    "    ) -> torch.Tensor:\n",
    "        \"\"\"\n",
    "        Returns the marginal distribution of the SDE at time t. May be conditioned on initial and/or final conditions. \n",
    "        If t0 and t1 are True, then t0 = 0 and t1 = 1. \n",
    "\n",
    "        parameters: \n",
    "            t (torch.Tensor): [...] Times.\n",
    "            t0 (torch.Tensor): [...] Start times.\n",
    "            x0 (torch.Tensor): [..., D] Initial value.\n",
    "            t1 (torch.Tensor): [...] End times.\n",
    "            x1 (torch.Tensor): [..., D] Target value.\n",
    "\n",
    "        returns: \n",
    "            torch.Tensor: [..., D] Marginal distribution at time t. \n",
    "        \"\"\"\n",
    "        if x0 is not None and t0 is None:\n",
    "            t0 = t.new_zeros(t.shape) # [...]\n",
    "        if x1 is not None and t1 is None:\n",
    "            t1 = t.new_ones(t.shape) # [...]\n",
    "\n",
    "        mean = self.mean(t=t, t0=t0, x0=x0, t1=t1, x1=x1)\n",
    "        variance = self.variance(t=t, t0=t0, t1=t1)\n",
    "        normal = PossiblyDegenerateNormal(loc=mean, scale=variance.sqrt())\n",
    "        return torch.distributions.Independent(normal, reinterpreted_batch_ndims=1)\n",
    "\n",
    "\n",
    "class OUDiagonalizableSDE(DiagonalizableSDE):\n",
    "    def __init__(self, alpha_diagonal: torch.Tensor, gamma_diagonal: torch.Tensor, device: torch.device | None = None):\n",
    "        \"\"\"\n",
    "        Creates the diagonal OU SDE.\n",
    "\n",
    "        ..math:: \n",
    "            dX_t = \\alpha X_t dt + \\gamma dW_t\n",
    "\n",
    "        parameters: \n",
    "            alpha_diagonal (torch.Tensor): [D] Vector representing the diagonal of the (diagonal)drift matrix alpha.\n",
    "            gamma_diagonal (torch.Tensor): [D] Vector representing the diagonal of the (diagonal) diffusion matrix gamma.\n",
    "        \"\"\"\n",
    "        dim = alpha_diagonal.shape[0]\n",
    "        super().__init__(dim=dim, device=device)\n",
    "        self.alpha_diagonal = alpha_diagonal.to(device)\n",
    "        self.gamma_diagonal = gamma_diagonal.to(device)\n",
    "\n",
    "    def to(self, device: torch.device) -> \"OUDiagonalizableSDE\":\n",
    "        super().to(device)\n",
    "        self.alpha_diagonal = self.alpha_diagonal.to(device)\n",
    "        self.gamma_diagonal = self.gamma_diagonal.to(device)\n",
    "        return self \n",
    "\n",
    "    def drift(self, t: torch.Tensor | None = None, x: torch.Tensor | None = None) -> torch.Tensor:\n",
    "        \"\"\"\n",
    "        Returns the drift of the SDE. \n",
    "\n",
    "        parameters: \n",
    "            t (torch.Tensor): [...] Times.\n",
    "            x (torch.Tensor): [..., D] Initial value.\n",
    "\n",
    "        returns: \n",
    "            torch.Tensor: [..., D] Drift of the SDE.\n",
    "        \"\"\"\n",
    "        return self.alpha_diagonal * x\n",
    "\n",
    "    def diffusion(self, t: torch.Tensor | None = None, x: torch.Tensor | None = None) -> torch.Tensor:\n",
    "        \"\"\"\n",
    "        Returns the diffusion of the SDE. \n",
    "\n",
    "        parameters: \n",
    "            t (torch.Tensor): [...] Times.\n",
    "\n",
    "        returns: \n",
    "            torch.Tensor: [D] Diffusion of the SDE.\n",
    "        \"\"\"\n",
    "        return self.gamma_diagonal\n",
    "\n",
    "    def transition(self, t0: torch.Tensor, t1: torch.Tensor) -> torch.Tensor:\n",
    "        \"\"\"\n",
    "        Returns a vector representing the transition matrix, which is itself a diagonal matrix. \n",
    "\n",
    "        parameters: \n",
    "            t0 (torch.Tensor): [...] Start times.\n",
    "            t1 (torch.Tensor): [...] End times.\n",
    "\n",
    "        returns: \n",
    "            torch.Tensor: [..., D] Diagonal of the transition matrix.\n",
    "        \"\"\"\n",
    "        delta = t1 - t0 # [...]\n",
    "        return torch.exp(torch.einsum(\"d, ... -> ...d\", self.alpha_diagonal, delta))\n",
    "\n",
    "\n",
    "    def _variance_with_initial_condition_over_gamma_squared(\n",
    "        self, \n",
    "        t: torch.Tensor, \n",
    "        *, \n",
    "        t0: torch.Tensor | None = None,\n",
    "        min_alpha_nonzero: float = 1e-8,\n",
    "    ) -> torch.Tensor:\n",
    "        \"\"\"\n",
    "        Returns the variance of the SDE at time t, conditioned on being zero-variance at time t0.\n",
    "\n",
    "        parameters: \n",
    "            t (torch.Tensor): [...] Times.\n",
    "            t0 (torch.Tensor): [...] Conditioning times.\n",
    "\n",
    "        returns: \n",
    "            torch.Tensor: [..., D] Diagonal of the variance of the SDE.\n",
    "        \"\"\"\n",
    "        variance_if_alpha_zero = (t - t0).unsqueeze(-1) # [..., 1]\n",
    "        variance_if_alpha_nonzero = (\n",
    "            (self.transition(t0=t0, t1=t).square() - 1) / (2 * self.alpha_diagonal)\n",
    "        ) # [..., D]\n",
    "        return torch.where(self.alpha_diagonal.abs() < min_alpha_nonzero, variance_if_alpha_zero, variance_if_alpha_nonzero) # [..., D]\n",
    "\n",
    "\n",
    "    def _covariance_with_initial_condition_over_gamma_squared(\n",
    "        self, \n",
    "        s: torch.Tensor, \n",
    "        t: torch.Tensor, \n",
    "        *, \n",
    "        t0: torch.Tensor | None = None,\n",
    "        min_alpha_nonzero: float = 1e-8,\n",
    "    ) -> torch.Tensor:\n",
    "        \"\"\"\n",
    "        Returns the covariance of the SDE between times s and t conditioned on being at x0 at time t0. \n",
    "\n",
    "        parameters: \n",
    "            s (torch.Tensor): [...] Start times.\n",
    "            t (torch.Tensor): [...] End times.\n",
    "            t0 (torch.Tensor): [...] Conditioning times.\n",
    "        returns: \n",
    "            torch.Tensor: [..., D] Diagonal of the (diagonal) covariance matrix.\n",
    "        \"\"\"\n",
    "        r = torch.minimum(s, t)\n",
    "        return (\n",
    "            self.transition(t0=r, t1=t) \n",
    "            * self._variance_with_initial_condition_over_gamma_squared(t=r, t0=t0, min_alpha_nonzero=min_alpha_nonzero) \n",
    "            * self.transition(t0=r, t1=s)\n",
    "        )\n",
    "\n",
    "    def _variance_with_initial_condition(\n",
    "        self, \n",
    "        t: torch.Tensor, \n",
    "        *, \n",
    "        t0: torch.Tensor | None = None,\n",
    "        min_alpha_nonzero: float = 1e-8\n",
    "    ) -> torch.Tensor:\n",
    "        \"\"\"\n",
    "        Returns the variance of the SDE at time t, conditioned on being zero-variance at time t0.\n",
    "\n",
    "        parameters: \n",
    "            t (torch.Tensor): [...] Times.\n",
    "            t0 (torch.Tensor): [...] Conditioning times.\n",
    "\n",
    "        returns: \n",
    "            torch.Tensor: [..., D] Diagonal of the variance of the SDE.\n",
    "        \"\"\"\n",
    "        return self.gamma_diagonal.square() * self._variance_with_initial_condition_over_gamma_squared(t=t, t0=t0, min_alpha_nonzero=min_alpha_nonzero)\n",
    "\n",
    "    def _mean_with_initial_condition(self, t: torch.Tensor, t0: torch.Tensor | None = None, x0: torch.Tensor | None = None) -> torch.Tensor:\n",
    "        \"\"\"\n",
    "        Returns the mean of the SDE conditioned on being at x0 at time t0.\n",
    "        \n",
    "        parameters: \n",
    "            t (torch.Tensor): [...] Times.\n",
    "            t0 (torch.Tensor): [...] Start times.\n",
    "            x0 (torch.Tensor): [..., D] Initial value.\n",
    "\n",
    "        returns: \n",
    "            torch.Tensor: [..., D] Mean of the SDE.\n",
    "        \"\"\"\n",
    "        return self.transition(t0=t0, t1=t) * x0 # [..., D] * [..., D] -> [..., D]\n",
    "\n",
    "    def _mean_with_initial_and_final_condition(self, t: torch.Tensor, t0: torch.Tensor | None = None, x0: torch.Tensor | None = None, t1: torch.Tensor | None = None, x1: torch.Tensor | None = None) -> torch.Tensor:\n",
    "        \"\"\"\n",
    "        Returns the mean of the SDE conditioned on being at x0 at time t0 and x1 at time t1. \n",
    "\n",
    "        parameters: \n",
    "            t (torch.Tensor): [...] End times.\n",
    "            t0 (torch.Tensor): [...] Start times.\n",
    "            x0 (torch.Tensor): [..., D] Initial value.\n",
    "            t1 (torch.Tensor): [...] End times.\n",
    "            x1 (torch.Tensor): [..., D] Target value.\n",
    "\n",
    "        returns: \n",
    "            torch.Tensor: [..., D] Conditional mean of the SDE.\n",
    "        \"\"\"\n",
    "        m_t = self._mean_with_initial_condition(t=t, t0=t0, x0=x0)\n",
    "        m_t1 = self._mean_with_initial_condition(t=t1, t0=t0, x0=x0)\n",
    "        sigma_t1t_over_gamma_squared = self._covariance_with_initial_condition_over_gamma_squared(s=t, t=t1, t0=t0) # FIXME This should be symmetric but is antisymmetric\n",
    "        sigma_t1t1_over_gamma_squared = self._variance_with_initial_condition_over_gamma_squared(t=t1, t0=t0)\n",
    "        return m_t + sigma_t1t_over_gamma_squared / sigma_t1t1_over_gamma_squared * (x1 - m_t1)\n",
    "     \n",
    "\n",
    "class PossiblyDegenerateOUDiagonalizableSDE(OUDiagonalizableSDE):\n",
    "    \n",
    "    def __init__(self, alpha_diagonal: torch.Tensor, gamma_diagonal: torch.Tensor, device: torch.device | None = None):\n",
    "        super().__init__(alpha_diagonal, gamma_diagonal, device)\n",
    "        self.is_degenerate = self.gamma_diagonal == 0.0\n",
    "\n",
    "    def variance(self, t: torch.Tensor, *, t0: torch.Tensor | bool | None = None, t1: torch.Tensor | bool | None = None) -> torch.Tensor:\n",
    "        return torch.where(\n",
    "            self.is_degenerate, \n",
    "            0.0, \n",
    "            super().variance(t=t, t0=t0, t1=t1),\n",
    "        )\n",
    "\n",
    "    def covariance(self, s: torch.Tensor, t: torch.Tensor, *, t0: torch.Tensor | bool | None = None, t1: torch.Tensor | bool | None = None) -> torch.Tensor:\n",
    "        return torch.where(\n",
    "            self.is_degenerate, \n",
    "            0.0, \n",
    "            super().covariance(s=s, t=t, t0=t0, t1=t1),\n",
    "        )\n",
    "\n",
    "\n",
    "class HeatBMTSDE(PossiblyDegenerateOUDiagonalizableSDE):\n",
    "    def __init__(self, L: torch.Tensor, c: torch.Tensor, sigma: torch.Tensor, device: torch.device | None = None, q_brownian_motion: bool = False, alpha: float | None = None):\n",
    "        \"\"\"\n",
    "        Creates the heat BM SDE:\n",
    "\n",
    "        ..math:: \n",
    "            dX_t = -cLX_t dt + \\sigma dW_t\n",
    "\n",
    "        parameters: \n",
    "            L (torch.Tensor): [D, D] Matrix representing the Laplacian.\n",
    "            c (torch.Tensor): [] Scalar greater than or equal to 0.\n",
    "            sigma (torch.Tensor): [] Scalar diffusion coefficient.\n",
    "        \"\"\"\n",
    "        L = torch.as_tensor(L, device=device)\n",
    "        c = torch.as_tensor(c, device=device)\n",
    "        sigma = torch.as_tensor(sigma, device=device)\n",
    "        \n",
    "        eigenvalues, eigenvectors = torch.linalg.eigh(L)\n",
    "        alpha_diagonal = -c * eigenvalues\n",
    "        if q_brownian_motion:\n",
    "            alpha = alpha or (L.shape[0] / 2.0 + 1.0) # TODO Add a better default. Alpha must be greater that dim / 2 though\n",
    "            Q_diagonal = (torch.ones_like(eigenvalues) - eigenvalues).pow(-alpha)\n",
    "            gamma_diagonal = sigma * Q_diagonal.sqrt()\n",
    "        else:\n",
    "            gamma_diagonal = sigma * torch.ones_like(eigenvalues) # TODO Add a Q-Brownian motion option. If true, multiply by sqrt(eigenvalues)\n",
    "        \n",
    "        super().__init__(alpha_diagonal=alpha_diagonal, gamma_diagonal=gamma_diagonal, device=device)\n",
    "        self.eigenvalues = eigenvalues.to(device)\n",
    "        self.eigenvectors = eigenvectors.to(device)\n",
    "\n",
    "    def to(self, device: torch.device) -> \"HeatBMTSDE\":\n",
    "        super().to(device)\n",
    "        self.eigenvalues = self.eigenvalues.to(device)\n",
    "        self.eigenvectors = self.eigenvectors.to(device)\n",
    "        return self \n",
    "\n",
    "    def transform(self, x: torch.Tensor) -> torch.Tensor:\n",
    "        \"\"\"\n",
    "        Returns the transform of the SDE -- i.e. x in eigencoordinates.\n",
    "\n",
    "        parameters: \n",
    "            x (torch.Tensor): [..., D] Initial value.\n",
    "\n",
    "        returns: \n",
    "            torch.Tensor: [..., D] Transform of the SDE.\n",
    "        \"\"\"\n",
    "        return torch.einsum(\"ij, ...j -> ...i\", self.eigenvectors.mT, x) # [D, D] * [..., D] -> [..., D]\n",
    "\n",
    "    def inverse_transform(self, x: torch.Tensor) -> torch.Tensor:\n",
    "        \"\"\"\n",
    "        Returns the inverse transform of the SDE. \n",
    "\n",
    "        parameters: \n",
    "            x (torch.Tensor): [..., D] Initial value.\n",
    "\n",
    "        returns: \n",
    "            torch.Tensor: [..., D] Inverse transform of the SDE.\n",
    "        \"\"\"\n",
    "        return torch.einsum(\"ij, ...j -> ...i\", self.eigenvectors, x) # [D, D] * [..., D] -> [..., D]\n",
    "\n",
    "\n",
    "class UniformTimesteps:\n",
    "    def __init__(self, n: int, device: torch.device | None = None, dtype: torch.dtype | None = None, t0: float | None = 1e-4):\n",
    "        assert n > 1, \"Number of timesteps must be greater than 1\"\n",
    "        self.n = n\n",
    "        self.t = torch.linspace(0, 1, n + 1, dtype=dtype, device=device)\n",
    "        if t0 is not None:\n",
    "            self.t[0] = t0\n",
    "        \n",
    "        self.dt = torch.full((n, ), 1.0 / n, dtype=dtype, device=device)\n",
    "        self.device = device \n",
    "    \n",
    "    def to(self, device: torch.device | None = None) -> \"UniformTimesteps\":\n",
    "        if device is not None:\n",
    "            self.t = self.t.to(device)\n",
    "            self.dt = self.dt.to(device)\n",
    "            self.device = device\n",
    "        return self "
   ]
  },
  {
   "cell_type": "markdown",
   "id": "40bfa3ca",
   "metadata": {},
   "source": [
    "## Controls"
   ]
  },
  {
   "cell_type": "code",
   "execution_count": 5,
   "id": "4105fc97",
   "metadata": {},
   "outputs": [],
   "source": [
    "def _bridge_control_generic(\n",
    "    sde: SDE, \n",
    "    t: torch.Tensor, \n",
    "    x: torch.Tensor, \n",
    "    *, \n",
    "    t1: torch.Tensor | None = None, \n",
    "    x1: torch.Tensor,\n",
    ") -> torch.Tensor:\n",
    "    \"\"\"\n",
    "    Returns the control for the bridge of the SDE at time t and position x needed to reach x1 at time t1. \n",
    "\n",
    "    parameters: \n",
    "        sde (SDE): The SDE to create the bridge control for.\n",
    "        t (torch.Tensor): [...] Current times.\n",
    "        x (torch.Tensor): [..., D] Current values.\n",
    "        t1 (torch.Tensor): [...] Target times.\n",
    "        x1 (torch.Tensor): [..., D] Target values.\n",
    "\n",
    "    returns: \n",
    "        torch.Tensor: [..., D] Control.\n",
    "    \"\"\"\n",
    "    if t1 is None:\n",
    "        t1 = x1.new_ones(x1.shape[:-1]) # [...]\n",
    "    score = sde.transition(t0=t, t1=t1) * (x1 - sde.mean(t0=t, x0=x, t=t1)) / sde.variance(t0=t, t=t1)\n",
    "    return sde.diffusion(t=t).square() * score\n",
    "\n",
    "\n",
    "def _bridge_control_ou(\n",
    "    sde: OUDiagonalizableSDE, \n",
    "    t: torch.Tensor, \n",
    "    x: torch.Tensor, \n",
    "    *, \n",
    "    t1: torch.Tensor | None = None, \n",
    "    x1: torch.Tensor,\n",
    ") -> torch.Tensor:\n",
    "    return sde.transition(t0=t, t1=t1) * (x1 - sde.mean(t0=t, x0=x, t=t1)) / sde._variance_with_initial_condition_over_gamma_squared(t0=t, t=t1)\n",
    "\n",
    "\n",
    "def bridge_control(\n",
    "    sde: SDE, \n",
    "    t: torch.Tensor, \n",
    "    x: torch.Tensor, \n",
    "    *, \n",
    "    t1: torch.Tensor | None = None, \n",
    "    x1: torch.Tensor,\n",
    ") -> torch.Tensor:\n",
    "    \"\"\"\n",
    "    Returns the control for the bridge of the SDE at time t and position x needed to reach x1 at time t1. \n",
    "\n",
    "    parameters: \n",
    "        sde (SDE): The SDE to create the bridge control for.\n",
    "        t (torch.Tensor): [...] Current times.\n",
    "        x (torch.Tensor): [..., D] Current values.\n",
    "        t1 (torch.Tensor): [...] Target times.\n",
    "        x1 (torch.Tensor): [..., D] Target values.\n",
    "\n",
    "    returns: \n",
    "        torch.Tensor: [..., D] Control.\n",
    "    \"\"\"\n",
    "    if t1 is None:\n",
    "        t1 = x1.new_ones(x1.shape[:-1]) # [...]\n",
    "\n",
    "    if isinstance(sde, OUDiagonalizableSDE):\n",
    "        return _bridge_control_ou(sde=sde, t=t, x=x, t1=t1, x1=x1)\n",
    "    else:\n",
    "        return _bridge_control_generic(sde=sde, t=t, x=x, t1=t1, x1=x1)\n",
    "\n",
    "\n",
    "class Control:\n",
    "    def __init__(self, device: torch.device | None = None):\n",
    "        self.device = None\n",
    "\n",
    "    def to(self, device: torch.device) -> \"Control\":\n",
    "        self.device = device \n",
    "        return self \n",
    "\n",
    "    @abstractmethod\n",
    "    def control(self, t: torch.Tensor, x: torch.Tensor, **kwargs) -> torch.Tensor:\n",
    "        pass \n",
    "\n",
    "    def __call__(self, t: torch.Tensor, x: torch.Tensor, **kwargs) -> torch.Tensor:\n",
    "        \"\"\"\n",
    "        Returns the control at time t and position x. \n",
    "\n",
    "        parameters: \n",
    "            t (torch.Tensor): [...] times.\n",
    "            x (torch.Tensor): [..., D] values.\n",
    "\n",
    "        returns: \n",
    "            torch.Tensor: [..., D] Control.\n",
    "        \"\"\"\n",
    "        return self.control(t=t, x=x, **kwargs)\n",
    "\n",
    "\n",
    "class ZeroControl(Control):\n",
    "    def control(self, t: torch.Tensor, x: torch.Tensor) -> torch.Tensor:\n",
    "        return x.new_zeros(x.shape) # [..., D]\n",
    "\n",
    "\n",
    "class BridgeControl(Control):\n",
    "    def __init__(self, sde: SDE, x1: torch.Tensor, t1: torch.Tensor | None = None, device: torch.device | None = None): \n",
    "        \"\"\"\n",
    "        Creates the bridge control for the SDE conditioned on being at x1 at time t1. \n",
    "\n",
    "        parameters: \n",
    "            sde (SDE): The SDE to create the bridge control for.\n",
    "            x1 (torch.Tensor): [..., D] Target value.\n",
    "            t1 (torch.Tensor): [...] End times.\n",
    "        \"\"\"\n",
    "        super().__init__(device=device)\n",
    "        self.sde = sde.to(device)\n",
    "        x1 = x1.to(device)\n",
    "        self._x1 = None\n",
    "        self._t1 = None\n",
    "        self.condition(x1=x1, t1=t1)\n",
    "\n",
    "    def to(self, device: torch.device) -> \"BridgeControl\":\n",
    "        super().to(device)\n",
    "        self.sde = self.sde.to(device)\n",
    "        self._x1 = self._x1.to(device)\n",
    "        self._t1 = self._t1.to(device)\n",
    "        return self \n",
    "\n",
    "    def condition(self, x1: torch.Tensor, t1: torch.Tensor | None = None) -> \"BridgeControl\":\n",
    "        \"\"\"\n",
    "        Conditions the bridge on being at x1 at time t1. \n",
    "\n",
    "        parameters: \n",
    "            x1 (torch.Tensor): [..., D] Target value.\n",
    "            t1 (torch.Tensor): [...] End times.\n",
    "\n",
    "        returns: \n",
    "            BridgeControl: The bridge control.\n",
    "        \"\"\"\n",
    "        if t1 is None:\n",
    "            t1 = x1.new_ones(x1.shape[:-1]) # [...]\n",
    "        self._x1 = x1\n",
    "        self._t1 = t1\n",
    "        return self\n",
    "\n",
    "    def control(self, t: torch.Tensor, x: torch.Tensor) -> torch.Tensor:\n",
    "        \"\"\"\n",
    "        Returns the control for the bridge at time t and position x. \n",
    "\n",
    "        parameters: \n",
    "            t (torch.Tensor): [...] times.\n",
    "            x (torch.Tensor): [..., D] values.\n",
    "\n",
    "        returns: \n",
    "            torch.Tensor: [..., D] Control.\n",
    "        \"\"\"\n",
    "        return bridge_control(sde=self.sde, t=t, x=x, t1=self._t1, x1=self._x1)\n",
    "\n",
    "\n",
    "class ModelControl(Control):\n",
    "    def __init__(self, model: torch.nn.Module, device: torch.device | None = None):\n",
    "        super().__init__(device=device)\n",
    "        self.model = model.to(device)\n",
    "\n",
    "    def to(self, device: torch.device | None = None) -> \"ModelControl\":\n",
    "        super().to(device)\n",
    "        self.model = self.model.to(device)\n",
    "        return self \n",
    "\n",
    "    def __call__(self, t: torch.Tensor, x: torch.Tensor) -> torch.Tensor:\n",
    "        return self.model(t, x)\n"
   ]
  },
  {
   "cell_type": "markdown",
   "id": "a0ed57f0",
   "metadata": {},
   "source": [
    "## SDE solvers"
   ]
  },
  {
   "cell_type": "code",
   "execution_count": 6,
   "id": "af9582e8",
   "metadata": {},
   "outputs": [],
   "source": [
    "class EulerMaruyamaSolver(torch.nn.Module):\n",
    "    def __init__(self, sde: SDE, n: int, timesteps: str = \"uniform\"):\n",
    "        # TODO Consider whether to move the SDE into sample_path.\n",
    "        super().__init__()\n",
    "        self.sde = sde\n",
    "\n",
    "        if timesteps == \"uniform\":\n",
    "            self.timesteps = UniformTimesteps(n)\n",
    "        else:\n",
    "            raise ValueError(f\"Invalid timesteps: {timesteps}\")\n",
    "\n",
    "    def dx(self, dt: torch.Tensor, t: torch.Tensor, x: torch.Tensor, *, control: Control) -> torch.Tensor:\n",
    "        \"\"\"\n",
    "        Returns the change in the SDE. \n",
    "\n",
    "        parameters: \n",
    "            dt (torch.Tensor): [] Duration of the timestep.\n",
    "            t (torch.Tensor): [] Time.\n",
    "            x (torch.Tensor): [..., D] Initial value.\n",
    "            control (Control): Control object.\n",
    "\n",
    "        returns: \n",
    "            torch.Tensor: [..., D] Change in the SDE.\n",
    "        \"\"\"\n",
    "        t = t.expand(x.shape[:-1])\n",
    "        drift = self.sde.drift(t=t, x=x) + control(t=t, x=x)\n",
    "        diffusion = self.sde.diffusion(t=t, x=x)\n",
    "        return drift * dt + diffusion * torch.sqrt(dt) * torch.randn_like(x)\n",
    "\n",
    "    def sample_from_terminal(self, x0: torch.Tensor, *, control: Control | None = None) -> torch.Tensor:\n",
    "        \"\"\"\n",
    "        Samples from terminal distribution by running the SDE forward from time 0 to 1.\n",
    "\n",
    "        parameters: \n",
    "            x0 (torch.Tensor): [..., D] Initial value.\n",
    "            control (Control): Control object.\n",
    "\n",
    "        returns: \n",
    "            torch.Tensor: [..., D] Terminal value.\n",
    "        \"\"\"\n",
    "        x0 = self.sde.transform(x0)\n",
    "\n",
    "        if control is None:\n",
    "            control = ZeroControl()\n",
    "\n",
    "        ts = self.timesteps.t\n",
    "        dts = self.timesteps.dt\n",
    "\n",
    "        x = x0\n",
    "        for t, dt in zip(ts[:-1], dts):\n",
    "            x = x + self.dx(dt=dt, t=t, x=x, control=control)\n",
    "\n",
    "        x = self.sde.inverse_transform(x)\n",
    "        return x \n",
    "\n",
    "    def sample_path(self, x0: torch.Tensor, *, control: Control | None = None) -> tuple[torch.Tensor, torch.Tensor]:\n",
    "        \"\"\"\n",
    "        Samples a path from the SDE.\n",
    "\n",
    "        parameters: \n",
    "            x0 (torch.Tensor): [..., D] Initial value.\n",
    "            control (Control): Control object.\n",
    "\n",
    "        returns: \n",
    "            tuple[torch.Tensor, torch.Tensor]: [..., T, D] Path and [T] Time.\n",
    "        \"\"\"\n",
    "        x0 = self.sde.transform(x0)\n",
    "\n",
    "        # normal sample \n",
    "        if control is None:\n",
    "            control = ZeroControl()\n",
    "\n",
    "        ts = self.timesteps.t\n",
    "        dts = self.timesteps.dt\n",
    "\n",
    "        x = x0\n",
    "        xs = [x]\n",
    "        for t, dt in zip(ts[:-1], dts):\n",
    "            x = x + self.dx(dt=dt, t=t, x=x, control=control)\n",
    "            xs.append(x)\n",
    "        xs = torch.stack(xs, dim=-2)\n",
    "        \n",
    "\n",
    "        # inverse trasform\n",
    "        xs = self.sde.inverse_transform(xs)\n",
    "\n",
    "        return xs, ts"
   ]
  },
  {
   "cell_type": "markdown",
   "id": "214e65c2",
   "metadata": {},
   "source": [
    "## Optimal Transport"
   ]
  },
  {
   "cell_type": "code",
   "execution_count": 7,
   "id": "cf5b94c3",
   "metadata": {},
   "outputs": [],
   "source": [
    "class OTSolver: \n",
    "\n",
    "    def __init__(self, sde: SDE, *, epsilon: float = 0.0, normalize_variance: bool = True):\n",
    "        self.sde = sde\n",
    "        \n",
    "        variance_1_given_0 = sde.variance(t=torch.tensor(1.0), t0=torch.tensor(0.0))\n",
    "\n",
    "        variance_1_given_0_is_degenerate = variance_1_given_0 == 0.0\n",
    "\n",
    "        if normalize_variance is False:\n",
    "            scale_epsilon = 0.0\n",
    "            possibly_scaled_variance_nondegenerate = variance_1_given_0\n",
    "        else:\n",
    "            scale_epsilon = torch.prod(\n",
    "                variance_1_given_0[~variance_1_given_0_is_degenerate]\n",
    "            ).pow(1 / sde.dim).item()\n",
    "            possibly_scaled_variance_nondegenerate = variance_1_given_0 / scale_epsilon\n",
    "        \n",
    "        self.possibly_scaled_variance: torch.Tensor = torch.where(\n",
    "            variance_1_given_0_is_degenerate, \n",
    "            1.0, \n",
    "            possibly_scaled_variance_nondegenerate,\n",
    "        )\n",
    "        self.epsilon: float = epsilon * scale_epsilon\n",
    "\n",
    "    def cost(self, x0: torch.Tensor, x1: torch.Tensor) -> torch.Tensor:\n",
    "        \"\"\"\n",
    "        Returns the cost matrix between x0 and x1.\n",
    "\n",
    "        parameters: \n",
    "            x0 (torch.Tensor): [..., N, D] Initial value.\n",
    "            x1 (torch.Tensor): [..., M, D] Target value.\n",
    "\n",
    "        returns: \n",
    "            torch.Tensor: [..., N, M] Cost matrix.\n",
    "        \"\"\"\n",
    "        assert x0.ndim >= 2, \"x0 must have at least 2 dimensions\"\n",
    "        assert x1.ndim >= 2, \"x1 must have at least 2 dimensions\"\n",
    "\n",
    "        # Expand x0 and x1 for broadcasting\n",
    "        # x0_expanded: [..., N, 1, D]\n",
    "        # x1_expanded: [..., 1, M, D]\n",
    "        x0_expanded = x0.unsqueeze(-2)  # [..., N, 1, D]\n",
    "        x1_expanded = x1.unsqueeze(-3)  # [..., 1, M, D]\n",
    "\n",
    "        # Compute cost for each pair (n, m)\n",
    "        # Use the same cost as in self.cost, but vectorized\n",
    "        t0 = x0.new_zeros(x0.shape[:-2] + (x0.shape[-2], 1))  # [..., N, 1]\n",
    "        t1 = x1.new_ones(x0.shape[:-2] + (1, x1.shape[-2]))   # [..., 1, M]\n",
    "        # mean: [..., N, 1, D]\n",
    "        mean = self.sde.mean(t0=t0, x0=x0_expanded, t=t1)\n",
    "        # normed_variance: [D]\n",
    "        z = (x1_expanded - mean) / self.possibly_scaled_variance  # ([..., 1, M, D] - [..., N, 1, D]) / [D] -> [..., N, M, D]\n",
    "        cost = torch.linalg.vector_norm(z, ord=2, dim=-1)  # [..., N, M]\n",
    "        return cost\n",
    "\n",
    "    def solve(\n",
    "        self, \n",
    "        x0: torch.Tensor, \n",
    "        x1: torch.Tensor, \n",
    "        method: str = \"sinkhorn\",\n",
    "        num_iter_max: int = 1000,\n",
    "        stop_threshold: float = 1e-9,\n",
    "        verbose: bool = False,\n",
    "        log: bool = False,\n",
    "        warn: bool = True,\n",
    "    ) -> torch.Tensor:\n",
    "        \"\"\"\n",
    "        Returns the optimal transport plan between x0 and x1.\n",
    "\n",
    "        parameters: \n",
    "            x0 (torch.Tensor): [..., N, D] Initial value.\n",
    "            x1 (torch.Tensor): [..., M, D] Target value.\n",
    "\n",
    "        returns: \n",
    "            torch.Tensor: [..., N, M] Optimal transport plan.\n",
    "        \"\"\"\n",
    "        assert x0.ndim >= 2, \"x0 must have 2 dimensions\"\n",
    "        assert x1.ndim >= 2, \"x1 must have 2 dimensions\"\n",
    "\n",
    "        cost_matrix = self.cost(x0, x1)\n",
    "        px0 = x0.new_ones(x0.shape[0]) / x0.shape[0]\n",
    "        px1 = x1.new_ones(x1.shape[0]) / x1.shape[0]\n",
    "\n",
    "        # convert to numpy\n",
    "        cost_matrix = cost_matrix.detach().cpu().numpy()\n",
    "        px0 = px0.detach().cpu().numpy()\n",
    "        px1 = px1.detach().cpu().numpy()\n",
    "        epsilon = self.epsilon\n",
    "\n",
    "\n",
    "        if epsilon == 0.0:\n",
    "            optimal_plan = ot.emd(\n",
    "                a=px0, \n",
    "                b=px1, \n",
    "                M=cost_matrix, \n",
    "                log=log,\n",
    "            )\n",
    "        else:\n",
    "            optimal_plan = ot.sinkhorn(\n",
    "                a=px0, \n",
    "                b=px1, \n",
    "                M=cost_matrix, \n",
    "                reg=epsilon, \n",
    "                method=method,\n",
    "                num_iter_max=num_iter_max, \n",
    "                stop_threshold=stop_threshold, \n",
    "                verbose=verbose, \n",
    "                log=log, \n",
    "                warn=warn\n",
    "            )\n",
    "\n",
    "        return torch.as_tensor(optimal_plan, device=x0.device, dtype=x0.dtype)\n",
    "\n",
    "    @property\n",
    "    def is_exact(self) -> bool:\n",
    "        return self.epsilon == 0.0"
   ]
  },
  {
   "cell_type": "markdown",
   "id": "5835cf10",
   "metadata": {},
   "source": [
    "## Data"
   ]
  },
  {
   "cell_type": "code",
   "execution_count": 8,
   "id": "420531c9",
   "metadata": {},
   "outputs": [],
   "source": [
    "class TimeSampler(ABC):\n",
    "    \"\"\"\n",
    "    Abstract class for time samplers.\n",
    "    \"\"\"\n",
    "\n",
    "    def __init__(self, device: torch.device | None = None, dtype: torch.dtype | None = None):\n",
    "        self.device = device\n",
    "        self.dtype = dtype\n",
    "\n",
    "    def to(self, device: torch.device) -> \"TimeSampler\":\n",
    "        self.device = device\n",
    "        return self\n",
    "\n",
    "    @abstractmethod\n",
    "    def sample(self, shape: torch.Size) -> torch.Tensor:\n",
    "        pass\n",
    "\n",
    "\n",
    "class UniformTimeSampler(TimeSampler):\n",
    "\n",
    "    def sample(self, shape: torch.Size) -> torch.Tensor:\n",
    "        return torch.rand(shape, device=self.device, dtype=self.dtype)\n",
    "\n",
    "\n",
    "class DiscreteTimeSampler(TimeSampler):\n",
    "    def __init__(self, timesteps: UniformTimesteps, device: torch.device | None = None, dtype: torch.dtype | None = None):\n",
    "        super().__init__(device, dtype)\n",
    "        self.timesteps = timesteps\n",
    "\n",
    "    def sample(self, shape: torch.Size) -> torch.Tensor:\n",
    "        indices = torch.randint(0, self.timesteps.n - 1, shape, device=self.device, dtype=self.dtype)\n",
    "        return self.timesteps.t[indices]\n",
    "\n",
    "\n",
    "class BetaTimeSampler(TimeSampler):\n",
    "\n",
    "    def __init__(self, device: torch.device | None = None, dtype: torch.dtype | None = None):\n",
    "        super().__init__(device, dtype)\n",
    "        self.distribution = torch.distributions.Beta(0.5, 0.5)\n",
    "\n",
    "    def sample(self, shape: torch.Size) -> torch.Tensor:\n",
    "        return self.distribution.sample(shape).to(device=self.device, dtype=self.dtype)\n",
    "        # return torch.rand(shape, device=self.device, dtype=self.dtype)\n",
    "\n",
    "\n",
    "class MatchingDataset(torch.utils.data.Dataset):\n",
    "    def __init__(self) -> None:\n",
    "        super().__init__()\n",
    "\n",
    "    @abstractmethod\n",
    "    def __getitem__(self, idx: tuple[torch.Tensor, torch.Tensor]) -> tuple[torch.Tensor, torch.Tensor, torch.Tensor]:\n",
    "        \"\"\"\n",
    "        returns:\n",
    "            t: torch.Tensor, shape [...]\n",
    "            x0: torch.Tensor, shape [..., D]\n",
    "            x1: torch.Tensor, shape [..., D]\n",
    "        \"\"\"\n",
    "\n",
    "    def __len__(self) -> int:\n",
    "        raise NotImplementedError(\"Length of MatchingDataset is not defined.\")\n",
    "\n",
    "\n",
    "class MatchingTensorDataset(MatchingDataset):\n",
    "    def __init__(self, x0: torch.Tensor, x1: torch.Tensor, time_sampler: UniformTimeSampler | None = None):\n",
    "        super().__init__()\n",
    "        self.x0 = x0\n",
    "        self.x1 = x1\n",
    "        self.time_sampler = time_sampler or UniformTimeSampler(device=x0.device, dtype=x0.dtype)\n",
    "    \n",
    "    def __getitem__(self, idx: tuple[torch.Tensor, torch.Tensor]) -> tuple[torch.Tensor, torch.Tensor, torch.Tensor]:\n",
    "        \"\"\"\n",
    "        returns:\n",
    "            t: torch.Tensor, shape [...]\n",
    "            x0: torch.Tensor, shape [..., D]\n",
    "            x1: torch.Tensor, shape [..., D]\n",
    "        \"\"\"\n",
    "        x0_idx, x1_idx = idx\n",
    "        shape = x0_idx.shape\n",
    "        x0 = self.x0[x0_idx]\n",
    "        x1 = self.x1[x1_idx]\n",
    "        t = self.time_sampler.sample(shape)\n",
    "        return t, x0, x1\n",
    "\n",
    "\n",
    "class MatchingDistributionDataset(MatchingDataset):\n",
    "\n",
    "    def __init__(\n",
    "        self, \n",
    "        x0_distribution: torch.distributions.Distribution, \n",
    "        x1_distribution: torch.distributions.Distribution, \n",
    "        time_sampler: UniformTimeSampler | None = None\n",
    "    ) -> None:\n",
    "        super().__init__()\n",
    "        self.x0_distribution = x0_distribution\n",
    "        self.x1_distribution = x1_distribution\n",
    "        self.time_sampler = time_sampler or UniformTimeSampler()\n",
    "\n",
    "    def __getitem__(self, idx: tuple[torch.Tensor, torch.Tensor]) -> tuple[torch.Tensor, torch.Tensor, torch.Tensor]:\n",
    "        \"\"\"\n",
    "        returns:\n",
    "            t: torch.Tensor, shape [...]\n",
    "            x0: torch.Tensor, shape [..., D]\n",
    "            x1: torch.Tensor, shape [..., D]\n",
    "        \"\"\"\n",
    "        x0_idx, x1_idx = idx \n",
    "        shape = x0_idx.shape\n",
    "        x0 = self.x0_distribution.sample(shape)\n",
    "        x1 = self.x1_distribution.sample(shape)\n",
    "        t = self.time_sampler.sample(shape)\n",
    "        return t, x0, x1\n",
    "        \n",
    "\n",
    "class OTBatchSampler(torch.utils.data.Sampler):\n",
    "    def __init__(self, dataset: MatchingDataset, ot_solver: OTSolver, batch_size: int, num_batches: int, *, batchwise_ot: bool = False):\n",
    "        super().__init__()\n",
    "        self.dataset = dataset\n",
    "        self.batchwise_ot = batchwise_ot\n",
    "        self.ot_solver = ot_solver \n",
    "        self.batch_size = batch_size\n",
    "        self.num_batches = num_batches\n",
    "\n",
    "        if self.batchwise_ot is True or isinstance(dataset, MatchingDistributionDataset):\n",
    "            self.ot_plan = None\n",
    "        else:\n",
    "            self.ot_plan = self.ot_solver.solve(self.dataset.x0, self.dataset.x1)\n",
    "\n",
    "    def _resample_from_ot_plan(self, x0: torch.Tensor, x1: torch.Tensor):\n",
    "        ot_plan = self.ot_plan or self.ot_solver.solve(x0, x1)\n",
    "        x0_idx, x1_idx = joint_multinomial(ot_plan, num_samples=self.batch_size)\n",
    "        return x0[x0_idx], x1[x1_idx]\n",
    "\n",
    "    def _sample_batch__matching_distribution_dataset(self):        \n",
    "        dataset: MatchingDistributionDataset = self.dataset \n",
    "        x0 = dataset.x0_distribution.sample((self.batch_size,))\n",
    "        x1 = dataset.x1_distribution.sample((self.batch_size,))\n",
    "        return self._resample_from_ot_plan(x0, x1)\n",
    "\n",
    "    def _sample_batch__matching_tensor_dataset(self):\n",
    "        dataset: MatchingTensorDataset = self.dataset\n",
    "        if self.batchwise_ot is True:\n",
    "            x0, x1 = dataset.x0, dataset.x1\n",
    "        else:\n",
    "            x0 = dataset.x0[torch.randint(0, dataset.x0.shape[0], (self.batch_size, ))]\n",
    "            x1 = dataset.x1[torch.randint(0, dataset.x1.shape[0], (self.batch_size, ))]\n",
    "        return self._resample_from_ot_plan(x0, x1)\n",
    "\n",
    "    def __iter__(self):\n",
    "        # Pick the right batch sampling method, TODO maybe move to init \n",
    "        if isinstance(self.dataset, MatchingDistributionDataset):\n",
    "            sample_batch_fn = self._sample_batch__matching_distribution_dataset\n",
    "        elif isinstance(self.dataset, MatchingTensorDataset):\n",
    "            sample_batch_fn = self._sample_batch__matching_tensor_dataset\n",
    "        else:\n",
    "            raise ValueError\n",
    "        for _ in range(len(self)):\n",
    "            x0, x1 = sample_batch_fn()\n",
    "            t = self.dataset.time_sampler.sample(x0.shape[:-1])\n",
    "            yield t, x0, x1\n",
    "\n",
    "    def __len__(self) -> int:\n",
    "        return self.num_batches\n",
    "\n",
    "\n",
    "class MatchingDataLoader:\n",
    "    def __init__(self, dataset: MatchingDataset, batch_sampler: OTBatchSampler):\n",
    "        self.dataset = dataset\n",
    "        self.batch_sampler = batch_sampler\n",
    "\n",
    "    def __iter__(self):\n",
    "        for batch in self.batch_sampler:\n",
    "            yield batch\n",
    "\n",
    "    def __len__(self) -> int:\n",
    "        return len(self.batch_sampler)"
   ]
  },
  {
   "cell_type": "markdown",
   "id": "baf9c868",
   "metadata": {},
   "source": [
    "# 2d Linear Gaussian bridge example"
   ]
  },
  {
   "cell_type": "code",
   "execution_count": 9,
   "id": "e7a8734f",
   "metadata": {},
   "outputs": [],
   "source": [
    "dim = 2\n",
    "L = torch.eye(dim)\n",
    "c = 2.0\n",
    "sigma = 0.0\n",
    "n = 1000\n",
    "\n",
    "sde = HeatBMTSDE(L=L, c=c, sigma=sigma)\n",
    "sde_solver = EulerMaruyamaSolver(sde=sde, n=n)\n",
    "\n",
    "delta_x = torch.tensor([3.0, 0.0])\n",
    "x0 = torch.tensor([-1.0, -1.0]) + delta_x\n",
    "x1 = torch.tensor([1.0, 1.0]) + delta_x\n",
    "\n",
    "# Sample 100 paths from x0 to x1\n",
    "x0s = x0.expand(100, 2)\n",
    "x1s = x1.expand(100, 2)\n",
    "control = BridgeControl(sde=sde, x1=x1s)\n",
    "xts, ts = sde_solver.sample_path(x0s, control=control)\n",
    "xts = sde.inverse_transform(xts)\n",
    "xmids = sde.marginal_distribution(t=torch.tensor(0.8), x0=x0, x1=x1).sample((100,))"
   ]
  },
  {
   "cell_type": "code",
   "execution_count": 10,
   "id": "2bf85b03",
   "metadata": {},
   "outputs": [
    {
     "data": {
      "image/png": "[encoded data removed]",
      "text/plain": [
       "<Figure size 800x600 with 2 Axes>"
      ]
     },
     "metadata": {},
     "output_type": "display_data"
    }
   ],
   "source": [
    "# Assume xts shape: [N, T, D] or [T, D] if single batch\n",
    "xts_np = xts.detach().cpu().numpy()\n",
    "ts_np = ts.detach().cpu().numpy()\n",
    "\n",
    "# Ensure shape is [N, T, D]\n",
    "if xts_np.ndim == 2:\n",
    "    xts_np = xts_np[None, ...]  # [1, T, D]\n",
    "\n",
    "N, T, D = xts_np.shape\n",
    "assert D == 2, \"D must be 2 for 2D plotting\"\n",
    "\n",
    "# Prepare segments for LineCollection: each path is (T, 2), segments are (T-1, 2, 2)\n",
    "segments = []\n",
    "colors = []\n",
    "norm = plt.Normalize(ts_np.min(), ts_np.max())\n",
    "# Use a blue-to-red colormap\n",
    "cmap = plt.get_cmap('coolwarm')  # blue (low) to red (high)\n",
    "\n",
    "# Use a single alpha value for all lines\n",
    "global_alpha = 0.1\n",
    "\n",
    "for i in range(N):\n",
    "    points = xts_np[i, :, :2]\n",
    "    segs = np.stack([points[:-1], points[1:]], axis=1)  # (T-1, 2, 2)\n",
    "    segments.append(segs)\n",
    "    # Color for each segment (time-varying colormap, fixed alpha)\n",
    "    t_mid = (ts_np[:-1] + ts_np[1:]) / 2\n",
    "    seg_colors = cmap(norm(t_mid))\n",
    "    seg_colors[:, -1] = global_alpha  # Set the same alpha for all segments\n",
    "    colors.append(seg_colors)\n",
    "\n",
    "# Concatenate all segments and colors\n",
    "all_segments = np.concatenate(segments, axis=0)\n",
    "all_colors = np.concatenate(colors, axis=0)\n",
    "\n",
    "fig, ax = plt.subplots(figsize=(8, 6))\n",
    "lc = LineCollection(all_segments, colors=all_colors, linewidths=1)\n",
    "ax.add_collection(lc)\n",
    "\n",
    "# Add scatterplot of xmids, black markers\n",
    "xmids_np = xmids.detach().cpu().numpy()\n",
    "x1s_np = xts_np[..., -1, :]\n",
    "ax.scatter(xmids_np[:, 0], xmids_np[:, 1], color='k', marker='o', s=20, label='xmids')\n",
    "ax.scatter(x1s_np[:, 0], x1s_np[:, 1], color='r', marker='o', s=20, label='x1s')\n",
    "\n",
    "# Set axis limits\n",
    "all_x = xts_np[..., 0].ravel()\n",
    "all_y = xts_np[..., 1].ravel()\n",
    "ax.set_xlim(all_x.min(), all_x.max())\n",
    "ax.set_ylim(all_y.min(), all_y.max())\n",
    "\n",
    "ax.set_xlabel('x[0]')\n",
    "ax.set_ylabel('x[1]')\n",
    "ax.set_title('Sample Paths with Time-varying Color (Blue to Red, Fixed Alpha)')\n",
    "\n",
    "# Colorbar for time\n",
    "sm = plt.cm.ScalarMappable(cmap=cmap, norm=norm)\n",
    "sm.set_array([])\n",
    "cbar = plt.colorbar(sm, ax=ax, label='Time')\n",
    "plt.show()\n"
   ]
  },
  {
   "cell_type": "markdown",
   "id": "9771f7cd",
   "metadata": {},
   "source": [
    "# Optimal Transport Cost"
   ]
  },
  {
   "cell_type": "code",
   "execution_count": 11,
   "id": "83f060ad",
   "metadata": {},
   "outputs": [
    {
     "data": {
      "image/png": "[encoded data removed]",
      "text/plain": [
       "<Figure size 800x700 with 2 Axes>"
      ]
     },
     "metadata": {},
     "output_type": "display_data"
    }
   ],
   "source": [
    "# Solve entropic OT problem between a centred Gaussian and a mixture of three Gaussians\n",
    "dim = 2\n",
    "L = torch.eye(dim)\n",
    "c = 0.5\n",
    "sigma = 0.0\n",
    "\n",
    "sde = HeatBMTSDE(L=L, c=c, sigma=sigma)\n",
    "ot_solver = OTSolver(sde=sde, epsilon=0.0)\n",
    "# ot_solver = EntropicOTSolver(sde=sde, normalize_variance=False)\n",
    "\n",
    "\n",
    "x0 = torch.tensor([3.0, 0.0])\n",
    "# Create a grid of y points and evaluate the cost from x0 to them using cost_matrix\n",
    "\n",
    "# Define grid limits and resolution\n",
    "y_min, y_max, n_grid = -5.0, 5.0, 50\n",
    "y1 = torch.linspace(y_min, y_max, n_grid)\n",
    "y2 = torch.linspace(y_min, y_max, n_grid)\n",
    "y1g, y2g = torch.meshgrid(y1, y2, indexing='xy')\n",
    "y_grid = torch.stack([y1g, y2g], dim=-1)\n",
    "\n",
    "# Evaluate cost from x0 to each y in the grid using cost_matrix\n",
    "costs = ot_solver.cost(x0.reshape(-1, 2), y_grid.reshape(-1, 2)).reshape(y_grid.shape[:-1])\n",
    "\n",
    "\n",
    "# Plot the cost as a heatmap\n",
    "plt.figure(figsize=(8, 7))\n",
    "plt.imshow(costs.cpu(), extent=[y_min, y_max, y_min, y_max], cmap='viridis')\n",
    "plt.colorbar(label='Cost')\n",
    "plt.xlabel('y1')\n",
    "plt.ylabel('y2')\n",
    "plt.title('Cost from x0 to y_grid')\n",
    "plt.show()"
   ]
  },
  {
   "cell_type": "markdown",
   "id": "b3b2f5e2",
   "metadata": {},
   "source": [
    "# Optimal transfer plan and the induced linear flow"
   ]
  },
  {
   "cell_type": "code",
   "execution_count": 12,
   "id": "206c4f7c",
   "metadata": {},
   "outputs": [
    {
     "data": {
      "image/png": "[encoded data removed]",
      "text/plain": [
       "<Figure size 600x500 with 2 Axes>"
      ]
     },
     "metadata": {},
     "output_type": "display_data"
    },
    {
     "data": {
      "image/png": "[encoded data removed]",
      "text/plain": [
       "<Figure size 800x700 with 2 Axes>"
      ]
     },
     "metadata": {},
     "output_type": "display_data"
    }
   ],
   "source": [
    "delta_mu = torch.tensor([3.0, 0.0])\n",
    "\n",
    "mu0, sigma0 = torch.zeros(2) + delta_mu, torch.eye(2) * 0.3\n",
    "R0 = torch.distributions.MultivariateNormal(loc=mu0, covariance_matrix=sigma0)\n",
    "\n",
    "r = 2.0\n",
    "mu11, sigma11 = torch.tensor([0.0, 2.0]) * r + delta_mu, torch.eye(2) * 0.1\n",
    "mu12, sigma12 = torch.tensor([-1.5, -1.0]) * r + delta_mu, torch.eye(2) * 0.1\n",
    "mu13, sigma13 = torch.tensor([1.5, -1.0]) * r + delta_mu, torch.eye(2) * 0.1\n",
    "component_distribution = torch.distributions.MultivariateNormal(\n",
    "    loc=torch.stack([mu11, mu12, mu13], dim=0), \n",
    "    covariance_matrix=torch.stack([sigma11, sigma12, sigma13], dim=0)\n",
    ")\n",
    "mixture_distribution = torch.distributions.Categorical(probs=torch.tensor([1/3, 1/3, 1/3]))\n",
    "R1 = torch.distributions.MixtureSameFamily(\n",
    "    mixture_distribution=mixture_distribution, \n",
    "    component_distribution=component_distribution\n",
    ")\n",
    "\n",
    "n_samples = 100\n",
    "x0 = R0.sample((n_samples,))\n",
    "x1 = R1.sample((n_samples,))\n",
    "\n",
    "ot_plan = ot_solver.solve(x0, x1)\n",
    "\n",
    "\n",
    "plt.figure(figsize=(6, 5))\n",
    "plt.imshow(ot_plan.cpu(), aspect='auto', cmap='viridis')\n",
    "plt.colorbar(label='OT Plan Value')\n",
    "plt.title('Optimal Transport Plan Heatmap')\n",
    "plt.xlabel('Target Sample Index')\n",
    "plt.ylabel('Source Sample Index')\n",
    "plt.show()\n",
    "\n",
    "\n",
    "\n",
    "# Ensure x0, x1, and ot_plan are on CPU and convert to numpy arrays\n",
    "x0_np = x0.cpu().numpy() if hasattr(x0, \"cpu\") else x0.numpy()\n",
    "x1_np = x1.cpu().numpy() if hasattr(x1, \"cpu\") else x1.numpy()\n",
    "ot_plan_np = ot_plan.cpu().numpy() if hasattr(ot_plan, \"cpu\") else ot_plan.numpy()\n",
    "\n",
    "# (Assume x0_np, x1_np, ot_plan_np are already CPU NumPy arrays.)\n",
    "n = x0_np.shape[0]\n",
    "\n",
    "plt.figure(figsize=(8, 7))\n",
    "ax = plt.gca()\n",
    "ax.scatter(x0_np[:, 0], x0_np[:, 1],\n",
    "           color='blue', label='Source', alpha=0.7)\n",
    "ax.scatter(x1_np[:, 0], x1_np[:, 1],\n",
    "           color='red',  label='Target', alpha=0.7)\n",
    "\n",
    "# parameters\n",
    "max_plan = ot_plan_np.max()\n",
    "threshold = 0.01 * max_plan\n",
    "\n",
    "cmap = plt.get_cmap('coolwarm')\n",
    "norm = Normalize(vmin=0, vmax=1)\n",
    "\n",
    "segments = []\n",
    "colors = []\n",
    "widths = []\n",
    "\n",
    "# how many sub‐segments per arrow\n",
    "n_sub = 10\n",
    "\n",
    "for i in range(n):\n",
    "    for j in range(n):\n",
    "        w = ot_plan_np[i, j]\n",
    "        if w <= threshold:\n",
    "            continue\n",
    "\n",
    "        start = x0_np[i]\n",
    "        end = x1_np[j]\n",
    "        # generate equally‐spaced points along the line\n",
    "        pts = np.linspace(start, end, n_sub + 1)\n",
    "\n",
    "        # line thickness & overall alpha from flow magnitude\n",
    "        flow = w / max_plan\n",
    "        lw = 0.5 + 2.5 * flow\n",
    "        alpha = flow * 0.3\n",
    "\n",
    "        # build each tiny segment\n",
    "        for k in range(n_sub):\n",
    "            seg_t = [pts[k], pts[k + 1]]\n",
    "            t = k / n_sub  # 0 at source, 1 at target\n",
    "            # pick color from cmap and inject our α\n",
    "            r, g, b, _ = cmap(norm(t))\n",
    "            colors.append((r, g, b, alpha))\n",
    "            widths.append(lw)\n",
    "            segments.append(seg_t)\n",
    "\n",
    "# assemble the LineCollection\n",
    "lc = LineCollection(segments,\n",
    "                    colors=colors,\n",
    "                    linewidths=widths,\n",
    "                    zorder=0)\n",
    "ax.add_collection(lc)\n",
    "\n",
    "# add colorbar for “time” scale\n",
    "sm = cm.ScalarMappable(norm=norm, cmap=cmap)\n",
    "sm.set_array(np.linspace(0, 1, 100))   # dummy array\n",
    "cbar = plt.colorbar(sm, ax=ax, fraction=0.046, pad=0.04)\n",
    "cbar.set_label('Implicit Time (0=Source, 1=Target)')\n",
    "\n",
    "ax.set(title='Probability Flow Induced by Entropic OT Plan',\n",
    "       xlabel='x', ylabel='y')\n",
    "ax.legend()\n",
    "ax.grid(True)\n",
    "plt.tight_layout()\n",
    "plt.show()\n"
   ]
  },
  {
   "cell_type": "markdown",
   "id": "7f74787f",
   "metadata": {},
   "source": [
    "# Synthetic Experiments"
   ]
  },
  {
   "cell_type": "markdown",
   "id": "410f8c74",
   "metadata": {},
   "source": [
    "## Models"
   ]
  },
  {
   "cell_type": "code",
   "execution_count": 13,
   "id": "70c52fb8",
   "metadata": {},
   "outputs": [],
   "source": [
    "def timestep_embedding(\n",
    "    timesteps: torch.Tensor,\n",
    "    dim: int,\n",
    "    max_period: int = 10000\n",
    ") -> torch.Tensor:\n",
    "    \"\"\"\n",
    "    Create sinusoidal timestep embeddings.\n",
    "\n",
    "    parameters: \n",
    "        timesteps: [...]\n",
    "        dim: int\n",
    "        max_period: int\n",
    "\n",
    "    returns:\n",
    "        embedding: [..., dim]\n",
    "    \"\"\"\n",
    "    dim_over_2, dim_mod_2 = divmod(dim, 2)\n",
    "    freqs = torch.exp(\n",
    "        -math.log(max_period) * torch.arange(0, dim_over_2, device=timesteps.device, dtype=timesteps.dtype) \n",
    "        / dim_over_2\n",
    "    ) # [D/2]\n",
    "    args = timesteps.unsqueeze(-1) * freqs.unsqueeze(0) # [..., 1] * [1, D/2] = [..., D/2]\n",
    "    embedding = torch.cat([torch.cos(args), torch.sin(args)], dim=-1) # [..., D]\n",
    "\n",
    "    if dim_mod_2 == 1:\n",
    "        zero_column = embedding.new_zeros(embedding.shape[0], 1)\n",
    "        embedding = torch.cat([embedding, zero_column], dim=-1)\n",
    "    return embedding\n",
    "\n",
    "\n",
    "class SiLU(torch.nn.Module):\n",
    "    def forward(self, x):\n",
    "        return x * torch.sigmoid(x)\n",
    "\n",
    "\n",
    "class FCs(torch.nn.Module):\n",
    "    \"\"\"\n",
    "    Fully connected feedforward neural network with configurable number of layers.\n",
    "    \"\"\"\n",
    "    def __init__(\n",
    "        self,\n",
    "        dim_in: int,\n",
    "        dim_hid: int,\n",
    "        dim_out: int,\n",
    "        num_layers: int = 2\n",
    "    ) -> None:\n",
    "        \"\"\"\n",
    "        Fully connected feedforward neural network with configurable number of layers.\n",
    "\n",
    "        Args:\n",
    "            dim_in (int): Input feature dimension.\n",
    "            dim_hid (int): Hidden layer dimension.\n",
    "            dim_out (int): Output feature dimension.\n",
    "            num_layers (int, optional): Total number of layers (including input and output layers). Default is 2.\n",
    "        \"\"\"\n",
    "        super(FCs, self).__init__()\n",
    "        self.model = torch.nn.Sequential()\n",
    "        self.model.add_module('fc_in', torch.nn.Linear(dim_in, dim_hid))\n",
    "        self.model.add_module('relu_in', torch.nn.ReLU())\n",
    "        for i in range(num_layers - 2):\n",
    "            self.model.add_module(f'fc_{i}', torch.nn.Linear(dim_hid, dim_hid))\n",
    "            self.model.add_module(f'relu_{i}', torch.nn.ReLU())\n",
    "        self.model.add_module('fc_out', torch.nn.Linear(dim_hid, dim_out))\n",
    "\n",
    "    def forward(self, x: torch.Tensor) -> torch.Tensor:\n",
    "        return self.model(x)\n",
    "\n",
    "\n",
    "class ResNet_FC(torch.nn.Module):\n",
    "    \"\"\"\n",
    "    A fully connected network with an initial linear layer followed by a sequence of residual blocks.\n",
    "    Each residual block consists of several linear layers with SiLU activations.\n",
    "    \"\"\"\n",
    "\n",
    "    def __init__(self, data_dim: int, hidden_dim: int, num_res_blocks: int) -> None:\n",
    "        \"\"\"\n",
    "        Initialize the ResNet_FC module.\n",
    "\n",
    "        Args:\n",
    "            data_dim (int): Input feature dimension.\n",
    "            hidden_dim (int): Hidden layer dimension for all residual blocks.\n",
    "            num_res_blocks (int): Number of residual blocks.\n",
    "        \"\"\"\n",
    "        super().__init__()\n",
    "        self.hidden_dim: int = hidden_dim\n",
    "        self.map: torch.nn.Linear = torch.nn.Linear(data_dim, hidden_dim)\n",
    "        self.res_blocks: torch.nn.ModuleList = torch.nn.ModuleList(\n",
    "            [self.build_res_block() for _ in range(num_res_blocks)]\n",
    "        )\n",
    "\n",
    "    def build_linear(self, in_features: int, out_features: int) -> torch.nn.Linear:\n",
    "        \"\"\"\n",
    "        Build a linear layer.\n",
    "\n",
    "        Args:\n",
    "            in_features (int): Number of input features.\n",
    "            out_features (int): Number of output features.\n",
    "\n",
    "        Returns:\n",
    "            torch.nn.Linear: Linear layer.\n",
    "        \"\"\"\n",
    "        return torch.nn.Linear(in_features, out_features)\n",
    "\n",
    "    def build_res_block(self) -> torch.nn.Sequential:\n",
    "        \"\"\"\n",
    "        Build a residual block consisting of several linear layers and SiLU activations.\n",
    "\n",
    "        Returns:\n",
    "            torch.nn.Sequential: Sequential container of layers forming a residual block.\n",
    "        \"\"\"\n",
    "        hid: int = self.hidden_dim\n",
    "        layers: list[torch.nn.Module] = []\n",
    "        widths: list[int] = [hid] * 4\n",
    "        for i in range(len(widths) - 1):\n",
    "            layers.append(self.build_linear(widths[i], widths[i + 1]))\n",
    "            layers.append(SiLU())\n",
    "        return torch.nn.Sequential(*layers)\n",
    "\n",
    "    def forward(self, x: torch.Tensor) -> torch.Tensor:\n",
    "        \"\"\"\n",
    "        Forward pass through the network.\n",
    "\n",
    "        Args:\n",
    "            x (torch.Tensor): Input tensor of shape (batch_size, data_dim).\n",
    "\n",
    "        Returns:\n",
    "            torch.Tensor: Output tensor after passing through the network.\n",
    "        \"\"\"\n",
    "        h = self.map(x)\n",
    "        for res_block in self.res_blocks:\n",
    "            h = (h + res_block(h)) / np.sqrt(2)\n",
    "        return h\n",
    "\n",
    "class TimestepBlock(torch.nn.Module):\n",
    "    \"\"\"\n",
    "    Any module where forward() takes timestep embeddings as a second argument.\n",
    "    \"\"\"\n",
    "\n",
    "    @abstractmethod\n",
    "    def forward(self, x: torch.Tensor, emb: torch.Tensor) -> torch.Tensor:\n",
    "        \"\"\"\n",
    "        Apply the module to `x` given `emb` timestep embeddings.\n",
    "        \"\"\"\n",
    "\n",
    "class TimestepEmbedSequential(torch.nn.Sequential, TimestepBlock):\n",
    "    \"\"\"\n",
    "    A sequential module that passes timestep embeddings to the children that\n",
    "    support it as an extra input.\n",
    "    \"\"\"\n",
    "\n",
    "    def forward(self, x: torch.Tensor, emb: torch.Tensor) -> torch.Tensor:\n",
    "        for layer in self:\n",
    "            if isinstance(layer, TimestepBlock):\n",
    "                x = layer(x, emb)\n",
    "            else:\n",
    "                x = layer(x)\n",
    "        return x\n",
    "\n",
    "\n",
    "class SparseGCNLayer(torch.nn.Module):\n",
    "    def __init__(\n",
    "        self,\n",
    "        in_channels: int,\n",
    "        out_channels: int,\n",
    "        conv_order: int,\n",
    "        laplacian: torch.Tensor,\n",
    "        *, \n",
    "        aggr_norm: bool = False,\n",
    "        initialization: str = \"xavier_uniform\",\n",
    "    ) -> None:\n",
    "        assert initialization in [\"xavier_uniform\", \"xavier_normal\"]\n",
    "\n",
    "        super().__init__()        \n",
    "\n",
    "        self.K = conv_order # K in pytorch geometric\n",
    "        self.L = laplacian\n",
    "        self.aggr_norm = aggr_norm\n",
    "\n",
    "        self.W = torch.nn.Parameter(\n",
    "            torch.empty(in_channels, out_channels, self.K + 1)\n",
    "        )\n",
    "        torch.nn.init.xavier_uniform_(self.W, gain=math.sqrt(2)) # Maybe add option xavier_normal_\n",
    "\n",
    "        # precompute normalization inverse \n",
    "        self.deg_inv = torch.sparse.sum(self.L, dim=1).to_dense().reciprocal_()\n",
    "        self.deg_inv[~torch.isfinite(self.deg_inv)] = 0.0\n",
    "\n",
    "\n",
    "    def _normalize(self, x: torch.Tensor) -> torch.Tensor:\n",
    "        \"\"\"\n",
    "        Normalize the aggregation by the neighborhood size.\n",
    "\n",
    "        Args:\n",
    "            x (torch.Tensor): Input tensor.\n",
    "\n",
    "        Returns:\n",
    "            torch.Tensor: Normalized tensor.\n",
    "        \"\"\"\n",
    "        x = torch.einsum(\"i,ij->ij \", self.deg_inv, x)\n",
    "        x[~torch.isfinite(x)] = 0.0\n",
    "        return x\n",
    "\n",
    "    \"\"\"\n",
    "    TODO \n",
    "    \"\"\"\n",
    "\n",
    "\n",
    "class GCNLayer(torch.nn.Module):\n",
    "    \"\"\"\n",
    "    Graph Convolutional Network (GCN) Layer with Chebyshev polynomial support.\n",
    "\n",
    "    Args:\n",
    "        in_channels (int): Number of input channels/features.\n",
    "        out_channels (int): Number of output channels/features.\n",
    "        conv_order (int): Order of the Chebyshev polynomial (number of hops).\n",
    "        laplacian (torch.Tensor): Laplacian or adjacency matrix.\n",
    "        aggr_norm (bool, optional): Whether to normalize aggregation. Default is False.\n",
    "        update_func (str or None, optional): Activation function to use after aggregation.\n",
    "            Options: \"sigmoid\", \"relu\", \"id\", or None. Default is None.\n",
    "        initialization (str, optional): Weight initialization method.\n",
    "            Options: \"xavier_uniform\", \"xavier_normal\". Default is \"xavier_uniform\".\n",
    "    \"\"\"\n",
    "\n",
    "    def __init__(\n",
    "        self,\n",
    "        in_channels: int,\n",
    "        out_channels: int,\n",
    "        conv_order: int,\n",
    "        laplacian: torch.Tensor,\n",
    "        *, \n",
    "        aggr_norm: bool = False,\n",
    "        update_func: str | None = None,\n",
    "        initialization: str = \"xavier_uniform\",\n",
    "    ) -> None:\n",
    "        super().__init__()\n",
    "\n",
    "        self.in_channels: int = in_channels\n",
    "        self.out_channels: int = out_channels\n",
    "        self.conv_order: int = conv_order\n",
    "        self.laplacian: torch.Tensor = laplacian\n",
    "        self.aggr_norm: bool = aggr_norm\n",
    "        self.update_func: str | None = update_func\n",
    "        self.initialization: str = initialization\n",
    "        assert initialization in [\"xavier_uniform\", \"xavier_normal\"]\n",
    "\n",
    "        self.weight: torch.nn.Parameter = torch.nn.Parameter(\n",
    "            torch.Tensor(\n",
    "                self.in_channels,\n",
    "                self.out_channels,\n",
    "                1 + self.conv_order,\n",
    "            )\n",
    "        )\n",
    "\n",
    "        self.reset_parameters()\n",
    "\n",
    "    def reset_parameters(self, gain: float = 1.414) -> None:\n",
    "        \"\"\"\n",
    "        Reset the parameters of the layer using the specified initialization.\n",
    "\n",
    "        Args:\n",
    "            gain (float, optional): Gain value for initialization. Default is 1.414.\n",
    "        \"\"\"\n",
    "        if self.initialization == \"xavier_uniform\":\n",
    "            torch.nn.init.xavier_uniform_(self.weight, gain=gain)\n",
    "        elif self.initialization == \"xavier_normal\":\n",
    "            torch.nn.init.xavier_normal_(self.weight, gain=gain)\n",
    "\n",
    "    def aggr_norm_func(self, conv_operator: torch.Tensor, x: torch.Tensor) -> torch.Tensor:\n",
    "        \"\"\"\n",
    "        Normalize the aggregation by the neighborhood size.\n",
    "\n",
    "        Args:\n",
    "            conv_operator (torch.Tensor): The convolution operator (adjacency or Laplacian matrix).\n",
    "            x (torch.Tensor): Input tensor.\n",
    "\n",
    "        Returns:\n",
    "            torch.Tensor: Normalized tensor.\n",
    "        \"\"\"\n",
    "        neighborhood_size = torch.sum(conv_operator.to_dense(), dim=1)\n",
    "        neighborhood_size_inv = 1 / neighborhood_size\n",
    "        neighborhood_size_inv[~(torch.isfinite(neighborhood_size_inv))] = 0\n",
    "\n",
    "        x = torch.einsum(\"i,ij->ij \", neighborhood_size_inv, x)\n",
    "        x[~torch.isfinite(x)] = 0\n",
    "        return x\n",
    "\n",
    "    def update(self, x: torch.Tensor) -> torch.Tensor | None:\n",
    "        \"\"\"\n",
    "        Apply the update (activation) function to the input.\n",
    "\n",
    "        Args:\n",
    "            x (torch.Tensor): Input tensor.\n",
    "\n",
    "        Returns:\n",
    "            torch.Tensor or None: Activated tensor or None if update_func is not recognized.\n",
    "        \"\"\"\n",
    "        if self.update_func == \"sigmoid\":\n",
    "            return torch.sigmoid(x)\n",
    "        if self.update_func == \"relu\":\n",
    "            return torch.nn.functional.relu(x)\n",
    "        if self.update_func == \"id\":\n",
    "            return x\n",
    "        return None\n",
    "\n",
    "    def chebyshev_conv(\n",
    "        self,\n",
    "        conv_operator: torch.Tensor,\n",
    "        conv_order: int,\n",
    "        x: torch.Tensor\n",
    "    ) -> torch.Tensor:\n",
    "        \"\"\"\n",
    "        Perform Chebyshev polynomial convolution.\n",
    "\n",
    "        Args:\n",
    "            conv_operator (torch.Tensor): The convolution operator (adjacency or Laplacian matrix).\n",
    "            conv_order (int): Order of the Chebyshev polynomial.\n",
    "            x (torch.Tensor): Input tensor of shape (num_simplices, num_channels).\n",
    "\n",
    "        Returns:\n",
    "            torch.Tensor: Tensor of shape (num_simplices, num_channels, conv_order).\n",
    "        \"\"\"\n",
    "        num_simplices, num_channels = x.shape\n",
    "        X = torch.empty(size=(num_simplices, num_channels, conv_order))\n",
    "        X[:, :, 0] = torch.mm(conv_operator, x)\n",
    "        for k in range(1, conv_order):\n",
    "            X[:, :, k] = torch.mm(conv_operator, X[:, :, k - 1])\n",
    "            if self.aggr_norm:\n",
    "                X[:, :, k] = self.aggr_norm_func(conv_operator, X[:, :, k])\n",
    "\n",
    "        return X\n",
    "\n",
    "    def forward(self, x: torch.Tensor) -> torch.Tensor:\n",
    "        \"\"\"\n",
    "        Forward pass of the GCN layer.\n",
    "\n",
    "        Args:\n",
    "            x (torch.Tensor): Input tensor of shape (num_simplices, in_channels).\n",
    "\n",
    "        Returns:\n",
    "            torch.Tensor: Output tensor of shape (num_simplices, out_channels).\n",
    "        \"\"\"\n",
    "        num_simplices, _ = x.shape\n",
    "        x_identity = torch.unsqueeze(x, 2)\n",
    "\n",
    "        if self.conv_order > 0:\n",
    "            x = self.chebyshev_conv(self.laplacian, self.conv_order, x)\n",
    "            x = torch.cat((x_identity, x), 2)\n",
    "\n",
    "        y = torch.einsum(\"nik,iok->no\", x, self.weight)\n",
    "\n",
    "        return y # Maybe have relu and sigmoid as update function options\n",
    "\n",
    "\n",
    "class GCNBlock(torch.nn.Module):\n",
    "    \"\"\"\n",
    "    Graph Convolutional Network (GCN) module composed of multiple GCNLayer layers.\n",
    "\n",
    "    Args:\n",
    "        in_channels (int): Number of input features per node.\n",
    "        hidden_channels (int): Number of hidden units in each hidden GCN layer.\n",
    "        laplacian (torch.Tensor): Laplacian matrix or convolution operator.\n",
    "        conv_order (int, optional): Order of the Chebyshev polynomial convolution. Default is 1.\n",
    "        aggr_norm (bool, optional): Whether to apply aggregation normalization. Default is False.\n",
    "        update_func (Optional[str], optional): Update function to use in GCNLayer ('relu', 'id', etc.). Default is None.\n",
    "        n_layers (int, optional): Number of GCN layers. Default is 2.\n",
    "    \"\"\"\n",
    "    def __init__(\n",
    "        self,\n",
    "        in_channels: int,\n",
    "        hidden_channels: int,\n",
    "        laplacian: torch.Tensor,\n",
    "        *,\n",
    "        conv_order: int = 1,\n",
    "        aggr_norm: bool = False,\n",
    "        update_func: str = None,\n",
    "        n_layers: int = 2,\n",
    "    ) -> None:\n",
    "        super().__init__()\n",
    "        self.layers: torch.nn.ModuleList = torch.nn.ModuleList(\n",
    "            [   \n",
    "                GCNLayer(\n",
    "                    in_channels=in_channels,\n",
    "                    out_channels=hidden_channels,\n",
    "                    conv_order=conv_order, \n",
    "                    laplacian=laplacian,\n",
    "                )\n",
    "            ]\n",
    "        )\n",
    "\n",
    "        for i in range(n_layers - 1):\n",
    "            if i == n_layers - 2: \n",
    "                out_channels = 1\n",
    "                layer_update_func = 'id'\n",
    "            else: \n",
    "                out_channels = hidden_channels\n",
    "                layer_update_func = 'relu'\n",
    "            self.layers.append(\n",
    "                GCNLayer(\n",
    "                    in_channels=hidden_channels,\n",
    "                    out_channels=out_channels,\n",
    "                    conv_order=conv_order,\n",
    "                    laplacian=laplacian,\n",
    "                    aggr_norm=aggr_norm,\n",
    "                    update_func=layer_update_func,\n",
    "                )\n",
    "            )\n",
    "            \n",
    "    def forward(self, x: torch.Tensor) -> torch.Tensor:\n",
    "        \"\"\"\n",
    "        Forward pass through the GCN.\n",
    "\n",
    "        Args:\n",
    "            x (torch.Tensor): Input tensor of shape (num_nodes, in_channels).\n",
    "\n",
    "        Returns:\n",
    "            torch.Tensor: Output tensor after passing through all GCN layers.\n",
    "        \"\"\"\n",
    "        for layer in self.layers:\n",
    "            x = layer(x)\n",
    "        return x\n",
    "\n",
    "\n",
    "class GCN(torch.nn.Module):\n",
    "    \"\"\"\n",
    "    Network using a combination of GCN and ResNet_FC modules with time embedding.\n",
    "\n",
    "    Args:\n",
    "        laplacian (torch.Tensor): Laplacian matrix of the graph (shape: [N, N]).\n",
    "        hidden_dim (int, optional): Number of hidden units in each layer. Default is 256.\n",
    "        time_embed_dim (int, optional): Dimensionality of the time embedding. Default is 128.\n",
    "    \"\"\"\n",
    "    def __init__(\n",
    "        self,\n",
    "        laplacian: torch.Tensor,\n",
    "        hidden_dim: int = 256,\n",
    "        time_embed_dim: int = 128\n",
    "    ) -> None:\n",
    "        super().__init__()\n",
    "        data_dim: int = laplacian.shape[-1]\n",
    "\n",
    "        self.time_embed_dim: int = time_embed_dim\n",
    "        hid: int = hidden_dim\n",
    "\n",
    "        self.t_module: torch.nn.Sequential = torch.nn.Sequential(\n",
    "            torch.nn.Linear(self.time_embed_dim, hid),\n",
    "            SiLU(),\n",
    "            torch.nn.Linear(hid, hid),\n",
    "        )\n",
    "\n",
    "        self.x_module1: GCN = GCNBlock(\n",
    "            in_channels=1,\n",
    "            hidden_channels=hidden_dim,\n",
    "            n_layers=2,\n",
    "            laplacian=laplacian\n",
    "        )\n",
    "        self.x_module2: ResNet_FC = ResNet_FC(\n",
    "            data_dim,\n",
    "            hidden_dim,\n",
    "            num_res_blocks=0\n",
    "        )\n",
    "\n",
    "        self.out_module: torch.nn.Sequential = torch.nn.Sequential(\n",
    "            torch.nn.Linear(hid, hid),\n",
    "            SiLU(),\n",
    "            torch.nn.Linear(hid, data_dim),\n",
    "        )\n",
    "\n",
    "    @property\n",
    "    def inner_dtype(self) -> torch.dtype:\n",
    "        \"\"\"\n",
    "        Get the dtype used by the torso of the model.\n",
    "\n",
    "        Returns:\n",
    "            torch.dtype: The dtype of the model's parameters.\n",
    "        \"\"\"\n",
    "        # Note: input_blocks is not defined in this class; this property may need to be updated.\n",
    "        return next(self.input_blocks.parameters()).dtype\n",
    "\n",
    "    def forward(self, t: torch.Tensor, x: torch.Tensor) -> torch.Tensor:\n",
    "        \"\"\"\n",
    "        Forward pass of the GCNPolicy.\n",
    "\n",
    "        Args:\n",
    "            t (torch.Tensor): 1-D tensor of timesteps.\n",
    "            x (torch.Tensor): Input tensor of shape [N, C, ...].\n",
    "\n",
    "        Returns:\n",
    "            torch.Tensor: Output tensor after processing through the network.\n",
    "        \"\"\"\n",
    "        # Ensure t has shape [T]\n",
    "        if len(t.shape) == 0:\n",
    "            t = t[None]\n",
    "\n",
    "        t_emb: torch.Tensor = timestep_embedding(t, self.time_embed_dim)\n",
    "        t_out: torch.Tensor = self.t_module(t_emb)\n",
    "\n",
    "        x = x.unsqueeze(-1)  # Add feature dimension for GCN\n",
    "        x_out = torch.empty_like(x)\n",
    "        for i in range(x.shape[0]):\n",
    "            x_out[i] = self.x_module1(x[i])\n",
    "\n",
    "        x_out = x_out.squeeze(-1)\n",
    "        x_out = self.x_module2(x_out)\n",
    "        out = self.out_module(x_out + t_out)\n",
    "\n",
    "        return out\n",
    "\n",
    "\n",
    "class ResidualNN(torch.nn.Module):\n",
    "    \"\"\"\n",
    "    Residual Neural Network module for time-dependent input.\n",
    "\n",
    "    Args:\n",
    "        data_dim (int): Dimensionality of the input data.\n",
    "        hidden_dim (int, optional): Number of hidden units in each layer. Default is 256.\n",
    "        time_embed_dim (int, optional): Dimensionality of the time embedding. Default is 128.\n",
    "        num_res_block (int, optional): Number of residual blocks in the ResNet_FC module. Default is 1.\n",
    "    \"\"\"\n",
    "    def __init__(\n",
    "        self, \n",
    "        data_dim: int, \n",
    "        hidden_dim: int = 256, \n",
    "        time_embed_dim: int = 128, \n",
    "        num_res_block: int = 1\n",
    "    ) -> None:\n",
    "        super().__init__()\n",
    "\n",
    "        self.time_embed_dim = time_embed_dim\n",
    "        hid = hidden_dim\n",
    "\n",
    "        self.t_module = torch.nn.Sequential(\n",
    "            torch.nn.Linear(self.time_embed_dim, hid),\n",
    "            SiLU(),\n",
    "            torch.nn.Linear(hid, hid),\n",
    "        )\n",
    "\n",
    "        self.x_module = ResNet_FC(data_dim, hidden_dim, num_res_blocks=num_res_block)\n",
    "\n",
    "        self.out_module = torch.nn.Sequential(\n",
    "            torch.nn.Linear(hid, hid),\n",
    "            SiLU(),\n",
    "            torch.nn.Linear(hid, data_dim),\n",
    "        )\n",
    "\n",
    "    def forward(self, t: torch.Tensor, x: torch.Tensor) -> torch.Tensor:\n",
    "        \"\"\"\n",
    "        Forward pass of the ResidualNN.\n",
    "\n",
    "        Args:\n",
    "            t (torch.Tensor): 1-D tensor of timesteps.\n",
    "            x (torch.Tensor): Input tensor of shape [N x C x ...].\n",
    "\n",
    "        Returns:\n",
    "            torch.Tensor: Output tensor after processing through the network.\n",
    "        \"\"\"\n",
    "        t = torch.atleast_1d(t)\n",
    "\n",
    "        t_emb = timestep_embedding(timesteps=t, dim=self.time_embed_dim)\n",
    "        t_out = self.t_module(t_emb)\n",
    "        x_out = self.x_module(x)\n",
    "        out = self.out_module(x_out + t_out)\n",
    "        return out\n",
    "\n",
    "\n",
    "class MLP(torch.nn.Module):\n",
    "    def __init__(self, dim: int, hidden_dim: int = 10):\n",
    "        super().__init__()\n",
    "        self.dim = dim\n",
    "        self.nn = torch.nn.Sequential(\n",
    "            torch.nn.Linear(1, hidden_dim),\n",
    "            torch.nn.ReLU(),\n",
    "            torch.nn.Linear(hidden_dim, hidden_dim),\n",
    "            torch.nn.ReLU(),\n",
    "            torch.nn.Linear(hidden_dim, dim),\n",
    "        )\n",
    "\n",
    "    def __call__(self, t: torch.Tensor) -> torch.Tensor:\n",
    "        return self.nn(t.unsqueeze(-1))\n",
    "\n",
    "\n",
    "class ResidualMLP(torch.nn.Module):\n",
    "    def __init__(self, dim: int, hidden_dim: int = 64, num_layers: int = 3):\n",
    "        super().__init__()\n",
    "        self.dim = dim\n",
    "        self.hidden_dim = hidden_dim\n",
    "        self.num_layers = num_layers\n",
    "\n",
    "        # Input layer: now takes both t and x as input\n",
    "        self.input_layer = torch.nn.Linear(1 + dim, hidden_dim)\n",
    "\n",
    "        # Hidden layers\n",
    "        self.hidden_layers = torch.nn.ModuleList()\n",
    "        for _ in range(num_layers - 1):\n",
    "            self.hidden_layers.append(torch.nn.Linear(hidden_dim, hidden_dim))\n",
    "\n",
    "        # Output layer\n",
    "        self.output_layer = torch.nn.Linear(hidden_dim, dim)\n",
    "\n",
    "        self.activation = torch.nn.ReLU()\n",
    "\n",
    "    def forward(self, t: torch.Tensor, x: torch.Tensor) -> torch.Tensor:\n",
    "        # Concatenate t and x along the last dimension\n",
    "        t = t.unsqueeze(-1) if t.ndim == x.ndim - 1 else t\n",
    "        inp = torch.cat([t, x], dim=-1)\n",
    "        out = self.input_layer(inp)\n",
    "        for layer in self.hidden_layers:\n",
    "            residual = out\n",
    "            out = self.activation(out)\n",
    "            out = layer(out)\n",
    "            out = out + residual  # Residual connection\n",
    "        out = self.activation(out)\n",
    "        out = self.output_layer(out)\n",
    "        return out"
   ]
  },
  {
   "cell_type": "markdown",
   "id": "de51c13e",
   "metadata": {},
   "source": [
    "## Training and Evaluation"
   ]
  },
  {
   "cell_type": "code",
   "execution_count": 14,
   "id": "33aebdd4",
   "metadata": {},
   "outputs": [],
   "source": [
    "def get_optimizer(model: torch.nn.Module, lr: float, *, name: str = \"adamw\") -> torch.optim.Optimizer:\n",
    "    if name == \"adam\":\n",
    "        return torch.optim.AdamW(model.parameters(), lr=lr)\n",
    "    if name == \"adamw\":\n",
    "        return torch.optim.AdamW(model.parameters(), lr=lr)\n",
    "    raise ValueError(f\"Unknown optimizer: {str}\")\n",
    "\n",
    "\n",
    "def train(\n",
    "    sde: SDE,\n",
    "    ot_solver: OTSolver,\n",
    "    model: torch.nn.Module, \n",
    "    dataset: MatchingDataset,\n",
    "    *, \n",
    "    num_epochs: int = 100, \n",
    "    batch_size: int = 64, \n",
    "    num_batches: int = 4, \n",
    "    optimizer: torch.optim.Optimizer | str = \"adamw\",\n",
    "    lr: float = 0.001, \n",
    "    batchwise_ot: bool = False, # TODO Maybe move data_loader outside the method\n",
    ") -> list[float]:\n",
    "    \"\"\"\n",
    "    Trains a model to match the two distributions x0 and x1. \n",
    "    TODO Maybe move OT solver to be an argument.\n",
    "    \"\"\"\n",
    "    # the normal training\n",
    "    batch_sampler = OTBatchSampler(dataset, ot_solver, batch_size=batch_size, num_batches=num_batches, batchwise_ot=batchwise_ot)\n",
    "    data_loader = MatchingDataLoader(dataset, batch_sampler=batch_sampler)\n",
    "\n",
    "    if isinstance(optimizer, str):\n",
    "        optimizer = get_optimizer(model, lr, name=optimizer)\n",
    "\n",
    "    objective = torch.nn.MSELoss()\n",
    "    ema = ExponentialMovingAverage(model.parameters(), decay=0.99)\n",
    "\n",
    "    per_batch_losses = []\n",
    "    with tqdm(range(num_epochs), desc=\"Epochs\") as pbar:\n",
    "        for _ in pbar:\n",
    "            epoch_loss = 0.0\n",
    "            for batch_t, batch_x0, batch_x1 in data_loader:\n",
    "                # Transform\n",
    "                batch_x0, batch_x1 = sde.transform(batch_x0), sde.transform(batch_x1)\n",
    "\n",
    "                # sample xt, compute targets and predictions\n",
    "                batch_x = sde.marginal_distribution(t=batch_t, x0=batch_x0, x1=batch_x1).sample()\n",
    "                ut = bridge_control(sde=sde, t=batch_t, x=batch_x, x1=batch_x1)\n",
    "                ut_preds = model(batch_t, batch_x)\n",
    "\n",
    "                # Generic loss computation and backprop\n",
    "                loss = objective(ut, ut_preds)\n",
    "                loss.backward()\n",
    "                optimizer.step()\n",
    "                batch_loss = loss.item()\n",
    "                per_batch_losses.append(batch_loss)\n",
    "                epoch_loss += batch_loss\n",
    "                optimizer.zero_grad()\n",
    "                ema.update()\n",
    "            avg_loss = epoch_loss / num_batches\n",
    "            pbar.set_postfix({\"avg_loss\": f\"{avg_loss:.4f}\"})\n",
    "\n",
    "    return per_batch_losses\n",
    "\n",
    "\n",
    "def wasserstein_distance(x0: torch.Tensor, x1: torch.Tensor, *, p: int = 1, blur: float = 0.05) -> float:\n",
    "    if p == 1:\n",
    "        return SamplesLoss(loss=\"sinkhorn\", p=1, blur=.05)(x0, x1)\n",
    "    if p == 2: \n",
    "        return SamplesLoss(loss=\"sinkhorn\", p=2, blur=.05)(x0, x1).sqrt() \n",
    "    raise ValueError(f\"We only use Wasserstein-1 and Wasserstein-2 distances for model evaluation, not {p}.\")"
   ]
  },
  {
   "cell_type": "markdown",
   "id": "6c1ea67f",
   "metadata": {},
   "source": [
    "## Simple 2d example"
   ]
  },
  {
   "cell_type": "code",
   "execution_count": 15,
   "id": "836ef311",
   "metadata": {},
   "outputs": [
    {
     "data": {
      "application/vnd.plotly.v1+json": {
       "config": {
        "plotlyServerURL": "https://plot.ly"
       },
       "data": [
        {
         "hovertemplate": "x=%{x}<br>y=%{y}<br>time=%{marker.color}<extra></extra>",
         "legendgroup": "",
         "marker": {
          "color": {
           "bdata": "AAAAAAAAAAAAAAAAAAAAAAAAAAAAAAAAAAAAAAAAAAAAAAAAAAAAAAAAAAAAAAAAAAAAAAAAAAAAAAAAAAAAAAAAAAAAAAAAAAAAAAAAAAAAAAAAAAAAAAAAAAAAAAAAAAAAAAAAAAAAAAAAAAAAAAAAAAAAAAAAAAAAAAAAAAAAAAAAAAAAAAAAAAAAAAAAAAAAAAAAAAAAAAAAAAAAAAAAAAAAAAAAAAAAAAAAAAAAAAAAAAAAAAAAAAAAAAAAAAAAAAAAAAAAAAAAAAAAAAAAAAAAAAAAAAAAAAAAAAAAAAAAAAAAAAAAAAAAAAAAAAAAAAAAAAAAAAAAAAAAAAAAAAAAAAAAAAAAAAAAAAAAAAAAAAAAAAAAAAAAAAAAAAAAAAAAAAAAAAAAAAAAAAAAAAAAAAAAAAAAAAAAAAAAAAAAAAAAAAAAAAAAAAAAAAAAAAAAAAAAAAAAAAAAAAAAAAAAAAAAAAAAAAAAAAAAAAAAAAAAAAAAAAAAAAAAAAAAAAAAAAAAAAAAAAAAAAAAAAAAAAAAAAAAAAAAAAAAAAAAAAAAAAAAAAAAAAAAAAAAAAAAAAAAAAAAAAAAAAAAAAAAAAAAAAAAAAAAAAAAAAAAAAAAAAAAAAAAAAAAAAAAAAAAAAAAAAAAAAAAAAAAAAAAAAAAAAAAAAAAAAAAAAAAAAAAAAAAAAAAAAAAAAAAAAAAAAAAAAAAAAAAAAAAAAAAAAAAAAAAAAAAAAAAAAAAAAAAAAAAAAAAAAAAAAAAAAAAAAAAAAAAAAAAAAAAAAAAAAAAAAAAAAAAAAAAAAAAAAAAAAAAAAAAAAAAAAAAAAAAAAAAAAAAAAAAAAAAAAAAAAAAAAAAAAAAAAAAAAAAAAAAAAAAAAAAAAAAAAAAAAAAAAAAAAAAAAAAAAAAAAAAAAAAAAAAAAAAAAAAAAAAAAAAAAAAAAAAAAAAAAAAAAAAAAAAAAAAAAAAAAAAAAAAAAAAAAAAAAAAAAAAAAAAAAAAAAAAAAAAAAAAAAAAAAAAAAAAAAAAAAAAAAAAAAAAAAAAAAAAAAAAAAAAAAAAAAAAAAAAAAAAAAAAAAAAAAAAAAAAAAAAAAAAAAAAAAAAAAAAAAAAAAAAAAAAAAAAAAAAAAAAAAAAAAAAAAAAAAAAAAAAAAAAAAAAAAAAAAAAAAAAAAAAAAAAAAAAAAAAAAAAAAAAAAAAAAAAAAAAAAAAAAAAAAAAAAAAAAAAAAAAAAAAAAAAAAAAAAAAAAAAAAAAAAAAAAAAAAAAAAAAAAAAAAAAAAAAAAAAAAAAAAAAAAAAAAAAAAAAAAAAAAAAAAAAAAEBAQEBAQEBAQEBAQEBAQEBAQEBAQEBAQEBAQEBAQEBAQEBAQEBAQEBAQEBAQEBAQEBAQEBAQEBAQEBAQEBAQEBAQEBAQEBAQEBAQEBAQEBAQEBAQEBAQEBAQEBAQEBAQEBAQEBAQEBAQEBAQEBAQEBAQEBAQEBAQEBAQEBAQEBAQEBAQEBAQEBAQEBAQEBAQEBAQEBAQEBAQEBAQEBAQEBAQEBAQEBAQEBAQEBAQEBAQEBAQEBAQEBAQEBAQEBAQEBAQEBAQEBAQEBAQEBAQEBAQEBAQEBAQEBAQEBAQEBAQEBAQEBAQEBAQEBAQEBAQEBAQEBAQEBAQEBAQEBAQEBAQEBAQEBAQEBAQEBAQEBAQEBAQEBAQEBAQEBAQEBAQEBAQEBAQEBAQEBAQEBAQEBAQEBAQEBAQEBAQEBAQEBAQEBAQEBAQEBAQEBAQEBAQEBAQEBAQEBAQEBAQEBAQEBAQEBAQEBAQEBAQEBAQEBAQEBAQEBAQEBAQEBAQEBAQEBAQEBAQEBAQEBAQEBAQEBAQEBAQEBAQEBAQEBAQEBAQEBAQEBAQEBAQEBAQEBAQEBAQEBAQEBAQEBAQEBAQEBAQEBAQEBAQEBAQEBAQEBAQEBAQEBAQEBAQEBAQEBAQEBAQEBAQEBAQEBAQEBAQEBAQEBAQEBAQEBAQEBAQEBAQEBAQEBAQEBAQEBAQEBAQEBAQEBAQEBAQEBAQEBAQEBAQEBAQEBAQEBAQEBAQEBAQEBAQEBAQEBAQEBAQEBAQEBAQEBAQEBAQEBAQEBAQEBAQEBAQEBAQEBAQEBAQEBAQEBAQEBAQEBAQEBAQEBAQEBAQEBAQEBAQEBAQEBAQEBAQEBAQEBAQEBAQEBAQEBAQEBAQEBAQEBAQEBAQEBAQEBAQEBAQEBAQEBAQEBAQEBAQEBAQEBAQEBAQEBAQEBAQEBAQEBAQEBAQEBAQEBAQEBAQEBAQEBAQEBAQEBAQEBAQEBAQEBAQEBAQEBAQEBAQEBAQEBAQEBAQEBAQEBAQEBAQEBAQEBAQEBAQEBAQEBAQEBAQEBAQEBAQEBAQEBAQEBAQEBAQEBAQEBAQEBAQEBAQEBAQEBAQEBAQEBAQEBAQEBAQEBAQEBAQEBAQEBAQEBAQEBAQEBAQEBAQEBAQEBAQEBAQEBAQEBAQEBAQEBAQEBAQEBAQEBAQEBAQEBAQEBAQEBAQEBAQEBAQEBAQEBAQEBAQEBAQEBAQEBAQEBAQEBAQEBAQEBAQEBAQEBAQEBAQEBAQEBAQEBAQEBAQEBAQEBAQEBAQEBAQEBAQEBAQEBAQEBAQEBAQEBAQEBAQEBAQEBAQE=",
           "dtype": "i1"
          },
          "coloraxis": "coloraxis",
          "symbol": "circle"
         },
         "mode": "markers",
         "name": "",
         "showlegend": false,
         "type": "scattergl",
         "x": {
          "bdata": "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",
          "dtype": "f8"
         },
         "xaxis": "x",
         "y": {
          "bdata": "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",
          "dtype": "f8"
         },
         "yaxis": "y"
        }
       ],
       "layout": {
        "coloraxis": {
         "colorbar": {
          "title": {
           "text": "time"
          }
         },
         "colorscale": [
          [
           0,
           "#0d0887"
          ],
          [
           0.1111111111111111,
           "#46039f"
          ],
          [
           0.2222222222222222,
           "#7201a8"
          ],
          [
           0.3333333333333333,
           "#9c179e"
          ],
          [
           0.4444444444444444,
           "#bd3786"
          ],
          [
           0.5555555555555556,
           "#d8576b"
          ],
          [
           0.6666666666666666,
           "#ed7953"
          ],
          [
           0.7777777777777778,
           "#fb9f3a"
          ],
          [
           0.8888888888888888,
           "#fdca26"
          ],
          [
           1,
           "#f0f921"
          ]
         ]
        },
        "legend": {
         "tracegroupgap": 0
        },
        "margin": {
         "t": 60
        },
        "template": {
         "data": {
          "bar": [
           {
            "error_x": {
             "color": "#2a3f5f"
            },
            "error_y": {
             "color": "#2a3f5f"
            },
            "marker": {
             "line": {
              "color": "#E5ECF6",
              "width": 0.5
             },
             "pattern": {
              "fillmode": "overlay",
              "size": 10,
              "solidity": 0.2
             }
            },
            "type": "bar"
           }
          ],
          "barpolar": [
           {
            "marker": {
             "line": {
              "color": "#E5ECF6",
              "width": 0.5
             },
             "pattern": {
              "fillmode": "overlay",
              "size": 10,
              "solidity": 0.2
             }
            },
            "type": "barpolar"
           }
          ],
          "carpet": [
           {
            "aaxis": {
             "endlinecolor": "#2a3f5f",
             "gridcolor": "white",
             "linecolor": "white",
             "minorgridcolor": "white",
             "startlinecolor": "#2a3f5f"
            },
            "baxis": {
             "endlinecolor": "#2a3f5f",
             "gridcolor": "white",
             "linecolor": "white",
             "minorgridcolor": "white",
             "startlinecolor": "#2a3f5f"
            },
            "type": "carpet"
           }
          ],
          "choropleth": [
           {
            "colorbar": {
             "outlinewidth": 0,
             "ticks": ""
            },
            "type": "choropleth"
           }
          ],
          "contour": [
           {
            "colorbar": {
             "outlinewidth": 0,
             "ticks": ""
            },
            "colorscale": [
             [
              0,
              "#0d0887"
             ],
             [
              0.1111111111111111,
              "#46039f"
             ],
             [
              0.2222222222222222,
              "#7201a8"
             ],
             [
              0.3333333333333333,
              "#9c179e"
             ],
             [
              0.4444444444444444,
              "#bd3786"
             ],
             [
              0.5555555555555556,
              "#d8576b"
             ],
             [
              0.6666666666666666,
              "#ed7953"
             ],
             [
              0.7777777777777778,
              "#fb9f3a"
             ],
             [
              0.8888888888888888,
              "#fdca26"
             ],
             [
              1,
              "#f0f921"
             ]
            ],
            "type": "contour"
           }
          ],
          "contourcarpet": [
           {
            "colorbar": {
             "outlinewidth": 0,
             "ticks": ""
            },
            "type": "contourcarpet"
           }
          ],
          "heatmap": [
           {
            "colorbar": {
             "outlinewidth": 0,
             "ticks": ""
            },
            "colorscale": [
             [
              0,
              "#0d0887"
             ],
             [
              0.1111111111111111,
              "#46039f"
             ],
             [
              0.2222222222222222,
              "#7201a8"
             ],
             [
              0.3333333333333333,
              "#9c179e"
             ],
             [
              0.4444444444444444,
              "#bd3786"
             ],
             [
              0.5555555555555556,
              "#d8576b"
             ],
             [
              0.6666666666666666,
              "#ed7953"
             ],
             [
              0.7777777777777778,
              "#fb9f3a"
             ],
             [
              0.8888888888888888,
              "#fdca26"
             ],
             [
              1,
              "#f0f921"
             ]
            ],
            "type": "heatmap"
           }
          ],
          "histogram": [
           {
            "marker": {
             "pattern": {
              "fillmode": "overlay",
              "size": 10,
              "solidity": 0.2
             }
            },
            "type": "histogram"
           }
          ],
          "histogram2d": [
           {
            "colorbar": {
             "outlinewidth": 0,
             "ticks": ""
            },
            "colorscale": [
             [
              0,
              "#0d0887"
             ],
             [
              0.1111111111111111,
              "#46039f"
             ],
             [
              0.2222222222222222,
              "#7201a8"
             ],
             [
              0.3333333333333333,
              "#9c179e"
             ],
             [
              0.4444444444444444,
              "#bd3786"
             ],
             [
              0.5555555555555556,
              "#d8576b"
             ],
             [
              0.6666666666666666,
              "#ed7953"
             ],
             [
              0.7777777777777778,
              "#fb9f3a"
             ],
             [
              0.8888888888888888,
              "#fdca26"
             ],
             [
              1,
              "#f0f921"
             ]
            ],
            "type": "histogram2d"
           }
          ],
          "histogram2dcontour": [
           {
            "colorbar": {
             "outlinewidth": 0,
             "ticks": ""
            },
            "colorscale": [
             [
              0,
              "#0d0887"
             ],
             [
              0.1111111111111111,
              "#46039f"
             ],
             [
              0.2222222222222222,
              "#7201a8"
             ],
             [
              0.3333333333333333,
              "#9c179e"
             ],
             [
              0.4444444444444444,
              "#bd3786"
             ],
             [
              0.5555555555555556,
              "#d8576b"
             ],
             [
              0.6666666666666666,
              "#ed7953"
             ],
             [
              0.7777777777777778,
              "#fb9f3a"
             ],
             [
              0.8888888888888888,
              "#fdca26"
             ],
             [
              1,
              "#f0f921"
             ]
            ],
            "type": "histogram2dcontour"
           }
          ],
          "mesh3d": [
           {
            "colorbar": {
             "outlinewidth": 0,
             "ticks": ""
            },
            "type": "mesh3d"
           }
          ],
          "parcoords": [
           {
            "line": {
             "colorbar": {
              "outlinewidth": 0,
              "ticks": ""
             }
            },
            "type": "parcoords"
           }
          ],
          "pie": [
           {
            "automargin": true,
            "type": "pie"
           }
          ],
          "scatter": [
           {
            "fillpattern": {
             "fillmode": "overlay",
             "size": 10,
             "solidity": 0.2
            },
            "type": "scatter"
           }
          ],
          "scatter3d": [
           {
            "line": {
             "colorbar": {
              "outlinewidth": 0,
              "ticks": ""
             }
            },
            "marker": {
             "colorbar": {
              "outlinewidth": 0,
              "ticks": ""
             }
            },
            "type": "scatter3d"
           }
          ],
          "scattercarpet": [
           {
            "marker": {
             "colorbar": {
              "outlinewidth": 0,
              "ticks": ""
             }
            },
            "type": "scattercarpet"
           }
          ],
          "scattergeo": [
           {
            "marker": {
             "colorbar": {
              "outlinewidth": 0,
              "ticks": ""
             }
            },
            "type": "scattergeo"
           }
          ],
          "scattergl": [
           {
            "marker": {
             "colorbar": {
              "outlinewidth": 0,
              "ticks": ""
             }
            },
            "type": "scattergl"
           }
          ],
          "scattermap": [
           {
            "marker": {
             "colorbar": {
              "outlinewidth": 0,
              "ticks": ""
             }
            },
            "type": "scattermap"
           }
          ],
          "scattermapbox": [
           {
            "marker": {
             "colorbar": {
              "outlinewidth": 0,
              "ticks": ""
             }
            },
            "type": "scattermapbox"
           }
          ],
          "scatterpolar": [
           {
            "marker": {
             "colorbar": {
              "outlinewidth": 0,
              "ticks": ""
             }
            },
            "type": "scatterpolar"
           }
          ],
          "scatterpolargl": [
           {
            "marker": {
             "colorbar": {
              "outlinewidth": 0,
              "ticks": ""
             }
            },
            "type": "scatterpolargl"
           }
          ],
          "scatterternary": [
           {
            "marker": {
             "colorbar": {
              "outlinewidth": 0,
              "ticks": ""
             }
            },
            "type": "scatterternary"
           }
          ],
          "surface": [
           {
            "colorbar": {
             "outlinewidth": 0,
             "ticks": ""
            },
            "colorscale": [
             [
              0,
              "#0d0887"
             ],
             [
              0.1111111111111111,
              "#46039f"
             ],
             [
              0.2222222222222222,
              "#7201a8"
             ],
             [
              0.3333333333333333,
              "#9c179e"
             ],
             [
              0.4444444444444444,
              "#bd3786"
             ],
             [
              0.5555555555555556,
              "#d8576b"
             ],
             [
              0.6666666666666666,
              "#ed7953"
             ],
             [
              0.7777777777777778,
              "#fb9f3a"
             ],
             [
              0.8888888888888888,
              "#fdca26"
             ],
             [
              1,
              "#f0f921"
             ]
            ],
            "type": "surface"
           }
          ],
          "table": [
           {
            "cells": {
             "fill": {
              "color": "#EBF0F8"
             },
             "line": {
              "color": "white"
             }
            },
            "header": {
             "fill": {
              "color": "#C8D4E3"
             },
             "line": {
              "color": "white"
             }
            },
            "type": "table"
           }
          ]
         },
         "layout": {
          "annotationdefaults": {
           "arrowcolor": "#2a3f5f",
           "arrowhead": 0,
           "arrowwidth": 1
          },
          "autotypenumbers": "strict",
          "coloraxis": {
           "colorbar": {
            "outlinewidth": 0,
            "ticks": ""
           }
          },
          "colorscale": {
           "diverging": [
            [
             0,
             "#8e0152"
            ],
            [
             0.1,
             "#c51b7d"
            ],
            [
             0.2,
             "#de77ae"
            ],
            [
             0.3,
             "#f1b6da"
            ],
            [
             0.4,
             "#fde0ef"
            ],
            [
             0.5,
             "#f7f7f7"
            ],
            [
             0.6,
             "#e6f5d0"
            ],
            [
             0.7,
             "#b8e186"
            ],
            [
             0.8,
             "#7fbc41"
            ],
            [
             0.9,
             "#4d9221"
            ],
            [
             1,
             "#276419"
            ]
           ],
           "sequential": [
            [
             0,
             "#0d0887"
            ],
            [
             0.1111111111111111,
             "#46039f"
            ],
            [
             0.2222222222222222,
             "#7201a8"
            ],
            [
             0.3333333333333333,
             "#9c179e"
            ],
            [
             0.4444444444444444,
             "#bd3786"
            ],
            [
             0.5555555555555556,
             "#d8576b"
            ],
            [
             0.6666666666666666,
             "#ed7953"
            ],
            [
             0.7777777777777778,
             "#fb9f3a"
            ],
            [
             0.8888888888888888,
             "#fdca26"
            ],
            [
             1,
             "#f0f921"
            ]
           ],
           "sequentialminus": [
            [
             0,
             "#0d0887"
            ],
            [
             0.1111111111111111,
             "#46039f"
            ],
            [
             0.2222222222222222,
             "#7201a8"
            ],
            [
             0.3333333333333333,
             "#9c179e"
            ],
            [
             0.4444444444444444,
             "#bd3786"
            ],
            [
             0.5555555555555556,
             "#d8576b"
            ],
            [
             0.6666666666666666,
             "#ed7953"
            ],
            [
             0.7777777777777778,
             "#fb9f3a"
            ],
            [
             0.8888888888888888,
             "#fdca26"
            ],
            [
             1,
             "#f0f921"
            ]
           ]
          },
          "colorway": [
           "#636efa",
           "#EF553B",
           "#00cc96",
           "#ab63fa",
           "#FFA15A",
           "#19d3f3",
           "#FF6692",
           "#B6E880",
           "#FF97FF",
           "#FECB52"
          ],
          "font": {
           "color": "#2a3f5f"
          },
          "geo": {
           "bgcolor": "white",
           "lakecolor": "white",
           "landcolor": "#E5ECF6",
           "showlakes": true,
           "showland": true,
           "subunitcolor": "white"
          },
          "hoverlabel": {
           "align": "left"
          },
          "hovermode": "closest",
          "mapbox": {
           "style": "light"
          },
          "paper_bgcolor": "white",
          "plot_bgcolor": "#E5ECF6",
          "polar": {
           "angularaxis": {
            "gridcolor": "white",
            "linecolor": "white",
            "ticks": ""
           },
           "bgcolor": "#E5ECF6",
           "radialaxis": {
            "gridcolor": "white",
            "linecolor": "white",
            "ticks": ""
           }
          },
          "scene": {
           "xaxis": {
            "backgroundcolor": "#E5ECF6",
            "gridcolor": "white",
            "gridwidth": 2,
            "linecolor": "white",
            "showbackground": true,
            "ticks": "",
            "zerolinecolor": "white"
           },
           "yaxis": {
            "backgroundcolor": "#E5ECF6",
            "gridcolor": "white",
            "gridwidth": 2,
            "linecolor": "white",
            "showbackground": true,
            "ticks": "",
            "zerolinecolor": "white"
           },
           "zaxis": {
            "backgroundcolor": "#E5ECF6",
            "gridcolor": "white",
            "gridwidth": 2,
            "linecolor": "white",
            "showbackground": true,
            "ticks": "",
            "zerolinecolor": "white"
           }
          },
          "shapedefaults": {
           "line": {
            "color": "#2a3f5f"
           }
          },
          "ternary": {
           "aaxis": {
            "gridcolor": "white",
            "linecolor": "white",
            "ticks": ""
           },
           "baxis": {
            "gridcolor": "white",
            "linecolor": "white",
            "ticks": ""
           },
           "bgcolor": "#E5ECF6",
           "caxis": {
            "gridcolor": "white",
            "linecolor": "white",
            "ticks": ""
           }
          },
          "title": {
           "x": 0.05
          },
          "xaxis": {
           "automargin": true,
           "gridcolor": "white",
           "linecolor": "white",
           "ticks": "",
           "title": {
            "standoff": 15
           },
           "zerolinecolor": "white",
           "zerolinewidth": 2
          },
          "yaxis": {
           "automargin": true,
           "gridcolor": "white",
           "linecolor": "white",
           "ticks": "",
           "title": {
            "standoff": 15
           },
           "zerolinecolor": "white",
           "zerolinewidth": 2
          }
         }
        },
        "xaxis": {
         "anchor": "y",
         "domain": [
          0,
          1
         ],
         "title": {
          "text": "x"
         }
        },
        "yaxis": {
         "anchor": "x",
         "domain": [
          0,
          1
         ],
         "title": {
          "text": "y"
         }
        }
       }
      }
     },
     "metadata": {},
     "output_type": "display_data"
    }
   ],
   "source": [
    "n = 1000\n",
    "x0 = Moons().sample((n,))\n",
    "x1 = EightGaussians().sample((n,))\n",
    "df_x0 = pd.DataFrame(\n",
    "    {\n",
    "        'x': x0[:, 0], \n",
    "        'y': x0[:, 1],\n",
    "        'time': 0,\n",
    "    }\n",
    ")\n",
    "df_x1 = pd.DataFrame(\n",
    "    {\n",
    "        'x': x1[:, 0], \n",
    "        'y': x1[:, 1],\n",
    "        'time': 1,\n",
    "    }\n",
    ")\n",
    "df = pd.concat([df_x0, df_x1])\n",
    "\n",
    "px.scatter(df, x='x', y='y', color='time')"
   ]
  },
  {
   "cell_type": "code",
   "execution_count": 73,
   "id": "4271736b",
   "metadata": {},
   "outputs": [
    {
     "name": "stderr",
     "output_type": "stream",
     "text": [
      "Epochs:   0%|          | 0/250 [00:00<?, ?it/s]"
     ]
    },
    {
     "name": "stderr",
     "output_type": "stream",
     "text": [
      "Epochs: 100%|██████████| 250/250 [04:01<00:00,  1.03it/s, avg_loss=0.0838]\n"
     ]
    },
    {
     "data": {
      "image/png": "[encoded data removed]",
      "text/plain": [
       "<Figure size 800x400 with 1 Axes>"
      ]
     },
     "metadata": {},
     "output_type": "display_data"
    }
   ],
   "source": [
    "sigma = 0.0\n",
    "c = 2.0\n",
    "\n",
    "A = torch.tensor([\n",
    "    [0.0, 1.0],\n",
    "    [1.0, 0.0],\n",
    "])\n",
    "D = torch.diag_embed(\n",
    "    torch.sum(A, dim=-1),\n",
    ")\n",
    "L = D - A\n",
    "\n",
    "sde = HeatBMTSDE(L=L, c=c, sigma=sigma)\n",
    "\n",
    "# ot_solver = EntropicOTSolver(sde=sde, normalize_variance=True)\n",
    "ot_solver = OTSolver(sde=sde, epsilon=0.0)\n",
    "# time_sampler = BetaTimeSampler()\n",
    "time_sampler = DiscreteTimeSampler(timesteps=UniformTimesteps(n=1000))\n",
    "x0_distribution = Moons() \n",
    "x1_distribution = EightGaussians()\n",
    "# time_sampler = UniformTimeSampler()\n",
    "dataset = MatchingDistributionDataset(\n",
    "    x1_distribution, \n",
    "    x0_distribution, \n",
    "    time_sampler=time_sampler,\n",
    ")\n",
    "\n",
    "model = ResidualNN(data_dim=2)\n",
    "\n",
    "\n",
    "batch_size = 512\n",
    "num_batches = 20\n",
    "num_epochs = 5000 // num_batches\n",
    "\n",
    "per_batch_losses = train(\n",
    "    sde, ot_solver, model, dataset, \n",
    "    num_epochs=num_epochs, batch_size=batch_size, num_batches=num_batches, \n",
    "    lr=0.0001\n",
    ")\n",
    "\n",
    "\n",
    "# Plot per-batch loss after training\n",
    "plt.figure(figsize=(8, 4))\n",
    "plt.plot(per_batch_losses, label=\"Per-batch loss\")\n",
    "plt.xlabel(\"Batch\")\n",
    "plt.ylabel(\"Loss\")\n",
    "plt.title(\"Per-batch Loss During Training\")\n",
    "plt.legend()\n",
    "plt.tight_layout()\n",
    "plt.show()"
   ]
  },
  {
   "cell_type": "code",
   "execution_count": 75,
   "id": "aa9b43ea",
   "metadata": {},
   "outputs": [
    {
     "data": {
      "image/png": "[encoded data removed]",
      "text/plain": [
       "<Figure size 800x600 with 2 Axes>"
      ]
     },
     "metadata": {},
     "output_type": "display_data"
    }
   ],
   "source": [
    "with torch.inference_mode():\n",
    "    model_control = ModelControl(model=model)\n",
    "    sde_solver = EulerMaruyamaSolver(sde=sde, n=1000)\n",
    "    n = 1024\n",
    "    x0s_test = x0_distribution.sample((n,))\n",
    "    x1s_test = x1_distribution.sample((n,))\n",
    "\n",
    "    xts, ts = sde_solver.sample_path(x0s_test, control=model_control)\n",
    "\n",
    "\n",
    "# Assume xts shape: [N, T, D] or [T, D] if single batch\n",
    "xts_np = xts.detach().cpu().numpy()\n",
    "ts_np = ts.detach().cpu().numpy()\n",
    "\n",
    "# Ensure shape is [N, T, D]\n",
    "if xts_np.ndim == 2:\n",
    "    xts_np = xts_np[None, ...]  # [1, T, D]\n",
    "\n",
    "N, T, D = xts_np.shape\n",
    "assert D == 2, \"D must be 2 for 2D plotting\"\n",
    "\n",
    "# Prepare segments for LineCollection: each path is (T, 2), segments are (T-1, 2, 2)\n",
    "segments = []\n",
    "colors = []\n",
    "norm = plt.Normalize(ts_np.min(), ts_np.max())\n",
    "# Use a blue-to-red colormap\n",
    "cmap = plt.get_cmap('coolwarm')  # blue (low) to red (high)\n",
    "\n",
    "# Use a single alpha value for all lines\n",
    "global_alpha = 0.02\n",
    "\n",
    "for i in range(N):\n",
    "    points = xts_np[i, :, :2]\n",
    "    segs = np.stack([points[:-1], points[1:]], axis=1)  # (T-1, 2, 2)\n",
    "    segments.append(segs)\n",
    "    # Color for each segment (time-varying colormap, fixed alpha)\n",
    "    t_mid = (ts_np[:-1] + ts_np[1:]) / 2\n",
    "    seg_colors = cmap(norm(t_mid))\n",
    "    seg_colors[:, -1] = global_alpha  # Set the same alpha for all segments\n",
    "    colors.append(seg_colors)\n",
    "\n",
    "# Concatenate all segments and colors\n",
    "all_segments = np.concatenate(segments, axis=0)\n",
    "all_colors = np.concatenate(colors, axis=0)\n",
    "\n",
    "fig, ax = plt.subplots(figsize=(8, 6))\n",
    "lc = LineCollection(all_segments, colors=all_colors, linewidths=1)\n",
    "ax.add_collection(lc)\n",
    "\n",
    "# Add scatterplot of xmids, black markers\n",
    "x0s_test_np = x0s_test.detach().cpu().numpy()\n",
    "x1s_test_np = x1s_test.detach().cpu().numpy()\n",
    "x1s_pred_np = xts_np[:, -1]\n",
    "ax.scatter(x0s_test_np[:, 0], x0s_test_np[:, 1], color='blue', marker='o', s=10, alpha=0.3, label='R0')\n",
    "ax.scatter(x1s_test_np[:, 0], x1s_test_np[:, 1], color='red', marker='o', s=10, alpha=0.3, label='R1')\n",
    "ax.scatter(x1s_pred_np[:, 0], x1s_pred_np[:, 1], color='green', marker='o', s=10, alpha=0.3, label='Transported R0')\n",
    "ax.legend(loc='upper right')\n",
    "\n",
    "\n",
    "# Set axis limits\n",
    "all_x = xts_np[..., 0].ravel()\n",
    "all_y = xts_np[..., 1].ravel()\n",
    "ax.set_xlim(all_x.min(), all_x.max())\n",
    "ax.set_ylim(all_y.min(), all_y.max())\n",
    "\n",
    "ax.set_xlabel('x[0]')\n",
    "ax.set_ylabel('x[1]')\n",
    "ax.set_title('Sample Paths')\n",
    "\n",
    "# Colorbar for time\n",
    "sm = plt.cm.ScalarMappable(cmap=cmap, norm=norm)\n",
    "sm.set_array([])\n",
    "cbar = plt.colorbar(sm, ax=ax, label='Time')\n",
    "plt.show()\n"
   ]
  },
  {
   "cell_type": "markdown",
   "id": "edcc09a9",
   "metadata": {},
   "source": [
    "# Brain Connectome Experiment"
   ]
  },
  {
   "cell_type": "markdown",
   "id": "de5b2234",
   "metadata": {},
   "source": [
    "## Data download"
   ]
  },
  {
   "cell_type": "code",
   "execution_count": 16,
   "id": "02656d6f",
   "metadata": {},
   "outputs": [],
   "source": [
    "def download_brain_regions_centroids(data_dir: str = './datasets/brain_signals/'):\n",
    "    csv_url = \"https://bitbucket.org/dpat/tools/raw/master/REF/ATLASES/HCP-MMP1_UniqueRegionList.csv\"\n",
    "    brain_regions_centroids_df = pd.read_csv(\n",
    "        csv_url, \n",
    "        usecols=[\"x-cog\", \"y-cog\", \"z-cog\"],\n",
    "        dtype={\"x-cog\": float, \"y-cog\": float, \"z-cog\": float},\n",
    "    ).rename(columns={\"x-cog\": \"x\", \"y-cog\": \"y\", \"z-cog\": \"z\"})\n",
    "    brain_regions_centroids_df.to_csv(os.path.join(data_dir, \"brain_regions_centroids.csv\"), index=False)\n",
    "\n",
    "\n",
    "def load_brain_regions_centroids(data_dir: str = './datasets/brain_signals/'):\n",
    "    return pd.read_csv(os.path.join(data_dir, \"brain_regions_centroids.csv\"))\n",
    "\n",
    "\n",
    "def plot_brain_signal_3d(signal: torch.Tensor | None = None, width: int = 500, height: int = 500, marker_size: int = 5):\n",
    "    df = load_brain_regions_centroids()\n",
    "    if signal is not None:\n",
    "        df = df.assign(signal=signal.detach().cpu().numpy())\n",
    "        fig = px.scatter_3d(df, x='x', y='y', z='z', color='signal')\n",
    "    else:\n",
    "        fig = px.scatter_3d(df, x='x', y='y', z='z')\n",
    "    fig.update_traces(marker_size=marker_size)\n",
    "    fig.update_layout(width=width, height=height)\n",
    "    fig.show()\n",
    "    return fig \n",
    "\n",
    "\n",
    "def plot_brain_signal_2d(signal: torch.Tensor | None = None, width: int = 400, height: int = 400, marker_size: int = 6):\n",
    "    df = load_brain_regions_centroids()\n",
    "    if signal is not None:\n",
    "        df = df.assign(signal=signal.detach().cpu().numpy())\n",
    "        fig = px.scatter(df, x='x', y='y', color='signal')\n",
    "    else:\n",
    "        fig = px.scatter(df, x='x', y='y')\n",
    "    fig.update_traces(marker_size=marker_size)\n",
    "    fig.update_layout(width=width, height=height)\n",
    "    fig.show()\n",
    "    return fig \n",
    "\n",
    "\n",
    "def load_brain_data() -> tuple[torch.Tensor, torch.Tensor, torch.Tensor, torch.Tensor, torch.Tensor, torch.Tensor, torch.Tensor]:\n",
    "    \"\"\"\n",
    "    Loads the brain data from the .mat files and splits it into training and test sets.\n",
    "    Returns:\n",
    "        x0: [N, D] Training samples from the aligned dataset.\n",
    "        x1: [N, D] Training samples from the liberal dataset.\n",
    "        x0_train: [N_train, D] Training samples from the aligned dataset.\n",
    "        x0_test: [N_test, D] Test samples from the aligned dataset.\n",
    "        x1_train: [N_train, D] Training samples from the liberal dataset.\n",
    "        x1_test: [N_test, D] Test samples from the liberal dataset.\n",
    "    \"\"\"\n",
    "    laplacian = scipy.io.loadmat('./datasets/brain_signals/lap.mat')['L']\n",
    "\n",
    "    x0 = scipy.io.loadmat('./datasets/brain_signals/aligned.mat')['Xa'].T\n",
    "    x1 = scipy.io.loadmat('./datasets/brain_signals/liberal.mat')['Xl'].T\n",
    "\n",
    "    # Split data into training and test sets\n",
    "    num_train = int(0.8 * x0.shape[0])\n",
    "    num_test = x0.shape[0] - num_train\n",
    "    x = np.arange(x0.shape[0])\n",
    "    random_perm = np.random.permutation(x)\n",
    "    train_ids, test_ids = random_perm[:num_train], random_perm[num_train:]\n",
    "    x0_train, x0_test = x0[train_ids], x0[test_ids]\n",
    "    x1_train, x1_test = x1[train_ids], x1[test_ids]\n",
    "    return laplacian, x0, x1, x0_train, x0_test, x1_train, x1_test"
   ]
  },
  {
   "cell_type": "markdown",
   "id": "e97ed56f",
   "metadata": {},
   "source": [
    "## Modelling"
   ]
  },
  {
   "cell_type": "code",
   "execution_count": null,
   "id": "3d07c12f",
   "metadata": {},
   "outputs": [
    {
     "name": "stderr",
     "output_type": "stream",
     "text": [
      "Epochs:   0%|          | 0/125 [00:00<?, ?it/s]"
     ]
    },
    {
     "ename": "",
     "evalue": "",
     "output_type": "error",
     "traceback": [
      "\u001b[1;31mThe Kernel crashed while executing code in the current cell or a previous cell. \n",
      "\u001b[1;31mPlease review the code in the cell(s) to identify a possible cause of the failure. \n",
      "\u001b[1;31mClick <a href='https://aka.ms/vscodeJupyterKernelCrash'>here</a> for more info. \n",
      "\u001b[1;31mView Jupyter <a href='command:jupyter.viewOutput'>log</a> for further details."
     ]
    }
   ],
   "source": [
    "L, x0, x1, x0_train, x0_test, x1_train, x1_test = as_tensors(*load_brain_data())\n",
    "\n",
    "c = 2.0\n",
    "sigma = 0.0\n",
    "sde = HeatBMTSDE(L=L, c=c, sigma=sigma)\n",
    "ot_solver = OTSolver(sde=sde, normalize_variance=False, epsilon=0.0)\n",
    "model = ResidualNN(data_dim=x0.shape[-1])\n",
    "num_timesteps = 1000\n",
    "time_sampler = DiscreteTimeSampler(UniformTimesteps(num_timesteps))\n",
    "dataset = MatchingTensorDataset(\n",
    "    x0=x0_train, \n",
    "    x1=x1_train, \n",
    "    time_sampler=time_sampler,\n",
    ")\n",
    "\n",
    "batch_size = 512\n",
    "num_batches = 20 * 512 // batch_size\n",
    "num_epochs = 20000 // num_batches \n",
    "lr = 0.0001\n",
    "batchwise_ot = True\n",
    "\n",
    "training_losses = train(\n",
    "    sde=sde, \n",
    "    ot_solver=ot_solver, \n",
    "    model=model, \n",
    "    dataset=dataset, \n",
    "    num_epochs=num_epochs, \n",
    "    batch_size=batch_size, \n",
    "    num_batches=num_batches, \n",
    "    lr=lr, \n",
    "    batchwise_ot=batchwise_ot,\n",
    ")\n",
    "px.line(training_losses)"
   ]
  },
  {
   "cell_type": "code",
   "execution_count": null,
   "id": "25bb5c68",
   "metadata": {},
   "outputs": [
    {
     "name": "stdout",
     "output_type": "stream",
     "text": [
      "Wasserstein-1 distance: 21.9974\n",
      "Wasserstein-2 distance: 15.6121\n"
     ]
    },
    {
     "data": {
      "application/vnd.plotly.v1+json": {
       "config": {
        "plotlyServerURL": "https://plot.ly"
       },
       "data": [
        {
         "hovertemplate": "x=%{x}<br>y=%{y}<br>signal=%{marker.color}<extra></extra>",
         "legendgroup": "",
         "marker": {
          "color": {
           "bdata": "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",
           "dtype": "f8"
          },
          "coloraxis": "coloraxis",
          "size": 6,
          "symbol": "circle"
         },
         "mode": "markers",
         "name": "",
         "orientation": "v",
         "showlegend": false,
         "type": "scatter",
         "x": {
          "bdata": "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",
          "dtype": "f8"
         },
         "xaxis": "x",
         "y": {
          "bdata": "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",
          "dtype": "f8"
         },
         "yaxis": "y"
        }
       ],
       "layout": {
        "coloraxis": {
         "colorbar": {
          "title": {
           "text": "signal"
          }
         },
         "colorscale": [
          [
           0,
           "#0d0887"
          ],
          [
           0.1111111111111111,
           "#46039f"
          ],
          [
           0.2222222222222222,
           "#7201a8"
          ],
          [
           0.3333333333333333,
           "#9c179e"
          ],
          [
           0.4444444444444444,
           "#bd3786"
          ],
          [
           0.5555555555555556,
           "#d8576b"
          ],
          [
           0.6666666666666666,
           "#ed7953"
          ],
          [
           0.7777777777777778,
           "#fb9f3a"
          ],
          [
           0.8888888888888888,
           "#fdca26"
          ],
          [
           1,
           "#f0f921"
          ]
         ]
        },
        "height": 400,
        "legend": {
         "tracegroupgap": 0
        },
        "margin": {
         "t": 60
        },
        "template": {
         "data": {
          "bar": [
           {
            "error_x": {
             "color": "#2a3f5f"
            },
            "error_y": {
             "color": "#2a3f5f"
            },
            "marker": {
             "line": {
              "color": "#E5ECF6",
              "width": 0.5
             },
             "pattern": {
              "fillmode": "overlay",
              "size": 10,
              "solidity": 0.2
             }
            },
            "type": "bar"
           }
          ],
          "barpolar": [
           {
            "marker": {
             "line": {
              "color": "#E5ECF6",
              "width": 0.5
             },
             "pattern": {
              "fillmode": "overlay",
              "size": 10,
              "solidity": 0.2
             }
            },
            "type": "barpolar"
           }
          ],
          "carpet": [
           {
            "aaxis": {
             "endlinecolor": "#2a3f5f",
             "gridcolor": "white",
             "linecolor": "white",
             "minorgridcolor": "white",
             "startlinecolor": "#2a3f5f"
            },
            "baxis": {
             "endlinecolor": "#2a3f5f",
             "gridcolor": "white",
             "linecolor": "white",
             "minorgridcolor": "white",
             "startlinecolor": "#2a3f5f"
            },
            "type": "carpet"
           }
          ],
          "choropleth": [
           {
            "colorbar": {
             "outlinewidth": 0,
             "ticks": ""
            },
            "type": "choropleth"
           }
          ],
          "contour": [
           {
            "colorbar": {
             "outlinewidth": 0,
             "ticks": ""
            },
            "colorscale": [
             [
              0,
              "#0d0887"
             ],
             [
              0.1111111111111111,
              "#46039f"
             ],
             [
              0.2222222222222222,
              "#7201a8"
             ],
             [
              0.3333333333333333,
              "#9c179e"
             ],
             [
              0.4444444444444444,
              "#bd3786"
             ],
             [
              0.5555555555555556,
              "#d8576b"
             ],
             [
              0.6666666666666666,
              "#ed7953"
             ],
             [
              0.7777777777777778,
              "#fb9f3a"
             ],
             [
              0.8888888888888888,
              "#fdca26"
             ],
             [
              1,
              "#f0f921"
             ]
            ],
            "type": "contour"
           }
          ],
          "contourcarpet": [
           {
            "colorbar": {
             "outlinewidth": 0,
             "ticks": ""
            },
            "type": "contourcarpet"
           }
          ],
          "heatmap": [
           {
            "colorbar": {
             "outlinewidth": 0,
             "ticks": ""
            },
            "colorscale": [
             [
              0,
              "#0d0887"
             ],
             [
              0.1111111111111111,
              "#46039f"
             ],
             [
              0.2222222222222222,
              "#7201a8"
             ],
             [
              0.3333333333333333,
              "#9c179e"
             ],
             [
              0.4444444444444444,
              "#bd3786"
             ],
             [
              0.5555555555555556,
              "#d8576b"
             ],
             [
              0.6666666666666666,
              "#ed7953"
             ],
             [
              0.7777777777777778,
              "#fb9f3a"
             ],
             [
              0.8888888888888888,
              "#fdca26"
             ],
             [
              1,
              "#f0f921"
             ]
            ],
            "type": "heatmap"
           }
          ],
          "histogram": [
           {
            "marker": {
             "pattern": {
              "fillmode": "overlay",
              "size": 10,
              "solidity": 0.2
             }
            },
            "type": "histogram"
           }
          ],
          "histogram2d": [
           {
            "colorbar": {
             "outlinewidth": 0,
             "ticks": ""
            },
            "colorscale": [
             [
              0,
              "#0d0887"
             ],
             [
              0.1111111111111111,
              "#46039f"
             ],
             [
              0.2222222222222222,
              "#7201a8"
             ],
             [
              0.3333333333333333,
              "#9c179e"
             ],
             [
              0.4444444444444444,
              "#bd3786"
             ],
             [
              0.5555555555555556,
              "#d8576b"
             ],
             [
              0.6666666666666666,
              "#ed7953"
             ],
             [
              0.7777777777777778,
              "#fb9f3a"
             ],
             [
              0.8888888888888888,
              "#fdca26"
             ],
             [
              1,
              "#f0f921"
             ]
            ],
            "type": "histogram2d"
           }
          ],
          "histogram2dcontour": [
           {
            "colorbar": {
             "outlinewidth": 0,
             "ticks": ""
            },
            "colorscale": [
             [
              0,
              "#0d0887"
             ],
             [
              0.1111111111111111,
              "#46039f"
             ],
             [
              0.2222222222222222,
              "#7201a8"
             ],
             [
              0.3333333333333333,
              "#9c179e"
             ],
             [
              0.4444444444444444,
              "#bd3786"
             ],
             [
              0.5555555555555556,
              "#d8576b"
             ],
             [
              0.6666666666666666,
              "#ed7953"
             ],
             [
              0.7777777777777778,
              "#fb9f3a"
             ],
             [
              0.8888888888888888,
              "#fdca26"
             ],
             [
              1,
              "#f0f921"
             ]
            ],
            "type": "histogram2dcontour"
           }
          ],
          "mesh3d": [
           {
            "colorbar": {
             "outlinewidth": 0,
             "ticks": ""
            },
            "type": "mesh3d"
           }
          ],
          "parcoords": [
           {
            "line": {
             "colorbar": {
              "outlinewidth": 0,
              "ticks": ""
             }
            },
            "type": "parcoords"
           }
          ],
          "pie": [
           {
            "automargin": true,
            "type": "pie"
           }
          ],
          "scatter": [
           {
            "fillpattern": {
             "fillmode": "overlay",
             "size": 10,
             "solidity": 0.2
            },
            "type": "scatter"
           }
          ],
          "scatter3d": [
           {
            "line": {
             "colorbar": {
              "outlinewidth": 0,
              "ticks": ""
             }
            },
            "marker": {
             "colorbar": {
              "outlinewidth": 0,
              "ticks": ""
             }
            },
            "type": "scatter3d"
           }
          ],
          "scattercarpet": [
           {
            "marker": {
             "colorbar": {
              "outlinewidth": 0,
              "ticks": ""
             }
            },
            "type": "scattercarpet"
           }
          ],
          "scattergeo": [
           {
            "marker": {
             "colorbar": {
              "outlinewidth": 0,
              "ticks": ""
             }
            },
            "type": "scattergeo"
           }
          ],
          "scattergl": [
           {
            "marker": {
             "colorbar": {
              "outlinewidth": 0,
              "ticks": ""
             }
            },
            "type": "scattergl"
           }
          ],
          "scattermap": [
           {
            "marker": {
             "colorbar": {
              "outlinewidth": 0,
              "ticks": ""
             }
            },
            "type": "scattermap"
           }
          ],
          "scattermapbox": [
           {
            "marker": {
             "colorbar": {
              "outlinewidth": 0,
              "ticks": ""
             }
            },
            "type": "scattermapbox"
           }
          ],
          "scatterpolar": [
           {
            "marker": {
             "colorbar": {
              "outlinewidth": 0,
              "ticks": ""
             }
            },
            "type": "scatterpolar"
           }
          ],
          "scatterpolargl": [
           {
            "marker": {
             "colorbar": {
              "outlinewidth": 0,
              "ticks": ""
             }
            },
            "type": "scatterpolargl"
           }
          ],
          "scatterternary": [
           {
            "marker": {
             "colorbar": {
              "outlinewidth": 0,
              "ticks": ""
             }
            },
            "type": "scatterternary"
           }
          ],
          "surface": [
           {
            "colorbar": {
             "outlinewidth": 0,
             "ticks": ""
            },
            "colorscale": [
             [
              0,
              "#0d0887"
             ],
             [
              0.1111111111111111,
              "#46039f"
             ],
             [
              0.2222222222222222,
              "#7201a8"
             ],
             [
              0.3333333333333333,
              "#9c179e"
             ],
             [
              0.4444444444444444,
              "#bd3786"
             ],
             [
              0.5555555555555556,
              "#d8576b"
             ],
             [
              0.6666666666666666,
              "#ed7953"
             ],
             [
              0.7777777777777778,
              "#fb9f3a"
             ],
             [
              0.8888888888888888,
              "#fdca26"
             ],
             [
              1,
              "#f0f921"
             ]
            ],
            "type": "surface"
           }
          ],
          "table": [
           {
            "cells": {
             "fill": {
              "color": "#EBF0F8"
             },
             "line": {
              "color": "white"
             }
            },
            "header": {
             "fill": {
              "color": "#C8D4E3"
             },
             "line": {
              "color": "white"
             }
            },
            "type": "table"
           }
          ]
         },
         "layout": {
          "annotationdefaults": {
           "arrowcolor": "#2a3f5f",
           "arrowhead": 0,
           "arrowwidth": 1
          },
          "autotypenumbers": "strict",
          "coloraxis": {
           "colorbar": {
            "outlinewidth": 0,
            "ticks": ""
           }
          },
          "colorscale": {
           "diverging": [
            [
             0,
             "#8e0152"
            ],
            [
             0.1,
             "#c51b7d"
            ],
            [
             0.2,
             "#de77ae"
            ],
            [
             0.3,
             "#f1b6da"
            ],
            [
             0.4,
             "#fde0ef"
            ],
            [
             0.5,
             "#f7f7f7"
            ],
            [
             0.6,
             "#e6f5d0"
            ],
            [
             0.7,
             "#b8e186"
            ],
            [
             0.8,
             "#7fbc41"
            ],
            [
             0.9,
             "#4d9221"
            ],
            [
             1,
             "#276419"
            ]
           ],
           "sequential": [
            [
             0,
             "#0d0887"
            ],
            [
             0.1111111111111111,
             "#46039f"
            ],
            [
             0.2222222222222222,
             "#7201a8"
            ],
            [
             0.3333333333333333,
             "#9c179e"
            ],
            [
             0.4444444444444444,
             "#bd3786"
            ],
            [
             0.5555555555555556,
             "#d8576b"
            ],
            [
             0.6666666666666666,
             "#ed7953"
            ],
            [
             0.7777777777777778,
             "#fb9f3a"
            ],
            [
             0.8888888888888888,
             "#fdca26"
            ],
            [
             1,
             "#f0f921"
            ]
           ],
           "sequentialminus": [
            [
             0,
             "#0d0887"
            ],
            [
             0.1111111111111111,
             "#46039f"
            ],
            [
             0.2222222222222222,
             "#7201a8"
            ],
            [
             0.3333333333333333,
             "#9c179e"
            ],
            [
             0.4444444444444444,
             "#bd3786"
            ],
            [
             0.5555555555555556,
             "#d8576b"
            ],
            [
             0.6666666666666666,
             "#ed7953"
            ],
            [
             0.7777777777777778,
             "#fb9f3a"
            ],
            [
             0.8888888888888888,
             "#fdca26"
            ],
            [
             1,
             "#f0f921"
            ]
           ]
          },
          "colorway": [
           "#636efa",
           "#EF553B",
           "#00cc96",
           "#ab63fa",
           "#FFA15A",
           "#19d3f3",
           "#FF6692",
           "#B6E880",
           "#FF97FF",
           "#FECB52"
          ],
          "font": {
           "color": "#2a3f5f"
          },
          "geo": {
           "bgcolor": "white",
           "lakecolor": "white",
           "landcolor": "#E5ECF6",
           "showlakes": true,
           "showland": true,
           "subunitcolor": "white"
          },
          "hoverlabel": {
           "align": "left"
          },
          "hovermode": "closest",
          "mapbox": {
           "style": "light"
          },
          "paper_bgcolor": "white",
          "plot_bgcolor": "#E5ECF6",
          "polar": {
           "angularaxis": {
            "gridcolor": "white",
            "linecolor": "white",
            "ticks": ""
           },
           "bgcolor": "#E5ECF6",
           "radialaxis": {
            "gridcolor": "white",
            "linecolor": "white",
            "ticks": ""
           }
          },
          "scene": {
           "xaxis": {
            "backgroundcolor": "#E5ECF6",
            "gridcolor": "white",
            "gridwidth": 2,
            "linecolor": "white",
            "showbackground": true,
            "ticks": "",
            "zerolinecolor": "white"
           },
           "yaxis": {
            "backgroundcolor": "#E5ECF6",
            "gridcolor": "white",
            "gridwidth": 2,
            "linecolor": "white",
            "showbackground": true,
            "ticks": "",
            "zerolinecolor": "white"
           },
           "zaxis": {
            "backgroundcolor": "#E5ECF6",
            "gridcolor": "white",
            "gridwidth": 2,
            "linecolor": "white",
            "showbackground": true,
            "ticks": "",
            "zerolinecolor": "white"
           }
          },
          "shapedefaults": {
           "line": {
            "color": "#2a3f5f"
           }
          },
          "ternary": {
           "aaxis": {
            "gridcolor": "white",
            "linecolor": "white",
            "ticks": ""
           },
           "baxis": {
            "gridcolor": "white",
            "linecolor": "white",
            "ticks": ""
           },
           "bgcolor": "#E5ECF6",
           "caxis": {
            "gridcolor": "white",
            "linecolor": "white",
            "ticks": ""
           }
          },
          "title": {
           "x": 0.05
          },
          "xaxis": {
           "automargin": true,
           "gridcolor": "white",
           "linecolor": "white",
           "ticks": "",
           "title": {
            "standoff": 15
           },
           "zerolinecolor": "white",
           "zerolinewidth": 2
          },
          "yaxis": {
           "automargin": true,
           "gridcolor": "white",
           "linecolor": "white",
           "ticks": "",
           "title": {
            "standoff": 15
           },
           "zerolinecolor": "white",
           "zerolinewidth": 2
          }
         }
        },
        "width": 400,
        "xaxis": {
         "anchor": "y",
         "domain": [
          0,
          1
         ],
         "title": {
          "text": "x"
         }
        },
        "yaxis": {
         "anchor": "x",
         "domain": [
          0,
          1
         ],
         "title": {
          "text": "y"
         }
        }
       }
      }
     },
     "metadata": {},
     "output_type": "display_data"
    },
    {
     "data": {
      "application/vnd.plotly.v1+json": {
       "config": {
        "plotlyServerURL": "https://plot.ly"
       },
       "data": [
        {
         "hovertemplate": "x=%{x}<br>y=%{y}<br>signal=%{marker.color}<extra></extra>",
         "legendgroup": "",
         "marker": {
          "color": {
           "bdata": "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",
           "dtype": "f8"
          },
          "coloraxis": "coloraxis",
          "size": 6,
          "symbol": "circle"
         },
         "mode": "markers",
         "name": "",
         "orientation": "v",
         "showlegend": false,
         "type": "scatter",
         "x": {
          "bdata": "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",
          "dtype": "f8"
         },
         "xaxis": "x",
         "y": {
          "bdata": "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",
          "dtype": "f8"
         },
         "yaxis": "y"
        }
       ],
       "layout": {
        "coloraxis": {
         "colorbar": {
          "title": {
           "text": "signal"
          }
         },
         "colorscale": [
          [
           0,
           "#0d0887"
          ],
          [
           0.1111111111111111,
           "#46039f"
          ],
          [
           0.2222222222222222,
           "#7201a8"
          ],
          [
           0.3333333333333333,
           "#9c179e"
          ],
          [
           0.4444444444444444,
           "#bd3786"
          ],
          [
           0.5555555555555556,
           "#d8576b"
          ],
          [
           0.6666666666666666,
           "#ed7953"
          ],
          [
           0.7777777777777778,
           "#fb9f3a"
          ],
          [
           0.8888888888888888,
           "#fdca26"
          ],
          [
           1,
           "#f0f921"
          ]
         ]
        },
        "height": 400,
        "legend": {
         "tracegroupgap": 0
        },
        "margin": {
         "t": 60
        },
        "template": {
         "data": {
          "bar": [
           {
            "error_x": {
             "color": "#2a3f5f"
            },
            "error_y": {
             "color": "#2a3f5f"
            },
            "marker": {
             "line": {
              "color": "#E5ECF6",
              "width": 0.5
             },
             "pattern": {
              "fillmode": "overlay",
              "size": 10,
              "solidity": 0.2
             }
            },
            "type": "bar"
           }
          ],
          "barpolar": [
           {
            "marker": {
             "line": {
              "color": "#E5ECF6",
              "width": 0.5
             },
             "pattern": {
              "fillmode": "overlay",
              "size": 10,
              "solidity": 0.2
             }
            },
            "type": "barpolar"
           }
          ],
          "carpet": [
           {
            "aaxis": {
             "endlinecolor": "#2a3f5f",
             "gridcolor": "white",
             "linecolor": "white",
             "minorgridcolor": "white",
             "startlinecolor": "#2a3f5f"
            },
            "baxis": {
             "endlinecolor": "#2a3f5f",
             "gridcolor": "white",
             "linecolor": "white",
             "minorgridcolor": "white",
             "startlinecolor": "#2a3f5f"
            },
            "type": "carpet"
           }
          ],
          "choropleth": [
           {
            "colorbar": {
             "outlinewidth": 0,
             "ticks": ""
            },
            "type": "choropleth"
           }
          ],
          "contour": [
           {
            "colorbar": {
             "outlinewidth": 0,
             "ticks": ""
            },
            "colorscale": [
             [
              0,
              "#0d0887"
             ],
             [
              0.1111111111111111,
              "#46039f"
             ],
             [
              0.2222222222222222,
              "#7201a8"
             ],
             [
              0.3333333333333333,
              "#9c179e"
             ],
             [
              0.4444444444444444,
              "#bd3786"
             ],
             [
              0.5555555555555556,
              "#d8576b"
             ],
             [
              0.6666666666666666,
              "#ed7953"
             ],
             [
              0.7777777777777778,
              "#fb9f3a"
             ],
             [
              0.8888888888888888,
              "#fdca26"
             ],
             [
              1,
              "#f0f921"
             ]
            ],
            "type": "contour"
           }
          ],
          "contourcarpet": [
           {
            "colorbar": {
             "outlinewidth": 0,
             "ticks": ""
            },
            "type": "contourcarpet"
           }
          ],
          "heatmap": [
           {
            "colorbar": {
             "outlinewidth": 0,
             "ticks": ""
            },
            "colorscale": [
             [
              0,
              "#0d0887"
             ],
             [
              0.1111111111111111,
              "#46039f"
             ],
             [
              0.2222222222222222,
              "#7201a8"
             ],
             [
              0.3333333333333333,
              "#9c179e"
             ],
             [
              0.4444444444444444,
              "#bd3786"
             ],
             [
              0.5555555555555556,
              "#d8576b"
             ],
             [
              0.6666666666666666,
              "#ed7953"
             ],
             [
              0.7777777777777778,
              "#fb9f3a"
             ],
             [
              0.8888888888888888,
              "#fdca26"
             ],
             [
              1,
              "#f0f921"
             ]
            ],
            "type": "heatmap"
           }
          ],
          "histogram": [
           {
            "marker": {
             "pattern": {
              "fillmode": "overlay",
              "size": 10,
              "solidity": 0.2
             }
            },
            "type": "histogram"
           }
          ],
          "histogram2d": [
           {
            "colorbar": {
             "outlinewidth": 0,
             "ticks": ""
            },
            "colorscale": [
             [
              0,
              "#0d0887"
             ],
             [
              0.1111111111111111,
              "#46039f"
             ],
             [
              0.2222222222222222,
              "#7201a8"
             ],
             [
              0.3333333333333333,
              "#9c179e"
             ],
             [
              0.4444444444444444,
              "#bd3786"
             ],
             [
              0.5555555555555556,
              "#d8576b"
             ],
             [
              0.6666666666666666,
              "#ed7953"
             ],
             [
              0.7777777777777778,
              "#fb9f3a"
             ],
             [
              0.8888888888888888,
              "#fdca26"
             ],
             [
              1,
              "#f0f921"
             ]
            ],
            "type": "histogram2d"
           }
          ],
          "histogram2dcontour": [
           {
            "colorbar": {
             "outlinewidth": 0,
             "ticks": ""
            },
            "colorscale": [
             [
              0,
              "#0d0887"
             ],
             [
              0.1111111111111111,
              "#46039f"
             ],
             [
              0.2222222222222222,
              "#7201a8"
             ],
             [
              0.3333333333333333,
              "#9c179e"
             ],
             [
              0.4444444444444444,
              "#bd3786"
             ],
             [
              0.5555555555555556,
              "#d8576b"
             ],
             [
              0.6666666666666666,
              "#ed7953"
             ],
             [
              0.7777777777777778,
              "#fb9f3a"
             ],
             [
              0.8888888888888888,
              "#fdca26"
             ],
             [
              1,
              "#f0f921"
             ]
            ],
            "type": "histogram2dcontour"
           }
          ],
          "mesh3d": [
           {
            "colorbar": {
             "outlinewidth": 0,
             "ticks": ""
            },
            "type": "mesh3d"
           }
          ],
          "parcoords": [
           {
            "line": {
             "colorbar": {
              "outlinewidth": 0,
              "ticks": ""
             }
            },
            "type": "parcoords"
           }
          ],
          "pie": [
           {
            "automargin": true,
            "type": "pie"
           }
          ],
          "scatter": [
           {
            "fillpattern": {
             "fillmode": "overlay",
             "size": 10,
             "solidity": 0.2
            },
            "type": "scatter"
           }
          ],
          "scatter3d": [
           {
            "line": {
             "colorbar": {
              "outlinewidth": 0,
              "ticks": ""
             }
            },
            "marker": {
             "colorbar": {
              "outlinewidth": 0,
              "ticks": ""
             }
            },
            "type": "scatter3d"
           }
          ],
          "scattercarpet": [
           {
            "marker": {
             "colorbar": {
              "outlinewidth": 0,
              "ticks": ""
             }
            },
            "type": "scattercarpet"
           }
          ],
          "scattergeo": [
           {
            "marker": {
             "colorbar": {
              "outlinewidth": 0,
              "ticks": ""
             }
            },
            "type": "scattergeo"
           }
          ],
          "scattergl": [
           {
            "marker": {
             "colorbar": {
              "outlinewidth": 0,
              "ticks": ""
             }
            },
            "type": "scattergl"
           }
          ],
          "scattermap": [
           {
            "marker": {
             "colorbar": {
              "outlinewidth": 0,
              "ticks": ""
             }
            },
            "type": "scattermap"
           }
          ],
          "scattermapbox": [
           {
            "marker": {
             "colorbar": {
              "outlinewidth": 0,
              "ticks": ""
             }
            },
            "type": "scattermapbox"
           }
          ],
          "scatterpolar": [
           {
            "marker": {
             "colorbar": {
              "outlinewidth": 0,
              "ticks": ""
             }
            },
            "type": "scatterpolar"
           }
          ],
          "scatterpolargl": [
           {
            "marker": {
             "colorbar": {
              "outlinewidth": 0,
              "ticks": ""
             }
            },
            "type": "scatterpolargl"
           }
          ],
          "scatterternary": [
           {
            "marker": {
             "colorbar": {
              "outlinewidth": 0,
              "ticks": ""
             }
            },
            "type": "scatterternary"
           }
          ],
          "surface": [
           {
            "colorbar": {
             "outlinewidth": 0,
             "ticks": ""
            },
            "colorscale": [
             [
              0,
              "#0d0887"
             ],
             [
              0.1111111111111111,
              "#46039f"
             ],
             [
              0.2222222222222222,
              "#7201a8"
             ],
             [
              0.3333333333333333,
              "#9c179e"
             ],
             [
              0.4444444444444444,
              "#bd3786"
             ],
             [
              0.5555555555555556,
              "#d8576b"
             ],
             [
              0.6666666666666666,
              "#ed7953"
             ],
             [
              0.7777777777777778,
              "#fb9f3a"
             ],
             [
              0.8888888888888888,
              "#fdca26"
             ],
             [
              1,
              "#f0f921"
             ]
            ],
            "type": "surface"
           }
          ],
          "table": [
           {
            "cells": {
             "fill": {
              "color": "#EBF0F8"
             },
             "line": {
              "color": "white"
             }
            },
            "header": {
             "fill": {
              "color": "#C8D4E3"
             },
             "line": {
              "color": "white"
             }
            },
            "type": "table"
           }
          ]
         },
         "layout": {
          "annotationdefaults": {
           "arrowcolor": "#2a3f5f",
           "arrowhead": 0,
           "arrowwidth": 1
          },
          "autotypenumbers": "strict",
          "coloraxis": {
           "colorbar": {
            "outlinewidth": 0,
            "ticks": ""
           }
          },
          "colorscale": {
           "diverging": [
            [
             0,
             "#8e0152"
            ],
            [
             0.1,
             "#c51b7d"
            ],
            [
             0.2,
             "#de77ae"
            ],
            [
             0.3,
             "#f1b6da"
            ],
            [
             0.4,
             "#fde0ef"
            ],
            [
             0.5,
             "#f7f7f7"
            ],
            [
             0.6,
             "#e6f5d0"
            ],
            [
             0.7,
             "#b8e186"
            ],
            [
             0.8,
             "#7fbc41"
            ],
            [
             0.9,
             "#4d9221"
            ],
            [
             1,
             "#276419"
            ]
           ],
           "sequential": [
            [
             0,
             "#0d0887"
            ],
            [
             0.1111111111111111,
             "#46039f"
            ],
            [
             0.2222222222222222,
             "#7201a8"
            ],
            [
             0.3333333333333333,
             "#9c179e"
            ],
            [
             0.4444444444444444,
             "#bd3786"
            ],
            [
             0.5555555555555556,
             "#d8576b"
            ],
            [
             0.6666666666666666,
             "#ed7953"
            ],
            [
             0.7777777777777778,
             "#fb9f3a"
            ],
            [
             0.8888888888888888,
             "#fdca26"
            ],
            [
             1,
             "#f0f921"
            ]
           ],
           "sequentialminus": [
            [
             0,
             "#0d0887"
            ],
            [
             0.1111111111111111,
             "#46039f"
            ],
            [
             0.2222222222222222,
             "#7201a8"
            ],
            [
             0.3333333333333333,
             "#9c179e"
            ],
            [
             0.4444444444444444,
             "#bd3786"
            ],
            [
             0.5555555555555556,
             "#d8576b"
            ],
            [
             0.6666666666666666,
             "#ed7953"
            ],
            [
             0.7777777777777778,
             "#fb9f3a"
            ],
            [
             0.8888888888888888,
             "#fdca26"
            ],
            [
             1,
             "#f0f921"
            ]
           ]
          },
          "colorway": [
           "#636efa",
           "#EF553B",
           "#00cc96",
           "#ab63fa",
           "#FFA15A",
           "#19d3f3",
           "#FF6692",
           "#B6E880",
           "#FF97FF",
           "#FECB52"
          ],
          "font": {
           "color": "#2a3f5f"
          },
          "geo": {
           "bgcolor": "white",
           "lakecolor": "white",
           "landcolor": "#E5ECF6",
           "showlakes": true,
           "showland": true,
           "subunitcolor": "white"
          },
          "hoverlabel": {
           "align": "left"
          },
          "hovermode": "closest",
          "mapbox": {
           "style": "light"
          },
          "paper_bgcolor": "white",
          "plot_bgcolor": "#E5ECF6",
          "polar": {
           "angularaxis": {
            "gridcolor": "white",
            "linecolor": "white",
            "ticks": ""
           },
           "bgcolor": "#E5ECF6",
           "radialaxis": {
            "gridcolor": "white",
            "linecolor": "white",
            "ticks": ""
           }
          },
          "scene": {
           "xaxis": {
            "backgroundcolor": "#E5ECF6",
            "gridcolor": "white",
            "gridwidth": 2,
            "linecolor": "white",
            "showbackground": true,
            "ticks": "",
            "zerolinecolor": "white"
           },
           "yaxis": {
            "backgroundcolor": "#E5ECF6",
            "gridcolor": "white",
            "gridwidth": 2,
            "linecolor": "white",
            "showbackground": true,
            "ticks": "",
            "zerolinecolor": "white"
           },
           "zaxis": {
            "backgroundcolor": "#E5ECF6",
            "gridcolor": "white",
            "gridwidth": 2,
            "linecolor": "white",
            "showbackground": true,
            "ticks": "",
            "zerolinecolor": "white"
           }
          },
          "shapedefaults": {
           "line": {
            "color": "#2a3f5f"
           }
          },
          "ternary": {
           "aaxis": {
            "gridcolor": "white",
            "linecolor": "white",
            "ticks": ""
           },
           "baxis": {
            "gridcolor": "white",
            "linecolor": "white",
            "ticks": ""
           },
           "bgcolor": "#E5ECF6",
           "caxis": {
            "gridcolor": "white",
            "linecolor": "white",
            "ticks": ""
           }
          },
          "title": {
           "x": 0.05
          },
          "xaxis": {
           "automargin": true,
           "gridcolor": "white",
           "linecolor": "white",
           "ticks": "",
           "title": {
            "standoff": 15
           },
           "zerolinecolor": "white",
           "zerolinewidth": 2
          },
          "yaxis": {
           "automargin": true,
           "gridcolor": "white",
           "linecolor": "white",
           "ticks": "",
           "title": {
            "standoff": 15
           },
           "zerolinecolor": "white",
           "zerolinewidth": 2
          }
         }
        },
        "width": 400,
        "xaxis": {
         "anchor": "y",
         "domain": [
          0,
          1
         ],
         "title": {
          "text": "x"
         }
        },
        "yaxis": {
         "anchor": "x",
         "domain": [
          0,
          1
         ],
         "title": {
          "text": "y"
         }
        }
       }
      }
     },
     "metadata": {},
     "output_type": "display_data"
    },
    {
     "data": {
      "application/vnd.plotly.v1+json": {
       "config": {
        "plotlyServerURL": "https://plot.ly"
       },
       "data": [
        {
         "hovertemplate": "x=%{x}<br>y=%{y}<br>signal=%{marker.color}<extra></extra>",
         "legendgroup": "",
         "marker": {
          "color": {
           "bdata": "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",
           "dtype": "f8"
          },
          "coloraxis": "coloraxis",
          "size": 6,
          "symbol": "circle"
         },
         "mode": "markers",
         "name": "",
         "orientation": "v",
         "showlegend": false,
         "type": "scatter",
         "x": {
          "bdata": "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",
          "dtype": "f8"
         },
         "xaxis": "x",
         "y": {
          "bdata": "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",
          "dtype": "f8"
         },
         "yaxis": "y"
        }
       ],
       "layout": {
        "coloraxis": {
         "colorbar": {
          "title": {
           "text": "signal"
          }
         },
         "colorscale": [
          [
           0,
           "#0d0887"
          ],
          [
           0.1111111111111111,
           "#46039f"
          ],
          [
           0.2222222222222222,
           "#7201a8"
          ],
          [
           0.3333333333333333,
           "#9c179e"
          ],
          [
           0.4444444444444444,
           "#bd3786"
          ],
          [
           0.5555555555555556,
           "#d8576b"
          ],
          [
           0.6666666666666666,
           "#ed7953"
          ],
          [
           0.7777777777777778,
           "#fb9f3a"
          ],
          [
           0.8888888888888888,
           "#fdca26"
          ],
          [
           1,
           "#f0f921"
          ]
         ]
        },
        "height": 400,
        "legend": {
         "tracegroupgap": 0
        },
        "margin": {
         "t": 60
        },
        "template": {
         "data": {
          "bar": [
           {
            "error_x": {
             "color": "#2a3f5f"
            },
            "error_y": {
             "color": "#2a3f5f"
            },
            "marker": {
             "line": {
              "color": "#E5ECF6",
              "width": 0.5
             },
             "pattern": {
              "fillmode": "overlay",
              "size": 10,
              "solidity": 0.2
             }
            },
            "type": "bar"
           }
          ],
          "barpolar": [
           {
            "marker": {
             "line": {
              "color": "#E5ECF6",
              "width": 0.5
             },
             "pattern": {
              "fillmode": "overlay",
              "size": 10,
              "solidity": 0.2
             }
            },
            "type": "barpolar"
           }
          ],
          "carpet": [
           {
            "aaxis": {
             "endlinecolor": "#2a3f5f",
             "gridcolor": "white",
             "linecolor": "white",
             "minorgridcolor": "white",
             "startlinecolor": "#2a3f5f"
            },
            "baxis": {
             "endlinecolor": "#2a3f5f",
             "gridcolor": "white",
             "linecolor": "white",
             "minorgridcolor": "white",
             "startlinecolor": "#2a3f5f"
            },
            "type": "carpet"
           }
          ],
          "choropleth": [
           {
            "colorbar": {
             "outlinewidth": 0,
             "ticks": ""
            },
            "type": "choropleth"
           }
          ],
          "contour": [
           {
            "colorbar": {
             "outlinewidth": 0,
             "ticks": ""
            },
            "colorscale": [
             [
              0,
              "#0d0887"
             ],
             [
              0.1111111111111111,
              "#46039f"
             ],
             [
              0.2222222222222222,
              "#7201a8"
             ],
             [
              0.3333333333333333,
              "#9c179e"
             ],
             [
              0.4444444444444444,
              "#bd3786"
             ],
             [
              0.5555555555555556,
              "#d8576b"
             ],
             [
              0.6666666666666666,
              "#ed7953"
             ],
             [
              0.7777777777777778,
              "#fb9f3a"
             ],
             [
              0.8888888888888888,
              "#fdca26"
             ],
             [
              1,
              "#f0f921"
             ]
            ],
            "type": "contour"
           }
          ],
          "contourcarpet": [
           {
            "colorbar": {
             "outlinewidth": 0,
             "ticks": ""
            },
            "type": "contourcarpet"
           }
          ],
          "heatmap": [
           {
            "colorbar": {
             "outlinewidth": 0,
             "ticks": ""
            },
            "colorscale": [
             [
              0,
              "#0d0887"
             ],
             [
              0.1111111111111111,
              "#46039f"
             ],
             [
              0.2222222222222222,
              "#7201a8"
             ],
             [
              0.3333333333333333,
              "#9c179e"
             ],
             [
              0.4444444444444444,
              "#bd3786"
             ],
             [
              0.5555555555555556,
              "#d8576b"
             ],
             [
              0.6666666666666666,
              "#ed7953"
             ],
             [
              0.7777777777777778,
              "#fb9f3a"
             ],
             [
              0.8888888888888888,
              "#fdca26"
             ],
             [
              1,
              "#f0f921"
             ]
            ],
            "type": "heatmap"
           }
          ],
          "histogram": [
           {
            "marker": {
             "pattern": {
              "fillmode": "overlay",
              "size": 10,
              "solidity": 0.2
             }
            },
            "type": "histogram"
           }
          ],
          "histogram2d": [
           {
            "colorbar": {
             "outlinewidth": 0,
             "ticks": ""
            },
            "colorscale": [
             [
              0,
              "#0d0887"
             ],
             [
              0.1111111111111111,
              "#46039f"
             ],
             [
              0.2222222222222222,
              "#7201a8"
             ],
             [
              0.3333333333333333,
              "#9c179e"
             ],
             [
              0.4444444444444444,
              "#bd3786"
             ],
             [
              0.5555555555555556,
              "#d8576b"
             ],
             [
              0.6666666666666666,
              "#ed7953"
             ],
             [
              0.7777777777777778,
              "#fb9f3a"
             ],
             [
              0.8888888888888888,
              "#fdca26"
             ],
             [
              1,
              "#f0f921"
             ]
            ],
            "type": "histogram2d"
           }
          ],
          "histogram2dcontour": [
           {
            "colorbar": {
             "outlinewidth": 0,
             "ticks": ""
            },
            "colorscale": [
             [
              0,
              "#0d0887"
             ],
             [
              0.1111111111111111,
              "#46039f"
             ],
             [
              0.2222222222222222,
              "#7201a8"
             ],
             [
              0.3333333333333333,
              "#9c179e"
             ],
             [
              0.4444444444444444,
              "#bd3786"
             ],
             [
              0.5555555555555556,
              "#d8576b"
             ],
             [
              0.6666666666666666,
              "#ed7953"
             ],
             [
              0.7777777777777778,
              "#fb9f3a"
             ],
             [
              0.8888888888888888,
              "#fdca26"
             ],
             [
              1,
              "#f0f921"
             ]
            ],
            "type": "histogram2dcontour"
           }
          ],
          "mesh3d": [
           {
            "colorbar": {
             "outlinewidth": 0,
             "ticks": ""
            },
            "type": "mesh3d"
           }
          ],
          "parcoords": [
           {
            "line": {
             "colorbar": {
              "outlinewidth": 0,
              "ticks": ""
             }
            },
            "type": "parcoords"
           }
          ],
          "pie": [
           {
            "automargin": true,
            "type": "pie"
           }
          ],
          "scatter": [
           {
            "fillpattern": {
             "fillmode": "overlay",
             "size": 10,
             "solidity": 0.2
            },
            "type": "scatter"
           }
          ],
          "scatter3d": [
           {
            "line": {
             "colorbar": {
              "outlinewidth": 0,
              "ticks": ""
             }
            },
            "marker": {
             "colorbar": {
              "outlinewidth": 0,
              "ticks": ""
             }
            },
            "type": "scatter3d"
           }
          ],
          "scattercarpet": [
           {
            "marker": {
             "colorbar": {
              "outlinewidth": 0,
              "ticks": ""
             }
            },
            "type": "scattercarpet"
           }
          ],
          "scattergeo": [
           {
            "marker": {
             "colorbar": {
              "outlinewidth": 0,
              "ticks": ""
             }
            },
            "type": "scattergeo"
           }
          ],
          "scattergl": [
           {
            "marker": {
             "colorbar": {
              "outlinewidth": 0,
              "ticks": ""
             }
            },
            "type": "scattergl"
           }
          ],
          "scattermap": [
           {
            "marker": {
             "colorbar": {
              "outlinewidth": 0,
              "ticks": ""
             }
            },
            "type": "scattermap"
           }
          ],
          "scattermapbox": [
           {
            "marker": {
             "colorbar": {
              "outlinewidth": 0,
              "ticks": ""
             }
            },
            "type": "scattermapbox"
           }
          ],
          "scatterpolar": [
           {
            "marker": {
             "colorbar": {
              "outlinewidth": 0,
              "ticks": ""
             }
            },
            "type": "scatterpolar"
           }
          ],
          "scatterpolargl": [
           {
            "marker": {
             "colorbar": {
              "outlinewidth": 0,
              "ticks": ""
             }
            },
            "type": "scatterpolargl"
           }
          ],
          "scatterternary": [
           {
            "marker": {
             "colorbar": {
              "outlinewidth": 0,
              "ticks": ""
             }
            },
            "type": "scatterternary"
           }
          ],
          "surface": [
           {
            "colorbar": {
             "outlinewidth": 0,
             "ticks": ""
            },
            "colorscale": [
             [
              0,
              "#0d0887"
             ],
             [
              0.1111111111111111,
              "#46039f"
             ],
             [
              0.2222222222222222,
              "#7201a8"
             ],
             [
              0.3333333333333333,
              "#9c179e"
             ],
             [
              0.4444444444444444,
              "#bd3786"
             ],
             [
              0.5555555555555556,
              "#d8576b"
             ],
             [
              0.6666666666666666,
              "#ed7953"
             ],
             [
              0.7777777777777778,
              "#fb9f3a"
             ],
             [
              0.8888888888888888,
              "#fdca26"
             ],
             [
              1,
              "#f0f921"
             ]
            ],
            "type": "surface"
           }
          ],
          "table": [
           {
            "cells": {
             "fill": {
              "color": "#EBF0F8"
             },
             "line": {
              "color": "white"
             }
            },
            "header": {
             "fill": {
              "color": "#C8D4E3"
             },
             "line": {
              "color": "white"
             }
            },
            "type": "table"
           }
          ]
         },
         "layout": {
          "annotationdefaults": {
           "arrowcolor": "#2a3f5f",
           "arrowhead": 0,
           "arrowwidth": 1
          },
          "autotypenumbers": "strict",
          "coloraxis": {
           "colorbar": {
            "outlinewidth": 0,
            "ticks": ""
           }
          },
          "colorscale": {
           "diverging": [
            [
             0,
             "#8e0152"
            ],
            [
             0.1,
             "#c51b7d"
            ],
            [
             0.2,
             "#de77ae"
            ],
            [
             0.3,
             "#f1b6da"
            ],
            [
             0.4,
             "#fde0ef"
            ],
            [
             0.5,
             "#f7f7f7"
            ],
            [
             0.6,
             "#e6f5d0"
            ],
            [
             0.7,
             "#b8e186"
            ],
            [
             0.8,
             "#7fbc41"
            ],
            [
             0.9,
             "#4d9221"
            ],
            [
             1,
             "#276419"
            ]
           ],
           "sequential": [
            [
             0,
             "#0d0887"
            ],
            [
             0.1111111111111111,
             "#46039f"
            ],
            [
             0.2222222222222222,
             "#7201a8"
            ],
            [
             0.3333333333333333,
             "#9c179e"
            ],
            [
             0.4444444444444444,
             "#bd3786"
            ],
            [
             0.5555555555555556,
             "#d8576b"
            ],
            [
             0.6666666666666666,
             "#ed7953"
            ],
            [
             0.7777777777777778,
             "#fb9f3a"
            ],
            [
             0.8888888888888888,
             "#fdca26"
            ],
            [
             1,
             "#f0f921"
            ]
           ],
           "sequentialminus": [
            [
             0,
             "#0d0887"
            ],
            [
             0.1111111111111111,
             "#46039f"
            ],
            [
             0.2222222222222222,
             "#7201a8"
            ],
            [
             0.3333333333333333,
             "#9c179e"
            ],
            [
             0.4444444444444444,
             "#bd3786"
            ],
            [
             0.5555555555555556,
             "#d8576b"
            ],
            [
             0.6666666666666666,
             "#ed7953"
            ],
            [
             0.7777777777777778,
             "#fb9f3a"
            ],
            [
             0.8888888888888888,
             "#fdca26"
            ],
            [
             1,
             "#f0f921"
            ]
           ]
          },
          "colorway": [
           "#636efa",
           "#EF553B",
           "#00cc96",
           "#ab63fa",
           "#FFA15A",
           "#19d3f3",
           "#FF6692",
           "#B6E880",
           "#FF97FF",
           "#FECB52"
          ],
          "font": {
           "color": "#2a3f5f"
          },
          "geo": {
           "bgcolor": "white",
           "lakecolor": "white",
           "landcolor": "#E5ECF6",
           "showlakes": true,
           "showland": true,
           "subunitcolor": "white"
          },
          "hoverlabel": {
           "align": "left"
          },
          "hovermode": "closest",
          "mapbox": {
           "style": "light"
          },
          "paper_bgcolor": "white",
          "plot_bgcolor": "#E5ECF6",
          "polar": {
           "angularaxis": {
            "gridcolor": "white",
            "linecolor": "white",
            "ticks": ""
           },
           "bgcolor": "#E5ECF6",
           "radialaxis": {
            "gridcolor": "white",
            "linecolor": "white",
            "ticks": ""
           }
          },
          "scene": {
           "xaxis": {
            "backgroundcolor": "#E5ECF6",
            "gridcolor": "white",
            "gridwidth": 2,
            "linecolor": "white",
            "showbackground": true,
            "ticks": "",
            "zerolinecolor": "white"
           },
           "yaxis": {
            "backgroundcolor": "#E5ECF6",
            "gridcolor": "white",
            "gridwidth": 2,
            "linecolor": "white",
            "showbackground": true,
            "ticks": "",
            "zerolinecolor": "white"
           },
           "zaxis": {
            "backgroundcolor": "#E5ECF6",
            "gridcolor": "white",
            "gridwidth": 2,
            "linecolor": "white",
            "showbackground": true,
            "ticks": "",
            "zerolinecolor": "white"
           }
          },
          "shapedefaults": {
           "line": {
            "color": "#2a3f5f"
           }
          },
          "ternary": {
           "aaxis": {
            "gridcolor": "white",
            "linecolor": "white",
            "ticks": ""
           },
           "baxis": {
            "gridcolor": "white",
            "linecolor": "white",
            "ticks": ""
           },
           "bgcolor": "#E5ECF6",
           "caxis": {
            "gridcolor": "white",
            "linecolor": "white",
            "ticks": ""
           }
          },
          "title": {
           "x": 0.05
          },
          "xaxis": {
           "automargin": true,
           "gridcolor": "white",
           "linecolor": "white",
           "ticks": "",
           "title": {
            "standoff": 15
           },
           "zerolinecolor": "white",
           "zerolinewidth": 2
          },
          "yaxis": {
           "automargin": true,
           "gridcolor": "white",
           "linecolor": "white",
           "ticks": "",
           "title": {
            "standoff": 15
           },
           "zerolinecolor": "white",
           "zerolinewidth": 2
          }
         }
        },
        "width": 400,
        "xaxis": {
         "anchor": "y",
         "domain": [
          0,
          1
         ],
         "title": {
          "text": "x"
         }
        },
        "yaxis": {
         "anchor": "x",
         "domain": [
          0,
          1
         ],
         "title": {
          "text": "y"
         }
        }
       }
      }
     },
     "metadata": {},
     "output_type": "display_data"
    }
   ],
   "source": [
    "sde_solver = EulerMaruyamaSolver(sde=sde, n=num_timesteps)\n",
    "with torch.no_grad():\n",
    "    x0_test_pred = sde_solver.sample_from_terminal(x0=x0_test, control=ModelControl(model))\n",
    "    test_w1 = wasserstein_distance(x0_test_pred, x1_test, p=1)\n",
    "    test_w2 = wasserstein_distance(x0_test_pred, x1_test, p=2)\n",
    "\n",
    "print(f\"Wasserstein-1 distance: {test_w1:.4f}\")\n",
    "print(f\"Wasserstein-2 distance: {test_w2:.4f}\")\n",
    "\n",
    "plot_brain_signal_2d(x0_test[0]);\n",
    "plot_brain_signal_2d(x0_test_pred[0]);\n",
    "plot_brain_signal_2d(x1_test[0]);"
   ]
  }
 ],
 "metadata": {
  "kernelspec": {
   "display_name": "topological-flow-matching",
   "language": "python",
   "name": "python3"
  },
  "language_info": {
   "codemirror_mode": {
    "name": "ipython",
    "version": 3
   },
   "file_extension": ".py",
   "mimetype": "text/x-python",
   "name": "python",
   "nbconvert_exporter": "python",
   "pygments_lexer": "ipython3",
   "version": "3.10.16"
  }
 },
 "nbformat": 4,
 "nbformat_minor": 5
}
