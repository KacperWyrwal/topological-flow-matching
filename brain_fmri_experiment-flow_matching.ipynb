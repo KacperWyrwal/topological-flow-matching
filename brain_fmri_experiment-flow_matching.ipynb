{
 "cells": [
  {
   "cell_type": "code",
   "execution_count": 160,
   "id": "69aeba7b",
   "metadata": {},
   "outputs": [],
   "source": [
    "import torch \n",
    "import math\n",
    "import numpy as np\n",
    "import ot \n",
    "import plotly.express as px\n",
    "import scipy\n",
    "from torch_ema import ExponentialMovingAverage\n",
    "from matplotlib import pyplot as plt\n",
    "from matplotlib import cm\n",
    "from tqdm import tqdm\n",
    "from abc import ABC, abstractmethod\n",
    "from matplotlib.colors import Normalize\n",
    "from matplotlib.collections import LineCollection\n",
    "from geomloss import SamplesLoss\n",
    "\n",
    "\n",
    "torch.set_default_dtype(torch.float64)\n",
    "device = torch.device(\"cuda\" if torch.cuda.is_available() else \"cpu\")\n",
    "torch.set_default_device(device)"
   ]
  },
  {
   "cell_type": "markdown",
   "id": "53824a85",
   "metadata": {},
   "source": [
    "## Utils"
   ]
  },
  {
   "cell_type": "code",
   "execution_count": 69,
   "id": "800e8d01",
   "metadata": {},
   "outputs": [],
   "source": [
    "def torch_divmod(n: torch.Tensor, d: int) -> tuple[torch.Tensor, torch.Tensor]:\n",
    "    \"\"\"\n",
    "    Equivalent to divmod for tensors. TODO If implemented nicely in pytorch, could submit a PR. \n",
    "\n",
    "    parameters:\n",
    "        n: torch.Tensor, shape [...]\n",
    "        d: int\n",
    "\n",
    "    returns:\n",
    "        tuple of tensors, shape [...]\n",
    "    \"\"\"\n",
    "    return n // d, n % d\n",
    "\n",
    "\n",
    "def joint_multinomial(distribution: torch.Tensor, num_samples: int, replacement: bool = True) -> torch.Tensor:\n",
    "    \"\"\"\n",
    "    Sample from a joint categorical distribution.\n",
    "\n",
    "    parameters:\n",
    "        distribution: torch.Tensor, shape (N, M)\n",
    "        num_samples: int, number of samples to draw\n",
    "        replacement: bool, whether to sample with replacement\n",
    "\n",
    "    returns:\n",
    "        torch.Tensor, shape (num_samples, 2)\n",
    "    \"\"\"\n",
    "    n, _ = distribution.shape\n",
    "    res = torch.multinomial(distribution.flatten(), num_samples, replacement=replacement)\n",
    "    res_i, res_j = torch_divmod(res, n)\n",
    "    return torch.column_stack([res_i, res_j])\n",
    "\n",
    "\n",
    "def as_tensors(*args, dtype: torch.dtype | None = None, device: torch.device | None = None) -> tuple[torch.Tensor, ...]:\n",
    "    \"\"\"\n",
    "    Convert all arguments to tensors.\n",
    "    \"\"\"\n",
    "    return tuple(torch.as_tensor(arg, dtype=dtype, device=device) for arg in args)\n",
    "\n",
    "\n",
    "class PossiblyDegenerateNormal(torch.distributions.Normal):\n",
    "\n",
    "    arg_constraints = {\n",
    "        \"loc\": torch.distributions.constraints.real, \n",
    "        \"scale\": torch.distributions.constraints.greater_than_eq(0.0),\n",
    "    }\n",
    "\n",
    "    # TODO support is still given as Real()\n",
    "\n",
    "    def __init__(\n",
    "        self, \n",
    "        loc: torch.Tensor | float, \n",
    "        scale: torch.Tensor | float, \n",
    "        validate_args: bool | None = None, \n",
    "    ) -> None:\n",
    "        super().__init__(loc=loc, scale=scale, validate_args=validate_args)\n",
    "        self.is_degenerate = scale == 0.0\n",
    "\n",
    "    def log_prob(self, value: torch.Tensor) -> torch.Tensor:\n",
    "        log_prob_if_nondegenerate = super().log_prob(value)\n",
    "        log_prob_if_degenerate = torch.where(\n",
    "            self.loc == value, # This broadcasts in the same way as super().log_prob\n",
    "            0.0, \n",
    "            -torch.inf,\n",
    "        )\n",
    "        return torch.where(\n",
    "            self.is_degenerate,\n",
    "            log_prob_if_degenerate, \n",
    "            log_prob_if_nondegenerate,\n",
    "        )\n",
    "\n",
    "    def cdf(self, value: torch.Tensor) -> torch.Tensor:\n",
    "        cdf_if_nondegenerate = super().cdf(value)\n",
    "        cdf_if_degenerate = torch.where(\n",
    "            self.loc <= value, \n",
    "            1.0,\n",
    "            0.0,\n",
    "        )\n",
    "        return torch.where(\n",
    "            self.is_degenerate,\n",
    "            cdf_if_degenerate, \n",
    "            cdf_if_nondegenerate,\n",
    "        ) \n",
    "\n",
    "    def icdf(self, value: torch.Tensor) -> torch.Tensor:\n",
    "        icdf_if_nondegenerate = super().icdf(value)\n",
    "        icdf_if_degenerate = self.loc\n",
    "        return torch.where(\n",
    "            self.is_degenerate,\n",
    "            icdf_if_degenerate, \n",
    "            icdf_if_nondegenerate,\n",
    "        )"
   ]
  },
  {
   "cell_type": "markdown",
   "id": "37c1c0cc",
   "metadata": {},
   "source": [
    "## SDEs and SDE solvers"
   ]
  },
  {
   "cell_type": "code",
   "execution_count": 87,
   "id": "abd4b6fd",
   "metadata": {},
   "outputs": [],
   "source": [
    "class SDE(ABC):\n",
    "    \"\"\"\n",
    "    Base class for Diagonalizable SDEs. \n",
    "    \"\"\"\n",
    "    def __init__(self, dim: int, *, device: torch.device | None = None):\n",
    "        self._dim = dim \n",
    "        self.device = device \n",
    "\n",
    "    def to(self, device: torch.device | None = None) -> \"SDE\":\n",
    "        if device is not None:\n",
    "            self.device = device \n",
    "        return self \n",
    "\n",
    "    @property\n",
    "    def dim(self) -> int:\n",
    "        return self._dim\n",
    "\n",
    "    \n",
    "    @abstractmethod\n",
    "    def drift(\n",
    "        self, \n",
    "        t: torch.Tensor,\n",
    "        x: torch.Tensor,\n",
    "    ) -> torch.Tensor:\n",
    "        pass \n",
    "\n",
    "    @abstractmethod\n",
    "    def diffusion(\n",
    "        self, \n",
    "        t: torch.Tensor,\n",
    "        x: torch.Tensor,\n",
    "    ) -> torch.Tensor:\n",
    "        pass \n",
    "\n",
    "    @abstractmethod\n",
    "    def transition(\n",
    "        self, \n",
    "        t0: torch.Tensor, \n",
    "        t1: torch.Tensor,\n",
    "    ) -> torch.Tensor:\n",
    "        pass\n",
    "\n",
    "    def _mean(self, t: torch.Tensor) -> torch.Tensor:\n",
    "        raise NotImplementedError(\"Unconditional mean not implemented for this SDE.\") \n",
    "\n",
    "    @abstractmethod\n",
    "    def _mean_with_initial_condition(\n",
    "        self, \n",
    "        t: torch.Tensor, \n",
    "        *, \n",
    "        t0: torch.Tensor | None = None,\n",
    "        x0: torch.Tensor | None = None,\n",
    "    ) -> torch.Tensor:\n",
    "        pass \n",
    "\n",
    "    @abstractmethod\n",
    "    def _mean_with_initial_and_final_condition(\n",
    "        self, \n",
    "        t: torch.Tensor, \n",
    "        *, \n",
    "        t0: torch.Tensor | None = None,\n",
    "        x0: torch.Tensor | None = None,\n",
    "        t1: torch.Tensor | None = None,\n",
    "        x1: torch.Tensor | None = None,\n",
    "    ) -> torch.Tensor:\n",
    "        pass \n",
    "\n",
    "    def mean(\n",
    "        self, \n",
    "        t: torch.Tensor, \n",
    "        *,\n",
    "        t0: torch.Tensor | None = None, \n",
    "        x0: torch.Tensor | None = None,\n",
    "        t1: torch.Tensor | None = None,\n",
    "        x1: torch.Tensor | None = None,\n",
    "    ) -> torch.Tensor:\n",
    "        \"\"\"\n",
    "        Returns the mean of the SDE at time t. May be conditioned on initial and/or final conditions. \n",
    "        If t0 and t1 are True, then t0 = 0 and t1 = 1. \n",
    "\n",
    "        parameters: \n",
    "            t (torch.Tensor): [...] Times.\n",
    "            t0 (torch.Tensor): [...] Start times.\n",
    "            x0 (torch.Tensor): [..., D] Initial value.\n",
    "            t1 (torch.Tensor): [...] End times.\n",
    "\n",
    "        returns: \n",
    "            torch.Tensor: [..., D] Mean.\n",
    "        \"\"\"\n",
    "        if x0 is not None and x1 is not None:\n",
    "            if t0 is None:\n",
    "                t0 = t.new_zeros(t.shape) # [...]\n",
    "            if t1 is None:\n",
    "                t1 = t.new_ones(t.shape) # [...]\n",
    "            return self._mean_with_initial_and_final_condition(t=t, t0=t0, x0=x0, t1=t1, x1=x1)\n",
    "        elif x0 is not None:\n",
    "            if t0 is None:\n",
    "                t0 = t.new_zeros(t.shape) # [...]\n",
    "            return self._mean_with_initial_condition(t=t, t0=t0, x0=x0)\n",
    "        else:\n",
    "            return self._mean(t)\n",
    "\n",
    "    def _variance(\n",
    "        self, \n",
    "        t: torch.Tensor, \n",
    "    ) -> torch.Tensor:\n",
    "        raise NotImplementedError(\"Unconditional variance not implemented for this SDE.\") \n",
    "\n",
    "    @abstractmethod\n",
    "    def _variance_with_initial_condition(\n",
    "        self, \n",
    "        t: torch.Tensor, \n",
    "        *, \n",
    "        t0: torch.Tensor | None = None,\n",
    "    ) -> torch.Tensor:\n",
    "        pass \n",
    "\n",
    "    def _variance_with_initial_and_final_condition(\n",
    "        self, \n",
    "        t: torch.Tensor, \n",
    "        *, \n",
    "        t0: torch.Tensor | None = None, \n",
    "        t1: torch.Tensor | None = None,\n",
    "    ) -> torch.Tensor:\n",
    "        pass \n",
    "\n",
    "    def variance(\n",
    "        self, \n",
    "        t: torch.Tensor, \n",
    "        *, \n",
    "        t0: torch.Tensor | bool | None = None, \n",
    "        t1: torch.Tensor | bool | None = None,\n",
    "    ) -> torch.Tensor:\n",
    "        \"\"\"\n",
    "        Returns the variance of the SDE at time t. May be conditioned on initial and/or final conditions. \n",
    "        If t0 and t1 are True, then t0 = 0 and t1 = 1. \n",
    "\n",
    "        parameters: \n",
    "            t (torch.Tensor): [...] Times.\n",
    "            t0 (torch.Tensor): [...] Start times.\n",
    "            t1 (torch.Tensor): [...] End times.\n",
    "        \n",
    "        returns: \n",
    "            torch.Tensor: [..., D] Variance.\n",
    "        \"\"\"\n",
    "        # Set times to default values \n",
    "        if t0 is True:\n",
    "            t0 = t.new_zeros(t.shape) # [...]\n",
    "        if t1 is True:\n",
    "            t1 = t.new_ones(t.shape) # [...]\n",
    "\n",
    "        # Get variance assuming stochastic dimension\n",
    "        if t0 is not None and t1 is not None:\n",
    "            res = self._variance_with_initial_and_final_condition(t=t, t0=t0, t1=t1)\n",
    "        elif t0 is not None:\n",
    "            res = self._variance_with_initial_condition(t=t, t0=t0)\n",
    "        else:\n",
    "            res = self._variance(t)\n",
    "\n",
    "        return res\n",
    "\n",
    "    def _covariance(\n",
    "        self, \n",
    "        s: torch.Tensor,\n",
    "        t: torch.Tensor,\n",
    "    ) -> torch.Tensor:\n",
    "        raise NotImplementedError(\"Unconditional covariance not implemented for this SDE.\") \n",
    "\n",
    "    def _covariance_with_initial_condition(\n",
    "        self, \n",
    "        s: torch.Tensor, \n",
    "        t: torch.Tensor, \n",
    "        *, \n",
    "        t0: torch.Tensor | None = None,\n",
    "    ) -> torch.Tensor:\n",
    "        \"\"\"\n",
    "        Returns the covariance of the SDE between times s and t conditioned on being at x0 at time t0. \n",
    "\n",
    "        parameters: \n",
    "            s (torch.Tensor): [...] Start times.\n",
    "            t (torch.Tensor): [...] End times.\n",
    "            t0 (torch.Tensor): [...] Conditioning times.\n",
    "        returns: \n",
    "            torch.Tensor: [..., D] Diagonal of the (diagonal) covariance matrix.\n",
    "        \"\"\"\n",
    "        r = torch.minimum(s, t)\n",
    "        return self.transition(t0=r, t1=t) * self.variance(t=r, t0=t0) * self.transition(t0=r, t1=s)\n",
    "\n",
    "    def _covariance_with_initial_and_final_condition(\n",
    "        self, \n",
    "        s: torch.Tensor,\n",
    "        t: torch.Tensor,\n",
    "        *, \n",
    "        t0: torch.Tensor | None = None,\n",
    "        t1: torch.Tensor | None = None,\n",
    "    ) -> torch.Tensor:\n",
    "        # This could be implemented already here by conditioning of Gaussian processes, but is not needed for now. \n",
    "        raise NotImplementedError(\"Unconditional covariance not implemented yet. Can be implemented by the Gaussian process conditioning rule.\") \n",
    "\n",
    "    def covariance(\n",
    "        self, \n",
    "        s: torch.Tensor, \n",
    "        t: torch.Tensor, \n",
    "        *, \n",
    "        t0: torch.Tensor | bool | None = None, \n",
    "        t1: torch.Tensor | bool | None = None,\n",
    "    ) -> torch.Tensor:\n",
    "        if (t0 is True or t0 is not None) and (t1 is True or t1 is not None):\n",
    "            return self._covariance_with_initial_and_final_condition(s=s, t=t, t0=t0, t1=t1)\n",
    "        elif (t0 is True or t0 is not None):\n",
    "            return self._covariance_with_initial_condition(s=s, t=t, t0=t0)\n",
    "        else: \n",
    "            return self._covariance(s=s, t=t)\n",
    "\n",
    "    @abstractmethod\n",
    "    def marginal_distribution(\n",
    "        self, \n",
    "        t: torch.Tensor,\n",
    "        t0: torch.Tensor | None = None, \n",
    "        x0: torch.Tensor | None = None,\n",
    "        t1: torch.Tensor | None = None,\n",
    "        x1: torch.Tensor | None = None,\n",
    "    ) -> torch.Tensor:\n",
    "        \"\"\"\n",
    "        Returns the marginal distribution of the SDE at time t. May be conditioned on initial and/or final conditions. \n",
    "        If t0 and t1 are True, then t0 = 0 and t1 = 1. \n",
    "\n",
    "        parameters: \n",
    "            t (torch.Tensor): [...] Times.\n",
    "            t0 (torch.Tensor): [...] Start times.\n",
    "            x0 (torch.Tensor): [..., D] Initial value.\n",
    "            t1 (torch.Tensor): [...] End times.\n",
    "            x1 (torch.Tensor): [..., D] Target value.\n",
    "\n",
    "        returns: \n",
    "            torch.Tensor: [..., D] Marginal distribution at time t. \n",
    "        \"\"\"\n",
    "\n",
    "\n",
    "class DiagonalizableSDE(SDE):\n",
    "\n",
    "    @abstractmethod\n",
    "    def transform(self, x: torch.Tensor) -> torch.Tensor:\n",
    "        \"\"\"\n",
    "        Returns the transform of the SDE---i.e. x in eigencoordinates.\n",
    "\n",
    "        parameters: \n",
    "            x (torch.Tensor): [..., D] Initial value.\n",
    "\n",
    "        returns: \n",
    "            torch.Tensor: [..., D] Transform of the SDE.\n",
    "        \"\"\"\n",
    "\n",
    "    @abstractmethod\n",
    "    def inverse_transform(self, x: torch.Tensor) -> torch.Tensor:\n",
    "        \"\"\"\n",
    "        Transforms the points from eigencoordinates to the original coordinates. \n",
    "\n",
    "        parameters: \n",
    "            x (torch.Tensor): [..., D] Points in eigencoordinates.\n",
    "\n",
    "        returns: \n",
    "            torch.Tensor: [..., D] Points in original coordinates.\n",
    "        \"\"\"\n",
    "        pass\n",
    "\n",
    "    def _variance_with_initial_and_final_condition(self, t: torch.Tensor, *, t0: torch.Tensor | None = None, t1: torch.Tensor | None = None) -> torch.Tensor:\n",
    "        \"\"\"\n",
    "        Returns the variance of the SDE at time t, conditioned on being zero variance at time t0 and t1.\n",
    "\n",
    "        parameters: \n",
    "            t (torch.Tensor): [...] Times.\n",
    "            t0 (torch.Tensor): [...] Conditioning times.\n",
    "            t1 (torch.Tensor): [...] Conditioning times.\n",
    "\n",
    "        returns: \n",
    "            torch.Tensor: [..., D] Diagonal of the conditional variance of the SDE.\n",
    "        \"\"\"\n",
    "        sigmatt_given_t0 = self.variance(t=t, t0=t0)\n",
    "        sigmat1t_given_t0 = self.covariance(s=t, t=t1, t0=t0)\n",
    "        sigmat1t1_given_t0 = self.variance(t=t1, t0=t0)\n",
    "        \n",
    "        sigmatt_given_t0t1 = sigmatt_given_t0 - sigmat1t_given_t0.square() / sigmat1t1_given_t0\n",
    "\n",
    "        return sigmatt_given_t0t1\n",
    "\n",
    "    def marginal_distribution(\n",
    "        self, \n",
    "        t: torch.Tensor,\n",
    "        t0: torch.Tensor | None = None, \n",
    "        x0: torch.Tensor | None = None,\n",
    "        t1: torch.Tensor | None = None,\n",
    "        x1: torch.Tensor | None = None,\n",
    "    ) -> torch.Tensor:\n",
    "        \"\"\"\n",
    "        Returns the marginal distribution of the SDE at time t. May be conditioned on initial and/or final conditions. \n",
    "        If t0 and t1 are True, then t0 = 0 and t1 = 1. \n",
    "\n",
    "        parameters: \n",
    "            t (torch.Tensor): [...] Times.\n",
    "            t0 (torch.Tensor): [...] Start times.\n",
    "            x0 (torch.Tensor): [..., D] Initial value.\n",
    "            t1 (torch.Tensor): [...] End times.\n",
    "            x1 (torch.Tensor): [..., D] Target value.\n",
    "\n",
    "        returns: \n",
    "            torch.Tensor: [..., D] Marginal distribution at time t. \n",
    "        \"\"\"\n",
    "        if x0 is not None and t0 is None:\n",
    "            t0 = t.new_zeros(t.shape) # [...]\n",
    "        if x1 is not None and t1 is None:\n",
    "            t1 = t.new_ones(t.shape) # [...]\n",
    "\n",
    "        mean = self.mean(t=t, t0=t0, x0=x0, t1=t1, x1=x1)\n",
    "        variance = self.variance(t=t, t0=t0, t1=t1)\n",
    "        normal = PossiblyDegenerateNormal(loc=mean, scale=variance.sqrt())\n",
    "        return torch.distributions.Independent(normal, reinterpreted_batch_ndims=1)\n",
    "\n",
    "\n",
    "class OUDiagonalizableSDE(DiagonalizableSDE):\n",
    "    def __init__(self, alpha_diagonal: torch.Tensor, gamma_diagonal: torch.Tensor, device: torch.device | None = None):\n",
    "        \"\"\"\n",
    "        Creates the diagonal OU SDE.\n",
    "\n",
    "        ..math:: \n",
    "            dX_t = \\alpha X_t dt + \\gamma dW_t\n",
    "\n",
    "        parameters: \n",
    "            alpha_diagonal (torch.Tensor): [D] Vector representing the diagonal of the (diagonal)drift matrix alpha.\n",
    "            gamma_diagonal (torch.Tensor): [D] Vector representing the diagonal of the (diagonal) diffusion matrix gamma.\n",
    "        \"\"\"\n",
    "        dim = alpha_diagonal.shape[0]\n",
    "        super().__init__(dim=dim, device=device)\n",
    "        self.alpha_diagonal = alpha_diagonal.to(device)\n",
    "        self.gamma_diagonal = gamma_diagonal.to(device)\n",
    "\n",
    "    def to(self, device: torch.device) -> \"OUDiagonalizableSDE\":\n",
    "        super().to(device)\n",
    "        self.alpha_diagonal = self.alpha_diagonal.to(device)\n",
    "        self.gamma_diagonal = self.gamma_diagonal.to(device)\n",
    "        return self \n",
    "\n",
    "    def drift(self, t: torch.Tensor | None = None, x: torch.Tensor | None = None) -> torch.Tensor:\n",
    "        \"\"\"\n",
    "        Returns the drift of the SDE. \n",
    "\n",
    "        parameters: \n",
    "            t (torch.Tensor): [...] Times.\n",
    "            x (torch.Tensor): [..., D] Initial value.\n",
    "\n",
    "        returns: \n",
    "            torch.Tensor: [..., D] Drift of the SDE.\n",
    "        \"\"\"\n",
    "        return self.alpha_diagonal * x\n",
    "\n",
    "    def diffusion(self, t: torch.Tensor | None = None, x: torch.Tensor | None = None) -> torch.Tensor:\n",
    "        \"\"\"\n",
    "        Returns the diffusion of the SDE. \n",
    "\n",
    "        parameters: \n",
    "            t (torch.Tensor): [...] Times.\n",
    "\n",
    "        returns: \n",
    "            torch.Tensor: [D] Diffusion of the SDE.\n",
    "        \"\"\"\n",
    "        return self.gamma_diagonal\n",
    "\n",
    "    def transition(self, t0: torch.Tensor, t1: torch.Tensor) -> torch.Tensor:\n",
    "        \"\"\"\n",
    "        Returns a vector representing the transition matrix, which is itself a diagonal matrix. \n",
    "\n",
    "        parameters: \n",
    "            t0 (torch.Tensor): [...] Start times.\n",
    "            t1 (torch.Tensor): [...] End times.\n",
    "\n",
    "        returns: \n",
    "            torch.Tensor: [..., D] Diagonal of the transition matrix.\n",
    "        \"\"\"\n",
    "        delta = t1 - t0 # [...]\n",
    "        return torch.exp(torch.einsum(\"d, ... -> ...d\", self.alpha_diagonal, delta))\n",
    "\n",
    "\n",
    "    def _variance_with_initial_condition_over_gamma_squared(\n",
    "        self, \n",
    "        t: torch.Tensor, \n",
    "        *, \n",
    "        t0: torch.Tensor | None = None,\n",
    "        min_alpha_nonzero: float = 1e-8,\n",
    "    ) -> torch.Tensor:\n",
    "        \"\"\"\n",
    "        Returns the variance of the SDE at time t, conditioned on being zero-variance at time t0.\n",
    "\n",
    "        parameters: \n",
    "            t (torch.Tensor): [...] Times.\n",
    "            t0 (torch.Tensor): [...] Conditioning times.\n",
    "\n",
    "        returns: \n",
    "            torch.Tensor: [..., D] Diagonal of the variance of the SDE.\n",
    "        \"\"\"\n",
    "        variance_if_alpha_zero = (t - t0).unsqueeze(-1) # [..., 1]\n",
    "        variance_if_alpha_nonzero = (\n",
    "            (self.transition(t0=t0, t1=t).square() - 1) / (2 * self.alpha_diagonal)\n",
    "        ) # [..., D]\n",
    "        return torch.where(self.alpha_diagonal.abs() < min_alpha_nonzero, variance_if_alpha_zero, variance_if_alpha_nonzero) # [..., D]\n",
    "\n",
    "\n",
    "    def _covariance_with_initial_condition_over_gamma_squared(\n",
    "        self, \n",
    "        s: torch.Tensor, \n",
    "        t: torch.Tensor, \n",
    "        *, \n",
    "        t0: torch.Tensor | None = None,\n",
    "        min_alpha_nonzero: float = 1e-8,\n",
    "    ) -> torch.Tensor:\n",
    "        \"\"\"\n",
    "        Returns the covariance of the SDE between times s and t conditioned on being at x0 at time t0. \n",
    "\n",
    "        parameters: \n",
    "            s (torch.Tensor): [...] Start times.\n",
    "            t (torch.Tensor): [...] End times.\n",
    "            t0 (torch.Tensor): [...] Conditioning times.\n",
    "        returns: \n",
    "            torch.Tensor: [..., D] Diagonal of the (diagonal) covariance matrix.\n",
    "        \"\"\"\n",
    "        r = torch.minimum(s, t)\n",
    "        return (\n",
    "            self.transition(t0=r, t1=t) \n",
    "            * self._variance_with_initial_condition_over_gamma_squared(t=r, t0=t0, min_alpha_nonzero=min_alpha_nonzero) \n",
    "            * self.transition(t0=r, t1=s)\n",
    "        )\n",
    "\n",
    "    def _variance_with_initial_condition(\n",
    "        self, \n",
    "        t: torch.Tensor, \n",
    "        *, \n",
    "        t0: torch.Tensor | None = None,\n",
    "        min_alpha_nonzero: float = 1e-8\n",
    "    ) -> torch.Tensor:\n",
    "        \"\"\"\n",
    "        Returns the variance of the SDE at time t, conditioned on being zero-variance at time t0.\n",
    "\n",
    "        parameters: \n",
    "            t (torch.Tensor): [...] Times.\n",
    "            t0 (torch.Tensor): [...] Conditioning times.\n",
    "\n",
    "        returns: \n",
    "            torch.Tensor: [..., D] Diagonal of the variance of the SDE.\n",
    "        \"\"\"\n",
    "        return self.gamma_diagonal.square() * self._variance_with_initial_condition_over_gamma_squared(t=t, t0=t0, min_alpha_nonzero=min_alpha_nonzero)\n",
    "\n",
    "    def _mean_with_initial_condition(self, t: torch.Tensor, t0: torch.Tensor | None = None, x0: torch.Tensor | None = None) -> torch.Tensor:\n",
    "        \"\"\"\n",
    "        Returns the mean of the SDE conditioned on being at x0 at time t0.\n",
    "        \n",
    "        parameters: \n",
    "            t (torch.Tensor): [...] Times.\n",
    "            t0 (torch.Tensor): [...] Start times.\n",
    "            x0 (torch.Tensor): [..., D] Initial value.\n",
    "\n",
    "        returns: \n",
    "            torch.Tensor: [..., D] Mean of the SDE.\n",
    "        \"\"\"\n",
    "        return self.transition(t0=t0, t1=t) * x0 # [..., D] * [..., D] -> [..., D]\n",
    "\n",
    "    def _mean_with_initial_and_final_condition(self, t: torch.Tensor, t0: torch.Tensor | None = None, x0: torch.Tensor | None = None, t1: torch.Tensor | None = None, x1: torch.Tensor | None = None) -> torch.Tensor:\n",
    "        \"\"\"\n",
    "        Returns the mean of the SDE conditioned on being at x0 at time t0 and x1 at time t1. \n",
    "\n",
    "        parameters: \n",
    "            t (torch.Tensor): [...] End times.\n",
    "            t0 (torch.Tensor): [...] Start times.\n",
    "            x0 (torch.Tensor): [..., D] Initial value.\n",
    "            t1 (torch.Tensor): [...] End times.\n",
    "            x1 (torch.Tensor): [..., D] Target value.\n",
    "\n",
    "        returns: \n",
    "            torch.Tensor: [..., D] Conditional mean of the SDE.\n",
    "        \"\"\"\n",
    "        m_t = self._mean_with_initial_condition(t=t, t0=t0, x0=x0)\n",
    "        m_t1 = self._mean_with_initial_condition(t=t1, t0=t0, x0=x0)\n",
    "        sigma_t1t_over_gamma_squared = self._covariance_with_initial_condition_over_gamma_squared(s=t, t=t1, t0=t0) # FIXME This should be symmetric but is antisymmetric\n",
    "        sigma_t1t1_over_gamma_squared = self._variance_with_initial_condition_over_gamma_squared(t=t1, t0=t0)\n",
    "        return m_t + sigma_t1t_over_gamma_squared / sigma_t1t1_over_gamma_squared * (x1 - m_t1)\n",
    "     \n",
    "\n",
    "class PossiblyDegenerateOUDiagonalizableSDE(OUDiagonalizableSDE):\n",
    "    \n",
    "    def __init__(self, alpha_diagonal: torch.Tensor, gamma_diagonal: torch.Tensor, device: torch.device | None = None):\n",
    "        super().__init__(alpha_diagonal, gamma_diagonal, device)\n",
    "        self.is_degenerate = self.gamma_diagonal == 0.0\n",
    "\n",
    "    def variance(self, t: torch.Tensor, *, t0: torch.Tensor | bool | None = None, t1: torch.Tensor | bool | None = None) -> torch.Tensor:\n",
    "        return torch.where(\n",
    "            self.is_degenerate, \n",
    "            0.0, \n",
    "            super().variance(t=t, t0=t0, t1=t1),\n",
    "        )\n",
    "\n",
    "    def covariance(self, s: torch.Tensor, t: torch.Tensor, *, t0: torch.Tensor | bool | None = None, t1: torch.Tensor | bool | None = None) -> torch.Tensor:\n",
    "        return torch.where(\n",
    "            self.is_degenerate, \n",
    "            0.0, \n",
    "            super().covariance(s=s, t=t, t0=t0, t1=t1),\n",
    "        )\n",
    "\n",
    "\n",
    "class HeatBMTSDE(PossiblyDegenerateOUDiagonalizableSDE):\n",
    "    def __init__(self, L: torch.Tensor, c: torch.Tensor, sigma: torch.Tensor, device: torch.device | None = None, q_brownian_motion: bool = False, alpha: float | None = None):\n",
    "        \"\"\"\n",
    "        Creates the heat BM SDE:\n",
    "\n",
    "        ..math:: \n",
    "            dX_t = -cLX_t dt + \\sigma dW_t\n",
    "\n",
    "        parameters: \n",
    "            L (torch.Tensor): [D, D] Matrix representing the Laplacian.\n",
    "            c (torch.Tensor): [] Scalar greater than or equal to 0.\n",
    "            sigma (torch.Tensor): [] Scalar diffusion coefficient.\n",
    "        \"\"\"\n",
    "        L = torch.as_tensor(L, device=device)\n",
    "        c = torch.as_tensor(c, device=device)\n",
    "        sigma = torch.as_tensor(sigma, device=device)\n",
    "        \n",
    "        eigenvalues, eigenvectors = torch.linalg.eigh(L)\n",
    "        alpha_diagonal = -c * eigenvalues\n",
    "        if q_brownian_motion:\n",
    "            alpha = alpha or (L.shape[0] / 2.0 + 1.0) # TODO Add a better default. Alpha must be greater that dim / 2 though\n",
    "            Q_diagonal = (torch.ones_like(eigenvalues) - eigenvalues).pow(-alpha)\n",
    "            gamma_diagonal = sigma * Q_diagonal.sqrt()\n",
    "        else:\n",
    "            gamma_diagonal = sigma * torch.ones_like(eigenvalues) # TODO Add a Q-Brownian motion option. If true, multiply by sqrt(eigenvalues)\n",
    "        \n",
    "        super().__init__(alpha_diagonal=alpha_diagonal, gamma_diagonal=gamma_diagonal, device=device)\n",
    "        self.eigenvalues = eigenvalues.to(device)\n",
    "        self.eigenvectors = eigenvectors.to(device)\n",
    "\n",
    "    def to(self, device: torch.device) -> \"HeatBMTSDE\":\n",
    "        super().to(device)\n",
    "        self.eigenvalues = self.eigenvalues.to(device)\n",
    "        self.eigenvectors = self.eigenvectors.to(device)\n",
    "        return self \n",
    "\n",
    "    def transform(self, x: torch.Tensor) -> torch.Tensor:\n",
    "        \"\"\"\n",
    "        Returns the transform of the SDE -- i.e. x in eigencoordinates.\n",
    "\n",
    "        parameters: \n",
    "            x (torch.Tensor): [..., D] Initial value.\n",
    "\n",
    "        returns: \n",
    "            torch.Tensor: [..., D] Transform of the SDE.\n",
    "        \"\"\"\n",
    "        return torch.einsum(\"ij, ...j -> ...i\", self.eigenvectors.mT, x) # [D, D] * [..., D] -> [..., D]\n",
    "\n",
    "    def inverse_transform(self, x: torch.Tensor) -> torch.Tensor:\n",
    "        \"\"\"\n",
    "        Returns the inverse transform of the SDE. \n",
    "\n",
    "        parameters: \n",
    "            x (torch.Tensor): [..., D] Initial value.\n",
    "\n",
    "        returns: \n",
    "            torch.Tensor: [..., D] Inverse transform of the SDE.\n",
    "        \"\"\"\n",
    "        return torch.einsum(\"ij, ...j -> ...i\", self.eigenvectors, x) # [D, D] * [..., D] -> [..., D]\n",
    "\n",
    "\n",
    "class UniformTimesteps:\n",
    "    def __init__(self, n: int, device: torch.device | None = None, dtype: torch.dtype | None = None, t0: float | None = 1e-4):\n",
    "        assert n > 1, \"Number of timesteps must be greater than 1\"\n",
    "        self.n = n\n",
    "        self.t = torch.linspace(0, 1, n + 1, dtype=dtype, device=device)\n",
    "        if t0 is not None:\n",
    "            self.t[0] = t0\n",
    "        \n",
    "        self.dt = torch.full((n, ), 1.0 / n, dtype=dtype, device=device)\n",
    "        self.device = device \n",
    "    \n",
    "    def to(self, device: torch.device | None = None) -> \"UniformTimesteps\":\n",
    "        if device is not None:\n",
    "            self.t = self.t.to(device)\n",
    "            self.dt = self.dt.to(device)\n",
    "            self.device = device\n",
    "        return self "
   ]
  },
  {
   "cell_type": "markdown",
   "id": "40bfa3ca",
   "metadata": {},
   "source": [
    "## Controls"
   ]
  },
  {
   "cell_type": "code",
   "execution_count": 98,
   "id": "4105fc97",
   "metadata": {},
   "outputs": [],
   "source": [
    "def _bridge_control_generic(\n",
    "    sde: SDE, \n",
    "    t: torch.Tensor, \n",
    "    x: torch.Tensor, \n",
    "    *, \n",
    "    t1: torch.Tensor | None = None, \n",
    "    x1: torch.Tensor,\n",
    ") -> torch.Tensor:\n",
    "    \"\"\"\n",
    "    Returns the control for the bridge of the SDE at time t and position x needed to reach x1 at time t1. \n",
    "\n",
    "    parameters: \n",
    "        sde (SDE): The SDE to create the bridge control for.\n",
    "        t (torch.Tensor): [...] Current times.\n",
    "        x (torch.Tensor): [..., D] Current values.\n",
    "        t1 (torch.Tensor): [...] Target times.\n",
    "        x1 (torch.Tensor): [..., D] Target values.\n",
    "\n",
    "    returns: \n",
    "        torch.Tensor: [..., D] Control.\n",
    "    \"\"\"\n",
    "    if t1 is None:\n",
    "        t1 = x1.new_ones(x1.shape[:-1]) # [...]\n",
    "    score = sde.transition(t0=t, t1=t1) * (x1 - sde.mean(t0=t, x0=x, t=t1)) / sde.variance(t0=t, t=t1)\n",
    "    return sde.diffusion(t=t).square() * score\n",
    "\n",
    "\n",
    "def _bridge_control_ou(\n",
    "    sde: OUDiagonalizableSDE, \n",
    "    t: torch.Tensor, \n",
    "    x: torch.Tensor, \n",
    "    *, \n",
    "    t1: torch.Tensor | None = None, \n",
    "    x1: torch.Tensor,\n",
    ") -> torch.Tensor:\n",
    "    return sde.transition(t0=t, t1=t1) * (x1 - sde.mean(t0=t, x0=x, t=t1)) / sde._variance_with_initial_condition_over_gamma_squared(t0=t, t=t1)\n",
    "\n",
    "\n",
    "def bridge_control(\n",
    "    sde: SDE, \n",
    "    t: torch.Tensor, \n",
    "    x: torch.Tensor, \n",
    "    *, \n",
    "    t1: torch.Tensor | None = None, \n",
    "    x1: torch.Tensor,\n",
    ") -> torch.Tensor:\n",
    "    \"\"\"\n",
    "    Returns the control for the bridge of the SDE at time t and position x needed to reach x1 at time t1. \n",
    "\n",
    "    parameters: \n",
    "        sde (SDE): The SDE to create the bridge control for.\n",
    "        t (torch.Tensor): [...] Current times.\n",
    "        x (torch.Tensor): [..., D] Current values.\n",
    "        t1 (torch.Tensor): [...] Target times.\n",
    "        x1 (torch.Tensor): [..., D] Target values.\n",
    "\n",
    "    returns: \n",
    "        torch.Tensor: [..., D] Control.\n",
    "    \"\"\"\n",
    "    if t1 is None:\n",
    "        t1 = x1.new_ones(x1.shape[:-1]) # [...]\n",
    "\n",
    "    if isinstance(sde, OUDiagonalizableSDE):\n",
    "        return _bridge_control_ou(sde=sde, t=t, x=x, t1=t1, x1=x1)\n",
    "    else:\n",
    "        return _bridge_control_generic(sde=sde, t=t, x=x, t1=t1, x1=x1)\n",
    "\n",
    "\n",
    "class Control:\n",
    "    def __init__(self, device: torch.device | None = None):\n",
    "        self.device = None\n",
    "\n",
    "    def to(self, device: torch.device) -> \"Control\":\n",
    "        self.device = device \n",
    "        return self \n",
    "\n",
    "    @abstractmethod\n",
    "    def control(self, t: torch.Tensor, x: torch.Tensor, **kwargs) -> torch.Tensor:\n",
    "        pass \n",
    "\n",
    "    def __call__(self, t: torch.Tensor, x: torch.Tensor, **kwargs) -> torch.Tensor:\n",
    "        \"\"\"\n",
    "        Returns the control at time t and position x. \n",
    "\n",
    "        parameters: \n",
    "            t (torch.Tensor): [...] times.\n",
    "            x (torch.Tensor): [..., D] values.\n",
    "\n",
    "        returns: \n",
    "            torch.Tensor: [..., D] Control.\n",
    "        \"\"\"\n",
    "        return self.control(t=t, x=x, **kwargs)\n",
    "\n",
    "\n",
    "class ZeroControl(Control):\n",
    "    def control(self, t: torch.Tensor, x: torch.Tensor) -> torch.Tensor:\n",
    "        return x.new_zeros(x.shape) # [..., D]\n",
    "\n",
    "\n",
    "class BridgeControl(Control):\n",
    "    def __init__(self, sde: SDE, x1: torch.Tensor, t1: torch.Tensor | None = None, device: torch.device | None = None): \n",
    "        \"\"\"\n",
    "        Creates the bridge control for the SDE conditioned on being at x1 at time t1. \n",
    "\n",
    "        parameters: \n",
    "            sde (SDE): The SDE to create the bridge control for.\n",
    "            x1 (torch.Tensor): [..., D] Target value.\n",
    "            t1 (torch.Tensor): [...] End times.\n",
    "        \"\"\"\n",
    "        super().__init__(device=device)\n",
    "        self.sde = sde.to(device)\n",
    "        x1 = x1.to(device)\n",
    "        self._x1 = None\n",
    "        self._t1 = None\n",
    "        self.condition(x1=x1, t1=t1)\n",
    "\n",
    "    def to(self, device: torch.device) -> \"BridgeControl\":\n",
    "        super().to(device)\n",
    "        self.sde = self.sde.to(device)\n",
    "        self._x1 = self._x1.to(device)\n",
    "        self._t1 = self._t1.to(device)\n",
    "        return self \n",
    "\n",
    "    def condition(self, x1: torch.Tensor, t1: torch.Tensor | None = None) -> \"BridgeControl\":\n",
    "        \"\"\"\n",
    "        Conditions the bridge on being at x1 at time t1. \n",
    "\n",
    "        parameters: \n",
    "            x1 (torch.Tensor): [..., D] Target value.\n",
    "            t1 (torch.Tensor): [...] End times.\n",
    "\n",
    "        returns: \n",
    "            BridgeControl: The bridge control.\n",
    "        \"\"\"\n",
    "        if t1 is None:\n",
    "            t1 = x1.new_ones(x1.shape[:-1]) # [...]\n",
    "        self._x1 = x1\n",
    "        self._t1 = t1\n",
    "        return self\n",
    "\n",
    "    def control(self, t: torch.Tensor, x: torch.Tensor) -> torch.Tensor:\n",
    "        \"\"\"\n",
    "        Returns the control for the bridge at time t and position x. \n",
    "\n",
    "        parameters: \n",
    "            t (torch.Tensor): [...] times.\n",
    "            x (torch.Tensor): [..., D] values.\n",
    "\n",
    "        returns: \n",
    "            torch.Tensor: [..., D] Control.\n",
    "        \"\"\"\n",
    "        return bridge_control(sde=self.sde, t=t, x=x, t1=self._t1, x1=self._x1)\n",
    "\n",
    "\n",
    "class ModelControl(Control):\n",
    "    def __init__(self, model: torch.nn.Module, device: torch.device | None = None):\n",
    "        super().__init__(device=device)\n",
    "        self.model = model.to(device)\n",
    "\n",
    "    def to(self, device: torch.device | None = None) -> \"ModelControl\":\n",
    "        super().to(device)\n",
    "        self.model = self.model.to(device)\n",
    "        return self \n",
    "\n",
    "    def __call__(self, t: torch.Tensor, x: torch.Tensor) -> torch.Tensor:\n",
    "        return self.model(t, x)\n"
   ]
  },
  {
   "cell_type": "markdown",
   "id": "a0ed57f0",
   "metadata": {},
   "source": [
    "## SDE solvers"
   ]
  },
  {
   "cell_type": "code",
   "execution_count": 99,
   "id": "af9582e8",
   "metadata": {},
   "outputs": [],
   "source": [
    "class EulerMaruyamaSolver(torch.nn.Module):\n",
    "    def __init__(self, sde: SDE, n: int, timesteps: str = \"uniform\"):\n",
    "        # TODO Consider whether to move the SDE into sample_path.\n",
    "        super().__init__()\n",
    "        self.sde = sde\n",
    "\n",
    "        if timesteps == \"uniform\":\n",
    "            self.timesteps = UniformTimesteps(n)\n",
    "        else:\n",
    "            raise ValueError(f\"Invalid timesteps: {timesteps}\")\n",
    "\n",
    "    def dx(self, dt: torch.Tensor, t: torch.Tensor, x: torch.Tensor, *, control: Control) -> torch.Tensor:\n",
    "        \"\"\"\n",
    "        Returns the change in the SDE. \n",
    "\n",
    "        parameters: \n",
    "            dt (torch.Tensor): [] Duration of the timestep.\n",
    "            t (torch.Tensor): [] Time.\n",
    "            x (torch.Tensor): [..., D] Initial value.\n",
    "            control (Control): Control object.\n",
    "\n",
    "        returns: \n",
    "            torch.Tensor: [..., D] Change in the SDE.\n",
    "        \"\"\"\n",
    "        t = t.expand(x.shape[:-1])\n",
    "        drift = self.sde.drift(t=t, x=x) + control(t=t, x=x)\n",
    "        diffusion = self.sde.diffusion(t=t, x=x)\n",
    "        return drift * dt + diffusion * torch.sqrt(dt) * torch.randn_like(x)\n",
    "\n",
    "    def sample_from_terminal(self, x0: torch.Tensor, *, control: Control | None = None) -> torch.Tensor:\n",
    "        \"\"\"\n",
    "        Samples from terminal distribution by running the SDE forward from time 0 to 1.\n",
    "\n",
    "        parameters: \n",
    "            x0 (torch.Tensor): [..., D] Initial value.\n",
    "            control (Control): Control object.\n",
    "\n",
    "        returns: \n",
    "            torch.Tensor: [..., D] Terminal value.\n",
    "        \"\"\"\n",
    "        if control is None:\n",
    "            control = ZeroControl()\n",
    "\n",
    "        ts = self.timesteps.t\n",
    "        dts = self.timesteps.dt\n",
    "\n",
    "        x = x0\n",
    "        for t, dt in zip(ts[:-1], dts):\n",
    "            x = x + self.dx(dt=dt, t=t, x=x, control=control)\n",
    "        return x \n",
    "\n",
    "    def sample_path(self, x0: torch.Tensor, *, control: Control | None = None) -> tuple[torch.Tensor, torch.Tensor]:\n",
    "        \"\"\"\n",
    "        Samples a path from the SDE.\n",
    "\n",
    "        parameters: \n",
    "            x0 (torch.Tensor): [..., D] Initial value.\n",
    "            control (Control): Control object.\n",
    "\n",
    "        returns: \n",
    "            tuple[torch.Tensor, torch.Tensor]: [..., T, D] Path and [T] Time.\n",
    "        \"\"\"\n",
    "\n",
    "        if control is None:\n",
    "            control = ZeroControl()\n",
    "\n",
    "        ts = self.timesteps.t\n",
    "        dts = self.timesteps.dt\n",
    "\n",
    "        x = x0\n",
    "        xs = [x]\n",
    "        for t, dt in zip(ts[:-1], dts):\n",
    "            x = x + self.dx(dt=dt, t=t, x=x, control=control)\n",
    "            xs.append(x)\n",
    "        return torch.stack(xs, dim=-2), ts"
   ]
  },
  {
   "cell_type": "markdown",
   "id": "214e65c2",
   "metadata": {},
   "source": [
    "## Optimal Transport"
   ]
  },
  {
   "cell_type": "code",
   "execution_count": 151,
   "id": "cf5b94c3",
   "metadata": {},
   "outputs": [],
   "source": [
    "class OTSolver: \n",
    "\n",
    "    def __init__(self, sde: SDE, *, epsilon: float = 0.0, normalize_variance: bool = True):\n",
    "        self.sde = sde\n",
    "        \n",
    "        variance_1_given_0 = sde.variance(t=torch.tensor(1.0), t0=torch.tensor(0.0))\n",
    "\n",
    "        variance_1_given_0_is_degenerate = variance_1_given_0 == 0.0\n",
    "\n",
    "        if normalize_variance is False:\n",
    "            scale_epsilon = 0.0\n",
    "            possibly_scaled_variance_nondegenerate = variance_1_given_0\n",
    "        else:\n",
    "            scale_epsilon = torch.prod(\n",
    "                variance_1_given_0[~variance_1_given_0_is_degenerate]\n",
    "            ).pow(1 / sde.dim).item()\n",
    "            possibly_scaled_variance_nondegenerate = variance_1_given_0 / scale_epsilon\n",
    "        \n",
    "        self.possibly_scaled_variance: torch.Tensor = torch.where(\n",
    "            variance_1_given_0_is_degenerate, \n",
    "            1.0, \n",
    "            possibly_scaled_variance_nondegenerate,\n",
    "        )\n",
    "        self.epsilon: float = epsilon * scale_epsilon\n",
    "\n",
    "    def cost(self, x0: torch.Tensor, x1: torch.Tensor) -> torch.Tensor:\n",
    "        \"\"\"\n",
    "        Returns the cost matrix between x0 and x1.\n",
    "\n",
    "        parameters: \n",
    "            x0 (torch.Tensor): [..., N, D] Initial value.\n",
    "            x1 (torch.Tensor): [..., M, D] Target value.\n",
    "\n",
    "        returns: \n",
    "            torch.Tensor: [..., N, M] Cost matrix.\n",
    "        \"\"\"\n",
    "        assert x0.ndim >= 2, \"x0 must have at least 2 dimensions\"\n",
    "        assert x1.ndim >= 2, \"x1 must have at least 2 dimensions\"\n",
    "\n",
    "        # Expand x0 and x1 for broadcasting\n",
    "        # x0_expanded: [..., N, 1, D]\n",
    "        # x1_expanded: [..., 1, M, D]\n",
    "        x0_expanded = x0.unsqueeze(-2)  # [..., N, 1, D]\n",
    "        x1_expanded = x1.unsqueeze(-3)  # [..., 1, M, D]\n",
    "\n",
    "        # Compute cost for each pair (n, m)\n",
    "        # Use the same cost as in self.cost, but vectorized\n",
    "        t0 = x0.new_zeros(x0.shape[:-2] + (x0.shape[-2], 1))  # [..., N, 1]\n",
    "        t1 = x1.new_ones(x0.shape[:-2] + (1, x1.shape[-2]))   # [..., 1, M]\n",
    "        # mean: [..., N, 1, D]\n",
    "        mean = self.sde.mean(t0=t0, x0=x0_expanded, t=t1)\n",
    "        # normed_variance: [D]\n",
    "        z = (x1_expanded - mean) / self.possibly_scaled_variance  # ([..., 1, M, D] - [..., N, 1, D]) / [D] -> [..., N, M, D]\n",
    "        cost = torch.linalg.vector_norm(z, ord=2, dim=-1)  # [..., N, M]\n",
    "        return cost\n",
    "\n",
    "    def solve(\n",
    "        self, \n",
    "        x0: torch.Tensor, \n",
    "        x1: torch.Tensor, \n",
    "        method: str = \"sinkhorn\",\n",
    "        num_iter_max: int = 1000,\n",
    "        stop_threshold: float = 1e-9,\n",
    "        verbose: bool = False,\n",
    "        log: bool = False,\n",
    "        warn: bool = True,\n",
    "    ) -> torch.Tensor:\n",
    "        \"\"\"\n",
    "        Returns the optimal transport plan between x0 and x1.\n",
    "\n",
    "        parameters: \n",
    "            x0 (torch.Tensor): [..., N, D] Initial value.\n",
    "            x1 (torch.Tensor): [..., M, D] Target value.\n",
    "\n",
    "        returns: \n",
    "            torch.Tensor: [..., N, M] Optimal transport plan.\n",
    "        \"\"\"\n",
    "        assert x0.ndim >= 2, \"x0 must have 2 dimensions\"\n",
    "        assert x1.ndim >= 2, \"x1 must have 2 dimensions\"\n",
    "\n",
    "        cost_matrix = self.cost(x0, x1)\n",
    "        px0 = x0.new_ones(x0.shape[0]) / x0.shape[0]\n",
    "        px1 = x1.new_ones(x1.shape[0]) / x1.shape[0]\n",
    "\n",
    "        # convert to numpy\n",
    "        cost_matrix = cost_matrix.detach().cpu().numpy()\n",
    "        px0 = px0.detach().cpu().numpy()\n",
    "        px1 = px1.detach().cpu().numpy()\n",
    "        epsilon = self.epsilon\n",
    "\n",
    "\n",
    "        if epsilon == 0.0:\n",
    "            optimal_plan = ot.emd(\n",
    "                a=px0, \n",
    "                b=px1, \n",
    "                M=cost_matrix, \n",
    "                log=log,\n",
    "            )\n",
    "        else:\n",
    "            optimal_plan = ot.sinkhorn(\n",
    "                a=px0, \n",
    "                b=px1, \n",
    "                M=cost_matrix, \n",
    "                reg=epsilon, \n",
    "                method=method,\n",
    "                num_iter_max=num_iter_max, \n",
    "                stop_threshold=stop_threshold, \n",
    "                verbose=verbose, \n",
    "                log=log, \n",
    "                warn=warn\n",
    "            )\n",
    "\n",
    "        return torch.as_tensor(optimal_plan, device=x0.device, dtype=x0.dtype)\n",
    "\n",
    "    @property\n",
    "    def is_exact(self) -> bool:\n",
    "        return self.epsilon == 0.0"
   ]
  },
  {
   "cell_type": "markdown",
   "id": "5835cf10",
   "metadata": {},
   "source": [
    "## Data"
   ]
  },
  {
   "cell_type": "code",
   "execution_count": null,
   "id": "420531c9",
   "metadata": {},
   "outputs": [],
   "source": [
    "class TimeSampler(ABC):\n",
    "    \"\"\"\n",
    "    Abstract class for time samplers.\n",
    "    \"\"\"\n",
    "\n",
    "    def __init__(self, device: torch.device | None = None, dtype: torch.dtype | None = None):\n",
    "        self.device = device\n",
    "        self.dtype = dtype\n",
    "\n",
    "    def to(self, device: torch.device) -> \"TimeSampler\":\n",
    "        self.device = device\n",
    "        return self\n",
    "\n",
    "    @abstractmethod\n",
    "    def sample(self, shape: torch.Size) -> torch.Tensor:\n",
    "        pass\n",
    "\n",
    "\n",
    "class UniformTimeSampler(TimeSampler):\n",
    "\n",
    "    def sample(self, shape: torch.Size) -> torch.Tensor:\n",
    "        return torch.rand(shape, device=self.device, dtype=self.dtype)\n",
    "\n",
    "\n",
    "class DiscreteTimeSampler(TimeSampler):\n",
    "    def __init__(self, timesteps: UniformTimesteps, device: torch.device | None = None, dtype: torch.dtype | None = None):\n",
    "        super().__init__(device, dtype)\n",
    "        self.timesteps = timesteps\n",
    "\n",
    "    def sample(self, shape: torch.Size) -> torch.Tensor:\n",
    "        indices = torch.randint(0, self.timesteps.n - 1, shape, device=self.device, dtype=self.dtype)\n",
    "        return self.timesteps.t[indices]\n",
    "\n",
    "\n",
    "class MatchingDataset(torch.utils.data.Dataset):\n",
    "    def __init__(self, x0: torch.Tensor, x1: torch.Tensor, time_sampler: UniformTimeSampler | None = None):\n",
    "        super().__init__()\n",
    "        self.x0 = x0\n",
    "        self.x1 = x1\n",
    "        self.time_sampler = time_sampler or UniformTimeSampler(device=x0.device, dtype=x0.dtype)\n",
    "    \n",
    "    def __getitem__(self, idx: torch.Tensor) -> tuple[torch.Tensor, torch.Tensor, torch.Tensor]:\n",
    "        \"\"\"\n",
    "        returns:\n",
    "            t: torch.Tensor, shape [...]\n",
    "            x0: torch.Tensor, shape [..., D]\n",
    "            x1: torch.Tensor, shape [..., D]\n",
    "        \"\"\"\n",
    "        x0_idx, x1_idx = torch.unbind(idx, dim=-1)\n",
    "        t = self.time_sampler.sample(x0_idx.shape)\n",
    "        return t, self.x0[x0_idx], self.x1[x1_idx]\n",
    "    \n",
    "    def __len__(self) -> int:\n",
    "        raise NotImplementedError(\"Length of MatchingDataset is not defined.\")\n",
    "        \n",
    "\n",
    "class OTBatchSampler(torch.utils.data.Sampler):\n",
    "    def __init__(self, dataset: MatchingDataset, ot_solver: OTSolver, batch_size: int, num_samples: int):\n",
    "        super().__init__()\n",
    "        self.dataset = dataset\n",
    "        self.joint_distribution = ot_solver.solve(dataset.x0, dataset.x1)\n",
    "        self.batch_size = batch_size\n",
    "        self.num_samples = num_samples\n",
    "\n",
    "    def __iter__(self):\n",
    "        for _ in range(len(self)):\n",
    "            yield joint_multinomial(self.joint_distribution, self.batch_size)\n",
    "\n",
    "    def __len__(self) -> int:\n",
    "        return self.num_samples // self.batch_size\n",
    "\n",
    "\n",
    "class MatchingDataLoader:\n",
    "    def __init__(self, dataset: MatchingDataset, batch_sampler: OTBatchSampler):\n",
    "        self.dataset = dataset\n",
    "        self.batch_sampler = batch_sampler\n",
    "\n",
    "    def __iter__(self):\n",
    "        for batch in self.batch_sampler:\n",
    "            yield self.dataset[batch]\n",
    "\n",
    "    def __len__(self) -> int:\n",
    "        return len(self.batch_sampler)"
   ]
  },
  {
   "cell_type": "markdown",
   "id": "baf9c868",
   "metadata": {},
   "source": [
    "# 2d Linear Gaussian bridge example"
   ]
  },
  {
   "cell_type": "code",
   "execution_count": 153,
   "id": "e7a8734f",
   "metadata": {},
   "outputs": [],
   "source": [
    "dim = 2\n",
    "L = torch.eye(dim)\n",
    "c = 2.0\n",
    "sigma = 0.0\n",
    "n = 1000\n",
    "\n",
    "sde = HeatBMTSDE(L=L, c=c, sigma=sigma)\n",
    "sde_solver = EulerMaruyamaSolver(sde=sde, n=n)\n",
    "\n",
    "delta_x = torch.tensor([3.0, 0.0])\n",
    "x0 = torch.tensor([-1.0, -1.0]) + delta_x\n",
    "x1 = torch.tensor([1.0, 1.0]) + delta_x\n",
    "\n",
    "# Sample 100 paths from x0 to x1\n",
    "x0s = x0.expand(100, 2)\n",
    "x1s = x1.expand(100, 2)\n",
    "control = BridgeControl(sde=sde, x1=x1s)\n",
    "xts, ts = sde_solver.sample_path(x0s, control=control)\n",
    "xts = sde.inverse_transform(xts)\n",
    "xmids = sde.marginal_distribution(t=torch.tensor(0.8), x0=x0, x1=x1).sample((100,))"
   ]
  },
  {
   "cell_type": "code",
   "execution_count": 154,
   "id": "2bf85b03",
   "metadata": {},
   "outputs": [
    {
     "data": {
      "image/png": "[encoded data removed]",
      "text/plain": [
       "<Figure size 800x600 with 2 Axes>"
      ]
     },
     "metadata": {},
     "output_type": "display_data"
    }
   ],
   "source": [
    "# Assume xts shape: [N, T, D] or [T, D] if single batch\n",
    "xts_np = xts.detach().cpu().numpy()\n",
    "ts_np = ts.detach().cpu().numpy()\n",
    "\n",
    "# Ensure shape is [N, T, D]\n",
    "if xts_np.ndim == 2:\n",
    "    xts_np = xts_np[None, ...]  # [1, T, D]\n",
    "\n",
    "N, T, D = xts_np.shape\n",
    "assert D == 2, \"D must be 2 for 2D plotting\"\n",
    "\n",
    "# Prepare segments for LineCollection: each path is (T, 2), segments are (T-1, 2, 2)\n",
    "segments = []\n",
    "colors = []\n",
    "norm = plt.Normalize(ts_np.min(), ts_np.max())\n",
    "# Use a blue-to-red colormap\n",
    "cmap = plt.get_cmap('coolwarm')  # blue (low) to red (high)\n",
    "\n",
    "# Use a single alpha value for all lines\n",
    "global_alpha = 0.1\n",
    "\n",
    "for i in range(N):\n",
    "    points = xts_np[i, :, :2]\n",
    "    segs = np.stack([points[:-1], points[1:]], axis=1)  # (T-1, 2, 2)\n",
    "    segments.append(segs)\n",
    "    # Color for each segment (time-varying colormap, fixed alpha)\n",
    "    t_mid = (ts_np[:-1] + ts_np[1:]) / 2\n",
    "    seg_colors = cmap(norm(t_mid))\n",
    "    seg_colors[:, -1] = global_alpha  # Set the same alpha for all segments\n",
    "    colors.append(seg_colors)\n",
    "\n",
    "# Concatenate all segments and colors\n",
    "all_segments = np.concatenate(segments, axis=0)\n",
    "all_colors = np.concatenate(colors, axis=0)\n",
    "\n",
    "fig, ax = plt.subplots(figsize=(8, 6))\n",
    "lc = LineCollection(all_segments, colors=all_colors, linewidths=1)\n",
    "ax.add_collection(lc)\n",
    "\n",
    "# Add scatterplot of xmids, black markers\n",
    "xmids_np = xmids.detach().cpu().numpy()\n",
    "x1s_np = xts_np[..., -1, :]\n",
    "ax.scatter(xmids_np[:, 0], xmids_np[:, 1], color='k', marker='o', s=20, label='xmids')\n",
    "ax.scatter(x1s_np[:, 0], x1s_np[:, 1], color='r', marker='o', s=20, label='x1s')\n",
    "\n",
    "# Set axis limits\n",
    "all_x = xts_np[..., 0].ravel()\n",
    "all_y = xts_np[..., 1].ravel()\n",
    "ax.set_xlim(all_x.min(), all_x.max())\n",
    "ax.set_ylim(all_y.min(), all_y.max())\n",
    "\n",
    "ax.set_xlabel('x[0]')\n",
    "ax.set_ylabel('x[1]')\n",
    "ax.set_title('Sample Paths with Time-varying Color (Blue to Red, Fixed Alpha)')\n",
    "\n",
    "# Colorbar for time\n",
    "sm = plt.cm.ScalarMappable(cmap=cmap, norm=norm)\n",
    "sm.set_array([])\n",
    "cbar = plt.colorbar(sm, ax=ax, label='Time')\n",
    "plt.show()\n"
   ]
  },
  {
   "cell_type": "markdown",
   "id": "9771f7cd",
   "metadata": {},
   "source": [
    "# Optimal Transport Cost"
   ]
  },
  {
   "cell_type": "code",
   "execution_count": null,
   "id": "83f060ad",
   "metadata": {},
   "outputs": [
    {
     "data": {
      "image/png": "[encoded data removed]",
      "text/plain": [
       "<Figure size 800x700 with 2 Axes>"
      ]
     },
     "metadata": {},
     "output_type": "display_data"
    }
   ],
   "source": [
    "# Solve entropic OT problem between a centred Gaussian and a mixture of three Gaussians\n",
    "dim = 2\n",
    "L = torch.eye(dim)\n",
    "c = 0.5\n",
    "sigma = 0.0\n",
    "\n",
    "sde = HeatBMTSDE(L=L, c=c, sigma=sigma)\n",
    "ot_solver = OTSolver(sde=sde, epsilon=0.0)\n",
    "# ot_solver = EntropicOTSolver(sde=sde, normalize_variance=False)\n",
    "\n",
    "\n",
    "x0 = torch.tensor([3.0, 0.0])\n",
    "# Create a grid of y points and evaluate the cost from x0 to them using cost_matrix\n",
    "\n",
    "# Define grid limits and resolution\n",
    "y_min, y_max, n_grid = -5.0, 5.0, 50\n",
    "y1 = torch.linspace(y_min, y_max, n_grid)\n",
    "y2 = torch.linspace(y_min, y_max, n_grid)\n",
    "y1g, y2g = torch.meshgrid(y1, y2, indexing='xy')\n",
    "y_grid = torch.stack([y1g, y2g], dim=-1)\n",
    "\n",
    "# Evaluate cost from x0 to each y in the grid using cost_matrix\n",
    "costs = ot_solver.cost(x0.reshape(-1, 2), y_grid.reshape(-1, 2)).reshape(y_grid.shape[:-1])\n",
    "\n",
    "\n",
    "# Plot the cost as a heatmap\n",
    "plt.figure(figsize=(8, 7))\n",
    "plt.imshow(costs.cpu(), extent=[y_min, y_max, y_min, y_max], cmap='viridis')\n",
    "plt.colorbar(label='Cost')\n",
    "plt.xlabel('y1')\n",
    "plt.ylabel('y2')\n",
    "plt.title('Cost from x0 to y_grid')\n",
    "plt.show()"
   ]
  },
  {
   "cell_type": "markdown",
   "id": "b3b2f5e2",
   "metadata": {},
   "source": [
    "# Optimal transfer plan and the induced linear flow"
   ]
  },
  {
   "cell_type": "code",
   "execution_count": null,
   "id": "206c4f7c",
   "metadata": {},
   "outputs": [
    {
     "data": {
      "image/png": "[encoded data removed]",
      "text/plain": [
       "<Figure size 600x500 with 2 Axes>"
      ]
     },
     "metadata": {},
     "output_type": "display_data"
    },
    {
     "data": {
      "image/png": "[encoded data removed]",
      "text/plain": [
       "<Figure size 800x700 with 2 Axes>"
      ]
     },
     "metadata": {},
     "output_type": "display_data"
    }
   ],
   "source": [
    "delta_mu = torch.tensor([3.0, 0.0])\n",
    "\n",
    "mu0, sigma0 = torch.zeros(2) + delta_mu, torch.eye(2) * 0.3\n",
    "R0 = torch.distributions.MultivariateNormal(loc=mu0, covariance_matrix=sigma0)\n",
    "\n",
    "r = 2.0\n",
    "mu11, sigma11 = torch.tensor([0.0, 2.0]) * r + delta_mu, torch.eye(2) * 0.1\n",
    "mu12, sigma12 = torch.tensor([-1.5, -1.0]) * r + delta_mu, torch.eye(2) * 0.1\n",
    "mu13, sigma13 = torch.tensor([1.5, -1.0]) * r + delta_mu, torch.eye(2) * 0.1\n",
    "component_distribution = torch.distributions.MultivariateNormal(\n",
    "    loc=torch.stack([mu11, mu12, mu13], dim=0), \n",
    "    covariance_matrix=torch.stack([sigma11, sigma12, sigma13], dim=0)\n",
    ")\n",
    "mixture_distribution = torch.distributions.Categorical(probs=torch.tensor([1/3, 1/3, 1/3]))\n",
    "R1 = torch.distributions.MixtureSameFamily(\n",
    "    mixture_distribution=mixture_distribution, \n",
    "    component_distribution=component_distribution\n",
    ")\n",
    "\n",
    "n_samples = 100\n",
    "x0 = R0.sample((n_samples,))\n",
    "x1 = R1.sample((n_samples,))\n",
    "\n",
    "ot_plan = ot_solver.solve(x0, x1)\n",
    "\n",
    "\n",
    "plt.figure(figsize=(6, 5))\n",
    "plt.imshow(ot_plan.cpu(), aspect='auto', cmap='viridis')\n",
    "plt.colorbar(label='OT Plan Value')\n",
    "plt.title('Optimal Transport Plan Heatmap')\n",
    "plt.xlabel('Target Sample Index')\n",
    "plt.ylabel('Source Sample Index')\n",
    "plt.show()\n",
    "\n",
    "\n",
    "\n",
    "# Ensure x0, x1, and ot_plan are on CPU and convert to numpy arrays\n",
    "x0_np = x0.cpu().numpy() if hasattr(x0, \"cpu\") else x0.numpy()\n",
    "x1_np = x1.cpu().numpy() if hasattr(x1, \"cpu\") else x1.numpy()\n",
    "ot_plan_np = ot_plan.cpu().numpy() if hasattr(ot_plan, \"cpu\") else ot_plan.numpy()\n",
    "\n",
    "# (Assume x0_np, x1_np, ot_plan_np are already CPU NumPy arrays.)\n",
    "n = x0_np.shape[0]\n",
    "\n",
    "plt.figure(figsize=(8, 7))\n",
    "ax = plt.gca()\n",
    "ax.scatter(x0_np[:, 0], x0_np[:, 1],\n",
    "           color='blue', label='Source', alpha=0.7)\n",
    "ax.scatter(x1_np[:, 0], x1_np[:, 1],\n",
    "           color='red',  label='Target', alpha=0.7)\n",
    "\n",
    "# parameters\n",
    "max_plan = ot_plan_np.max()\n",
    "threshold = 0.01 * max_plan\n",
    "\n",
    "cmap = plt.get_cmap('coolwarm')\n",
    "norm = Normalize(vmin=0, vmax=1)\n",
    "\n",
    "segments = []\n",
    "colors = []\n",
    "widths = []\n",
    "\n",
    "# how many sub‐segments per arrow\n",
    "n_sub = 10\n",
    "\n",
    "for i in range(n):\n",
    "    for j in range(n):\n",
    "        w = ot_plan_np[i, j]\n",
    "        if w <= threshold:\n",
    "            continue\n",
    "\n",
    "        start = x0_np[i]\n",
    "        end = x1_np[j]\n",
    "        # generate equally‐spaced points along the line\n",
    "        pts = np.linspace(start, end, n_sub + 1)\n",
    "\n",
    "        # line thickness & overall alpha from flow magnitude\n",
    "        flow = w / max_plan\n",
    "        lw = 0.5 + 2.5 * flow\n",
    "        alpha = flow * 0.3\n",
    "\n",
    "        # build each tiny segment\n",
    "        for k in range(n_sub):\n",
    "            seg_t = [pts[k], pts[k + 1]]\n",
    "            t = k / n_sub  # 0 at source, 1 at target\n",
    "            # pick color from cmap and inject our α\n",
    "            r, g, b, _ = cmap(norm(t))\n",
    "            colors.append((r, g, b, alpha))\n",
    "            widths.append(lw)\n",
    "            segments.append(seg_t)\n",
    "\n",
    "# assemble the LineCollection\n",
    "lc = LineCollection(segments,\n",
    "                    colors=colors,\n",
    "                    linewidths=widths,\n",
    "                    zorder=0)\n",
    "ax.add_collection(lc)\n",
    "\n",
    "# add colorbar for “time” scale\n",
    "sm = cm.ScalarMappable(norm=norm, cmap=cmap)\n",
    "sm.set_array(np.linspace(0, 1, 100))   # dummy array\n",
    "cbar = plt.colorbar(sm, ax=ax, fraction=0.046, pad=0.04)\n",
    "cbar.set_label('Implicit Time (0=Source, 1=Target)')\n",
    "\n",
    "ax.set(title='Probability Flow Induced by Entropic OT Plan',\n",
    "       xlabel='x', ylabel='y')\n",
    "ax.legend()\n",
    "ax.grid(True)\n",
    "plt.tight_layout()\n",
    "plt.show()\n"
   ]
  },
  {
   "cell_type": "markdown",
   "id": "7f74787f",
   "metadata": {},
   "source": [
    "# Synthetic Experiments"
   ]
  },
  {
   "cell_type": "markdown",
   "id": "410f8c74",
   "metadata": {},
   "source": [
    "## Models"
   ]
  },
  {
   "cell_type": "code",
   "execution_count": 159,
   "id": "70c52fb8",
   "metadata": {},
   "outputs": [],
   "source": [
    "def timestep_embedding(\n",
    "    timesteps: torch.Tensor,\n",
    "    dim: int,\n",
    "    max_period: int = 10000\n",
    ") -> torch.Tensor:\n",
    "    \"\"\"\n",
    "    Create sinusoidal timestep embeddings.\n",
    "\n",
    "    parameters: \n",
    "        timesteps: [...]\n",
    "        dim: int\n",
    "        max_period: int\n",
    "\n",
    "    returns:\n",
    "        embedding: [..., dim]\n",
    "    \"\"\"\n",
    "    dim_over_2, dim_mod_2 = divmod(dim, 2)\n",
    "    freqs = torch.exp(\n",
    "        -math.log(max_period) * torch.arange(0, dim_over_2, device=timesteps.device, dtype=timesteps.dtype) \n",
    "        / dim_over_2\n",
    "    ) # [D/2]\n",
    "    args = timesteps.unsqueeze(-1) * freqs.unsqueeze(0) # [..., 1] * [1, D/2] = [..., D/2]\n",
    "    embedding = torch.cat([torch.cos(args), torch.sin(args)], dim=-1) # [..., D]\n",
    "\n",
    "    if dim_mod_2 == 1:\n",
    "        zero_column = embedding.new_zeros(embedding.shape[0], 1)\n",
    "        embedding = torch.cat([embedding, zero_column], dim=-1)\n",
    "    return embedding\n",
    "\n",
    "\n",
    "class SiLU(torch.nn.Module):\n",
    "    def forward(self, x):\n",
    "        return x * torch.sigmoid(x)\n",
    "\n",
    "\n",
    "class FCs(torch.nn.Module):\n",
    "    \"\"\"\n",
    "    Fully connected feedforward neural network with configurable number of layers.\n",
    "    \"\"\"\n",
    "    def __init__(\n",
    "        self,\n",
    "        dim_in: int,\n",
    "        dim_hid: int,\n",
    "        dim_out: int,\n",
    "        num_layers: int = 2\n",
    "    ) -> None:\n",
    "        \"\"\"\n",
    "        Fully connected feedforward neural network with configurable number of layers.\n",
    "\n",
    "        Args:\n",
    "            dim_in (int): Input feature dimension.\n",
    "            dim_hid (int): Hidden layer dimension.\n",
    "            dim_out (int): Output feature dimension.\n",
    "            num_layers (int, optional): Total number of layers (including input and output layers). Default is 2.\n",
    "        \"\"\"\n",
    "        super(FCs, self).__init__()\n",
    "        self.model = torch.nn.Sequential()\n",
    "        self.model.add_module('fc_in', torch.nn.Linear(dim_in, dim_hid))\n",
    "        self.model.add_module('relu_in', torch.nn.ReLU())\n",
    "        for i in range(num_layers - 2):\n",
    "            self.model.add_module(f'fc_{i}', torch.nn.Linear(dim_hid, dim_hid))\n",
    "            self.model.add_module(f'relu_{i}', torch.nn.ReLU())\n",
    "        self.model.add_module('fc_out', torch.nn.Linear(dim_hid, dim_out))\n",
    "\n",
    "    def forward(self, x: torch.Tensor) -> torch.Tensor:\n",
    "        return self.model(x)\n",
    "\n",
    "\n",
    "class ResNet_FC(torch.nn.Module):\n",
    "    \"\"\"\n",
    "    A fully connected network with an initial linear layer followed by a sequence of residual blocks.\n",
    "    Each residual block consists of several linear layers with SiLU activations.\n",
    "    \"\"\"\n",
    "\n",
    "    def __init__(self, data_dim: int, hidden_dim: int, num_res_blocks: int) -> None:\n",
    "        \"\"\"\n",
    "        Initialize the ResNet_FC module.\n",
    "\n",
    "        Args:\n",
    "            data_dim (int): Input feature dimension.\n",
    "            hidden_dim (int): Hidden layer dimension for all residual blocks.\n",
    "            num_res_blocks (int): Number of residual blocks.\n",
    "        \"\"\"\n",
    "        super().__init__()\n",
    "        self.hidden_dim: int = hidden_dim\n",
    "        self.map: torch.nn.Linear = torch.nn.Linear(data_dim, hidden_dim)\n",
    "        self.res_blocks: torch.nn.ModuleList = torch.nn.ModuleList(\n",
    "            [self.build_res_block() for _ in range(num_res_blocks)]\n",
    "        )\n",
    "\n",
    "    def build_linear(self, in_features: int, out_features: int) -> torch.nn.Linear:\n",
    "        \"\"\"\n",
    "        Build a linear layer.\n",
    "\n",
    "        Args:\n",
    "            in_features (int): Number of input features.\n",
    "            out_features (int): Number of output features.\n",
    "\n",
    "        Returns:\n",
    "            torch.nn.Linear: Linear layer.\n",
    "        \"\"\"\n",
    "        return torch.nn.Linear(in_features, out_features)\n",
    "\n",
    "    def build_res_block(self) -> torch.nn.Sequential:\n",
    "        \"\"\"\n",
    "        Build a residual block consisting of several linear layers and SiLU activations.\n",
    "\n",
    "        Returns:\n",
    "            torch.nn.Sequential: Sequential container of layers forming a residual block.\n",
    "        \"\"\"\n",
    "        hid: int = self.hidden_dim\n",
    "        layers: list[torch.nn.Module] = []\n",
    "        widths: list[int] = [hid] * 4\n",
    "        for i in range(len(widths) - 1):\n",
    "            layers.append(self.build_linear(widths[i], widths[i + 1]))\n",
    "            layers.append(SiLU())\n",
    "        return torch.nn.Sequential(*layers)\n",
    "\n",
    "    def forward(self, x: torch.Tensor) -> torch.Tensor:\n",
    "        \"\"\"\n",
    "        Forward pass through the network.\n",
    "\n",
    "        Args:\n",
    "            x (torch.Tensor): Input tensor of shape (batch_size, data_dim).\n",
    "\n",
    "        Returns:\n",
    "            torch.Tensor: Output tensor after passing through the network.\n",
    "        \"\"\"\n",
    "        h = self.map(x)\n",
    "        for res_block in self.res_blocks:\n",
    "            h = (h + res_block(h)) / np.sqrt(2)\n",
    "        return h\n",
    "\n",
    "class TimestepBlock(torch.nn.Module):\n",
    "    \"\"\"\n",
    "    Any module where forward() takes timestep embeddings as a second argument.\n",
    "    \"\"\"\n",
    "\n",
    "    @abstractmethod\n",
    "    def forward(self, x: torch.Tensor, emb: torch.Tensor) -> torch.Tensor:\n",
    "        \"\"\"\n",
    "        Apply the module to `x` given `emb` timestep embeddings.\n",
    "        \"\"\"\n",
    "\n",
    "class TimestepEmbedSequential(torch.nn.Sequential, TimestepBlock):\n",
    "    \"\"\"\n",
    "    A sequential module that passes timestep embeddings to the children that\n",
    "    support it as an extra input.\n",
    "    \"\"\"\n",
    "\n",
    "    def forward(self, x: torch.Tensor, emb: torch.Tensor) -> torch.Tensor:\n",
    "        for layer in self:\n",
    "            if isinstance(layer, TimestepBlock):\n",
    "                x = layer(x, emb)\n",
    "            else:\n",
    "                x = layer(x)\n",
    "        return x\n",
    "\n",
    "\n",
    "class SparseGCNLayer(torch.nn.Module):\n",
    "    def __init__(\n",
    "        self,\n",
    "        in_channels: int,\n",
    "        out_channels: int,\n",
    "        conv_order: int,\n",
    "        laplacian: torch.Tensor,\n",
    "        *, \n",
    "        aggr_norm: bool = False,\n",
    "        initialization: str = \"xavier_uniform\",\n",
    "    ) -> None:\n",
    "        assert initialization in [\"xavier_uniform\", \"xavier_normal\"]\n",
    "\n",
    "        super().__init__()        \n",
    "\n",
    "        self.K = conv_order # K in pytorch geometric\n",
    "        self.L = laplacian\n",
    "        self.aggr_norm = aggr_norm\n",
    "\n",
    "        self.W = torch.nn.Parameter(\n",
    "            torch.empty(in_channels, out_channels, self.K + 1)\n",
    "        )\n",
    "        torch.nn.init.xavier_uniform_(self.W, gain=math.sqrt(2)) # Maybe add option xavier_normal_\n",
    "\n",
    "        # precompute normalization inverse \n",
    "        self.deg_inv = torch.sparse.sum(self.L, dim=1).to_dense().reciprocal_()\n",
    "        self.deg_inv[~torch.isfinite(self.deg_inv)] = 0.0\n",
    "\n",
    "\n",
    "    def _normalize(self, x: torch.Tensor) -> torch.Tensor:\n",
    "        \"\"\"\n",
    "        Normalize the aggregation by the neighborhood size.\n",
    "\n",
    "        Args:\n",
    "            x (torch.Tensor): Input tensor.\n",
    "\n",
    "        Returns:\n",
    "            torch.Tensor: Normalized tensor.\n",
    "        \"\"\"\n",
    "        x = torch.einsum(\"i,ij->ij \", self.deg_inv, x)\n",
    "        x[~torch.isfinite(x)] = 0.0\n",
    "        return x\n",
    "\n",
    "    \"\"\"\n",
    "    TODO \n",
    "    \"\"\"\n",
    "\n",
    "\n",
    "class GCNLayer(torch.nn.Module):\n",
    "    \"\"\"\n",
    "    Graph Convolutional Network (GCN) Layer with Chebyshev polynomial support.\n",
    "\n",
    "    Args:\n",
    "        in_channels (int): Number of input channels/features.\n",
    "        out_channels (int): Number of output channels/features.\n",
    "        conv_order (int): Order of the Chebyshev polynomial (number of hops).\n",
    "        laplacian (torch.Tensor): Laplacian or adjacency matrix.\n",
    "        aggr_norm (bool, optional): Whether to normalize aggregation. Default is False.\n",
    "        update_func (str or None, optional): Activation function to use after aggregation.\n",
    "            Options: \"sigmoid\", \"relu\", \"id\", or None. Default is None.\n",
    "        initialization (str, optional): Weight initialization method.\n",
    "            Options: \"xavier_uniform\", \"xavier_normal\". Default is \"xavier_uniform\".\n",
    "    \"\"\"\n",
    "\n",
    "    def __init__(\n",
    "        self,\n",
    "        in_channels: int,\n",
    "        out_channels: int,\n",
    "        conv_order: int,\n",
    "        laplacian: torch.Tensor,\n",
    "        *, \n",
    "        aggr_norm: bool = False,\n",
    "        update_func: str | None = None,\n",
    "        initialization: str = \"xavier_uniform\",\n",
    "    ) -> None:\n",
    "        super().__init__()\n",
    "\n",
    "        self.in_channels: int = in_channels\n",
    "        self.out_channels: int = out_channels\n",
    "        self.conv_order: int = conv_order\n",
    "        self.laplacian: torch.Tensor = laplacian\n",
    "        self.aggr_norm: bool = aggr_norm\n",
    "        self.update_func: str | None = update_func\n",
    "        self.initialization: str = initialization\n",
    "        assert initialization in [\"xavier_uniform\", \"xavier_normal\"]\n",
    "\n",
    "        self.weight: torch.nn.Parameter = torch.nn.Parameter(\n",
    "            torch.Tensor(\n",
    "                self.in_channels,\n",
    "                self.out_channels,\n",
    "                1 + self.conv_order,\n",
    "            )\n",
    "        )\n",
    "\n",
    "        self.reset_parameters()\n",
    "\n",
    "    def reset_parameters(self, gain: float = 1.414) -> None:\n",
    "        \"\"\"\n",
    "        Reset the parameters of the layer using the specified initialization.\n",
    "\n",
    "        Args:\n",
    "            gain (float, optional): Gain value for initialization. Default is 1.414.\n",
    "        \"\"\"\n",
    "        if self.initialization == \"xavier_uniform\":\n",
    "            torch.nn.init.xavier_uniform_(self.weight, gain=gain)\n",
    "        elif self.initialization == \"xavier_normal\":\n",
    "            torch.nn.init.xavier_normal_(self.weight, gain=gain)\n",
    "\n",
    "    def aggr_norm_func(self, conv_operator: torch.Tensor, x: torch.Tensor) -> torch.Tensor:\n",
    "        \"\"\"\n",
    "        Normalize the aggregation by the neighborhood size.\n",
    "\n",
    "        Args:\n",
    "            conv_operator (torch.Tensor): The convolution operator (adjacency or Laplacian matrix).\n",
    "            x (torch.Tensor): Input tensor.\n",
    "\n",
    "        Returns:\n",
    "            torch.Tensor: Normalized tensor.\n",
    "        \"\"\"\n",
    "        neighborhood_size = torch.sum(conv_operator.to_dense(), dim=1)\n",
    "        neighborhood_size_inv = 1 / neighborhood_size\n",
    "        neighborhood_size_inv[~(torch.isfinite(neighborhood_size_inv))] = 0\n",
    "\n",
    "        x = torch.einsum(\"i,ij->ij \", neighborhood_size_inv, x)\n",
    "        x[~torch.isfinite(x)] = 0\n",
    "        return x\n",
    "\n",
    "    def update(self, x: torch.Tensor) -> torch.Tensor | None:\n",
    "        \"\"\"\n",
    "        Apply the update (activation) function to the input.\n",
    "\n",
    "        Args:\n",
    "            x (torch.Tensor): Input tensor.\n",
    "\n",
    "        Returns:\n",
    "            torch.Tensor or None: Activated tensor or None if update_func is not recognized.\n",
    "        \"\"\"\n",
    "        if self.update_func == \"sigmoid\":\n",
    "            return torch.sigmoid(x)\n",
    "        if self.update_func == \"relu\":\n",
    "            return torch.nn.functional.relu(x)\n",
    "        if self.update_func == \"id\":\n",
    "            return x\n",
    "        return None\n",
    "\n",
    "    def chebyshev_conv(\n",
    "        self,\n",
    "        conv_operator: torch.Tensor,\n",
    "        conv_order: int,\n",
    "        x: torch.Tensor\n",
    "    ) -> torch.Tensor:\n",
    "        \"\"\"\n",
    "        Perform Chebyshev polynomial convolution.\n",
    "\n",
    "        Args:\n",
    "            conv_operator (torch.Tensor): The convolution operator (adjacency or Laplacian matrix).\n",
    "            conv_order (int): Order of the Chebyshev polynomial.\n",
    "            x (torch.Tensor): Input tensor of shape (num_simplices, num_channels).\n",
    "\n",
    "        Returns:\n",
    "            torch.Tensor: Tensor of shape (num_simplices, num_channels, conv_order).\n",
    "        \"\"\"\n",
    "        num_simplices, num_channels = x.shape\n",
    "        X = torch.empty(size=(num_simplices, num_channels, conv_order))\n",
    "        X[:, :, 0] = torch.mm(conv_operator, x)\n",
    "        for k in range(1, conv_order):\n",
    "            X[:, :, k] = torch.mm(conv_operator, X[:, :, k - 1])\n",
    "            if self.aggr_norm:\n",
    "                X[:, :, k] = self.aggr_norm_func(conv_operator, X[:, :, k])\n",
    "\n",
    "        return X\n",
    "\n",
    "    def forward(self, x: torch.Tensor) -> torch.Tensor:\n",
    "        \"\"\"\n",
    "        Forward pass of the GCN layer.\n",
    "\n",
    "        Args:\n",
    "            x (torch.Tensor): Input tensor of shape (num_simplices, in_channels).\n",
    "\n",
    "        Returns:\n",
    "            torch.Tensor: Output tensor of shape (num_simplices, out_channels).\n",
    "        \"\"\"\n",
    "        num_simplices, _ = x.shape\n",
    "        x_identity = torch.unsqueeze(x, 2)\n",
    "\n",
    "        if self.conv_order > 0:\n",
    "            x = self.chebyshev_conv(self.laplacian, self.conv_order, x)\n",
    "            x = torch.cat((x_identity, x), 2)\n",
    "\n",
    "        y = torch.einsum(\"nik,iok->no\", x, self.weight)\n",
    "\n",
    "        return y # Maybe have relu and sigmoid as update function options\n",
    "\n",
    "\n",
    "class GCNBlock(torch.nn.Module):\n",
    "    \"\"\"\n",
    "    Graph Convolutional Network (GCN) module composed of multiple GCNLayer layers.\n",
    "\n",
    "    Args:\n",
    "        in_channels (int): Number of input features per node.\n",
    "        hidden_channels (int): Number of hidden units in each hidden GCN layer.\n",
    "        laplacian (torch.Tensor): Laplacian matrix or convolution operator.\n",
    "        conv_order (int, optional): Order of the Chebyshev polynomial convolution. Default is 1.\n",
    "        aggr_norm (bool, optional): Whether to apply aggregation normalization. Default is False.\n",
    "        update_func (Optional[str], optional): Update function to use in GCNLayer ('relu', 'id', etc.). Default is None.\n",
    "        n_layers (int, optional): Number of GCN layers. Default is 2.\n",
    "    \"\"\"\n",
    "    def __init__(\n",
    "        self,\n",
    "        in_channels: int,\n",
    "        hidden_channels: int,\n",
    "        laplacian: torch.Tensor,\n",
    "        *,\n",
    "        conv_order: int = 1,\n",
    "        aggr_norm: bool = False,\n",
    "        update_func: str = None,\n",
    "        n_layers: int = 2,\n",
    "    ) -> None:\n",
    "        super().__init__()\n",
    "        self.layers: torch.nn.ModuleList = torch.nn.ModuleList(\n",
    "            [   \n",
    "                GCNLayer(\n",
    "                    in_channels=in_channels,\n",
    "                    out_channels=hidden_channels,\n",
    "                    conv_order=conv_order, \n",
    "                    laplacian=laplacian,\n",
    "                )\n",
    "            ]\n",
    "        )\n",
    "\n",
    "        for i in range(n_layers - 1):\n",
    "            if i == n_layers - 2: \n",
    "                out_channels = 1\n",
    "                layer_update_func = 'id'\n",
    "            else: \n",
    "                out_channels = hidden_channels\n",
    "                layer_update_func = 'relu'\n",
    "            self.layers.append(\n",
    "                GCNLayer(\n",
    "                    in_channels=hidden_channels,\n",
    "                    out_channels=out_channels,\n",
    "                    conv_order=conv_order,\n",
    "                    laplacian=laplacian,\n",
    "                    aggr_norm=aggr_norm,\n",
    "                    update_func=layer_update_func,\n",
    "                )\n",
    "            )\n",
    "            \n",
    "    def forward(self, x: torch.Tensor) -> torch.Tensor:\n",
    "        \"\"\"\n",
    "        Forward pass through the GCN.\n",
    "\n",
    "        Args:\n",
    "            x (torch.Tensor): Input tensor of shape (num_nodes, in_channels).\n",
    "\n",
    "        Returns:\n",
    "            torch.Tensor: Output tensor after passing through all GCN layers.\n",
    "        \"\"\"\n",
    "        for layer in self.layers:\n",
    "            x = layer(x)\n",
    "        return x\n",
    "\n",
    "\n",
    "class GCN(torch.nn.Module):\n",
    "    \"\"\"\n",
    "    Network using a combination of GCN and ResNet_FC modules with time embedding.\n",
    "\n",
    "    Args:\n",
    "        laplacian (torch.Tensor): Laplacian matrix of the graph (shape: [N, N]).\n",
    "        hidden_dim (int, optional): Number of hidden units in each layer. Default is 256.\n",
    "        time_embed_dim (int, optional): Dimensionality of the time embedding. Default is 128.\n",
    "    \"\"\"\n",
    "    def __init__(\n",
    "        self,\n",
    "        laplacian: torch.Tensor,\n",
    "        hidden_dim: int = 256,\n",
    "        time_embed_dim: int = 128\n",
    "    ) -> None:\n",
    "        super().__init__()\n",
    "        data_dim: int = laplacian.shape[-1]\n",
    "\n",
    "        self.time_embed_dim: int = time_embed_dim\n",
    "        hid: int = hidden_dim\n",
    "\n",
    "        self.t_module: torch.nn.Sequential = torch.nn.Sequential(\n",
    "            torch.nn.Linear(self.time_embed_dim, hid),\n",
    "            SiLU(),\n",
    "            torch.nn.Linear(hid, hid),\n",
    "        )\n",
    "\n",
    "        self.x_module1: GCN = GCNBlock(\n",
    "            in_channels=1,\n",
    "            hidden_channels=hidden_dim,\n",
    "            n_layers=2,\n",
    "            laplacian=laplacian\n",
    "        )\n",
    "        self.x_module2: ResNet_FC = ResNet_FC(\n",
    "            data_dim,\n",
    "            hidden_dim,\n",
    "            num_res_blocks=0\n",
    "        )\n",
    "\n",
    "        self.out_module: torch.nn.Sequential = torch.nn.Sequential(\n",
    "            torch.nn.Linear(hid, hid),\n",
    "            SiLU(),\n",
    "            torch.nn.Linear(hid, data_dim),\n",
    "        )\n",
    "\n",
    "    @property\n",
    "    def inner_dtype(self) -> torch.dtype:\n",
    "        \"\"\"\n",
    "        Get the dtype used by the torso of the model.\n",
    "\n",
    "        Returns:\n",
    "            torch.dtype: The dtype of the model's parameters.\n",
    "        \"\"\"\n",
    "        # Note: input_blocks is not defined in this class; this property may need to be updated.\n",
    "        return next(self.input_blocks.parameters()).dtype\n",
    "\n",
    "    def forward(self, t: torch.Tensor, x: torch.Tensor) -> torch.Tensor:\n",
    "        \"\"\"\n",
    "        Forward pass of the GCNPolicy.\n",
    "\n",
    "        Args:\n",
    "            t (torch.Tensor): 1-D tensor of timesteps.\n",
    "            x (torch.Tensor): Input tensor of shape [N, C, ...].\n",
    "\n",
    "        Returns:\n",
    "            torch.Tensor: Output tensor after processing through the network.\n",
    "        \"\"\"\n",
    "        # Ensure t has shape [T]\n",
    "        if len(t.shape) == 0:\n",
    "            t = t[None]\n",
    "\n",
    "        t_emb: torch.Tensor = timestep_embedding(t, self.time_embed_dim)\n",
    "        t_out: torch.Tensor = self.t_module(t_emb)\n",
    "\n",
    "        x = x.unsqueeze(-1)  # Add feature dimension for GCN\n",
    "        x_out = torch.empty_like(x)\n",
    "        for i in range(x.shape[0]):\n",
    "            x_out[i] = self.x_module1(x[i])\n",
    "\n",
    "        x_out = x_out.squeeze(-1)\n",
    "        x_out = self.x_module2(x_out)\n",
    "        out = self.out_module(x_out + t_out)\n",
    "\n",
    "        return out\n",
    "\n",
    "\n",
    "class ResidualNN(torch.nn.Module):\n",
    "    \"\"\"\n",
    "    Residual Neural Network module for time-dependent input.\n",
    "\n",
    "    Args:\n",
    "        data_dim (int): Dimensionality of the input data.\n",
    "        hidden_dim (int, optional): Number of hidden units in each layer. Default is 256.\n",
    "        time_embed_dim (int, optional): Dimensionality of the time embedding. Default is 128.\n",
    "        num_res_block (int, optional): Number of residual blocks in the ResNet_FC module. Default is 1.\n",
    "    \"\"\"\n",
    "    def __init__(\n",
    "        self, \n",
    "        data_dim: int, \n",
    "        hidden_dim: int = 256, \n",
    "        time_embed_dim: int = 128, \n",
    "        num_res_block: int = 1\n",
    "    ) -> None:\n",
    "        super().__init__()\n",
    "\n",
    "        self.time_embed_dim = time_embed_dim\n",
    "        hid = hidden_dim\n",
    "\n",
    "        self.t_module = torch.nn.Sequential(\n",
    "            torch.nn.Linear(self.time_embed_dim, hid),\n",
    "            SiLU(),\n",
    "            torch.nn.Linear(hid, hid),\n",
    "        )\n",
    "\n",
    "        self.x_module = ResNet_FC(data_dim, hidden_dim, num_res_blocks=num_res_block)\n",
    "\n",
    "        self.out_module = torch.nn.Sequential(\n",
    "            torch.nn.Linear(hid, hid),\n",
    "            SiLU(),\n",
    "            torch.nn.Linear(hid, data_dim),\n",
    "        )\n",
    "\n",
    "    def forward(self, t: torch.Tensor, x: torch.Tensor) -> torch.Tensor:\n",
    "        \"\"\"\n",
    "        Forward pass of the ResidualNN.\n",
    "\n",
    "        Args:\n",
    "            t (torch.Tensor): 1-D tensor of timesteps.\n",
    "            x (torch.Tensor): Input tensor of shape [N x C x ...].\n",
    "\n",
    "        Returns:\n",
    "            torch.Tensor: Output tensor after processing through the network.\n",
    "        \"\"\"\n",
    "        t = torch.atleast_1d(t)\n",
    "\n",
    "        t_emb = timestep_embedding(timesteps=t, dim=self.time_embed_dim)\n",
    "        t_out = self.t_module(t_emb)\n",
    "        x_out = self.x_module(x)\n",
    "        out = self.out_module(x_out + t_out)\n",
    "        return out\n",
    "\n",
    "\n",
    "class MLP(torch.nn.Module):\n",
    "    def __init__(self, dim: int, hidden_dim: int = 10):\n",
    "        super().__init__()\n",
    "        self.dim = dim\n",
    "        self.nn = torch.nn.Sequential(\n",
    "            torch.nn.Linear(1, hidden_dim),\n",
    "            torch.nn.ReLU(),\n",
    "            torch.nn.Linear(hidden_dim, hidden_dim),\n",
    "            torch.nn.ReLU(),\n",
    "            torch.nn.Linear(hidden_dim, dim),\n",
    "        )\n",
    "\n",
    "    def __call__(self, t: torch.Tensor) -> torch.Tensor:\n",
    "        return self.nn(t.unsqueeze(-1))\n",
    "\n",
    "\n",
    "class ResidualMLP(torch.nn.Module):\n",
    "    def __init__(self, dim: int, hidden_dim: int = 64, num_layers: int = 3):\n",
    "        super().__init__()\n",
    "        self.dim = dim\n",
    "        self.hidden_dim = hidden_dim\n",
    "        self.num_layers = num_layers\n",
    "\n",
    "        # Input layer: now takes both t and x as input\n",
    "        self.input_layer = torch.nn.Linear(1 + dim, hidden_dim)\n",
    "\n",
    "        # Hidden layers\n",
    "        self.hidden_layers = torch.nn.ModuleList()\n",
    "        for _ in range(num_layers - 1):\n",
    "            self.hidden_layers.append(torch.nn.Linear(hidden_dim, hidden_dim))\n",
    "\n",
    "        # Output layer\n",
    "        self.output_layer = torch.nn.Linear(hidden_dim, dim)\n",
    "\n",
    "        self.activation = torch.nn.ReLU()\n",
    "\n",
    "    def forward(self, t: torch.Tensor, x: torch.Tensor) -> torch.Tensor:\n",
    "        # Concatenate t and x along the last dimension\n",
    "        t = t.unsqueeze(-1) if t.ndim == x.ndim - 1 else t\n",
    "        inp = torch.cat([t, x], dim=-1)\n",
    "        out = self.input_layer(inp)\n",
    "        for layer in self.hidden_layers:\n",
    "            residual = out\n",
    "            out = self.activation(out)\n",
    "            out = layer(out)\n",
    "            out = out + residual  # Residual connection\n",
    "        out = self.activation(out)\n",
    "        out = self.output_layer(out)\n",
    "        return out"
   ]
  },
  {
   "cell_type": "markdown",
   "id": "de51c13e",
   "metadata": {},
   "source": [
    "## Training and Evaluation"
   ]
  },
  {
   "cell_type": "code",
   "execution_count": 161,
   "id": "33aebdd4",
   "metadata": {},
   "outputs": [],
   "source": [
    "def get_optimizer(model: torch.nn.Module, lr: float, *, name: str = \"adamw\") -> torch.optim.Optimizer:\n",
    "    if name == \"adam\":\n",
    "        return torch.optim.AdamW(model.parameters(), lr=lr)\n",
    "    if name == \"adamw\":\n",
    "        return torch.optim.AdamW(model.parameters(), lr=lr)\n",
    "    raise ValueError(f\"Unknown optimizer: {str}\")\n",
    "\n",
    "\n",
    "def train(\n",
    "    sde: SDE,\n",
    "    ot_solver: OTSolver,\n",
    "    model: torch.nn.Module, \n",
    "    x0: torch.Tensor, \n",
    "    x1: torch.Tensor, \n",
    "    *, \n",
    "    num_epochs: int = 100, \n",
    "    batch_size: int = 64, \n",
    "    num_samples_per_epoch: int = 1024, \n",
    "    optimizer: torch.optim.Optimizer | str = \"adamw\",\n",
    "    lr: float = 0.001, \n",
    "    time_sampler: TimeSampler | None = None,\n",
    ") -> list[float]:\n",
    "    \"\"\"\n",
    "    Trains a model to match the two distributions x0 and x1. \n",
    "    TODO Maybe move OT solver to be an argument.\n",
    "    \"\"\"\n",
    "\n",
    "    num_batches_per_epoch = num_samples_per_epoch // batch_size\n",
    "    dataset = MatchingDataset(x0, x1, time_sampler=time_sampler)\n",
    "    batch_sampler = OTBatchSampler(dataset, ot_solver, batch_size=batch_size, num_samples=num_samples_per_epoch)\n",
    "    data_loader = MatchingDataLoader(dataset, batch_sampler=batch_sampler)\n",
    "\n",
    "    if isinstance(optimizer, str):\n",
    "        optimizer = get_optimizer(model, lr, name=optimizer)\n",
    "\n",
    "    objective = torch.nn.MSELoss()\n",
    "    ema = ExponentialMovingAverage(model.parameters(), decay=0.99)\n",
    "\n",
    "    per_batch_losses = []\n",
    "    with tqdm(range(num_epochs), desc=\"Epochs\") as pbar:\n",
    "        for _ in pbar:\n",
    "            epoch_loss = 0.0\n",
    "            for batch_t, batch_x0, batch_x1 in data_loader:\n",
    "                # sample xt, compute targets and predictions\n",
    "                batch_x = sde.marginal_distribution(t=batch_t, x0=batch_x0, x1=batch_x1).sample()\n",
    "                ut = bridge_control(sde=sde, t=batch_t, x=batch_x, x1=batch_x1)\n",
    "                ut_preds = model(batch_t, batch_x)\n",
    "\n",
    "                # Generic loss computation and backprop\n",
    "                loss = objective(ut, ut_preds)\n",
    "                loss.backward()\n",
    "                optimizer.step()\n",
    "                batch_loss = loss.item()\n",
    "                per_batch_losses.append(batch_loss)\n",
    "                epoch_loss += batch_loss\n",
    "                optimizer.zero_grad()\n",
    "                ema.update()\n",
    "            avg_loss = epoch_loss / num_batches_per_epoch\n",
    "            pbar.set_postfix({\"avg_loss\": f\"{avg_loss:.4f}\"})\n",
    "\n",
    "    return per_batch_losses\n",
    "\n",
    "\n",
    "def wasserstein_distance(x0: torch.Tensor, x1: torch.Tensor, *, p: int = 1, blur: float = 0.05) -> float:\n",
    "    if p == 1:\n",
    "        return SamplesLoss(loss=\"sinkhorn\", p=1, blur=.05)(x0, x1)\n",
    "    if p == 2: \n",
    "        return SamplesLoss(loss=\"sinkhorn\", p=2, blur=.05)(x0, x1).sqrt() \n",
    "    raise ValueError(f\"We only use Wasserstein-1 and Wasserstein-2 distances for model evaluation, not {p}.\")"
   ]
  },
  {
   "cell_type": "markdown",
   "id": "6c1ea67f",
   "metadata": {},
   "source": [
    "## Simple 2d example"
   ]
  },
  {
   "cell_type": "code",
   "execution_count": 169,
   "id": "4271736b",
   "metadata": {},
   "outputs": [
    {
     "name": "stderr",
     "output_type": "stream",
     "text": [
      "Epochs: 100%|██████████| 1000/1000 [00:45<00:00, 22.13it/s, avg_loss=0.3614]\n"
     ]
    },
    {
     "data": {
      "image/png": "[encoded data removed]",
      "text/plain": [
       "<Figure size 800x400 with 1 Axes>"
      ]
     },
     "metadata": {},
     "output_type": "display_data"
    }
   ],
   "source": [
    "delta_mu = torch.tensor([3.0, 0.0])\n",
    "\n",
    "mu0, sigma0 = torch.zeros(2) + delta_mu, torch.eye(2) * 0.3\n",
    "R0 = torch.distributions.MultivariateNormal(loc=mu0, covariance_matrix=sigma0)\n",
    "\n",
    "r = 3.0\n",
    "mu11, sigma11 = torch.tensor([0.0, 2.0]) * r + delta_mu, torch.eye(2) * 0.1\n",
    "mu12, sigma12 = torch.tensor([-1.5, -1.0]) * r + delta_mu, torch.eye(2) * 0.1\n",
    "mu13, sigma13 = torch.tensor([1.5, -1.0]) * r + delta_mu, torch.eye(2) * 0.1\n",
    "component_distribution = torch.distributions.MultivariateNormal(\n",
    "    loc=torch.stack([mu11, mu12, mu13], dim=0), \n",
    "    covariance_matrix=torch.stack([sigma11, sigma12, sigma13], dim=0)\n",
    ")\n",
    "mixture_distribution = torch.distributions.Categorical(probs=torch.tensor([1/3, 1/3, 1/3]))\n",
    "R1 = torch.distributions.MixtureSameFamily(\n",
    "    mixture_distribution=mixture_distribution, \n",
    "    component_distribution=component_distribution\n",
    ")\n",
    "\n",
    "n_samples = 1000\n",
    "x0 = R0.sample((n_samples,))\n",
    "x1 = R1.sample((n_samples,))\n",
    "\n",
    "sigma = 0.0\n",
    "c = 2.0\n",
    "\n",
    "\n",
    "L = torch.eye(2)\n",
    "sde = HeatBMTSDE(L=L, c=c, sigma=sigma)\n",
    "# ot_solver = EntropicOTSolver(sde=sde, normalize_variance=True)\n",
    "ot_solver = OTSolver(sde=sde, epsilon=0.0)\n",
    "time_sampler = DiscreteTimeSampler(timesteps=UniformTimesteps(n=100))\n",
    "# time_sampler = UniformTimeSampler()\n",
    "\n",
    "model = ResidualNN(data_dim=2)\n",
    "# model = GCN(L)\n",
    "\n",
    "per_batch_losses = train(sde, ot_solver, model, x0, x1, num_epochs=1000, batch_size=1024, num_samples_per_epoch=1024, lr=0.0001, time_sampler=time_sampler)\n",
    "\n",
    "\n",
    "# Plot per-batch loss after training\n",
    "plt.figure(figsize=(8, 4))\n",
    "plt.plot(per_batch_losses, label=\"Per-batch loss\")\n",
    "plt.xlabel(\"Batch\")\n",
    "plt.ylabel(\"Loss\")\n",
    "plt.title(\"Per-batch Loss During Training\")\n",
    "plt.legend()\n",
    "plt.tight_layout()\n",
    "plt.show()"
   ]
  },
  {
   "cell_type": "code",
   "execution_count": 170,
   "id": "aa9b43ea",
   "metadata": {},
   "outputs": [
    {
     "data": {
      "image/png": "[encoded data removed]",
      "text/plain": [
       "<Figure size 800x600 with 2 Axes>"
      ]
     },
     "metadata": {},
     "output_type": "display_data"
    }
   ],
   "source": [
    "with torch.no_grad():\n",
    "    model_control = ModelControl(model=model)\n",
    "    sde_solver = EulerMaruyamaSolver(sde=sde, n=1000)\n",
    "    x0s_test = R0.sample((1000,))\n",
    "    x1s_test = R1.sample((1000,))\n",
    "\n",
    "    xts, ts = sde_solver.sample_path(x0s_test, control=model_control)\n",
    "    xts = sde.inverse_transform(xts)\n",
    "\n",
    "\n",
    "# Assume xts shape: [N, T, D] or [T, D] if single batch\n",
    "xts_np = xts.detach().cpu().numpy()\n",
    "ts_np = ts.detach().cpu().numpy()\n",
    "\n",
    "# Ensure shape is [N, T, D]\n",
    "if xts_np.ndim == 2:\n",
    "    xts_np = xts_np[None, ...]  # [1, T, D]\n",
    "\n",
    "N, T, D = xts_np.shape\n",
    "assert D == 2, \"D must be 2 for 2D plotting\"\n",
    "\n",
    "# Prepare segments for LineCollection: each path is (T, 2), segments are (T-1, 2, 2)\n",
    "segments = []\n",
    "colors = []\n",
    "norm = plt.Normalize(ts_np.min(), ts_np.max())\n",
    "# Use a blue-to-red colormap\n",
    "cmap = plt.get_cmap('coolwarm')  # blue (low) to red (high)\n",
    "\n",
    "# Use a single alpha value for all lines\n",
    "global_alpha = 0.02\n",
    "\n",
    "for i in range(N):\n",
    "    points = xts_np[i, :, :2]\n",
    "    segs = np.stack([points[:-1], points[1:]], axis=1)  # (T-1, 2, 2)\n",
    "    segments.append(segs)\n",
    "    # Color for each segment (time-varying colormap, fixed alpha)\n",
    "    t_mid = (ts_np[:-1] + ts_np[1:]) / 2\n",
    "    seg_colors = cmap(norm(t_mid))\n",
    "    seg_colors[:, -1] = global_alpha  # Set the same alpha for all segments\n",
    "    colors.append(seg_colors)\n",
    "\n",
    "# Concatenate all segments and colors\n",
    "all_segments = np.concatenate(segments, axis=0)\n",
    "all_colors = np.concatenate(colors, axis=0)\n",
    "\n",
    "fig, ax = plt.subplots(figsize=(8, 6))\n",
    "lc = LineCollection(all_segments, colors=all_colors, linewidths=1)\n",
    "ax.add_collection(lc)\n",
    "\n",
    "# Add scatterplot of xmids, black markers\n",
    "x0s_test_np = x0s_test.detach().cpu().numpy()\n",
    "x1s_test_np = x1s_test.detach().cpu().numpy()\n",
    "x1s_pred_np = xts_np[:, -1]\n",
    "ax.scatter(x0s_test_np[:, 0], x0s_test_np[:, 1], color='blue', marker='o', s=10, alpha=0.3, label='R0')\n",
    "ax.scatter(x1s_test_np[:, 0], x1s_test_np[:, 1], color='red', marker='o', s=10, alpha=0.3, label='R1')\n",
    "ax.scatter(x1s_pred_np[:, 0], x1s_pred_np[:, 1], color='green', marker='o', s=10, alpha=0.3, label='Transported R0')\n",
    "ax.legend(loc='upper right')\n",
    "\n",
    "\n",
    "# Set axis limits\n",
    "all_x = xts_np[..., 0].ravel()\n",
    "all_y = xts_np[..., 1].ravel()\n",
    "ax.set_xlim(all_x.min(), all_x.max())\n",
    "ax.set_ylim(all_y.min(), all_y.max())\n",
    "\n",
    "ax.set_xlabel('x[0]')\n",
    "ax.set_ylabel('x[1]')\n",
    "ax.set_title('Sample Paths')\n",
    "\n",
    "# Colorbar for time\n",
    "sm = plt.cm.ScalarMappable(cmap=cmap, norm=norm)\n",
    "sm.set_array([])\n",
    "cbar = plt.colorbar(sm, ax=ax, label='Time')\n",
    "plt.show()\n"
   ]
  },
  {
   "cell_type": "markdown",
   "id": "edcc09a9",
   "metadata": {},
   "source": [
    "# Brain Connectome Experiment"
   ]
  },
  {
   "cell_type": "markdown",
   "id": "de5b2234",
   "metadata": {},
   "source": [
    "## Data download"
   ]
  },
  {
   "cell_type": "code",
   "execution_count": 164,
   "id": "02656d6f",
   "metadata": {},
   "outputs": [],
   "source": [
    "import pandas as pd\n",
    "import os\n",
    "\n",
    "\n",
    "def download_brain_regions_centroids(data_dir: str = './datasets/brain_signals/'):\n",
    "    csv_url = \"https://bitbucket.org/dpat/tools/raw/master/REF/ATLASES/HCP-MMP1_UniqueRegionList.csv\"\n",
    "    brain_regions_centroids_df = pd.read_csv(\n",
    "        csv_url, \n",
    "        usecols=[\"x-cog\", \"y-cog\", \"z-cog\"],\n",
    "        dtype={\"x-cog\": float, \"y-cog\": float, \"z-cog\": float},\n",
    "    ).rename(columns={\"x-cog\": \"x\", \"y-cog\": \"y\", \"z-cog\": \"z\"})\n",
    "    brain_regions_centroids_df.to_csv(os.path.join(data_dir, \"brain_regions_centroids.csv\"), index=False)\n",
    "\n",
    "\n",
    "def load_brain_regions_centroids(data_dir: str = './datasets/brain_signals/'):\n",
    "    return pd.read_csv(os.path.join(data_dir, \"brain_regions_centroids.csv\"))\n",
    "\n",
    "\n",
    "def plot_brain_signal_3d(signal: torch.Tensor | None = None, width: int = 500, height: int = 500, marker_size: int = 5):\n",
    "    df = load_brain_regions_centroids()\n",
    "    if signal is not None:\n",
    "        df = df.assign(signal=signal.detach().cpu().numpy())\n",
    "        fig = px.scatter_3d(df, x='x', y='y', z='z', color='signal')\n",
    "    else:\n",
    "        fig = px.scatter_3d(df, x='x', y='y', z='z')\n",
    "    fig.update_traces(marker_size=marker_size)\n",
    "    fig.update_layout(width=width, height=height)\n",
    "    fig.show()\n",
    "    return fig \n",
    "\n",
    "\n",
    "def plot_brain_signal_2d(signal: torch.Tensor | None = None, width: int = 400, height: int = 400, marker_size: int = 6):\n",
    "    df = load_brain_regions_centroids()\n",
    "    if signal is not None:\n",
    "        df = df.assign(signal=signal.detach().cpu().numpy())\n",
    "        fig = px.scatter(df, x='x', y='y', color='signal')\n",
    "    else:\n",
    "        fig = px.scatter(df, x='x', y='y')\n",
    "    fig.update_traces(marker_size=marker_size)\n",
    "    fig.update_layout(width=width, height=height)\n",
    "    fig.show()\n",
    "    return fig \n",
    "\n",
    "\n",
    "def load_brain_data() -> tuple[torch.Tensor, torch.Tensor, torch.Tensor, torch.Tensor, torch.Tensor, torch.Tensor, torch.Tensor]:\n",
    "    \"\"\"\n",
    "    Loads the brain data from the .mat files and splits it into training and test sets.\n",
    "    Returns:\n",
    "        x0: [N, D] Training samples from the aligned dataset.\n",
    "        x1: [N, D] Training samples from the liberal dataset.\n",
    "        x0_train: [N_train, D] Training samples from the aligned dataset.\n",
    "        x0_test: [N_test, D] Test samples from the aligned dataset.\n",
    "        x1_train: [N_train, D] Training samples from the liberal dataset.\n",
    "        x1_test: [N_test, D] Test samples from the liberal dataset.\n",
    "    \"\"\"\n",
    "    laplacian = scipy.io.loadmat('./datasets/brain_signals/lap.mat')['L']\n",
    "\n",
    "    x0 = scipy.io.loadmat('./datasets/brain_signals/aligned.mat')['Xa'].T\n",
    "    x1 = scipy.io.loadmat('./datasets/brain_signals/liberal.mat')['Xl'].T\n",
    "\n",
    "    # Split data into training and test sets\n",
    "    num_train = int(0.8 * x0.shape[0])\n",
    "    num_test = x0.shape[0] - num_train\n",
    "    x = np.arange(x0.shape[0])\n",
    "    random_perm = np.random.permutation(x)\n",
    "    train_ids, test_ids = random_perm[:num_train], random_perm[num_train:]\n",
    "    x0_train, x0_test = x0[train_ids], x0[test_ids]\n",
    "    x1_train, x1_test = x1[train_ids], x1[test_ids]\n",
    "    return laplacian, x0, x1, x0_train, x0_test, x1_train, x1_test"
   ]
  },
  {
   "cell_type": "markdown",
   "id": "e97ed56f",
   "metadata": {},
   "source": [
    "## Modelling"
   ]
  },
  {
   "cell_type": "code",
   "execution_count": null,
   "id": "3d07c12f",
   "metadata": {},
   "outputs": [
    {
     "ename": "",
     "evalue": "",
     "output_type": "error",
     "traceback": [
      "\u001b[1;31mThe Kernel crashed while executing code in the current cell or a previous cell. \n",
      "\u001b[1;31mPlease review the code in the cell(s) to identify a possible cause of the failure. \n",
      "\u001b[1;31mClick <a href='https://aka.ms/vscodeJupyterKernelCrash'>here</a> for more info. \n",
      "\u001b[1;31mView Jupyter <a href='command:jupyter.viewOutput'>log</a> for further details."
     ]
    }
   ],
   "source": [
    "L, x0, x1, x0_train, x0_test, x1_train, x1_test = as_tensors(*load_brain_data())\n",
    "\n",
    "c = 2.0\n",
    "sigma = 0.2\n",
    "sde = HeatBMTSDE(L=L, c=c, sigma=sigma)\n",
    "ot_solver = OTSolver(sde=sde, normalize_variance=False, epsilon=0.0)\n",
    "# model = GCN(L)\n",
    "model = ResidualNN(data_dim=x0.shape[-1])\n",
    "\n",
    "\n",
    "training_losses = train(sde, ot_solver, model, x0_train, x1_train, num_epochs=100, batch_size=64, num_samples_per_epoch=1024, lr=0.001)\n",
    "px.line(training_losses)"
   ]
  },
  {
   "cell_type": "code",
   "execution_count": 168,
   "id": "25bb5c68",
   "metadata": {},
   "outputs": [
    {
     "name": "stdout",
     "output_type": "stream",
     "text": [
      "Wasserstein-1 distance: 21.9974\n",
      "Wasserstein-2 distance: 15.6121\n"
     ]
    },
    {
     "data": {
      "application/vnd.plotly.v1+json": {
       "config": {
        "plotlyServerURL": "https://plot.ly"
       },
       "data": [
        {
         "hovertemplate": "x=%{x}<br>y=%{y}<br>signal=%{marker.color}<extra></extra>",
         "legendgroup": "",
         "marker": {
          "color": {
           "bdata": "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",
           "dtype": "f8"
          },
          "coloraxis": "coloraxis",
          "size": 6,
          "symbol": "circle"
         },
         "mode": "markers",
         "name": "",
         "orientation": "v",
         "showlegend": false,
         "type": "scatter",
         "x": {
          "bdata": "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",
          "dtype": "f8"
         },
         "xaxis": "x",
         "y": {
          "bdata": "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",
          "dtype": "f8"
         },
         "yaxis": "y"
        }
       ],
       "layout": {
        "coloraxis": {
         "colorbar": {
          "title": {
           "text": "signal"
          }
         },
         "colorscale": [
          [
           0,
           "#0d0887"
          ],
          [
           0.1111111111111111,
           "#46039f"
          ],
          [
           0.2222222222222222,
           "#7201a8"
          ],
          [
           0.3333333333333333,
           "#9c179e"
          ],
          [
           0.4444444444444444,
           "#bd3786"
          ],
          [
           0.5555555555555556,
           "#d8576b"
          ],
          [
           0.6666666666666666,
           "#ed7953"
          ],
          [
           0.7777777777777778,
           "#fb9f3a"
          ],
          [
           0.8888888888888888,
           "#fdca26"
          ],
          [
           1,
           "#f0f921"
          ]
         ]
        },
        "height": 400,
        "legend": {
         "tracegroupgap": 0
        },
        "margin": {
         "t": 60
        },
        "template": {
         "data": {
          "bar": [
           {
            "error_x": {
             "color": "#2a3f5f"
            },
            "error_y": {
             "color": "#2a3f5f"
            },
            "marker": {
             "line": {
              "color": "#E5ECF6",
              "width": 0.5
             },
             "pattern": {
              "fillmode": "overlay",
              "size": 10,
              "solidity": 0.2
             }
            },
            "type": "bar"
           }
          ],
          "barpolar": [
           {
            "marker": {
             "line": {
              "color": "#E5ECF6",
              "width": 0.5
             },
             "pattern": {
              "fillmode": "overlay",
              "size": 10,
              "solidity": 0.2
             }
            },
            "type": "barpolar"
           }
          ],
          "carpet": [
           {
            "aaxis": {
             "endlinecolor": "#2a3f5f",
             "gridcolor": "white",
             "linecolor": "white",
             "minorgridcolor": "white",
             "startlinecolor": "#2a3f5f"
            },
            "baxis": {
             "endlinecolor": "#2a3f5f",
             "gridcolor": "white",
             "linecolor": "white",
             "minorgridcolor": "white",
             "startlinecolor": "#2a3f5f"
            },
            "type": "carpet"
           }
          ],
          "choropleth": [
           {
            "colorbar": {
             "outlinewidth": 0,
             "ticks": ""
            },
            "type": "choropleth"
           }
          ],
          "contour": [
           {
            "colorbar": {
             "outlinewidth": 0,
             "ticks": ""
            },
            "colorscale": [
             [
              0,
              "#0d0887"
             ],
             [
              0.1111111111111111,
              "#46039f"
             ],
             [
              0.2222222222222222,
              "#7201a8"
             ],
             [
              0.3333333333333333,
              "#9c179e"
             ],
             [
              0.4444444444444444,
              "#bd3786"
             ],
             [
              0.5555555555555556,
              "#d8576b"
             ],
             [
              0.6666666666666666,
              "#ed7953"
             ],
             [
              0.7777777777777778,
              "#fb9f3a"
             ],
             [
              0.8888888888888888,
              "#fdca26"
             ],
             [
              1,
              "#f0f921"
             ]
            ],
            "type": "contour"
           }
          ],
          "contourcarpet": [
           {
            "colorbar": {
             "outlinewidth": 0,
             "ticks": ""
            },
            "type": "contourcarpet"
           }
          ],
          "heatmap": [
           {
            "colorbar": {
             "outlinewidth": 0,
             "ticks": ""
            },
            "colorscale": [
             [
              0,
              "#0d0887"
             ],
             [
              0.1111111111111111,
              "#46039f"
             ],
             [
              0.2222222222222222,
              "#7201a8"
             ],
             [
              0.3333333333333333,
              "#9c179e"
             ],
             [
              0.4444444444444444,
              "#bd3786"
             ],
             [
              0.5555555555555556,
              "#d8576b"
             ],
             [
              0.6666666666666666,
              "#ed7953"
             ],
             [
              0.7777777777777778,
              "#fb9f3a"
             ],
             [
              0.8888888888888888,
              "#fdca26"
             ],
             [
              1,
              "#f0f921"
             ]
            ],
            "type": "heatmap"
           }
          ],
          "histogram": [
           {
            "marker": {
             "pattern": {
              "fillmode": "overlay",
              "size": 10,
              "solidity": 0.2
             }
            },
            "type": "histogram"
           }
          ],
          "histogram2d": [
           {
            "colorbar": {
             "outlinewidth": 0,
             "ticks": ""
            },
            "colorscale": [
             [
              0,
              "#0d0887"
             ],
             [
              0.1111111111111111,
              "#46039f"
             ],
             [
              0.2222222222222222,
              "#7201a8"
             ],
             [
              0.3333333333333333,
              "#9c179e"
             ],
             [
              0.4444444444444444,
              "#bd3786"
             ],
             [
              0.5555555555555556,
              "#d8576b"
             ],
             [
              0.6666666666666666,
              "#ed7953"
             ],
             [
              0.7777777777777778,
              "#fb9f3a"
             ],
             [
              0.8888888888888888,
              "#fdca26"
             ],
             [
              1,
              "#f0f921"
             ]
            ],
            "type": "histogram2d"
           }
          ],
          "histogram2dcontour": [
           {
            "colorbar": {
             "outlinewidth": 0,
             "ticks": ""
            },
            "colorscale": [
             [
              0,
              "#0d0887"
             ],
             [
              0.1111111111111111,
              "#46039f"
             ],
             [
              0.2222222222222222,
              "#7201a8"
             ],
             [
              0.3333333333333333,
              "#9c179e"
             ],
             [
              0.4444444444444444,
              "#bd3786"
             ],
             [
              0.5555555555555556,
              "#d8576b"
             ],
             [
              0.6666666666666666,
              "#ed7953"
             ],
             [
              0.7777777777777778,
              "#fb9f3a"
             ],
             [
              0.8888888888888888,
              "#fdca26"
             ],
             [
              1,
              "#f0f921"
             ]
            ],
            "type": "histogram2dcontour"
           }
          ],
          "mesh3d": [
           {
            "colorbar": {
             "outlinewidth": 0,
             "ticks": ""
            },
            "type": "mesh3d"
           }
          ],
          "parcoords": [
           {
            "line": {
             "colorbar": {
              "outlinewidth": 0,
              "ticks": ""
             }
            },
            "type": "parcoords"
           }
          ],
          "pie": [
           {
            "automargin": true,
            "type": "pie"
           }
          ],
          "scatter": [
           {
            "fillpattern": {
             "fillmode": "overlay",
             "size": 10,
             "solidity": 0.2
            },
            "type": "scatter"
           }
          ],
          "scatter3d": [
           {
            "line": {
             "colorbar": {
              "outlinewidth": 0,
              "ticks": ""
             }
            },
            "marker": {
             "colorbar": {
              "outlinewidth": 0,
              "ticks": ""
             }
            },
            "type": "scatter3d"
           }
          ],
          "scattercarpet": [
           {
            "marker": {
             "colorbar": {
              "outlinewidth": 0,
              "ticks": ""
             }
            },
            "type": "scattercarpet"
           }
          ],
          "scattergeo": [
           {
            "marker": {
             "colorbar": {
              "outlinewidth": 0,
              "ticks": ""
             }
            },
            "type": "scattergeo"
           }
          ],
          "scattergl": [
           {
            "marker": {
             "colorbar": {
              "outlinewidth": 0,
              "ticks": ""
             }
            },
            "type": "scattergl"
           }
          ],
          "scattermap": [
           {
            "marker": {
             "colorbar": {
              "outlinewidth": 0,
              "ticks": ""
             }
            },
            "type": "scattermap"
           }
          ],
          "scattermapbox": [
           {
            "marker": {
             "colorbar": {
              "outlinewidth": 0,
              "ticks": ""
             }
            },
            "type": "scattermapbox"
           }
          ],
          "scatterpolar": [
           {
            "marker": {
             "colorbar": {
              "outlinewidth": 0,
              "ticks": ""
             }
            },
            "type": "scatterpolar"
           }
          ],
          "scatterpolargl": [
           {
            "marker": {
             "colorbar": {
              "outlinewidth": 0,
              "ticks": ""
             }
            },
            "type": "scatterpolargl"
           }
          ],
          "scatterternary": [
           {
            "marker": {
             "colorbar": {
              "outlinewidth": 0,
              "ticks": ""
             }
            },
            "type": "scatterternary"
           }
          ],
          "surface": [
           {
            "colorbar": {
             "outlinewidth": 0,
             "ticks": ""
            },
            "colorscale": [
             [
              0,
              "#0d0887"
             ],
             [
              0.1111111111111111,
              "#46039f"
             ],
             [
              0.2222222222222222,
              "#7201a8"
             ],
             [
              0.3333333333333333,
              "#9c179e"
             ],
             [
              0.4444444444444444,
              "#bd3786"
             ],
             [
              0.5555555555555556,
              "#d8576b"
             ],
             [
              0.6666666666666666,
              "#ed7953"
             ],
             [
              0.7777777777777778,
              "#fb9f3a"
             ],
             [
              0.8888888888888888,
              "#fdca26"
             ],
             [
              1,
              "#f0f921"
             ]
            ],
            "type": "surface"
           }
          ],
          "table": [
           {
            "cells": {
             "fill": {
              "color": "#EBF0F8"
             },
             "line": {
              "color": "white"
             }
            },
            "header": {
             "fill": {
              "color": "#C8D4E3"
             },
             "line": {
              "color": "white"
             }
            },
            "type": "table"
           }
          ]
         },
         "layout": {
          "annotationdefaults": {
           "arrowcolor": "#2a3f5f",
           "arrowhead": 0,
           "arrowwidth": 1
          },
          "autotypenumbers": "strict",
          "coloraxis": {
           "colorbar": {
            "outlinewidth": 0,
            "ticks": ""
           }
          },
          "colorscale": {
           "diverging": [
            [
             0,
             "#8e0152"
            ],
            [
             0.1,
             "#c51b7d"
            ],
            [
             0.2,
             "#de77ae"
            ],
            [
             0.3,
             "#f1b6da"
            ],
            [
             0.4,
             "#fde0ef"
            ],
            [
             0.5,
             "#f7f7f7"
            ],
            [
             0.6,
             "#e6f5d0"
            ],
            [
             0.7,
             "#b8e186"
            ],
            [
             0.8,
             "#7fbc41"
            ],
            [
             0.9,
             "#4d9221"
            ],
            [
             1,
             "#276419"
            ]
           ],
           "sequential": [
            [
             0,
             "#0d0887"
            ],
            [
             0.1111111111111111,
             "#46039f"
            ],
            [
             0.2222222222222222,
             "#7201a8"
            ],
            [
             0.3333333333333333,
             "#9c179e"
            ],
            [
             0.4444444444444444,
             "#bd3786"
            ],
            [
             0.5555555555555556,
             "#d8576b"
            ],
            [
             0.6666666666666666,
             "#ed7953"
            ],
            [
             0.7777777777777778,
             "#fb9f3a"
            ],
            [
             0.8888888888888888,
             "#fdca26"
            ],
            [
             1,
             "#f0f921"
            ]
           ],
           "sequentialminus": [
            [
             0,
             "#0d0887"
            ],
            [
             0.1111111111111111,
             "#46039f"
            ],
            [
             0.2222222222222222,
             "#7201a8"
            ],
            [
             0.3333333333333333,
             "#9c179e"
            ],
            [
             0.4444444444444444,
             "#bd3786"
            ],
            [
             0.5555555555555556,
             "#d8576b"
            ],
            [
             0.6666666666666666,
             "#ed7953"
            ],
            [
             0.7777777777777778,
             "#fb9f3a"
            ],
            [
             0.8888888888888888,
             "#fdca26"
            ],
            [
             1,
             "#f0f921"
            ]
           ]
          },
          "colorway": [
           "#636efa",
           "#EF553B",
           "#00cc96",
           "#ab63fa",
           "#FFA15A",
           "#19d3f3",
           "#FF6692",
           "#B6E880",
           "#FF97FF",
           "#FECB52"
          ],
          "font": {
           "color": "#2a3f5f"
          },
          "geo": {
           "bgcolor": "white",
           "lakecolor": "white",
           "landcolor": "#E5ECF6",
           "showlakes": true,
           "showland": true,
           "subunitcolor": "white"
          },
          "hoverlabel": {
           "align": "left"
          },
          "hovermode": "closest",
          "mapbox": {
           "style": "light"
          },
          "paper_bgcolor": "white",
          "plot_bgcolor": "#E5ECF6",
          "polar": {
           "angularaxis": {
            "gridcolor": "white",
            "linecolor": "white",
            "ticks": ""
           },
           "bgcolor": "#E5ECF6",
           "radialaxis": {
            "gridcolor": "white",
            "linecolor": "white",
            "ticks": ""
           }
          },
          "scene": {
           "xaxis": {
            "backgroundcolor": "#E5ECF6",
            "gridcolor": "white",
            "gridwidth": 2,
            "linecolor": "white",
            "showbackground": true,
            "ticks": "",
            "zerolinecolor": "white"
           },
           "yaxis": {
            "backgroundcolor": "#E5ECF6",
            "gridcolor": "white",
            "gridwidth": 2,
            "linecolor": "white",
            "showbackground": true,
            "ticks": "",
            "zerolinecolor": "white"
           },
           "zaxis": {
            "backgroundcolor": "#E5ECF6",
            "gridcolor": "white",
            "gridwidth": 2,
            "linecolor": "white",
            "showbackground": true,
            "ticks": "",
            "zerolinecolor": "white"
           }
          },
          "shapedefaults": {
           "line": {
            "color": "#2a3f5f"
           }
          },
          "ternary": {
           "aaxis": {
            "gridcolor": "white",
            "linecolor": "white",
            "ticks": ""
           },
           "baxis": {
            "gridcolor": "white",
            "linecolor": "white",
            "ticks": ""
           },
           "bgcolor": "#E5ECF6",
           "caxis": {
            "gridcolor": "white",
            "linecolor": "white",
            "ticks": ""
           }
          },
          "title": {
           "x": 0.05
          },
          "xaxis": {
           "automargin": true,
           "gridcolor": "white",
           "linecolor": "white",
           "ticks": "",
           "title": {
            "standoff": 15
           },
           "zerolinecolor": "white",
           "zerolinewidth": 2
          },
          "yaxis": {
           "automargin": true,
           "gridcolor": "white",
           "linecolor": "white",
           "ticks": "",
           "title": {
            "standoff": 15
           },
           "zerolinecolor": "white",
           "zerolinewidth": 2
          }
         }
        },
        "width": 400,
        "xaxis": {
         "anchor": "y",
         "domain": [
          0,
          1
         ],
         "title": {
          "text": "x"
         }
        },
        "yaxis": {
         "anchor": "x",
         "domain": [
          0,
          1
         ],
         "title": {
          "text": "y"
         }
        }
       }
      }
     },
     "metadata": {},
     "output_type": "display_data"
    },
    {
     "data": {
      "application/vnd.plotly.v1+json": {
       "config": {
        "plotlyServerURL": "https://plot.ly"
       },
       "data": [
        {
         "hovertemplate": "x=%{x}<br>y=%{y}<br>signal=%{marker.color}<extra></extra>",
         "legendgroup": "",
         "marker": {
          "color": {
           "bdata": "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",
           "dtype": "f8"
          },
          "coloraxis": "coloraxis",
          "size": 6,
          "symbol": "circle"
         },
         "mode": "markers",
         "name": "",
         "orientation": "v",
         "showlegend": false,
         "type": "scatter",
         "x": {
          "bdata": "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",
          "dtype": "f8"
         },
         "xaxis": "x",
         "y": {
          "bdata": "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",
          "dtype": "f8"
         },
         "yaxis": "y"
        }
       ],
       "layout": {
        "coloraxis": {
         "colorbar": {
          "title": {
           "text": "signal"
          }
         },
         "colorscale": [
          [
           0,
           "#0d0887"
          ],
          [
           0.1111111111111111,
           "#46039f"
          ],
          [
           0.2222222222222222,
           "#7201a8"
          ],
          [
           0.3333333333333333,
           "#9c179e"
          ],
          [
           0.4444444444444444,
           "#bd3786"
          ],
          [
           0.5555555555555556,
           "#d8576b"
          ],
          [
           0.6666666666666666,
           "#ed7953"
          ],
          [
           0.7777777777777778,
           "#fb9f3a"
          ],
          [
           0.8888888888888888,
           "#fdca26"
          ],
          [
           1,
           "#f0f921"
          ]
         ]
        },
        "height": 400,
        "legend": {
         "tracegroupgap": 0
        },
        "margin": {
         "t": 60
        },
        "template": {
         "data": {
          "bar": [
           {
            "error_x": {
             "color": "#2a3f5f"
            },
            "error_y": {
             "color": "#2a3f5f"
            },
            "marker": {
             "line": {
              "color": "#E5ECF6",
              "width": 0.5
             },
             "pattern": {
              "fillmode": "overlay",
              "size": 10,
              "solidity": 0.2
             }
            },
            "type": "bar"
           }
          ],
          "barpolar": [
           {
            "marker": {
             "line": {
              "color": "#E5ECF6",
              "width": 0.5
             },
             "pattern": {
              "fillmode": "overlay",
              "size": 10,
              "solidity": 0.2
             }
            },
            "type": "barpolar"
           }
          ],
          "carpet": [
           {
            "aaxis": {
             "endlinecolor": "#2a3f5f",
             "gridcolor": "white",
             "linecolor": "white",
             "minorgridcolor": "white",
             "startlinecolor": "#2a3f5f"
            },
            "baxis": {
             "endlinecolor": "#2a3f5f",
             "gridcolor": "white",
             "linecolor": "white",
             "minorgridcolor": "white",
             "startlinecolor": "#2a3f5f"
            },
            "type": "carpet"
           }
          ],
          "choropleth": [
           {
            "colorbar": {
             "outlinewidth": 0,
             "ticks": ""
            },
            "type": "choropleth"
           }
          ],
          "contour": [
           {
            "colorbar": {
             "outlinewidth": 0,
             "ticks": ""
            },
            "colorscale": [
             [
              0,
              "#0d0887"
             ],
             [
              0.1111111111111111,
              "#46039f"
             ],
             [
              0.2222222222222222,
              "#7201a8"
             ],
             [
              0.3333333333333333,
              "#9c179e"
             ],
             [
              0.4444444444444444,
              "#bd3786"
             ],
             [
              0.5555555555555556,
              "#d8576b"
             ],
             [
              0.6666666666666666,
              "#ed7953"
             ],
             [
              0.7777777777777778,
              "#fb9f3a"
             ],
             [
              0.8888888888888888,
              "#fdca26"
             ],
             [
              1,
              "#f0f921"
             ]
            ],
            "type": "contour"
           }
          ],
          "contourcarpet": [
           {
            "colorbar": {
             "outlinewidth": 0,
             "ticks": ""
            },
            "type": "contourcarpet"
           }
          ],
          "heatmap": [
           {
            "colorbar": {
             "outlinewidth": 0,
             "ticks": ""
            },
            "colorscale": [
             [
              0,
              "#0d0887"
             ],
             [
              0.1111111111111111,
              "#46039f"
             ],
             [
              0.2222222222222222,
              "#7201a8"
             ],
             [
              0.3333333333333333,
              "#9c179e"
             ],
             [
              0.4444444444444444,
              "#bd3786"
             ],
             [
              0.5555555555555556,
              "#d8576b"
             ],
             [
              0.6666666666666666,
              "#ed7953"
             ],
             [
              0.7777777777777778,
              "#fb9f3a"
             ],
             [
              0.8888888888888888,
              "#fdca26"
             ],
             [
              1,
              "#f0f921"
             ]
            ],
            "type": "heatmap"
           }
          ],
          "histogram": [
           {
            "marker": {
             "pattern": {
              "fillmode": "overlay",
              "size": 10,
              "solidity": 0.2
             }
            },
            "type": "histogram"
           }
          ],
          "histogram2d": [
           {
            "colorbar": {
             "outlinewidth": 0,
             "ticks": ""
            },
            "colorscale": [
             [
              0,
              "#0d0887"
             ],
             [
              0.1111111111111111,
              "#46039f"
             ],
             [
              0.2222222222222222,
              "#7201a8"
             ],
             [
              0.3333333333333333,
              "#9c179e"
             ],
             [
              0.4444444444444444,
              "#bd3786"
             ],
             [
              0.5555555555555556,
              "#d8576b"
             ],
             [
              0.6666666666666666,
              "#ed7953"
             ],
             [
              0.7777777777777778,
              "#fb9f3a"
             ],
             [
              0.8888888888888888,
              "#fdca26"
             ],
             [
              1,
              "#f0f921"
             ]
            ],
            "type": "histogram2d"
           }
          ],
          "histogram2dcontour": [
           {
            "colorbar": {
             "outlinewidth": 0,
             "ticks": ""
            },
            "colorscale": [
             [
              0,
              "#0d0887"
             ],
             [
              0.1111111111111111,
              "#46039f"
             ],
             [
              0.2222222222222222,
              "#7201a8"
             ],
             [
              0.3333333333333333,
              "#9c179e"
             ],
             [
              0.4444444444444444,
              "#bd3786"
             ],
             [
              0.5555555555555556,
              "#d8576b"
             ],
             [
              0.6666666666666666,
              "#ed7953"
             ],
             [
              0.7777777777777778,
              "#fb9f3a"
             ],
             [
              0.8888888888888888,
              "#fdca26"
             ],
             [
              1,
              "#f0f921"
             ]
            ],
            "type": "histogram2dcontour"
           }
          ],
          "mesh3d": [
           {
            "colorbar": {
             "outlinewidth": 0,
             "ticks": ""
            },
            "type": "mesh3d"
           }
          ],
          "parcoords": [
           {
            "line": {
             "colorbar": {
              "outlinewidth": 0,
              "ticks": ""
             }
            },
            "type": "parcoords"
           }
          ],
          "pie": [
           {
            "automargin": true,
            "type": "pie"
           }
          ],
          "scatter": [
           {
            "fillpattern": {
             "fillmode": "overlay",
             "size": 10,
             "solidity": 0.2
            },
            "type": "scatter"
           }
          ],
          "scatter3d": [
           {
            "line": {
             "colorbar": {
              "outlinewidth": 0,
              "ticks": ""
             }
            },
            "marker": {
             "colorbar": {
              "outlinewidth": 0,
              "ticks": ""
             }
            },
            "type": "scatter3d"
           }
          ],
          "scattercarpet": [
           {
            "marker": {
             "colorbar": {
              "outlinewidth": 0,
              "ticks": ""
             }
            },
            "type": "scattercarpet"
           }
          ],
          "scattergeo": [
           {
            "marker": {
             "colorbar": {
              "outlinewidth": 0,
              "ticks": ""
             }
            },
            "type": "scattergeo"
           }
          ],
          "scattergl": [
           {
            "marker": {
             "colorbar": {
              "outlinewidth": 0,
              "ticks": ""
             }
            },
            "type": "scattergl"
           }
          ],
          "scattermap": [
           {
            "marker": {
             "colorbar": {
              "outlinewidth": 0,
              "ticks": ""
             }
            },
            "type": "scattermap"
           }
          ],
          "scattermapbox": [
           {
            "marker": {
             "colorbar": {
              "outlinewidth": 0,
              "ticks": ""
             }
            },
            "type": "scattermapbox"
           }
          ],
          "scatterpolar": [
           {
            "marker": {
             "colorbar": {
              "outlinewidth": 0,
              "ticks": ""
             }
            },
            "type": "scatterpolar"
           }
          ],
          "scatterpolargl": [
           {
            "marker": {
             "colorbar": {
              "outlinewidth": 0,
              "ticks": ""
             }
            },
            "type": "scatterpolargl"
           }
          ],
          "scatterternary": [
           {
            "marker": {
             "colorbar": {
              "outlinewidth": 0,
              "ticks": ""
             }
            },
            "type": "scatterternary"
           }
          ],
          "surface": [
           {
            "colorbar": {
             "outlinewidth": 0,
             "ticks": ""
            },
            "colorscale": [
             [
              0,
              "#0d0887"
             ],
             [
              0.1111111111111111,
              "#46039f"
             ],
             [
              0.2222222222222222,
              "#7201a8"
             ],
             [
              0.3333333333333333,
              "#9c179e"
             ],
             [
              0.4444444444444444,
              "#bd3786"
             ],
             [
              0.5555555555555556,
              "#d8576b"
             ],
             [
              0.6666666666666666,
              "#ed7953"
             ],
             [
              0.7777777777777778,
              "#fb9f3a"
             ],
             [
              0.8888888888888888,
              "#fdca26"
             ],
             [
              1,
              "#f0f921"
             ]
            ],
            "type": "surface"
           }
          ],
          "table": [
           {
            "cells": {
             "fill": {
              "color": "#EBF0F8"
             },
             "line": {
              "color": "white"
             }
            },
            "header": {
             "fill": {
              "color": "#C8D4E3"
             },
             "line": {
              "color": "white"
             }
            },
            "type": "table"
           }
          ]
         },
         "layout": {
          "annotationdefaults": {
           "arrowcolor": "#2a3f5f",
           "arrowhead": 0,
           "arrowwidth": 1
          },
          "autotypenumbers": "strict",
          "coloraxis": {
           "colorbar": {
            "outlinewidth": 0,
            "ticks": ""
           }
          },
          "colorscale": {
           "diverging": [
            [
             0,
             "#8e0152"
            ],
            [
             0.1,
             "#c51b7d"
            ],
            [
             0.2,
             "#de77ae"
            ],
            [
             0.3,
             "#f1b6da"
            ],
            [
             0.4,
             "#fde0ef"
            ],
            [
             0.5,
             "#f7f7f7"
            ],
            [
             0.6,
             "#e6f5d0"
            ],
            [
             0.7,
             "#b8e186"
            ],
            [
             0.8,
             "#7fbc41"
            ],
            [
             0.9,
             "#4d9221"
            ],
            [
             1,
             "#276419"
            ]
           ],
           "sequential": [
            [
             0,
             "#0d0887"
            ],
            [
             0.1111111111111111,
             "#46039f"
            ],
            [
             0.2222222222222222,
             "#7201a8"
            ],
            [
             0.3333333333333333,
             "#9c179e"
            ],
            [
             0.4444444444444444,
             "#bd3786"
            ],
            [
             0.5555555555555556,
             "#d8576b"
            ],
            [
             0.6666666666666666,
             "#ed7953"
            ],
            [
             0.7777777777777778,
             "#fb9f3a"
            ],
            [
             0.8888888888888888,
             "#fdca26"
            ],
            [
             1,
             "#f0f921"
            ]
           ],
           "sequentialminus": [
            [
             0,
             "#0d0887"
            ],
            [
             0.1111111111111111,
             "#46039f"
            ],
            [
             0.2222222222222222,
             "#7201a8"
            ],
            [
             0.3333333333333333,
             "#9c179e"
            ],
            [
             0.4444444444444444,
             "#bd3786"
            ],
            [
             0.5555555555555556,
             "#d8576b"
            ],
            [
             0.6666666666666666,
             "#ed7953"
            ],
            [
             0.7777777777777778,
             "#fb9f3a"
            ],
            [
             0.8888888888888888,
             "#fdca26"
            ],
            [
             1,
             "#f0f921"
            ]
           ]
          },
          "colorway": [
           "#636efa",
           "#EF553B",
           "#00cc96",
           "#ab63fa",
           "#FFA15A",
           "#19d3f3",
           "#FF6692",
           "#B6E880",
           "#FF97FF",
           "#FECB52"
          ],
          "font": {
           "color": "#2a3f5f"
          },
          "geo": {
           "bgcolor": "white",
           "lakecolor": "white",
           "landcolor": "#E5ECF6",
           "showlakes": true,
           "showland": true,
           "subunitcolor": "white"
          },
          "hoverlabel": {
           "align": "left"
          },
          "hovermode": "closest",
          "mapbox": {
           "style": "light"
          },
          "paper_bgcolor": "white",
          "plot_bgcolor": "#E5ECF6",
          "polar": {
           "angularaxis": {
            "gridcolor": "white",
            "linecolor": "white",
            "ticks": ""
           },
           "bgcolor": "#E5ECF6",
           "radialaxis": {
            "gridcolor": "white",
            "linecolor": "white",
            "ticks": ""
           }
          },
          "scene": {
           "xaxis": {
            "backgroundcolor": "#E5ECF6",
            "gridcolor": "white",
            "gridwidth": 2,
            "linecolor": "white",
            "showbackground": true,
            "ticks": "",
            "zerolinecolor": "white"
           },
           "yaxis": {
            "backgroundcolor": "#E5ECF6",
            "gridcolor": "white",
            "gridwidth": 2,
            "linecolor": "white",
            "showbackground": true,
            "ticks": "",
            "zerolinecolor": "white"
           },
           "zaxis": {
            "backgroundcolor": "#E5ECF6",
            "gridcolor": "white",
            "gridwidth": 2,
            "linecolor": "white",
            "showbackground": true,
            "ticks": "",
            "zerolinecolor": "white"
           }
          },
          "shapedefaults": {
           "line": {
            "color": "#2a3f5f"
           }
          },
          "ternary": {
           "aaxis": {
            "gridcolor": "white",
            "linecolor": "white",
            "ticks": ""
           },
           "baxis": {
            "gridcolor": "white",
            "linecolor": "white",
            "ticks": ""
           },
           "bgcolor": "#E5ECF6",
           "caxis": {
            "gridcolor": "white",
            "linecolor": "white",
            "ticks": ""
           }
          },
          "title": {
           "x": 0.05
          },
          "xaxis": {
           "automargin": true,
           "gridcolor": "white",
           "linecolor": "white",
           "ticks": "",
           "title": {
            "standoff": 15
           },
           "zerolinecolor": "white",
           "zerolinewidth": 2
          },
          "yaxis": {
           "automargin": true,
           "gridcolor": "white",
           "linecolor": "white",
           "ticks": "",
           "title": {
            "standoff": 15
           },
           "zerolinecolor": "white",
           "zerolinewidth": 2
          }
         }
        },
        "width": 400,
        "xaxis": {
         "anchor": "y",
         "domain": [
          0,
          1
         ],
         "title": {
          "text": "x"
         }
        },
        "yaxis": {
         "anchor": "x",
         "domain": [
          0,
          1
         ],
         "title": {
          "text": "y"
         }
        }
       }
      }
     },
     "metadata": {},
     "output_type": "display_data"
    },
    {
     "data": {
      "application/vnd.plotly.v1+json": {
       "config": {
        "plotlyServerURL": "https://plot.ly"
       },
       "data": [
        {
         "hovertemplate": "x=%{x}<br>y=%{y}<br>signal=%{marker.color}<extra></extra>",
         "legendgroup": "",
         "marker": {
          "color": {
           "bdata": "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",
           "dtype": "f8"
          },
          "coloraxis": "coloraxis",
          "size": 6,
          "symbol": "circle"
         },
         "mode": "markers",
         "name": "",
         "orientation": "v",
         "showlegend": false,
         "type": "scatter",
         "x": {
          "bdata": "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",
          "dtype": "f8"
         },
         "xaxis": "x",
         "y": {
          "bdata": "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",
          "dtype": "f8"
         },
         "yaxis": "y"
        }
       ],
       "layout": {
        "coloraxis": {
         "colorbar": {
          "title": {
           "text": "signal"
          }
         },
         "colorscale": [
          [
           0,
           "#0d0887"
          ],
          [
           0.1111111111111111,
           "#46039f"
          ],
          [
           0.2222222222222222,
           "#7201a8"
          ],
          [
           0.3333333333333333,
           "#9c179e"
          ],
          [
           0.4444444444444444,
           "#bd3786"
          ],
          [
           0.5555555555555556,
           "#d8576b"
          ],
          [
           0.6666666666666666,
           "#ed7953"
          ],
          [
           0.7777777777777778,
           "#fb9f3a"
          ],
          [
           0.8888888888888888,
           "#fdca26"
          ],
          [
           1,
           "#f0f921"
          ]
         ]
        },
        "height": 400,
        "legend": {
         "tracegroupgap": 0
        },
        "margin": {
         "t": 60
        },
        "template": {
         "data": {
          "bar": [
           {
            "error_x": {
             "color": "#2a3f5f"
            },
            "error_y": {
             "color": "#2a3f5f"
            },
            "marker": {
             "line": {
              "color": "#E5ECF6",
              "width": 0.5
             },
             "pattern": {
              "fillmode": "overlay",
              "size": 10,
              "solidity": 0.2
             }
            },
            "type": "bar"
           }
          ],
          "barpolar": [
           {
            "marker": {
             "line": {
              "color": "#E5ECF6",
              "width": 0.5
             },
             "pattern": {
              "fillmode": "overlay",
              "size": 10,
              "solidity": 0.2
             }
            },
            "type": "barpolar"
           }
          ],
          "carpet": [
           {
            "aaxis": {
             "endlinecolor": "#2a3f5f",
             "gridcolor": "white",
             "linecolor": "white",
             "minorgridcolor": "white",
             "startlinecolor": "#2a3f5f"
            },
            "baxis": {
             "endlinecolor": "#2a3f5f",
             "gridcolor": "white",
             "linecolor": "white",
             "minorgridcolor": "white",
             "startlinecolor": "#2a3f5f"
            },
            "type": "carpet"
           }
          ],
          "choropleth": [
           {
            "colorbar": {
             "outlinewidth": 0,
             "ticks": ""
            },
            "type": "choropleth"
           }
          ],
          "contour": [
           {
            "colorbar": {
             "outlinewidth": 0,
             "ticks": ""
            },
            "colorscale": [
             [
              0,
              "#0d0887"
             ],
             [
              0.1111111111111111,
              "#46039f"
             ],
             [
              0.2222222222222222,
              "#7201a8"
             ],
             [
              0.3333333333333333,
              "#9c179e"
             ],
             [
              0.4444444444444444,
              "#bd3786"
             ],
             [
              0.5555555555555556,
              "#d8576b"
             ],
             [
              0.6666666666666666,
              "#ed7953"
             ],
             [
              0.7777777777777778,
              "#fb9f3a"
             ],
             [
              0.8888888888888888,
              "#fdca26"
             ],
             [
              1,
              "#f0f921"
             ]
            ],
            "type": "contour"
           }
          ],
          "contourcarpet": [
           {
            "colorbar": {
             "outlinewidth": 0,
             "ticks": ""
            },
            "type": "contourcarpet"
           }
          ],
          "heatmap": [
           {
            "colorbar": {
             "outlinewidth": 0,
             "ticks": ""
            },
            "colorscale": [
             [
              0,
              "#0d0887"
             ],
             [
              0.1111111111111111,
              "#46039f"
             ],
             [
              0.2222222222222222,
              "#7201a8"
             ],
             [
              0.3333333333333333,
              "#9c179e"
             ],
             [
              0.4444444444444444,
              "#bd3786"
             ],
             [
              0.5555555555555556,
              "#d8576b"
             ],
             [
              0.6666666666666666,
              "#ed7953"
             ],
             [
              0.7777777777777778,
              "#fb9f3a"
             ],
             [
              0.8888888888888888,
              "#fdca26"
             ],
             [
              1,
              "#f0f921"
             ]
            ],
            "type": "heatmap"
           }
          ],
          "histogram": [
           {
            "marker": {
             "pattern": {
              "fillmode": "overlay",
              "size": 10,
              "solidity": 0.2
             }
            },
            "type": "histogram"
           }
          ],
          "histogram2d": [
           {
            "colorbar": {
             "outlinewidth": 0,
             "ticks": ""
            },
            "colorscale": [
             [
              0,
              "#0d0887"
             ],
             [
              0.1111111111111111,
              "#46039f"
             ],
             [
              0.2222222222222222,
              "#7201a8"
             ],
             [
              0.3333333333333333,
              "#9c179e"
             ],
             [
              0.4444444444444444,
              "#bd3786"
             ],
             [
              0.5555555555555556,
              "#d8576b"
             ],
             [
              0.6666666666666666,
              "#ed7953"
             ],
             [
              0.7777777777777778,
              "#fb9f3a"
             ],
             [
              0.8888888888888888,
              "#fdca26"
             ],
             [
              1,
              "#f0f921"
             ]
            ],
            "type": "histogram2d"
           }
          ],
          "histogram2dcontour": [
           {
            "colorbar": {
             "outlinewidth": 0,
             "ticks": ""
            },
            "colorscale": [
             [
              0,
              "#0d0887"
             ],
             [
              0.1111111111111111,
              "#46039f"
             ],
             [
              0.2222222222222222,
              "#7201a8"
             ],
             [
              0.3333333333333333,
              "#9c179e"
             ],
             [
              0.4444444444444444,
              "#bd3786"
             ],
             [
              0.5555555555555556,
              "#d8576b"
             ],
             [
              0.6666666666666666,
              "#ed7953"
             ],
             [
              0.7777777777777778,
              "#fb9f3a"
             ],
             [
              0.8888888888888888,
              "#fdca26"
             ],
             [
              1,
              "#f0f921"
             ]
            ],
            "type": "histogram2dcontour"
           }
          ],
          "mesh3d": [
           {
            "colorbar": {
             "outlinewidth": 0,
             "ticks": ""
            },
            "type": "mesh3d"
           }
          ],
          "parcoords": [
           {
            "line": {
             "colorbar": {
              "outlinewidth": 0,
              "ticks": ""
             }
            },
            "type": "parcoords"
           }
          ],
          "pie": [
           {
            "automargin": true,
            "type": "pie"
           }
          ],
          "scatter": [
           {
            "fillpattern": {
             "fillmode": "overlay",
             "size": 10,
             "solidity": 0.2
            },
            "type": "scatter"
           }
          ],
          "scatter3d": [
           {
            "line": {
             "colorbar": {
              "outlinewidth": 0,
              "ticks": ""
             }
            },
            "marker": {
             "colorbar": {
              "outlinewidth": 0,
              "ticks": ""
             }
            },
            "type": "scatter3d"
           }
          ],
          "scattercarpet": [
           {
            "marker": {
             "colorbar": {
              "outlinewidth": 0,
              "ticks": ""
             }
            },
            "type": "scattercarpet"
           }
          ],
          "scattergeo": [
           {
            "marker": {
             "colorbar": {
              "outlinewidth": 0,
              "ticks": ""
             }
            },
            "type": "scattergeo"
           }
          ],
          "scattergl": [
           {
            "marker": {
             "colorbar": {
              "outlinewidth": 0,
              "ticks": ""
             }
            },
            "type": "scattergl"
           }
          ],
          "scattermap": [
           {
            "marker": {
             "colorbar": {
              "outlinewidth": 0,
              "ticks": ""
             }
            },
            "type": "scattermap"
           }
          ],
          "scattermapbox": [
           {
            "marker": {
             "colorbar": {
              "outlinewidth": 0,
              "ticks": ""
             }
            },
            "type": "scattermapbox"
           }
          ],
          "scatterpolar": [
           {
            "marker": {
             "colorbar": {
              "outlinewidth": 0,
              "ticks": ""
             }
            },
            "type": "scatterpolar"
           }
          ],
          "scatterpolargl": [
           {
            "marker": {
             "colorbar": {
              "outlinewidth": 0,
              "ticks": ""
             }
            },
            "type": "scatterpolargl"
           }
          ],
          "scatterternary": [
           {
            "marker": {
             "colorbar": {
              "outlinewidth": 0,
              "ticks": ""
             }
            },
            "type": "scatterternary"
           }
          ],
          "surface": [
           {
            "colorbar": {
             "outlinewidth": 0,
             "ticks": ""
            },
            "colorscale": [
             [
              0,
              "#0d0887"
             ],
             [
              0.1111111111111111,
              "#46039f"
             ],
             [
              0.2222222222222222,
              "#7201a8"
             ],
             [
              0.3333333333333333,
              "#9c179e"
             ],
             [
              0.4444444444444444,
              "#bd3786"
             ],
             [
              0.5555555555555556,
              "#d8576b"
             ],
             [
              0.6666666666666666,
              "#ed7953"
             ],
             [
              0.7777777777777778,
              "#fb9f3a"
             ],
             [
              0.8888888888888888,
              "#fdca26"
             ],
             [
              1,
              "#f0f921"
             ]
            ],
            "type": "surface"
           }
          ],
          "table": [
           {
            "cells": {
             "fill": {
              "color": "#EBF0F8"
             },
             "line": {
              "color": "white"
             }
            },
            "header": {
             "fill": {
              "color": "#C8D4E3"
             },
             "line": {
              "color": "white"
             }
            },
            "type": "table"
           }
          ]
         },
         "layout": {
          "annotationdefaults": {
           "arrowcolor": "#2a3f5f",
           "arrowhead": 0,
           "arrowwidth": 1
          },
          "autotypenumbers": "strict",
          "coloraxis": {
           "colorbar": {
            "outlinewidth": 0,
            "ticks": ""
           }
          },
          "colorscale": {
           "diverging": [
            [
             0,
             "#8e0152"
            ],
            [
             0.1,
             "#c51b7d"
            ],
            [
             0.2,
             "#de77ae"
            ],
            [
             0.3,
             "#f1b6da"
            ],
            [
             0.4,
             "#fde0ef"
            ],
            [
             0.5,
             "#f7f7f7"
            ],
            [
             0.6,
             "#e6f5d0"
            ],
            [
             0.7,
             "#b8e186"
            ],
            [
             0.8,
             "#7fbc41"
            ],
            [
             0.9,
             "#4d9221"
            ],
            [
             1,
             "#276419"
            ]
           ],
           "sequential": [
            [
             0,
             "#0d0887"
            ],
            [
             0.1111111111111111,
             "#46039f"
            ],
            [
             0.2222222222222222,
             "#7201a8"
            ],
            [
             0.3333333333333333,
             "#9c179e"
            ],
            [
             0.4444444444444444,
             "#bd3786"
            ],
            [
             0.5555555555555556,
             "#d8576b"
            ],
            [
             0.6666666666666666,
             "#ed7953"
            ],
            [
             0.7777777777777778,
             "#fb9f3a"
            ],
            [
             0.8888888888888888,
             "#fdca26"
            ],
            [
             1,
             "#f0f921"
            ]
           ],
           "sequentialminus": [
            [
             0,
             "#0d0887"
            ],
            [
             0.1111111111111111,
             "#46039f"
            ],
            [
             0.2222222222222222,
             "#7201a8"
            ],
            [
             0.3333333333333333,
             "#9c179e"
            ],
            [
             0.4444444444444444,
             "#bd3786"
            ],
            [
             0.5555555555555556,
             "#d8576b"
            ],
            [
             0.6666666666666666,
             "#ed7953"
            ],
            [
             0.7777777777777778,
             "#fb9f3a"
            ],
            [
             0.8888888888888888,
             "#fdca26"
            ],
            [
             1,
             "#f0f921"
            ]
           ]
          },
          "colorway": [
           "#636efa",
           "#EF553B",
           "#00cc96",
           "#ab63fa",
           "#FFA15A",
           "#19d3f3",
           "#FF6692",
           "#B6E880",
           "#FF97FF",
           "#FECB52"
          ],
          "font": {
           "color": "#2a3f5f"
          },
          "geo": {
           "bgcolor": "white",
           "lakecolor": "white",
           "landcolor": "#E5ECF6",
           "showlakes": true,
           "showland": true,
           "subunitcolor": "white"
          },
          "hoverlabel": {
           "align": "left"
          },
          "hovermode": "closest",
          "mapbox": {
           "style": "light"
          },
          "paper_bgcolor": "white",
          "plot_bgcolor": "#E5ECF6",
          "polar": {
           "angularaxis": {
            "gridcolor": "white",
            "linecolor": "white",
            "ticks": ""
           },
           "bgcolor": "#E5ECF6",
           "radialaxis": {
            "gridcolor": "white",
            "linecolor": "white",
            "ticks": ""
           }
          },
          "scene": {
           "xaxis": {
            "backgroundcolor": "#E5ECF6",
            "gridcolor": "white",
            "gridwidth": 2,
            "linecolor": "white",
            "showbackground": true,
            "ticks": "",
            "zerolinecolor": "white"
           },
           "yaxis": {
            "backgroundcolor": "#E5ECF6",
            "gridcolor": "white",
            "gridwidth": 2,
            "linecolor": "white",
            "showbackground": true,
            "ticks": "",
            "zerolinecolor": "white"
           },
           "zaxis": {
            "backgroundcolor": "#E5ECF6",
            "gridcolor": "white",
            "gridwidth": 2,
            "linecolor": "white",
            "showbackground": true,
            "ticks": "",
            "zerolinecolor": "white"
           }
          },
          "shapedefaults": {
           "line": {
            "color": "#2a3f5f"
           }
          },
          "ternary": {
           "aaxis": {
            "gridcolor": "white",
            "linecolor": "white",
            "ticks": ""
           },
           "baxis": {
            "gridcolor": "white",
            "linecolor": "white",
            "ticks": ""
           },
           "bgcolor": "#E5ECF6",
           "caxis": {
            "gridcolor": "white",
            "linecolor": "white",
            "ticks": ""
           }
          },
          "title": {
           "x": 0.05
          },
          "xaxis": {
           "automargin": true,
           "gridcolor": "white",
           "linecolor": "white",
           "ticks": "",
           "title": {
            "standoff": 15
           },
           "zerolinecolor": "white",
           "zerolinewidth": 2
          },
          "yaxis": {
           "automargin": true,
           "gridcolor": "white",
           "linecolor": "white",
           "ticks": "",
           "title": {
            "standoff": 15
           },
           "zerolinecolor": "white",
           "zerolinewidth": 2
          }
         }
        },
        "width": 400,
        "xaxis": {
         "anchor": "y",
         "domain": [
          0,
          1
         ],
         "title": {
          "text": "x"
         }
        },
        "yaxis": {
         "anchor": "x",
         "domain": [
          0,
          1
         ],
         "title": {
          "text": "y"
         }
        }
       }
      }
     },
     "metadata": {},
     "output_type": "display_data"
    }
   ],
   "source": [
    "sde_solver = EulerMaruyamaSolver(sde=sde, n=100)\n",
    "with torch.no_grad():\n",
    "    x0_test_pred = sde_solver.sample_from_terminal(x0=x0_test, control=ModelControl(model))\n",
    "    x0_test_pred = sde.inverse_transform(x0_test_pred)\n",
    "    test_w1 = wasserstein_distance(x1_test, x0_test_pred, p=1)\n",
    "    test_w2 = wasserstein_distance(x1_test, x0_test_pred, p=2)\n",
    "\n",
    "print(f\"Wasserstein-1 distance: {test_w1:.4f}\")\n",
    "print(f\"Wasserstein-2 distance: {test_w2:.4f}\")\n",
    "\n",
    "plot_brain_signal_2d(x0_test[0]);\n",
    "plot_brain_signal_2d(x0_test_pred[0]);\n",
    "plot_brain_signal_2d(x1_test[0]);"
   ]
  }
 ],
 "metadata": {
  "kernelspec": {
   "display_name": "topological-flow-matching",
   "language": "python",
   "name": "python3"
  },
  "language_info": {
   "codemirror_mode": {
    "name": "ipython",
    "version": 3
   },
   "file_extension": ".py",
   "mimetype": "text/x-python",
   "name": "python",
   "nbconvert_exporter": "python",
   "pygments_lexer": "ipython3",
   "version": "3.10.16"
  }
 },
 "nbformat": 4,
 "nbformat_minor": 5
}
