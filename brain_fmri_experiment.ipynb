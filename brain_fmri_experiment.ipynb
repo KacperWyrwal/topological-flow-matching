{
 "cells": [
  {
   "cell_type": "code",
   "execution_count": null,
   "id": "69aeba7b",
   "metadata": {},
   "outputs": [],
   "source": [
    "import torch \n",
    "import math\n",
    "import numpy as np\n",
    "import ot \n",
    "import plotly.express as px\n",
    "import scipy\n",
    "from matplotlib import pyplot as plt\n",
    "from matplotlib import cm\n",
    "from tqdm import tqdm\n",
    "from abc import ABC, abstractmethod\n",
    "from matplotlib.colors import Normalize\n",
    "from matplotlib.collections import LineCollection\n",
    "from geomloss import SamplesLoss\n",
    "\n",
    "\n",
    "torch.set_default_dtype(torch.float64)\n",
    "device = torch.device(\"cuda\" if torch.cuda.is_available() else \"cpu\")\n",
    "torch.set_default_device(device)"
   ]
  },
  {
   "cell_type": "markdown",
   "id": "53824a85",
   "metadata": {},
   "source": [
    "## Utils"
   ]
  },
  {
   "cell_type": "code",
   "execution_count": 67,
   "id": "800e8d01",
   "metadata": {},
   "outputs": [],
   "source": [
    "def torch_divmod(n: torch.Tensor, d: int) -> tuple[torch.Tensor, torch.Tensor]:\n",
    "    \"\"\"\n",
    "    Equivalent to divmod for tensors. TODO If implemented nicely in pytorch, could submit a PR. \n",
    "\n",
    "    parameters:\n",
    "        n: torch.Tensor, shape [...]\n",
    "        d: int\n",
    "\n",
    "    returns:\n",
    "        tuple of tensors, shape [...]\n",
    "    \"\"\"\n",
    "    return n // d, n % d\n",
    "\n",
    "\n",
    "def joint_multinomial(distribution: torch.Tensor, num_samples: int, replacement: bool = True) -> torch.Tensor:\n",
    "    \"\"\"\n",
    "    Sample from a joint categorical distribution.\n",
    "\n",
    "    parameters:\n",
    "        distribution: torch.Tensor, shape (N, M)\n",
    "        num_samples: int, number of samples to draw\n",
    "        replacement: bool, whether to sample with replacement\n",
    "\n",
    "    returns:\n",
    "        torch.Tensor, shape (num_samples, 2)\n",
    "    \"\"\"\n",
    "    n, _ = distribution.shape\n",
    "    res = torch.multinomial(distribution.flatten(), num_samples, replacement=replacement)\n",
    "    res_i, res_j = torch_divmod(res, n)\n",
    "    return torch.column_stack([res_i, res_j])\n",
    "\n",
    "\n",
    "def as_tensors(*args, dtype: torch.dtype | None = None, device: torch.device | None = None) -> tuple[torch.Tensor, ...]:\n",
    "    \"\"\"\n",
    "    Convert all arguments to tensors.\n",
    "    \"\"\"\n",
    "    return tuple(torch.as_tensor(arg, dtype=dtype, device=device) for arg in args)"
   ]
  },
  {
   "cell_type": "markdown",
   "id": "37c1c0cc",
   "metadata": {},
   "source": [
    "## SDEs and SDE solvers"
   ]
  },
  {
   "cell_type": "code",
   "execution_count": 115,
   "id": "abd4b6fd",
   "metadata": {},
   "outputs": [],
   "source": [
    "class SDE(ABC):\n",
    "    \"\"\"\n",
    "    Base class for Diagonalizable SDEs. \n",
    "    \"\"\"\n",
    "    def __init__(self, dim: int, *, device: torch.device | None = None):\n",
    "        self._dim = dim \n",
    "        self.device = device \n",
    "\n",
    "    def to(self, device: torch.device | None = None) -> \"SDE\":\n",
    "        if device is not None:\n",
    "            self.device = device \n",
    "        return self \n",
    "\n",
    "    @property\n",
    "    def dim(self) -> int:\n",
    "        return self._dim \n",
    "    \n",
    "    @abstractmethod\n",
    "    def drift(\n",
    "        self, \n",
    "        t: torch.Tensor,\n",
    "        x: torch.Tensor,\n",
    "    ) -> torch.Tensor:\n",
    "        pass \n",
    "\n",
    "    @abstractmethod\n",
    "    def diffusion(\n",
    "        self, \n",
    "        t: torch.Tensor,\n",
    "        x: torch.Tensor,\n",
    "    ) -> torch.Tensor:\n",
    "        pass \n",
    "\n",
    "    @abstractmethod\n",
    "    def transition(\n",
    "        self, \n",
    "        t0: torch.Tensor, \n",
    "        t1: torch.Tensor,\n",
    "    ) -> torch.Tensor:\n",
    "        pass\n",
    "\n",
    "    def _mean(self, t: torch.Tensor) -> torch.Tensor:\n",
    "        raise NotImplementedError(\"Unconditional mean not implemented for this SDE.\") \n",
    "\n",
    "    @abstractmethod\n",
    "    def _mean_with_initial_condition(\n",
    "        self, \n",
    "        t: torch.Tensor, \n",
    "        *, \n",
    "        t0: torch.Tensor | None = None,\n",
    "        x0: torch.Tensor | None = None,\n",
    "    ) -> torch.Tensor:\n",
    "        pass \n",
    "\n",
    "    @abstractmethod\n",
    "    def _mean_with_initial_and_final_condition(\n",
    "        self, \n",
    "        t: torch.Tensor, \n",
    "        *, \n",
    "        t0: torch.Tensor | None = None,\n",
    "        x0: torch.Tensor | None = None,\n",
    "        t1: torch.Tensor | None = None,\n",
    "        x1: torch.Tensor | None = None,\n",
    "    ) -> torch.Tensor:\n",
    "        pass \n",
    "\n",
    "    def mean(\n",
    "        self, \n",
    "        t: torch.Tensor, \n",
    "        *,\n",
    "        t0: torch.Tensor | None = None, \n",
    "        x0: torch.Tensor | None = None,\n",
    "        t1: torch.Tensor | None = None,\n",
    "        x1: torch.Tensor | None = None,\n",
    "    ) -> torch.Tensor:\n",
    "        \"\"\"\n",
    "        Returns the mean of the SDE at time t. May be conditioned on initial and/or final conditions. \n",
    "        If t0 and t1 are True, then t0 = 0 and t1 = 1. \n",
    "\n",
    "        parameters: \n",
    "            t (torch.Tensor): [...] Times.\n",
    "            t0 (torch.Tensor): [...] Start times.\n",
    "            x0 (torch.Tensor): [..., D] Initial value.\n",
    "            t1 (torch.Tensor): [...] End times.\n",
    "\n",
    "        returns: \n",
    "            torch.Tensor: [..., D] Mean.\n",
    "        \"\"\"\n",
    "        if x0 is not None and x1 is not None:\n",
    "            if t0 is None:\n",
    "                t0 = t.new_zeros(t.shape) # [...]\n",
    "            if t1 is None:\n",
    "                t1 = t.new_ones(t.shape) # [...]\n",
    "            return self._mean_with_initial_and_final_condition(t=t, t0=t0, x0=x0, t1=t1, x1=x1)\n",
    "        elif x0 is not None:\n",
    "            if t0 is None:\n",
    "                t0 = t.new_zeros(t.shape) # [...]\n",
    "            return self._mean_with_initial_condition(t=t, t0=t0, x0=x0)\n",
    "        else:\n",
    "            return self._mean(t)\n",
    "\n",
    "    def _variance(\n",
    "        self, \n",
    "        t: torch.Tensor, \n",
    "    ) -> torch.Tensor:\n",
    "        raise NotImplementedError(\"Unconditional variance not implemented for this SDE.\") \n",
    "\n",
    "    @abstractmethod\n",
    "    def _variance_with_initial_condition(\n",
    "        self, \n",
    "        t: torch.Tensor, \n",
    "        *, \n",
    "        t0: torch.Tensor | None = None,\n",
    "    ) -> torch.Tensor:\n",
    "        pass \n",
    "\n",
    "    def _variance_with_initial_and_final_condition(\n",
    "        self, \n",
    "        t: torch.Tensor, \n",
    "        *, \n",
    "        t0: torch.Tensor | None = None, \n",
    "        t1: torch.Tensor | None = None,\n",
    "    ) -> torch.Tensor:\n",
    "        \"\"\"\n",
    "        Returns the variance of the SDE at time t, conditioned on being zero variance at time t0 and t1.\n",
    "\n",
    "        parameters: \n",
    "            t (torch.Tensor): [...] Times.\n",
    "            t0 (torch.Tensor): [...] Conditioning times.\n",
    "            t1 (torch.Tensor): [...] Conditioning times.\n",
    "\n",
    "        returns: \n",
    "            torch.Tensor: [..., D] Diagonal of the conditional variance of the SDE.\n",
    "        \"\"\"\n",
    "        sigmatt = self.variance(t=t, t0=t0)\n",
    "        sigmat1t = self.covariance(s=t, t=t1, t0=t0)\n",
    "        sigmat1t1 = self.variance(t=t1, t0=t0)\n",
    "\n",
    "        return sigmatt - sigmat1t.square() / sigmat1t1\n",
    "\n",
    "    def variance(\n",
    "        self, \n",
    "        t: torch.Tensor, \n",
    "        *, \n",
    "        t0: torch.Tensor | bool | None = None, \n",
    "        t1: torch.Tensor | bool | None = None,\n",
    "    ) -> torch.Tensor:\n",
    "        \"\"\"\n",
    "        Returns the variance of the SDE at time t. May be conditioned on initial and/or final conditions. \n",
    "        If t0 and t1 are True, then t0 = 0 and t1 = 1. \n",
    "\n",
    "        parameters: \n",
    "            t (torch.Tensor): [...] Times.\n",
    "            t0 (torch.Tensor): [...] Start times.\n",
    "            t1 (torch.Tensor): [...] End times.\n",
    "        \n",
    "        returns: \n",
    "            torch.Tensor: [..., D] Variance.\n",
    "        \"\"\"\n",
    "        if t0 is True:\n",
    "            t0 = t.new_zeros(t.shape) # [...]\n",
    "        if t1 is True:\n",
    "            t1 = t.new_ones(t.shape) # [...]\n",
    "        if t0 is not None and t1 is not None:\n",
    "            return self._variance_with_initial_and_final_condition(t=t, t0=t0, t1=t1)\n",
    "        elif t0 is not None:\n",
    "            return self._variance_with_initial_condition(t=t, t0=t0)\n",
    "        else:\n",
    "            return self._variance(t)\n",
    "\n",
    "    def _covariance(\n",
    "        self, \n",
    "        s: torch.Tensor,\n",
    "        t: torch.Tensor,\n",
    "    ) -> torch.Tensor:\n",
    "        raise NotImplementedError(\"Unconditional covariance not implemented for this SDE.\") \n",
    "\n",
    "    def _covariance_with_initial_condition(\n",
    "        self, \n",
    "        s: torch.Tensor, \n",
    "        t: torch.Tensor, \n",
    "        *, \n",
    "        t0: torch.Tensor | None = None,\n",
    "    ) -> torch.Tensor:\n",
    "        \"\"\"\n",
    "        Returns the covariance of the SDE between times s and t conditioned on being at x0 at time t0. \n",
    "\n",
    "        parameters: \n",
    "            s (torch.Tensor): [...] Start times.\n",
    "            t (torch.Tensor): [...] End times.\n",
    "            t0 (torch.Tensor): [...] Conditioning times.\n",
    "        returns: \n",
    "            torch.Tensor: [..., D] Diagonal of the (diagonal) covariance matrix.\n",
    "        \"\"\"\n",
    "        r = torch.minimum(s, t)\n",
    "        return self.transition(t0=r, t1=t) * self.variance(t=r, t0=t0) * self.transition(t0=r, t1=s)\n",
    "\n",
    "    def _covariance_with_initial_and_final_condition(\n",
    "        self, \n",
    "        s: torch.Tensor,\n",
    "        t: torch.Tensor,\n",
    "        *, \n",
    "        t0: torch.Tensor | None = None,\n",
    "        t1: torch.Tensor | None = None,\n",
    "    ) -> torch.Tensor:\n",
    "        # This could be implemented already here by conditioning of Gaussian processes, but is not needed for now. \n",
    "        raise NotImplementedError(\"Unconditional covariance not implemented yet. Can be implemented by the Gaussian process conditioning rule.\") \n",
    "\n",
    "    def covariance(\n",
    "        self, \n",
    "        s: torch.Tensor, \n",
    "        t: torch.Tensor, \n",
    "        *, \n",
    "        t0: torch.Tensor | bool | None = None, \n",
    "        t1: torch.Tensor | bool | None = None,\n",
    "    ) -> torch.Tensor:\n",
    "        if (t0 is True or t0 is not None) and (t1 is True or t1 is not None):\n",
    "            return self._covariance_with_initial_and_final_condition(s=s, t=t, t0=t0, t1=t1)\n",
    "        elif (t0 is True or t0 is not None):\n",
    "            return self._covariance_with_initial_condition(s=s, t=t, t0=t0)\n",
    "        else: \n",
    "            return self._covariance(s=s, t=t)\n",
    "\n",
    "    @abstractmethod\n",
    "    def marginal_distribution(\n",
    "        self, \n",
    "        t: torch.Tensor,\n",
    "        t0: torch.Tensor | None = None, \n",
    "        x0: torch.Tensor | None = None,\n",
    "        t1: torch.Tensor | None = None,\n",
    "        x1: torch.Tensor | None = None,\n",
    "    ) -> torch.Tensor:\n",
    "        \"\"\"\n",
    "        Returns the marginal distribution of the SDE at time t. May be conditioned on initial and/or final conditions. \n",
    "        If t0 and t1 are True, then t0 = 0 and t1 = 1. \n",
    "\n",
    "        parameters: \n",
    "            t (torch.Tensor): [...] Times.\n",
    "            t0 (torch.Tensor): [...] Start times.\n",
    "            x0 (torch.Tensor): [..., D] Initial value.\n",
    "            t1 (torch.Tensor): [...] End times.\n",
    "            x1 (torch.Tensor): [..., D] Target value.\n",
    "\n",
    "        returns: \n",
    "            torch.Tensor: [..., D] Marginal distribution at time t. \n",
    "        \"\"\"\n",
    "\n",
    "\n",
    "class DiagonalizableSDE(SDE):\n",
    "    @abstractmethod\n",
    "    def inverse_transform(self, x: torch.Tensor) -> torch.Tensor:\n",
    "        \"\"\"\n",
    "        Transforms the points from eigencoordinates to the original coordinates. \n",
    "\n",
    "        parameters: \n",
    "            x (torch.Tensor): [..., D] Points in eigencoordinates.\n",
    "\n",
    "        returns: \n",
    "            torch.Tensor: [..., D] Points in original coordinates.\n",
    "        \"\"\"\n",
    "        pass\n",
    "\n",
    "    def marginal_distribution(\n",
    "        self, \n",
    "        t: torch.Tensor,\n",
    "        t0: torch.Tensor | None = None, \n",
    "        x0: torch.Tensor | None = None,\n",
    "        t1: torch.Tensor | None = None,\n",
    "        x1: torch.Tensor | None = None,\n",
    "    ) -> torch.Tensor:\n",
    "        \"\"\"\n",
    "        Returns the marginal distribution of the SDE at time t. May be conditioned on initial and/or final conditions. \n",
    "        If t0 and t1 are True, then t0 = 0 and t1 = 1. \n",
    "\n",
    "        parameters: \n",
    "            t (torch.Tensor): [...] Times.\n",
    "            t0 (torch.Tensor): [...] Start times.\n",
    "            x0 (torch.Tensor): [..., D] Initial value.\n",
    "            t1 (torch.Tensor): [...] End times.\n",
    "            x1 (torch.Tensor): [..., D] Target value.\n",
    "\n",
    "        returns: \n",
    "            torch.Tensor: [..., D] Marginal distribution at time t. \n",
    "        \"\"\"\n",
    "        if x0 is not None and t0 is None:\n",
    "            t0 = t.new_zeros(t.shape) # [...]\n",
    "        if x1 is not None and t1 is None:\n",
    "            t1 = t.new_ones(t.shape) # [...]\n",
    "\n",
    "        mean = self.mean(t=t, t0=t0, x0=x0, t1=t1, x1=x1)\n",
    "        # FIXME variance returns negative values\n",
    "        variance = self.variance(t=t, t0=t0, t1=t1)\n",
    "        normal = torch.distributions.Normal(loc=mean, scale=variance.sqrt())\n",
    "        return torch.distributions.Independent(normal, reinterpreted_batch_ndims=1)\n",
    "\n",
    "\n",
    "class OUDiagonalizableSDE(DiagonalizableSDE):\n",
    "    def __init__(self, alpha_diagonal: torch.Tensor, gamma_diagonal: torch.Tensor, device: torch.device | None = None):\n",
    "        \"\"\"\n",
    "        Creates the diagonal OU SDE.\n",
    "\n",
    "        ..math:: \n",
    "            dX_t = \\alpha X_t dt + \\gamma dW_t\n",
    "\n",
    "        parameters: \n",
    "            alpha_diagonal (torch.Tensor): [D] Vector representing the diagonal of the (diagonal)drift matrix alpha.\n",
    "            gamma_diagonal (torch.Tensor): [D] Vector representing the diagonal of the (diagonal) diffusion matrix gamma.\n",
    "        \"\"\"\n",
    "        dim = alpha_diagonal.shape[0]\n",
    "        super().__init__(dim=dim, device=device)\n",
    "        self.alpha_diagonal = alpha_diagonal.to(device)\n",
    "        self.gamma_diagonal = gamma_diagonal.to(device)\n",
    "\n",
    "    def to(self, device: torch.device) -> \"OUDiagonalizableSDE\":\n",
    "        super().to(device)\n",
    "        self.alpha_diagonal = self.alpha_diagonal.to(device)\n",
    "        self.gamma_diagonal = self.gamma_diagonal.to(device)\n",
    "        return self \n",
    "\n",
    "    def drift(self, t: torch.Tensor | None = None, x: torch.Tensor | None = None) -> torch.Tensor:\n",
    "        \"\"\"\n",
    "        Returns the drift of the SDE. \n",
    "\n",
    "        parameters: \n",
    "            t (torch.Tensor): [...] Times.\n",
    "            x (torch.Tensor): [..., D] Initial value.\n",
    "\n",
    "        returns: \n",
    "            torch.Tensor: [..., D] Drift of the SDE.\n",
    "        \"\"\"\n",
    "        return self.alpha_diagonal * x\n",
    "\n",
    "    def diffusion(self, t: torch.Tensor | None = None, x: torch.Tensor | None = None) -> torch.Tensor:\n",
    "        \"\"\"\n",
    "        Returns the diffusion of the SDE. \n",
    "\n",
    "        parameters: \n",
    "            t (torch.Tensor): [...] Times.\n",
    "\n",
    "        returns: \n",
    "            torch.Tensor: [D] Diffusion of the SDE.\n",
    "        \"\"\"\n",
    "        return self.gamma_diagonal\n",
    "\n",
    "    def transition(self, t0: torch.Tensor, t1: torch.Tensor) -> torch.Tensor:\n",
    "        \"\"\"\n",
    "        Returns a vector representing the transition matrix, which is itself a diagonal matrix. \n",
    "\n",
    "        parameters: \n",
    "            t0 (torch.Tensor): [...] Start times.\n",
    "            t1 (torch.Tensor): [...] End times.\n",
    "\n",
    "        returns: \n",
    "            torch.Tensor: [..., D] Diagonal of the transition matrix.\n",
    "        \"\"\"\n",
    "        delta = t1 - t0 # [...]\n",
    "        return torch.exp(torch.einsum(\"d, ... -> ...d\", self.alpha_diagonal, delta))\n",
    "\n",
    "    def _variance_with_initial_condition(\n",
    "        self, \n",
    "        t: torch.Tensor, \n",
    "        *, \n",
    "        t0: torch.Tensor | None = None,\n",
    "        min_alpha_nonzero: float = 1e-8\n",
    "    ) -> torch.Tensor:\n",
    "        \"\"\"\n",
    "        Returns the variance of the SDE at time t, conditioned on being zero-variance at time t0.\n",
    "\n",
    "        parameters: \n",
    "            t (torch.Tensor): [...] Times.\n",
    "            t0 (torch.Tensor): [...] Conditioning times.\n",
    "\n",
    "        returns: \n",
    "            torch.Tensor: [..., D] Diagonal of the variance of the SDE.\n",
    "        \"\"\"\n",
    "        variance_if_alpha_zero = torch.einsum('d, ... -> ...d', self.gamma_diagonal.square(), (t - t0)) # [..., D]        \n",
    "        variance_if_alpha_nonzero = (\n",
    "            self.gamma_diagonal.square() * (self.transition(t0=t0, t1=t).square() - 1) / (2 * self.alpha_diagonal)\n",
    "        ) # [..., D]\n",
    "        return torch.where(self.alpha_diagonal.abs() < min_alpha_nonzero, variance_if_alpha_zero, variance_if_alpha_nonzero) # [..., D]\n",
    "\n",
    "    def _mean_with_initial_condition(self, t: torch.Tensor, t0: torch.Tensor | None = None, x0: torch.Tensor | None = None) -> torch.Tensor:\n",
    "        \"\"\"\n",
    "        Returns the mean of the SDE conditioned on being at x0 at time t0.\n",
    "        \n",
    "        parameters: \n",
    "            t (torch.Tensor): [...] Times.\n",
    "            t0 (torch.Tensor): [...] Start times.\n",
    "            x0 (torch.Tensor): [..., D] Initial value.\n",
    "\n",
    "        returns: \n",
    "            torch.Tensor: [..., D] Mean of the SDE.\n",
    "        \"\"\"\n",
    "        return self.transition(t0=t0, t1=t) * x0 # [..., D] * [..., D] -> [..., D]\n",
    "\n",
    "    def _mean_with_initial_and_final_condition(self, t: torch.Tensor, t0: torch.Tensor | None = None, x0: torch.Tensor | None = None, t1: torch.Tensor | None = None, x1: torch.Tensor | None = None) -> torch.Tensor:\n",
    "        \"\"\"\n",
    "        Returns the mean of the SDE conditioned on being at x0 at time t0 and x1 at time t1. \n",
    "\n",
    "        parameters: \n",
    "            t (torch.Tensor): [...] End times.\n",
    "            t0 (torch.Tensor): [...] Start times.\n",
    "            x0 (torch.Tensor): [..., D] Initial value.\n",
    "            t1 (torch.Tensor): [...] End times.\n",
    "            x1 (torch.Tensor): [..., D] Target value.\n",
    "\n",
    "        returns: \n",
    "            torch.Tensor: [..., D] Conditional mean of the SDE.\n",
    "        \"\"\"\n",
    "        m_t = self._mean_with_initial_condition(t=t, t0=t0, x0=x0)\n",
    "        m_t1 = self._mean_with_initial_condition(t=t1, t0=t0, x0=x0)\n",
    "        sigma_t1t = self.covariance(s=t, t=t1, t0=t0) # FIXME This should be symmetric but is antisymmetric\n",
    "        sigma_t1t1 = self.variance(t=t1, t0=t0)\n",
    "        return m_t + sigma_t1t / sigma_t1t1 * (x1 - m_t1)\n",
    "     \n",
    "\n",
    "class HeatBMTSDE(OUDiagonalizableSDE):\n",
    "    def __init__(self, L: torch.Tensor, c: torch.Tensor, sigma: torch.Tensor, device: torch.device | None = None):\n",
    "        \"\"\"\n",
    "        Creates the heat BM SDE:\n",
    "\n",
    "        ..math:: \n",
    "            dX_t = -cLX_t dt + \\sigma dW_t\n",
    "\n",
    "        parameters: \n",
    "            L (torch.Tensor): [D, D] Matrix representing the Laplacian.\n",
    "            c (torch.Tensor): [] Scalar greater than or equal to 0.\n",
    "            sigma (torch.Tensor): [] Scalar diffusion coefficient.\n",
    "        \"\"\"\n",
    "        L = torch.as_tensor(L, device=device)\n",
    "        c = torch.as_tensor(c, device=device)\n",
    "        sigma = torch.as_tensor(sigma, device=device)\n",
    "        \n",
    "        eigenvalues, eigenvectors = torch.linalg.eigh(L)\n",
    "        alpha_diagonal = -c * eigenvalues\n",
    "        gamma_diagonal = sigma * torch.ones_like(eigenvalues) # TODO Add a Q-Brownian motion option. If true, multiply by sqrt(eigenvalues)\n",
    "        \n",
    "        super().__init__(alpha_diagonal=alpha_diagonal, gamma_diagonal=gamma_diagonal, device=device)\n",
    "        self.eigenvalues = eigenvalues.to(device)\n",
    "        self.eigenvectors = eigenvectors.to(device)\n",
    "\n",
    "    def to(self, device: torch.device) -> \"HeatBMTSDE\":\n",
    "        super().to(device)\n",
    "        self.eigenvalues = self.eigenvalues.to(device)\n",
    "        self.eigenvectors = self.eigenvectors.to(device)\n",
    "        return self \n",
    "\n",
    "    def inverse_transform(self, x: torch.Tensor) -> torch.Tensor:\n",
    "        \"\"\"\n",
    "        Returns the inverse transform of the SDE. \n",
    "\n",
    "        parameters: \n",
    "            x (torch.Tensor): [..., D] Initial value.\n",
    "\n",
    "        returns: \n",
    "            torch.Tensor: [..., D] Inverse transform of the SDE.\n",
    "        \"\"\"\n",
    "        return torch.einsum(\"ij, ...j -> ...i\", self.eigenvectors, x) # [D, D] * [..., D] -> [..., D]\n",
    "\n",
    "\n",
    "class UniformTimesteps:\n",
    "    def __init__(self, n: int, device: torch.device | None = None, dtype: torch.dtype | None = None):\n",
    "        assert n > 1, \"Number of timesteps must be greater than 1\"\n",
    "        self.n = n\n",
    "        self.t = torch.linspace(0, 1, n + 1, dtype=dtype, device=device)\n",
    "        self.dt = torch.full((n, ), 1.0 / n, dtype=dtype, device=device)\n",
    "        self.device = device \n",
    "    \n",
    "    def to(self, device: torch.device | None = None) -> \"UniformTimesteps\":\n",
    "        if device is not None:\n",
    "            self.t = self.t.to(device)\n",
    "            self.dt = self.dt.to(device)\n",
    "            self.device = device\n",
    "        return self "
   ]
  },
  {
   "cell_type": "markdown",
   "id": "40bfa3ca",
   "metadata": {},
   "source": [
    "## Controls"
   ]
  },
  {
   "cell_type": "code",
   "execution_count": 117,
   "id": "4105fc97",
   "metadata": {},
   "outputs": [],
   "source": [
    "def bridge_control(\n",
    "    sde: SDE, \n",
    "    t: torch.Tensor, \n",
    "    x: torch.Tensor, \n",
    "    *, \n",
    "    t1: torch.Tensor | None = None, \n",
    "    x1: torch.Tensor,\n",
    ") -> torch.Tensor:\n",
    "    \"\"\"\n",
    "    Returns the control for the bridge of the SDE at time t and position x needed to reach x1 at time t1. \n",
    "\n",
    "    parameters: \n",
    "        sde (SDE): The SDE to create the bridge control for.\n",
    "        t (torch.Tensor): [...] Current times.\n",
    "        x (torch.Tensor): [..., D] Current values.\n",
    "        t1 (torch.Tensor): [...] Target times.\n",
    "        x1 (torch.Tensor): [..., D] Target values.\n",
    "\n",
    "    returns: \n",
    "        torch.Tensor: [..., D] Control.\n",
    "    \"\"\"\n",
    "    if t1 is None:\n",
    "        t1 = x1.new_ones(x1.shape[:-1]) # [...]\n",
    "    score = sde.transition(t0=t, t1=t1) * (x1 - sde.mean(t0=t, x0=x, t=t1)) / sde.variance(t0=t, t=t1)\n",
    "    return sde.diffusion(t=t).square() * score\n",
    "\n",
    "\n",
    "class Control:\n",
    "    def __init__(self, device: torch.device | None = None):\n",
    "        self.device = None\n",
    "\n",
    "    def to(self, device: torch.device) -> \"Control\":\n",
    "        self.device = device \n",
    "        return self \n",
    "\n",
    "    @abstractmethod\n",
    "    def control(self, t: torch.Tensor, x: torch.Tensor, **kwargs) -> torch.Tensor:\n",
    "        pass \n",
    "\n",
    "    def __call__(self, t: torch.Tensor, x: torch.Tensor, **kwargs) -> torch.Tensor:\n",
    "        \"\"\"\n",
    "        Returns the control at time t and position x. \n",
    "\n",
    "        parameters: \n",
    "            t (torch.Tensor): [...] times.\n",
    "            x (torch.Tensor): [..., D] values.\n",
    "\n",
    "        returns: \n",
    "            torch.Tensor: [..., D] Control.\n",
    "        \"\"\"\n",
    "        return self.control(t=t, x=x, **kwargs)\n",
    "\n",
    "\n",
    "class ZeroControl(Control):\n",
    "    def control(self, t: torch.Tensor, x: torch.Tensor) -> torch.Tensor:\n",
    "        return x.new_zeros(x.shape) # [..., D]\n",
    "\n",
    "\n",
    "class BridgeControl(Control):\n",
    "    def __init__(self, sde: SDE, x1: torch.Tensor, t1: torch.Tensor | None = None, device: torch.device | None = None): \n",
    "        \"\"\"\n",
    "        Creates the bridge control for the SDE conditioned on being at x1 at time t1. \n",
    "\n",
    "        parameters: \n",
    "            sde (SDE): The SDE to create the bridge control for.\n",
    "            x1 (torch.Tensor): [..., D] Target value.\n",
    "            t1 (torch.Tensor): [...] End times.\n",
    "        \"\"\"\n",
    "        super().__init__(device=device)\n",
    "        self.sde = sde.to(device)\n",
    "        x1 = x1.to(device)\n",
    "        self._x1 = None\n",
    "        self._t1 = None\n",
    "        self.condition(x1=x1, t1=t1)\n",
    "\n",
    "    def to(self, device: torch.device) -> \"BridgeControl\":\n",
    "        super().to(device)\n",
    "        self.sde = self.sde.to(device)\n",
    "        self._x1 = self._x1.to(device)\n",
    "        self._t1 = self._t1.to(device)\n",
    "        return self \n",
    "\n",
    "    def condition(self, x1: torch.Tensor, t1: torch.Tensor | None = None) -> \"BridgeControl\":\n",
    "        \"\"\"\n",
    "        Conditions the bridge on being at x1 at time t1. \n",
    "\n",
    "        parameters: \n",
    "            x1 (torch.Tensor): [..., D] Target value.\n",
    "            t1 (torch.Tensor): [...] End times.\n",
    "\n",
    "        returns: \n",
    "            BridgeControl: The bridge control.\n",
    "        \"\"\"\n",
    "        if t1 is None:\n",
    "            t1 = x1.new_ones(x1.shape[:-1]) # [...]\n",
    "        self._x1 = x1\n",
    "        self._t1 = t1\n",
    "        return self\n",
    "\n",
    "    def control(self, t: torch.Tensor, x: torch.Tensor) -> torch.Tensor:\n",
    "        \"\"\"\n",
    "        Returns the control for the bridge at time t and position x. \n",
    "\n",
    "        parameters: \n",
    "            t (torch.Tensor): [...] times.\n",
    "            x (torch.Tensor): [..., D] values.\n",
    "\n",
    "        returns: \n",
    "            torch.Tensor: [..., D] Control.\n",
    "        \"\"\"\n",
    "        return bridge_control(sde=self.sde, t=t, x=x, t1=self._t1, x1=self._x1)\n",
    "\n",
    "\n",
    "class ModelControl(Control):\n",
    "    def __init__(self, model: torch.nn.Module, device: torch.device | None = None):\n",
    "        super().__init__(device=device)\n",
    "        self.model = model.to(device)\n",
    "\n",
    "    def to(self, device: torch.device | None = None) -> \"ModelControl\":\n",
    "        super().to(device)\n",
    "        self.model = self.model.to(device)\n",
    "        return self \n",
    "\n",
    "    def __call__(self, t: torch.Tensor, x: torch.Tensor) -> torch.Tensor:\n",
    "        return self.model(t, x)\n"
   ]
  },
  {
   "cell_type": "markdown",
   "id": "a0ed57f0",
   "metadata": {},
   "source": [
    "## SDE solvers"
   ]
  },
  {
   "cell_type": "code",
   "execution_count": 118,
   "id": "af9582e8",
   "metadata": {},
   "outputs": [],
   "source": [
    "class EulerMaruyamaSolver(torch.nn.Module):\n",
    "    def __init__(self, sde: SDE, n: int, timesteps: str = \"uniform\"):\n",
    "        # TODO Consider whether to move the SDE into sample_path.\n",
    "        super().__init__()\n",
    "        self.sde = sde\n",
    "\n",
    "        if timesteps == \"uniform\":\n",
    "            self.timesteps = UniformTimesteps(n)\n",
    "        else:\n",
    "            raise ValueError(f\"Invalid timesteps: {timesteps}\")\n",
    "\n",
    "    def dx(self, dt: torch.Tensor, t: torch.Tensor, x: torch.Tensor, *, control: Control) -> torch.Tensor:\n",
    "        \"\"\"\n",
    "        Returns the change in the SDE. \n",
    "\n",
    "        parameters: \n",
    "            dt (torch.Tensor): [] Duration of the timestep.\n",
    "            t (torch.Tensor): [] Time.\n",
    "            x (torch.Tensor): [..., D] Initial value.\n",
    "            control (Control): Control object.\n",
    "\n",
    "        returns: \n",
    "            torch.Tensor: [..., D] Change in the SDE.\n",
    "        \"\"\"\n",
    "        t = t.expand(x.shape[:-1])\n",
    "        drift = self.sde.drift(t=t, x=x) + control(t=t, x=x)\n",
    "        diffusion = self.sde.diffusion(t=t, x=x)\n",
    "        return drift * dt + diffusion * torch.sqrt(dt) * torch.randn_like(x)\n",
    "\n",
    "    def sample_from_terminal(self, x0: torch.Tensor, *, control: Control | None = None) -> torch.Tensor:\n",
    "        \"\"\"\n",
    "        Samples from terminal distribution by running the SDE forward from time 0 to 1.\n",
    "\n",
    "        parameters: \n",
    "            x0 (torch.Tensor): [..., D] Initial value.\n",
    "            control (Control): Control object.\n",
    "\n",
    "        returns: \n",
    "            torch.Tensor: [..., D] Terminal value.\n",
    "        \"\"\"\n",
    "        if control is None:\n",
    "            control = ZeroControl()\n",
    "\n",
    "        ts = self.timesteps.t\n",
    "        dts = self.timesteps.dt\n",
    "\n",
    "        x = x0\n",
    "        for t, dt in zip(ts[:-1], dts):\n",
    "            x = x + self.dx(dt=dt, t=t, x=x, control=control)\n",
    "        return x \n",
    "\n",
    "    def sample_path(self, x0: torch.Tensor, *, control: Control | None = None) -> tuple[torch.Tensor, torch.Tensor]:\n",
    "        \"\"\"\n",
    "        Samples a path from the SDE.\n",
    "\n",
    "        parameters: \n",
    "            x0 (torch.Tensor): [..., D] Initial value.\n",
    "            control (Control): Control object.\n",
    "\n",
    "        returns: \n",
    "            tuple[torch.Tensor, torch.Tensor]: [..., T, D] Path and [T] Time.\n",
    "        \"\"\"\n",
    "\n",
    "        if control is None:\n",
    "            control = ZeroControl()\n",
    "\n",
    "        ts = self.timesteps.t\n",
    "        dts = self.timesteps.dt\n",
    "\n",
    "        x = x0\n",
    "        xs = [x]\n",
    "        for t, dt in zip(ts[:-1], dts):\n",
    "            x = x + self.dx(dt=dt, t=t, x=x, control=control)\n",
    "            xs.append(x)\n",
    "        return torch.stack(xs, dim=-2), ts"
   ]
  },
  {
   "cell_type": "markdown",
   "id": "214e65c2",
   "metadata": {},
   "source": [
    "## Optimal Transport"
   ]
  },
  {
   "cell_type": "code",
   "execution_count": 144,
   "id": "cf5b94c3",
   "metadata": {},
   "outputs": [],
   "source": [
    "class EntropicOTSolver:\n",
    "    def __init__(self, sde: SDE, normalize_variance: bool = True):\n",
    "        self.sde = sde \n",
    "        # TODO might need to put the variance on the right device, so maybe SDE should have a device attribute?\n",
    "        variance = self.sde.variance(t0=torch.tensor(0.0), t=torch.tensor(1.0))\n",
    "\n",
    "        if normalize_variance:\n",
    "            self._epsilon = torch.prod(variance).pow(1.0 / self.sde.dim)\n",
    "            self.normed_stddev = torch.sqrt(variance / self.epsilon) # [..., D]\n",
    "        else:\n",
    "            self._epsilon = torch.tensor(1.0)\n",
    "            self.normed_stddev = torch.sqrt(variance) # [..., D]\n",
    "\n",
    "    @property\n",
    "    def epsilon(self) -> torch.Tensor:\n",
    "        \"\"\"\n",
    "        Returns the epsilon parameter for the entropic OT.\n",
    "\n",
    "        .. math::\n",
    "           \\min_{\\pi \\in \\Pi(\\mu, \\nu)} \\mathbb{E}_{(x, y) \\sim \\pi}[c(x, y)] + \\epsilon H(\\pi)\n",
    "\n",
    "        returns: \n",
    "            torch.Tensor: [..., D] Epsilon parameter. \n",
    "        \"\"\"\n",
    "        return self._epsilon\n",
    "\n",
    "    def cost(self, x0: torch.Tensor, x1: torch.Tensor) -> torch.Tensor:\n",
    "        \"\"\"\n",
    "        Returns the cost between x0 and x1.\n",
    "\n",
    "        parameters:\n",
    "            x0 (torch.Tensor): [..., D] Initial value.\n",
    "            x1 (torch.Tensor): [..., D] Target value.\n",
    "\n",
    "        returns: \n",
    "            torch.Tensor: [...] Optimal transport cost.\n",
    "        \"\"\"\n",
    "\n",
    "        t0 = x0.new_zeros(x0.shape[:-1])\n",
    "        t1 = x1.new_ones(x1.shape[:-1])\n",
    "        z = (x1 - self.sde.mean(t0=t0, x0=x0, t=t1)) / self.normed_stddev # ([..., D] - [..., D]) / [D] -> [..., D]\n",
    "        return torch.linalg.vector_norm(z, ord=2, dim=-1) # [..., D] -> [...]\n",
    "\n",
    "    def cost_matrix(self, x0: torch.Tensor, x1: torch.Tensor) -> torch.Tensor:\n",
    "        \"\"\"\n",
    "        Returns the cost matrix between x0 and x1.\n",
    "\n",
    "        parameters: \n",
    "            x0 (torch.Tensor): [..., N, D] Initial value.\n",
    "            x1 (torch.Tensor): [..., M, D] Target value.\n",
    "\n",
    "        returns: \n",
    "            torch.Tensor: [..., N, M] Cost matrix.\n",
    "        \"\"\"\n",
    "        assert x0.ndim >= 2, \"x0 must have at least 2 dimensions\"\n",
    "        assert x1.ndim >= 2, \"x1 must have at least 2 dimensions\"\n",
    "\n",
    "        # Expand x0 and x1 for broadcasting\n",
    "        # x0_expanded: [..., N, 1, D]\n",
    "        # x1_expanded: [..., 1, M, D]\n",
    "        x0_expanded = x0.unsqueeze(-2)  # [..., N, 1, D]\n",
    "        x1_expanded = x1.unsqueeze(-3)  # [..., 1, M, D]\n",
    "\n",
    "        # Compute cost for each pair (n, m)\n",
    "        # Use the same cost as in self.cost, but vectorized\n",
    "        t0 = x0.new_zeros(x0.shape[:-2] + (x0.shape[-2], 1))  # [..., N, 1]\n",
    "        t1 = x1.new_ones(x0.shape[:-2] + (1, x1.shape[-2]))   # [..., 1, M]\n",
    "        # mean: [..., N, 1, D]\n",
    "        mean = self.sde.mean(t0=t0, x0=x0_expanded, t=t1)\n",
    "        # normed_variance: [D]\n",
    "        z = (x1_expanded - mean) / self.normed_stddev  # ([..., 1, M, D] - [..., N, 1, D]) / [D] -> [..., N, M, D]\n",
    "        cost = torch.linalg.vector_norm(z, ord=2, dim=-1)  # [..., N, M]\n",
    "        return cost\n",
    "        \n",
    "    def solve(\n",
    "        self, \n",
    "        x0: torch.Tensor, \n",
    "        x1: torch.Tensor, \n",
    "        method: str = \"sinkhorn\",\n",
    "        num_iter_max: int = 1000,\n",
    "        stop_threshold: float = 1e-9,\n",
    "        verbose: bool = False,\n",
    "        log: bool = False,\n",
    "        warn: bool = True,\n",
    "    ) -> torch.Tensor:\n",
    "        \"\"\"\n",
    "        Returns the optimal transport plan between x0 and x1.\n",
    "\n",
    "        parameters: \n",
    "            x0 (torch.Tensor): [N, D] Initial value.\n",
    "            x1 (torch.Tensor): [M, D] Target value.\n",
    "\n",
    "        returns: \n",
    "            torch.Tensor: [N, M] Optimal transport plan.\n",
    "        \"\"\"\n",
    "        assert x0.ndim == 2, \"x0 must have 2 dimensions\"\n",
    "        assert x1.ndim == 2, \"x1 must have 2 dimensions\"\n",
    "\n",
    "        cost_matrix = self.cost_matrix(x0, x1)\n",
    "        px0 = x0.new_ones(x0.shape[0]) / x0.shape[0]\n",
    "        px1 = x1.new_ones(x1.shape[0]) / x1.shape[0]\n",
    "\n",
    "        # convert to numpy\n",
    "        cost_matrix = cost_matrix.detach().cpu().numpy()\n",
    "        px0 = px0.detach().cpu().numpy()\n",
    "        px1 = px1.detach().cpu().numpy()\n",
    "        epsilon = self.epsilon.detach().cpu().numpy()\n",
    "\n",
    "        optimal_plan = ot.sinkhorn(\n",
    "            a=px0, \n",
    "            b=px1, \n",
    "            M=cost_matrix, \n",
    "            reg=epsilon, \n",
    "            method=method,\n",
    "            num_iter_max=num_iter_max, \n",
    "            stop_threshold=stop_threshold, \n",
    "            verbose=verbose, \n",
    "            log=log, \n",
    "            warn=warn\n",
    "        )\n",
    "\n",
    "        return torch.as_tensor(optimal_plan, device=x0.device, dtype=x0.dtype)"
   ]
  },
  {
   "cell_type": "markdown",
   "id": "5835cf10",
   "metadata": {},
   "source": [
    "## Data"
   ]
  },
  {
   "cell_type": "code",
   "execution_count": 133,
   "id": "420531c9",
   "metadata": {},
   "outputs": [],
   "source": [
    "class UniformTimeSampler:\n",
    "    def __init__(self, device: torch.device | None = None, dtype: torch.dtype | None = None):\n",
    "        self.device = device\n",
    "        self.dtype = dtype\n",
    "\n",
    "    def to(self, device: torch.device) -> \"UniformTimeSampler\":\n",
    "        self.device = device\n",
    "        return self \n",
    "\n",
    "    def sample(self, shape: torch.Size) -> torch.Tensor:\n",
    "        return torch.rand(shape, device=self.device, dtype=self.dtype)\n",
    "\n",
    "\n",
    "class MatchingDataset(torch.utils.data.Dataset):\n",
    "    def __init__(self, x0: torch.Tensor, x1: torch.Tensor, time_sampler: UniformTimeSampler | None = None):\n",
    "        super().__init__()\n",
    "        self.x0 = x0\n",
    "        self.x1 = x1\n",
    "        self.time_sampler = time_sampler or UniformTimeSampler(device=x0.device, dtype=x0.dtype)\n",
    "    \n",
    "    def __getitem__(self, idx: torch.Tensor) -> tuple[torch.Tensor, torch.Tensor, torch.Tensor]:\n",
    "        \"\"\"\n",
    "        returns:\n",
    "            t: torch.Tensor, shape [...]\n",
    "            x0: torch.Tensor, shape [..., D]\n",
    "            x1: torch.Tensor, shape [..., D]\n",
    "        \"\"\"\n",
    "        x0_idx, x1_idx = torch.unbind(idx, dim=-1)\n",
    "        t = self.time_sampler.sample(x0_idx.shape)\n",
    "        return t, self.x0[x0_idx], self.x1[x1_idx]\n",
    "    \n",
    "    def __len__(self) -> int:\n",
    "        raise NotImplementedError(\"Length of MatchingDataset is not defined.\")\n",
    "        \n",
    "\n",
    "class OTBatchSampler(torch.utils.data.Sampler):\n",
    "    def __init__(self, dataset: MatchingDataset, ot_solver: EntropicOTSolver, batch_size: int, num_samples: int):\n",
    "        super().__init__()\n",
    "        self.dataset = dataset\n",
    "        self.joint_distribution = ot_solver.solve(dataset.x0, dataset.x1)\n",
    "        self.batch_size = batch_size\n",
    "        self.num_samples = num_samples\n",
    "\n",
    "    def __iter__(self):\n",
    "        for _ in range(len(self)):\n",
    "            yield joint_multinomial(self.joint_distribution, self.batch_size)\n",
    "\n",
    "    def __len__(self) -> int:\n",
    "        return self.num_samples // self.batch_size\n",
    "\n",
    "\n",
    "class MatchingDataLoader:\n",
    "    def __init__(self, dataset: MatchingDataset, batch_sampler: OTBatchSampler):\n",
    "        self.dataset = dataset\n",
    "        self.batch_sampler = batch_sampler\n",
    "\n",
    "    def __iter__(self):\n",
    "        for batch in self.batch_sampler:\n",
    "            yield self.dataset[batch]\n",
    "\n",
    "    def __len__(self) -> int:\n",
    "        return len(self.batch_sampler)"
   ]
  },
  {
   "cell_type": "markdown",
   "id": "baf9c868",
   "metadata": {},
   "source": [
    "# 2d Linear Gaussian bridge example"
   ]
  },
  {
   "cell_type": "code",
   "execution_count": 134,
   "id": "2bf85b03",
   "metadata": {},
   "outputs": [
    {
     "data": {
      "image/png": "[encoded data removed]",
      "text/plain": [
       "<Figure size 800x600 with 2 Axes>"
      ]
     },
     "metadata": {},
     "output_type": "display_data"
    }
   ],
   "source": [
    "dim = 2\n",
    "L = torch.eye(dim)\n",
    "c = 4.0\n",
    "sigma = 0.4\n",
    "n = 1000\n",
    "\n",
    "sde = HeatBMTSDE(L=L, c=c, sigma=sigma)\n",
    "sde_solver = EulerMaruyamaSolver(sde=sde, n=n)\n",
    "\n",
    "delta_x = torch.tensor([3.0, 0.0])\n",
    "x0 = torch.tensor([-1.0, -1.0]) + delta_x\n",
    "x1 = torch.tensor([1.0, 1.0]) + delta_x\n",
    "\n",
    "# Sample 100 paths from x0 to x1\n",
    "x0s = x0.expand(100, 2)\n",
    "x1s = x1.expand(100, 2)\n",
    "control = BridgeControl(sde=sde, x1=x1s)\n",
    "xts, ts = sde_solver.sample_path(x0s, control=control)\n",
    "xts = sde.inverse_transform(xts)\n",
    "\n",
    "\n",
    "xmids = sde.marginal_distribution(t=torch.tensor(0.8), x0=x0, x1=x1).sample((100,))\n",
    "\n",
    "\n",
    "\n",
    "# Assume xts shape: [N, T, D] or [T, D] if single batch\n",
    "xts_np = xts.detach().cpu().numpy()\n",
    "ts_np = ts.detach().cpu().numpy()\n",
    "\n",
    "# Ensure shape is [N, T, D]\n",
    "if xts_np.ndim == 2:\n",
    "    xts_np = xts_np[None, ...]  # [1, T, D]\n",
    "\n",
    "N, T, D = xts_np.shape\n",
    "assert D == 2, \"D must be 2 for 2D plotting\"\n",
    "\n",
    "# Prepare segments for LineCollection: each path is (T, 2), segments are (T-1, 2, 2)\n",
    "segments = []\n",
    "colors = []\n",
    "norm = plt.Normalize(ts_np.min(), ts_np.max())\n",
    "# Use a blue-to-red colormap\n",
    "cmap = plt.get_cmap('coolwarm')  # blue (low) to red (high)\n",
    "\n",
    "# Use a single alpha value for all lines\n",
    "global_alpha = 0.1\n",
    "\n",
    "for i in range(N):\n",
    "    points = xts_np[i, :, :2]\n",
    "    segs = np.stack([points[:-1], points[1:]], axis=1)  # (T-1, 2, 2)\n",
    "    segments.append(segs)\n",
    "    # Color for each segment (time-varying colormap, fixed alpha)\n",
    "    t_mid = (ts_np[:-1] + ts_np[1:]) / 2\n",
    "    seg_colors = cmap(norm(t_mid))\n",
    "    seg_colors[:, -1] = global_alpha  # Set the same alpha for all segments\n",
    "    colors.append(seg_colors)\n",
    "\n",
    "# Concatenate all segments and colors\n",
    "all_segments = np.concatenate(segments, axis=0)\n",
    "all_colors = np.concatenate(colors, axis=0)\n",
    "\n",
    "fig, ax = plt.subplots(figsize=(8, 6))\n",
    "lc = LineCollection(all_segments, colors=all_colors, linewidths=1)\n",
    "ax.add_collection(lc)\n",
    "\n",
    "# Add scatterplot of xmids, black markers\n",
    "xmids_np = xmids.detach().cpu().numpy()\n",
    "x1s_np = xts_np[..., -1, :]\n",
    "ax.scatter(xmids_np[:, 0], xmids_np[:, 1], color='k', marker='o', s=20, label='xmids')\n",
    "ax.scatter(x1s_np[:, 0], x1s_np[:, 1], color='r', marker='o', s=20, label='x1s')\n",
    "\n",
    "# Set axis limits\n",
    "all_x = xts_np[..., 0].ravel()\n",
    "all_y = xts_np[..., 1].ravel()\n",
    "ax.set_xlim(all_x.min(), all_x.max())\n",
    "ax.set_ylim(all_y.min(), all_y.max())\n",
    "\n",
    "ax.set_xlabel('x[0]')\n",
    "ax.set_ylabel('x[1]')\n",
    "ax.set_title('Sample Paths with Time-varying Color (Blue to Red, Fixed Alpha)')\n",
    "\n",
    "# Colorbar for time\n",
    "sm = plt.cm.ScalarMappable(cmap=cmap, norm=norm)\n",
    "sm.set_array([])\n",
    "cbar = plt.colorbar(sm, ax=ax, label='Time')\n",
    "plt.show()\n"
   ]
  },
  {
   "cell_type": "markdown",
   "id": "9771f7cd",
   "metadata": {},
   "source": [
    "# Optimal Transport Cost"
   ]
  },
  {
   "cell_type": "code",
   "execution_count": 135,
   "id": "83f060ad",
   "metadata": {},
   "outputs": [
    {
     "data": {
      "image/png": "[encoded data removed]",
      "text/plain": [
       "<Figure size 800x700 with 2 Axes>"
      ]
     },
     "metadata": {},
     "output_type": "display_data"
    }
   ],
   "source": [
    "# Solve entropic OT problem between a centred Gaussian and a mixture of three Gaussians\n",
    "dim = 2\n",
    "L = torch.eye(dim)\n",
    "c = 0.5\n",
    "sigma = 0.3\n",
    "\n",
    "sde = HeatBMTSDE(L=L, c=c, sigma=sigma)\n",
    "ot_solver = EntropicOTSolver(sde=sde, normalize_variance=False)\n",
    "\n",
    "\n",
    "x0 = torch.tensor([3.0, 0.0])\n",
    "# Create a grid of y points and evaluate the cost from x0 to them using cost_matrix\n",
    "\n",
    "# Define grid limits and resolution\n",
    "y_min, y_max, n_grid = -5.0, 5.0, 50\n",
    "y1 = torch.linspace(y_min, y_max, n_grid)\n",
    "y2 = torch.linspace(y_min, y_max, n_grid)\n",
    "y1g, y2g = torch.meshgrid(y1, y2, indexing='xy')\n",
    "y_grid = torch.stack([y1g, y2g], dim=-1)\n",
    "\n",
    "# Evaluate cost from x0 to each y in the grid using cost_matrix\n",
    "costs = ot_solver.cost(x0.expand_as(y_grid), y_grid)\n",
    "\n",
    "\n",
    "# Plot the cost as a heatmap\n",
    "plt.figure(figsize=(8, 7))\n",
    "plt.imshow(costs, extent=[y_min, y_max, y_min, y_max], cmap='viridis')\n",
    "plt.colorbar(label='Cost')\n",
    "plt.xlabel('y1')\n",
    "plt.ylabel('y2')\n",
    "plt.title('Cost from x0 to y_grid')\n",
    "plt.show()"
   ]
  },
  {
   "cell_type": "markdown",
   "id": "b3b2f5e2",
   "metadata": {},
   "source": [
    "# Optimal transfer plan and the induced linear flow"
   ]
  },
  {
   "cell_type": "code",
   "execution_count": 136,
   "id": "206c4f7c",
   "metadata": {},
   "outputs": [
    {
     "ename": "AttributeError",
     "evalue": "'float' object has no attribute 'detach'",
     "output_type": "error",
     "traceback": [
      "\u001b[0;31m---------------------------------------------------------------------------\u001b[0m",
      "\u001b[0;31mAttributeError\u001b[0m                            Traceback (most recent call last)",
      "Cell \u001b[0;32mIn[136], line 24\u001b[0m\n\u001b[1;32m     21\u001b[0m x0 \u001b[38;5;241m=\u001b[39m R0\u001b[38;5;241m.\u001b[39msample((n_samples,))\n\u001b[1;32m     22\u001b[0m x1 \u001b[38;5;241m=\u001b[39m R1\u001b[38;5;241m.\u001b[39msample((n_samples,))\n\u001b[0;32m---> 24\u001b[0m ot_plan \u001b[38;5;241m=\u001b[39m \u001b[43mot_solver\u001b[49m\u001b[38;5;241;43m.\u001b[39;49m\u001b[43msolve\u001b[49m\u001b[43m(\u001b[49m\u001b[43mx0\u001b[49m\u001b[43m,\u001b[49m\u001b[43m \u001b[49m\u001b[43mx1\u001b[49m\u001b[43m)\u001b[49m\n\u001b[1;32m     28\u001b[0m plt\u001b[38;5;241m.\u001b[39mfigure(figsize\u001b[38;5;241m=\u001b[39m(\u001b[38;5;241m6\u001b[39m, \u001b[38;5;241m5\u001b[39m))\n\u001b[1;32m     29\u001b[0m plt\u001b[38;5;241m.\u001b[39mimshow(ot_plan, aspect\u001b[38;5;241m=\u001b[39m\u001b[38;5;124m'\u001b[39m\u001b[38;5;124mauto\u001b[39m\u001b[38;5;124m'\u001b[39m, cmap\u001b[38;5;241m=\u001b[39m\u001b[38;5;124m'\u001b[39m\u001b[38;5;124mviridis\u001b[39m\u001b[38;5;124m'\u001b[39m)\n",
      "Cell \u001b[0;32mIn[132], line 107\u001b[0m, in \u001b[0;36mEntropicOTSolver.solve\u001b[0;34m(self, x0, x1, method, num_iter_max, stop_threshold, verbose, log, warn)\u001b[0m\n\u001b[1;32m    105\u001b[0m px0 \u001b[38;5;241m=\u001b[39m px0\u001b[38;5;241m.\u001b[39mdetach()\u001b[38;5;241m.\u001b[39mcpu()\u001b[38;5;241m.\u001b[39mnumpy()\n\u001b[1;32m    106\u001b[0m px1 \u001b[38;5;241m=\u001b[39m px1\u001b[38;5;241m.\u001b[39mdetach()\u001b[38;5;241m.\u001b[39mcpu()\u001b[38;5;241m.\u001b[39mnumpy()\n\u001b[0;32m--> 107\u001b[0m epsilon \u001b[38;5;241m=\u001b[39m \u001b[38;5;28;43mself\u001b[39;49m\u001b[38;5;241;43m.\u001b[39;49m\u001b[43mepsilon\u001b[49m\u001b[38;5;241;43m.\u001b[39;49m\u001b[43mdetach\u001b[49m()\u001b[38;5;241m.\u001b[39mcpu()\u001b[38;5;241m.\u001b[39mnumpy()\n\u001b[1;32m    109\u001b[0m optimal_plan \u001b[38;5;241m=\u001b[39m ot\u001b[38;5;241m.\u001b[39msinkhorn(\n\u001b[1;32m    110\u001b[0m     a\u001b[38;5;241m=\u001b[39mpx0, \n\u001b[1;32m    111\u001b[0m     b\u001b[38;5;241m=\u001b[39mpx1, \n\u001b[0;32m   (...)\u001b[0m\n\u001b[1;32m    119\u001b[0m     warn\u001b[38;5;241m=\u001b[39mwarn\n\u001b[1;32m    120\u001b[0m )\n\u001b[1;32m    122\u001b[0m \u001b[38;5;28;01mreturn\u001b[39;00m torch\u001b[38;5;241m.\u001b[39mas_tensor(optimal_plan, device\u001b[38;5;241m=\u001b[39mx0\u001b[38;5;241m.\u001b[39mdevice, dtype\u001b[38;5;241m=\u001b[39mx0\u001b[38;5;241m.\u001b[39mdtype)\n",
      "\u001b[0;31mAttributeError\u001b[0m: 'float' object has no attribute 'detach'"
     ]
    }
   ],
   "source": [
    "delta_mu = torch.tensor([3.0, 0.0])\n",
    "\n",
    "mu0, sigma0 = torch.zeros(2) + delta_mu, torch.eye(2) * 0.3\n",
    "R0 = torch.distributions.MultivariateNormal(loc=mu0, covariance_matrix=sigma0)\n",
    "\n",
    "r = 2.0\n",
    "mu11, sigma11 = torch.tensor([0.0, 2.0]) * r + delta_mu, torch.eye(2) * 0.1\n",
    "mu12, sigma12 = torch.tensor([-1.5, -1.0]) * r + delta_mu, torch.eye(2) * 0.1\n",
    "mu13, sigma13 = torch.tensor([1.5, -1.0]) * r + delta_mu, torch.eye(2) * 0.1\n",
    "component_distribution = torch.distributions.MultivariateNormal(\n",
    "    loc=torch.stack([mu11, mu12, mu13], dim=0), \n",
    "    covariance_matrix=torch.stack([sigma11, sigma12, sigma13], dim=0)\n",
    ")\n",
    "mixture_distribution = torch.distributions.Categorical(probs=torch.tensor([1/3, 1/3, 1/3]))\n",
    "R1 = torch.distributions.MixtureSameFamily(\n",
    "    mixture_distribution=mixture_distribution, \n",
    "    component_distribution=component_distribution\n",
    ")\n",
    "\n",
    "n_samples = 100\n",
    "x0 = R0.sample((n_samples,))\n",
    "x1 = R1.sample((n_samples,))\n",
    "\n",
    "ot_plan = ot_solver.solve(x0, x1)\n",
    "\n",
    "\n",
    "\n",
    "plt.figure(figsize=(6, 5))\n",
    "plt.imshow(ot_plan, aspect='auto', cmap='viridis')\n",
    "plt.colorbar(label='OT Plan Value')\n",
    "plt.title('Optimal Transport Plan Heatmap')\n",
    "plt.xlabel('Target Sample Index')\n",
    "plt.ylabel('Source Sample Index')\n",
    "plt.show()\n",
    "\n",
    "\n",
    "\n",
    "# Ensure x0, x1, and ot_plan are on CPU and convert to numpy arrays\n",
    "x0_np = x0.cpu().numpy() if hasattr(x0, \"cpu\") else x0.numpy()\n",
    "x1_np = x1.cpu().numpy() if hasattr(x1, \"cpu\") else x1.numpy()\n",
    "ot_plan_np = ot_plan.cpu().numpy() if hasattr(ot_plan, \"cpu\") else ot_plan.numpy()\n",
    "\n",
    "# (Assume x0_np, x1_np, ot_plan_np are already CPU NumPy arrays.)\n",
    "n = x0_np.shape[0]\n",
    "\n",
    "plt.figure(figsize=(8, 7))\n",
    "ax = plt.gca()\n",
    "ax.scatter(x0_np[:, 0], x0_np[:, 1],\n",
    "           color='blue', label='Source', alpha=0.7)\n",
    "ax.scatter(x1_np[:, 0], x1_np[:, 1],\n",
    "           color='red',  label='Target', alpha=0.7)\n",
    "\n",
    "# parameters\n",
    "max_plan = ot_plan_np.max()\n",
    "threshold = 0.01 * max_plan\n",
    "\n",
    "cmap = plt.get_cmap('coolwarm')\n",
    "norm = Normalize(vmin=0, vmax=1)\n",
    "\n",
    "segments = []\n",
    "colors = []\n",
    "widths = []\n",
    "\n",
    "# how many sub‐segments per arrow\n",
    "n_sub = 10\n",
    "\n",
    "for i in range(n):\n",
    "    for j in range(n):\n",
    "        w = ot_plan_np[i, j]\n",
    "        if w <= threshold:\n",
    "            continue\n",
    "\n",
    "        start = x0_np[i]\n",
    "        end = x1_np[j]\n",
    "        # generate equally‐spaced points along the line\n",
    "        pts = np.linspace(start, end, n_sub + 1)\n",
    "\n",
    "        # line thickness & overall alpha from flow magnitude\n",
    "        flow = w / max_plan\n",
    "        lw = 0.5 + 2.5 * flow\n",
    "        alpha = flow * 0.3\n",
    "\n",
    "        # build each tiny segment\n",
    "        for k in range(n_sub):\n",
    "            seg_t = [pts[k], pts[k + 1]]\n",
    "            t = k / n_sub  # 0 at source, 1 at target\n",
    "            # pick color from cmap and inject our α\n",
    "            r, g, b, _ = cmap(norm(t))\n",
    "            colors.append((r, g, b, alpha))\n",
    "            widths.append(lw)\n",
    "            segments.append(seg_t)\n",
    "\n",
    "# assemble the LineCollection\n",
    "lc = LineCollection(segments,\n",
    "                    colors=colors,\n",
    "                    linewidths=widths,\n",
    "                    zorder=0)\n",
    "ax.add_collection(lc)\n",
    "\n",
    "# add colorbar for “time” scale\n",
    "sm = cm.ScalarMappable(norm=norm, cmap=cmap)\n",
    "sm.set_array(np.linspace(0, 1, 100))   # dummy array\n",
    "cbar = plt.colorbar(sm, ax=ax, fraction=0.046, pad=0.04)\n",
    "cbar.set_label('Implicit Time (0=Source, 1=Target)')\n",
    "\n",
    "ax.set(title='Probability Flow Induced by Entropic OT Plan',\n",
    "       xlabel='x', ylabel='y')\n",
    "ax.legend()\n",
    "ax.grid(True)\n",
    "plt.tight_layout()\n",
    "plt.show()\n"
   ]
  },
  {
   "cell_type": "markdown",
   "id": "7f74787f",
   "metadata": {},
   "source": [
    "# Synthetic Experiments"
   ]
  },
  {
   "cell_type": "markdown",
   "id": "410f8c74",
   "metadata": {},
   "source": [
    "## Models"
   ]
  },
  {
   "cell_type": "code",
   "execution_count": 137,
   "id": "70c52fb8",
   "metadata": {},
   "outputs": [],
   "source": [
    "def timestep_embedding(\n",
    "    timesteps: torch.Tensor,\n",
    "    dim: int,\n",
    "    max_period: int = 10000\n",
    ") -> torch.Tensor:\n",
    "    \"\"\"\n",
    "    Create sinusoidal timestep embeddings.\n",
    "\n",
    "    parameters: \n",
    "        timesteps: [...]\n",
    "        dim: int\n",
    "        max_period: int\n",
    "\n",
    "    returns:\n",
    "        embedding: [..., dim]\n",
    "    \"\"\"\n",
    "    dim_over_2, dim_mod_2 = divmod(dim, 2)\n",
    "    freqs = torch.exp(\n",
    "        -math.log(max_period) * torch.arange(0, dim_over_2, device=timesteps.device, dtype=timesteps.dtype) \n",
    "        / dim_over_2\n",
    "    ) # [D/2]\n",
    "    args = timesteps.unsqueeze(-1) * freqs.unsqueeze(0) # [..., 1] * [1, D/2] = [..., D/2]\n",
    "    embedding = torch.cat([torch.cos(args), torch.sin(args)], dim=-1) # [..., D]\n",
    "\n",
    "    if dim_mod_2 == 1:\n",
    "        zero_column = embedding.new_zeros(embedding.shape[0], 1)\n",
    "        embedding = torch.cat([embedding, zero_column], dim=-1)\n",
    "    return embedding\n",
    "\n",
    "\n",
    "class SiLU(torch.nn.Module):\n",
    "    def forward(self, x):\n",
    "        return x * torch.sigmoid(x)\n",
    "\n",
    "\n",
    "class FCs(torch.nn.Module):\n",
    "    \"\"\"\n",
    "    Fully connected feedforward neural network with configurable number of layers.\n",
    "    \"\"\"\n",
    "    def __init__(\n",
    "        self,\n",
    "        dim_in: int,\n",
    "        dim_hid: int,\n",
    "        dim_out: int,\n",
    "        num_layers: int = 2\n",
    "    ) -> None:\n",
    "        \"\"\"\n",
    "        Fully connected feedforward neural network with configurable number of layers.\n",
    "\n",
    "        Args:\n",
    "            dim_in (int): Input feature dimension.\n",
    "            dim_hid (int): Hidden layer dimension.\n",
    "            dim_out (int): Output feature dimension.\n",
    "            num_layers (int, optional): Total number of layers (including input and output layers). Default is 2.\n",
    "        \"\"\"\n",
    "        super(FCs, self).__init__()\n",
    "        self.model = torch.nn.Sequential()\n",
    "        self.model.add_module('fc_in', torch.nn.Linear(dim_in, dim_hid))\n",
    "        self.model.add_module('relu_in', torch.nn.ReLU())\n",
    "        for i in range(num_layers - 2):\n",
    "            self.model.add_module(f'fc_{i}', torch.nn.Linear(dim_hid, dim_hid))\n",
    "            self.model.add_module(f'relu_{i}', torch.nn.ReLU())\n",
    "        self.model.add_module('fc_out', torch.nn.Linear(dim_hid, dim_out))\n",
    "\n",
    "    def forward(self, x: torch.Tensor) -> torch.Tensor:\n",
    "        return self.model(x)\n",
    "\n",
    "\n",
    "class ResNet_FC(torch.nn.Module):\n",
    "    \"\"\"\n",
    "    A fully connected network with an initial linear layer followed by a sequence of residual blocks.\n",
    "    Each residual block consists of several linear layers with SiLU activations.\n",
    "    \"\"\"\n",
    "\n",
    "    def __init__(self, data_dim: int, hidden_dim: int, num_res_blocks: int) -> None:\n",
    "        \"\"\"\n",
    "        Initialize the ResNet_FC module.\n",
    "\n",
    "        Args:\n",
    "            data_dim (int): Input feature dimension.\n",
    "            hidden_dim (int): Hidden layer dimension for all residual blocks.\n",
    "            num_res_blocks (int): Number of residual blocks.\n",
    "        \"\"\"\n",
    "        super().__init__()\n",
    "        self.hidden_dim: int = hidden_dim\n",
    "        self.map: torch.nn.Linear = torch.nn.Linear(data_dim, hidden_dim)\n",
    "        self.res_blocks: torch.nn.ModuleList = torch.nn.ModuleList(\n",
    "            [self.build_res_block() for _ in range(num_res_blocks)]\n",
    "        )\n",
    "\n",
    "    def build_linear(self, in_features: int, out_features: int) -> torch.nn.Linear:\n",
    "        \"\"\"\n",
    "        Build a linear layer.\n",
    "\n",
    "        Args:\n",
    "            in_features (int): Number of input features.\n",
    "            out_features (int): Number of output features.\n",
    "\n",
    "        Returns:\n",
    "            torch.nn.Linear: Linear layer.\n",
    "        \"\"\"\n",
    "        return torch.nn.Linear(in_features, out_features)\n",
    "\n",
    "    def build_res_block(self) -> torch.nn.Sequential:\n",
    "        \"\"\"\n",
    "        Build a residual block consisting of several linear layers and SiLU activations.\n",
    "\n",
    "        Returns:\n",
    "            torch.nn.Sequential: Sequential container of layers forming a residual block.\n",
    "        \"\"\"\n",
    "        hid: int = self.hidden_dim\n",
    "        layers: list[torch.nn.Module] = []\n",
    "        widths: list[int] = [hid] * 4\n",
    "        for i in range(len(widths) - 1):\n",
    "            layers.append(self.build_linear(widths[i], widths[i + 1]))\n",
    "            layers.append(SiLU())\n",
    "        return torch.nn.Sequential(*layers)\n",
    "\n",
    "    def forward(self, x: torch.Tensor) -> torch.Tensor:\n",
    "        \"\"\"\n",
    "        Forward pass through the network.\n",
    "\n",
    "        Args:\n",
    "            x (torch.Tensor): Input tensor of shape (batch_size, data_dim).\n",
    "\n",
    "        Returns:\n",
    "            torch.Tensor: Output tensor after passing through the network.\n",
    "        \"\"\"\n",
    "        h = self.map(x)\n",
    "        for res_block in self.res_blocks:\n",
    "            h = (h + res_block(h)) / np.sqrt(2)\n",
    "        return h\n",
    "\n",
    "class TimestepBlock(torch.nn.Module):\n",
    "    \"\"\"\n",
    "    Any module where forward() takes timestep embeddings as a second argument.\n",
    "    \"\"\"\n",
    "\n",
    "    @abstractmethod\n",
    "    def forward(self, x: torch.Tensor, emb: torch.Tensor) -> torch.Tensor:\n",
    "        \"\"\"\n",
    "        Apply the module to `x` given `emb` timestep embeddings.\n",
    "        \"\"\"\n",
    "\n",
    "class TimestepEmbedSequential(torch.nn.Sequential, TimestepBlock):\n",
    "    \"\"\"\n",
    "    A sequential module that passes timestep embeddings to the children that\n",
    "    support it as an extra input.\n",
    "    \"\"\"\n",
    "\n",
    "    def forward(self, x: torch.Tensor, emb: torch.Tensor) -> torch.Tensor:\n",
    "        for layer in self:\n",
    "            if isinstance(layer, TimestepBlock):\n",
    "                x = layer(x, emb)\n",
    "            else:\n",
    "                x = layer(x)\n",
    "        return x\n",
    "\n",
    "\n",
    "class GCNLayer(torch.nn.Module):\n",
    "    \"\"\"\n",
    "    Graph Convolutional Network (GCN) Layer with Chebyshev polynomial support.\n",
    "\n",
    "    Args:\n",
    "        in_channels (int): Number of input channels/features.\n",
    "        out_channels (int): Number of output channels/features.\n",
    "        conv_order (int): Order of the Chebyshev polynomial (number of hops).\n",
    "        laplacian (torch.Tensor): Laplacian or adjacency matrix.\n",
    "        aggr_norm (bool, optional): Whether to normalize aggregation. Default is False.\n",
    "        update_func (str or None, optional): Activation function to use after aggregation.\n",
    "            Options: \"sigmoid\", \"relu\", \"id\", or None. Default is None.\n",
    "        initialization (str, optional): Weight initialization method.\n",
    "            Options: \"xavier_uniform\", \"xavier_normal\". Default is \"xavier_uniform\".\n",
    "    \"\"\"\n",
    "\n",
    "    def __init__(\n",
    "        self,\n",
    "        in_channels: int,\n",
    "        out_channels: int,\n",
    "        conv_order: int,\n",
    "        laplacian: torch.Tensor,\n",
    "        *, \n",
    "        aggr_norm: bool = False,\n",
    "        update_func: str | None = None,\n",
    "        initialization: str = \"xavier_uniform\",\n",
    "    ) -> None:\n",
    "        super().__init__()\n",
    "\n",
    "        self.in_channels: int = in_channels\n",
    "        self.out_channels: int = out_channels\n",
    "        self.conv_order: int = conv_order\n",
    "        self.laplacian: torch.Tensor = laplacian\n",
    "        self.aggr_norm: bool = aggr_norm\n",
    "        self.update_func: str | None = update_func\n",
    "        self.initialization: str = initialization\n",
    "        assert initialization in [\"xavier_uniform\", \"xavier_normal\"]\n",
    "\n",
    "        self.weight: torch.nn.Parameter = torch.nn.Parameter(\n",
    "            torch.Tensor(\n",
    "                self.in_channels,\n",
    "                self.out_channels,\n",
    "                1 + self.conv_order,\n",
    "            )\n",
    "        )\n",
    "\n",
    "        self.reset_parameters()\n",
    "\n",
    "    def reset_parameters(self, gain: float = 1.414) -> None:\n",
    "        \"\"\"\n",
    "        Reset the parameters of the layer using the specified initialization.\n",
    "\n",
    "        Args:\n",
    "            gain (float, optional): Gain value for initialization. Default is 1.414.\n",
    "        \"\"\"\n",
    "        if self.initialization == \"xavier_uniform\":\n",
    "            torch.nn.init.xavier_uniform_(self.weight, gain=gain)\n",
    "        elif self.initialization == \"xavier_normal\":\n",
    "            torch.nn.init.xavier_normal_(self.weight, gain=gain)\n",
    "\n",
    "    def aggr_norm_func(self, conv_operator: torch.Tensor, x: torch.Tensor) -> torch.Tensor:\n",
    "        \"\"\"\n",
    "        Normalize the aggregation by the neighborhood size.\n",
    "\n",
    "        Args:\n",
    "            conv_operator (torch.Tensor): The convolution operator (adjacency or Laplacian matrix).\n",
    "            x (torch.Tensor): Input tensor.\n",
    "\n",
    "        Returns:\n",
    "            torch.Tensor: Normalized tensor.\n",
    "        \"\"\"\n",
    "        neighborhood_size = torch.sum(conv_operator.to_dense(), dim=1)\n",
    "        neighborhood_size_inv = 1 / neighborhood_size\n",
    "        neighborhood_size_inv[~(torch.isfinite(neighborhood_size_inv))] = 0\n",
    "\n",
    "        x = torch.einsum(\"i,ij->ij \", neighborhood_size_inv, x)\n",
    "        x[~torch.isfinite(x)] = 0\n",
    "        return x\n",
    "\n",
    "    def update(self, x: torch.Tensor) -> torch.Tensor | None:\n",
    "        \"\"\"\n",
    "        Apply the update (activation) function to the input.\n",
    "\n",
    "        Args:\n",
    "            x (torch.Tensor): Input tensor.\n",
    "\n",
    "        Returns:\n",
    "            torch.Tensor or None: Activated tensor or None if update_func is not recognized.\n",
    "        \"\"\"\n",
    "        if self.update_func == \"sigmoid\":\n",
    "            return torch.sigmoid(x)\n",
    "        if self.update_func == \"relu\":\n",
    "            return torch.nn.functional.relu(x)\n",
    "        if self.update_func == \"id\":\n",
    "            return x\n",
    "        return None\n",
    "\n",
    "    def chebyshev_conv(\n",
    "        self,\n",
    "        conv_operator: torch.Tensor,\n",
    "        conv_order: int,\n",
    "        x: torch.Tensor\n",
    "    ) -> torch.Tensor:\n",
    "        \"\"\"\n",
    "        Perform Chebyshev polynomial convolution.\n",
    "\n",
    "        Args:\n",
    "            conv_operator (torch.Tensor): The convolution operator (adjacency or Laplacian matrix).\n",
    "            conv_order (int): Order of the Chebyshev polynomial.\n",
    "            x (torch.Tensor): Input tensor of shape (num_simplices, num_channels).\n",
    "\n",
    "        Returns:\n",
    "            torch.Tensor: Tensor of shape (num_simplices, num_channels, conv_order).\n",
    "        \"\"\"\n",
    "        num_simplices, num_channels = x.shape\n",
    "        X = torch.empty(size=(num_simplices, num_channels, conv_order))\n",
    "        X[:, :, 0] = torch.mm(conv_operator, x)\n",
    "        for k in range(1, conv_order):\n",
    "            X[:, :, k] = torch.mm(conv_operator, X[:, :, k - 1])\n",
    "            if self.aggr_norm:\n",
    "                X[:, :, k] = self.aggr_norm_func(conv_operator, X[:, :, k])\n",
    "\n",
    "        return X\n",
    "\n",
    "    def forward(self, x: torch.Tensor) -> torch.Tensor:\n",
    "        \"\"\"\n",
    "        Forward pass of the GCN layer.\n",
    "\n",
    "        Args:\n",
    "            x (torch.Tensor): Input tensor of shape (num_simplices, in_channels).\n",
    "\n",
    "        Returns:\n",
    "            torch.Tensor: Output tensor of shape (num_simplices, out_channels).\n",
    "        \"\"\"\n",
    "        num_simplices, _ = x.shape\n",
    "        x_identity = torch.unsqueeze(x, 2)\n",
    "\n",
    "        if self.conv_order > 0:\n",
    "            x = self.chebyshev_conv(self.laplacian, self.conv_order, x)\n",
    "            x = torch.cat((x_identity, x), 2)\n",
    "\n",
    "        y = torch.einsum(\"nik,iok->no\", x, self.weight)\n",
    "\n",
    "        if self.update_func is None:\n",
    "            return y\n",
    "\n",
    "        return self.update(y)\n",
    "\n",
    "\n",
    "class GCNBlock(torch.nn.Module):\n",
    "    \"\"\"\n",
    "    Graph Convolutional Network (GCN) module composed of multiple GCNLayer layers.\n",
    "\n",
    "    Args:\n",
    "        in_channels (int): Number of input features per node.\n",
    "        hidden_channels (int): Number of hidden units in each hidden GCN layer.\n",
    "        laplacian (torch.Tensor): Laplacian matrix or convolution operator.\n",
    "        conv_order (int, optional): Order of the Chebyshev polynomial convolution. Default is 1.\n",
    "        aggr_norm (bool, optional): Whether to apply aggregation normalization. Default is False.\n",
    "        update_func (Optional[str], optional): Update function to use in GCNLayer ('relu', 'id', etc.). Default is None.\n",
    "        n_layers (int, optional): Number of GCN layers. Default is 2.\n",
    "    \"\"\"\n",
    "    def __init__(\n",
    "        self,\n",
    "        in_channels: int,\n",
    "        hidden_channels: int,\n",
    "        laplacian: torch.Tensor,\n",
    "        *,\n",
    "        conv_order: int = 1,\n",
    "        aggr_norm: bool = False,\n",
    "        update_func: str = None,\n",
    "        n_layers: int = 2,\n",
    "    ) -> None:\n",
    "        super().__init__()\n",
    "        self.layers: torch.nn.ModuleList = torch.nn.ModuleList(\n",
    "            [\n",
    "                GCNLayer(\n",
    "                    in_channels=in_channels,\n",
    "                    out_channels=hidden_channels,\n",
    "                    conv_order=conv_order, \n",
    "                    laplacian=laplacian,\n",
    "                )\n",
    "            ]\n",
    "        )\n",
    "\n",
    "        for i in range(n_layers - 1):\n",
    "            if i == n_layers - 2: \n",
    "                out_channels = 1\n",
    "                layer_update_func = 'id'\n",
    "            else: \n",
    "                out_channels = hidden_channels\n",
    "                layer_update_func = 'relu'\n",
    "            self.layers.append(\n",
    "                GCNLayer(\n",
    "                    in_channels=hidden_channels,\n",
    "                    out_channels=out_channels,\n",
    "                    conv_order=conv_order,\n",
    "                    laplacian=laplacian,\n",
    "                    aggr_norm=aggr_norm,\n",
    "                    update_func=layer_update_func,\n",
    "                )\n",
    "            )\n",
    "            \n",
    "    def forward(self, x: torch.Tensor) -> torch.Tensor:\n",
    "        \"\"\"\n",
    "        Forward pass through the GCN.\n",
    "\n",
    "        Args:\n",
    "            x (torch.Tensor): Input tensor of shape (num_nodes, in_channels).\n",
    "\n",
    "        Returns:\n",
    "            torch.Tensor: Output tensor after passing through all GCN layers.\n",
    "        \"\"\"\n",
    "        for layer in self.layers:\n",
    "            x = layer(x)\n",
    "        return x\n",
    "\n",
    "\n",
    "class GCN(torch.nn.Module):\n",
    "    \"\"\"\n",
    "    Network using a combination of GCN and ResNet_FC modules with time embedding.\n",
    "\n",
    "    Args:\n",
    "        laplacian (torch.Tensor): Laplacian matrix of the graph (shape: [N, N]).\n",
    "        hidden_dim (int, optional): Number of hidden units in each layer. Default is 256.\n",
    "        time_embed_dim (int, optional): Dimensionality of the time embedding. Default is 128.\n",
    "    \"\"\"\n",
    "    def __init__(\n",
    "        self,\n",
    "        laplacian: torch.Tensor,\n",
    "        hidden_dim: int = 256,\n",
    "        time_embed_dim: int = 128\n",
    "    ) -> None:\n",
    "        super().__init__()\n",
    "        data_dim: int = laplacian.shape[-1]\n",
    "\n",
    "        self.time_embed_dim: int = time_embed_dim\n",
    "        hid: int = hidden_dim\n",
    "\n",
    "        self.t_module: torch.nn.Sequential = torch.nn.Sequential(\n",
    "            torch.nn.Linear(self.time_embed_dim, hid),\n",
    "            SiLU(),\n",
    "            torch.nn.Linear(hid, hid),\n",
    "        )\n",
    "\n",
    "        self.x_module1: GCN = GCNBlock(\n",
    "            in_channels=1,\n",
    "            hidden_channels=hidden_dim,\n",
    "            n_layers=2,\n",
    "            laplacian=laplacian\n",
    "        )\n",
    "        self.x_module2: ResNet_FC = ResNet_FC(\n",
    "            data_dim,\n",
    "            hidden_dim,\n",
    "            num_res_blocks=0\n",
    "        )\n",
    "\n",
    "        self.out_module: torch.nn.Sequential = torch.nn.Sequential(\n",
    "            torch.nn.Linear(hid, hid),\n",
    "            SiLU(),\n",
    "            torch.nn.Linear(hid, data_dim),\n",
    "        )\n",
    "\n",
    "    @property\n",
    "    def inner_dtype(self) -> torch.dtype:\n",
    "        \"\"\"\n",
    "        Get the dtype used by the torso of the model.\n",
    "\n",
    "        Returns:\n",
    "            torch.dtype: The dtype of the model's parameters.\n",
    "        \"\"\"\n",
    "        # Note: input_blocks is not defined in this class; this property may need to be updated.\n",
    "        return next(self.input_blocks.parameters()).dtype\n",
    "\n",
    "    def forward(self, t: torch.Tensor, x: torch.Tensor) -> torch.Tensor:\n",
    "        \"\"\"\n",
    "        Forward pass of the GCNPolicy.\n",
    "\n",
    "        Args:\n",
    "            t (torch.Tensor): 1-D tensor of timesteps.\n",
    "            x (torch.Tensor): Input tensor of shape [N, C, ...].\n",
    "\n",
    "        Returns:\n",
    "            torch.Tensor: Output tensor after processing through the network.\n",
    "        \"\"\"\n",
    "        # Ensure t has shape [T]\n",
    "        if len(t.shape) == 0:\n",
    "            t = t[None]\n",
    "\n",
    "        t_emb: torch.Tensor = timestep_embedding(t, self.time_embed_dim)\n",
    "        t_out: torch.Tensor = self.t_module(t_emb)\n",
    "\n",
    "        x = x.unsqueeze(-1)  # Add feature dimension for GCN\n",
    "        x_out = torch.empty_like(x)\n",
    "        for i in range(x.shape[0]):\n",
    "            x_out[i] = self.x_module1(x[i])\n",
    "\n",
    "        x_out = x_out.squeeze(-1)\n",
    "        x_out = self.x_module2(x_out)\n",
    "        out = self.out_module(x_out + t_out)\n",
    "\n",
    "        return out\n",
    "\n",
    "\n",
    "class ResidualNN(torch.nn.Module):\n",
    "    \"\"\"\n",
    "    Residual Neural Network module for time-dependent input.\n",
    "\n",
    "    Args:\n",
    "        data_dim (int): Dimensionality of the input data.\n",
    "        hidden_dim (int, optional): Number of hidden units in each layer. Default is 256.\n",
    "        time_embed_dim (int, optional): Dimensionality of the time embedding. Default is 128.\n",
    "        num_res_block (int, optional): Number of residual blocks in the ResNet_FC module. Default is 1.\n",
    "    \"\"\"\n",
    "    def __init__(\n",
    "        self, \n",
    "        data_dim: int, \n",
    "        hidden_dim: int = 256, \n",
    "        time_embed_dim: int = 128, \n",
    "        num_res_block: int = 1\n",
    "    ) -> None:\n",
    "        super().__init__()\n",
    "\n",
    "        self.time_embed_dim = time_embed_dim\n",
    "        hid = hidden_dim\n",
    "\n",
    "        self.t_module = torch.nn.Sequential(\n",
    "            torch.nn.Linear(self.time_embed_dim, hid),\n",
    "            SiLU(),\n",
    "            torch.nn.Linear(hid, hid),\n",
    "        )\n",
    "\n",
    "        self.x_module = ResNet_FC(data_dim, hidden_dim, num_res_blocks=num_res_block)\n",
    "\n",
    "        self.out_module = torch.nn.Sequential(\n",
    "            torch.nn.Linear(hid, hid),\n",
    "            SiLU(),\n",
    "            torch.nn.Linear(hid, data_dim),\n",
    "        )\n",
    "\n",
    "    def forward(self, t: torch.Tensor, x: torch.Tensor) -> torch.Tensor:\n",
    "        \"\"\"\n",
    "        Forward pass of the ResidualNN.\n",
    "\n",
    "        Args:\n",
    "            t (torch.Tensor): 1-D tensor of timesteps.\n",
    "            x (torch.Tensor): Input tensor of shape [N x C x ...].\n",
    "\n",
    "        Returns:\n",
    "            torch.Tensor: Output tensor after processing through the network.\n",
    "        \"\"\"\n",
    "        t = torch.atleast_1d(t)\n",
    "\n",
    "        t_emb = timestep_embedding(timesteps=t, dim=self.time_embed_dim)\n",
    "        t_out = self.t_module(t_emb)\n",
    "        x_out = self.x_module(x)\n",
    "        out = self.out_module(x_out + t_out)\n",
    "        return out\n",
    "\n",
    "\n",
    "class MLP(torch.nn.Module):\n",
    "    def __init__(self, dim: int, hidden_dim: int = 10):\n",
    "        super().__init__()\n",
    "        self.dim = dim\n",
    "        self.nn = torch.nn.Sequential(\n",
    "            torch.nn.Linear(1, hidden_dim),\n",
    "            torch.nn.ReLU(),\n",
    "            torch.nn.Linear(hidden_dim, hidden_dim),\n",
    "            torch.nn.ReLU(),\n",
    "            torch.nn.Linear(hidden_dim, dim),\n",
    "        )\n",
    "\n",
    "    def __call__(self, t: torch.Tensor) -> torch.Tensor:\n",
    "        return self.nn(t.unsqueeze(-1))\n",
    "\n",
    "\n",
    "class ResidualMLP(torch.nn.Module):\n",
    "    def __init__(self, dim: int, hidden_dim: int = 64, num_layers: int = 3):\n",
    "        super().__init__()\n",
    "        self.dim = dim\n",
    "        self.hidden_dim = hidden_dim\n",
    "        self.num_layers = num_layers\n",
    "\n",
    "        # Input layer: now takes both t and x as input\n",
    "        self.input_layer = torch.nn.Linear(1 + dim, hidden_dim)\n",
    "\n",
    "        # Hidden layers\n",
    "        self.hidden_layers = torch.nn.ModuleList()\n",
    "        for _ in range(num_layers - 1):\n",
    "            self.hidden_layers.append(torch.nn.Linear(hidden_dim, hidden_dim))\n",
    "\n",
    "        # Output layer\n",
    "        self.output_layer = torch.nn.Linear(hidden_dim, dim)\n",
    "\n",
    "        self.activation = torch.nn.ReLU()\n",
    "\n",
    "    def forward(self, t: torch.Tensor, x: torch.Tensor) -> torch.Tensor:\n",
    "        # Concatenate t and x along the last dimension\n",
    "        t = t.unsqueeze(-1) if t.ndim == x.ndim - 1 else t\n",
    "        inp = torch.cat([t, x], dim=-1)\n",
    "        out = self.input_layer(inp)\n",
    "        for layer in self.hidden_layers:\n",
    "            residual = out\n",
    "            out = self.activation(out)\n",
    "            out = layer(out)\n",
    "            out = out + residual  # Residual connection\n",
    "        out = self.activation(out)\n",
    "        out = self.output_layer(out)\n",
    "        return out"
   ]
  },
  {
   "cell_type": "markdown",
   "id": "de51c13e",
   "metadata": {},
   "source": [
    "## Training and Evaluation"
   ]
  },
  {
   "cell_type": "code",
   "execution_count": 138,
   "id": "33aebdd4",
   "metadata": {},
   "outputs": [],
   "source": [
    "def train(\n",
    "    sde: SDE,\n",
    "    ot_solver: EntropicOTSolver,\n",
    "    model: torch.nn.Module, \n",
    "    x0: torch.Tensor, \n",
    "    x1: torch.Tensor, \n",
    "    *, \n",
    "    num_epochs: int = 100, \n",
    "    batch_size: int = 64, \n",
    "    num_samples_per_epoch: int = 1024, \n",
    "    optimizer: torch.optim.Optimizer | None = None,\n",
    "    lr: float = 0.001, \n",
    ") -> list[float]:\n",
    "    \"\"\"\n",
    "    Trains a model to match the two distributions x0 and x1. \n",
    "    TODO Maybe move OT solver to be an argument.\n",
    "    \"\"\"\n",
    "\n",
    "    num_batches_per_epoch = num_samples_per_epoch // batch_size\n",
    "    dataset = MatchingDataset(x0, x1)\n",
    "    batch_sampler = OTBatchSampler(dataset, ot_solver, batch_size=batch_size, num_samples=num_samples_per_epoch)\n",
    "    data_loader = MatchingDataLoader(dataset, batch_sampler=batch_sampler)\n",
    "\n",
    "    if optimizer is None:\n",
    "        optimizer = torch.optim.Adam(model.parameters(), lr=lr)\n",
    "\n",
    "    objective = torch.nn.MSELoss()\n",
    "\n",
    "    per_batch_losses = []\n",
    "    with tqdm(range(num_epochs), desc=\"Epochs\") as pbar:\n",
    "        for _ in pbar:\n",
    "            epoch_loss = 0.0\n",
    "            for batch_t, batch_x0, batch_x1 in data_loader:\n",
    "                # sample xt, compute targets and predictions\n",
    "                batch_x = sde.marginal_distribution(t=batch_t, x0=batch_x0, x1=batch_x1).sample()\n",
    "                ut = bridge_control(sde=sde, t=batch_t, x=batch_x, x1=batch_x1)\n",
    "                ut_preds = model(batch_t, batch_x)\n",
    "\n",
    "                # Generic loss computation and backprop\n",
    "                loss = objective(ut, ut_preds)\n",
    "                loss.backward()\n",
    "                optimizer.step()\n",
    "                batch_loss = loss.item()\n",
    "                per_batch_losses.append(batch_loss)\n",
    "                epoch_loss += batch_loss\n",
    "                optimizer.zero_grad()\n",
    "            avg_loss = epoch_loss / num_batches_per_epoch\n",
    "            pbar.set_postfix({\"avg_loss\": f\"{avg_loss:.4f}\"})\n",
    "\n",
    "    return per_batch_losses\n",
    "\n",
    "\n",
    "def wasserstein_distance(x0: torch.Tensor, x1: torch.Tensor, *, p: int = 1, blur: float = 0.05) -> float:\n",
    "    if p == 1:\n",
    "        return SamplesLoss(loss=\"sinkhorn\", p=1, blur=.05)(x0, x1)\n",
    "    if p == 2: \n",
    "        return SamplesLoss(loss=\"sinkhorn\", p=2, blur=.05)(x0, x1).sqrt() \n",
    "    raise ValueError(f\"We only use Wasserstein-1 and Wasserstein-2 distances for model evaluation, not {p}.\")"
   ]
  },
  {
   "cell_type": "markdown",
   "id": "6c1ea67f",
   "metadata": {},
   "source": [
    "## Simple 2d example"
   ]
  },
  {
   "cell_type": "code",
   "execution_count": 139,
   "id": "4271736b",
   "metadata": {},
   "outputs": [
    {
     "name": "stderr",
     "output_type": "stream",
     "text": [
      "Epochs: 100%|██████████| 100/100 [00:20<00:00,  4.80it/s, avg_loss=24.4268] \n"
     ]
    },
    {
     "data": {
      "image/png": "[encoded data removed]",
      "text/plain": [
       "<Figure size 800x400 with 1 Axes>"
      ]
     },
     "metadata": {},
     "output_type": "display_data"
    }
   ],
   "source": [
    "delta_mu = torch.tensor([3.0, 0.0])\n",
    "\n",
    "mu0, sigma0 = torch.zeros(2) + delta_mu, torch.eye(2) * 0.3\n",
    "R0 = torch.distributions.MultivariateNormal(loc=mu0, covariance_matrix=sigma0)\n",
    "\n",
    "r = 3.0\n",
    "mu11, sigma11 = torch.tensor([0.0, 2.0]) * r + delta_mu, torch.eye(2) * 0.1\n",
    "mu12, sigma12 = torch.tensor([-1.5, -1.0]) * r + delta_mu, torch.eye(2) * 0.1\n",
    "mu13, sigma13 = torch.tensor([1.5, -1.0]) * r + delta_mu, torch.eye(2) * 0.1\n",
    "component_distribution = torch.distributions.MultivariateNormal(\n",
    "    loc=torch.stack([mu11, mu12, mu13], dim=0), \n",
    "    covariance_matrix=torch.stack([sigma11, sigma12, sigma13], dim=0)\n",
    ")\n",
    "mixture_distribution = torch.distributions.Categorical(probs=torch.tensor([1/3, 1/3, 1/3]))\n",
    "R1 = torch.distributions.MixtureSameFamily(\n",
    "    mixture_distribution=mixture_distribution, \n",
    "    component_distribution=component_distribution\n",
    ")\n",
    "\n",
    "n_samples = 1000\n",
    "x0 = R0.sample((n_samples,))\n",
    "x1 = R1.sample((n_samples,))\n",
    "\n",
    "sigma = 2.0\n",
    "c = 0.0\n",
    "\n",
    "\n",
    "L = torch.eye(2)\n",
    "sde = HeatBMTSDE(L=L, c=c, sigma=sigma)\n",
    "ot_solver = EntropicOTSolver(sde=sde, normalize_variance=True)\n",
    "\n",
    "model = ResidualNN(data_dim=2)\n",
    "# model = GCN(L)\n",
    "per_batch_losses = train(sde, ot_solver, model, x0, x1, num_epochs=100, batch_size=64, num_samples_per_epoch=1024, lr=0.001)\n",
    "\n",
    "\n",
    "# Plot per-batch loss after training\n",
    "plt.figure(figsize=(8, 4))\n",
    "plt.plot(per_batch_losses, label=\"Per-batch loss\")\n",
    "plt.xlabel(\"Batch\")\n",
    "plt.ylabel(\"Loss\")\n",
    "plt.title(\"Per-batch Loss During Training\")\n",
    "plt.legend()\n",
    "plt.tight_layout()\n",
    "plt.show()"
   ]
  },
  {
   "cell_type": "code",
   "execution_count": 140,
   "id": "aa9b43ea",
   "metadata": {},
   "outputs": [
    {
     "data": {
      "image/png": "[encoded data removed]",
      "text/plain": [
       "<Figure size 800x600 with 2 Axes>"
      ]
     },
     "metadata": {},
     "output_type": "display_data"
    }
   ],
   "source": [
    "with torch.no_grad():\n",
    "    model_control = ModelControl(model=model)\n",
    "    sde_solver = EulerMaruyamaSolver(sde=sde, n=1000)\n",
    "    x0s_test = R0.sample((1000,))\n",
    "    x1s_test = R1.sample((1000,))\n",
    "\n",
    "    xts, ts = sde_solver.sample_path(x0s_test, control=model_control)\n",
    "    xts = sde.inverse_transform(xts)\n",
    "\n",
    "\n",
    "# Assume xts shape: [N, T, D] or [T, D] if single batch\n",
    "xts_np = xts.detach().cpu().numpy()\n",
    "ts_np = ts.detach().cpu().numpy()\n",
    "\n",
    "# Ensure shape is [N, T, D]\n",
    "if xts_np.ndim == 2:\n",
    "    xts_np = xts_np[None, ...]  # [1, T, D]\n",
    "\n",
    "N, T, D = xts_np.shape\n",
    "assert D == 2, \"D must be 2 for 2D plotting\"\n",
    "\n",
    "# Prepare segments for LineCollection: each path is (T, 2), segments are (T-1, 2, 2)\n",
    "segments = []\n",
    "colors = []\n",
    "norm = plt.Normalize(ts_np.min(), ts_np.max())\n",
    "# Use a blue-to-red colormap\n",
    "cmap = plt.get_cmap('coolwarm')  # blue (low) to red (high)\n",
    "\n",
    "# Use a single alpha value for all lines\n",
    "global_alpha = 0.02\n",
    "\n",
    "for i in range(N):\n",
    "    points = xts_np[i, :, :2]\n",
    "    segs = np.stack([points[:-1], points[1:]], axis=1)  # (T-1, 2, 2)\n",
    "    segments.append(segs)\n",
    "    # Color for each segment (time-varying colormap, fixed alpha)\n",
    "    t_mid = (ts_np[:-1] + ts_np[1:]) / 2\n",
    "    seg_colors = cmap(norm(t_mid))\n",
    "    seg_colors[:, -1] = global_alpha  # Set the same alpha for all segments\n",
    "    colors.append(seg_colors)\n",
    "\n",
    "# Concatenate all segments and colors\n",
    "all_segments = np.concatenate(segments, axis=0)\n",
    "all_colors = np.concatenate(colors, axis=0)\n",
    "\n",
    "fig, ax = plt.subplots(figsize=(8, 6))\n",
    "lc = LineCollection(all_segments, colors=all_colors, linewidths=1)\n",
    "ax.add_collection(lc)\n",
    "\n",
    "# Add scatterplot of xmids, black markers\n",
    "x0s_test_np = x0s_test.detach().cpu().numpy()\n",
    "x1s_test_np = x1s_test.detach().cpu().numpy()\n",
    "x1s_pred_np = xts_np[:, -1]\n",
    "ax.scatter(x0s_test_np[:, 0], x0s_test_np[:, 1], color='blue', marker='o', s=10, alpha=0.3, label='R0')\n",
    "ax.scatter(x1s_test_np[:, 0], x1s_test_np[:, 1], color='red', marker='o', s=10, alpha=0.3, label='R1')\n",
    "ax.scatter(x1s_pred_np[:, 0], x1s_pred_np[:, 1], color='green', marker='o', s=10, alpha=0.3, label='Transported R0')\n",
    "ax.legend(loc='upper right')\n",
    "\n",
    "\n",
    "# Set axis limits\n",
    "all_x = xts_np[..., 0].ravel()\n",
    "all_y = xts_np[..., 1].ravel()\n",
    "ax.set_xlim(all_x.min(), all_x.max())\n",
    "ax.set_ylim(all_y.min(), all_y.max())\n",
    "\n",
    "ax.set_xlabel('x[0]')\n",
    "ax.set_ylabel('x[1]')\n",
    "ax.set_title('Sample Paths')\n",
    "\n",
    "# Colorbar for time\n",
    "sm = plt.cm.ScalarMappable(cmap=cmap, norm=norm)\n",
    "sm.set_array([])\n",
    "cbar = plt.colorbar(sm, ax=ax, label='Time')\n",
    "plt.show()\n"
   ]
  },
  {
   "cell_type": "markdown",
   "id": "edcc09a9",
   "metadata": {},
   "source": [
    "# Brain Connectome Experiment"
   ]
  },
  {
   "cell_type": "markdown",
   "id": "de5b2234",
   "metadata": {},
   "source": [
    "## Data download"
   ]
  },
  {
   "cell_type": "code",
   "execution_count": 141,
   "id": "02656d6f",
   "metadata": {},
   "outputs": [],
   "source": [
    "import pandas as pd\n",
    "import os\n",
    "\n",
    "\n",
    "def download_brain_regions_centroids(data_dir: str = './datasets/brain_signals/'):\n",
    "    csv_url = \"https://bitbucket.org/dpat/tools/raw/master/REF/ATLASES/HCP-MMP1_UniqueRegionList.csv\"\n",
    "    brain_regions_centroids_df = pd.read_csv(\n",
    "        csv_url, \n",
    "        usecols=[\"x-cog\", \"y-cog\", \"z-cog\"],\n",
    "        dtype={\"x-cog\": float, \"y-cog\": float, \"z-cog\": float},\n",
    "    ).rename(columns={\"x-cog\": \"x\", \"y-cog\": \"y\", \"z-cog\": \"z\"})\n",
    "    brain_regions_centroids_df.to_csv(os.path.join(data_dir, \"brain_regions_centroids.csv\"), index=False)\n",
    "\n",
    "\n",
    "def load_brain_regions_centroids(data_dir: str = './datasets/brain_signals/'):\n",
    "    return pd.read_csv(os.path.join(data_dir, \"brain_regions_centroids.csv\"))\n",
    "\n",
    "\n",
    "def plot_brain_signal_3d(signal: torch.Tensor | None = None, width: int = 500, height: int = 500, marker_size: int = 5):\n",
    "    df = load_brain_regions_centroids()\n",
    "    if signal is not None:\n",
    "        df = df.assign(signal=signal.detach().cpu().numpy())\n",
    "        fig = px.scatter_3d(df, x='x', y='y', z='z', color='signal')\n",
    "    else:\n",
    "        fig = px.scatter_3d(df, x='x', y='y', z='z')\n",
    "    fig.update_traces(marker_size=marker_size)\n",
    "    fig.update_layout(width=width, height=height)\n",
    "    fig.show()\n",
    "    return fig \n",
    "\n",
    "\n",
    "def plot_brain_signal_2d(signal: torch.Tensor | None = None, width: int = 400, height: int = 400, marker_size: int = 6):\n",
    "    df = load_brain_regions_centroids()\n",
    "    if signal is not None:\n",
    "        df = df.assign(signal=signal.detach().cpu().numpy())\n",
    "        fig = px.scatter(df, x='x', y='y', color='signal')\n",
    "    else:\n",
    "        fig = px.scatter(df, x='x', y='y')\n",
    "    fig.update_traces(marker_size=marker_size)\n",
    "    fig.update_layout(width=width, height=height)\n",
    "    fig.show()\n",
    "    return fig \n",
    "\n",
    "\n",
    "def load_brain_data(combinatorial_laplacian: bool = False) -> tuple[torch.Tensor, torch.Tensor, torch.Tensor, torch.Tensor, torch.Tensor, torch.Tensor, torch.Tensor]:\n",
    "    \"\"\"\n",
    "    Loads the brain data from the .mat files and splits it into training and test sets.\n",
    "    Returns:\n",
    "        laplacian: [N, N] Laplacian matrix.\n",
    "        x0: [N, D] Training samples from the aligned dataset.\n",
    "        x1: [N, D] Training samples from the liberal dataset.\n",
    "        x0_train: [N_train, D] Training samples from the aligned dataset.\n",
    "        x0_test: [N_test, D] Test samples from the aligned dataset.\n",
    "        x1_train: [N_train, D] Training samples from the liberal dataset.\n",
    "        x1_test: [N_test, D] Test samples from the liberal dataset.\n",
    "    \"\"\"\n",
    "    if combinatorial_laplacian is True:\n",
    "        laplacian = scipy.io.loadmat('./datasets/brain_signals/lapComb.mat')['LComb']\n",
    "    else:\n",
    "        laplacian = scipy.io.loadmat('./datasets/brain_signals/lap.mat')['L']\n",
    "\n",
    "    x0 = scipy.io.loadmat('./datasets/brain_signals/aligned.mat')['Xa'].T\n",
    "    x1 = scipy.io.loadmat('./datasets/brain_signals/liberal.mat')['Xl'].T\n",
    "\n",
    "    # Split data into training and test sets\n",
    "    num_train = int(0.8 * x0.shape[0])\n",
    "    num_test = x0.shape[0] - num_train\n",
    "    x = np.arange(x0.shape[0])\n",
    "    random_perm = np.random.permutation(x)\n",
    "    train_ids, test_ids = random_perm[:num_train], random_perm[num_train:]\n",
    "    x0_train, x0_test = x0[train_ids], x0[test_ids]\n",
    "    x1_train, x1_test = x1[train_ids], x1[test_ids]\n",
    "    return laplacian, x0, x1, x0_train, x0_test, x1_train, x1_test"
   ]
  },
  {
   "cell_type": "markdown",
   "id": "e97ed56f",
   "metadata": {},
   "source": [
    "## Modelling"
   ]
  },
  {
   "cell_type": "code",
   "execution_count": 145,
   "id": "3d07c12f",
   "metadata": {},
   "outputs": [
    {
     "name": "stderr",
     "output_type": "stream",
     "text": [
      "Epochs: 100%|██████████| 100/100 [00:23<00:00,  4.27it/s, avg_loss=0.1889]\n"
     ]
    },
    {
     "data": {
      "application/vnd.plotly.v1+json": {
       "config": {
        "plotlyServerURL": "https://plot.ly"
       },
       "data": [
        {
         "hovertemplate": "variable=0<br>index=%{x}<br>value=%{y}<extra></extra>",
         "legendgroup": "0",
         "line": {
          "color": "#636efa",
          "dash": "solid"
         },
         "marker": {
          "symbol": "circle"
         },
         "mode": "lines",
         "name": "0",
         "showlegend": true,
         "type": "scattergl",
         "x": {
          "bdata": "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",
          "dtype": "i2"
         },
         "xaxis": "x",
         "y": {
          "bdata": "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",
          "dtype": "f8"
         },
         "yaxis": "y"
        }
       ],
       "layout": {
        "legend": {
         "title": {
          "text": "variable"
         },
         "tracegroupgap": 0
        },
        "margin": {
         "t": 60
        },
        "template": {
         "data": {
          "bar": [
           {
            "error_x": {
             "color": "#2a3f5f"
            },
            "error_y": {
             "color": "#2a3f5f"
            },
            "marker": {
             "line": {
              "color": "#E5ECF6",
              "width": 0.5
             },
             "pattern": {
              "fillmode": "overlay",
              "size": 10,
              "solidity": 0.2
             }
            },
            "type": "bar"
           }
          ],
          "barpolar": [
           {
            "marker": {
             "line": {
              "color": "#E5ECF6",
              "width": 0.5
             },
             "pattern": {
              "fillmode": "overlay",
              "size": 10,
              "solidity": 0.2
             }
            },
            "type": "barpolar"
           }
          ],
          "carpet": [
           {
            "aaxis": {
             "endlinecolor": "#2a3f5f",
             "gridcolor": "white",
             "linecolor": "white",
             "minorgridcolor": "white",
             "startlinecolor": "#2a3f5f"
            },
            "baxis": {
             "endlinecolor": "#2a3f5f",
             "gridcolor": "white",
             "linecolor": "white",
             "minorgridcolor": "white",
             "startlinecolor": "#2a3f5f"
            },
            "type": "carpet"
           }
          ],
          "choropleth": [
           {
            "colorbar": {
             "outlinewidth": 0,
             "ticks": ""
            },
            "type": "choropleth"
           }
          ],
          "contour": [
           {
            "colorbar": {
             "outlinewidth": 0,
             "ticks": ""
            },
            "colorscale": [
             [
              0,
              "#0d0887"
             ],
             [
              0.1111111111111111,
              "#46039f"
             ],
             [
              0.2222222222222222,
              "#7201a8"
             ],
             [
              0.3333333333333333,
              "#9c179e"
             ],
             [
              0.4444444444444444,
              "#bd3786"
             ],
             [
              0.5555555555555556,
              "#d8576b"
             ],
             [
              0.6666666666666666,
              "#ed7953"
             ],
             [
              0.7777777777777778,
              "#fb9f3a"
             ],
             [
              0.8888888888888888,
              "#fdca26"
             ],
             [
              1,
              "#f0f921"
             ]
            ],
            "type": "contour"
           }
          ],
          "contourcarpet": [
           {
            "colorbar": {
             "outlinewidth": 0,
             "ticks": ""
            },
            "type": "contourcarpet"
           }
          ],
          "heatmap": [
           {
            "colorbar": {
             "outlinewidth": 0,
             "ticks": ""
            },
            "colorscale": [
             [
              0,
              "#0d0887"
             ],
             [
              0.1111111111111111,
              "#46039f"
             ],
             [
              0.2222222222222222,
              "#7201a8"
             ],
             [
              0.3333333333333333,
              "#9c179e"
             ],
             [
              0.4444444444444444,
              "#bd3786"
             ],
             [
              0.5555555555555556,
              "#d8576b"
             ],
             [
              0.6666666666666666,
              "#ed7953"
             ],
             [
              0.7777777777777778,
              "#fb9f3a"
             ],
             [
              0.8888888888888888,
              "#fdca26"
             ],
             [
              1,
              "#f0f921"
             ]
            ],
            "type": "heatmap"
           }
          ],
          "histogram": [
           {
            "marker": {
             "pattern": {
              "fillmode": "overlay",
              "size": 10,
              "solidity": 0.2
             }
            },
            "type": "histogram"
           }
          ],
          "histogram2d": [
           {
            "colorbar": {
             "outlinewidth": 0,
             "ticks": ""
            },
            "colorscale": [
             [
              0,
              "#0d0887"
             ],
             [
              0.1111111111111111,
              "#46039f"
             ],
             [
              0.2222222222222222,
              "#7201a8"
             ],
             [
              0.3333333333333333,
              "#9c179e"
             ],
             [
              0.4444444444444444,
              "#bd3786"
             ],
             [
              0.5555555555555556,
              "#d8576b"
             ],
             [
              0.6666666666666666,
              "#ed7953"
             ],
             [
              0.7777777777777778,
              "#fb9f3a"
             ],
             [
              0.8888888888888888,
              "#fdca26"
             ],
             [
              1,
              "#f0f921"
             ]
            ],
            "type": "histogram2d"
           }
          ],
          "histogram2dcontour": [
           {
            "colorbar": {
             "outlinewidth": 0,
             "ticks": ""
            },
            "colorscale": [
             [
              0,
              "#0d0887"
             ],
             [
              0.1111111111111111,
              "#46039f"
             ],
             [
              0.2222222222222222,
              "#7201a8"
             ],
             [
              0.3333333333333333,
              "#9c179e"
             ],
             [
              0.4444444444444444,
              "#bd3786"
             ],
             [
              0.5555555555555556,
              "#d8576b"
             ],
             [
              0.6666666666666666,
              "#ed7953"
             ],
             [
              0.7777777777777778,
              "#fb9f3a"
             ],
             [
              0.8888888888888888,
              "#fdca26"
             ],
             [
              1,
              "#f0f921"
             ]
            ],
            "type": "histogram2dcontour"
           }
          ],
          "mesh3d": [
           {
            "colorbar": {
             "outlinewidth": 0,
             "ticks": ""
            },
            "type": "mesh3d"
           }
          ],
          "parcoords": [
           {
            "line": {
             "colorbar": {
              "outlinewidth": 0,
              "ticks": ""
             }
            },
            "type": "parcoords"
           }
          ],
          "pie": [
           {
            "automargin": true,
            "type": "pie"
           }
          ],
          "scatter": [
           {
            "fillpattern": {
             "fillmode": "overlay",
             "size": 10,
             "solidity": 0.2
            },
            "type": "scatter"
           }
          ],
          "scatter3d": [
           {
            "line": {
             "colorbar": {
              "outlinewidth": 0,
              "ticks": ""
             }
            },
            "marker": {
             "colorbar": {
              "outlinewidth": 0,
              "ticks": ""
             }
            },
            "type": "scatter3d"
           }
          ],
          "scattercarpet": [
           {
            "marker": {
             "colorbar": {
              "outlinewidth": 0,
              "ticks": ""
             }
            },
            "type": "scattercarpet"
           }
          ],
          "scattergeo": [
           {
            "marker": {
             "colorbar": {
              "outlinewidth": 0,
              "ticks": ""
             }
            },
            "type": "scattergeo"
           }
          ],
          "scattergl": [
           {
            "marker": {
             "colorbar": {
              "outlinewidth": 0,
              "ticks": ""
             }
            },
            "type": "scattergl"
           }
          ],
          "scattermap": [
           {
            "marker": {
             "colorbar": {
              "outlinewidth": 0,
              "ticks": ""
             }
            },
            "type": "scattermap"
           }
          ],
          "scattermapbox": [
           {
            "marker": {
             "colorbar": {
              "outlinewidth": 0,
              "ticks": ""
             }
            },
            "type": "scattermapbox"
           }
          ],
          "scatterpolar": [
           {
            "marker": {
             "colorbar": {
              "outlinewidth": 0,
              "ticks": ""
             }
            },
            "type": "scatterpolar"
           }
          ],
          "scatterpolargl": [
           {
            "marker": {
             "colorbar": {
              "outlinewidth": 0,
              "ticks": ""
             }
            },
            "type": "scatterpolargl"
           }
          ],
          "scatterternary": [
           {
            "marker": {
             "colorbar": {
              "outlinewidth": 0,
              "ticks": ""
             }
            },
            "type": "scatterternary"
           }
          ],
          "surface": [
           {
            "colorbar": {
             "outlinewidth": 0,
             "ticks": ""
            },
            "colorscale": [
             [
              0,
              "#0d0887"
             ],
             [
              0.1111111111111111,
              "#46039f"
             ],
             [
              0.2222222222222222,
              "#7201a8"
             ],
             [
              0.3333333333333333,
              "#9c179e"
             ],
             [
              0.4444444444444444,
              "#bd3786"
             ],
             [
              0.5555555555555556,
              "#d8576b"
             ],
             [
              0.6666666666666666,
              "#ed7953"
             ],
             [
              0.7777777777777778,
              "#fb9f3a"
             ],
             [
              0.8888888888888888,
              "#fdca26"
             ],
             [
              1,
              "#f0f921"
             ]
            ],
            "type": "surface"
           }
          ],
          "table": [
           {
            "cells": {
             "fill": {
              "color": "#EBF0F8"
             },
             "line": {
              "color": "white"
             }
            },
            "header": {
             "fill": {
              "color": "#C8D4E3"
             },
             "line": {
              "color": "white"
             }
            },
            "type": "table"
           }
          ]
         },
         "layout": {
          "annotationdefaults": {
           "arrowcolor": "#2a3f5f",
           "arrowhead": 0,
           "arrowwidth": 1
          },
          "autotypenumbers": "strict",
          "coloraxis": {
           "colorbar": {
            "outlinewidth": 0,
            "ticks": ""
           }
          },
          "colorscale": {
           "diverging": [
            [
             0,
             "#8e0152"
            ],
            [
             0.1,
             "#c51b7d"
            ],
            [
             0.2,
             "#de77ae"
            ],
            [
             0.3,
             "#f1b6da"
            ],
            [
             0.4,
             "#fde0ef"
            ],
            [
             0.5,
             "#f7f7f7"
            ],
            [
             0.6,
             "#e6f5d0"
            ],
            [
             0.7,
             "#b8e186"
            ],
            [
             0.8,
             "#7fbc41"
            ],
            [
             0.9,
             "#4d9221"
            ],
            [
             1,
             "#276419"
            ]
           ],
           "sequential": [
            [
             0,
             "#0d0887"
            ],
            [
             0.1111111111111111,
             "#46039f"
            ],
            [
             0.2222222222222222,
             "#7201a8"
            ],
            [
             0.3333333333333333,
             "#9c179e"
            ],
            [
             0.4444444444444444,
             "#bd3786"
            ],
            [
             0.5555555555555556,
             "#d8576b"
            ],
            [
             0.6666666666666666,
             "#ed7953"
            ],
            [
             0.7777777777777778,
             "#fb9f3a"
            ],
            [
             0.8888888888888888,
             "#fdca26"
            ],
            [
             1,
             "#f0f921"
            ]
           ],
           "sequentialminus": [
            [
             0,
             "#0d0887"
            ],
            [
             0.1111111111111111,
             "#46039f"
            ],
            [
             0.2222222222222222,
             "#7201a8"
            ],
            [
             0.3333333333333333,
             "#9c179e"
            ],
            [
             0.4444444444444444,
             "#bd3786"
            ],
            [
             0.5555555555555556,
             "#d8576b"
            ],
            [
             0.6666666666666666,
             "#ed7953"
            ],
            [
             0.7777777777777778,
             "#fb9f3a"
            ],
            [
             0.8888888888888888,
             "#fdca26"
            ],
            [
             1,
             "#f0f921"
            ]
           ]
          },
          "colorway": [
           "#636efa",
           "#EF553B",
           "#00cc96",
           "#ab63fa",
           "#FFA15A",
           "#19d3f3",
           "#FF6692",
           "#B6E880",
           "#FF97FF",
           "#FECB52"
          ],
          "font": {
           "color": "#2a3f5f"
          },
          "geo": {
           "bgcolor": "white",
           "lakecolor": "white",
           "landcolor": "#E5ECF6",
           "showlakes": true,
           "showland": true,
           "subunitcolor": "white"
          },
          "hoverlabel": {
           "align": "left"
          },
          "hovermode": "closest",
          "mapbox": {
           "style": "light"
          },
          "paper_bgcolor": "white",
          "plot_bgcolor": "#E5ECF6",
          "polar": {
           "angularaxis": {
            "gridcolor": "white",
            "linecolor": "white",
            "ticks": ""
           },
           "bgcolor": "#E5ECF6",
           "radialaxis": {
            "gridcolor": "white",
            "linecolor": "white",
            "ticks": ""
           }
          },
          "scene": {
           "xaxis": {
            "backgroundcolor": "#E5ECF6",
            "gridcolor": "white",
            "gridwidth": 2,
            "linecolor": "white",
            "showbackground": true,
            "ticks": "",
            "zerolinecolor": "white"
           },
           "yaxis": {
            "backgroundcolor": "#E5ECF6",
            "gridcolor": "white",
            "gridwidth": 2,
            "linecolor": "white",
            "showbackground": true,
            "ticks": "",
            "zerolinecolor": "white"
           },
           "zaxis": {
            "backgroundcolor": "#E5ECF6",
            "gridcolor": "white",
            "gridwidth": 2,
            "linecolor": "white",
            "showbackground": true,
            "ticks": "",
            "zerolinecolor": "white"
           }
          },
          "shapedefaults": {
           "line": {
            "color": "#2a3f5f"
           }
          },
          "ternary": {
           "aaxis": {
            "gridcolor": "white",
            "linecolor": "white",
            "ticks": ""
           },
           "baxis": {
            "gridcolor": "white",
            "linecolor": "white",
            "ticks": ""
           },
           "bgcolor": "#E5ECF6",
           "caxis": {
            "gridcolor": "white",
            "linecolor": "white",
            "ticks": ""
           }
          },
          "title": {
           "x": 0.05
          },
          "xaxis": {
           "automargin": true,
           "gridcolor": "white",
           "linecolor": "white",
           "ticks": "",
           "title": {
            "standoff": 15
           },
           "zerolinecolor": "white",
           "zerolinewidth": 2
          },
          "yaxis": {
           "automargin": true,
           "gridcolor": "white",
           "linecolor": "white",
           "ticks": "",
           "title": {
            "standoff": 15
           },
           "zerolinecolor": "white",
           "zerolinewidth": 2
          }
         }
        },
        "xaxis": {
         "anchor": "y",
         "domain": [
          0,
          1
         ],
         "title": {
          "text": "index"
         }
        },
        "yaxis": {
         "anchor": "x",
         "domain": [
          0,
          1
         ],
         "title": {
          "text": "value"
         }
        }
       }
      }
     },
     "metadata": {},
     "output_type": "display_data"
    }
   ],
   "source": [
    "L, x0, x1, x0_train, x0_test, x1_train, x1_test = as_tensors(*load_brain_data(combinatorial_laplacian=False))\n",
    "\n",
    "c = 0.1 \n",
    "sigma = 0.1\n",
    "sde = HeatBMTSDE(L=L, c=c, sigma=sigma)\n",
    "ot_solver = EntropicOTSolver(sde=sde, normalize_variance=False)\n",
    "# model = GCN(L)\n",
    "model = ResidualNN(data_dim=x0.shape[-1])\n",
    "\n",
    "\n",
    "training_losses = train(sde, ot_solver, model, x0_train[:200], x1_train[:200], num_epochs=100, batch_size=64, num_samples_per_epoch=1024, lr=0.001)\n",
    "px.line(training_losses)"
   ]
  },
  {
   "cell_type": "code",
   "execution_count": 147,
   "id": "25bb5c68",
   "metadata": {},
   "outputs": [
    {
     "name": "stdout",
     "output_type": "stream",
     "text": [
      "Wasserstein-1 distance: 17.6554\n",
      "Wasserstein-2 distance: 12.6086\n"
     ]
    },
    {
     "data": {
      "application/vnd.plotly.v1+json": {
       "config": {
        "plotlyServerURL": "https://plot.ly"
       },
       "data": [
        {
         "hovertemplate": "x=%{x}<br>y=%{y}<br>signal=%{marker.color}<extra></extra>",
         "legendgroup": "",
         "marker": {
          "color": {
           "bdata": "5zdIYqrX/r9Lx3LRGyHbvxR/e+3nSuO/o/qSwO0k/7+HmirxaSrzv0EtKq86ROG/G1U0AlG82r9TftpzniDWv+vHHrGoSty/xMET/O3w2r9JCoZsseXbv/foq7Fjftu/hdka29vt47+tXYs0FiiMv+k7GcJqy9u/eqK7825y5r+ZpWs+Bnzjv2n+w6KJS9m/wNJEeWsr5r+YvEj5/Uvev6xRrw5gpdi/irOCTuan17/VVfKP3ibbvwqkP4cQbzY/43/Q8sxI17+XqSGa/M/Tv9gavLI1mpe/8uRS/N5d17+R9v1Qh5fUvwKCpSg2j8O/i8aHg/Vs1L8ylN1VHYCZvxkq5yuNZcK/4EV/47tn5T8A+hJtJ0/YP4spxfj9FcS/KnedpxrXr7+8SMcYMJelv5U+QK4JANG/LKv2UUVPxb/MbodjJwXVv6KQ9g6xf9O/WEZ81Pyy1r+EfdXLBF3Uv9+Mjjep2tG/zzVzKjuC2L8l6/ITmZPXvyQ63kW3kdm/ND9Hrz0r1r9QWjcT3wHdv9JXDWGWG9u/FrV+Mtex2r+/o7zgtv3Xv5SNFeJPMNa/NYwxk+tr0r+aEhz/0nzXvz2gR1ekjta/iz57GoLM0b+11OZ12FHOv4shBtkoedG/B0omhtlRq7+KRLttLDegv+qo6Lg8Msu/xdB77+Aqrb9VQFkDG9Slv2iGGhsx59a/BLElB6hi1L/+WbhHt3HPv68EM1AcqqW/SnfwBMityr8NAHxyQKHCv1WAlNJZc7K/gqGZh4ny1r+xtodQ62fcvy3uub3Upti/M571yzLL178sDrGojO3Mv5Q/aSpJEd2/baU1a7fs2r9oTsEIvY3av0JRmP8bm9e/Zn3bnKHf1L+GXV2RLSDTvw55atfGncy/QOKUA3e7yL9Yt0cZM+vEv8qu0eYNYrq/NVSqKtrItL/uuZYk5eW9v9r+1ScxMbq/QMDio8lcyL8UkH7yfxXWv57d2JAUTNC/NbIRM/e73L89kYMhP5jZv/fWp6C5Zde/0xSxrBz71r/9cWW5mf3Rv4kSwT3EUN6/7Xg4dhSy1r+enuVUxXjHv7/5R6hc3dG/R9kkcPMV178Jt/XLP+HRv4Nh0jX6LtG/FiawkLks4b+9utczSF7jv2LqFaHCLOK/IyGtPg9U4r8kIuUNBJjev32H1oP3Ltq/iAWyKoop4L9Y4Plxtsrhv1l9jiCGlty/TA2Ztq++279sSDAFC53Yv1h86aGd6dy/8udnvHYV278odSym8tbev3zgy5VEVOC/sPf3brZ42b8+QORFiQHcvwhul/aOGt6/zcogebUm07/4fZEM9Brcv6lt7fsQ2eC/GKoHnuBJ6L+AJrq0u6flv2CDfNECJdi/2JVi2XRv2b9HjZgfzaTZv3ULS8PjwuC/o3D6TcmD17/8utksdgTdvzKxs2jZ0t2/E8i27Zbq2r9QBZCKhYbWv7HBcCHws9i/RdAHsi0h179C7vvTN2vZv35fUkT0gt2/7h4c+t9k4r/F/nC6UD7hv1QxuxwtD96/CIrrz8Tr4b/rYrppdPflv8dX6phAldS/wzorKvQ6179hExEdzS3avxxvr3YyRNq/oblhRALf3r/ZMVAtxPrgv0hRthMP+dq/5Az3zGLK3L9p94L685Xov3v0BgDS+9m/4FVdoYfU2L9Tksse49rhv2viXUFuktu/M0LYU7VG3L88cUUKHDLDP5hGnHhkhco/9Z7UyOUi3L+kkDrgWZHRv3+2o3EXA8m/KuKcr4rM1b/0A4CSMdTev0aYKOhrONO/DT2q7QaJ2L8X2194rS65v+eRyXQxaNG/yYjZ77uK17+2PBeXrQHYv7AGcTL/FZK/fyRBpGAK178cyefUcTzlv8/HursOsNq/xHo5u0cC478a7zdkw4W+v7icfK9YwI4/2oTTtViS/L+VX8UzY3rjv4i0U6SZKuW/NZPoEPph/L89IP7DPbjtvzMQrTzXCOO/sW7tcSIu278GoXqP8szpv5BMDlQk8+u/Q0zOf3FZ5b/Y2LIBiDLkv6hof+b7/uS/8gA4XDl3478A5asDcZeavx6A36JZgd6/ank63UZX6L+lmq6bWT7ov2ADs+iQXtW/8z2L6ECB6b+ZK5qmUirkv4afZ7CllOG/JffhU/Y73L8BzbdhUSfkv094JMmmJ++/rz++x9Wk478uhewaBXTWvz6NBzwHTq+/oUbKwtW55L8V5XFiFpbWv4Gib16K8sC/76ivIxS+0r8V3deddVZ3vx07ttytsbq/ZDWPEKjE5j8u5uOUvXDcP4gab2v/M8m/sDvRV9Mww7/ENQqDA8ylv4rSx8LW89S/crdXJF8Lz7/aUptcwBPZv1HgpPPQe92/LF05CC3w2L9QOOMqMdjbv+oojViC1tW/+7Ssfs5F3b8IXwO5+Cfhv7mCCDHg8uO/L/oWBg503r9iwJDDFcbkvy4fdhi+S+e/yuAbHTls6L8Ubp2xS9bov1tdtSg6OeO/Qr1t304H2b8jM05365TgvzKo+rm0bNi/PBZgB2CX0r9s02paCp7Rv1/EJfs209S/5HQcqVLUpr8zKL+W8+S0v4sEH8D49M+/28Zm7Ms0qL+vadMM6wCbv5Fzib0O5NK/l4V47JOv3L+/pnMvHTzVv3gkvSkAOKy/4zb49Nijzb9on6x50bPGvxuZG2wu27S//VJfJ9Uu4L9FZzd7JqnfvzTTRp5C/9m/ZB5yx5HU078EjTv6gP/Lv9HvA4jc9+G/5+xFfrxH4L9Ii0jyu3Xhv7DARZHLd9y/xTwNVcT61b9zZR0Wpi7Zv4Hl26k459K/jZJI3wa4zb/zJERL9t7Kv8UTuJM1ab2/KyBIj22yq79deCWDy2nBv0pMv+r6s7m/jgvy16Qvyb8FUmwgkyzSv58VoBoP3sy/VPNQmpDk1b/UxwqNPbvkv1ANqYiP4OG/2/wcKu5S4L8vjAIwPW3Zv/O7Q7EA8uG/wbnhd1GN5b+BNgkKQVPsv4AlRPvxIem/tnxEiZuT5L+jJENZqYnmv2WfwlyLvOi/Brn/A+fy4b9rdIm7dI/fv+d6OgpfE+G/PXXMefkv4b920hQO7IPXv3qYRg9VQNi/JFuwFiQE2b9DPrplKmHiv2SDBhNbGeG/fdMRrBro47++kAOE9AXnv5Mh8JQW6em//LMKWHp/07/rb6LFh+7Qv3v+m/VSx9K/dPHd6HVg1r8Zx30p2C/Tv61i5LZXH9e/NbPqEvxu5r+URbANmjDhv6o2lnzlEsy/jRHn0/SSrb+wDpJ9nGvdvyEKcFXPm+G/7zlXJ+tJ37/9ZD/Hh4PSv78Y5wuZlda/SKVOIeaF2b9r1n8WOt3Uv4ubSfkLhdO/HMftT3W/1L8Y/5yqRzDdv3nCewhz/9u/MkZM0EPB478PEnuzQNLhv4YpIkAoueS/Nk+igN2Q4r8UJ38Axajmv607OyhKTuq/LTuOhoSe578or9vYYCnqvxsAVGBS5+O/0UI0U9zc5L//IlZNgFPkv0kcExU/weO/QSvERkb+5L98jz3WTKHjvwSHT52RRNW/i08GXr2H17+TkvgL48Ctv8rYSLuOvuK/pTKdAreL4b82AtNTTtvmv72I5kJNIeW/IyG3f1T31r+cve9rq4+0PzCENzTqtdU/+9rFrkTK0b9wbLyPli7Sv3Ciw5eAlse/vVe1W3Re07+0Gjoxc7rhvzJkAqBE9Oe/DedIFdAf2b9fFKb/3YjAv4xSsud/ydG/Ek29YP470b+m3SpHXj/nvzm0Ysv1L+2/IEvUJsx+478ivfOkzXLcv8ex2DQzgNm/hzsaFcRn3b+FOKWQYzjHv5dHS7qPEUS/",
           "dtype": "f8"
          },
          "coloraxis": "coloraxis",
          "size": 6,
          "symbol": "circle"
         },
         "mode": "markers",
         "name": "",
         "orientation": "v",
         "showlegend": false,
         "type": "scatter",
         "x": {
          "bdata": "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",
          "dtype": "f8"
         },
         "xaxis": "x",
         "y": {
          "bdata": "2zAKgseRREDO/kC5bXNNQF1Q3zKnPUZAnglNEksIRkCgbwuW6lBEQD4IAfkSrERA0ZFc/kPySUCnH9RFCl9aQKW8VkJ30FlAwvhp3Ju1XUC/Q1GgT2VfQI/ecB+5K19AvK302mzMQECGj4gpkaZVQJsAw/LnnUpAbvjddMu4Q0AvpS4Zx8RJQIrlllZDclFAN6lorP1pRUApkq8EUq5DQAlP6PUnx0ZAwoanV8p2SEAcBvNXyMJLQJPfopOlf1lAQtE8gEWbU0C8dmnDYddhQPt3feasCVNAyO4CJQWMUkAiwr8IGiNNQPmHLT2aA1BA4sluZvTcUECKHCJuTpdaQEkPQ6uTgVFAN6lorP0MVUDnOo20VGNUQKFJYkm5+lRAnGnC9pMIVkDFWKZfIglYQL7e/fFeOVNA+G9enPidW0DcgxCQL6JfQD3TS4xlS1JAW9B7YwhxYEB8Yp0qX0RgQE65wrtcSVBAEJVGzOzZSUDhQbPr3pJTQKX5Y1qbY1FA/pjWprFzTkCiJvp8lGVNQIUn9PqT/VhAuXAgJAssV0AAAAAAAEBaQHtoHyv4+1tAUKkSZW+rW0BoIQGjyzVgQEFEatrFE19Amz3QCozdYEAWGLK6VQNiQEPjiSDOmmFAu9IyUu/JZED7XdiaLQNlQDxM++b+3mNAtvepKjTKZUB8Q+GzdQBmQBeARulSkGNAuCBbli/QYUCFe2XeKlVjQFA5Jot7g2ZAoYFYNnN+ZECL/PohNqJlQNLEO8AT8mdA58b0hKVkYUCuZMdGoKdhQB6Jl6dzEGNAccgG0kVbY0CSIcfWs8xlQLA8SE8RhWBATbwDPGkwYUDE6o8wDOtfQI4hADj2uGJAFZD2P8DlY0Bmn8coT3VjQAA8okL1j2RAsTOFzusbZkB4RIXqZohlQJ+Sc2IP+2ZA54nnbAF0ZkCG5GTi1j5nQHJvfsNEa2dACU59IPmcZUD/WfPjLzRjQFg5tMj2fGNAyH2rdeJGYkBM4NbdPLJRQGt+/KVFcV5AFoTyPo4mYEC06Qjg5u1iQML51LFKZl9AKji8ICJqXEC8V61M+P5ZQK5KIvsgaltAX3mQniJBWkD7rZ0oCYdWQEg0gSIWdldAF35wPnVYXkB2bATi9T5gQPorZK6MXGFAm1Wfqy0OYUChurn421tgQDvGFRdH0GJAcCU7NgJ3YUDQCgxZXQZgQBMKEXAIH2BAtyVywRlQXkD9Fp0stTNZQLd6TnrfwFVAJLTlXIrqXED2twTgn6hXQJRnXg67pVlAjL0XX7TDUUAAcOzZczBdQA3k2eVbn2FAd4NorWgJWUDdQIF38jZcQAuz0M5pq1ZA6UmZ1NC1VkAvppnudeNeQP0VMlcGildAij+KOnPFVkAEyxEyEDhhQKkvSzs1l15Akj1CzZCzU0CJB5RNuRdaQMQHdvwXSVpAk6gXfJrqVEDxETElkotQQNv7VBUa+k5AxVkRNdHqU0CwV1hwPwxPQOoI4GbxIEtAOzWXGwyLSkA8M8FwriNEQGt+/KVFUlNAZmmn5nK9S0DPoQxVMedGQJkOnZ53ullAvM0bJ4V3VkAlA0AVN4RRQP+z5sdfpk5AOEw0SMFtSEDboswGmdRDQAuZK4NqlFJALBA9KZMgUEDBO/n02IpWQOHtQQjIF0hAXynLEMfkTEB9JCU9DBlCQFH6Qsh5e0hAArwFEhSZUkB319mQf3ZSQGA7GLFPLVZAmwDD8ue6UkAps0EmmWFiQBqlS/+S5WNATwRxHk4lYUDCwHPv4WtcQGlXIeUnhFtAxXHg1XIaY0CKHY1DfbFnQPcDHhjAJWVA/Uy9bhH7XkBINlfNc7BbQKCKG7eY11hARRFSt7MSWkCBI4EGm4hdQCxi2GFMWVlAuFonLscSX0CUap+OR3xjQEqyDkfXUGRAZ5jaUgdFRkCkb9I0KOBPQOUoQBTMoEhAsOWV623HR0C4zVSIR8pEQEbPLXQl5ERANZpcjIH5SUDNPLmmQC9bQDfDDfj8dlpA94+F6BDKXkCoqtBALPJfQN8ZbVUS/F9A3c8pyM9KQkAYtJCA0RtXQC6rsBngDExA0Xe3skQzRUAFjC5vDplLQCbGMv0SyFJAa5+Oxww2SEAcJET5gpZGQAAAAAAAMEZAuOS4Uzr6SED27LlMTepMQBcuq7AZXVpAOQ1RhT9UVkC/f/PiRL1hQCTQYFPnglJAZacf1EVmVEAWinQ/p5hNQCo4vCAiklBAt32P+utPUUBr9GqA0u5ZQJRL4xdeoVJATwRxHk42VUDutDUiGLFUQKSl8naEsVVAVyO70jIOVUDURnU6kFtWQIVBmUaTYVNA+3Q8ZqB0W0DqXbwftxVfQOfEHtrHLVJAcLTjht9lYEDHZHH/kXVgQDDzHfzEHFBA81fIXBlGSkArEhPU8KhTQO9VKxN+Z1FAE2ba/pWdT0D9pNqn4xlNQJs3TgrzE1pA93e2R2/TV0BqF9NM92ZaQBHDDmPSh1xAoUj3cwo9XECtM74vLppgQIARNGYSnF5A+U1hpQISYUAQdLSqJS9iQCOimLwBlGFAij+KOnOGZEAlH7sLFJtkQA+22O0zoGNAaVVLOsrTZUDIPzOID5hlQA+dnnfjq2NA21Axzl8+YkCu2F92T9JjQMhe7/74p2ZAXK5+bBIbZUB0XmOXKB1mQIPg8e1dN2hAtOVciqskYkCmnC/23iliQJbLRud8KGNAMsueBDbEY0CnI4CbRVFmQCkg7X8A5WBAjnkdcUjkYUDEfHkBdq1gQJVjsrh/d2NAhzQqcLKXZEAgDDz3nuhjQA5JLZRM6WRA18OXiaJYZkCM2v0qwBhmQMi1oWKcnGdAi/uPTIcWZkCkNJvHYZdnQOQSRx4Ij2dA17/rM+eXZUBinSrfsxRjQLSTwVFy1GNAgPPixFdFYkAc0T3rGq9RQBy1wvS9El9ASKZDp2fcYECTq1j8pr1iQKoPJO8czl9AwOeHEcLbXECE8GjjiMlaQDRKl/4l+VtAeUDZlCtIWkAAcsKE0YNXQA/QfTmzgFhAxjL9EvG0XkAcYVERp0lgQEAxsmSOq2FA2zS214L9YED1TC8xlqtgQCKJXkax3mJAoWXdPxatYUDNj7+0KGBgQGFREaeTsmBAcQSpFDunXkCt9xvtuNFZQAAeUaG6XVVAXRjpRe3cXEDgnXx6bNVXQBQ98DFY+1lAhq+vdal2U0C536Eo0E1dQFvSUQ5m02FAexFtx9TkWkDpRe1+FUZcQAAAAAAAIFdAqI/AH35sVkBnDkktlEtfQAPtDikGhlhALqpFRDGCWEC7RzZXTYJhQKaYg6CjbV9AL4hITbspVUCNuAA0SvJaQKFq9GqAZFpAw2Fp4EdWVkCmfXN/9UVSQEZEMXkDL1BALSeh9IWTVEDT3AphNVpRQHO7l/vkRlBA2JyDZ0KlTEDudygK9HdIQODXSBKEw1NAO1ESEmmfTEAvNNdppGNIQIzyzMthblpATrfsEP8VWEBuisdFtRJTQGtlwi/1jVBAF4OHad/OTEArhUAucZpFQBFvnX+7TFJAM9yAzw87UECiCRSxiOlWQF6iemtgw0pA6uqOxTZ7T0BbCd0lcYZFQJD11OqrvUpAgZVDi2wnUkD8qlyo/KtSQDofniXIc1VAA0NWt3r0U0BFoPoHkfthQK5mnfF9jGNArMQ8K2lYYUCZEHNJ1dVcQJoIG55eBVxA3nU25B88Y0BhFto5TW1nQIpVgzA3jGVA+YGrPIHkXkBfevtz0fBbQIFdTZ6yd1lAopxoVyHxW0AWFXE6yWFdQIkmUMQij1lAuDzWjAzKXkAdzCbAsD9jQKqezD96JmRA",
          "dtype": "f8"
         },
         "yaxis": "y"
        }
       ],
       "layout": {
        "coloraxis": {
         "colorbar": {
          "title": {
           "text": "signal"
          }
         },
         "colorscale": [
          [
           0,
           "#0d0887"
          ],
          [
           0.1111111111111111,
           "#46039f"
          ],
          [
           0.2222222222222222,
           "#7201a8"
          ],
          [
           0.3333333333333333,
           "#9c179e"
          ],
          [
           0.4444444444444444,
           "#bd3786"
          ],
          [
           0.5555555555555556,
           "#d8576b"
          ],
          [
           0.6666666666666666,
           "#ed7953"
          ],
          [
           0.7777777777777778,
           "#fb9f3a"
          ],
          [
           0.8888888888888888,
           "#fdca26"
          ],
          [
           1,
           "#f0f921"
          ]
         ]
        },
        "height": 400,
        "legend": {
         "tracegroupgap": 0
        },
        "margin": {
         "t": 60
        },
        "template": {
         "data": {
          "bar": [
           {
            "error_x": {
             "color": "#2a3f5f"
            },
            "error_y": {
             "color": "#2a3f5f"
            },
            "marker": {
             "line": {
              "color": "#E5ECF6",
              "width": 0.5
             },
             "pattern": {
              "fillmode": "overlay",
              "size": 10,
              "solidity": 0.2
             }
            },
            "type": "bar"
           }
          ],
          "barpolar": [
           {
            "marker": {
             "line": {
              "color": "#E5ECF6",
              "width": 0.5
             },
             "pattern": {
              "fillmode": "overlay",
              "size": 10,
              "solidity": 0.2
             }
            },
            "type": "barpolar"
           }
          ],
          "carpet": [
           {
            "aaxis": {
             "endlinecolor": "#2a3f5f",
             "gridcolor": "white",
             "linecolor": "white",
             "minorgridcolor": "white",
             "startlinecolor": "#2a3f5f"
            },
            "baxis": {
             "endlinecolor": "#2a3f5f",
             "gridcolor": "white",
             "linecolor": "white",
             "minorgridcolor": "white",
             "startlinecolor": "#2a3f5f"
            },
            "type": "carpet"
           }
          ],
          "choropleth": [
           {
            "colorbar": {
             "outlinewidth": 0,
             "ticks": ""
            },
            "type": "choropleth"
           }
          ],
          "contour": [
           {
            "colorbar": {
             "outlinewidth": 0,
             "ticks": ""
            },
            "colorscale": [
             [
              0,
              "#0d0887"
             ],
             [
              0.1111111111111111,
              "#46039f"
             ],
             [
              0.2222222222222222,
              "#7201a8"
             ],
             [
              0.3333333333333333,
              "#9c179e"
             ],
             [
              0.4444444444444444,
              "#bd3786"
             ],
             [
              0.5555555555555556,
              "#d8576b"
             ],
             [
              0.6666666666666666,
              "#ed7953"
             ],
             [
              0.7777777777777778,
              "#fb9f3a"
             ],
             [
              0.8888888888888888,
              "#fdca26"
             ],
             [
              1,
              "#f0f921"
             ]
            ],
            "type": "contour"
           }
          ],
          "contourcarpet": [
           {
            "colorbar": {
             "outlinewidth": 0,
             "ticks": ""
            },
            "type": "contourcarpet"
           }
          ],
          "heatmap": [
           {
            "colorbar": {
             "outlinewidth": 0,
             "ticks": ""
            },
            "colorscale": [
             [
              0,
              "#0d0887"
             ],
             [
              0.1111111111111111,
              "#46039f"
             ],
             [
              0.2222222222222222,
              "#7201a8"
             ],
             [
              0.3333333333333333,
              "#9c179e"
             ],
             [
              0.4444444444444444,
              "#bd3786"
             ],
             [
              0.5555555555555556,
              "#d8576b"
             ],
             [
              0.6666666666666666,
              "#ed7953"
             ],
             [
              0.7777777777777778,
              "#fb9f3a"
             ],
             [
              0.8888888888888888,
              "#fdca26"
             ],
             [
              1,
              "#f0f921"
             ]
            ],
            "type": "heatmap"
           }
          ],
          "histogram": [
           {
            "marker": {
             "pattern": {
              "fillmode": "overlay",
              "size": 10,
              "solidity": 0.2
             }
            },
            "type": "histogram"
           }
          ],
          "histogram2d": [
           {
            "colorbar": {
             "outlinewidth": 0,
             "ticks": ""
            },
            "colorscale": [
             [
              0,
              "#0d0887"
             ],
             [
              0.1111111111111111,
              "#46039f"
             ],
             [
              0.2222222222222222,
              "#7201a8"
             ],
             [
              0.3333333333333333,
              "#9c179e"
             ],
             [
              0.4444444444444444,
              "#bd3786"
             ],
             [
              0.5555555555555556,
              "#d8576b"
             ],
             [
              0.6666666666666666,
              "#ed7953"
             ],
             [
              0.7777777777777778,
              "#fb9f3a"
             ],
             [
              0.8888888888888888,
              "#fdca26"
             ],
             [
              1,
              "#f0f921"
             ]
            ],
            "type": "histogram2d"
           }
          ],
          "histogram2dcontour": [
           {
            "colorbar": {
             "outlinewidth": 0,
             "ticks": ""
            },
            "colorscale": [
             [
              0,
              "#0d0887"
             ],
             [
              0.1111111111111111,
              "#46039f"
             ],
             [
              0.2222222222222222,
              "#7201a8"
             ],
             [
              0.3333333333333333,
              "#9c179e"
             ],
             [
              0.4444444444444444,
              "#bd3786"
             ],
             [
              0.5555555555555556,
              "#d8576b"
             ],
             [
              0.6666666666666666,
              "#ed7953"
             ],
             [
              0.7777777777777778,
              "#fb9f3a"
             ],
             [
              0.8888888888888888,
              "#fdca26"
             ],
             [
              1,
              "#f0f921"
             ]
            ],
            "type": "histogram2dcontour"
           }
          ],
          "mesh3d": [
           {
            "colorbar": {
             "outlinewidth": 0,
             "ticks": ""
            },
            "type": "mesh3d"
           }
          ],
          "parcoords": [
           {
            "line": {
             "colorbar": {
              "outlinewidth": 0,
              "ticks": ""
             }
            },
            "type": "parcoords"
           }
          ],
          "pie": [
           {
            "automargin": true,
            "type": "pie"
           }
          ],
          "scatter": [
           {
            "fillpattern": {
             "fillmode": "overlay",
             "size": 10,
             "solidity": 0.2
            },
            "type": "scatter"
           }
          ],
          "scatter3d": [
           {
            "line": {
             "colorbar": {
              "outlinewidth": 0,
              "ticks": ""
             }
            },
            "marker": {
             "colorbar": {
              "outlinewidth": 0,
              "ticks": ""
             }
            },
            "type": "scatter3d"
           }
          ],
          "scattercarpet": [
           {
            "marker": {
             "colorbar": {
              "outlinewidth": 0,
              "ticks": ""
             }
            },
            "type": "scattercarpet"
           }
          ],
          "scattergeo": [
           {
            "marker": {
             "colorbar": {
              "outlinewidth": 0,
              "ticks": ""
             }
            },
            "type": "scattergeo"
           }
          ],
          "scattergl": [
           {
            "marker": {
             "colorbar": {
              "outlinewidth": 0,
              "ticks": ""
             }
            },
            "type": "scattergl"
           }
          ],
          "scattermap": [
           {
            "marker": {
             "colorbar": {
              "outlinewidth": 0,
              "ticks": ""
             }
            },
            "type": "scattermap"
           }
          ],
          "scattermapbox": [
           {
            "marker": {
             "colorbar": {
              "outlinewidth": 0,
              "ticks": ""
             }
            },
            "type": "scattermapbox"
           }
          ],
          "scatterpolar": [
           {
            "marker": {
             "colorbar": {
              "outlinewidth": 0,
              "ticks": ""
             }
            },
            "type": "scatterpolar"
           }
          ],
          "scatterpolargl": [
           {
            "marker": {
             "colorbar": {
              "outlinewidth": 0,
              "ticks": ""
             }
            },
            "type": "scatterpolargl"
           }
          ],
          "scatterternary": [
           {
            "marker": {
             "colorbar": {
              "outlinewidth": 0,
              "ticks": ""
             }
            },
            "type": "scatterternary"
           }
          ],
          "surface": [
           {
            "colorbar": {
             "outlinewidth": 0,
             "ticks": ""
            },
            "colorscale": [
             [
              0,
              "#0d0887"
             ],
             [
              0.1111111111111111,
              "#46039f"
             ],
             [
              0.2222222222222222,
              "#7201a8"
             ],
             [
              0.3333333333333333,
              "#9c179e"
             ],
             [
              0.4444444444444444,
              "#bd3786"
             ],
             [
              0.5555555555555556,
              "#d8576b"
             ],
             [
              0.6666666666666666,
              "#ed7953"
             ],
             [
              0.7777777777777778,
              "#fb9f3a"
             ],
             [
              0.8888888888888888,
              "#fdca26"
             ],
             [
              1,
              "#f0f921"
             ]
            ],
            "type": "surface"
           }
          ],
          "table": [
           {
            "cells": {
             "fill": {
              "color": "#EBF0F8"
             },
             "line": {
              "color": "white"
             }
            },
            "header": {
             "fill": {
              "color": "#C8D4E3"
             },
             "line": {
              "color": "white"
             }
            },
            "type": "table"
           }
          ]
         },
         "layout": {
          "annotationdefaults": {
           "arrowcolor": "#2a3f5f",
           "arrowhead": 0,
           "arrowwidth": 1
          },
          "autotypenumbers": "strict",
          "coloraxis": {
           "colorbar": {
            "outlinewidth": 0,
            "ticks": ""
           }
          },
          "colorscale": {
           "diverging": [
            [
             0,
             "#8e0152"
            ],
            [
             0.1,
             "#c51b7d"
            ],
            [
             0.2,
             "#de77ae"
            ],
            [
             0.3,
             "#f1b6da"
            ],
            [
             0.4,
             "#fde0ef"
            ],
            [
             0.5,
             "#f7f7f7"
            ],
            [
             0.6,
             "#e6f5d0"
            ],
            [
             0.7,
             "#b8e186"
            ],
            [
             0.8,
             "#7fbc41"
            ],
            [
             0.9,
             "#4d9221"
            ],
            [
             1,
             "#276419"
            ]
           ],
           "sequential": [
            [
             0,
             "#0d0887"
            ],
            [
             0.1111111111111111,
             "#46039f"
            ],
            [
             0.2222222222222222,
             "#7201a8"
            ],
            [
             0.3333333333333333,
             "#9c179e"
            ],
            [
             0.4444444444444444,
             "#bd3786"
            ],
            [
             0.5555555555555556,
             "#d8576b"
            ],
            [
             0.6666666666666666,
             "#ed7953"
            ],
            [
             0.7777777777777778,
             "#fb9f3a"
            ],
            [
             0.8888888888888888,
             "#fdca26"
            ],
            [
             1,
             "#f0f921"
            ]
           ],
           "sequentialminus": [
            [
             0,
             "#0d0887"
            ],
            [
             0.1111111111111111,
             "#46039f"
            ],
            [
             0.2222222222222222,
             "#7201a8"
            ],
            [
             0.3333333333333333,
             "#9c179e"
            ],
            [
             0.4444444444444444,
             "#bd3786"
            ],
            [
             0.5555555555555556,
             "#d8576b"
            ],
            [
             0.6666666666666666,
             "#ed7953"
            ],
            [
             0.7777777777777778,
             "#fb9f3a"
            ],
            [
             0.8888888888888888,
             "#fdca26"
            ],
            [
             1,
             "#f0f921"
            ]
           ]
          },
          "colorway": [
           "#636efa",
           "#EF553B",
           "#00cc96",
           "#ab63fa",
           "#FFA15A",
           "#19d3f3",
           "#FF6692",
           "#B6E880",
           "#FF97FF",
           "#FECB52"
          ],
          "font": {
           "color": "#2a3f5f"
          },
          "geo": {
           "bgcolor": "white",
           "lakecolor": "white",
           "landcolor": "#E5ECF6",
           "showlakes": true,
           "showland": true,
           "subunitcolor": "white"
          },
          "hoverlabel": {
           "align": "left"
          },
          "hovermode": "closest",
          "mapbox": {
           "style": "light"
          },
          "paper_bgcolor": "white",
          "plot_bgcolor": "#E5ECF6",
          "polar": {
           "angularaxis": {
            "gridcolor": "white",
            "linecolor": "white",
            "ticks": ""
           },
           "bgcolor": "#E5ECF6",
           "radialaxis": {
            "gridcolor": "white",
            "linecolor": "white",
            "ticks": ""
           }
          },
          "scene": {
           "xaxis": {
            "backgroundcolor": "#E5ECF6",
            "gridcolor": "white",
            "gridwidth": 2,
            "linecolor": "white",
            "showbackground": true,
            "ticks": "",
            "zerolinecolor": "white"
           },
           "yaxis": {
            "backgroundcolor": "#E5ECF6",
            "gridcolor": "white",
            "gridwidth": 2,
            "linecolor": "white",
            "showbackground": true,
            "ticks": "",
            "zerolinecolor": "white"
           },
           "zaxis": {
            "backgroundcolor": "#E5ECF6",
            "gridcolor": "white",
            "gridwidth": 2,
            "linecolor": "white",
            "showbackground": true,
            "ticks": "",
            "zerolinecolor": "white"
           }
          },
          "shapedefaults": {
           "line": {
            "color": "#2a3f5f"
           }
          },
          "ternary": {
           "aaxis": {
            "gridcolor": "white",
            "linecolor": "white",
            "ticks": ""
           },
           "baxis": {
            "gridcolor": "white",
            "linecolor": "white",
            "ticks": ""
           },
           "bgcolor": "#E5ECF6",
           "caxis": {
            "gridcolor": "white",
            "linecolor": "white",
            "ticks": ""
           }
          },
          "title": {
           "x": 0.05
          },
          "xaxis": {
           "automargin": true,
           "gridcolor": "white",
           "linecolor": "white",
           "ticks": "",
           "title": {
            "standoff": 15
           },
           "zerolinecolor": "white",
           "zerolinewidth": 2
          },
          "yaxis": {
           "automargin": true,
           "gridcolor": "white",
           "linecolor": "white",
           "ticks": "",
           "title": {
            "standoff": 15
           },
           "zerolinecolor": "white",
           "zerolinewidth": 2
          }
         }
        },
        "width": 400,
        "xaxis": {
         "anchor": "y",
         "domain": [
          0,
          1
         ],
         "title": {
          "text": "x"
         }
        },
        "yaxis": {
         "anchor": "x",
         "domain": [
          0,
          1
         ],
         "title": {
          "text": "y"
         }
        }
       }
      }
     },
     "metadata": {},
     "output_type": "display_data"
    },
    {
     "data": {
      "application/vnd.plotly.v1+json": {
       "config": {
        "plotlyServerURL": "https://plot.ly"
       },
       "data": [
        {
         "hovertemplate": "x=%{x}<br>y=%{y}<br>signal=%{marker.color}<extra></extra>",
         "legendgroup": "",
         "marker": {
          "color": {
           "bdata": "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",
           "dtype": "f8"
          },
          "coloraxis": "coloraxis",
          "size": 6,
          "symbol": "circle"
         },
         "mode": "markers",
         "name": "",
         "orientation": "v",
         "showlegend": false,
         "type": "scatter",
         "x": {
          "bdata": "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",
          "dtype": "f8"
         },
         "xaxis": "x",
         "y": {
          "bdata": "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",
          "dtype": "f8"
         },
         "yaxis": "y"
        }
       ],
       "layout": {
        "coloraxis": {
         "colorbar": {
          "title": {
           "text": "signal"
          }
         },
         "colorscale": [
          [
           0,
           "#0d0887"
          ],
          [
           0.1111111111111111,
           "#46039f"
          ],
          [
           0.2222222222222222,
           "#7201a8"
          ],
          [
           0.3333333333333333,
           "#9c179e"
          ],
          [
           0.4444444444444444,
           "#bd3786"
          ],
          [
           0.5555555555555556,
           "#d8576b"
          ],
          [
           0.6666666666666666,
           "#ed7953"
          ],
          [
           0.7777777777777778,
           "#fb9f3a"
          ],
          [
           0.8888888888888888,
           "#fdca26"
          ],
          [
           1,
           "#f0f921"
          ]
         ]
        },
        "height": 400,
        "legend": {
         "tracegroupgap": 0
        },
        "margin": {
         "t": 60
        },
        "template": {
         "data": {
          "bar": [
           {
            "error_x": {
             "color": "#2a3f5f"
            },
            "error_y": {
             "color": "#2a3f5f"
            },
            "marker": {
             "line": {
              "color": "#E5ECF6",
              "width": 0.5
             },
             "pattern": {
              "fillmode": "overlay",
              "size": 10,
              "solidity": 0.2
             }
            },
            "type": "bar"
           }
          ],
          "barpolar": [
           {
            "marker": {
             "line": {
              "color": "#E5ECF6",
              "width": 0.5
             },
             "pattern": {
              "fillmode": "overlay",
              "size": 10,
              "solidity": 0.2
             }
            },
            "type": "barpolar"
           }
          ],
          "carpet": [
           {
            "aaxis": {
             "endlinecolor": "#2a3f5f",
             "gridcolor": "white",
             "linecolor": "white",
             "minorgridcolor": "white",
             "startlinecolor": "#2a3f5f"
            },
            "baxis": {
             "endlinecolor": "#2a3f5f",
             "gridcolor": "white",
             "linecolor": "white",
             "minorgridcolor": "white",
             "startlinecolor": "#2a3f5f"
            },
            "type": "carpet"
           }
          ],
          "choropleth": [
           {
            "colorbar": {
             "outlinewidth": 0,
             "ticks": ""
            },
            "type": "choropleth"
           }
          ],
          "contour": [
           {
            "colorbar": {
             "outlinewidth": 0,
             "ticks": ""
            },
            "colorscale": [
             [
              0,
              "#0d0887"
             ],
             [
              0.1111111111111111,
              "#46039f"
             ],
             [
              0.2222222222222222,
              "#7201a8"
             ],
             [
              0.3333333333333333,
              "#9c179e"
             ],
             [
              0.4444444444444444,
              "#bd3786"
             ],
             [
              0.5555555555555556,
              "#d8576b"
             ],
             [
              0.6666666666666666,
              "#ed7953"
             ],
             [
              0.7777777777777778,
              "#fb9f3a"
             ],
             [
              0.8888888888888888,
              "#fdca26"
             ],
             [
              1,
              "#f0f921"
             ]
            ],
            "type": "contour"
           }
          ],
          "contourcarpet": [
           {
            "colorbar": {
             "outlinewidth": 0,
             "ticks": ""
            },
            "type": "contourcarpet"
           }
          ],
          "heatmap": [
           {
            "colorbar": {
             "outlinewidth": 0,
             "ticks": ""
            },
            "colorscale": [
             [
              0,
              "#0d0887"
             ],
             [
              0.1111111111111111,
              "#46039f"
             ],
             [
              0.2222222222222222,
              "#7201a8"
             ],
             [
              0.3333333333333333,
              "#9c179e"
             ],
             [
              0.4444444444444444,
              "#bd3786"
             ],
             [
              0.5555555555555556,
              "#d8576b"
             ],
             [
              0.6666666666666666,
              "#ed7953"
             ],
             [
              0.7777777777777778,
              "#fb9f3a"
             ],
             [
              0.8888888888888888,
              "#fdca26"
             ],
             [
              1,
              "#f0f921"
             ]
            ],
            "type": "heatmap"
           }
          ],
          "histogram": [
           {
            "marker": {
             "pattern": {
              "fillmode": "overlay",
              "size": 10,
              "solidity": 0.2
             }
            },
            "type": "histogram"
           }
          ],
          "histogram2d": [
           {
            "colorbar": {
             "outlinewidth": 0,
             "ticks": ""
            },
            "colorscale": [
             [
              0,
              "#0d0887"
             ],
             [
              0.1111111111111111,
              "#46039f"
             ],
             [
              0.2222222222222222,
              "#7201a8"
             ],
             [
              0.3333333333333333,
              "#9c179e"
             ],
             [
              0.4444444444444444,
              "#bd3786"
             ],
             [
              0.5555555555555556,
              "#d8576b"
             ],
             [
              0.6666666666666666,
              "#ed7953"
             ],
             [
              0.7777777777777778,
              "#fb9f3a"
             ],
             [
              0.8888888888888888,
              "#fdca26"
             ],
             [
              1,
              "#f0f921"
             ]
            ],
            "type": "histogram2d"
           }
          ],
          "histogram2dcontour": [
           {
            "colorbar": {
             "outlinewidth": 0,
             "ticks": ""
            },
            "colorscale": [
             [
              0,
              "#0d0887"
             ],
             [
              0.1111111111111111,
              "#46039f"
             ],
             [
              0.2222222222222222,
              "#7201a8"
             ],
             [
              0.3333333333333333,
              "#9c179e"
             ],
             [
              0.4444444444444444,
              "#bd3786"
             ],
             [
              0.5555555555555556,
              "#d8576b"
             ],
             [
              0.6666666666666666,
              "#ed7953"
             ],
             [
              0.7777777777777778,
              "#fb9f3a"
             ],
             [
              0.8888888888888888,
              "#fdca26"
             ],
             [
              1,
              "#f0f921"
             ]
            ],
            "type": "histogram2dcontour"
           }
          ],
          "mesh3d": [
           {
            "colorbar": {
             "outlinewidth": 0,
             "ticks": ""
            },
            "type": "mesh3d"
           }
          ],
          "parcoords": [
           {
            "line": {
             "colorbar": {
              "outlinewidth": 0,
              "ticks": ""
             }
            },
            "type": "parcoords"
           }
          ],
          "pie": [
           {
            "automargin": true,
            "type": "pie"
           }
          ],
          "scatter": [
           {
            "fillpattern": {
             "fillmode": "overlay",
             "size": 10,
             "solidity": 0.2
            },
            "type": "scatter"
           }
          ],
          "scatter3d": [
           {
            "line": {
             "colorbar": {
              "outlinewidth": 0,
              "ticks": ""
             }
            },
            "marker": {
             "colorbar": {
              "outlinewidth": 0,
              "ticks": ""
             }
            },
            "type": "scatter3d"
           }
          ],
          "scattercarpet": [
           {
            "marker": {
             "colorbar": {
              "outlinewidth": 0,
              "ticks": ""
             }
            },
            "type": "scattercarpet"
           }
          ],
          "scattergeo": [
           {
            "marker": {
             "colorbar": {
              "outlinewidth": 0,
              "ticks": ""
             }
            },
            "type": "scattergeo"
           }
          ],
          "scattergl": [
           {
            "marker": {
             "colorbar": {
              "outlinewidth": 0,
              "ticks": ""
             }
            },
            "type": "scattergl"
           }
          ],
          "scattermap": [
           {
            "marker": {
             "colorbar": {
              "outlinewidth": 0,
              "ticks": ""
             }
            },
            "type": "scattermap"
           }
          ],
          "scattermapbox": [
           {
            "marker": {
             "colorbar": {
              "outlinewidth": 0,
              "ticks": ""
             }
            },
            "type": "scattermapbox"
           }
          ],
          "scatterpolar": [
           {
            "marker": {
             "colorbar": {
              "outlinewidth": 0,
              "ticks": ""
             }
            },
            "type": "scatterpolar"
           }
          ],
          "scatterpolargl": [
           {
            "marker": {
             "colorbar": {
              "outlinewidth": 0,
              "ticks": ""
             }
            },
            "type": "scatterpolargl"
           }
          ],
          "scatterternary": [
           {
            "marker": {
             "colorbar": {
              "outlinewidth": 0,
              "ticks": ""
             }
            },
            "type": "scatterternary"
           }
          ],
          "surface": [
           {
            "colorbar": {
             "outlinewidth": 0,
             "ticks": ""
            },
            "colorscale": [
             [
              0,
              "#0d0887"
             ],
             [
              0.1111111111111111,
              "#46039f"
             ],
             [
              0.2222222222222222,
              "#7201a8"
             ],
             [
              0.3333333333333333,
              "#9c179e"
             ],
             [
              0.4444444444444444,
              "#bd3786"
             ],
             [
              0.5555555555555556,
              "#d8576b"
             ],
             [
              0.6666666666666666,
              "#ed7953"
             ],
             [
              0.7777777777777778,
              "#fb9f3a"
             ],
             [
              0.8888888888888888,
              "#fdca26"
             ],
             [
              1,
              "#f0f921"
             ]
            ],
            "type": "surface"
           }
          ],
          "table": [
           {
            "cells": {
             "fill": {
              "color": "#EBF0F8"
             },
             "line": {
              "color": "white"
             }
            },
            "header": {
             "fill": {
              "color": "#C8D4E3"
             },
             "line": {
              "color": "white"
             }
            },
            "type": "table"
           }
          ]
         },
         "layout": {
          "annotationdefaults": {
           "arrowcolor": "#2a3f5f",
           "arrowhead": 0,
           "arrowwidth": 1
          },
          "autotypenumbers": "strict",
          "coloraxis": {
           "colorbar": {
            "outlinewidth": 0,
            "ticks": ""
           }
          },
          "colorscale": {
           "diverging": [
            [
             0,
             "#8e0152"
            ],
            [
             0.1,
             "#c51b7d"
            ],
            [
             0.2,
             "#de77ae"
            ],
            [
             0.3,
             "#f1b6da"
            ],
            [
             0.4,
             "#fde0ef"
            ],
            [
             0.5,
             "#f7f7f7"
            ],
            [
             0.6,
             "#e6f5d0"
            ],
            [
             0.7,
             "#b8e186"
            ],
            [
             0.8,
             "#7fbc41"
            ],
            [
             0.9,
             "#4d9221"
            ],
            [
             1,
             "#276419"
            ]
           ],
           "sequential": [
            [
             0,
             "#0d0887"
            ],
            [
             0.1111111111111111,
             "#46039f"
            ],
            [
             0.2222222222222222,
             "#7201a8"
            ],
            [
             0.3333333333333333,
             "#9c179e"
            ],
            [
             0.4444444444444444,
             "#bd3786"
            ],
            [
             0.5555555555555556,
             "#d8576b"
            ],
            [
             0.6666666666666666,
             "#ed7953"
            ],
            [
             0.7777777777777778,
             "#fb9f3a"
            ],
            [
             0.8888888888888888,
             "#fdca26"
            ],
            [
             1,
             "#f0f921"
            ]
           ],
           "sequentialminus": [
            [
             0,
             "#0d0887"
            ],
            [
             0.1111111111111111,
             "#46039f"
            ],
            [
             0.2222222222222222,
             "#7201a8"
            ],
            [
             0.3333333333333333,
             "#9c179e"
            ],
            [
             0.4444444444444444,
             "#bd3786"
            ],
            [
             0.5555555555555556,
             "#d8576b"
            ],
            [
             0.6666666666666666,
             "#ed7953"
            ],
            [
             0.7777777777777778,
             "#fb9f3a"
            ],
            [
             0.8888888888888888,
             "#fdca26"
            ],
            [
             1,
             "#f0f921"
            ]
           ]
          },
          "colorway": [
           "#636efa",
           "#EF553B",
           "#00cc96",
           "#ab63fa",
           "#FFA15A",
           "#19d3f3",
           "#FF6692",
           "#B6E880",
           "#FF97FF",
           "#FECB52"
          ],
          "font": {
           "color": "#2a3f5f"
          },
          "geo": {
           "bgcolor": "white",
           "lakecolor": "white",
           "landcolor": "#E5ECF6",
           "showlakes": true,
           "showland": true,
           "subunitcolor": "white"
          },
          "hoverlabel": {
           "align": "left"
          },
          "hovermode": "closest",
          "mapbox": {
           "style": "light"
          },
          "paper_bgcolor": "white",
          "plot_bgcolor": "#E5ECF6",
          "polar": {
           "angularaxis": {
            "gridcolor": "white",
            "linecolor": "white",
            "ticks": ""
           },
           "bgcolor": "#E5ECF6",
           "radialaxis": {
            "gridcolor": "white",
            "linecolor": "white",
            "ticks": ""
           }
          },
          "scene": {
           "xaxis": {
            "backgroundcolor": "#E5ECF6",
            "gridcolor": "white",
            "gridwidth": 2,
            "linecolor": "white",
            "showbackground": true,
            "ticks": "",
            "zerolinecolor": "white"
           },
           "yaxis": {
            "backgroundcolor": "#E5ECF6",
            "gridcolor": "white",
            "gridwidth": 2,
            "linecolor": "white",
            "showbackground": true,
            "ticks": "",
            "zerolinecolor": "white"
           },
           "zaxis": {
            "backgroundcolor": "#E5ECF6",
            "gridcolor": "white",
            "gridwidth": 2,
            "linecolor": "white",
            "showbackground": true,
            "ticks": "",
            "zerolinecolor": "white"
           }
          },
          "shapedefaults": {
           "line": {
            "color": "#2a3f5f"
           }
          },
          "ternary": {
           "aaxis": {
            "gridcolor": "white",
            "linecolor": "white",
            "ticks": ""
           },
           "baxis": {
            "gridcolor": "white",
            "linecolor": "white",
            "ticks": ""
           },
           "bgcolor": "#E5ECF6",
           "caxis": {
            "gridcolor": "white",
            "linecolor": "white",
            "ticks": ""
           }
          },
          "title": {
           "x": 0.05
          },
          "xaxis": {
           "automargin": true,
           "gridcolor": "white",
           "linecolor": "white",
           "ticks": "",
           "title": {
            "standoff": 15
           },
           "zerolinecolor": "white",
           "zerolinewidth": 2
          },
          "yaxis": {
           "automargin": true,
           "gridcolor": "white",
           "linecolor": "white",
           "ticks": "",
           "title": {
            "standoff": 15
           },
           "zerolinecolor": "white",
           "zerolinewidth": 2
          }
         }
        },
        "width": 400,
        "xaxis": {
         "anchor": "y",
         "domain": [
          0,
          1
         ],
         "title": {
          "text": "x"
         }
        },
        "yaxis": {
         "anchor": "x",
         "domain": [
          0,
          1
         ],
         "title": {
          "text": "y"
         }
        }
       }
      }
     },
     "metadata": {},
     "output_type": "display_data"
    },
    {
     "data": {
      "application/vnd.plotly.v1+json": {
       "config": {
        "plotlyServerURL": "https://plot.ly"
       },
       "data": [
        {
         "hovertemplate": "x=%{x}<br>y=%{y}<br>signal=%{marker.color}<extra></extra>",
         "legendgroup": "",
         "marker": {
          "color": {
           "bdata": "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",
           "dtype": "f8"
          },
          "coloraxis": "coloraxis",
          "size": 6,
          "symbol": "circle"
         },
         "mode": "markers",
         "name": "",
         "orientation": "v",
         "showlegend": false,
         "type": "scatter",
         "x": {
          "bdata": "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",
          "dtype": "f8"
         },
         "xaxis": "x",
         "y": {
          "bdata": "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",
          "dtype": "f8"
         },
         "yaxis": "y"
        }
       ],
       "layout": {
        "coloraxis": {
         "colorbar": {
          "title": {
           "text": "signal"
          }
         },
         "colorscale": [
          [
           0,
           "#0d0887"
          ],
          [
           0.1111111111111111,
           "#46039f"
          ],
          [
           0.2222222222222222,
           "#7201a8"
          ],
          [
           0.3333333333333333,
           "#9c179e"
          ],
          [
           0.4444444444444444,
           "#bd3786"
          ],
          [
           0.5555555555555556,
           "#d8576b"
          ],
          [
           0.6666666666666666,
           "#ed7953"
          ],
          [
           0.7777777777777778,
           "#fb9f3a"
          ],
          [
           0.8888888888888888,
           "#fdca26"
          ],
          [
           1,
           "#f0f921"
          ]
         ]
        },
        "height": 400,
        "legend": {
         "tracegroupgap": 0
        },
        "margin": {
         "t": 60
        },
        "template": {
         "data": {
          "bar": [
           {
            "error_x": {
             "color": "#2a3f5f"
            },
            "error_y": {
             "color": "#2a3f5f"
            },
            "marker": {
             "line": {
              "color": "#E5ECF6",
              "width": 0.5
             },
             "pattern": {
              "fillmode": "overlay",
              "size": 10,
              "solidity": 0.2
             }
            },
            "type": "bar"
           }
          ],
          "barpolar": [
           {
            "marker": {
             "line": {
              "color": "#E5ECF6",
              "width": 0.5
             },
             "pattern": {
              "fillmode": "overlay",
              "size": 10,
              "solidity": 0.2
             }
            },
            "type": "barpolar"
           }
          ],
          "carpet": [
           {
            "aaxis": {
             "endlinecolor": "#2a3f5f",
             "gridcolor": "white",
             "linecolor": "white",
             "minorgridcolor": "white",
             "startlinecolor": "#2a3f5f"
            },
            "baxis": {
             "endlinecolor": "#2a3f5f",
             "gridcolor": "white",
             "linecolor": "white",
             "minorgridcolor": "white",
             "startlinecolor": "#2a3f5f"
            },
            "type": "carpet"
           }
          ],
          "choropleth": [
           {
            "colorbar": {
             "outlinewidth": 0,
             "ticks": ""
            },
            "type": "choropleth"
           }
          ],
          "contour": [
           {
            "colorbar": {
             "outlinewidth": 0,
             "ticks": ""
            },
            "colorscale": [
             [
              0,
              "#0d0887"
             ],
             [
              0.1111111111111111,
              "#46039f"
             ],
             [
              0.2222222222222222,
              "#7201a8"
             ],
             [
              0.3333333333333333,
              "#9c179e"
             ],
             [
              0.4444444444444444,
              "#bd3786"
             ],
             [
              0.5555555555555556,
              "#d8576b"
             ],
             [
              0.6666666666666666,
              "#ed7953"
             ],
             [
              0.7777777777777778,
              "#fb9f3a"
             ],
             [
              0.8888888888888888,
              "#fdca26"
             ],
             [
              1,
              "#f0f921"
             ]
            ],
            "type": "contour"
           }
          ],
          "contourcarpet": [
           {
            "colorbar": {
             "outlinewidth": 0,
             "ticks": ""
            },
            "type": "contourcarpet"
           }
          ],
          "heatmap": [
           {
            "colorbar": {
             "outlinewidth": 0,
             "ticks": ""
            },
            "colorscale": [
             [
              0,
              "#0d0887"
             ],
             [
              0.1111111111111111,
              "#46039f"
             ],
             [
              0.2222222222222222,
              "#7201a8"
             ],
             [
              0.3333333333333333,
              "#9c179e"
             ],
             [
              0.4444444444444444,
              "#bd3786"
             ],
             [
              0.5555555555555556,
              "#d8576b"
             ],
             [
              0.6666666666666666,
              "#ed7953"
             ],
             [
              0.7777777777777778,
              "#fb9f3a"
             ],
             [
              0.8888888888888888,
              "#fdca26"
             ],
             [
              1,
              "#f0f921"
             ]
            ],
            "type": "heatmap"
           }
          ],
          "histogram": [
           {
            "marker": {
             "pattern": {
              "fillmode": "overlay",
              "size": 10,
              "solidity": 0.2
             }
            },
            "type": "histogram"
           }
          ],
          "histogram2d": [
           {
            "colorbar": {
             "outlinewidth": 0,
             "ticks": ""
            },
            "colorscale": [
             [
              0,
              "#0d0887"
             ],
             [
              0.1111111111111111,
              "#46039f"
             ],
             [
              0.2222222222222222,
              "#7201a8"
             ],
             [
              0.3333333333333333,
              "#9c179e"
             ],
             [
              0.4444444444444444,
              "#bd3786"
             ],
             [
              0.5555555555555556,
              "#d8576b"
             ],
             [
              0.6666666666666666,
              "#ed7953"
             ],
             [
              0.7777777777777778,
              "#fb9f3a"
             ],
             [
              0.8888888888888888,
              "#fdca26"
             ],
             [
              1,
              "#f0f921"
             ]
            ],
            "type": "histogram2d"
           }
          ],
          "histogram2dcontour": [
           {
            "colorbar": {
             "outlinewidth": 0,
             "ticks": ""
            },
            "colorscale": [
             [
              0,
              "#0d0887"
             ],
             [
              0.1111111111111111,
              "#46039f"
             ],
             [
              0.2222222222222222,
              "#7201a8"
             ],
             [
              0.3333333333333333,
              "#9c179e"
             ],
             [
              0.4444444444444444,
              "#bd3786"
             ],
             [
              0.5555555555555556,
              "#d8576b"
             ],
             [
              0.6666666666666666,
              "#ed7953"
             ],
             [
              0.7777777777777778,
              "#fb9f3a"
             ],
             [
              0.8888888888888888,
              "#fdca26"
             ],
             [
              1,
              "#f0f921"
             ]
            ],
            "type": "histogram2dcontour"
           }
          ],
          "mesh3d": [
           {
            "colorbar": {
             "outlinewidth": 0,
             "ticks": ""
            },
            "type": "mesh3d"
           }
          ],
          "parcoords": [
           {
            "line": {
             "colorbar": {
              "outlinewidth": 0,
              "ticks": ""
             }
            },
            "type": "parcoords"
           }
          ],
          "pie": [
           {
            "automargin": true,
            "type": "pie"
           }
          ],
          "scatter": [
           {
            "fillpattern": {
             "fillmode": "overlay",
             "size": 10,
             "solidity": 0.2
            },
            "type": "scatter"
           }
          ],
          "scatter3d": [
           {
            "line": {
             "colorbar": {
              "outlinewidth": 0,
              "ticks": ""
             }
            },
            "marker": {
             "colorbar": {
              "outlinewidth": 0,
              "ticks": ""
             }
            },
            "type": "scatter3d"
           }
          ],
          "scattercarpet": [
           {
            "marker": {
             "colorbar": {
              "outlinewidth": 0,
              "ticks": ""
             }
            },
            "type": "scattercarpet"
           }
          ],
          "scattergeo": [
           {
            "marker": {
             "colorbar": {
              "outlinewidth": 0,
              "ticks": ""
             }
            },
            "type": "scattergeo"
           }
          ],
          "scattergl": [
           {
            "marker": {
             "colorbar": {
              "outlinewidth": 0,
              "ticks": ""
             }
            },
            "type": "scattergl"
           }
          ],
          "scattermap": [
           {
            "marker": {
             "colorbar": {
              "outlinewidth": 0,
              "ticks": ""
             }
            },
            "type": "scattermap"
           }
          ],
          "scattermapbox": [
           {
            "marker": {
             "colorbar": {
              "outlinewidth": 0,
              "ticks": ""
             }
            },
            "type": "scattermapbox"
           }
          ],
          "scatterpolar": [
           {
            "marker": {
             "colorbar": {
              "outlinewidth": 0,
              "ticks": ""
             }
            },
            "type": "scatterpolar"
           }
          ],
          "scatterpolargl": [
           {
            "marker": {
             "colorbar": {
              "outlinewidth": 0,
              "ticks": ""
             }
            },
            "type": "scatterpolargl"
           }
          ],
          "scatterternary": [
           {
            "marker": {
             "colorbar": {
              "outlinewidth": 0,
              "ticks": ""
             }
            },
            "type": "scatterternary"
           }
          ],
          "surface": [
           {
            "colorbar": {
             "outlinewidth": 0,
             "ticks": ""
            },
            "colorscale": [
             [
              0,
              "#0d0887"
             ],
             [
              0.1111111111111111,
              "#46039f"
             ],
             [
              0.2222222222222222,
              "#7201a8"
             ],
             [
              0.3333333333333333,
              "#9c179e"
             ],
             [
              0.4444444444444444,
              "#bd3786"
             ],
             [
              0.5555555555555556,
              "#d8576b"
             ],
             [
              0.6666666666666666,
              "#ed7953"
             ],
             [
              0.7777777777777778,
              "#fb9f3a"
             ],
             [
              0.8888888888888888,
              "#fdca26"
             ],
             [
              1,
              "#f0f921"
             ]
            ],
            "type": "surface"
           }
          ],
          "table": [
           {
            "cells": {
             "fill": {
              "color": "#EBF0F8"
             },
             "line": {
              "color": "white"
             }
            },
            "header": {
             "fill": {
              "color": "#C8D4E3"
             },
             "line": {
              "color": "white"
             }
            },
            "type": "table"
           }
          ]
         },
         "layout": {
          "annotationdefaults": {
           "arrowcolor": "#2a3f5f",
           "arrowhead": 0,
           "arrowwidth": 1
          },
          "autotypenumbers": "strict",
          "coloraxis": {
           "colorbar": {
            "outlinewidth": 0,
            "ticks": ""
           }
          },
          "colorscale": {
           "diverging": [
            [
             0,
             "#8e0152"
            ],
            [
             0.1,
             "#c51b7d"
            ],
            [
             0.2,
             "#de77ae"
            ],
            [
             0.3,
             "#f1b6da"
            ],
            [
             0.4,
             "#fde0ef"
            ],
            [
             0.5,
             "#f7f7f7"
            ],
            [
             0.6,
             "#e6f5d0"
            ],
            [
             0.7,
             "#b8e186"
            ],
            [
             0.8,
             "#7fbc41"
            ],
            [
             0.9,
             "#4d9221"
            ],
            [
             1,
             "#276419"
            ]
           ],
           "sequential": [
            [
             0,
             "#0d0887"
            ],
            [
             0.1111111111111111,
             "#46039f"
            ],
            [
             0.2222222222222222,
             "#7201a8"
            ],
            [
             0.3333333333333333,
             "#9c179e"
            ],
            [
             0.4444444444444444,
             "#bd3786"
            ],
            [
             0.5555555555555556,
             "#d8576b"
            ],
            [
             0.6666666666666666,
             "#ed7953"
            ],
            [
             0.7777777777777778,
             "#fb9f3a"
            ],
            [
             0.8888888888888888,
             "#fdca26"
            ],
            [
             1,
             "#f0f921"
            ]
           ],
           "sequentialminus": [
            [
             0,
             "#0d0887"
            ],
            [
             0.1111111111111111,
             "#46039f"
            ],
            [
             0.2222222222222222,
             "#7201a8"
            ],
            [
             0.3333333333333333,
             "#9c179e"
            ],
            [
             0.4444444444444444,
             "#bd3786"
            ],
            [
             0.5555555555555556,
             "#d8576b"
            ],
            [
             0.6666666666666666,
             "#ed7953"
            ],
            [
             0.7777777777777778,
             "#fb9f3a"
            ],
            [
             0.8888888888888888,
             "#fdca26"
            ],
            [
             1,
             "#f0f921"
            ]
           ]
          },
          "colorway": [
           "#636efa",
           "#EF553B",
           "#00cc96",
           "#ab63fa",
           "#FFA15A",
           "#19d3f3",
           "#FF6692",
           "#B6E880",
           "#FF97FF",
           "#FECB52"
          ],
          "font": {
           "color": "#2a3f5f"
          },
          "geo": {
           "bgcolor": "white",
           "lakecolor": "white",
           "landcolor": "#E5ECF6",
           "showlakes": true,
           "showland": true,
           "subunitcolor": "white"
          },
          "hoverlabel": {
           "align": "left"
          },
          "hovermode": "closest",
          "mapbox": {
           "style": "light"
          },
          "paper_bgcolor": "white",
          "plot_bgcolor": "#E5ECF6",
          "polar": {
           "angularaxis": {
            "gridcolor": "white",
            "linecolor": "white",
            "ticks": ""
           },
           "bgcolor": "#E5ECF6",
           "radialaxis": {
            "gridcolor": "white",
            "linecolor": "white",
            "ticks": ""
           }
          },
          "scene": {
           "xaxis": {
            "backgroundcolor": "#E5ECF6",
            "gridcolor": "white",
            "gridwidth": 2,
            "linecolor": "white",
            "showbackground": true,
            "ticks": "",
            "zerolinecolor": "white"
           },
           "yaxis": {
            "backgroundcolor": "#E5ECF6",
            "gridcolor": "white",
            "gridwidth": 2,
            "linecolor": "white",
            "showbackground": true,
            "ticks": "",
            "zerolinecolor": "white"
           },
           "zaxis": {
            "backgroundcolor": "#E5ECF6",
            "gridcolor": "white",
            "gridwidth": 2,
            "linecolor": "white",
            "showbackground": true,
            "ticks": "",
            "zerolinecolor": "white"
           }
          },
          "shapedefaults": {
           "line": {
            "color": "#2a3f5f"
           }
          },
          "ternary": {
           "aaxis": {
            "gridcolor": "white",
            "linecolor": "white",
            "ticks": ""
           },
           "baxis": {
            "gridcolor": "white",
            "linecolor": "white",
            "ticks": ""
           },
           "bgcolor": "#E5ECF6",
           "caxis": {
            "gridcolor": "white",
            "linecolor": "white",
            "ticks": ""
           }
          },
          "title": {
           "x": 0.05
          },
          "xaxis": {
           "automargin": true,
           "gridcolor": "white",
           "linecolor": "white",
           "ticks": "",
           "title": {
            "standoff": 15
           },
           "zerolinecolor": "white",
           "zerolinewidth": 2
          },
          "yaxis": {
           "automargin": true,
           "gridcolor": "white",
           "linecolor": "white",
           "ticks": "",
           "title": {
            "standoff": 15
           },
           "zerolinecolor": "white",
           "zerolinewidth": 2
          }
         }
        },
        "width": 400,
        "xaxis": {
         "anchor": "y",
         "domain": [
          0,
          1
         ],
         "title": {
          "text": "x"
         }
        },
        "yaxis": {
         "anchor": "x",
         "domain": [
          0,
          1
         ],
         "title": {
          "text": "y"
         }
        }
       }
      }
     },
     "metadata": {},
     "output_type": "display_data"
    }
   ],
   "source": [
    "sde_solver = EulerMaruyamaSolver(sde=sde, n=100)\n",
    "with torch.no_grad():\n",
    "    x0_test_pred = sde_solver.sample_from_terminal(x0=x0_test, control=ModelControl(model))\n",
    "    test_w1 = wasserstein_distance(x0_test, x0_test_pred, p=1)\n",
    "    test_w2 = wasserstein_distance(x0_test, x0_test_pred, p=2)\n",
    "\n",
    "print(f\"Wasserstein-1 distance: {test_w1:.4f}\")\n",
    "print(f\"Wasserstein-2 distance: {test_w2:.4f}\")\n",
    "\n",
    "plot_brain_signal_2d(x0_test[0]);\n",
    "plot_brain_signal_2d(x0_test_pred[0]);\n",
    "plot_brain_signal_2d(x1_test[0]);"
   ]
  }
 ],
 "metadata": {
  "kernelspec": {
   "display_name": "topological-flow-matching",
   "language": "python",
   "name": "python3"
  },
  "language_info": {
   "codemirror_mode": {
    "name": "ipython",
    "version": 3
   },
   "file_extension": ".py",
   "mimetype": "text/x-python",
   "name": "python",
   "nbconvert_exporter": "python",
   "pygments_lexer": "ipython3",
   "version": "3.10.16"
  }
 },
 "nbformat": 4,
 "nbformat_minor": 5
}
