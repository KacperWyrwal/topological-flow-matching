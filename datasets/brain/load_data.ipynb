{
 "cells": [
  {
   "cell_type": "code",
   "execution_count": 2,
   "metadata": {},
   "outputs": [],
   "source": [
    "# load data from .mat files and save as .npy files\n",
    "import numpy as np\n",
    "import scipy.io as sio\n",
    "import os"
   ]
  },
  {
   "cell_type": "markdown",
   "metadata": {},
   "source": [
    "# Download data from the repository"
   ]
  },
  {
   "cell_type": "markdown",
   "metadata": {},
   "source": []
  },
  {
   "cell_type": "markdown",
   "metadata": {},
   "source": [
    "# Save in numpy "
   ]
  },
  {
   "cell_type": "code",
   "execution_count": 6,
   "metadata": {},
   "outputs": [],
   "source": [
    "# Load the Laplacian and the aligned and liberal data from mats\n",
    "lap = sio.loadmat('lap.mat')['L']\n",
    "x0 = sio.loadmat('aligned.mat')['Xa'].T\n",
    "x1 = sio.loadmat('liberal.mat')['Xl'].T\n",
    "\n",
    "\n",
    "# Save in numpy \n",
    "np.save('L.npy', lap)\n",
    "np.save('x0_aligned.npy', x0)\n",
    "np.save('x1_liberal.npy', x1)"
   ]
  },
  {
   "cell_type": "code",
   "execution_count": 6,
   "metadata": {},
   "outputs": [],
   "source": [
    "gs0 = sio.loadmat('aligned.mat')['Xa'].T"
   ]
  },
  {
   "cell_type": "code",
   "execution_count": 7,
   "metadata": {},
   "outputs": [
    {
     "data": {
      "text/plain": [
       "(1190, 360)"
      ]
     },
     "execution_count": 7,
     "metadata": {},
     "output_type": "execute_result"
    }
   ],
   "source": [
    "gs0.shape"
   ]
  },
  {
   "cell_type": "code",
   "execution_count": 8,
   "metadata": {},
   "outputs": [
    {
     "data": {
      "text/plain": [
       "array([[ 0.49883665, -0.0909878 , -0.59966557, ...,  0.04680829,\n",
       "         0.01430936,  0.11233516],\n",
       "       [ 0.22986517, -0.36300689, -0.50959378, ...,  0.24000986,\n",
       "         0.19802316, -0.02614435],\n",
       "       [-0.31650059, -0.25410349, -1.06411781, ..., -0.47874762,\n",
       "        -0.14882573, -0.14983521],\n",
       "       ...,\n",
       "       [-1.22307574, -0.16840713,  0.11769076, ...,  1.30113338,\n",
       "        -0.22878014, -0.50662943],\n",
       "       [-0.27345802,  0.15513852, -0.2179926 , ...,  0.83625187,\n",
       "         0.07921271, -0.20386731],\n",
       "       [ 0.26086728,  0.93082409,  0.3959319 , ...,  0.84146674,\n",
       "         0.344274  ,  0.04074061]], shape=(1190, 360))"
      ]
     },
     "execution_count": 8,
     "metadata": {},
     "output_type": "execute_result"
    }
   ],
   "source": [
    "gs0"
   ]
  }
 ],
 "metadata": {
  "kernelspec": {
   "display_name": "topological-flow-matching",
   "language": "python",
   "name": "python3"
  },
  "language_info": {
   "codemirror_mode": {
    "name": "ipython",
    "version": 3
   },
   "file_extension": ".py",
   "mimetype": "text/x-python",
   "name": "python",
   "nbconvert_exporter": "python",
   "pygments_lexer": "ipython3",
   "version": "3.10.16"
  }
 },
 "nbformat": 4,
 "nbformat_minor": 2
}
