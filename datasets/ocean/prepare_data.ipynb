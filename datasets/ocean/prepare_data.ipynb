{
 "cells": [
  {
   "cell_type": "markdown",
   "id": "f2580f46",
   "metadata": {},
   "source": [
    "# From other Maosheng repo"
   ]
  },
  {
   "cell_type": "code",
   "execution_count": 1,
   "id": "9a4226d9",
   "metadata": {},
   "outputs": [],
   "source": [
    "import numpy as np \n",
    "import pickle\n",
    "import torch"
   ]
  },
  {
   "cell_type": "code",
   "execution_count": 2,
   "id": "066ccea1",
   "metadata": {},
   "outputs": [],
   "source": [
    "with open('pacific_data_old.pkl', 'rb') as f:\n",
    "    laplacians, eigenvectors, eigenvalues, (b1, b2), _ = pickle.load(f)\n",
    "\n",
    "\n",
    "eigvecs, eigvals = eigenvectors, eigenvalues\n",
    "L1, L1_down, L1_up = laplacians\n",
    "B1, B2 = b1, b2"
   ]
  },
  {
   "cell_type": "code",
   "execution_count": 3,
   "id": "688ab61c",
   "metadata": {},
   "outputs": [],
   "source": [
    "total_var = []\n",
    "total_div = []\n",
    "total_curl = []\n",
    "num_eigemodes = len(eigvals)\n",
    "for i in range(num_eigemodes):\n",
    "    total_var.append(eigvecs[:, i].T @ L1 @ eigvecs[:, i])\n",
    "    total_div.append(eigvecs[:, i].T @ L1_down @ eigvecs[:, i])\n",
    "    total_curl.append(eigvecs[:, i].T @ L1_up @ eigvecs[:, i])\n",
    "    \n",
    "grad_eflow = np.where(np.array(total_div) >= 1e-4)[0]\n",
    "curl_eflow = np.where(np.array(total_curl) >= 1e-3)[0]\n",
    "harm_eflow = np.where(np.array(total_var) < 1e-6)[0]"
   ]
  },
  {
   "cell_type": "code",
   "execution_count": 4,
   "id": "ce3937bf",
   "metadata": {},
   "outputs": [
    {
     "name": "stderr",
     "output_type": "stream",
     "text": [
      "/tmp/ipykernel_82285/1614225355.py:5: UserWarning: Creating a tensor from a list of numpy.ndarrays is extremely slow. Please consider converting the list to a single numpy.ndarray with numpy.array() before converting to a tensor. (Triggered internally at /pytorch/torch/csrc/utils/tensor_new.cpp:254.)\n",
      "  L1 = torch.sparse_coo_tensor(L1.nonzero(), L1.data, L1.shape)\n"
     ]
    }
   ],
   "source": [
    "# tensor data type \n",
    "dtype = torch.float64\n",
    "\n",
    "# convert the laplacians first to a list then to torch sparse csr tensors\n",
    "L1 = torch.sparse_coo_tensor(L1.nonzero(), L1.data, L1.shape)\n",
    "L1_down = torch.sparse_coo_tensor(L1_down.nonzero(), L1_down.data, L1_down.shape)\n",
    "L1_up = torch.sparse_coo_tensor(L1_up.nonzero(), L1_up.data, L1_up.shape)\n",
    "\n",
    "grad_evectors = torch.tensor(eigvecs[:, grad_eflow], dtype=dtype)\n",
    "curl_evectors = torch.tensor(eigvecs[:, curl_eflow], dtype=dtype)\n",
    "harm_evectors = torch.tensor(eigvecs[:, harm_eflow], dtype=dtype)\n",
    "grad_evalues = torch.tensor(eigvals[grad_eflow], dtype=dtype)\n",
    "curl_evalues = torch.tensor(eigvals[curl_eflow], dtype=dtype)\n",
    "harm_evalues = torch.tensor(eigvals[harm_eflow], dtype=dtype)"
   ]
  },
  {
   "cell_type": "code",
   "execution_count": 5,
   "id": "528847c0",
   "metadata": {},
   "outputs": [
    {
     "name": "stdout",
     "output_type": "stream",
     "text": [
      "Foudn 94 grad eigemodes, 406 curl eigemodes, 0 harm eigemodes\n"
     ]
    }
   ],
   "source": [
    "print(f\"Foudn {len(grad_eflow)} grad eigemodes, {len(curl_eflow)} curl eigemodes, {len(harm_eflow)} harm eigemodes\")"
   ]
  },
  {
   "cell_type": "markdown",
   "id": "65e59af5",
   "metadata": {},
   "source": [
    "### Test against old eigenvectors"
   ]
  },
  {
   "cell_type": "code",
   "execution_count": 44,
   "id": "a2f8a850",
   "metadata": {},
   "outputs": [],
   "source": [
    "with open('./pacific_data1.pkl', 'rb') as f:\n",
    "    _, old_eigenvectors, old_eigenvalues, _, _ = pickle.load(f)\n",
    "\n",
    "\n",
    "assert np.allclose(eigenvectors, old_eigenvectors)\n",
    "assert np.allclose(eigenvalues, old_eigenvalues)"
   ]
  },
  {
   "cell_type": "markdown",
   "id": "03f1a398",
   "metadata": {},
   "source": [
    "### Save"
   ]
  },
  {
   "cell_type": "code",
   "execution_count": 64,
   "id": "34d0c06b",
   "metadata": {},
   "outputs": [],
   "source": [
    "grad_vecs_masked = grad_evectors.mT\n",
    "curl_vecs_masked = curl_evectors.mT\n",
    "harm_vecs_masked = harm_evectors.mT\n",
    "grad_vals_masked = grad_evalues\n",
    "curl_vals_masked = curl_evalues\n",
    "harm_vals_masked = harm_evalues\n",
    "\n",
    "\n",
    "torch.save({\n",
    "    'grad_vecs': grad_vecs_masked,\n",
    "    'curl_vecs': curl_vecs_masked,\n",
    "    'harm_vecs': harm_vecs_masked,\n",
    "    'grad_vals': grad_vals_masked,\n",
    "    'curl_vals': curl_vals_masked,\n",
    "    'harm_vals': harm_vals_masked\n",
    "}, 'ocean_hodge_basis.pt')"
   ]
  },
  {
   "cell_type": "markdown",
   "id": "f36f2bf8",
   "metadata": {},
   "source": [
    "# My reproduction\n",
    "Just scipy.sparse.linalg.eigs the Hodge Laplacian and that's it"
   ]
  },
  {
   "cell_type": "code",
   "execution_count": 170,
   "id": "cc7c5d59",
   "metadata": {},
   "outputs": [],
   "source": [
    "from topofm.distributions import Distribution\n",
    "\n",
    "\n",
    "class EdgeGP(Distribution):\n",
    "    \"\"\"\n",
    "    Zero-mean GP on edges of a 2-simplicial complex. \n",
    "    \"\"\"\n",
    "    def __init__(\n",
    "        self, \n",
    "        grad_vecs: torch.Tensor,\n",
    "        curl_vecs: torch.Tensor,\n",
    "        harm_vecs: torch.Tensor,\n",
    "        grad_vals: torch.Tensor,\n",
    "        curl_vals: torch.Tensor,\n",
    "        harm_vals: torch.Tensor,\n",
    "        gp_type: str = 'diffusion',\n",
    "        harm_sigma: float = 1.0, \n",
    "        grad_sigma: float = 1.0, \n",
    "        curl_sigma: float = 1.0, \n",
    "        harm_kappa: float = 1.0, \n",
    "        grad_kappa: float = 1.0, \n",
    "        curl_kappa: float = 1.0, \n",
    "    ):\n",
    "        \"\"\"\n",
    "        Args: \n",
    "            harm_evals: [A]\n",
    "            grad_evals: [B]\n",
    "            curl_evals: [C]\n",
    "            harm_evecs: [A, D]\n",
    "            grad_evecs: [B, D]\n",
    "            curl_evecs: [C, D]\n",
    "            gp_type: 'diffusion'\n",
    "        \"\"\"\n",
    "        super().__init__(validate_args=False)\n",
    "        self.gp_type = gp_type\n",
    "\n",
    "        # Harmonic forms \n",
    "        self.harm_variance = harm_sigma * torch.exp(- harm_kappa ** 2.0 / 2.0 * harm_vals) # [A]\n",
    "        self.grad_variance = grad_sigma * torch.exp(- grad_kappa ** 2.0 / 2.0 * grad_vals) # [B]\n",
    "        self.curl_variance = curl_sigma * torch.exp(- curl_kappa ** 2.0 / 2.0 * curl_vals) # [C]\n",
    "\n",
    "        # Reshape eigenvalues and spectral variance\n",
    "        self.spectral_variance = torch.concat([self.harm_variance, self.grad_variance, self.curl_variance], dim=0) # [A + B + C]\n",
    "        self.eigenvectors = torch.concat([harm_vecs, grad_vecs, curl_vecs], dim=0) # [A + B + C, D]\n",
    "        \n",
    "        # Shapes \n",
    "        self._batch_shape = torch.Size()\n",
    "        self._event_shape = self.spectral_variance.shape\n",
    "\n",
    "    def sample(self, shape: torch.Size):\n",
    "        return self.sample_spectral(shape)\n",
    "\n",
    "    def sample_spectral(self, shape: torch.Size):\n",
    "        \"\"\"\n",
    "        Sample spectral weights. \n",
    "\n",
    "        Args: \n",
    "            shape: [...]\n",
    "\n",
    "        returns: [..., 3M]\n",
    "        \"\"\"\n",
    "        epsilon = torch.randn(*shape, *self._event_shape) # [..., 3M]\n",
    "        return self.spectral_variance.sqrt() * epsilon # [..., 3M]\n",
    "        \n",
    "    def sample_euclidean(self, shape: torch.Size):\n",
    "        spectral_samples = self.sample_spectral(shape) # [..., 3M]\n",
    "        return torch.einsum('md, ...m -> ...d', self.eigenvectors, spectral_samples)"
   ]
  },
  {
   "cell_type": "code",
   "execution_count": 171,
   "id": "3a316915",
   "metadata": {},
   "outputs": [],
   "source": [
    "payload = torch.load('ocean_hodge_basis.pt')\n",
    "\n",
    "\"\"\"\n",
    "initial_gp:\n",
    "  type: 'diffusion'\n",
    "  harm_sigma: 1e-5\n",
    "  grad_sigma: 11.808\n",
    "  curl_sigma: 12.6\n",
    "  harm_kappa: 0.0\n",
    "  grad_kappa: 10.36\n",
    "  curl_kappa: 9.53\n",
    "\n",
    "# Terminal GP\n",
    "terminal_gp: \n",
    "  type: 'diffusion'\n",
    "  harm_sigma: 1e-5\n",
    "  grad_sigma: 1.0\n",
    "  curl_sigma: 1e-5\n",
    "  harm_kappa: 0.0\n",
    "  grad_kappa: 10.0\n",
    "  curl_kappa: 0.0\n",
    "\"\"\"\n",
    "\n",
    "init_gp_args = {\n",
    "    'gp_type': 'diffusion',\n",
    "    'harm_sigma': 1e-5,\n",
    "    'grad_sigma': 11.808,\n",
    "    'curl_sigma': 12.6,\n",
    "    'harm_kappa': 0.0,\n",
    "    'grad_kappa': 10.36,\n",
    "    'curl_kappa': 9.53,\n",
    "}\n",
    "\n",
    "terminal_gp_args = {\n",
    "    'gp_type': 'diffusion',\n",
    "    'harm_sigma': 1e-5,\n",
    "    'grad_sigma': 1.0,\n",
    "    'curl_sigma': 1e-5,\n",
    "    'harm_kappa': 0.0,\n",
    "    'grad_kappa': 10.0,\n",
    "    'curl_kappa': 0.0,\n",
    "}\n",
    "\n",
    "init_gp = EdgeGP(**payload, **init_gp_args)\n",
    "terminal_gp = EdgeGP(**payload, **terminal_gp_args)"
   ]
  },
  {
   "cell_type": "code",
   "execution_count": 172,
   "id": "3171fc65",
   "metadata": {},
   "outputs": [],
   "source": [
    "class HodgeBasis:\n",
    "    def __init__(self, b1, b2, eigenbasis=None, laplacians=None):\n",
    "        self.b1 = b1\n",
    "        self.b2 = b2\n",
    "        if laplacians is not None:\n",
    "            self.L1, self.L1_down, self.L1_up = laplacians\n",
    "        else:\n",
    "            raise ValueError(\"Laplacians must be provided\")\n",
    "        if eigenbasis is not None:\n",
    "            self.eig_evecs, self.eig_vals = eigenbasis\n",
    "        else:\n",
    "            raise ValueError(\"Eigenbasis must be provided\")\n",
    "\n",
    "        self.grad_idx, self.curl_idx, self.harm_idx = self.get_hodge_idx\n",
    "\n",
    "    @property\n",
    "    def get_hodge_idx(self):\n",
    "        try:\n",
    "            return self.grad_idx, self.curl_idx, self.harm_idx\n",
    "        except AttributeError:\n",
    "            total_var, total_div, total_curl = [], [], []\n",
    "            for i in range(self.eig_vals.shape[0]):\n",
    "                total_var.append(self.eig_evecs[:,i].T@self.L1@self.eig_evecs[:,i])\n",
    "                total_div.append(self.eig_evecs[:,i].T@self.L1_down@self.eig_evecs[:,i])\n",
    "                total_curl.append(self.eig_evecs[:,i].T@self.L1_up@self.eig_evecs[:,i]) \n",
    "\n",
    "            eps = 1e-6\n",
    "            grad_idx = np.where(np.array(total_div) >= eps)[0]\n",
    "            curl_idx = np.where(np.array(total_curl) >= eps)[0]\n",
    "            harm_idx = np.where(np.array(total_var) < eps)[0]\n",
    "            assert len(grad_idx) + len(curl_idx) + len(harm_idx) == self.eig_vals.shape[0]\n",
    "            return grad_idx, curl_idx, harm_idx\n",
    "\n",
    "    @property\n",
    "    def get_hodge_basis(self):\n",
    "        grad_evecs = self.eig_evecs[:, self.grad_idx]\n",
    "        curl_evecs = self.eig_evecs[:, self.curl_idx]\n",
    "        harm_evecs = self.eig_evecs[:, self.harm_idx]\n",
    "        return harm_evecs, grad_evecs, curl_evecs \n",
    "    \n",
    "    @property\n",
    "    def get_hodge_eig_vals(self):\n",
    "        grad_evals = self.eig_vals[self.grad_idx]\n",
    "        curl_evals = self.eig_vals[self.curl_idx]\n",
    "        harm_evals = self.eig_vals[self.harm_idx]\n",
    "        return harm_evals, grad_evals, curl_evals\n",
    "\n",
    "\n",
    "\n",
    "class OceanGP:\n",
    "    def __init__(self, batch_size, eigen_basis, gp_params):\n",
    "        self.harm_evals, self.grad_evals, self.curl_evals = eigen_basis.get_hodge_eig_vals\n",
    "        self.harm_evecs, self.grad_evecs, self.curl_evecs = eigen_basis.get_hodge_basis\n",
    "        self.batch_size = batch_size\n",
    "\n",
    "        self.gp_type = gp_params['gp_type']\n",
    "        self.mean = gp_params['mean']\n",
    "        self.harm_sigma2 = gp_params['harm_sigma']\n",
    "        self.grad_sigma2 = gp_params['grad_sigma']\n",
    "        self.curl_sigma2 = gp_params['curl_sigma']\n",
    "        self.harm_kappa = gp_params['harm_kappa']\n",
    "        self.grad_kappa = gp_params['grad_kappa']\n",
    "        self.curl_kappa = gp_params['curl_kappa']\n",
    "        self.alpha = gp_params['alpha']\n",
    "        if self.gp_type == 'matern':\n",
    "               self.harm_nu = gp_params['harm_nu']\n",
    "               self.grad_nu = gp_params['grad_nu']\n",
    "               self.curl_nu = gp_params['curl_nu']   \n",
    "               \n",
    "        \n",
    "    def get_cov_spectral(self):\n",
    "        if self.gp_type == 'diffusion':\n",
    "            harm_cov = self.harm_sigma2 *  np.exp(- self.harm_kappa**2/2 * self.harm_evals)\n",
    "            grad_cov = self.grad_sigma2 *  np.exp(- self.grad_kappa**2/2 * self.grad_evals)\n",
    "            curl_cov = self.curl_sigma2 *  np.exp(- self.curl_kappa**2/2 * self.curl_evals)\n",
    "        elif self.gp_type == 'matern':\n",
    "            harm_cov = self.harm_sigma2 * (2*self.hamr_nu/self.harm_kappa**2 + self.harm_evals)**(self.harm_nu/2)\n",
    "            grad_cov = self.grad_sigma2 * (2*self.grad_nu/self.grad_kappa**2 + self.grad_evals)**(self.grad_nu/2)\n",
    "            curl_cov = self.curl_sigma2 * (2*self.curl_nu/self.curl_kappa**2 + self.curl_evals)**(self.curl_nu/2)\n",
    "            \n",
    "        return np.concatenate([harm_cov, grad_cov, curl_cov])\n",
    "        \n",
    "    def sample(self, if_seed=True):\n",
    "        n = self.batch_size\n",
    "        cov_spectral = self.get_cov_spectral()\n",
    "        hodge_evecs = np.concatenate([self.harm_evecs, self.grad_evecs, self.curl_evecs], axis=1)\n",
    "        ocean_samples = ocean_sampler_gp(self.mean, cov_spectral, hodge_evecs, n, if_seed)\n",
    "        return torch.Tensor(ocean_samples) \n",
    "\n",
    "\n",
    "def ocean_sampler_gp(mean, cov_spectral, hodge_evecs, sample_size, if_seed=False, seed=True):\n",
    "    '''use this to sample from the GP for initial distribution '''\n",
    "    n_spectrals = cov_spectral.shape[0]\n",
    "    if if_seed:\n",
    "        np.random.seed(seed)\n",
    "        print(\"fix seed: {}\".format(seed))\n",
    "    v = np.random.multivariate_normal(np.zeros(n_spectrals), np.eye(n_spectrals), sample_size)\n",
    "    assert v.shape == (sample_size,) + (n_spectrals,)\n",
    "    ocean_flows = mean[:,None] + hodge_evecs @ (np.sqrt(cov_spectral)[:, None] * v.T)\n",
    "    return ocean_flows.T"
   ]
  },
  {
   "cell_type": "code",
   "execution_count": 173,
   "id": "8eb1aa77",
   "metadata": {},
   "outputs": [],
   "source": [
    "with open('pacific_data_old.pkl', 'rb') as f:\n",
    "    laplacians, eigenvectors, eigenvalues, (b1, b2), _ = pickle.load(f)\n",
    "\n",
    "eigvecs, eigvals = eigenvectors, eigenvalues\n",
    "L1, L1_down, L1_up = laplacians\n",
    "B1, B2 = b1, b2\n",
    "\n",
    "\n",
    "mean = np.zeros(19023)\n",
    "\n",
    "eigenbasis = HodgeBasis(\n",
    "    b1=B1,\n",
    "    b2=B2,\n",
    "    laplacians=(L1, L1_down, L1_up),\n",
    "    eigenbasis=[\n",
    "        eigvecs,\n",
    "        eigvals,\n",
    "    ],\n",
    ")\n",
    "\n",
    "\n",
    "\n",
    "init_ocean_gp = OceanGP(\n",
    "    batch_size=512,\n",
    "    eigen_basis=eigenbasis,\n",
    "    gp_params={\n",
    "        'gp_type': 'diffusion',\n",
    "        'mean': mean,\n",
    "        'harm_sigma': 1e-5,\n",
    "        'grad_sigma': 11.808,\n",
    "        'curl_sigma': 12.6,\n",
    "        'harm_kappa': 0.0,\n",
    "        'grad_kappa': 10.36,\n",
    "        'curl_kappa': 9.53,\n",
    "        'alpha': 0.0,\n",
    "        'harm_nu': 0.0,\n",
    "        'grad_nu': 0.0,\n",
    "        'curl_nu': 0.0,\n",
    "    }\n",
    ")\n",
    "\n",
    "\n",
    "terminal_ocean_gp = OceanGP(\n",
    "    batch_size=512,\n",
    "    eigen_basis=eigenbasis,\n",
    "    gp_params={\n",
    "        'gp_type': 'diffusion',\n",
    "        'mean': mean,\n",
    "        'harm_sigma': 1e-5,\n",
    "        'grad_sigma': 1.0,\n",
    "        'curl_sigma': 1e-5,\n",
    "        'harm_kappa': 0.0,\n",
    "        'grad_kappa': 10.0,\n",
    "        'curl_kappa': 0.0,\n",
    "        'alpha': 0.0,\n",
    "        'harm_nu': 0.0,\n",
    "        'grad_nu': 0.0,\n",
    "        'curl_nu': 0.0,\n",
    "    }\n",
    ")\n",
    "\n",
    "\n",
    "assert torch.allclose(torch.as_tensor(init_ocean_gp.get_cov_spectral()), init_gp.spectral_variance)"
   ]
  },
  {
   "cell_type": "code",
   "execution_count": 174,
   "id": "e47c16d4",
   "metadata": {},
   "outputs": [
    {
     "name": "stdout",
     "output_type": "stream",
     "text": [
      "fix seed: True\n"
     ]
    },
    {
     "data": {
      "text/plain": [
       "(tensor(0.0067),\n",
       " tensor(0.2611, dtype=torch.float64),\n",
       " tensor(0.0067, dtype=torch.float64))"
      ]
     },
     "execution_count": 174,
     "metadata": {},
     "output_type": "execute_result"
    }
   ],
   "source": [
    "batch_size = torch.Size([512])\n",
    "\n",
    "sample_ocean = init_ocean_gp.sample()\n",
    "sample_my = init_gp.sample(batch_size)\n",
    "sample_my_euclidean = init_gp.sample_euclidean(batch_size)\n",
    "\n",
    "sample_ocean.var(), sample_my.var(), sample_my_euclidean.var()"
   ]
  },
  {
   "cell_type": "code",
   "execution_count": null,
   "id": "cdd46f22",
   "metadata": {},
   "outputs": [],
   "source": []
  },
  {
   "cell_type": "code",
   "execution_count": 155,
   "id": "22837c76",
   "metadata": {},
   "outputs": [
    {
     "data": {
      "text/plain": [
       "(tensor(1.1220e-05),\n",
       " tensor(-0.0002, dtype=torch.float64),\n",
       " tensor(2.2567e-06, dtype=torch.float64))"
      ]
     },
     "execution_count": 155,
     "metadata": {},
     "output_type": "execute_result"
    }
   ],
   "source": [
    "sample_ocean.mean(), sample_my.mean(), sample_my_euclidean.mean()"
   ]
  },
  {
   "cell_type": "code",
   "execution_count": null,
   "id": "15e04743",
   "metadata": {},
   "outputs": [
    {
     "data": {
      "text/plain": [
       "(tensor(0.0067),\n",
       " tensor(1.3584, dtype=torch.float64),\n",
       " tensor(0.0356, dtype=torch.float64))"
      ]
     },
     "execution_count": 160,
     "metadata": {},
     "output_type": "execute_result"
    }
   ],
   "source": []
  }
 ],
 "metadata": {
  "kernelspec": {
   "display_name": "topological-flow-matching",
   "language": "python",
   "name": "python3"
  },
  "language_info": {
   "codemirror_mode": {
    "name": "ipython",
    "version": 3
   },
   "file_extension": ".py",
   "mimetype": "text/x-python",
   "name": "python",
   "nbconvert_exporter": "python",
   "pygments_lexer": "ipython3",
   "version": "3.10.16"
  }
 },
 "nbformat": 4,
 "nbformat_minor": 5
}
