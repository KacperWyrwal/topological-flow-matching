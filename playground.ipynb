{
 "cells": [
  {
   "cell_type": "code",
   "execution_count": 7,
   "id": "3c34d0d2",
   "metadata": {},
   "outputs": [],
   "source": [
    "class A: \n",
    "    def __init__(self, a) -> None:\n",
    "        self.a = a\n",
    "\n",
    "class B: \n",
    "    def __init__(self, b=None) -> None:\n",
    "        self.b = b\n",
    "\n",
    "    def bar(self, b):\n",
    "        pass\n",
    "    \n",
    "class C(A, B):\n",
    "    def __init__(self, a) -> None:\n",
    "        super().__init__(a)\n",
    "    \n",
    "    def bar(self, b):\n",
    "        res = type(self)(self.a)\n",
    "        B.__init__(res, b)\n",
    "        return res"
   ]
  },
  {
   "cell_type": "code",
   "execution_count": 9,
   "id": "e41363a8",
   "metadata": {},
   "outputs": [
    {
     "data": {
      "text/plain": [
       "(1, 2)"
      ]
     },
     "execution_count": 9,
     "metadata": {},
     "output_type": "execute_result"
    }
   ],
   "source": [
    "res = C(1).bar(2)\n",
    "res.a, res.b"
   ]
  }
 ],
 "metadata": {
  "kernelspec": {
   "display_name": "topological-flow-matching",
   "language": "python",
   "name": "python3"
  },
  "language_info": {
   "codemirror_mode": {
    "name": "ipython",
    "version": 3
   },
   "file_extension": ".py",
   "mimetype": "text/x-python",
   "name": "python",
   "nbconvert_exporter": "python",
   "pygments_lexer": "ipython3",
   "version": "3.10.16"
  }
 },
 "nbformat": 4,
 "nbformat_minor": 5
}
